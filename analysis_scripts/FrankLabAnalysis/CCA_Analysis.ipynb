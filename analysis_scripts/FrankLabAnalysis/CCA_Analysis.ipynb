{
 "cells": [
  {
   "cell_type": "code",
   "execution_count": 36,
   "metadata": {},
   "outputs": [],
   "source": [
    "import pickle\n",
    "import pandas as pd\n",
    "import numpy as np\n",
    "import itertools\n",
    "import matplotlib.pyplot as plt\n",
    "import glob as glob\n",
    "import os\n",
    "import scipy\n",
    "import sys; sys.path.append('/home/marcush/projects/neural_control/analysis_scripts/turnkey')\n",
    "\n",
    "from dca.cov_util import form_lag_matrix, calc_cross_cov_mats_from_data\n",
    "from config import PATH_DICT; sys.path.append(PATH_DICT['repo'])\n",
    "from region_select import *\n",
    "from loaders import load_franklab_new\n",
    "from utils import calc_loadings\n",
    "from collections import defaultdict\n",
    "from sklearn.cross_decomposition import CCA\n",
    "from sklearn.model_selection import KFold\n",
    "\n",
    "\n",
    "# New\n",
    "import numpy as np\n",
    "import matplotlib.pyplot as plt\n",
    "import time\n",
    "import sys\n",
    "import pickle\n",
    "from tqdm import tqdm\n",
    "from sklearn.decomposition import PCA\n",
    "from sklearn.cross_decomposition import CCA\n",
    "from sklearn.model_selection import KFold\n",
    "from dca.cov_util import form_lag_matrix, calc_cross_cov_mats_from_data\n",
    "import glob\n",
    "import pdb\n",
    "from statsmodels.tsa import stattools\n",
    "from mpi4py import MPI"
   ]
  },
  {
   "cell_type": "markdown",
   "metadata": {},
   "source": [
    "### Load consolidated decoding dataframe"
   ]
  },
  {
   "cell_type": "code",
   "execution_count": 37,
   "metadata": {},
   "outputs": [],
   "source": [
    "decoding_glom_path = '/home/marcush/Data/FrankLabData/neural_control_output/decoding_fullarg_frank_lab/decoding_fullarg_frank_lab_glom.pickle'\n",
    "with open(decoding_glom_path, 'rb') as f:\n",
    "    dat = pickle.load(f) \n",
    "\n",
    "df_decode = pd.DataFrame(dat)"
   ]
  },
  {
   "cell_type": "markdown",
   "metadata": {},
   "source": [
    "# Get data and perform CCA"
   ]
  },
  {
   "cell_type": "markdown",
   "metadata": {},
   "source": [
    "# This only works for one session. Could adjust this for multi-sessions..."
   ]
  },
  {
   "cell_type": "code",
   "execution_count": 86,
   "metadata": {},
   "outputs": [
    {
     "name": "stdout",
     "output_type": "stream",
     "text": [
      "FILTERING SPIKE RATES!\n",
      "FILTERING SPIKE RATES!\n",
      "Done with fold 1\n",
      "Done with fold 2\n",
      "Done with fold 3\n",
      "Done with fold 4\n",
      "Done with fold 5\n"
     ]
    }
   ],
   "source": [
    "RELOAD = True\n",
    "BIN_WIDTH = 25\n",
    "max_cca_dim_check = 50\n",
    "\n",
    "\n",
    "fold_splits = np.unique(df_decode['fold_idx'].values)\n",
    "sessions = np.unique(df_decode['data_file'])\n",
    "comm = MPI.COMM_WORLD\n",
    "sessions = np.array_split(sessions, comm.size)[comm.rank]\n",
    "regions = np.unique(df_decode['loader_args'].apply(lambda x: x.get('region')))\n",
    "\n",
    "\n",
    "if RELOAD:\n",
    "\n",
    "    lags = np.array([0])\n",
    "    windows = np.array([1])\n",
    "    reg0 = regions[0]\n",
    "    reg1 = regions[1]\n",
    "    results = []\n",
    "\n",
    "    for session in sessions:\n",
    "        save_path_cca_corrs = '/home/marcush/projects/neural_control/analysis_scripts/FrankLabAnalysis/CCA_Results/CCAModel_%s.pkl' % session\n",
    "\n",
    "        lArgs = {'bin_width': BIN_WIDTH, 'region': reg0, 'spike_threshold': 0, 'speed_threshold': False, 'trialize': False}\n",
    "        dat = load_franklab_new(get_data_path(reg0), **lArgs)\n",
    "        X = dat['spike_rates']\n",
    "\n",
    "\n",
    "        lArgs = {'bin_width': BIN_WIDTH, 'region': reg1, 'spike_threshold': 0, 'speed_threshold': False, 'trialize': False}\n",
    "        dat = load_franklab_new(get_data_path(reg1), **lArgs)\n",
    "        Y = dat['spike_rates']\n",
    "\n",
    "\n",
    "        for k, lag in enumerate(lags):\n",
    "            for w, window in enumerate(windows):\n",
    "                for fold_idx, (train_idxs, test_idxs) in enumerate(KFold(n_splits=len(fold_splits)).split(X)):\n",
    "                \n",
    "                    x = X[train_idxs]\n",
    "                    y = Y[train_idxs]\n",
    "\n",
    "                    # Apply window and lag relative to each other\n",
    "                    if lag != 0:\n",
    "                        x = x[:-lag, :]\n",
    "                        y = x[lag:, :]\n",
    "\n",
    "                    if window > 1:\n",
    "                        x = form_lag_matrix(x, window)\n",
    "                        y = form_lag_matrix(y, window)\n",
    "\n",
    "                    ccamodel = CCA(n_components=min(max_cca_dim_check, min(x.shape[-1], y.shape[-1])))                \n",
    "                    ccamodel.fit(x, y)\n",
    "                    X_c, Y_c = ccamodel.transform(x, y)\n",
    "                    canonical_correlations = [scipy.stats.pearsonr(X_c[:, i], Y_c[:, i])[0] for i in range(max_cca_dim_check)]\n",
    "\n",
    "                    r = {\n",
    "                    'dfile': session,\n",
    "                    'bin_width': BIN_WIDTH,\n",
    "                    'lag': lag,\n",
    "                    'win': window,\n",
    "                    'fold_idx': fold_idx,\n",
    "                    'ccamodel': ccamodel,\n",
    "                    'canonical_correlations': canonical_correlations\n",
    "                    }\n",
    "                    results.append(r)\n",
    "                    print(f\"Done with fold {fold_idx+1}\")\n",
    "\n",
    "    df_results = pd.DataFrame(results)\n",
    "    with open(save_path_cca_corrs, 'wb') as f:\n",
    "        pickle.dump(df_results, f)\n",
    "else:\n",
    "\n",
    "    save_path_cca_corrs = '/home/marcush/projects/neural_control/analysis_scripts/FrankLabAnalysis/CCA_Results/CCAModel_%s.pkl' % 'dataset1'\n",
    "    with open(save_path_cca_corrs, 'rb') as f:\n",
    "        df_results = pickle.load(f)\n",
    "    print(\"Loading previous CCA fit to split data.\")"
   ]
  },
  {
   "cell_type": "markdown",
   "metadata": {},
   "source": [
    "### Find saturating CCA dimensionality"
   ]
  },
  {
   "cell_type": "code",
   "execution_count": 87,
   "metadata": {},
   "outputs": [],
   "source": [
    "canonical_correlations = np.array(df_results['canonical_correlations'].to_list())"
   ]
  },
  {
   "cell_type": "code",
   "execution_count": 88,
   "metadata": {},
   "outputs": [
    {
     "data": {
      "text/plain": [
       "Text(0.5, 0, 'Dimension')"
      ]
     },
     "execution_count": 88,
     "metadata": {},
     "output_type": "execute_result"
    },
    {
     "data": {
      "image/png": "[encoded data removed]",
      "text/plain": [
       "<Figure size 400x400 with 1 Axes>"
      ]
     },
     "metadata": {},
     "output_type": "display_data"
    }
   ],
   "source": [
    "fig, ax = plt.subplots(figsize=(4, 4))\n",
    "\n",
    "medianprops = dict(linewidth=0)\n",
    "bplot = ax.boxplot(np.reshape(canonical_correlations, (-1, max_cca_dim_check)), patch_artist=True, medianprops=medianprops, notch=True)\n",
    "nTicks = 10\n",
    "ax.set_xticks(np.arange(1, max_cca_dim_check, nTicks))\n",
    "ax.set_xticklabels(np.arange(1, max_cca_dim_check, nTicks))\n",
    "ax.set_xlim([0, max_cca_dim_check])\n",
    "ax.set_ylabel('Canonical Correlation Coefficient')\n",
    "ax.set_xlabel('Dimension')"
   ]
  },
  {
   "cell_type": "markdown",
   "metadata": {},
   "source": [
    "# Use BIC to determine optimal CCA dimensionality"
   ]
  },
  {
   "cell_type": "code",
   "execution_count": 89,
   "metadata": {},
   "outputs": [],
   "source": [
    "# p <= q\n",
    "def CC_AIC(cc_coefs, N, p, q):\n",
    "    # Sort in descending order\n",
    "    cc_coefs = np.sort(cc_coefs)[::-1]\n",
    "\n",
    "    # Calculate the vector Ak\n",
    "    Ak = np.array([-N * np.sum(np.log(1 - np.power(cc_coefs[k + 1:], 2))) -2 * (p - k) * (q - k) for k in range(cc_coefs.size - 1)])\n",
    "    return Ak\n",
    "\n",
    "def CC_BIC(cc_coefs, N, p, q):\n",
    "    # Sort in descending order\n",
    "    cc_coefs = np.sort(cc_coefs)[::-1]\n",
    "\n",
    "    # Calculate the vector Ak\n",
    "    Ak = np.array([-N * np.sum(np.log(1 - np.power(cc_coefs[k + 1:], 2))) -np.log(N) * (p - k) * (q - k) for k in range(cc_coefs.size - 1)])\n",
    "    return Ak"
   ]
  },
  {
   "cell_type": "code",
   "execution_count": 90,
   "metadata": {},
   "outputs": [],
   "source": [
    "nSplits = len(fold_splits)\n",
    "cc_dim = np.zeros((nSplits, 2))\n",
    "\n",
    "\n",
    "for split in fold_splits: \n",
    "\n",
    "    train_idxs, test_idxs = list(KFold(n_splits=nSplits).split(X))[split]\n",
    "\n",
    "    x = X[train_idxs]\n",
    "    y = Y[train_idxs]\n",
    "\n",
    "    p = min(x.shape[1], y.shape[1])\n",
    "    q = max(x.shape[1], y.shape[1])\n",
    "\n",
    "    Ak = CC_AIC(canonical_correlations[split, :], x.shape[0], p, q)\n",
    "    cc_dim[split, 0] = np.argmin(Ak)\n",
    "    Ak = CC_BIC(canonical_correlations[split, :], x.shape[0], p, q)    \n",
    "    cc_dim[split, 1] = np.argmin(Ak)"
   ]
  },
  {
   "cell_type": "code",
   "execution_count": 91,
   "metadata": {},
   "outputs": [
    {
     "data": {
      "text/plain": [
       "Text(0, 0.5, 'Dimension')"
      ]
     },
     "execution_count": 91,
     "metadata": {},
     "output_type": "execute_result"
    },
    {
     "data": {
      "image/png": "[encoded data removed]",
      "text/plain": [
       "<Figure size 400x400 with 1 Axes>"
      ]
     },
     "metadata": {},
     "output_type": "display_data"
    }
   ],
   "source": [
    "fig, ax = plt.subplots(figsize=(4, 4))\n",
    "ax.boxplot(cc_dim + 1)\n",
    "ax.set_xticklabels(['AIC', 'BIC'])\n",
    "ax.set_ylabel('Dimension')"
   ]
  },
  {
   "cell_type": "code",
   "execution_count": 92,
   "metadata": {},
   "outputs": [
    {
     "name": "stdout",
     "output_type": "stream",
     "text": [
      "Optimal AIC Dim: 30.0\n",
      "Optimal BIC Dim: 9.0\n",
      "Optimal CCA Dim: 19.5\n"
     ]
    }
   ],
   "source": [
    "print(f\"Optimal AIC Dim: {np.median(cc_dim[:,0])}\")\n",
    "print(f\"Optimal BIC Dim: {np.median(cc_dim[:,1])}\")\n",
    "print(f\"Optimal CCA Dim: {np.mean([np.median(cc_dim[:,0]), np.median(cc_dim[:,1])])}\")\n"
   ]
  },
  {
   "cell_type": "markdown",
   "metadata": {},
   "source": [
    "### Compute and Save CCA Matrices"
   ]
  },
  {
   "cell_type": "code",
   "execution_count": 93,
   "metadata": {},
   "outputs": [],
   "source": [
    "manual_CCA_dim = 20 \n",
    "\n",
    "ccamodel = CCA(n_components=manual_CCA_dim)\n",
    "ccamodel.fit(X, Y)\n",
    "\n",
    "cca_save_path = f'/home/marcush/projects/neural_control/analysis_scripts/FrankLabAnalysis/CCA_Results/CCA_{manual_CCA_dim}_dims.pkl'\n",
    "\n",
    "with open(cca_save_path, 'wb') as file:\n",
    "    pickle.dump(ccamodel, file)"
   ]
  },
  {
   "cell_type": "code",
   "execution_count": null,
   "metadata": {},
   "outputs": [],
   "source": []
  }
 ],
 "metadata": {
  "kernelspec": {
   "display_name": "ncontrol",
   "language": "python",
   "name": "python3"
  },
  "language_info": {
   "codemirror_mode": {
    "name": "ipython",
    "version": 3
   },
   "file_extension": ".py",
   "mimetype": "text/x-python",
   "name": "python",
   "nbconvert_exporter": "python",
   "pygments_lexer": "ipython3",
   "version": "3.9.19"
  }
 },
 "nbformat": 4,
 "nbformat_minor": 2
}
