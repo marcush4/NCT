{
 "cells": [
  {
   "cell_type": "markdown",
   "metadata": {},
   "source": [
    "# If your decode file is very large, you have to save it with joblib's \"dump()\" in the consolidation script.\n",
    "# You then have to convert that into a regular pickle file so it's compatible with everything else.\n",
    "# This script loads the dump file, converts it to pandas, and saves it as a pickle.\n",
    "\n"
   ]
  },
  {
   "cell_type": "code",
   "execution_count": null,
   "metadata": {},
   "outputs": [],
   "source": [
    "import pickle\n",
    "import pandas as pd\n",
    "import numpy as np\n",
    "import itertools\n",
    "import matplotlib.pyplot as plt\n",
    "import glob as glob\n",
    "import os\n",
    "import sys; sys.path.append('/home/marcush/projects/neural_control/analysis_scripts/turnkey')\n",
    "\n",
    "from config import PATH_DICT; sys.path.append(PATH_DICT['repo'])\n",
    "from region_select import *\n",
    "from utils import calc_loadings\n",
    "from collections import defaultdict\n",
    "from scipy.linalg import subspace_angles\n",
    "from sklearn.linear_model import LinearRegression\n",
    "from sklearn.preprocessing import StandardScaler\n",
    "from scipy.stats import pearsonr\n"
   ]
  },
  {
   "cell_type": "code",
   "execution_count": null,
   "metadata": {},
   "outputs": [],
   "source": [
    "#path = '/clusterfs/NSDS_data/FCCA/postprocessed/decoding_fullarg_frank_lab_glom.pickle'\n",
    "#path = '/home/marcush/Data/FrankLabData/neural_control_output/decoding_fullarg_frank_lab/decoding_fullarg_frank_lab_glom.pickle'\n",
    "\n",
    "\"\"\"\"\n",
    "This should cause an error with a pickle file that's been saved with \"dump\" from joblib \n",
    "\"\"\"\n",
    "path = 'path_to_large_file.pickle'\n",
    "\n",
    "with open(path, 'rb') as f:\n",
    "    data = pickle.load(f)\n",
    "\n",
    "df_decode = pd.DataFrame(data)"
   ]
  },
  {
   "cell_type": "code",
   "execution_count": null,
   "metadata": {},
   "outputs": [],
   "source": [
    "from joblib import load\n",
    "\"\"\"\"\n",
    "Instead, load it this way.\n",
    "\"\"\"\n",
    "\n",
    "#path = '/home/marcush/Data/FrankLabData/neural_control_output/decoding_fullarg_frank_lab/decoding_fullarg_frank_lab_glom.pickle'\n",
    "path = 'path_to_large_file.pickle'\n",
    "\n",
    "data = load(path)  \n",
    "\n",
    "df_decode = pd.DataFrame(data)"
   ]
  },
  {
   "cell_type": "code",
   "execution_count": null,
   "metadata": {},
   "outputs": [],
   "source": [
    "# Specify the save path\n",
    "#save_path = '/home/marcush/Data/FrankLabData/neural_control_output/decoding_fullarg_frank_lab/decoding_fullarg_frank_lab_glom.pickle'\n",
    "\"\"\"\"\n",
    "Now save it like a regular pickle \n",
    "\"\"\"\n",
    "save_path = '/save_path/'\n",
    "# Save the DataFrame using pickle\n",
    "with open(save_path, 'wb') as f:\n",
    "    pickle.dump(df_decode, f)"
   ]
  },
  {
   "cell_type": "markdown",
   "metadata": {},
   "source": [
    "# Now can load it regularly"
   ]
  },
  {
   "cell_type": "code",
   "execution_count": null,
   "metadata": {},
   "outputs": [],
   "source": [
    "path = '/clusterfs/NSDS_data/FCCA/postprocessed/decoding_fullarg_frank_lab_glom.pickle'\n",
    "#path = '/home/marcush/Data/FrankLabData/neural_control_output/decoding_fullarg_frank_lab/decoding_fullarg_frank_lab_glom.pickle'\n",
    "with open(path, 'rb') as f:\n",
    "    data = pickle.load(f)\n",
    "\n",
    "df_decode = pd.DataFrame(data)"
   ]
  }
 ],
 "metadata": {
  "language_info": {
   "name": "python"
  }
 },
 "nbformat": 4,
 "nbformat_minor": 2
}
