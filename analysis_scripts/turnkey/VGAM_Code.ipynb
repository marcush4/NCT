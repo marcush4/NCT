{
 "cells": [
  {
   "cell_type": "markdown",
   "metadata": {},
   "source": [
    "# PRE-REQUISITES:\n",
    "- Open an R session and run: install.packages(\"VGAM\")\n",
    "- conda install rpy2"
   ]
  },
  {
   "cell_type": "code",
   "execution_count": 2,
   "metadata": {},
   "outputs": [],
   "source": [
    "import pandas as pd\n",
    "import numpy as np\n",
    "import rpy2.robjects as ro\n",
    "from rpy2.robjects import pandas2ri\n",
    "from rpy2.robjects.packages import importr\n",
    "from rpy2.robjects.conversion import localconverter\n",
    "from sklearn.metrics import accuracy_score, confusion_matrix, classification_report"
   ]
  },
  {
   "cell_type": "code",
   "execution_count": 3,
   "metadata": {},
   "outputs": [],
   "source": [
    "desired_rank = 2\n",
    "\n",
    "np.random.seed(42)\n",
    "data = {\n",
    "    'x1': np.random.rand(100),\n",
    "    'x2': np.random.rand(100),\n",
    "    'y': np.random.choice([0, 1], size=100)\n",
    "}\n",
    "\n",
    "df = pd.DataFrame(data)"
   ]
  },
  {
   "cell_type": "code",
   "execution_count": 4,
   "metadata": {},
   "outputs": [],
   "source": [
    "# Convert the pandas DataFrame to an R DataFrame\n",
    "pandas2ri.activate()\n",
    "r_df = pandas2ri.py2rpy(df)\n",
    "\n",
    "# Load the VGAM package\n",
    "vgam = importr('VGAM')\n",
    "\n",
    "# Create a formula in R\n",
    "formula = ro.Formula('y ~ x1 + x2')\n",
    "#formula = ro.Formula('y ~ x1 + x2 + 1')\n",
    "\n",
    "\n",
    "# Perform the categorical regression\n",
    "#vglm_model = vgam.vglm(formula, family=vgam.multinomial(), data=r_df)\n",
    "vglm_model = vgam.vglm(formula, family=vgam.multinomial(), data=r_df, rank=desired_rank)"
   ]
  },
  {
   "cell_type": "code",
   "execution_count": 5,
   "metadata": {},
   "outputs": [
    {
     "name": "stdout",
     "output_type": "stream",
     "text": [
      "           0         1\n",
      "0   0.353739  0.646261\n",
      "1   0.432570  0.567430\n",
      "2   0.381396  0.618604\n",
      "3   0.438463  0.561537\n",
      "4   0.576089  0.423911\n",
      "..       ...       ...\n",
      "95  0.412460  0.587540\n",
      "96  0.496772  0.503228\n",
      "97  0.546406  0.453594\n",
      "98  0.584398  0.415602\n",
      "99  0.551525  0.448475\n",
      "\n",
      "[100 rows x 2 columns]\n"
     ]
    }
   ],
   "source": [
    "# Predict on new data (using the same DataFrame for simplicity)\n",
    "predictions_r = ro.r['predict'](vglm_model, newdata=r_df, type=\"response\")\n",
    "\n",
    "# Convert R object to numpy array or pandas DataFrame\n",
    "with localconverter(ro.default_converter + pandas2ri.converter):\n",
    "    predictions_np = ro.conversion.rpy2py(predictions_r)\n",
    "\n",
    "# If the predictions are a matrix, convert them to a pandas DataFrame\n",
    "if isinstance(predictions_np, np.ndarray):\n",
    "    predictions_df = pd.DataFrame(predictions_np)\n",
    "\n",
    "print(predictions_df)\n"
   ]
  },
  {
   "cell_type": "code",
   "execution_count": 6,
   "metadata": {},
   "outputs": [
    {
     "name": "stdout",
     "output_type": "stream",
     "text": [
      "Accuracy: 0.57\n",
      "Confusion Matrix:\n",
      "[[16 29]\n",
      " [14 41]]\n",
      "Classification Report:\n",
      "              precision    recall  f1-score   support\n",
      "\n",
      "           0       0.53      0.36      0.43        45\n",
      "           1       0.59      0.75      0.66        55\n",
      "\n",
      "    accuracy                           0.57       100\n",
      "   macro avg       0.56      0.55      0.54       100\n",
      "weighted avg       0.56      0.57      0.55       100\n",
      "\n"
     ]
    }
   ],
   "source": [
    "# Assuming 'y' in your original dataframe is the true labels\n",
    "true_labels = df['y']\n",
    "\n",
    "# If predictions are probabilities, convert them to the predicted class by taking the argmax\n",
    "predicted_labels = predictions_df.idxmax(axis=1).astype(int)  # Convert to integer class labels\n",
    "\n",
    "# Evaluate accuracy\n",
    "accuracy = accuracy_score(true_labels, predicted_labels)\n",
    "print(f'Accuracy: {accuracy}')\n",
    "\n",
    "# Confusion matrix\n",
    "conf_matrix = confusion_matrix(true_labels, predicted_labels)\n",
    "print('Confusion Matrix:')\n",
    "print(conf_matrix)\n",
    "\n",
    "# Detailed classification report\n",
    "class_report = classification_report(true_labels, predicted_labels)\n",
    "print('Classification Report:')\n",
    "print(class_report)\n"
   ]
  },
  {
   "cell_type": "code",
   "execution_count": null,
   "metadata": {},
   "outputs": [],
   "source": []
  }
 ],
 "metadata": {
  "kernelspec": {
   "display_name": "ncontrol",
   "language": "python",
   "name": "python3"
  },
  "language_info": {
   "codemirror_mode": {
    "name": "ipython",
    "version": 3
   },
   "file_extension": ".py",
   "mimetype": "text/x-python",
   "name": "python",
   "nbconvert_exporter": "python",
   "pygments_lexer": "ipython3",
   "version": "3.9.19"
  }
 },
 "nbformat": 4,
 "nbformat_minor": 2
}
