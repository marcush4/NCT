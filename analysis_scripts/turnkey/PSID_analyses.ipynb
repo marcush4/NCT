{
 "cells": [
  {
   "cell_type": "code",
   "execution_count": 1,
   "metadata": {},
   "outputs": [],
   "source": [
    "import pdb\n",
    "import os, sys\n",
    "import numpy as np\n",
    "import matplotlib.pyplot as plt\n",
    "import scipy \n",
    "import pickle\n",
    "import pandas as pd\n",
    "from tqdm import tqdm\n",
    "from scipy.ndimage import gaussian_filter1d\n",
    "from dca.methods_comparison import JPCA \n",
    "sys.path.append('./analysis_scripts/turnkey/')\n",
    "sys.path.append('/home/marcush/projects/github_repos/')\n",
    "from config import PATH_DICT\n",
    "from region_select import *\n",
    "from sklearn.model_selection import KFold\n",
    "\n",
    "import PSID.PSID as PSID\n",
    "from PSID.evaluation import evalPrediction\n",
    "from decoders import expand_state_space\n",
    "from sklearn.metrics import r2_score, mean_squared_error"
   ]
  },
  {
   "cell_type": "code",
   "execution_count": 4,
   "metadata": {},
   "outputs": [],
   "source": [
    "def runPSID(decoding_df, session_key, data_path, region, recompute=True):\n",
    "\n",
    "    failure_count = 0\n",
    "\n",
    "    if recompute:\n",
    "\n",
    "        fold_idcs = np.unique(decoding_df['fold_idx'].values)\n",
    "        sessions = np.unique(decoding_df[session_key].values)\n",
    "        dims = np.unique(decoding_df['dim'].values)\n",
    "\n",
    "        fold_idcs = fold_idcs[:2]\n",
    "        sessions = sessions[:2]\n",
    "        dims = dims[:15]\n",
    "\n",
    "        num_lag_steps = 3 #i: the number of block-rows (i.e. future and past horizon). \n",
    "        all_results = []\n",
    "\n",
    "        for sess_ind, session in enumerate(sessions):\n",
    "\n",
    "            if region == 'HPC':\n",
    "                loader_args = {'bin_width':50, 'filter_fn':'none', 'filter_kwargs':{}, 'boxcox':0.5, 'spike_threshold':100}\n",
    "            else:\n",
    "                loader_args = decoding_df.iloc[0]['loader_args']\n",
    "\n",
    "            if region in ['AM', 'ML']:  \n",
    "                dat = load_data(data_path, region, session, loader_args, full_arg_tuple=decoding_df['full_arg_tuple'])\n",
    "            else:\n",
    "                dat = load_data(data_path, region, session, loader_args)\n",
    "\n",
    "            y = dat['spike_rates'].squeeze()\n",
    "            z = dat['behavior']\n",
    "\n",
    "            # Don't do this for datasets that aren't M1, S1 (velocity/acc wont be relevant for other datasets)\n",
    "            if region in ['M1', 'S1']:\n",
    "                z, y = expand_state_space([z], [y])\n",
    "                z = z[0]\n",
    "                y = y[0]\n",
    "\n",
    "            default_i = 5 if region in [\"M1\", \"S1\"] else 2\n",
    "\n",
    "\n",
    "            print(f\"Starting Session {sess_ind} of {len(sessions)}\")\n",
    "            for dim_ind, dim in tqdm(enumerate(dims)):\n",
    "                for fidx, (train_idxs, test_idxs) in enumerate(KFold(n_splits=len(fold_idcs)).split(y)):\n",
    "\n",
    "                    # Run PSID on raw firing rates\n",
    "                    ytrain = y[train_idxs]\n",
    "                    ytest = y[test_idxs]\n",
    "                    ztrain = z[train_idxs]\n",
    "                    ztest = z[test_idxs]                    \n",
    "\n",
    "                    \"\"\" Contraint on i in relation to other vars:\n",
    "                    n1/nz <= i\n",
    "                    nx/ny <= i\n",
    "                    \"\"\"\n",
    "                    nz = ztrain.shape[1]\n",
    "                    ny = ytrain.shape[1]\n",
    "                    nx=dim\n",
    "                    n1=dim\n",
    " \n",
    "                    i = int(np.ceil(max(n1/nz, nx/ny, default_i)))\n",
    "                    try:\n",
    "                        idsys = PSID(ytrain, ztrain, nx=nx, n1=n1, i=i)\n",
    "                        zpred, _, _ = idsys.predict(ytest)\n",
    "                        r2 = r2_score(ztest, zpred, multioutput='raw_values')\n",
    "                    except: # Some strangeness here...\n",
    "                        failure_count += 1\n",
    "                        r2 = np.nan\n",
    "\n",
    "\n",
    "                    # Run PSID on PCA projected firing rates\n",
    "                    df_filter = {session_key:session, 'dim':dim, 'dimreduc_method':'PCA', 'fold_idx':fidx}\n",
    "                    df = apply_df_filters(decoding_df, **df_filter)\n",
    "                    assert(df.shape[0] == 1)\n",
    "                    ytrain_pca = ytrain @ df.iloc[0]['coef'][:, 0:dim]             \n",
    "                    ytest_pca = ytest @ df.iloc[0]['coef'][:, 0:dim]  \n",
    "                    nz = ztrain.shape[1]\n",
    "                    ny = ytrain_pca.shape[1]\n",
    "                    nx=dim\n",
    "                    n1=dim\n",
    "                    i = int(np.ceil(max(n1/nz, nx/ny, default_i)))\n",
    "                    idsys = PSID(ytrain_pca, ztrain, nx=nx, n1=n1, i=i)                        \n",
    "                    zpred, _, _ = idsys.predict(ytest_pca)\n",
    "                    r2_pca = r2_score(ztest, zpred, multioutput='raw_values')\n",
    "\n",
    "                    # Run PSID on FCCA projected firing rates\n",
    "                    df_filter = {session_key:session, 'dim':dim, 'dimreduc_method':['LQGCA', 'FCCA'], 'fold_idx':fidx}\n",
    "                    df = apply_df_filters(decoding_df, **df_filter)\n",
    "                    assert(df.shape[0] == 1)\n",
    "                    ytrain_fca = ytrain @ df.iloc[0]['coef'][:, 0:dim]             \n",
    "                    ytest_fca = ytest @ df.iloc[0]['coef'][:, 0:dim]  \n",
    "                    nz = ztrain.shape[1]\n",
    "                    ny = ytrain_pca.shape[1]\n",
    "                    nx=dim\n",
    "                    n1=dim\n",
    "                    i = int(np.ceil(max(n1/nz, nx/ny, default_i)))\n",
    "                    idsys = PSID(ytrain_fca, ztrain, nx=nx, n1=n1, i=i)\n",
    "                    zpred, _, _ = idsys.predict(ytest_fca)\n",
    "                    r2_fca = r2_score(ztest, zpred, multioutput='raw_values')\n",
    "\n",
    "                    # Save structs\n",
    "                    result = {}\n",
    "                    result['session'] = session\n",
    "                    result['dim'] = dim\n",
    "                    result['fidx'] = fidx\n",
    "                    result['r2'] = r2\n",
    "                    result['r2_pca'] = r2_pca\n",
    "                    result['r2_fca'] = r2_fca\n",
    "                    all_results.append(result)\n",
    "\n",
    "\n",
    "        all_results_df = pd.DataFrame(all_results)\n",
    "\n",
    "        #tmp_root_path = PATH_DICT['tmp']\n",
    "        #with open(f'{tmp_root_path}/psid_df_{region}.pkl', 'wb') as f:\n",
    "        #    f.write(pickle.dumps(all_results_df))\n",
    "\n",
    "\n",
    "    else:\n",
    "        tmp_root_path = PATH_DICT['tmp']\n",
    "        with open(f'{tmp_root_path}/psid_df_{region}.pkl', 'rb') as f:\n",
    "            all_results_df = pickle.load(f)\n",
    "\n",
    "\n",
    "    print(f\"Total Failures: {failure_count}\")\n",
    "    return all_results_df\n"
   ]
  },
  {
   "cell_type": "code",
   "execution_count": 5,
   "metadata": {},
   "outputs": [],
   "source": [
    "def plotPSID(all_results_df, region):\n",
    "\n",
    "    sessions = np.unique(all_results_df['session'])\n",
    "    dims = np.unique(all_results_df['dim'])\n",
    "    folds = np.unique(all_results_df['fidx'])\n",
    "        \n",
    "\n",
    "    # PSID r2\n",
    "    psid_r2_mat = np.zeros((sessions.size, dims.size, folds.size, 3))\n",
    "    for i, session in tqdm(enumerate(sessions)):\n",
    "        for j, dim in enumerate(dims):               \n",
    "            for f in folds:\n",
    "                dim_fold_df = apply_df_filters(all_results_df, session=session, dim=dim, fidx=f)\n",
    "                #psid_r2_f[i, j, f] = np.mean(dim_fold_df.iloc[0]['r2'][2:4])\n",
    "                psid_r2_mat[i, j, f, 0] = np.mean(dim_fold_df.iloc[0]['r2'])\n",
    "                psid_r2_mat[i, j, f, 1] = np.mean(dim_fold_df.iloc[0]['r2_pca'])\n",
    "                psid_r2_mat[i, j, f, 2] = np.mean(dim_fold_df.iloc[0]['r2_fca'])\n",
    "\n",
    "\n",
    "    psid_r2 = np.mean(psid_r2_mat[:, :, :, 0], axis=2)\n",
    "    pca_r2 = np.mean(psid_r2_mat[:, :, :, 1], axis=2)\n",
    "    fca_r2 = np.mean(psid_r2_mat[:, :, :, 2], axis=2)\n",
    "\n",
    "\n",
    "\n",
    "    fig, ax = plt.subplots(figsize=(4, 4))\n",
    "    colors = ['black', 'red', '#781820', '#5563fa']\n",
    "\n",
    "    norm_factor = 215\n",
    "    ax.fill_between(dims, np.mean(fca_r2, axis=0) + np.std(fca_r2, axis=0)/np.sqrt(norm_factor),  np.mean(fca_r2, axis=0) - np.std(fca_r2, axis=0)/np.sqrt(norm_factor), color=colors[1], alpha=0.25, label='_nolegend_')\n",
    "    ax.plot(dims, np.mean(fca_r2, axis=0), color=colors[1])\n",
    "\n",
    "    ax.fill_between(dims, np.mean(pca_r2, axis=0) + np.std(pca_r2, axis=0)/np.sqrt(norm_factor), np.mean(pca_r2, axis=0) - np.std(pca_r2, axis=0)/np.sqrt(norm_factor), color=colors[0], alpha=0.25, label='_nolegend_')\n",
    "    ax.plot(dims, np.mean(pca_r2, axis=0), color=colors[0])\n",
    "\n",
    "    ax.fill_between(dims, np.mean(psid_r2, axis=0) + np.std(psid_r2, axis=0)/np.sqrt(norm_factor),  np.mean(psid_r2, axis=0) - np.std(psid_r2, axis=0)/np.sqrt(norm_factor), color=colors[2], alpha=0.25, label='_nolegend_')\n",
    "    ax.plot(dims, np.mean(psid_r2, axis=0), color=colors[2])\n",
    "\n",
    "\n",
    "    ax.set_xlabel('Dimension', fontsize=18)\n",
    "    if region in ['M1', 'S1']:\n",
    "        ax.set_ylabel('Velocity Decoding ' + r'$r^2$', fontsize=18)\n",
    "    elif region == 'HPC':\n",
    "        ax.set_ylabel('Position Decoding ' + r'$r^2$', fontsize=18)\n",
    "\n",
    "\n",
    "    ax.tick_params(axis='x', labelsize=16)\n",
    "    ax.tick_params(axis='y', labelsize=16)\n",
    "\n",
    "    ax.legend(['FCCA+PSID', 'PCA+PSID', 'PSID'], fontsize=10, frameon=False, loc='lower right')\n",
    "\n",
    "    \n",
    "    #fig.savefig(f\"{PATH_DICT['figs']}/psid_decoding_{region}.pdf\", bbox_inches='tight', pad_inches=0)\n"
   ]
  },
  {
   "cell_type": "code",
   "execution_count": 6,
   "metadata": {},
   "outputs": [
    {
     "name": "stdout",
     "output_type": "stream",
     "text": [
      "Starting Session 0 of 2\n"
     ]
    },
    {
     "name": "stderr",
     "output_type": "stream",
     "text": [
      "1it [00:00,  1.54it/s]"
     ]
    },
    {
     "name": "stdout",
     "output_type": "stream",
     "text": [
      "Could not solve DARE\n",
      "Steady state Kalman gain not available. Will perform non-steady-state Kalman\n",
      "Steady state Kalman gain not available. Will perform non-steady-state Kalman\n"
     ]
    },
    {
     "name": "stderr",
     "output_type": "stream",
     "text": [
      "2it [00:11,  6.38s/it]"
     ]
    },
    {
     "name": "stdout",
     "output_type": "stream",
     "text": [
      "Could not solve DARE\n",
      "Steady state Kalman gain not available. Will perform non-steady-state Kalman\n",
      "Steady state Kalman gain not available. Will perform non-steady-state Kalman\n"
     ]
    },
    {
     "name": "stderr",
     "output_type": "stream",
     "text": [
      "3it [00:21,  8.42s/it]"
     ]
    },
    {
     "name": "stdout",
     "output_type": "stream",
     "text": [
      "Could not solve DARE\n",
      "Steady state Kalman gain not available. Will perform non-steady-state Kalman\n",
      "Steady state Kalman gain not available. Will perform non-steady-state Kalman\n"
     ]
    },
    {
     "name": "stderr",
     "output_type": "stream",
     "text": [
      "4it [00:32,  9.37s/it]"
     ]
    },
    {
     "name": "stdout",
     "output_type": "stream",
     "text": [
      "Could not solve DARE\n",
      "Steady state Kalman gain not available. Will perform non-steady-state Kalman\n",
      "Steady state Kalman gain not available. Will perform non-steady-state Kalman\n"
     ]
    },
    {
     "name": "stderr",
     "output_type": "stream",
     "text": [
      "5it [00:44, 10.08s/it]"
     ]
    },
    {
     "name": "stdout",
     "output_type": "stream",
     "text": [
      "Could not solve DARE\n",
      "Steady state Kalman gain not available. Will perform non-steady-state Kalman\n",
      "Steady state Kalman gain not available. Will perform non-steady-state Kalman\n"
     ]
    },
    {
     "name": "stderr",
     "output_type": "stream",
     "text": [
      "6it [00:54, 10.37s/it]"
     ]
    },
    {
     "name": "stdout",
     "output_type": "stream",
     "text": [
      "Could not solve DARE\n",
      "Steady state Kalman gain not available. Will perform non-steady-state Kalman\n",
      "Steady state Kalman gain not available. Will perform non-steady-state Kalman\n"
     ]
    },
    {
     "name": "stderr",
     "output_type": "stream",
     "text": [
      "7it [01:05, 10.57s/it]"
     ]
    },
    {
     "name": "stdout",
     "output_type": "stream",
     "text": [
      "Could not solve DARE\n",
      "Steady state Kalman gain not available. Will perform non-steady-state Kalman\n",
      "Steady state Kalman gain not available. Will perform non-steady-state Kalman\n"
     ]
    },
    {
     "name": "stderr",
     "output_type": "stream",
     "text": [
      "8it [01:16, 10.46s/it]"
     ]
    },
    {
     "name": "stdout",
     "output_type": "stream",
     "text": [
      "Could not solve DARE\n",
      "Steady state Kalman gain not available. Will perform non-steady-state Kalman\n",
      "Steady state Kalman gain not available. Will perform non-steady-state Kalman\n"
     ]
    },
    {
     "name": "stderr",
     "output_type": "stream",
     "text": [
      "9it [01:27, 10.62s/it]"
     ]
    },
    {
     "name": "stdout",
     "output_type": "stream",
     "text": [
      "Could not solve DARE\n",
      "Steady state Kalman gain not available. Will perform non-steady-state Kalman\n",
      "Steady state Kalman gain not available. Will perform non-steady-state Kalman\n"
     ]
    },
    {
     "name": "stderr",
     "output_type": "stream",
     "text": [
      "10it [01:37, 10.63s/it]"
     ]
    },
    {
     "name": "stdout",
     "output_type": "stream",
     "text": [
      "Could not solve DARE\n",
      "Steady state Kalman gain not available. Will perform non-steady-state Kalman\n",
      "Steady state Kalman gain not available. Will perform non-steady-state Kalman\n"
     ]
    },
    {
     "name": "stderr",
     "output_type": "stream",
     "text": [
      "11it [01:48, 10.78s/it]"
     ]
    },
    {
     "name": "stdout",
     "output_type": "stream",
     "text": [
      "Could not solve DARE\n",
      "Steady state Kalman gain not available. Will perform non-steady-state Kalman\n",
      "Steady state Kalman gain not available. Will perform non-steady-state Kalman\n"
     ]
    },
    {
     "name": "stderr",
     "output_type": "stream",
     "text": [
      "12it [01:59, 10.77s/it]"
     ]
    },
    {
     "name": "stdout",
     "output_type": "stream",
     "text": [
      "Could not solve DARE\n",
      "Steady state Kalman gain not available. Will perform non-steady-state Kalman\n"
     ]
    },
    {
     "name": "stderr",
     "output_type": "stream",
     "text": [
      "/home/marcush/Data/anaconda3/envs/ncontrol/lib/python3.9/site-packages/PSID/LSSM.py:144: RuntimeWarning: overflow encountered in matmul\n",
      "  ziCov = self.C @ Pp @ self.C.T + self.R\n",
      "13it [02:03,  8.57s/it]"
     ]
    },
    {
     "name": "stdout",
     "output_type": "stream",
     "text": [
      "Could not solve DARE\n",
      "Steady state Kalman gain not available. Will perform non-steady-state Kalman\n",
      "Steady state Kalman gain not available. Will perform non-steady-state Kalman\n"
     ]
    },
    {
     "name": "stderr",
     "output_type": "stream",
     "text": [
      "14it [02:14,  9.34s/it]"
     ]
    },
    {
     "name": "stdout",
     "output_type": "stream",
     "text": [
      "Could not solve DARE\n",
      "Steady state Kalman gain not available. Will perform non-steady-state Kalman\n"
     ]
    },
    {
     "name": "stderr",
     "output_type": "stream",
     "text": [
      "/home/marcush/Data/anaconda3/envs/ncontrol/lib/python3.9/site-packages/PSID/LSSM.py:144: RuntimeWarning: overflow encountered in matmul\n",
      "  ziCov = self.C @ Pp @ self.C.T + self.R\n",
      "15it [02:16,  9.12s/it]\n"
     ]
    },
    {
     "name": "stdout",
     "output_type": "stream",
     "text": [
      "Starting Session 1 of 2\n"
     ]
    },
    {
     "name": "stderr",
     "output_type": "stream",
     "text": [
      "1it [00:00,  1.41it/s]"
     ]
    },
    {
     "name": "stdout",
     "output_type": "stream",
     "text": [
      "Could not solve DARE\n",
      "Steady state Kalman gain not available. Will perform non-steady-state Kalman\n",
      "Steady state Kalman gain not available. Will perform non-steady-state Kalman\n"
     ]
    },
    {
     "name": "stderr",
     "output_type": "stream",
     "text": [
      "2it [00:09,  5.68s/it]"
     ]
    },
    {
     "name": "stdout",
     "output_type": "stream",
     "text": [
      "Could not solve DARE\n",
      "Steady state Kalman gain not available. Will perform non-steady-state Kalman\n",
      "Steady state Kalman gain not available. Will perform non-steady-state Kalman\n"
     ]
    },
    {
     "name": "stderr",
     "output_type": "stream",
     "text": [
      "3it [00:18,  7.24s/it]"
     ]
    },
    {
     "name": "stdout",
     "output_type": "stream",
     "text": [
      "Could not solve DARE\n",
      "Steady state Kalman gain not available. Will perform non-steady-state Kalman\n",
      "Steady state Kalman gain not available. Will perform non-steady-state Kalman\n"
     ]
    },
    {
     "name": "stderr",
     "output_type": "stream",
     "text": [
      "4it [00:28,  7.96s/it]"
     ]
    },
    {
     "name": "stdout",
     "output_type": "stream",
     "text": [
      "Could not solve DARE\n",
      "Steady state Kalman gain not available. Will perform non-steady-state Kalman\n",
      "Steady state Kalman gain not available. Will perform non-steady-state Kalman\n"
     ]
    },
    {
     "name": "stderr",
     "output_type": "stream",
     "text": [
      "5it [00:37,  8.41s/it]"
     ]
    },
    {
     "name": "stdout",
     "output_type": "stream",
     "text": [
      "Could not solve DARE\n",
      "Steady state Kalman gain not available. Will perform non-steady-state Kalman\n",
      "Steady state Kalman gain not available. Will perform non-steady-state Kalman\n"
     ]
    },
    {
     "name": "stderr",
     "output_type": "stream",
     "text": [
      "6it [00:46,  8.75s/it]"
     ]
    },
    {
     "name": "stdout",
     "output_type": "stream",
     "text": [
      "Could not solve DARE\n",
      "Steady state Kalman gain not available. Will perform non-steady-state Kalman\n",
      "Steady state Kalman gain not available. Will perform non-steady-state Kalman\n"
     ]
    },
    {
     "name": "stderr",
     "output_type": "stream",
     "text": [
      "7it [00:56,  9.00s/it]"
     ]
    },
    {
     "name": "stdout",
     "output_type": "stream",
     "text": [
      "Could not solve DARE\n",
      "Steady state Kalman gain not available. Will perform non-steady-state Kalman\n",
      "Steady state Kalman gain not available. Will perform non-steady-state Kalman\n"
     ]
    },
    {
     "name": "stderr",
     "output_type": "stream",
     "text": [
      "8it [01:05,  9.12s/it]"
     ]
    },
    {
     "name": "stdout",
     "output_type": "stream",
     "text": [
      "Could not solve DARE\n",
      "Steady state Kalman gain not available. Will perform non-steady-state Kalman\n",
      "Steady state Kalman gain not available. Will perform non-steady-state Kalman\n"
     ]
    },
    {
     "name": "stderr",
     "output_type": "stream",
     "text": [
      "9it [01:15,  9.26s/it]"
     ]
    },
    {
     "name": "stdout",
     "output_type": "stream",
     "text": [
      "Could not solve DARE\n",
      "Steady state Kalman gain not available. Will perform non-steady-state Kalman\n",
      "Steady state Kalman gain not available. Will perform non-steady-state Kalman\n"
     ]
    },
    {
     "name": "stderr",
     "output_type": "stream",
     "text": [
      "10it [01:24,  9.37s/it]"
     ]
    },
    {
     "name": "stdout",
     "output_type": "stream",
     "text": [
      "Could not solve DARE\n",
      "Steady state Kalman gain not available. Will perform non-steady-state Kalman\n",
      "Steady state Kalman gain not available. Will perform non-steady-state Kalman\n"
     ]
    },
    {
     "name": "stderr",
     "output_type": "stream",
     "text": [
      "11it [01:34,  9.49s/it]"
     ]
    },
    {
     "name": "stdout",
     "output_type": "stream",
     "text": [
      "Could not solve DARE\n",
      "Steady state Kalman gain not available. Will perform non-steady-state Kalman\n",
      "Steady state Kalman gain not available. Will perform non-steady-state Kalman\n"
     ]
    },
    {
     "name": "stderr",
     "output_type": "stream",
     "text": [
      "12it [01:44,  9.57s/it]"
     ]
    },
    {
     "name": "stdout",
     "output_type": "stream",
     "text": [
      "Could not solve DARE\n",
      "Steady state Kalman gain not available. Will perform non-steady-state Kalman\n",
      "Steady state Kalman gain not available. Will perform non-steady-state Kalman\n"
     ]
    },
    {
     "name": "stderr",
     "output_type": "stream",
     "text": [
      "13it [01:54,  9.69s/it]"
     ]
    },
    {
     "name": "stdout",
     "output_type": "stream",
     "text": [
      "Could not solve DARE\n",
      "Steady state Kalman gain not available. Will perform non-steady-state Kalman\n",
      "Steady state Kalman gain not available. Will perform non-steady-state Kalman\n"
     ]
    },
    {
     "name": "stderr",
     "output_type": "stream",
     "text": [
      "14it [02:04,  9.87s/it]"
     ]
    },
    {
     "name": "stdout",
     "output_type": "stream",
     "text": [
      "Could not solve DARE\n",
      "Steady state Kalman gain not available. Will perform non-steady-state Kalman\n",
      "Steady state Kalman gain not available. Will perform non-steady-state Kalman\n"
     ]
    },
    {
     "name": "stderr",
     "output_type": "stream",
     "text": [
      "15it [02:14,  8.99s/it]\n"
     ]
    },
    {
     "name": "stdout",
     "output_type": "stream",
     "text": [
      "Total Failures: 2\n"
     ]
    },
    {
     "name": "stderr",
     "output_type": "stream",
     "text": [
      "2it [00:00, 32.13it/s]\n"
     ]
    },
    {
     "data": {
      "image/png": "[encoded data removed]",
      "text/plain": [
       "<Figure size 400x400 with 1 Axes>"
      ]
     },
     "metadata": {},
     "output_type": "display_data"
    }
   ],
   "source": [
    "#regions = ['M1', 'S1', 'M1_maze', 'HPC']\n",
    "regions = ['HPC'] \n",
    "for region in regions:\n",
    "\n",
    "    figpath = PATH_DICT['figs']\n",
    "    data_path = get_data_path(region)\n",
    "    df, session_key = load_decoding_df(region, **loader_kwargs[region])\n",
    "\n",
    "    all_results_df = runPSID(df, session_key, data_path, region, recompute=True)\n",
    "\n",
    "    plotPSID(all_results_df, region)\n"
   ]
  },
  {
   "cell_type": "code",
   "execution_count": null,
   "metadata": {},
   "outputs": [],
   "source": []
  },
  {
   "cell_type": "code",
   "execution_count": null,
   "metadata": {},
   "outputs": [],
   "source": []
  }
 ],
 "metadata": {
  "kernelspec": {
   "display_name": "ncontrol",
   "language": "python",
   "name": "python3"
  },
  "language_info": {
   "codemirror_mode": {
    "name": "ipython",
    "version": 3
   },
   "file_extension": ".py",
   "mimetype": "text/x-python",
   "name": "python",
   "nbconvert_exporter": "python",
   "pygments_lexer": "ipython3",
   "version": "3.9.19"
  }
 },
 "nbformat": 4,
 "nbformat_minor": 2
}
