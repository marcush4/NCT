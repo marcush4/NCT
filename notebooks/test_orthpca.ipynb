{
 "cells": [
  {
   "cell_type": "code",
   "execution_count": 2,
   "metadata": {},
   "outputs": [],
   "source": [
    "%load_ext autoreload\n",
    "%autoreload 2"
   ]
  },
  {
   "cell_type": "code",
   "execution_count": 3,
   "metadata": {},
   "outputs": [],
   "source": [
    "import numpy as np\n",
    "import scipy \n",
    "from scipy.stats import ortho_group\n",
    "import sys\n",
    "import pdb\n",
    "import matplotlib.pyplot as plt"
   ]
  },
  {
   "cell_type": "code",
   "execution_count": 4,
   "metadata": {},
   "outputs": [],
   "source": [
    "sys.path.append('/home/akumar/nse/neural_control')"
   ]
  },
  {
   "cell_type": "code",
   "execution_count": 5,
   "metadata": {},
   "outputs": [],
   "source": [
    "from orth_pca import OrthPCA"
   ]
  },
  {
   "cell_type": "code",
   "execution_count": 6,
   "metadata": {},
   "outputs": [],
   "source": [
    "# Toy problem: Generate data from 2 correlated multivariate Gaussians\n",
    "s = np.random.uniform(1, 10, size=(20,))\n",
    "U = ortho_group.rvs(20)\n",
    "S = U @ np.diag(s) @ U.T\n",
    "\n",
    "S1 = S[0:10, 0:10]\n",
    "S2 = S[10:, 10:]\n",
    "x1 = np.random.multivariate_normal(mean=np.zeros(10,), cov=S1, size=int(1e3))\n",
    "x2 = np.random.multivariate_normal(mean=np.zeros(10,), cov=S2, size=int(1e3))"
   ]
  },
  {
   "cell_type": "code",
   "execution_count": 7,
   "metadata": {},
   "outputs": [],
   "source": [
    "opca = OrthPCA(5, 4)"
   ]
  },
  {
   "cell_type": "markdown",
   "metadata": {},
   "source": [
    "v1, v2, cost = opca.fit(x1, x2)"
   ]
  },
  {
   "cell_type": "code",
   "execution_count": 19,
   "metadata": {},
   "outputs": [
    {
     "data": {
      "text/plain": [
       "array(-3.17085801)"
      ]
     },
     "execution_count": 19,
     "metadata": {},
     "output_type": "execute_result"
    }
   ],
   "source": [
    "cost"
   ]
  },
  {
   "cell_type": "code",
   "execution_count": 20,
   "metadata": {},
   "outputs": [],
   "source": [
    "# How do we assess correctness? In the case when the variables are uncorrelated and the variances are high in different directions"
   ]
  },
  {
   "cell_type": "code",
   "execution_count": 76,
   "metadata": {},
   "outputs": [],
   "source": [
    "#s = np.random.uniform(1, 10, size=(20,))\n",
    "s = np.ones(20)\n",
    "s[0] = 10\n",
    "s[1] = 10\n",
    "s = np.sort(s)\n",
    "U = ortho_group.rvs(20)\n",
    "S1 = np.diag(s)\n",
    "s = s[::-1]\n",
    "S2 = np.diag(s) "
   ]
  },
  {
   "cell_type": "code",
   "execution_count": 77,
   "metadata": {},
   "outputs": [],
   "source": [
    "x1 = np.random.multivariate_normal(mean=np.zeros(S1.shape[0],), cov=S1, size=int(1e3))\n",
    "x2 = np.random.multivariate_normal(mean=np.zeros(S2.shape[0],), cov=S2, size=int(1e3))"
   ]
  },
  {
   "cell_type": "code",
   "execution_count": 79,
   "metadata": {},
   "outputs": [
    {
     "name": "stdout",
     "output_type": "stream",
     "text": [
      "Optimizing...\n",
      "Iteration    Cost                       Gradient norm     \n",
      "---------    -----------------------    --------------    \n",
      "   1         -1.6496805436090972e-01    2.20336499e-01    \n",
      "   2         -4.4325626021600739e-01    3.64814630e-01    \n",
      "   3         -7.6079557912222584e-01    2.92647166e-01    \n",
      "   4         -8.7107735430652422e-01    2.25300739e-01    \n",
      "   5         -8.9705470323337400e-01    3.51607472e-01    \n",
      "   6         -9.8583826936686103e-01    2.47089527e-01    \n",
      "   7         -1.0465262133269673e+00    8.16401122e-02    \n",
      "   8         -1.0530167237145780e+00    1.28721934e-02    \n",
      "   9         -1.0531612657116800e+00    3.73820598e-03    \n",
      "  10         -1.0531726420806948e+00    1.38967429e-03    \n",
      "  11         -1.0531738733182252e+00    7.89312314e-04    \n",
      "  12         -1.0531744558922651e+00    4.49314114e-05    \n",
      "  13         -1.0531744576883231e+00    9.48538676e-06    \n",
      "  14         -1.0531744577622479e+00    3.24034027e-06    \n",
      "  15         -1.0531744577642184e+00    2.89512288e-06    \n",
      "  16         -1.0531744577701072e+00    1.43063166e-06    \n",
      "  17         -1.0531744577714390e+00    7.83660033e-07    \n",
      "Terminated - min grad norm reached after 17 iterations, 0.02 seconds.\n",
      "\n"
     ]
    }
   ],
   "source": [
    "opca = OrthPCA(2, 2)\n",
    "v1, v2, cost = opca.fit(x1, x2)"
   ]
  },
  {
   "cell_type": "code",
   "execution_count": 80,
   "metadata": {},
   "outputs": [
    {
     "data": {
      "text/plain": [
       "array([10., 10.,  1.,  1.,  1.,  1.,  1.,  1.,  1.,  1.,  1.,  1.,  1.,\n",
       "        1.,  1.,  1.,  1.,  1.,  1.,  1.])"
      ]
     },
     "execution_count": 80,
     "metadata": {},
     "output_type": "execute_result"
    }
   ],
   "source": [
    "np.diag(S2)"
   ]
  },
  {
   "cell_type": "code",
   "execution_count": 35,
   "metadata": {},
   "outputs": [
    {
     "data": {
      "text/plain": [
       "array([1.99918489, 2.19331574, 2.42964117, 2.5119952 , 2.81859447,\n",
       "       3.56702381, 3.70946505, 4.10015276, 4.54285099, 5.35318668,\n",
       "       5.51892151, 6.23763697, 6.37491186, 6.69471379, 6.79359576,\n",
       "       6.8055461 , 7.22299319, 7.88964515, 8.24074071, 8.42712075])"
      ]
     },
     "execution_count": 35,
     "metadata": {},
     "output_type": "execute_result"
    }
   ],
   "source": [
    "np.diag(S1)"
   ]
  },
  {
   "cell_type": "code",
   "execution_count": 81,
   "metadata": {},
   "outputs": [
    {
     "data": {
      "text/plain": [
       "array([[ 2.57078604e-03, -1.62754427e-03],\n",
       "       [ 4.97697462e-03, -2.47406833e-03],\n",
       "       [-1.33420149e-02,  1.27885468e-02],\n",
       "       [ 1.62586984e-02, -1.23095605e-02],\n",
       "       [ 5.75256555e-03,  2.26271358e-03],\n",
       "       [-2.08973017e-02,  2.51929563e-02],\n",
       "       [ 1.69024944e-02, -9.61956733e-03],\n",
       "       [-1.61287271e-02,  3.75059489e-03],\n",
       "       [-1.67551709e-02,  2.33317250e-03],\n",
       "       [-3.47390189e-03,  2.16577589e-02],\n",
       "       [ 5.75833315e-03,  1.06635828e-02],\n",
       "       [-7.55089629e-03, -5.79637948e-03],\n",
       "       [ 5.23392173e-03, -2.61734656e-03],\n",
       "       [-8.03776104e-03, -8.41459891e-03],\n",
       "       [ 1.52188531e-03,  9.67310967e-03],\n",
       "       [ 3.42178512e-03,  5.57229511e-04],\n",
       "       [ 3.63094517e-04,  4.47780416e-03],\n",
       "       [ 1.01569251e-02,  1.19992821e-02],\n",
       "       [ 9.34777882e-01, -3.51420488e-01],\n",
       "       [ 3.52290590e-01,  9.35134220e-01]])"
      ]
     },
     "execution_count": 81,
     "metadata": {},
     "output_type": "execute_result"
    }
   ],
   "source": [
    "v1"
   ]
  },
  {
   "cell_type": "code",
   "execution_count": 82,
   "metadata": {},
   "outputs": [
    {
     "data": {
      "text/plain": [
       "array([[-6.34274253e-01, -7.71315895e-01],\n",
       "       [-7.71412600e-01,  6.34389384e-01],\n",
       "       [ 5.97393589e-03, -1.25731887e-02],\n",
       "       [-1.68967086e-03, -1.14230690e-02],\n",
       "       [-1.38411794e-02,  7.45958192e-03],\n",
       "       [-8.65059464e-03, -2.01480553e-02],\n",
       "       [-7.95186643e-03,  2.18891781e-03],\n",
       "       [ 4.46141317e-03, -2.63262905e-02],\n",
       "       [ 4.31520598e-03, -4.49975976e-03],\n",
       "       [-1.75862117e-02, -3.17673517e-03],\n",
       "       [-3.70808300e-04, -1.46905152e-02],\n",
       "       [ 1.80647559e-03, -1.47715186e-02],\n",
       "       [ 1.84764217e-02,  2.09046704e-02],\n",
       "       [-3.10520942e-04, -1.13282417e-02],\n",
       "       [-1.45536866e-02, -8.27950121e-03],\n",
       "       [ 1.17342111e-02, -1.96749607e-03],\n",
       "       [ 2.81380921e-02, -8.03135936e-03],\n",
       "       [ 1.95039483e-02,  4.79419907e-04],\n",
       "       [ 5.98984354e-03, -2.64040697e-03],\n",
       "       [-6.11529593e-04,  2.54598319e-04]])"
      ]
     },
     "execution_count": 82,
     "metadata": {},
     "output_type": "execute_result"
    }
   ],
   "source": [
    "v2"
   ]
  },
  {
   "cell_type": "code",
   "execution_count": 83,
   "metadata": {},
   "outputs": [
    {
     "data": {
      "text/plain": [
       "array(-1.05317446)"
      ]
     },
     "execution_count": 83,
     "metadata": {},
     "output_type": "execute_result"
    }
   ],
   "source": [
    "cost"
   ]
  },
  {
   "cell_type": "code",
   "execution_count": null,
   "metadata": {},
   "outputs": [],
   "source": []
  },
  {
   "cell_type": "code",
   "execution_count": 58,
   "metadata": {},
   "outputs": [
    {
     "data": {
      "text/plain": [
       "array([[ 7.02563008e-17,  4.41053444e-16],\n",
       "       [-6.07153217e-17, -1.27502175e-16]])"
      ]
     },
     "execution_count": 58,
     "metadata": {},
     "output_type": "execute_result"
    }
   ],
   "source": [
    "v1.T @ v2"
   ]
  },
  {
   "cell_type": "code",
   "execution_count": 53,
   "metadata": {},
   "outputs": [
    {
     "data": {
      "text/plain": [
       "15.707200855371017"
      ]
     },
     "execution_count": 53,
     "metadata": {},
     "output_type": "execute_result"
    }
   ],
   "source": [
    "np.trace(v1.T @ S1 @ v1)"
   ]
  },
  {
   "cell_type": "code",
   "execution_count": 87,
   "metadata": {},
   "outputs": [
    {
     "data": {
      "text/plain": [
       "1.0526315789473684"
      ]
     },
     "execution_count": 87,
     "metadata": {},
     "output_type": "execute_result"
    }
   ],
   "source": [
    "np.sum(s[0:2])/np.sum(s) * 2"
   ]
  },
  {
   "cell_type": "code",
   "execution_count": 67,
   "metadata": {},
   "outputs": [],
   "source": [
    "u1 = np.zeros((20, 2))\n",
    "u1[-1, 0] = 1\n",
    "u1[-2, 1] = 1\n",
    "u2 = np.zeros((20, 2))\n",
    "u2[0, 0] = 1\n",
    "u2[1, 1] = 1"
   ]
  },
  {
   "cell_type": "code",
   "execution_count": 84,
   "metadata": {},
   "outputs": [
    {
     "data": {
      "text/plain": [
       "array([0.05474403, 0.0334033 ])"
      ]
     },
     "execution_count": 84,
     "metadata": {},
     "output_type": "execute_result"
    }
   ],
   "source": [
    "scipy.linalg.subspace_angles(u1, v1)"
   ]
  },
  {
   "cell_type": "code",
   "execution_count": 85,
   "metadata": {},
   "outputs": [
    {
     "data": {
      "text/plain": [
       "array([0.05265982, 0.04972136])"
      ]
     },
     "execution_count": 85,
     "metadata": {},
     "output_type": "execute_result"
    }
   ],
   "source": [
    "scipy.linalg.subspace_angles(u2, v2)"
   ]
  },
  {
   "cell_type": "code",
   "execution_count": 86,
   "metadata": {},
   "outputs": [
    {
     "data": {
      "text/plain": [
       "array([10., 10.,  1.,  1.,  1.,  1.,  1.,  1.,  1.,  1.,  1.,  1.,  1.,\n",
       "        1.,  1.,  1.,  1.,  1.,  1.,  1.])"
      ]
     },
     "execution_count": 86,
     "metadata": {},
     "output_type": "execute_result"
    }
   ],
   "source": []
  },
  {
   "cell_type": "code",
   "execution_count": null,
   "metadata": {},
   "outputs": [],
   "source": []
  }
 ],
 "metadata": {
  "interpreter": {
   "hash": "c52494c424e88c3f855a8aeb34b231af4706f7aa247f66fb47c890a5ab8814ab"
  },
  "kernelspec": {
   "display_name": "Python 3.7.10 64-bit ('dyn': conda)",
   "language": "python",
   "name": "python3"
  },
  "language_info": {
   "codemirror_mode": {
    "name": "ipython",
    "version": 3
   },
   "file_extension": ".py",
   "mimetype": "text/x-python",
   "name": "python",
   "nbconvert_exporter": "python",
   "pygments_lexer": "ipython3",
   "version": "3.7.10"
  },
  "orig_nbformat": 4
 },
 "nbformat": 4,
 "nbformat_minor": 2
}
