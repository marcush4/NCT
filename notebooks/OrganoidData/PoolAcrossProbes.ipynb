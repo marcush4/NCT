{
 "cells": [
  {
   "cell_type": "markdown",
   "metadata": {},
   "source": [
    "# This pools together the units and spike times across all the probes for the brain organoid data"
   ]
  },
  {
   "cell_type": "code",
   "execution_count": 1,
   "metadata": {},
   "outputs": [],
   "source": [
    "import numpy as np\n",
    "import pickle\n",
    "import os"
   ]
  },
  {
   "cell_type": "code",
   "execution_count": 2,
   "metadata": {},
   "outputs": [],
   "source": [
    "directory = '/home/marcush/Data/OrganoidData'\n",
    "pkl_files = sorted([f for f in os.listdir(directory) if f.endswith(\".pkl\")])"
   ]
  },
  {
   "cell_type": "markdown",
   "metadata": {},
   "source": [
    "# --> Load data from all probes\n",
    "# --> Add them to a single object for the session\n",
    "# --> Convert spike times to units of ms"
   ]
  },
  {
   "cell_type": "code",
   "execution_count": 12,
   "metadata": {},
   "outputs": [],
   "source": [
    "AllSessions = {}\n",
    "current_max_key = 0  \n",
    "\n",
    "for filename in pkl_files:\n",
    "    file_path = os.path.join(directory, filename)\n",
    "    with open(file_path, \"rb\") as f:\n",
    "        data = pickle.load(f)  \n",
    "\n",
    "        for old_key, value in data.items():\n",
    "            new_key = current_max_key + old_key  \n",
    "            AllSessions[new_key] = np.round(np.array(np.copy(value))/10).astype(int) # convert to milliseconds (spike times come in sampled at 10K Hz)\n",
    "            #AllSessions[new_key] = np.copy(value) \n",
    "\n",
    "        current_max_key = max(AllSessions.keys())\n"
   ]
  },
  {
   "cell_type": "markdown",
   "metadata": {},
   "source": [
    "## To save the AllSessions run the below:"
   ]
  },
  {
   "cell_type": "code",
   "execution_count": 14,
   "metadata": {},
   "outputs": [],
   "source": [
    "output_file = os.path.join(directory, \"AllSessions.pkl\")\n",
    "\n",
    "with open(output_file, \"wb\") as f:\n",
    "    pickle.dump(AllSessions, f)"
   ]
  },
  {
   "cell_type": "code",
   "execution_count": 15,
   "metadata": {},
   "outputs": [
    {
     "name": "stdout",
     "output_type": "stream",
     "text": [
      "Smallest spike time: 9\n",
      "Largest spike time: 3550000\n"
     ]
    }
   ],
   "source": [
    "# Extract all spike times from the dictionary values\n",
    "all_spike_times = [time for times in AllSessions.values() for time in times]\n",
    "\n",
    "# Compute the smallest and largest spike time\n",
    "min_spike_time = min(all_spike_times)\n",
    "max_spike_time = max(all_spike_times)\n",
    "\n",
    "# Print results\n",
    "print(f\"Smallest spike time: {min_spike_time}\")\n",
    "print(f\"Largest spike time: {max_spike_time}\")"
   ]
  },
  {
   "cell_type": "code",
   "execution_count": 16,
   "metadata": {},
   "outputs": [
    {
     "data": {
      "text/plain": [
       "0.986111111111111"
      ]
     },
     "execution_count": 16,
     "metadata": {},
     "output_type": "execute_result"
    }
   ],
   "source": [
    "max_spike_time/1000/60/60\n",
    "\n"
   ]
  },
  {
   "cell_type": "code",
   "execution_count": null,
   "metadata": {},
   "outputs": [],
   "source": []
  }
 ],
 "metadata": {
  "kernelspec": {
   "display_name": "ncontrol",
   "language": "python",
   "name": "python3"
  },
  "language_info": {
   "codemirror_mode": {
    "name": "ipython",
    "version": 3
   },
   "file_extension": ".py",
   "mimetype": "text/x-python",
   "name": "python",
   "nbconvert_exporter": "python",
   "pygments_lexer": "ipython3",
   "version": "3.9.19"
  }
 },
 "nbformat": 4,
 "nbformat_minor": 2
}
