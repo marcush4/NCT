{
 "cells": [
  {
   "cell_type": "code",
   "execution_count": 1,
   "metadata": {},
   "outputs": [],
   "source": [
    "import pickle\n",
    "import pandas as pd\n",
    "import numpy as np\n",
    "import itertools\n",
    "import os\n",
    "import matplotlib.pyplot as plt\n",
    "import glob as glob\n",
    "import sys; sys.path.append(\"../../..\")  # Allows access to all the scripts/modules in the larger directory\n",
    "from utils import calc_loadings\n",
    "from collections import defaultdict\n",
    "from scipy.stats import spearmanr\n",
    "import plotly.graph_objects as go\n",
    "from plotly.offline import init_notebook_mode, iplot\n",
    "import scipy.ndimage\n",
    "import matplotlib.colors as mcolors\n",
    "import numpy as np\n",
    "from sklearn.model_selection import KFold\n",
    "from sklearn.preprocessing import StandardScaler\n",
    "from sklearn.linear_model import LogisticRegression\n",
    "from sklearn.metrics import hamming_loss\n",
    "from sklearn.mixture import GaussianMixture\n",
    "from scipy.optimize import fsolve\n",
    "from tqdm import tqdm"
   ]
  },
  {
   "cell_type": "code",
   "execution_count": 2,
   "metadata": {},
   "outputs": [],
   "source": [
    "file_name = \"degraded_only_v4_AnalysisDegraded_230322_214006_Jamie.pickle\"\n",
    "file_path = \"/home/marcush/Data/TsaoLabData/split/degraded\"\n",
    "data_path = os.path.join(file_path, file_name)\n",
    "\n",
    "\n",
    "with open(data_path, 'rb') as file:\n",
    "    raw_data = pickle.load(file)"
   ]
  },
  {
   "cell_type": "markdown",
   "metadata": {},
   "source": [
    "# Get Data"
   ]
  },
  {
   "cell_type": "code",
   "execution_count": 3,
   "metadata": {},
   "outputs": [],
   "source": [
    "StimulusNames = raw_data['condition_stimulus_list']\n",
    "StimulusIndicies = raw_data['stimulus_index_valid']"
   ]
  },
  {
   "cell_type": "code",
   "execution_count": 12,
   "metadata": {},
   "outputs": [],
   "source": [
    "degrade_types = [\"blur\", \"contrast\", \"mooney_gray\", \"noise\", \"banana\", \"body\", \"bottle\", \"box\", \"rand1\", \"rand2\"]\n",
    "stimulus_ID_from_names = np.arange(1, len(StimulusNames)+1)\n",
    "\n",
    "degraded_stim_inds = np.zeros(len(StimulusNames))\n",
    "for idx, name in enumerate(StimulusNames):\n",
    "    for deg in degrade_types:\n",
    "        if deg in name:\n",
    "            degraded_stim_inds[idx] = 1\n",
    "\n",
    "degradedIDs = stimulus_ID_from_names[degraded_stim_inds.astype(bool)]\n",
    "degraded_trials = np.array([ ID in degradedIDs for ID in StimulusIndicies]).astype(int)\n",
    "\n",
    "degraded_trial_inds = np.where(degraded_trials == 1)[0]\n",
    "clear_trial_inds = np.where(degraded_trials == 0)[0]\n"
   ]
  },
  {
   "cell_type": "code",
   "execution_count": 13,
   "metadata": {},
   "outputs": [],
   "source": [
    "save_folder = \"/home/marcush/Data/TsaoLabData/split/degraded/keepInds\"\n",
    "\n",
    "deg_trials_save_path_ = os.path.join(save_folder, os.path.splitext(file_name)[0]+'_deg_trial_keep_inds.pkl')\n",
    "clear_trials_save_path_ = os.path.join(save_folder, os.path.splitext(file_name)[0]+'_clear_trial_keep_inds.pkl')\n",
    "\n",
    "\n",
    "with open(deg_trials_save_path_, 'wb') as file:\n",
    "    pickle.dump(degraded_trial_inds, file)\n",
    "\n",
    "with open(clear_trials_save_path_, 'wb') as file:\n",
    "    pickle.dump(clear_trial_inds, file)\n",
    "\n"
   ]
  },
  {
   "cell_type": "code",
   "execution_count": null,
   "metadata": {},
   "outputs": [],
   "source": []
  }
 ],
 "metadata": {
  "kernelspec": {
   "display_name": "ncontrol",
   "language": "python",
   "name": "python3"
  },
  "language_info": {
   "codemirror_mode": {
    "name": "ipython",
    "version": 3
   },
   "file_extension": ".py",
   "mimetype": "text/x-python",
   "name": "python",
   "nbconvert_exporter": "python",
   "pygments_lexer": "ipython3",
   "version": "3.9.19"
  }
 },
 "nbformat": 4,
 "nbformat_minor": 2
}
