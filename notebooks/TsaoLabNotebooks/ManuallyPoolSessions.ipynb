{
 "cells": [
  {
   "cell_type": "code",
   "execution_count": 1,
   "metadata": {},
   "outputs": [
    {
     "name": "stderr",
     "output_type": "stream",
     "text": [
      "/home/marcush/Data/anaconda3/envs/ncontrol/lib/python3.9/site-packages/tqdm/auto.py:21: TqdmWarning: IProgress not found. Please update jupyter and ipywidgets. See https://ipywidgets.readthedocs.io/en/stable/user_install.html\n",
      "  from .autonotebook import tqdm as notebook_tqdm\n"
     ]
    }
   ],
   "source": [
    "import pdb\n",
    "import sys, os\n",
    "import numpy as np\n",
    "import matplotlib.pyplot as plt\n",
    "import scipy \n",
    "import time\n",
    "import glob\n",
    "import pickle\n",
    "import pandas as pd\n",
    "from tqdm import tqdm\n",
    "\n",
    "import umap\n",
    "from sklearn.dummy import DummyClassifier\n",
    "from sklearn.discriminant_analysis import LinearDiscriminantAnalysis\n",
    "from sklearn.model_selection import cross_val_score\n",
    "\n",
    "import matplotlib.cm as cm\n",
    "import matplotlib.colors as colors\n",
    "\n",
    "\n",
    "#sys.path.append('/home/akumar/nse/neural_control')\n",
    "sys.path.append('/home/marcush/projects/neural_control/')\n",
    "sys.path.append('/home/marcush/projects/neural_control/analysis_scripts/')\n",
    "sys.path.append('/home/marcush/projects/github_repos')\n",
    "from utils import calc_loadings, calc_cascaded_loadings\n",
    "from loaders import load_sabes, load_peanut, reach_segment_sabes, segment_peanut, load_tsao\n",
    "\n"
   ]
  },
  {
   "cell_type": "code",
   "execution_count": 2,
   "metadata": {},
   "outputs": [],
   "source": [
    "import itertools\n"
   ]
  },
  {
   "cell_type": "code",
   "execution_count": 4,
   "metadata": {},
   "outputs": [
    {
     "name": "stdout",
     "output_type": "stream",
     "text": [
      "Starting outer loop ML, ML, LQGCA, LQGCA\n",
      "Starting outer loop ML, ML, LQGCA, PCA\n",
      "Starting outer loop ML, ML, LQGCA, CCA\n",
      "Starting outer loop ML, ML, PCA, LQGCA\n",
      "Starting outer loop ML, ML, PCA, PCA\n",
      "Starting outer loop ML, ML, PCA, CCA\n",
      "Starting outer loop ML, ML, CCA, LQGCA\n",
      "Starting outer loop ML, ML, CCA, PCA\n",
      "Starting outer loop ML, ML, CCA, CCA\n",
      "Starting outer loop ML, AM, LQGCA, LQGCA\n",
      "Starting outer loop ML, AM, LQGCA, PCA\n",
      "Starting outer loop ML, AM, LQGCA, CCA\n",
      "Starting outer loop ML, AM, PCA, LQGCA\n",
      "Starting outer loop ML, AM, PCA, PCA\n",
      "Starting outer loop ML, AM, PCA, CCA\n",
      "Starting outer loop ML, AM, CCA, LQGCA\n",
      "Starting outer loop ML, AM, CCA, PCA\n",
      "Starting outer loop ML, AM, CCA, CCA\n",
      "Starting outer loop AM, ML, LQGCA, LQGCA\n",
      "Starting outer loop AM, ML, LQGCA, PCA\n",
      "Starting outer loop AM, ML, LQGCA, CCA\n",
      "Starting outer loop AM, ML, PCA, LQGCA\n",
      "Starting outer loop AM, ML, PCA, PCA\n",
      "Starting outer loop AM, ML, PCA, CCA\n",
      "Starting outer loop AM, ML, CCA, LQGCA\n",
      "Starting outer loop AM, ML, CCA, PCA\n",
      "Starting outer loop AM, ML, CCA, CCA\n",
      "Starting outer loop AM, AM, LQGCA, LQGCA\n",
      "Starting outer loop AM, AM, LQGCA, PCA\n",
      "Starting outer loop AM, AM, LQGCA, CCA\n",
      "Starting outer loop AM, AM, PCA, LQGCA\n",
      "Starting outer loop AM, AM, PCA, PCA\n",
      "Starting outer loop AM, AM, PCA, CCA\n",
      "Starting outer loop AM, AM, CCA, LQGCA\n",
      "Starting outer loop AM, AM, CCA, PCA\n",
      "Starting outer loop AM, AM, CCA, CCA\n"
     ]
    }
   ],
   "source": [
    "regions = ['ML', 'AM']\n",
    "proj_methods = ['LQGCA', 'PCA', 'CCA']\n",
    "\n",
    "for region0, region1, method0, method1 in itertools.product(regions, regions, proj_methods, proj_methods):\n",
    "    \n",
    "    print(f\"Starting outer loop {region0}, {region1}, {method0}, {method1}\")"
   ]
  },
  {
   "cell_type": "code",
   "execution_count": 2,
   "metadata": {},
   "outputs": [],
   "source": [
    "path0 = '/home/marcush/Data/TsaoLabData/neural_control_output_new/decoding_FOB_230322_214006_Jamie/decoding_FOB_230322_214006_Jamie_glom.pickle'\n",
    "\n",
    "with open(path0, 'rb') as f:\n",
    "    dat0 = pickle.load(f) \n",
    "df_dec0 = pd.DataFrame(dat0)\n",
    "\n",
    "\n",
    "path1 = '/home/marcush/Data/TsaoLabData/neural_control_output_new/decoding_FOB_230809_140453_Alfie/decoding_FOB_230809_140453_Alfie_glom.pickle'\n",
    "\n",
    "with open(path1, 'rb') as f:\n",
    "    dat1 = pickle.load(f) \n",
    "df_dec1 = pd.DataFrame(dat1)\n"
   ]
  },
  {
   "cell_type": "code",
   "execution_count": 3,
   "metadata": {},
   "outputs": [
    {
     "name": "stdout",
     "output_type": "stream",
     "text": [
      "(2360, 26)\n"
     ]
    }
   ],
   "source": [
    "df_combined = pd.concat([df_dec0, df_dec1], ignore_index=True)\n",
    "print(df_combined.shape)\n",
    "#print(df_combined.head())\n"
   ]
  },
  {
   "cell_type": "code",
   "execution_count": 4,
   "metadata": {},
   "outputs": [
    {
     "name": "stdout",
     "output_type": "stream",
     "text": [
      "DataFrame saved as a pickle at /home/marcush/Data/TsaoLabData/neural_control_output_new/FinalDat/tsao_decode_df_FOB.pkl\n"
     ]
    }
   ],
   "source": [
    "save_path = '/home/marcush/Data/TsaoLabData/neural_control_output_new/FinalDat/tsao_decode_df_FOB.pkl'\n",
    "\n",
    "# Save the DataFrame as a pickle\n",
    "df_combined.to_pickle(save_path)\n",
    "\n",
    "print(f\"DataFrame saved as a pickle at {save_path}\")\n"
   ]
  },
  {
   "cell_type": "code",
   "execution_count": null,
   "metadata": {},
   "outputs": [],
   "source": []
  }
 ],
 "metadata": {
  "kernelspec": {
   "display_name": "ncontrol",
   "language": "python",
   "name": "python3"
  },
  "language_info": {
   "codemirror_mode": {
    "name": "ipython",
    "version": 3
   },
   "file_extension": ".py",
   "mimetype": "text/x-python",
   "name": "python",
   "nbconvert_exporter": "python",
   "pygments_lexer": "ipython3",
   "version": "3.9.19"
  }
 },
 "nbformat": 4,
 "nbformat_minor": 2
}
