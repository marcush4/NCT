{
 "cells": [
  {
   "cell_type": "markdown",
   "metadata": {},
   "source": [
    "1. Run code on Jamie and Alfie degraded \n",
    "    1.1 Confirm that most FBC neurons are no longer just flat lines! If they are, consider adjusting GMM model for threshold (or just Fing picking one)\n",
    "\n",
    "2. Get thresholds for Jamie and Alfie clear \n",
    "\n",
    "3. Where relevant, compute manual stimulated spike rates and baseline spike rates\n",
    "    3.1 See CCA notebooks for new way of getting spikes\n",
    "\n",
    "4. Appropriately z-score responses\n",
    "5. Look at CCA exponential cutoff and use that dim\n",
    "6. Get jPCA stuff online?\n",
    "7. Work on Exposition\n",
    "\n",
    "\n",
    "8. Put a 2 class function approximator on top of a 2 layer trained CNN (MNIST digits, 0 and 1, for example)"
   ]
  }
 ],
 "metadata": {
  "language_info": {
   "name": "python"
  }
 },
 "nbformat": 4,
 "nbformat_minor": 2
}
