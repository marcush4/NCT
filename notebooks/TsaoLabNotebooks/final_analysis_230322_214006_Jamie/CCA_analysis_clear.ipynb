{
 "cells": [
  {
   "cell_type": "code",
   "execution_count": 1,
   "metadata": {},
   "outputs": [],
   "source": [
    "import pickle\n",
    "import pandas as pd\n",
    "import numpy as np\n",
    "import itertools\n",
    "import matplotlib.pyplot as plt\n",
    "import glob as glob\n",
    "import os\n",
    "import scipy\n",
    "import sys; sys.path.append(\"../../..\")  # Allows access to all the scripts/modules in the larger directory\n",
    "from utils import calc_loadings\n",
    "from collections import defaultdict\n",
    "from sklearn.cross_decomposition import CCA\n",
    "from sklearn.model_selection import KFold\n"
   ]
  },
  {
   "cell_type": "markdown",
   "metadata": {},
   "source": [
    "### Load consolidated dimreduc dataframe"
   ]
  },
  {
   "cell_type": "code",
   "execution_count": 2,
   "metadata": {},
   "outputs": [],
   "source": [
    "dimreduc_glom_path = '/home/marcush/Data/TsaoLabData/neural_control_output/dimreduc_clear_final_analysis_230322_214006_Jamie/dimreduc_clear_final_analysis_230322_214006_Jamie_glom.pickle'\n",
    "with open(dimreduc_glom_path, 'rb') as f:\n",
    "    dat = pickle.load(f) \n",
    "\n",
    "df_dimreduc = pd.DataFrame(dat)"
   ]
  },
  {
   "cell_type": "markdown",
   "metadata": {},
   "source": [
    "### Load the processed data from both regions"
   ]
  },
  {
   "cell_type": "code",
   "execution_count": 3,
   "metadata": {},
   "outputs": [],
   "source": [
    "def make_hashable(obj):\n",
    "    if isinstance(obj, dict):\n",
    "        return tuple(sorted((key, make_hashable(value)) for key, value in obj.items()))\n",
    "    elif isinstance(obj, (list, tuple)):\n",
    "        return tuple(make_hashable(item) for item in obj)\n",
    "    else:\n",
    "        return obj\n",
    "\n",
    "\n",
    "unique_hashes = set(make_hashable(d) for d in df_dimreduc['full_arg_tuple'])\n",
    "unique_dicts = [dict(u) for u in unique_hashes]\n",
    "preload_dict_path = df_dimreduc['data_path'][0] + \"/preloaded/preloadDict.pickle\"\n",
    "\n",
    "with open(preload_dict_path, 'rb') as file:\n",
    "    preloadDict = pickle.load(file)"
   ]
  },
  {
   "cell_type": "code",
   "execution_count": 4,
   "metadata": {},
   "outputs": [],
   "source": [
    "for arg_dict in unique_dicts:\n",
    "    arg_tuple = tuple(sorted(arg_dict.items()))\n",
    "\n",
    "\n",
    "    for args in preloadDict.keys():\n",
    "\n",
    "        if args == arg_tuple:\n",
    "\n",
    "            preloadID = preloadDict[arg_tuple]\n",
    "            loaded_data_path = os.path.dirname(preload_dict_path) + f\"/preloaded_data_{preloadID}.pickle\"\n",
    "            \n",
    "            if arg_dict['region'] == 'AM':\n",
    "                with open(loaded_data_path, 'rb') as file:\n",
    "                    AM_loaded_data = pickle.load(file)\n",
    "\n",
    "            elif arg_dict['region'] == 'ML':\n",
    "                with open(loaded_data_path, 'rb') as file:\n",
    "                    ML_loaded_data = pickle.load(file)\n",
    "\n",
    "AM_spikes = np.sum(AM_loaded_data['spike_rates'], 1)\n",
    "ML_spikes = np.sum(ML_loaded_data['spike_rates'], 1)"
   ]
  },
  {
   "cell_type": "markdown",
   "metadata": {},
   "source": [
    "### Find saturating CCA dimensionality"
   ]
  },
  {
   "cell_type": "code",
   "execution_count": 5,
   "metadata": {},
   "outputs": [
    {
     "data": {
      "text/plain": [
       "((3001, 270), (3001, 413))"
      ]
     },
     "execution_count": 5,
     "metadata": {},
     "output_type": "execute_result"
    }
   ],
   "source": [
    "np.shape(AM_spikes), np.shape(ML_spikes)"
   ]
  },
  {
   "cell_type": "code",
   "execution_count": 12,
   "metadata": {},
   "outputs": [],
   "source": [
    "RELOAD = False\n",
    "save_path_cca_corrs = f'./CCA_structs/cca_corrs_clear.pkl'"
   ]
  },
  {
   "cell_type": "code",
   "execution_count": 13,
   "metadata": {},
   "outputs": [
    {
     "name": "stdout",
     "output_type": "stream",
     "text": [
      "Loading previous CCA fit to split data.\n"
     ]
    }
   ],
   "source": [
    "X = ML_spikes\n",
    "Y = AM_spikes\n",
    "max_cca_dim_check = 250\n",
    "\n",
    "if RELOAD:\n",
    "    fold_splits = np.unique(df_dimreduc['fold_idx'].values)\n",
    "    nSplits = len(fold_splits)\n",
    "    canonical_correlations = np.zeros((nSplits, max_cca_dim_check))\n",
    "\n",
    "    for split in fold_splits: \n",
    "\n",
    "        train_idxs, test_idxs = list(KFold(n_splits=nSplits).split(X))[split]\n",
    "\n",
    "        x = X[train_idxs]\n",
    "        y = Y[train_idxs]\n",
    "\n",
    "        cca = CCA(n_components=max_cca_dim_check, max_iter=1000)\n",
    "        cca.fit(x, y)\n",
    "        X_c, Y_c = cca.transform(x, y)\n",
    "\n",
    "        canonical_correlations[split, :] = [scipy.stats.pearsonr(X_c[:, i], Y_c[:, i])[0] for i in range(max_cca_dim_check)]\n",
    "\n",
    "        print(f\"Done with split {split+1} of {nSplits}\")\n",
    "\n",
    "    with open(save_path_cca_corrs, 'wb') as f:\n",
    "        pickle.dump(canonical_correlations, f)\n",
    "\n",
    "else:\n",
    "    \n",
    "    with open(save_path_cca_corrs, 'rb') as f:\n",
    "        canonical_correlations = pickle.load(f)\n",
    "    print(\"Loading previous CCA fit to split data.\")\n"
   ]
  },
  {
   "cell_type": "code",
   "execution_count": 14,
   "metadata": {},
   "outputs": [
    {
     "data": {
      "text/plain": [
       "Text(0.5, 0, 'Dimension')"
      ]
     },
     "execution_count": 14,
     "metadata": {},
     "output_type": "execute_result"
    },
    {
     "data": {
      "image/png": "[encoded data removed]",
      "text/plain": [
       "<Figure size 400x400 with 1 Axes>"
      ]
     },
     "metadata": {},
     "output_type": "display_data"
    }
   ],
   "source": [
    "fig, ax = plt.subplots(figsize=(4, 4))\n",
    "\n",
    "medianprops = dict(linewidth=0)\n",
    "bplot = ax.boxplot(np.reshape(canonical_correlations, (-1, max_cca_dim_check)), patch_artist=True, medianprops=medianprops, notch=True)\n",
    "nTicks = 50\n",
    "ax.set_xticks(np.arange(1, max_cca_dim_check, nTicks))\n",
    "ax.set_xticklabels(np.arange(1, max_cca_dim_check, nTicks))\n",
    "ax.set_xlim([0, max_cca_dim_check])\n",
    "ax.set_ylabel('Canonical Correlation Coefficient')\n",
    "ax.set_xlabel('Dimension')"
   ]
  },
  {
   "cell_type": "markdown",
   "metadata": {},
   "source": [
    "# Use BIC to determine optimal CCA dimensionality"
   ]
  },
  {
   "cell_type": "code",
   "execution_count": 15,
   "metadata": {},
   "outputs": [],
   "source": [
    "# p <= q\n",
    "def CC_AIC(cc_coefs, N, p, q):\n",
    "    # Sort in descending order\n",
    "    cc_coefs = np.sort(cc_coefs)[::-1]\n",
    "\n",
    "    # Calculate the vector Ak\n",
    "    Ak = np.array([-N * np.sum(np.log(1 - np.power(cc_coefs[k + 1:], 2))) -2 * (p - k) * (q - k) for k in range(cc_coefs.size - 1)])\n",
    "    return Ak\n",
    "\n",
    "def CC_BIC(cc_coefs, N, p, q):\n",
    "    # Sort in descending order\n",
    "    cc_coefs = np.sort(cc_coefs)[::-1]\n",
    "\n",
    "    # Calculate the vector Ak\n",
    "    Ak = np.array([-N * np.sum(np.log(1 - np.power(cc_coefs[k + 1:], 2))) -np.log(N) * (p - k) * (q - k) for k in range(cc_coefs.size - 1)])\n",
    "    return Ak"
   ]
  },
  {
   "cell_type": "code",
   "execution_count": 16,
   "metadata": {},
   "outputs": [],
   "source": [
    "X = ML_spikes\n",
    "Y = AM_spikes\n",
    "\n",
    "\n",
    "fold_splits = np.unique(df_dimreduc['fold_idx'].values)\n",
    "nSplits = len(fold_splits)\n",
    "cc_dim = np.zeros((nSplits, 2))\n",
    "\n",
    "\n",
    "for split in fold_splits: \n",
    "\n",
    "    train_idxs, test_idxs = list(KFold(n_splits=nSplits).split(X))[split]\n",
    "\n",
    "    x = X[train_idxs]\n",
    "    y = Y[train_idxs]\n",
    "\n",
    "    p = min(x.shape[1], y.shape[1])\n",
    "    q = max(x.shape[1], y.shape[1])\n",
    "\n",
    "    Ak = CC_AIC(canonical_correlations[split, :], x.shape[0], p, q)\n",
    "    cc_dim[split, 0] = np.argmin(Ak)\n",
    "    Ak = CC_BIC(canonical_correlations[split, :], x.shape[0], p, q)    \n",
    "    cc_dim[split, 1] = np.argmin(Ak)"
   ]
  },
  {
   "cell_type": "code",
   "execution_count": 17,
   "metadata": {},
   "outputs": [
    {
     "data": {
      "text/plain": [
       "Text(0, 0.5, 'Dimension')"
      ]
     },
     "execution_count": 17,
     "metadata": {},
     "output_type": "execute_result"
    },
    {
     "data": {
      "image/png": "[encoded data removed]",
      "text/plain": [
       "<Figure size 400x400 with 1 Axes>"
      ]
     },
     "metadata": {},
     "output_type": "display_data"
    }
   ],
   "source": [
    "fig, ax = plt.subplots(figsize=(4, 4))\n",
    "ax.boxplot(cc_dim + 1)\n",
    "ax.set_xticklabels(['AIC', 'BIC'])\n",
    "ax.set_ylabel('Dimension')"
   ]
  },
  {
   "cell_type": "code",
   "execution_count": 18,
   "metadata": {},
   "outputs": [
    {
     "name": "stdout",
     "output_type": "stream",
     "text": [
      "Optimal CCA Dim: 24.0\n"
     ]
    }
   ],
   "source": [
    "print(f\"Optimal CCA Dim: {np.median(cc_dim[:,0])}\")"
   ]
  },
  {
   "cell_type": "markdown",
   "metadata": {},
   "source": [
    "### Compute and Save CCA Matrices"
   ]
  },
  {
   "cell_type": "code",
   "execution_count": 19,
   "metadata": {},
   "outputs": [],
   "source": [
    "manual_CCA_dim = 24 #np.inf \n",
    "\n",
    "cca_dims = np.min((manual_CCA_dim, AM_spikes.shape[-1], ML_spikes.shape[-1])).astype(int)\n",
    "\n",
    "ccamodel = CCA(n_components=cca_dims, max_iter=1000)\n",
    "ccamodel.fit(ML_spikes, AM_spikes)\n",
    "\n",
    "cca_save_path = os.path.dirname(df_dimreduc['results_file'][0]) + f\"/CCA_{cca_dims}_dims.pickle\"\n",
    "\n",
    "with open(cca_save_path, 'wb') as file:\n",
    "    pickle.dump(ccamodel, file)"
   ]
  },
  {
   "cell_type": "code",
   "execution_count": null,
   "metadata": {},
   "outputs": [],
   "source": []
  }
 ],
 "metadata": {
  "kernelspec": {
   "display_name": "ncontrol",
   "language": "python",
   "name": "python3"
  },
  "language_info": {
   "codemirror_mode": {
    "name": "ipython",
    "version": 3
   },
   "file_extension": ".py",
   "mimetype": "text/x-python",
   "name": "python",
   "nbconvert_exporter": "python",
   "pygments_lexer": "ipython3",
   "version": "3.9.19"
  }
 },
 "nbformat": 4,
 "nbformat_minor": 2
}
