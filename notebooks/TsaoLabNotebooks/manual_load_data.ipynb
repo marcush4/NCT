{
 "cells": [
  {
   "cell_type": "markdown",
   "metadata": {},
   "source": [
    "## May need to delete preloads/preload dict, as well as call initializePreLoadDict after"
   ]
  },
  {
   "cell_type": "code",
   "execution_count": 1,
   "metadata": {},
   "outputs": [],
   "source": [
    "import sys; sys.path.append(\"../..\")  # Allows access to all the scripts/modules in the larger directory\n",
    "import glob\n",
    "from loaders import load_tsao\n",
    "import pickle\n",
    "import numpy as np"
   ]
  },
  {
   "cell_type": "code",
   "execution_count": 2,
   "metadata": {},
   "outputs": [
    {
     "name": "stdout",
     "output_type": "stream",
     "text": [
      "['/home/marcush/Data/TsaoLabData/split/degraded/degraded_two_faces_AnalysisDegraded_230809_140453_Alfie.pickle', '/home/marcush/Data/TsaoLabData/split/degraded/degraded_only_v4_AnalysisDegraded_230322_214006_Jamie.pickle', '/home/marcush/Data/TsaoLabData/split/degraded/degraded_body_only_AnalysisDegraded_230809_140453_Alfie.pickle', '/home/marcush/Data/TsaoLabData/split/degraded/degraded_clear_only_v4_AnalysisDegraded_230322_214006_Jamie.pickle', '/home/marcush/Data/TsaoLabData/split/degraded/degraded_clear_only_v5_AnalysisDegraded_230809_140453_Alfie.pickle', '/home/marcush/Data/TsaoLabData/split/degraded/degraded_only_v5_AnalysisDegraded_230809_140453_Alfie.pickle']\n"
     ]
    }
   ],
   "source": [
    "script_path = '/home/marcush/projects/neural_control/batch_analysis.py'\n",
    "desc = 'Searching dimreduc params on FOB Tsao data set.'\n",
    "data_path = '/home/marcush/Data/TsaoLabData/split/degraded'  \n",
    "session_name = 'degraded_only_v4_AnalysisDegraded_230322_214006_Jamie'\n",
    "\n",
    "with open(f'{data_path}/keepInds/{session_name}_keep_inds_ML.pkl', 'rb') as f:\n",
    "    ML_inds = pickle.load(f)\n",
    "with open(f'{data_path}/keepInds/{session_name}_keep_inds_AM.pkl', 'rb') as f:\n",
    "    AM_inds = pickle.load(f)\n",
    "\n",
    "# loader args\n",
    "loader = 'tsao'\n",
    "loader_args = [{'bin_width':12, 'same_trial_dur':False, 'filter_fn':'none', 'filter_kwargs':{}, 'boxcox':0.5, 'region':'ML', 'manual_unit_selection': ML_inds, 'degraded':True, 'spike_threshold':None, 'trial_threshold':0},\n",
    "               {'bin_width':12, 'same_trial_dur':False, 'filter_fn':'none', 'filter_kwargs':{}, 'boxcox':0.5, 'region':'AM', 'manual_unit_selection': AM_inds, 'degraded':True, 'spike_threshold':None, 'trial_threshold':0}]\n",
    "\n",
    "data_files = glob.glob('%s/*.pickle' % data_path)\n",
    "\n",
    "\n",
    "print(data_files)"
   ]
  },
  {
   "cell_type": "code",
   "execution_count": 3,
   "metadata": {},
   "outputs": [
    {
     "name": "stdout",
     "output_type": "stream",
     "text": [
      "Begin Loading Data...\n",
      "Done Loading Data\n",
      "Begin getting spike times...\n",
      "Done getting spike times\n",
      "Begin filtering spike times into spike rates...\n",
      "MIH 1: True\n",
      "MIH 2: (1991, 413)\n"
     ]
    },
    {
     "name": "stderr",
     "output_type": "stream",
     "text": [
      "/home/marcush/projects/neural_control/notebooks/TsaoLabNotebooks/../../loaders.py:180: VisibleDeprecationWarning: Creating an ndarray from ragged nested sequences (which is a list-or-tuple of lists-or-tuples-or ndarrays with different lengths or shapes) is deprecated. If you meant to do this, you must specify 'dtype=object' when creating the ndarray.\n",
      "  spike_rates = np.array([np.array([spike_rates[i, j] for j in range(spike_rates.shape[1])]).T for i in range(spike_rates.shape[0])])\n"
     ]
    },
    {
     "name": "stdout",
     "output_type": "stream",
     "text": [
      "MIH 3: (1991,)\n",
      "Done filtering spike times into spike rates\n"
     ]
    }
   ],
   "source": [
    "S = load_tsao(data_files[1], **loader_args[0])"
   ]
  },
  {
   "cell_type": "code",
   "execution_count": 11,
   "metadata": {},
   "outputs": [
    {
     "data": {
      "text/plain": [
       "((1991,), (64, 413))"
      ]
     },
     "execution_count": 11,
     "metadata": {},
     "output_type": "execute_result"
    }
   ],
   "source": [
    "np.shape(S['spike_rates']), np.shape(S['spike_rates'][1])"
   ]
  },
  {
   "cell_type": "code",
   "execution_count": null,
   "metadata": {},
   "outputs": [],
   "source": []
  },
  {
   "cell_type": "code",
   "execution_count": null,
   "metadata": {},
   "outputs": [],
   "source": []
  },
  {
   "cell_type": "code",
   "execution_count": 41,
   "metadata": {},
   "outputs": [
    {
     "name": "stderr",
     "output_type": "stream",
     "text": [
      "/tmp/ipykernel_2820/3040612725.py:3: DeprecationWarning: `np.object` is a deprecated alias for the builtin `object`. To silence this warning, use `object` by itself. Doing this will not modify any behavior and is safe. \n",
      "Deprecated in NumPy 1.20; for more details and guidance: https://numpy.org/devdocs/release/1.20.0-notes.html#deprecations\n",
      "  spike_rates = np.zeros((spike_times.shape[0], spike_times.shape[1]), dtype=np.object)\n"
     ]
    }
   ],
   "source": [
    "spike_times = np.random.rand(10, 5)\n",
    "\n",
    "spike_rates = np.zeros((spike_times.shape[0], spike_times.shape[1]), dtype=np.object)\n",
    "\n",
    "for i in range(spike_times.shape[0]):\n",
    "    for j in range(spike_times.shape[1]):   \n",
    "        spike_rates[i,j] = np.random.rand(4)\n"
   ]
  },
  {
   "cell_type": "code",
   "execution_count": 42,
   "metadata": {},
   "outputs": [],
   "source": [
    "spike_rates = ndarray([np.array([spike_rates[i, j] for j in range(spike_rates.shape[1])]).T for i in range(spike_rates.shape[0])])\n"
   ]
  },
  {
   "cell_type": "code",
   "execution_count": 43,
   "metadata": {},
   "outputs": [
    {
     "data": {
      "text/plain": [
       "numpy.ndarray"
      ]
     },
     "execution_count": 43,
     "metadata": {},
     "output_type": "execute_result"
    }
   ],
   "source": [
    "type(spike_rates)"
   ]
  },
  {
   "cell_type": "code",
   "execution_count": 44,
   "metadata": {},
   "outputs": [
    {
     "data": {
      "text/plain": [
       "dtype('float64')"
      ]
     },
     "execution_count": 44,
     "metadata": {},
     "output_type": "execute_result"
    }
   ],
   "source": [
    "spike_rates.dtype"
   ]
  },
  {
   "cell_type": "code",
   "execution_count": 46,
   "metadata": {},
   "outputs": [
    {
     "data": {
      "text/plain": [
       "(10, 4, 5)"
      ]
     },
     "execution_count": 46,
     "metadata": {},
     "output_type": "execute_result"
    }
   ],
   "source": [
    "np.shape(np.ascontiguousarray(np.squeeze(spike_rates), dtype=float))"
   ]
  },
  {
   "cell_type": "code",
   "execution_count": 63,
   "metadata": {},
   "outputs": [],
   "source": [
    "import pickle\n",
    "\n",
    "pickle_file_path = '/home/marcush/Data/TsaoLabData/split/degraded/preloaded/preloadDict.pickle'\n",
    "\n",
    "with open(pickle_file_path, 'rb') as file:\n",
    "    preload_dict = pickle.load(file)"
   ]
  },
  {
   "cell_type": "code",
   "execution_count": 74,
   "metadata": {},
   "outputs": [
    {
     "name": "stdout",
     "output_type": "stream",
     "text": [
      "(('bin_width', 50), ('boxcox', 0.5), ('data_path', '/home/marcush/Data/TsaoLabData/split/degraded/degraded_only_v4_AnalysisDegraded_230322_214006_Jamie.pickle'), ('degraded', True), ('filter_fn', 'none'), ('filter_kwargs', ()), ('manual_unit_selection', (361, 379, 338, 460, 138, 542, 196, 307, 410, 512, 418, 89, 359, 491, 443, 493, 441, 230, 429, 530, 422, 310, 523, 296, 442, 417, 223, 124, 486, 546, 90, 269, 82, 120, 363, 344, 75, 519, 462, 378, 458, 91, 234, 174, 123, 199, 560, 376, 313, 286, 302, 245, 425, 244, 84, 350, 76, 327, 149, 12, 277, 211, 189, 276, 264, 477, 448, 509, 534, 203, 267, 470, 154, 209, 541, 266, 438, 449, 249, 380, 274, 92, 108, 13, 298, 31, 358, 569, 96, 253, 484, 391, 197, 252, 155, 168, 557, 437, 432, 454, 372, 433, 255, 446, 407, 236, 232, 495, 105, 399, 131, 175, 384, 440, 395, 128, 7, 32, 504, 10, 205, 23, 254, 554, 178, 387, 15, 371, 78, 565, 38, 27, 258, 343, 65, 444, 370, 294, 250, 134, 389, 471, 113, 25, 242, 285, 551, 24, 488, 172, 430, 164, 548, 180, 368, 290, 482, 382, 80, 312, 483, 538, 506, 553, 142, 19, 169, 282, 487, 18, 292, 63, 499, 328, 256, 156, 153, 567, 220, 419, 71, 177, 340, 366, 56, 555, 463, 326, 360, 46, 304, 3, 365, 59, 497, 16, 452, 53, 420, 293, 87, 110, 511, 11, 388, 524, 544, 355, 346, 30, 414, 208, 73, 102, 144, 500, 43, 283, 129, 77, 5, 41, 453, 36, 259, 52, 44, 335, 42, 159, 513, 398, 101, 556, 435, 198, 539, 436, 163, 186, 501, 97, 2, 99, 498, 218, 450, 550, 112, 392, 187, 184, 216, 206, 383, 320, 183, 61, 137, 505, 188, 247, 4, 239, 428, 162, 496, 193, 323, 427, 1, 502, 479, 70, 369, 20, 331, 257, 158, 126, 100, 173, 235, 279, 394, 140, 402, 270, 185, 0, 40, 48, 397, 9, 336, 291, 93, 401, 151, 426, 461, 165, 393, 333, 66, 381, 439, 480, 22, 106, 179, 400, 194, 299, 150, 117, 481, 176, 6, 308, 386, 233, 143, 214, 311, 494, 190, 103, 147, 68, 127, 146, 95, 406, 537, 204, 561, 305, 109, 152, 145, 132, 396, 271, 51, 268, 34, 221, 107, 45, 60, 562, 217, 364, 485, 133, 559, 227, 85, 28, 115, 552, 334, 37, 278, 114, 306, 166, 192, 33, 413, 367, 29, 289, 451, 280, 568, 339, 303, 39, 141, 98, 324, 121, 284, 314, 297, 354, 240, 434, 94, 182, 54, 478, 213, 161, 139, 191, 241, 492, 62, 88, 507, 26, 17, 57, 566, 160, 222, 111, 55, 424, 130)), ('region', 'ML'), ('same_trial_dur', True), ('spike_threshold', None), ('trial_threshold', 0))\n"
     ]
    }
   ],
   "source": [
    "for element in preload_dict.keys():\n",
    "    print(element)"
   ]
  },
  {
   "cell_type": "code",
   "execution_count": 73,
   "metadata": {},
   "outputs": [],
   "source": [
    "keys = list(preload_dict.keys())\n",
    "\n",
    "keys_to_delete = keys[1:4]\n",
    "\n",
    "for key in keys_to_delete:\n",
    "    del preload_dict[key]"
   ]
  },
  {
   "cell_type": "code",
   "execution_count": null,
   "metadata": {},
   "outputs": [],
   "source": []
  }
 ],
 "metadata": {
  "kernelspec": {
   "display_name": "ncontrol",
   "language": "python",
   "name": "python3"
  },
  "language_info": {
   "codemirror_mode": {
    "name": "ipython",
    "version": 3
   },
   "file_extension": ".py",
   "mimetype": "text/x-python",
   "name": "python",
   "nbconvert_exporter": "python",
   "pygments_lexer": "ipython3",
   "version": "3.9.19"
  }
 },
 "nbformat": 4,
 "nbformat_minor": 2
}
