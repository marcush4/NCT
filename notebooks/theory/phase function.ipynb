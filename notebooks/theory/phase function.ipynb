{
 "cells": [
  {
   "cell_type": "code",
   "execution_count": null,
   "id": "84b2b7a7",
   "metadata": {},
   "outputs": [],
   "source": []
  },
  {
   "cell_type": "code",
   "execution_count": 1,
   "id": "0022a970",
   "metadata": {},
   "outputs": [],
   "source": [
    "%load_ext autoreload\n",
    "%autoreload 2"
   ]
  },
  {
   "cell_type": "code",
   "execution_count": 2,
   "id": "5c4d46bf",
   "metadata": {},
   "outputs": [],
   "source": [
    "import numpy as np\n",
    "import matplotlib.pyplot as plt\n",
    "import scipy\n",
    "import pdb"
   ]
  },
  {
   "cell_type": "code",
   "execution_count": 3,
   "id": "9c2ccb3d",
   "metadata": {},
   "outputs": [],
   "source": [
    "from neurosim.models.ssr import StateSpaceRealization as SSR\n",
    "from neurosim.utils.symbols import gen_hankel, gen_hankel_from_blocks, gen_toeplitz_from_blocks, convert_symbol\n",
    "from dca.cov_util import calc_pi_from_cross_cov_mats, calc_cov_from_cross_cov_mats"
   ]
  },
  {
   "cell_type": "code",
   "execution_count": 4,
   "id": "70f8dd53",
   "metadata": {},
   "outputs": [],
   "source": [
    "\n",
    "# Question #1 about phase function: Does the Formula we have in mind give the sum of the canonical correlation \n",
    "# coefficients?"
   ]
  },
  {
   "cell_type": "code",
   "execution_count": 26,
   "id": "7a783807",
   "metadata": {},
   "outputs": [],
   "source": [
    "size = 10\n",
    "A = 1/(np.sqrt(20)) * np.random.normal(size=(size, size))\n",
    "B = np.eye(size)\n",
    "C = scipy.stats.ortho_group.rvs(size)[:, 0:2].T"
   ]
  },
  {
   "cell_type": "code",
   "execution_count": 27,
   "id": "150c31e8",
   "metadata": {},
   "outputs": [],
   "source": [
    "ssr = SSR(A=A, B=B, C=C)"
   ]
  },
  {
   "cell_type": "code",
   "execution_count": 43,
   "id": "713fc6f9",
   "metadata": {},
   "outputs": [],
   "source": [
    "_, Pk, Qk = ssr.pi(6, return_cov=True)"
   ]
  },
  {
   "cell_type": "code",
   "execution_count": 9,
   "id": "dd49f9ef",
   "metadata": {},
   "outputs": [],
   "source": [
    "# Step 2: Does the phase hankel operator correspond to a suitably normalized hankel/topelitz matrix?"
   ]
  },
  {
   "cell_type": "code",
   "execution_count": 36,
   "id": "09cd75c1",
   "metadata": {},
   "outputs": [],
   "source": [
    "H_ = gen_hankel_from_blocks(ssr.autocorrelation(12))\n",
    "Tm, Tp = gen_toeplitz_from_blocks(ssr.autocorrelation(6))"
   ]
  },
  {
   "cell_type": "code",
   "execution_count": 37,
   "id": "4a41c623",
   "metadata": {},
   "outputs": [],
   "source": [
    "Lm = np.linalg.cholesky(Tm)\n",
    "Lp = np.linalg.cholesky(Tp)"
   ]
  },
  {
   "cell_type": "code",
   "execution_count": 38,
   "id": "a8b463ec",
   "metadata": {},
   "outputs": [],
   "source": [
    "# see equation 12.116 "
   ]
  },
  {
   "cell_type": "code",
   "execution_count": 39,
   "id": "ac6191b6",
   "metadata": {},
   "outputs": [
    {
     "data": {
      "text/plain": [
       "array([0.44433774, 0.2966348 , 0.23304629, 0.03523016, 0.00814261,\n",
       "       0.00132618])"
      ]
     },
     "execution_count": 39,
     "metadata": {},
     "output_type": "execute_result"
    }
   ],
   "source": [
    "S"
   ]
  },
  {
   "cell_type": "code",
   "execution_count": 40,
   "id": "39674d2b",
   "metadata": {},
   "outputs": [],
   "source": [
    "_, S, _ = np.linalg.svd(np.linalg.inv(Lp) @ H_ @ np.linalg.inv(Lm).T)"
   ]
  },
  {
   "cell_type": "code",
   "execution_count": 41,
   "id": "aa49dfa0",
   "metadata": {},
   "outputs": [
    {
     "data": {
      "text/plain": [
       "0.3657173059020021"
      ]
     },
     "execution_count": 41,
     "metadata": {},
     "output_type": "execute_result"
    }
   ],
   "source": [
    "np.sum(S**2)"
   ]
  },
  {
   "cell_type": "code",
   "execution_count": 44,
   "id": "594515de",
   "metadata": {},
   "outputs": [
    {
     "data": {
      "text/plain": [
       "0.36571730590200174"
      ]
     },
     "execution_count": 44,
     "metadata": {},
     "output_type": "execute_result"
    }
   ],
   "source": [
    "np.trace(Pk @ Qk)"
   ]
  },
  {
   "cell_type": "code",
   "execution_count": null,
   "id": "10e8b610",
   "metadata": {},
   "outputs": [],
   "source": [
    "# Question 2: Does the causal realization of the phase function match the coefficients obtained from \n",
    "# convert_symbol?"
   ]
  },
  {
   "cell_type": "code",
   "execution_count": 17,
   "id": "2d7fbbda",
   "metadata": {},
   "outputs": [
    {
     "name": "stderr",
     "output_type": "stream",
     "text": [
      "/home/akumar/anaconda3/envs/dyn/lib/python3.7/site-packages/numpy/fft/_pocketfft.py:73: ComplexWarning: Casting complex values to real discards the imaginary part\n",
      "  r = pfi.execute(a, is_real, is_forward, fct)\n"
     ]
    }
   ],
   "source": [
    "thetak = convert_symbol(ssr.phase_function, 100)"
   ]
  },
  {
   "cell_type": "code",
   "execution_count": 18,
   "id": "f55c721d",
   "metadata": {},
   "outputs": [],
   "source": [
    "thetak_ = ssr.causal_phase_function(100)"
   ]
  },
  {
   "cell_type": "code",
   "execution_count": 19,
   "id": "c3225e80",
   "metadata": {},
   "outputs": [
    {
     "name": "stderr",
     "output_type": "stream",
     "text": [
      "/home/akumar/anaconda3/envs/dyn/lib/python3.7/site-packages/numpy/core/_asarray.py:102: ComplexWarning: Casting complex values to real discards the imaginary part\n",
      "  return array(a, dtype, copy=False, order=order)\n"
     ]
    },
    {
     "data": {
      "text/plain": [
       "[<matplotlib.lines.Line2D at 0x7fb5ac1ac850>]"
      ]
     },
     "execution_count": 19,
     "metadata": {},
     "output_type": "execute_result"
    },
    {
     "data": {
      "image/png": "[encoded data removed]",
      "text/plain": [
       "<Figure size 432x288 with 1 Axes>"
      ]
     },
     "metadata": {
      "needs_background": "light"
     },
     "output_type": "display_data"
    }
   ],
   "source": [
    "plt.plot(thetak_[:, 0, 1])\n",
    "plt.plot(thetak[:, 0, 1])"
   ]
  },
  {
   "cell_type": "code",
   "execution_count": null,
   "id": "3eb1e40f",
   "metadata": {},
   "outputs": [],
   "source": [
    "# Don't quite match up, but can we match the normalized Hankel matrix to the that generated by either one of\n",
    "# these realizations?"
   ]
  },
  {
   "cell_type": "code",
   "execution_count": 20,
   "id": "825f469c",
   "metadata": {},
   "outputs": [],
   "source": [
    "Htheta = gen_hankel_from_blocks(ssr.causal_phase_function(100))"
   ]
  },
  {
   "cell_type": "code",
   "execution_count": 21,
   "id": "95474d9e",
   "metadata": {},
   "outputs": [],
   "source": [
    "HthetaT = gen_hankel_from_blocks(np.transpose(ssr.causal_phase_function(100), axes=(0, 2, 1)))"
   ]
  },
  {
   "cell_type": "code",
   "execution_count": 22,
   "id": "4a68d4da",
   "metadata": {},
   "outputs": [
    {
     "data": {
      "text/plain": [
       "0.7954067077980872"
      ]
     },
     "execution_count": 22,
     "metadata": {},
     "output_type": "execute_result"
    }
   ],
   "source": [
    "np.trace(Htheta @ HthetaT)"
   ]
  },
  {
   "cell_type": "code",
   "execution_count": 47,
   "id": "5c82d310",
   "metadata": {},
   "outputs": [],
   "source": [
    "thetak = ssr.causal_phase_function(12)\n",
    "thetastark =  np.transpose(ssr.causal_phase_function(12), axes=(0, 2, 1)) "
   ]
  },
  {
   "cell_type": "code",
   "execution_count": 48,
   "id": "ca093298",
   "metadata": {},
   "outputs": [
    {
     "data": {
      "text/plain": [
       "0.36531062311476326"
      ]
     },
     "execution_count": 48,
     "metadata": {},
     "output_type": "execute_result"
    }
   ],
   "source": [
    "np.trace(sum([k * thetak[k, ...] @ thetastark[k, ...] for k in range(1, len(thetak))]))"
   ]
  },
  {
   "cell_type": "code",
   "execution_count": null,
   "id": "3c747bf2",
   "metadata": {},
   "outputs": [],
   "source": [
    "# Verify calculation of MGF of Hankel trace"
   ]
  },
  {
   "cell_type": "code",
   "execution_count": 25,
   "id": "61ccddfd",
   "metadata": {},
   "outputs": [],
   "source": [
    "u, s, vh = np.linalg.svd(ssr.Bmin @ ssr.Bmin.T)"
   ]
  },
  {
   "cell_type": "code",
   "execution_count": 33,
   "id": "be6315a3",
   "metadata": {},
   "outputs": [
    {
     "data": {
      "text/plain": [
       "False"
      ]
     },
     "execution_count": 33,
     "metadata": {},
     "output_type": "execute_result"
    }
   ],
   "source": [
    "np.allclose(A, sum([e[i] * np.outer(r[:, i], l[:, i]) for i in range(e.size)]))"
   ]
  },
  {
   "cell_type": "code",
   "execution_count": 27,
   "id": "d62fa410",
   "metadata": {},
   "outputs": [],
   "source": [
    "e, r, l = scipy.linalg.eig(A, left=True)"
   ]
  },
  {
   "cell_type": "code",
   "execution_count": 566,
   "id": "7ddbc8b1",
   "metadata": {},
   "outputs": [],
   "source": [
    "sqrt_factor = scipy.linalg.sqrtm(np.eye(Bmin.shape[1]) - Bmin.T @ np.linalg.inv(ssr.Pmin) @ Bmin)\n",
    "Bmax = - np.linalg.inv(ssr.Pmin) @ np.linalg.inv(ssr.A) @ Bmin @ sqrt_factor"
   ]
  },
  {
   "cell_type": "code",
   "execution_count": 34,
   "id": "73f6aa92",
   "metadata": {},
   "outputs": [],
   "source": [
    "# Can one obtain the phase function from the polar decomposition of the minimum phase transfer functions?"
   ]
  },
  {
   "cell_type": "code",
   "execution_count": 35,
   "id": "8e60c117",
   "metadata": {},
   "outputs": [],
   "source": [
    "z = np.exp(1j * 0.25)"
   ]
  },
  {
   "cell_type": "code",
   "execution_count": 36,
   "id": "1b1c261f",
   "metadata": {},
   "outputs": [
    {
     "data": {
      "text/plain": [
       "array([[ 0.92975275-0.00643528j,  0.33248738-0.15802073j],\n",
       "       [-0.32848761-0.16617551j,  0.92931099+0.02937148j]])"
      ]
     },
     "execution_count": 36,
     "metadata": {},
     "output_type": "execute_result"
    }
   ],
   "source": [
    "ssr.phase_function(z)"
   ]
  },
  {
   "cell_type": "code",
   "execution_count": 48,
   "id": "3eda96b8",
   "metadata": {},
   "outputs": [],
   "source": [
    "U1, S1 = scipy.linalg.polar(ssr.minphase_transfer_fn(z), side='left')"
   ]
  },
  {
   "cell_type": "code",
   "execution_count": 49,
   "id": "eee1cad3",
   "metadata": {},
   "outputs": [],
   "source": [
    "U2, S2 = scipy.linalg.polar(ssr.maxphase_acausal_transfer_fn(z), side='left')"
   ]
  },
  {
   "cell_type": "code",
   "execution_count": 50,
   "id": "956717ac",
   "metadata": {},
   "outputs": [
    {
     "data": {
      "text/plain": [
       "array([[ 0.92975275-0.00643528j,  0.33248738-0.15802073j],\n",
       "       [-0.32848761-0.16617551j,  0.92931099+0.02937148j]])"
      ]
     },
     "execution_count": 50,
     "metadata": {},
     "output_type": "execute_result"
    }
   ],
   "source": [
    "np.conjugate(U2).T @ U1"
   ]
  },
  {
   "cell_type": "code",
   "execution_count": 58,
   "id": "9b60f3f4",
   "metadata": {},
   "outputs": [],
   "source": [
    "from scipy.stats import unitary_group, ortho_group\n",
    "from dca.dca import DynamicalComponentsAnalysis as DCA\n",
    "from tqdm import tqdm"
   ]
  },
  {
   "cell_type": "code",
   "execution_count": 56,
   "id": "1bfc11fe",
   "metadata": {},
   "outputs": [
    {
     "data": {
      "text/plain": [
       "(0.9996956157918032+0.02467124895168254j)"
      ]
     },
     "execution_count": 56,
     "metadata": {},
     "output_type": "execute_result"
    }
   ],
   "source": [
    "np.linalg.det(ssr.phase_function(z))"
   ]
  },
  {
   "cell_type": "code",
   "execution_count": 68,
   "id": "42fa1503",
   "metadata": {},
   "outputs": [
    {
     "name": "stderr",
     "output_type": "stream",
     "text": [
      "  0%|          | 0/50 [00:00<?, ?it/s]/home/akumar/anaconda3/envs/dyn/lib/python3.7/site-packages/ipykernel_launcher.py:30: DeprecationWarning: `np.complex` is a deprecated alias for the builtin `complex`. To silence this warning, use `complex` by itself. Doing this will not modify any behavior and is safe. If you specifically wanted the numpy scalar type, use `np.complex128` here.\n",
      "Deprecated in NumPy 1.20; for more details and guidance: https://numpy.org/devdocs/release/1.20.0-notes.html#deprecations\n",
      "/home/akumar/anaconda3/envs/dyn/lib/python3.7/site-packages/ipykernel_launcher.py:31: DeprecationWarning: `np.complex` is a deprecated alias for the builtin `complex`. To silence this warning, use `complex` by itself. Doing this will not modify any behavior and is safe. If you specifically wanted the numpy scalar type, use `np.complex128` here.\n",
      "Deprecated in NumPy 1.20; for more details and guidance: https://numpy.org/devdocs/release/1.20.0-notes.html#deprecations\n",
      "100%|██████████| 50/50 [02:30<00:00,  3.02s/it]\n"
     ]
    }
   ],
   "source": [
    "size = 10\n",
    "z = np.exp(1j * np.linspace(0, 2 * np.pi, 100))\n",
    "reps = 50\n",
    "\n",
    "wminus = []\n",
    "wplus = []\n",
    "bminus = []\n",
    "bplus = []\n",
    "\n",
    "for rep in tqdm(range(reps)):\n",
    "\n",
    "    wminus.append([])\n",
    "    wplus.append([])\n",
    "    bminus.append([])\n",
    "    bplus.append([])\n",
    "\n",
    "    A = 1/(np.sqrt(20)) * np.random.normal(size=(size, size))\n",
    "    while max(np.abs(np.linalg.eigvals(A)) > 0.99):\n",
    "        A = 1/(np.sqrt(20)) * np.random.normal(size=(size, size))\n",
    "\n",
    "    ssr = SSR(A = A, B=np.eye(A.shape[0]), C = np.eye(A.shape[0]))\n",
    "    dcamodel = DCA(d = 1, T = 5)\n",
    "    x = ssr.trajectory(T=10000, burnoff=True)\n",
    "    dcamodel.estimate_data_statistics(x)\n",
    "    n_init = 10\n",
    "\n",
    "    for i in range(n_init):\n",
    "        V_opt, _ = dcamodel._fit_projection(record_V=True)\n",
    "\n",
    "        wminus_ = np.zeros((z.size, len(dcamodel.V_seq) + 1)).astype(np.complex)\n",
    "        wplus_ = np.zeros((z.size, len(dcamodel.V_seq) + 1)).astype(np.complex)\n",
    "        bminus_ = np.zeros((len(dcamodel.V_seq) + 1, size))\n",
    "        bplus_ = np.zeros((len(dcamodel.V_seq) + 1, size))\n",
    "\n",
    "        for j in range(len(dcamodel.V_seq)):\n",
    "\n",
    "            ssr_opt = SSR(A = A, B = np.eye(A.shape[0]), C = dcamodel.V_seq[j].T)\n",
    "            ssr_opt.solve_min_phase()\n",
    "            ssr_opt.solve_max_phase()\n",
    "\n",
    "            bminus_[j] = np.squeeze(ssr_opt.Bmin)\n",
    "            bplus_[j] = np.squeeze(ssr_opt.Bmax)\n",
    "\n",
    "            wminus_[:, j] = np.squeeze(ssr_opt.minphase_transfer_fn(z))\n",
    "            wplus_[:, j] = np.squeeze(ssr_opt.maxphase_acausal_transfer_fn(z))\n",
    "\n",
    "        ssr_opt = SSR(A = A, B = np.eye(A.shape[0]), C = V_opt.T)\n",
    "        ssr_opt.solve_min_phase()\n",
    "        ssr_opt.solve_max_phase()\n",
    "\n",
    "        bminus_[-1] = np.squeeze(ssr_opt.Bmin)\n",
    "        bplus_[-1] = np.squeeze(ssr_opt.Bmax)\n",
    "\n",
    "        wminus_[:, -1] = np.squeeze(ssr_opt.minphase_transfer_fn(z))\n",
    "        wplus_[:, -1] = np.squeeze(ssr_opt.maxphase_acausal_transfer_fn(z))\n",
    "        \n",
    "\n",
    "        wminus[rep].append(wminus_)\n",
    "        wplus[rep].append(wplus_)\n",
    "        bminus[rep].append(bminus_)\n",
    "        bplus[rep].append(bplus_)"
   ]
  },
  {
   "cell_type": "code",
   "execution_count": null,
   "id": "22469c3b",
   "metadata": {},
   "outputs": [],
   "source": [
    "ssr.Bmin"
   ]
  },
  {
   "cell_type": "code",
   "execution_count": 163,
   "id": "a4952b7d",
   "metadata": {},
   "outputs": [
    {
     "data": {
      "text/plain": [
       "array([1.39655465, 0.56678958])"
      ]
     },
     "execution_count": 163,
     "metadata": {},
     "output_type": "execute_result"
    }
   ],
   "source": [
    "min_max_angle"
   ]
  },
  {
   "cell_type": "code",
   "execution_count": 164,
   "id": "500987f1",
   "metadata": {},
   "outputs": [
    {
     "data": {
      "text/plain": [
       "(array([ 2.,  0.,  2.,  4.,  9.,  2., 10., 11.,  7.,  3.]),\n",
       " array([0.79307461, 0.82040117, 0.84772772, 0.87505428, 0.90238083,\n",
       "        0.92970739, 0.95703394, 0.9843605 , 1.01168706, 1.03901361,\n",
       "        1.06634017]),\n",
       " <BarContainer object of 10 artists>)"
      ]
     },
     "execution_count": 164,
     "metadata": {},
     "output_type": "execute_result"
    },
    {
     "data": {
      "image/png": "[encoded data removed]",
      "text/plain": [
       "<Figure size 432x288 with 1 Axes>"
      ]
     },
     "metadata": {
      "needs_background": "light"
     },
     "output_type": "display_data"
    }
   ],
   "source": [
    "plt.hist(min_max_angle_rand % np.pi/2)"
   ]
  },
  {
   "cell_type": "code",
   "execution_count": 165,
   "id": "db1fcbb1",
   "metadata": {},
   "outputs": [
    {
     "data": {
      "image/png": "[encoded data removed]",
      "text/plain": [
       "<Figure size 432x288 with 1 Axes>"
      ]
     },
     "metadata": {
      "needs_background": "light"
     },
     "output_type": "display_data"
    }
   ],
   "source": [
    "plt.plot([k * np.linalg.norm(theta_k[k]) for k in range(len(theta_k))])\n",
    "\n",
    "for i in range(reps):\n",
    "    plt.plot([k * np.linalg.norm(thetak_rand[i, k, ...]) for k in range(20)], 'r', alpha=0.2)"
   ]
  },
  {
   "cell_type": "code",
   "execution_count": 77,
   "id": "999dddf0",
   "metadata": {},
   "outputs": [],
   "source": [
    "A = np.diag(np.random.uniform(0, 1, size=10))\n",
    "#C = scipy.stats.ortho_group.rvs(10)[:, 0:2].T\n",
    "C = np.zeros((2, 10))\n",
    "C[0, 3] = 1\n",
    "C[0, 6] = 1\n",
    "ssr = SSR(A = A, B=np.eye(A.shape[0]), C = C)"
   ]
  },
  {
   "cell_type": "code",
   "execution_count": 78,
   "id": "945f24f0",
   "metadata": {},
   "outputs": [],
   "source": [
    "ssr.solve_min_phase()\n",
    "ssr.solve_max_phase()"
   ]
  },
  {
   "cell_type": "code",
   "execution_count": 51,
   "id": "be57fa84",
   "metadata": {},
   "outputs": [
    {
     "data": {
      "text/plain": [
       "array([[0.00000000e+00, 0.00000000e+00],\n",
       "       [0.00000000e+00, 0.00000000e+00],\n",
       "       [0.00000000e+00, 0.00000000e+00],\n",
       "       [1.33518466e-01, 6.82077636e-18],\n",
       "       [0.00000000e+00, 0.00000000e+00],\n",
       "       [0.00000000e+00, 0.00000000e+00],\n",
       "       [7.20193888e-01, 3.67910266e-17],\n",
       "       [0.00000000e+00, 0.00000000e+00],\n",
       "       [0.00000000e+00, 0.00000000e+00],\n",
       "       [0.00000000e+00, 0.00000000e+00]])"
      ]
     },
     "execution_count": 51,
     "metadata": {},
     "output_type": "execute_result"
    }
   ],
   "source": [
    "ssr.Bmin"
   ]
  },
  {
   "cell_type": "code",
   "execution_count": 52,
   "id": "0b28a266",
   "metadata": {},
   "outputs": [
    {
     "data": {
      "text/plain": [
       "array([[0.00000000e+00, 0.00000000e+00],\n",
       "       [0.00000000e+00, 0.00000000e+00],\n",
       "       [0.00000000e+00, 0.00000000e+00],\n",
       "       [5.82531397e-01, 2.97585532e-17],\n",
       "       [0.00000000e+00, 0.00000000e+00],\n",
       "       [0.00000000e+00, 0.00000000e+00],\n",
       "       [2.95786259e-01, 1.51102089e-17],\n",
       "       [0.00000000e+00, 0.00000000e+00],\n",
       "       [0.00000000e+00, 0.00000000e+00],\n",
       "       [0.00000000e+00, 0.00000000e+00]])"
      ]
     },
     "execution_count": 52,
     "metadata": {},
     "output_type": "execute_result"
    }
   ],
   "source": [
    "ssr.Bmax"
   ]
  },
  {
   "cell_type": "code",
   "execution_count": 57,
   "id": "0adc9147",
   "metadata": {},
   "outputs": [
    {
     "data": {
      "text/plain": [
       "array([9.28355728e-45, 1.26048008e-13, 2.54878605e-19, 1.87190978e-02,\n",
       "       1.16983829e-01, 5.84815114e-73, 1.29079314e-03, 1.16983829e-01,\n",
       "       1.54859648e+00, 5.67859425e-12, 1.10331689e-62, 3.26531045e-04])"
      ]
     },
     "execution_count": 57,
     "metadata": {},
     "output_type": "execute_result"
    }
   ],
   "source": [
    "ssr.Pmin[ssr.Pmin > 0]"
   ]
  },
  {
   "cell_type": "code",
   "execution_count": 88,
   "id": "6449caf5",
   "metadata": {},
   "outputs": [
    {
     "data": {
      "text/plain": [
       "0.9556239810473752"
      ]
     },
     "execution_count": 88,
     "metadata": {},
     "output_type": "execute_result"
    }
   ],
   "source": [
    "np.trace(ssr.Bmin.T @ ssr.P @ ssr.Bmin)"
   ]
  },
  {
   "cell_type": "code",
   "execution_count": 89,
   "id": "feb9a020",
   "metadata": {},
   "outputs": [
    {
     "data": {
      "text/plain": [
       "41.87774886320812"
      ]
     },
     "execution_count": 89,
     "metadata": {},
     "output_type": "execute_result"
    }
   ],
   "source": [
    "np.trace(ssr.Pmin)"
   ]
  },
  {
   "cell_type": "code",
   "execution_count": 80,
   "id": "b5328102",
   "metadata": {},
   "outputs": [
    {
     "data": {
      "text/plain": [
       "array([1.80470730e-02, 9.37576916e-01, 1.90355008e-04, 3.93988675e-13,\n",
       "       3.41809553e-03, 3.60993934e-05, 4.09184172e+01, 5.81877862e-14,\n",
       "       1.86286280e-23, 6.31250741e-05])"
      ]
     },
     "execution_count": 80,
     "metadata": {},
     "output_type": "execute_result"
    }
   ],
   "source": [
    "np.linalg.eigvals(ssr.Pmin)"
   ]
  },
  {
   "cell_type": "code",
   "execution_count": 90,
   "id": "f54a9a6d",
   "metadata": {},
   "outputs": [
    {
     "data": {
      "text/plain": [
       "array([ 2.63685447,  1.30983451,  3.42338075,  2.27309467,  2.35038121,\n",
       "       57.95588842,  1.35078248,  1.27431896,  1.07846477,  2.43749725])"
      ]
     },
     "execution_count": 90,
     "metadata": {},
     "output_type": "execute_result"
    }
   ],
   "source": [
    "np.diag(ssr.P)"
   ]
  },
  {
   "cell_type": "code",
   "execution_count": 86,
   "id": "9dc9f908",
   "metadata": {},
   "outputs": [
    {
     "data": {
      "text/plain": [
       "array([1.90355008e-04, 3.93988675e-13, 3.41809553e-03, 8.16534780e-01,\n",
       "       3.60993934e-05, 4.09184172e+01, 1.39089209e-01, 5.81877862e-14,\n",
       "       1.86286280e-23, 6.31250741e-05])"
      ]
     },
     "execution_count": 86,
     "metadata": {},
     "output_type": "execute_result"
    }
   ],
   "source": [
    "np.diag(ssr.Pmin)"
   ]
  },
  {
   "cell_type": "code",
   "execution_count": 81,
   "id": "a8fe0ba0",
   "metadata": {},
   "outputs": [
    {
     "data": {
      "text/plain": [
       "array([ 1.        ,  1.66825316,  2.63666411,  1.30983451,  3.41996266,\n",
       "        2.35034511, 17.03747123,  1.27431896,  1.07846477,  2.43743413])"
      ]
     },
     "execution_count": 81,
     "metadata": {},
     "output_type": "execute_result"
    }
   ],
   "source": [
    "np.linalg.eigvals(ssr.P - ssr.Pmin)"
   ]
  },
  {
   "cell_type": "code",
   "execution_count": 21,
   "id": "4a800aa3",
   "metadata": {},
   "outputs": [
    {
     "data": {
      "text/plain": [
       "array([1.33255221e+00, 1.06007140e+00, 1.16475364e-01, 3.20168921e-02,\n",
       "       6.93548382e-03, 2.67070212e-03, 5.95617049e-05, 9.15638238e-06,\n",
       "       6.37780196e-06, 2.23183103e-06])"
      ]
     },
     "execution_count": 21,
     "metadata": {},
     "output_type": "execute_result"
    }
   ],
   "source": [
    "np.linalg.eigvals(ssr.Pmin)"
   ]
  },
  {
   "cell_type": "code",
   "execution_count": 23,
   "id": "06c1c435",
   "metadata": {},
   "outputs": [
    {
     "data": {
      "text/plain": [
       "array([5.93341361e-01, 5.37985249e-01, 3.78290200e-02, 3.18121165e-02,\n",
       "       3.30977946e-03, 1.05360280e-03, 1.90525039e-04, 4.10019626e-05,\n",
       "       7.33430352e-07, 2.56825861e-08])"
      ]
     },
     "execution_count": 23,
     "metadata": {},
     "output_type": "execute_result"
    }
   ],
   "source": [
    "np.linalg.eigvals(ssr.Pmax)"
   ]
  },
  {
   "cell_type": "code",
   "execution_count": 58,
   "id": "9a59fff5",
   "metadata": {},
   "outputs": [
    {
     "data": {
      "text/plain": [
       "False"
      ]
     },
     "execution_count": 58,
     "metadata": {},
     "output_type": "execute_result"
    }
   ],
   "source": [
    "np.allclose(ssr.Pmin @ ssr.Pmax, ssr.Pmax @ ssr.Pmin)"
   ]
  },
  {
   "cell_type": "code",
   "execution_count": 61,
   "id": "ae665ef3",
   "metadata": {},
   "outputs": [],
   "source": [
    "eigvals, U = np.linalg.eig(ssr.Pmin)"
   ]
  },
  {
   "cell_type": "code",
   "execution_count": 62,
   "id": "a592b5e7",
   "metadata": {},
   "outputs": [],
   "source": [
    "L = np.diag(eigvals)"
   ]
  },
  {
   "cell_type": "code",
   "execution_count": 63,
   "id": "3aaabf22",
   "metadata": {},
   "outputs": [],
   "source": [
    "R = U @ scipy.linalg.sqrtm(L)"
   ]
  },
  {
   "cell_type": "code",
   "execution_count": 67,
   "id": "6823ff29",
   "metadata": {},
   "outputs": [
    {
     "data": {
      "text/plain": [
       "0.4602283633095998"
      ]
     },
     "execution_count": 67,
     "metadata": {},
     "output_type": "execute_result"
    }
   ],
   "source": [
    "np.trace(R.T @ ssr.Pmax @ R)"
   ]
  },
  {
   "cell_type": "code",
   "execution_count": 66,
   "id": "436217ed",
   "metadata": {},
   "outputs": [
    {
     "data": {
      "text/plain": [
       "0.4602283633095999"
      ]
     },
     "execution_count": 66,
     "metadata": {},
     "output_type": "execute_result"
    }
   ],
   "source": [
    "np.trace(ssr.Pmin @ ssr.Pmax)"
   ]
  },
  {
   "cell_type": "code",
   "execution_count": 74,
   "id": "2cc7ea63",
   "metadata": {},
   "outputs": [],
   "source": [
    "l1 = 0.52\n",
    "l2 = 0.98"
   ]
  },
  {
   "cell_type": "code",
   "execution_count": 71,
   "id": "601f2b67",
   "metadata": {},
   "outputs": [],
   "source": [
    "f1 = lambda l1, l2: -1*np.log(1 - l1) - np.log(1 - l2)\n",
    "f2 = lambda l1, l2 : l1 + l2"
   ]
  },
  {
   "cell_type": "code",
   "execution_count": 76,
   "id": "db50712b",
   "metadata": {},
   "outputs": [
    {
     "data": {
      "text/plain": [
       "4.645992180508346"
      ]
     },
     "execution_count": 76,
     "metadata": {},
     "output_type": "execute_result"
    }
   ],
   "source": [
    "f1(l1, l2)"
   ]
  },
  {
   "cell_type": "code",
   "execution_count": 75,
   "id": "5b907d82",
   "metadata": {},
   "outputs": [
    {
     "data": {
      "text/plain": [
       "1.5"
      ]
     },
     "execution_count": 75,
     "metadata": {},
     "output_type": "execute_result"
    }
   ],
   "source": [
    "f2(l1, l2)"
   ]
  },
  {
   "cell_type": "code",
   "execution_count": null,
   "id": "96bf606c",
   "metadata": {},
   "outputs": [],
   "source": []
  }
 ],
 "metadata": {
  "kernelspec": {
   "display_name": "Python 3 (ipykernel)",
   "language": "python",
   "name": "python3"
  },
  "language_info": {
   "codemirror_mode": {
    "name": "ipython",
    "version": 3
   },
   "file_extension": ".py",
   "mimetype": "text/x-python",
   "name": "python",
   "nbconvert_exporter": "python",
   "pygments_lexer": "ipython3",
   "version": "3.7.10"
  }
 },
 "nbformat": 4,
 "nbformat_minor": 5
}
