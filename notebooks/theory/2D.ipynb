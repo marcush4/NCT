{
 "cells": [
  {
   "cell_type": "code",
   "execution_count": 106,
   "id": "6d74f5de",
   "metadata": {},
   "outputs": [
    {
     "name": "stdout",
     "output_type": "stream",
     "text": [
      "The autoreload extension is already loaded. To reload it, use:\n",
      "  %reload_ext autoreload\n"
     ]
    }
   ],
   "source": [
    "%load_ext autoreload\n",
    "%autoreload 2"
   ]
  },
  {
   "cell_type": "code",
   "execution_count": 115,
   "id": "b4ea8cbb",
   "metadata": {},
   "outputs": [],
   "source": [
    "import numpy as np\n",
    "import scipy\n",
    "import matplotlib.pyplot as plt\n",
    "from neurosim.models.ssr import StateSpaceRealization as SSR\n",
    "from tqdm import tqdm"
   ]
  },
  {
   "cell_type": "code",
   "execution_count": 108,
   "id": "ee484f57",
   "metadata": {},
   "outputs": [],
   "source": [
    "A = np.diag(np.random.uniform(0.1, 0.9, size=(10,)))\n",
    "B = np.eye(A.shape[0])\n",
    "C = np.zeros(A.shape[0])\n",
    "C = np.zeros((2, A.shape[0]))\n",
    "C[0, 5] = 1\n",
    "C[1, 3] = 1"
   ]
  },
  {
   "cell_type": "code",
   "execution_count": 109,
   "id": "1d52e175",
   "metadata": {},
   "outputs": [],
   "source": [
    "# For normal A, the minimum phase image is simply given by C itself\n",
    "Bmin = C.T"
   ]
  },
  {
   "cell_type": "code",
   "execution_count": 110,
   "id": "930ca6d4",
   "metadata": {},
   "outputs": [],
   "source": [
    "ssr = SSR(A = A, B=B, C=C)"
   ]
  },
  {
   "cell_type": "code",
   "execution_count": 111,
   "id": "aee807e0",
   "metadata": {},
   "outputs": [],
   "source": [
    "ssr.solve_min_phase()"
   ]
  },
  {
   "cell_type": "markdown",
   "id": "a2ac236c",
   "metadata": {},
   "source": [
    "Verifying the equations in the Shaked paper as we go along"
   ]
  },
  {
   "cell_type": "code",
   "execution_count": 75,
   "id": "905cd614",
   "metadata": {},
   "outputs": [
    {
     "data": {
      "text/plain": [
       "array([[ 1.00000000e+00, -3.18549408e-32],\n",
       "       [ 3.18549408e-32,  1.00000000e+00]])"
      ]
     },
     "execution_count": 75,
     "metadata": {},
     "output_type": "execute_result"
    }
   ],
   "source": [
    "# 3.8\n",
    "C @ (ssr.P - ssr.Pmin) @ C.T"
   ]
  },
  {
   "cell_type": "code",
   "execution_count": 113,
   "id": "f2859e33",
   "metadata": {},
   "outputs": [
    {
     "data": {
      "text/plain": [
       "18.099905130036248"
      ]
     },
     "execution_count": 113,
     "metadata": {},
     "output_type": "execute_result"
    }
   ],
   "source": [
    "np.trace(ssr.P- ssr.Pmin)"
   ]
  },
  {
   "cell_type": "code",
   "execution_count": 77,
   "id": "88220b8b",
   "metadata": {},
   "outputs": [],
   "source": [
    "# 3.12, the Kalman gain"
   ]
  },
  {
   "cell_type": "code",
   "execution_count": 78,
   "id": "9d0295ea",
   "metadata": {},
   "outputs": [
    {
     "data": {
      "text/plain": [
       "array([[ 0.00000000e+00,  0.00000000e+00],\n",
       "       [ 0.00000000e+00,  0.00000000e+00],\n",
       "       [ 0.00000000e+00,  0.00000000e+00],\n",
       "       [ 2.50592563e-32,  7.86667804e-01],\n",
       "       [ 0.00000000e+00,  0.00000000e+00],\n",
       "       [ 4.51757341e-01, -1.17299727e-32],\n",
       "       [ 0.00000000e+00,  0.00000000e+00],\n",
       "       [ 0.00000000e+00,  0.00000000e+00],\n",
       "       [ 0.00000000e+00,  0.00000000e+00],\n",
       "       [ 0.00000000e+00,  0.00000000e+00]])"
      ]
     },
     "execution_count": 78,
     "metadata": {},
     "output_type": "execute_result"
    }
   ],
   "source": [
    "ssr.Bmin @ np.linalg.inv(ssr.Dmin)"
   ]
  },
  {
   "cell_type": "code",
   "execution_count": 79,
   "id": "c4d13d54",
   "metadata": {},
   "outputs": [
    {
     "data": {
      "text/plain": [
       "array([[0.        , 0.        ],\n",
       "       [0.        , 0.        ],\n",
       "       [0.        , 0.        ],\n",
       "       [0.        , 0.7866678 ],\n",
       "       [0.        , 0.        ],\n",
       "       [0.45175734, 0.        ],\n",
       "       [0.        , 0.        ],\n",
       "       [0.        , 0.        ],\n",
       "       [0.        , 0.        ],\n",
       "       [0.        , 0.        ]])"
      ]
     },
     "execution_count": 79,
     "metadata": {},
     "output_type": "execute_result"
    }
   ],
   "source": [
    "A @ Bmin @ np.linalg.inv(C @ Bmin)"
   ]
  },
  {
   "cell_type": "code",
   "execution_count": null,
   "id": "ada6bd83",
   "metadata": {},
   "outputs": [],
   "source": [
    "# Verify that the transmission zeros of the system are described by 3.16"
   ]
  },
  {
   "cell_type": "code",
   "execution_count": 69,
   "id": "11aaa09a",
   "metadata": {},
   "outputs": [],
   "source": [
    "N = scipy.linalg.null_space(C)\n",
    "M = scipy.linalg.null_space(Bmin.T)"
   ]
  },
  {
   "cell_type": "code",
   "execution_count": 67,
   "id": "fe85417a",
   "metadata": {},
   "outputs": [
    {
     "data": {
      "text/plain": [
       "(10, 9)"
      ]
     },
     "execution_count": 67,
     "metadata": {},
     "output_type": "execute_result"
    }
   ],
   "source": [
    "N.shape"
   ]
  },
  {
   "cell_type": "code",
   "execution_count": 70,
   "id": "a9a64366",
   "metadata": {},
   "outputs": [
    {
     "data": {
      "text/plain": [
       "array([[0.49916653, 0.        , 0.        , 0.        , 0.        ,\n",
       "        0.        , 0.        , 0.        , 0.        ],\n",
       "       [0.        , 0.48924985, 0.        , 0.        , 0.        ,\n",
       "        0.        , 0.        , 0.        , 0.        ],\n",
       "       [0.        , 0.        , 0.8424245 , 0.        , 0.        ,\n",
       "        0.        , 0.        , 0.        , 0.        ],\n",
       "       [0.        , 0.        , 0.        , 0.336266  , 0.        ,\n",
       "        0.        , 0.        , 0.        , 0.        ],\n",
       "       [0.        , 0.        , 0.        , 0.        , 0.77752352,\n",
       "        0.        , 0.        , 0.        , 0.        ],\n",
       "       [0.        , 0.        , 0.        , 0.        , 0.        ,\n",
       "        0.40155131, 0.        , 0.        , 0.        ],\n",
       "       [0.        , 0.        , 0.        , 0.        , 0.        ,\n",
       "        0.        , 0.45912494, 0.        , 0.        ],\n",
       "       [0.        , 0.        , 0.        , 0.        , 0.        ,\n",
       "        0.        , 0.        , 0.29647428, 0.        ],\n",
       "       [0.        , 0.        , 0.        , 0.        , 0.        ,\n",
       "        0.        , 0.        , 0.        , 0.55358875]])"
      ]
     },
     "execution_count": 70,
     "metadata": {},
     "output_type": "execute_result"
    }
   ],
   "source": [
    "N.T @ A @ M"
   ]
  },
  {
   "cell_type": "markdown",
   "id": "6701cc7d",
   "metadata": {},
   "source": [
    "### Feedforward chain with equal off diagonal weights"
   ]
  },
  {
   "cell_type": "code",
   "execution_count": 95,
   "id": "52c95723",
   "metadata": {},
   "outputs": [],
   "source": [
    "#A = np.diag(np.random.uniform(0.1, 0.9, size=(10,)))\n",
    "A = np.diag(0.75 * np.ones(10))\n",
    "alpha = 0.1\n",
    "for i in range(A.shape[0] - 1):\n",
    "    A[i, i + 1] = alpha\n",
    "\n",
    "B = np.eye(A.shape[0])\n",
    "C = np.zeros((1, A.shape[0]))\n",
    "\n",
    "C[0, 5] = 1\n",
    "#C[1, 3] = 1"
   ]
  },
  {
   "cell_type": "code",
   "execution_count": 96,
   "id": "ae5123cb",
   "metadata": {},
   "outputs": [],
   "source": [
    "ssr = SSR(A = A, B=B, C=C)"
   ]
  },
  {
   "cell_type": "code",
   "execution_count": 97,
   "id": "4cf9ba12",
   "metadata": {},
   "outputs": [],
   "source": [
    "ssr.solve_min_phase()"
   ]
  },
  {
   "cell_type": "code",
   "execution_count": 98,
   "id": "e2dfce31",
   "metadata": {},
   "outputs": [
    {
     "data": {
      "text/plain": [
       "array([[-1.07134448e-19],\n",
       "       [-8.57075588e-19],\n",
       "       [-3.42830235e-18],\n",
       "       [ 0.00000000e+00],\n",
       "       [ 1.01200145e-01],\n",
       "       [ 7.77327228e-01],\n",
       "       [ 1.40752137e-01],\n",
       "       [ 2.53748648e-02],\n",
       "       [ 4.42596446e-03],\n",
       "       [ 6.14329746e-04]])"
      ]
     },
     "execution_count": 98,
     "metadata": {},
     "output_type": "execute_result"
    }
   ],
   "source": [
    "ssr.Bmin"
   ]
  },
  {
   "cell_type": "code",
   "execution_count": 99,
   "id": "4d03ffff",
   "metadata": {},
   "outputs": [],
   "source": [
    "eig, U = scipy.linalg.eig(ssr.P)"
   ]
  },
  {
   "cell_type": "code",
   "execution_count": 100,
   "id": "32d4d854",
   "metadata": {},
   "outputs": [],
   "source": [
    "eigorder = np.argsort(eig)[::-1]\n",
    "U = U[:, eigorder]"
   ]
  },
  {
   "cell_type": "code",
   "execution_count": 101,
   "id": "eaea15ef",
   "metadata": {},
   "outputs": [
    {
     "data": {
      "text/plain": [
       "array([-0.15093829, -0.26158246, -0.34979412, -0.40801078, -0.43125003,\n",
       "       -0.41755925, -0.36826823, -0.28819068, -0.18633753, -0.07895679])"
      ]
     },
     "execution_count": 101,
     "metadata": {},
     "output_type": "execute_result"
    }
   ],
   "source": [
    "U[:, 0]"
   ]
  },
  {
   "cell_type": "code",
   "execution_count": 102,
   "id": "62e402fa",
   "metadata": {},
   "outputs": [
    {
     "data": {
      "text/plain": [
       "array([[-1.05863928e-19],\n",
       "       [-8.46911422e-19],\n",
       "       [-3.38764569e-18],\n",
       "       [ 0.00000000e+00],\n",
       "       [ 1.00000000e-01],\n",
       "       [ 7.68108808e-01],\n",
       "       [ 1.39082939e-01],\n",
       "       [ 2.50739412e-02],\n",
       "       [ 4.37347640e-03],\n",
       "       [ 6.07044333e-04]])"
      ]
     },
     "execution_count": 102,
     "metadata": {},
     "output_type": "execute_result"
    }
   ],
   "source": [
    "ssr.Bmin @ np.linalg.inv(ssr.Dmin)"
   ]
  },
  {
   "cell_type": "code",
   "execution_count": 104,
   "id": "4ac31565",
   "metadata": {},
   "outputs": [
    {
     "data": {
      "text/plain": [
       "array([1.00341336])"
      ]
     },
     "execution_count": 104,
     "metadata": {},
     "output_type": "execute_result"
    }
   ],
   "source": [
    "scipy.linalg.subspace_angles(U[:, 0][:, np.newaxis], ssr.Bmin)"
   ]
  },
  {
   "cell_type": "markdown",
   "id": "53b0f0be",
   "metadata": {},
   "source": [
    "## *Solve* the 2D case systematically"
   ]
  },
  {
   "cell_type": "code",
   "execution_count": 105,
   "id": "6a0efc26",
   "metadata": {},
   "outputs": [],
   "source": [
    "# Case when l1 > l2"
   ]
  },
  {
   "cell_type": "code",
   "execution_count": 184,
   "id": "d241a397",
   "metadata": {},
   "outputs": [
    {
     "name": "stderr",
     "output_type": "stream",
     "text": [
      "50it [00:02, 21.55it/s]\n"
     ]
    }
   ],
   "source": [
    "l1 = 0.85\n",
    "l2 = 0.75\n",
    "alpha = np.linspace(0, 0.35)\n",
    "\n",
    "vP_max = np.zeros((alpha.size, 2))\n",
    "\n",
    "theta = np.linspace(0, np.pi)\n",
    "K = np.zeros((alpha.size, theta.size, 2))\n",
    "CC = np.zeros((alpha.size, theta.size, 2))\n",
    "traceM = np.zeros((alpha.size, theta.size))\n",
    "\n",
    "for i, alpha_ in tqdm(enumerate(alpha)):\n",
    "    A = np.array([[l1, alpha_], [0, l2]])\n",
    "    ssr = SSR(A = A, B=np.eye(A.shape[0]), C=np.eye(A.shape[0]))\n",
    "    eig, U = np.linalg.eig(ssr.P)\n",
    "    eigorder = np.argsort(eig)[::-1]\n",
    "    vP_max[i, :] = U[:, eigorder][:, 0]\n",
    "    \n",
    "    for j, theta_ in enumerate(theta):\n",
    "        \n",
    "        # Set the readout to be a rotation by theta of the leading eigenvector of ssr.P\n",
    "        R = np.array([[np.cos(theta_), -np.sin(theta_)], [np.sin(theta_), np.cos(theta_)]])\n",
    "        \n",
    "        C = R @ U[:, eigorder][:, 0]\n",
    "        CC[i, j, :] = C\n",
    "        \n",
    "        ssr_proj = SSR(A=A, B=np.eye(A.shape[0]), C=C[np.newaxis, :])\n",
    "        ssr_proj.solve_min_phase()\n",
    "        K[i, j, :] = np.squeeze(ssr_proj.Bmin @ np.linalg.inv(ssr_proj.Dmin))\n",
    "\n",
    "        traceM[i, j] = np.trace(ssr_proj.P - ssr_proj.Pmin)"
   ]
  },
  {
   "cell_type": "code",
   "execution_count": 145,
   "id": "a13ffbce",
   "metadata": {},
   "outputs": [],
   "source": [
    "# Additionally plot the marginal variance"
   ]
  },
  {
   "cell_type": "code",
   "execution_count": 185,
   "id": "2d130a81",
   "metadata": {},
   "outputs": [
    {
     "data": {
      "image/png": "[encoded data removed]",
      "text/plain": [
       "<Figure size 1800x360 with 5 Axes>"
      ]
     },
     "metadata": {
      "needs_background": "light"
     },
     "output_type": "display_data"
    }
   ],
   "source": [
    "# Plot #1: On a circle, draw the vector of vP_max and (1, 0)\n",
    "fig, ax = plt.subplots(1, 5, figsize=(25, 5))\n",
    "\n",
    "for i in range(5):\n",
    "    ax[i].arrow(0, 0, 1, 0, head_width=0.1, head_length=0.1)\n",
    "    ax[i].set_xlim([-1.1, 1.1])\n",
    "    ax[i].set_ylim([-1.1, 1.1])\n",
    "\n",
    "    ax[i].arrow(0, 0, vP_max[i*10, 0], vP_max[i*10, 1], head_width=0.1, head_length=0.1, facecolor='r')\n",
    "    ax[i].arrow(0, 0, K[i*10, np.argmin(traceM[i*10, :]), 0], \n",
    "                K[i*10, np.argmin(traceM[i*10, :]), 1], facecolor='g')\n",
    "    ax[i].arrow(0, 0, CC[i*10, np.argmin(traceM[i*10, :]), 0], \n",
    "                CC[i*10, np.argmin(traceM[i*10, :]), 1], facecolor='g')\n",
    "        "
   ]
  },
  {
   "cell_type": "code",
   "execution_count": 207,
   "id": "5aa80a77",
   "metadata": {},
   "outputs": [
    {
     "data": {
      "text/plain": [
       "(2,)"
      ]
     },
     "execution_count": 207,
     "metadata": {},
     "output_type": "execute_result"
    }
   ],
   "source": [
    " K[alpha_idx, np.argmin(traceM[alpha_idx, :])].shape"
   ]
  },
  {
   "cell_type": "code",
   "execution_count": 215,
   "id": "5a696c1f",
   "metadata": {},
   "outputs": [],
   "source": [
    "import matplotlib as mpl"
   ]
  },
  {
   "cell_type": "code",
   "execution_count": 234,
   "id": "7c7477e8",
   "metadata": {},
   "outputs": [
    {
     "data": {
      "image/png": "[encoded data removed]",
      "text/plain": [
       "<Figure size 720x720 with 4 Axes>"
      ]
     },
     "metadata": {
      "needs_background": "light"
     },
     "output_type": "display_data"
    }
   ],
   "source": [
    "# As a function of alpha, have the (1) arrow plot, (2) KCA cost as a function of theta, (3) Spectrum of A vs. the\n",
    "# closed loop dynamics matrix\n",
    "alpha_idx = 49\n",
    "\n",
    "fig, ax = plt.subplots(2, 2, figsize=(10, 10))\n",
    "\n",
    "    \n",
    "ax[0, 0].arrow(0, 0, 1, 0, head_width=0.1, head_length=0.1)\n",
    "ax[0, 0].set_xlim([-1.1, 1.1])\n",
    "ax[0, 0].set_ylim([-1.1, 1.1])\n",
    "\n",
    "ax[0, 0].arrow(0, 0, vP_max[alpha_idx, 0], vP_max[alpha_idx, 1], head_width=0.1, head_length=0.1, facecolor='r')\n",
    "ax[0, 0].arrow(0, 0, K[alpha_idx, np.argmin(traceM[alpha_idx, :]), 0], \n",
    "            K[alpha_idx, np.argmin(traceM[alpha_idx, :]), 1], head_width=0.1, head_length=0.1, facecolor='green')\n",
    "ax[0, 0].arrow(0, 0, CC[i*10, np.argmin(traceM[alpha_idx, :]), 0], \n",
    "            CC[alpha_idx, np.argmin(traceM[alpha_idx, :]), 1], head_width=0.1, head_length=0.1, facecolor='orange')\n",
    "ax[0, 0].set_xlabel('Neuron 1', fontsize=16)\n",
    "ax[0, 0].set_ylabel('Neuron 2', fontsize=16)\n",
    "\n",
    "ax[0, 0].legend([r'$v_{max}(A)$', r'$v_{max}(\\Pi)$', 'K', 'C'], fontsize=14, loc='upper left')\n",
    "    \n",
    "    \n",
    "ax[0, 1].plot(theta, traceM[alpha_idx, :])\n",
    "ax[0, 1].set_xlabel(r'$\\theta$' + ' between C and ' + r'$v_{max}(\\Pi)$', fontsize=14)    \n",
    "ax[0, 1].set_ylabel(r'$Tr\\left( \\mathbb{E}[(\\hat{x} - x)(\\hat{x} - x)^\\top] \\right)$', fontsize=14)\n",
    "\n",
    "\n",
    "A = np.array([[l1, alpha[alpha_idx]], [0, l2]])\n",
    "\n",
    "eigA, UA = np.linalg.eig(A)\n",
    "\n",
    "k = K[alpha_idx, np.argmin(traceM[alpha_idx, :])][:, np.newaxis]\n",
    "c = CC[alpha_idx, np.argmin(traceM[alpha_idx, :])][np.newaxis, :]\n",
    "\n",
    "eigAK, UAK = np.linalg.eig(A - k @ c)\n",
    "\n",
    "\n",
    "ax[1, 0].scatter(np.real(eigA), np.imag(eigA), marker='x', s=80, alpha=0.75)\n",
    "ax[1, 0].scatter(np.real(eigAK), np.imag(eigAK), marker='o', s=80, alpha=0.75)\n",
    "ax[1, 0].set_xlim([-1.05, 1.05])\n",
    "ax[1, 0].set_ylim([-1.05, 1.05])\n",
    "ax[1, 0].legend([r'$\\lambda(A)$', r'$\\lambda(A - KC)$'], fontsize=14)\n",
    "circle = mpl.patches.Circle((0, 0), 1, color='black', fill=False)\n",
    "ax[1, 0].add_patch(circle)\n",
    "\n",
    "ax[1, 1].arrow(0, 0, UA[0, 0], UA[1, 0], head_width=0.1, head_length=0.1, facecolor='k')\n",
    "ax[1, 1].arrow(0, 0, UAK[0, 0], UAK[1, 0], head_width=0.1, head_length=0.1, facecolor='r')\n",
    "ax[1, 1].arrow(0, 0, UA[0, 1], UA[1, 1], head_width=0.1, head_length=0.1, facecolor='k')\n",
    "ax[1, 1].arrow(0, 0, UAK[0, 1], UAK[1, 1], head_width=0.1, head_length=0.1, facecolor='r')\n",
    "ax[1, 1].set_xlim([-1.2, 1.2])\n",
    "ax[1, 1].set_ylim([-1.2, 1.2])\n",
    "ax[1, 1].legend([r'$v(A)$', r'$v(A - KC)$'], fontsize=14)\n",
    "ax[1, 1].set_xlabel('Neuron 1', fontsize=16)\n",
    "ax[1, 1].set_ylabel('Neuron 2', fontsize=16)\n",
    "\n",
    "\n",
    "fig.tight_layout()\n",
    "fig.savefig('2DKalman3.pdf', bbox_inches='tight', pad_inches=0)\n"
   ]
  },
  {
   "cell_type": "code",
   "execution_count": 151,
   "id": "7e5f9a06",
   "metadata": {},
   "outputs": [],
   "source": [
    "from neurosim.utils.riccati import innovation_riccati"
   ]
  },
  {
   "cell_type": "code",
   "execution_count": 179,
   "id": "eb04a0ce",
   "metadata": {},
   "outputs": [],
   "source": [
    "A = np.array([[l1, alpha_], [0, l2]])\n",
    "P = np.eye(2)\n",
    "C = np.array([np.cos(np.pi/4), np.sin(np.pi/4)])[np.newaxis, :]\n",
    "rho = 0.\n",
    "R = rho * np.eye(1)\n",
    "Q = np.eye(2)\n",
    "B = np.eye(2)\n",
    "S = np.zeros((2, 1))"
   ]
  },
  {
   "cell_type": "code",
   "execution_count": 180,
   "id": "da8b28b8",
   "metadata": {},
   "outputs": [],
   "source": [
    "P = innovation_riccati(P, A, B, C, S, R, Q)"
   ]
  },
  {
   "cell_type": "code",
   "execution_count": 181,
   "id": "cf933739",
   "metadata": {},
   "outputs": [
    {
     "data": {
      "text/plain": [
       "array([[ 1.125  , -0.1875 ],\n",
       "       [-0.1875 ,  1.28125]])"
      ]
     },
     "execution_count": 181,
     "metadata": {},
     "output_type": "execute_result"
    }
   ],
   "source": [
    "P"
   ]
  },
  {
   "cell_type": "code",
   "execution_count": 183,
   "id": "dddedb55",
   "metadata": {},
   "outputs": [
    {
     "data": {
      "text/plain": [
       "array([[0.82133172],\n",
       "       [0.57112471]])"
      ]
     },
     "execution_count": 183,
     "metadata": {},
     "output_type": "execute_result"
    }
   ],
   "source": [
    "A @ P @ C.T @ np.linalg.pinv(C @ P @ C.T)"
   ]
  },
  {
   "cell_type": "markdown",
   "id": "5def0953",
   "metadata": {},
   "source": [
    "### Verify that the "
   ]
  }
 ],
 "metadata": {
  "kernelspec": {
   "display_name": "Python 3.8.10 64-bit",
   "language": "python",
   "name": "python3"
  },
  "language_info": {
   "codemirror_mode": {
    "name": "ipython",
    "version": 3
   },
   "file_extension": ".py",
   "mimetype": "text/x-python",
   "name": "python",
   "nbconvert_exporter": "python",
   "pygments_lexer": "ipython3",
   "version": "3.8.10"
  },
  "vscode": {
   "interpreter": {
    "hash": "916dbcbb3f70747c44a77c7bcd40155683ae19c65e1c03b4aa3499c5328201f1"
   }
  }
 },
 "nbformat": 4,
 "nbformat_minor": 5
}
