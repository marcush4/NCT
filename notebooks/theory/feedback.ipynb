{
 "cells": [
  {
   "cell_type": "code",
   "execution_count": 6,
   "id": "b7e903d8",
   "metadata": {},
   "outputs": [],
   "source": [
    "%load_ext autoreload\n",
    "%autoreload 2"
   ]
  },
  {
   "cell_type": "code",
   "execution_count": 7,
   "id": "0e709721",
   "metadata": {},
   "outputs": [
    {
     "name": "stderr",
     "output_type": "stream",
     "text": [
      "/home/akumar/anaconda3/envs/ncontrol/lib/python3.9/site-packages/tqdm/auto.py:22: TqdmWarning: IProgress not found. Please update jupyter and ipywidgets. See https://ipywidgets.readthedocs.io/en/stable/user_install.html\n",
      "  from .autonotebook import tqdm as notebook_tqdm\n"
     ]
    }
   ],
   "source": [
    "import numpy as np\n",
    "import scipy \n",
    "from neurosim.models.ssr import StateSpaceRealization as SSR, gen_random_model\n",
    "from dca_research.kca import calc_mmse_from_cross_cov_mats\n",
    "import matplotlib.pyplot as plt"
   ]
  },
  {
   "cell_type": "code",
   "execution_count": 3,
   "id": "3ba30a17",
   "metadata": {},
   "outputs": [],
   "source": [
    "import sys\n",
    "from tqdm import tqdm\n",
    "import torch"
   ]
  },
  {
   "cell_type": "code",
   "execution_count": 4,
   "id": "1ee85809",
   "metadata": {},
   "outputs": [],
   "source": [
    "sys.path.append('../..')\n",
    "from utils import calc_loadings"
   ]
  },
  {
   "cell_type": "markdown",
   "id": "82fcee24",
   "metadata": {},
   "source": [
    "### Testing LQG invariant-related identities"
   ]
  },
  {
   "cell_type": "code",
   "execution_count": 39,
   "id": "27791769",
   "metadata": {},
   "outputs": [],
   "source": [
    "# Solve using the matrix sign function. The advantage of this is that one gets all 4 matrices of interest in one go\n",
    "\n",
    "# See: Positive and negative solutions of dual Riccati equations by matrix sign function iteration\n",
    "def sgn(H):\n",
    "    Z = H\n",
    "    for i in range(500):\n",
    "        Z = 1/2 * (Z + np.linalg.inv(Z))\n",
    "    return Z\n",
    "\n",
    "def solve_are_sgn(A, B, C):\n",
    "\n",
    "    # Hamiltonian matrix associated with the LQR problem. The transpose is\n",
    "    # associated with the filtering problem\n",
    "    H = np.block([[A, -B @ B.T], [-C.T @ C, -A.T]])\n",
    "    Z = sgn(H)\n",
    "    Z11 = Z[0:A.shape[0], 0:A.shape[0]]\n",
    "    Z12 = Z[0:A.shape[0], A.shape[0]:]\n",
    "    Z21 = Z[A.shape[0]:, 0:A.shape[0]]\n",
    "    Z22 = Z[A.shape[0]:, A.shape[0]:]\n",
    "\n",
    "    Pp = -1 * scipy.linalg.pinv(np.block([[Z12], [Z22 + np.eye(A.shape[0])]])) @ np.block([[Z11 + np.eye(A.shape[0])], [Z21]])\n",
    "    Pm = -1 * scipy.linalg.pinv(np.block([[Z12], [Z22 - np.eye(A.shape[0])]])) @ np.block([[Z11 - np.eye(A.shape[0])], [Z21]])\n",
    "\n",
    "    # Take the transpose of the Hamiltonian matrix and proceed as before\n",
    "    Z = sgn(H).T\n",
    "    Z11 = Z[0:A.shape[0], 0:A.shape[0]]\n",
    "    Z12 = Z[0:A.shape[0], A.shape[0]:]\n",
    "    Z21 = Z[A.shape[0]:, 0:A.shape[0]]\n",
    "    Z22 = Z[A.shape[0]:, A.shape[0]:]\n",
    "\n",
    "    Qp = -1 * scipy.linalg.pinv(np.block([[Z12], [Z22 + np.eye(A.shape[0])]])) @ np.block([[Z11 + np.eye(A.shape[0])], [Z21]])\n",
    "    Qm = -1 * scipy.linalg.pinv(np.block([[Z12], [Z22 - np.eye(A.shape[0])]])) @ np.block([[Z11 - np.eye(A.shape[0])], [Z21]])\n",
    "\n",
    "    return Pp, Pm, Qp, Qm\n"
   ]
  },
  {
   "cell_type": "code",
   "execution_count": 105,
   "id": "9525faf9",
   "metadata": {},
   "outputs": [],
   "source": [
    "Pp, Pm, Qp, Qm = solve_are_sgn(A, B, C)"
   ]
  },
  {
   "cell_type": "code",
   "execution_count": 108,
   "id": "5e9c105b",
   "metadata": {},
   "outputs": [
    {
     "data": {
      "text/plain": [
       "1.5789733726932968e+16"
      ]
     },
     "execution_count": 108,
     "metadata": {},
     "output_type": "execute_result"
    }
   ],
   "source": [
    "np.linalg.cond(Pp)"
   ]
  },
  {
   "cell_type": "code",
   "execution_count": 109,
   "id": "3f34772a",
   "metadata": {},
   "outputs": [
    {
     "data": {
      "text/plain": [
       "2.4137913499767225"
      ]
     },
     "execution_count": 109,
     "metadata": {},
     "output_type": "execute_result"
    }
   ],
   "source": [
    "np.linalg.cond(Pm)"
   ]
  },
  {
   "cell_type": "code",
   "execution_count": 113,
   "id": "af9cf309",
   "metadata": {},
   "outputs": [
    {
     "data": {
      "text/plain": [
       "True"
      ]
     },
     "execution_count": 113,
     "metadata": {},
     "output_type": "execute_result"
    }
   ],
   "source": [
    "np.allclose(np.linalg.inv(Pm), -1 * Qp)"
   ]
  },
  {
   "cell_type": "code",
   "execution_count": 114,
   "id": "85f24e70",
   "metadata": {},
   "outputs": [
    {
     "data": {
      "text/plain": [
       "False"
      ]
     },
     "execution_count": 114,
     "metadata": {},
     "output_type": "execute_result"
    }
   ],
   "source": [
    "np.allclose(np.linalg.inv(Qm), -1 * Pp)"
   ]
  },
  {
   "cell_type": "code",
   "execution_count": 115,
   "id": "1c97eaf4",
   "metadata": {},
   "outputs": [],
   "source": [
    "# One gets the right answer when the condition numbers are reasonable..."
   ]
  },
  {
   "cell_type": "code",
   "execution_count": 6,
   "id": "20326787",
   "metadata": {},
   "outputs": [],
   "source": [
    "# Discrete time testing\n",
    "A, B, C = gen_random_model(20)\n",
    "A = 1/2 * (A + A.T)\n",
    "#A = np.diag(np.random.uniform(0, 1, size=(20,)))"
   ]
  },
  {
   "cell_type": "code",
   "execution_count": 7,
   "id": "fa632aff",
   "metadata": {},
   "outputs": [
    {
     "data": {
      "text/plain": [
       "array([-0.96019059, -0.6924917 , -0.6074098 ,  0.77639008,  0.7313606 ,\n",
       "        0.64905692,  0.57270791,  0.4932683 , -0.44861674, -0.35492999,\n",
       "       -0.32065521, -0.33719855,  0.3667119 ,  0.27059249,  0.18798358,\n",
       "        0.10707903, -0.12402855, -0.07472079,  0.0079528 , -0.02754021])"
      ]
     },
     "execution_count": 7,
     "metadata": {},
     "output_type": "execute_result"
    }
   ],
   "source": [
    "np.linalg.eigvals(A)"
   ]
  },
  {
   "cell_type": "code",
   "execution_count": 8,
   "id": "147a6a89",
   "metadata": {},
   "outputs": [],
   "source": [
    "P1 = scipy.linalg.solve_discrete_are(A, B, C.T @ C, np.eye(B.shape[1]))\n",
    "# Dual solution\n",
    "P2 = scipy.linalg.solve_discrete_are(A.T, C.T, B @ B.T, np.eye(C.shape[0]))"
   ]
  },
  {
   "cell_type": "code",
   "execution_count": 13,
   "id": "c59540cd",
   "metadata": {},
   "outputs": [],
   "source": [
    "Q1 = solve_dare(A, B, C.T @ C, np.eye(B.shape[1]))\n",
    "Q1m = solve_dare(A, B, C.T @ C, np.eye(B.shape[1]), False)\n",
    "\n",
    "Q2 = solve_dare(A.T, C.T, B @ B.T, np.eye(C.shape[0]))\n",
    "Q2m = solve_dare(A.T, C.T, B @ B.T, np.eye(C.shape[0]), False)"
   ]
  },
  {
   "cell_type": "code",
   "execution_count": 244,
   "id": "62ea5089",
   "metadata": {},
   "outputs": [
    {
     "data": {
      "text/plain": [
       "23.96079954242218"
      ]
     },
     "execution_count": 244,
     "metadata": {},
     "output_type": "execute_result"
    }
   ],
   "source": [
    "np.trace(Q1)"
   ]
  },
  {
   "cell_type": "code",
   "execution_count": 16,
   "id": "5da6016a",
   "metadata": {},
   "outputs": [
    {
     "data": {
      "text/plain": [
       "True"
      ]
     },
     "execution_count": 16,
     "metadata": {},
     "output_type": "execute_result"
    }
   ],
   "source": [
    "np.allclose(np.linalg.inv(Q1m), -1*P2)"
   ]
  },
  {
   "cell_type": "code",
   "execution_count": 319,
   "id": "9125f0b0",
   "metadata": {},
   "outputs": [],
   "source": [
    "A, B, C = gen_random_model(20)"
   ]
  },
  {
   "cell_type": "code",
   "execution_count": 320,
   "id": "1236e5c5",
   "metadata": {},
   "outputs": [],
   "source": [
    "ssr = SSR(A, B, C)"
   ]
  },
  {
   "cell_type": "code",
   "execution_count": 330,
   "id": "81f7eabe",
   "metadata": {},
   "outputs": [],
   "source": [
    "ccm = ssr.autocorrelation(5)"
   ]
  },
  {
   "cell_type": "code",
   "execution_count": 322,
   "id": "e13c5d82",
   "metadata": {},
   "outputs": [],
   "source": [
    "from dca.cov_util import calc_cov_from_cross_cov_mats"
   ]
  },
  {
   "cell_type": "code",
   "execution_count": 335,
   "id": "f7d5c1ca",
   "metadata": {},
   "outputs": [
    {
     "data": {
      "text/plain": [
       "tensor(20.)"
      ]
     },
     "execution_count": 335,
     "metadata": {},
     "output_type": "execute_result"
    }
   ],
   "source": [
    "calc_mmse_from_cross_cov_mats(torch.tensor(ccm).float(), proj=torch.eye(ccm.shape[1]).float())"
   ]
  },
  {
   "cell_type": "code",
   "execution_count": 336,
   "id": "a7fd5aae",
   "metadata": {},
   "outputs": [],
   "source": [
    "ssr.solve_min_phase()"
   ]
  },
  {
   "cell_type": "code",
   "execution_count": 290,
   "id": "e76baa05",
   "metadata": {},
   "outputs": [],
   "source": [
    "X = np.block([[covf.numpy(), covpf.numpy().T], [covpf.numpy(), covp.numpy()]])"
   ]
  },
  {
   "cell_type": "code",
   "execution_count": 276,
   "id": "a603b91d",
   "metadata": {},
   "outputs": [
    {
     "data": {
      "text/plain": [
       "array([2.32110202, 1.58520366])"
      ]
     },
     "execution_count": 276,
     "metadata": {},
     "output_type": "execute_result"
    }
   ],
   "source": [
    "np.linalg.eigvals(covf.numpy())"
   ]
  },
  {
   "cell_type": "code",
   "execution_count": 277,
   "id": "7eb186f4",
   "metadata": {},
   "outputs": [
    {
     "data": {
      "text/plain": [
       "array([4.7620994 , 4.73554397, 3.95362946, 3.90252817, 3.21494589,\n",
       "       3.16970859, 2.69407875, 2.64382498, 1.85947067, 2.39583849,\n",
       "       2.34771529, 2.32758591, 2.32135343, 2.06495108, 2.2485509 ,\n",
       "       2.20993624, 2.14318295, 2.1417027 , 1.72135523, 1.50840663,\n",
       "       1.3169601 , 1.16886422, 1.14774686, 1.14580719, 1.12512732,\n",
       "       1.13924207, 1.13645881, 1.13444905, 1.09242932, 1.08197266,\n",
       "       1.05989906, 1.0527829 , 1.03637703, 1.03723791, 1.04083439,\n",
       "       1.04137276, 1.04781372, 1.04802378])"
      ]
     },
     "execution_count": 277,
     "metadata": {},
     "output_type": "execute_result"
    }
   ],
   "source": [
    "np.linalg.eigvals(covp.numpy())"
   ]
  },
  {
   "cell_type": "code",
   "execution_count": 279,
   "id": "552767f5",
   "metadata": {},
   "outputs": [
    {
     "data": {
      "text/plain": [
       "tensor(-1.8538, dtype=torch.float64)"
      ]
     },
     "execution_count": 279,
     "metadata": {},
     "output_type": "execute_result"
    }
   ],
   "source": [
    "torch.trace(covf - torch.chain_matmul(covpf.t(), torch.inverse(covp), covpf))"
   ]
  },
  {
   "cell_type": "code",
   "execution_count": 287,
   "id": "8e0628d9",
   "metadata": {},
   "outputs": [
    {
     "data": {
      "text/plain": [
       "4.5949488271275865"
      ]
     },
     "execution_count": 287,
     "metadata": {},
     "output_type": "execute_result"
    }
   ],
   "source": [
    "np.linalg.cond(covp.numpy())"
   ]
  },
  {
   "cell_type": "code",
   "execution_count": 286,
   "id": "d9058629",
   "metadata": {},
   "outputs": [
    {
     "data": {
      "text/plain": [
       "tensor([[ 3.0336, -0.5099],\n",
       "        [-0.5099,  2.7265]], dtype=torch.float64)"
      ]
     },
     "execution_count": 286,
     "metadata": {},
     "output_type": "execute_result"
    }
   ],
   "source": [
    "covpf.t() @ torch.inverse(covp) @ covpf"
   ]
  },
  {
   "cell_type": "code",
   "execution_count": 281,
   "id": "0b6256e5",
   "metadata": {},
   "outputs": [
    {
     "data": {
      "text/plain": [
       "tensor(-1.8538, dtype=torch.float64)"
      ]
     },
     "execution_count": 281,
     "metadata": {},
     "output_type": "execute_result"
    }
   ],
   "source": [
    "torch.trace(covf - covpf.t() @ torch.inverse(covp) @ covpf)"
   ]
  },
  {
   "cell_type": "code",
   "execution_count": 284,
   "id": "5324e87b",
   "metadata": {},
   "outputs": [
    {
     "data": {
      "text/plain": [
       "-1.8537728993631153"
      ]
     },
     "execution_count": 284,
     "metadata": {},
     "output_type": "execute_result"
    }
   ],
   "source": [
    "np.trace(covf.numpy() - covpf.numpy().T @ np.linalg.inv(covp.numpy()) @ covpf.numpy())"
   ]
  },
  {
   "cell_type": "code",
   "execution_count": 299,
   "id": "5b72775e",
   "metadata": {},
   "outputs": [],
   "source": [
    "# Does forward Riccati equation converge to MMSE\n",
    "ccm = ssr.autocorrelation(20)\n",
    "cov = calc_cov_from_cross_cov_mats(ccm)"
   ]
  },
  {
   "cell_type": "code",
   "execution_count": 311,
   "id": "9b0b7ba0",
   "metadata": {},
   "outputs": [
    {
     "data": {
      "text/plain": [
       "(20, 2, 2)"
      ]
     },
     "execution_count": 311,
     "metadata": {},
     "output_type": "execute_result"
    }
   ],
   "source": [
    "np.concatenate([c[np.newaxis, :] for c in ccm]).shape"
   ]
  },
  {
   "cell_type": "code",
   "execution_count": 304,
   "id": "c54ca01f",
   "metadata": {},
   "outputs": [],
   "source": [
    "# MMSE forward\n",
    "def mmse_forward(ccm, proj=None):\n",
    "\n",
    "    if proj is not None:\n",
    "        ccm_proj\n",
    "\n",
    "    T = ccm.shape[0] - 1\n",
    "    N = ccm.shape[-1]\n",
    "    cov = calc_cov_from_cross_cov_mats(ccm)\n",
    "    cov_proj = calc_cov_from_cross_cov_mats(np.concatenate([(proj.T @ c @ proj)[np.newaxis, :] for c in ccm])\n",
    "\n",
    "    covf = cov[-N:, -N:]\n",
    "    covp = cov[:T*N, :T*N]\n",
    "    covpf = cov[:T*N, -N:]\n",
    "    covfp = cov[-N:, :T*N]\n",
    "\n",
    "    return covf - covfp @ np.linalg.inv(covp) @ covpf\n",
    "\n",
    "\n",
    "def mmse_reverse(ccm):\n",
    "    pass    "
   ]
  },
  {
   "cell_type": "code",
   "execution_count": 305,
   "id": "28e154c1",
   "metadata": {},
   "outputs": [
    {
     "data": {
      "text/plain": [
       "array([[ 1.88057021, -0.38751228],\n",
       "       [-0.38751228,  1.63696645]])"
      ]
     },
     "execution_count": 305,
     "metadata": {},
     "output_type": "execute_result"
    }
   ],
   "source": [
    "mmse_forward(ccm)"
   ]
  },
  {
   "cell_type": "code",
   "execution_count": 307,
   "id": "2674a599",
   "metadata": {},
   "outputs": [],
   "source": [
    "ssr.solve_min_phase()"
   ]
  },
  {
   "cell_type": "code",
   "execution_count": 17,
   "id": "991a31ed",
   "metadata": {},
   "outputs": [],
   "source": [
    "# Does the antistabilizing solution to the Riccati equation coincide with the solution of the Riccati equation obtained from a backwards\n",
    "# Markovian realization of the process?\n",
    "\n",
    "# One immediate consequence of the Kailath formula is that the forward and reverse time Kalman filter parameters should coincide."
   ]
  },
  {
   "cell_type": "code",
   "execution_count": 157,
   "id": "44ea51f7",
   "metadata": {},
   "outputs": [],
   "source": [
    "A, B, C = gen_random_model(20, 10, cont=True)\n",
    "# B = C.T"
   ]
  },
  {
   "cell_type": "code",
   "execution_count": 158,
   "id": "ca652c64",
   "metadata": {},
   "outputs": [],
   "source": [
    "Pi = scipy.linalg.solve_continuous_lyapunov(A, -B @ B.T)"
   ]
  },
  {
   "cell_type": "code",
   "execution_count": 159,
   "id": "a0499a4c",
   "metadata": {},
   "outputs": [],
   "source": [
    "Pp, Pm, Qp, Qm = solve_are_sgn(A, B, C)"
   ]
  },
  {
   "cell_type": "code",
   "execution_count": 160,
   "id": "68118dfc",
   "metadata": {},
   "outputs": [
    {
     "data": {
      "text/plain": [
       "True"
      ]
     },
     "execution_count": 160,
     "metadata": {},
     "output_type": "execute_result"
    }
   ],
   "source": [
    "np.allclose(Qm, -1*np.linalg.inv(Pp))"
   ]
  },
  {
   "cell_type": "code",
   "execution_count": 161,
   "id": "d007be9b",
   "metadata": {},
   "outputs": [
    {
     "data": {
      "text/plain": [
       "2.213196988879976"
      ]
     },
     "execution_count": 161,
     "metadata": {},
     "output_type": "execute_result"
    }
   ],
   "source": [
    "np.linalg.cond(Pm)"
   ]
  },
  {
   "cell_type": "code",
   "execution_count": 162,
   "id": "40c4afa4",
   "metadata": {},
   "outputs": [
    {
     "data": {
      "text/plain": [
       "False"
      ]
     },
     "execution_count": 162,
     "metadata": {},
     "output_type": "execute_result"
    }
   ],
   "source": [
    "np.allclose(-A, -A - B @ B.T @ np.linalg.inv(Pi))"
   ]
  },
  {
   "cell_type": "code",
   "execution_count": 171,
   "id": "f7a3c658",
   "metadata": {},
   "outputs": [],
   "source": [
    "Q1 = solve_are(A.T, C.T, B @ B.T, np.eye(C.shape[0]), stable=True)"
   ]
  },
  {
   "cell_type": "code",
   "execution_count": 176,
   "id": "90f504d0",
   "metadata": {},
   "outputs": [],
   "source": [
    "Q2 = solve_are((-A - B @ B.T @ np.linalg.inv(Pi)).T, C.T, B @ B.T, np.eye(C.shape[0]), stable=True)"
   ]
  },
  {
   "cell_type": "code",
   "execution_count": 172,
   "id": "3e2c5006",
   "metadata": {},
   "outputs": [
    {
     "data": {
      "text/plain": [
       "array([0.37810058, 0.36822253, 0.33790802, 0.32270506, 0.300653  ,\n",
       "       0.29239621, 0.1708391 , 0.28015369, 0.27312249, 0.17790005,\n",
       "       0.18521241, 0.19358801, 0.20305031, 0.25809415, 0.21077485,\n",
       "       0.2451703 , 0.23787772, 0.23383626, 0.22500763, 0.22561057])"
      ]
     },
     "execution_count": 172,
     "metadata": {},
     "output_type": "execute_result"
    }
   ],
   "source": [
    "np.linalg.eigvals(Q1)"
   ]
  },
  {
   "cell_type": "code",
   "execution_count": 177,
   "id": "98d24fc3",
   "metadata": {},
   "outputs": [
    {
     "data": {
      "text/plain": [
       "array([0.37678043, 0.36530915, 0.33857327, 0.32329659, 0.17082345,\n",
       "       0.30140423, 0.17730941, 0.29075257, 0.28078575, 0.27382403,\n",
       "       0.18554753, 0.1930167 , 0.20329504, 0.25765317, 0.21120329,\n",
       "       0.24535055, 0.23822446, 0.23321985, 0.22534598, 0.22686252])"
      ]
     },
     "execution_count": 177,
     "metadata": {},
     "output_type": "execute_result"
    }
   ],
   "source": [
    "np.linalg.eigvals(Q2)"
   ]
  },
  {
   "cell_type": "code",
   "execution_count": 180,
   "id": "1b84a33f",
   "metadata": {},
   "outputs": [
    {
     "data": {
      "text/plain": [
       "array([3.07868345e-01, 2.99673619e-01, 2.62684288e-01, 2.59082437e-01,\n",
       "       2.30970964e-01, 2.26881340e-01, 2.17022759e-01, 1.84176358e-01,\n",
       "       2.00077744e-01, 1.96047785e-01, 9.06777542e-03, 6.29964175e-03,\n",
       "       5.00721777e-03, 4.29488689e-03, 2.75048337e-03, 1.66799693e-03,\n",
       "       8.47813473e-04, 4.25302854e-05, 1.04944233e-04, 2.07173131e-04])"
      ]
     },
     "execution_count": 180,
     "metadata": {},
     "output_type": "execute_result"
    }
   ],
   "source": [
    "np.linalg.eigvals(Pp)b"
   ]
  },
  {
   "cell_type": "code",
   "execution_count": 181,
   "id": "0f8be26a",
   "metadata": {},
   "outputs": [],
   "source": [
    "# Conclusion is that we need to normalize the reverse time parameterization to obtain the adjoint state system\n",
    "# Numerically verify 2 things:\n",
    "# (1) The acausal Kalman filter Riccati solution coincides with the empirical MMSE\n",
    "# (2) The acausal filtering problem for the adjoint state coincides with the solution of the forward time regulator riccati equation"
   ]
  },
  {
   "cell_type": "code",
   "execution_count": 182,
   "id": "63998c57",
   "metadata": {},
   "outputs": [],
   "source": [
    "# First task: Does discrete time MMSE converge to continuous time riccati solution as we make the timestep increasingly smaller?"
   ]
  },
  {
   "cell_type": "code",
   "execution_count": 183,
   "id": "2e445354",
   "metadata": {},
   "outputs": [],
   "source": [
    "# Back up: Does our implementation of mmse_from_cross_cov_mats work in the discrete time case?"
   ]
  },
  {
   "cell_type": "code",
   "execution_count": 215,
   "id": "64876fbd",
   "metadata": {},
   "outputs": [],
   "source": [
    "from dca_research.cov_util import calc_mmse_from_cross_cov_mats"
   ]
  },
  {
   "cell_type": "code",
   "execution_count": 192,
   "id": "668dfbfe",
   "metadata": {},
   "outputs": [],
   "source": [
    "A, B, C = gen_random_model(20)"
   ]
  },
  {
   "cell_type": "code",
   "execution_count": 198,
   "id": "8edcc0ef",
   "metadata": {},
   "outputs": [],
   "source": [
    "ssr = SSR(A, B, C)\n",
    "ssr.solve_min_phase()\n",
    "ccm = ssr.autocorrelation(10)"
   ]
  },
  {
   "cell_type": "code",
   "execution_count": 194,
   "id": "99ecd7b1",
   "metadata": {},
   "outputs": [
    {
     "data": {
      "text/plain": [
       "tensor(20.0000, dtype=torch.float64)"
      ]
     },
     "execution_count": 194,
     "metadata": {},
     "output_type": "execute_result"
    }
   ],
   "source": [
    "calc_mmse_from_cross_cov_mats(torch.tensor(ccm))"
   ]
  },
  {
   "cell_type": "code",
   "execution_count": 199,
   "id": "ad8af79e",
   "metadata": {},
   "outputs": [
    {
     "data": {
      "text/plain": [
       "20.000000000000007"
      ]
     },
     "execution_count": 199,
     "metadata": {},
     "output_type": "execute_result"
    }
   ],
   "source": [
    "np.trace(ssr.P - ssr.Pmin)"
   ]
  },
  {
   "cell_type": "code",
   "execution_count": 200,
   "id": "df66f980",
   "metadata": {},
   "outputs": [],
   "source": [
    "# Now do projected version\n",
    "A, B, C = gen_random_model(20, 2)"
   ]
  },
  {
   "cell_type": "code",
   "execution_count": 210,
   "id": "2b829ddc",
   "metadata": {},
   "outputs": [],
   "source": [
    "ssr = SSR(A, B, C)\n",
    "ssr_ambient = SSR(A, B, C=np.eye(A.shape[0]))\n",
    "ssr.solve_min_phase()\n",
    "ccm = ssr_ambient.autocorrelation(10)"
   ]
  },
  {
   "cell_type": "code",
   "execution_count": 211,
   "id": "0c00ae0f",
   "metadata": {},
   "outputs": [
    {
     "name": "stdout",
     "output_type": "stream",
     "text": [
      "> \u001b[0;32m/home/akumar/nse/DCA_research/dca_research/kca.py\u001b[0m(46)\u001b[0;36mcalc_mmse_from_cross_cov_mats\u001b[0;34m()\u001b[0m\n",
      "\u001b[0;32m     44 \u001b[0;31m        \u001b[0mcovf\u001b[0m \u001b[0;34m=\u001b[0m \u001b[0mcross_cov_mats\u001b[0m\u001b[0;34m[\u001b[0m\u001b[0;36m0\u001b[0m\u001b[0;34m]\u001b[0m\u001b[0;34m\u001b[0m\u001b[0;34m\u001b[0m\u001b[0m\n",
      "\u001b[0m\u001b[0;32m     45 \u001b[0;31m        \u001b[0mpdb\u001b[0m\u001b[0;34m.\u001b[0m\u001b[0mset_trace\u001b[0m\u001b[0;34m(\u001b[0m\u001b[0;34m)\u001b[0m\u001b[0;34m\u001b[0m\u001b[0;34m\u001b[0m\u001b[0m\n",
      "\u001b[0m\u001b[0;32m---> 46 \u001b[0;31m        \u001b[0mcovpf\u001b[0m \u001b[0;34m=\u001b[0m \u001b[0mtorch\u001b[0m\u001b[0;34m.\u001b[0m\u001b[0mcat\u001b[0m\u001b[0;34m(\u001b[0m\u001b[0mccm_proj2\u001b[0m\u001b[0;34m)\u001b[0m\u001b[0;34m\u001b[0m\u001b[0;34m\u001b[0m\u001b[0m\n",
      "\u001b[0m\u001b[0;32m     47 \u001b[0;31m\u001b[0;34m\u001b[0m\u001b[0m\n",
      "\u001b[0m\u001b[0;32m     48 \u001b[0;31m    \u001b[0;32melse\u001b[0m\u001b[0;34m:\u001b[0m\u001b[0;34m\u001b[0m\u001b[0;34m\u001b[0m\u001b[0m\n",
      "\u001b[0m\n"
     ]
    },
    {
     "data": {
      "text/plain": [
       "tensor(34.3742, dtype=torch.float64)"
      ]
     },
     "execution_count": 211,
     "metadata": {},
     "output_type": "execute_result"
    }
   ],
   "source": [
    "calc_mmse_from_cross_cov_mats(torch.tensor(ccm), proj=torch.tensor(C.T))"
   ]
  },
  {
   "cell_type": "code",
   "execution_count": 212,
   "id": "34c63142",
   "metadata": {},
   "outputs": [
    {
     "data": {
      "text/plain": [
       "34.373397726939075"
      ]
     },
     "execution_count": 212,
     "metadata": {},
     "output_type": "execute_result"
    }
   ],
   "source": [
    "np.trace((ssr.P - ssr.Pmin))"
   ]
  },
  {
   "cell_type": "code",
   "execution_count": 216,
   "id": "aedd8f27",
   "metadata": {},
   "outputs": [],
   "source": [
    "# Next task: Does the (discrete time) acausal Riccati equation induced by the backwards model coincide with the empirical mmse?\n",
    "A, B, C = gen_random_model(20)\n",
    "# Construct acausal parameters:\n",
    "ssr_fwd = SSR(A, B, C)\n",
    "Ar = ssr_fwd.P @ A @ np.linalg.inv(ssr_fwd.P)\n",
    "Br = ssr_fwd.P - Ar @ ssr_fwd.P @ Ar.T\n",
    "\n",
    "# Projection\n",
    "V = scipy.stats.ortho_group.rvs(20)[:, 0:2].T\n",
    "\n",
    "ssr_bkwd_ambient = SSR(Ar, Br, C)\n",
    "ccm = ssr_bkwd_ambient.autocorrelation(10)\n",
    "ssr_bkwd = SSR(Ar, Br, V)\n",
    "ssr_bkwd.solve_min_phase()"
   ]
  },
  {
   "cell_type": "code",
   "execution_count": 217,
   "id": "86fc5c86",
   "metadata": {},
   "outputs": [
    {
     "data": {
      "text/plain": [
       "tensor(133.7017, dtype=torch.float64)"
      ]
     },
     "execution_count": 217,
     "metadata": {},
     "output_type": "execute_result"
    }
   ],
   "source": [
    "calc_mmse_from_cross_cov_mats(torch.tensor(ccm), proj=torch.tensor(V.T))"
   ]
  },
  {
   "cell_type": "code",
   "execution_count": 218,
   "id": "04084f2f",
   "metadata": {},
   "outputs": [
    {
     "data": {
      "text/plain": [
       "133.70133716047124"
      ]
     },
     "execution_count": 218,
     "metadata": {},
     "output_type": "execute_result"
    }
   ],
   "source": [
    "np.trace(ssr_bkwd.P - ssr_bkwd.Pmin)"
   ]
  },
  {
   "cell_type": "code",
   "execution_count": 6,
   "id": "13e6ee08",
   "metadata": {},
   "outputs": [],
   "source": [
    "# Next: Does discrete time MMSE converge to the solution of the continuous time Riccati equation as we let delta t -> 0?\n",
    "deltat = np.logspace(-3, 0, 10)[::-1]\n",
    "nt = np.array([10, 25, 50, 100])\n",
    "diff = np.zeros((deltat.size, nt.size))\n",
    "\n",
    "A, B, C = gen_random_model(20, cont=True)\n",
    "Pcont = scipy.linalg.solve_continuous_lyapunov(A, -B @ B.T)\n",
    "V = scipy.stats.ortho_group.rvs(20)[:, 0:2].T\n",
    "\n",
    "Q = scipy.linalg.solve_continuous_are(A.T, V.T, B @ B.T, np.eye(V.shape[0]))\n",
    "\n",
    "for i, dt in enumerate(deltat):\n",
    "    for j, n in enumerate(nt):        \n",
    "        ccm = np.array([scipy.linalg.expm(A * j * dt) @ Pcont for j in range(n)]) \n",
    "        m1 = calc_mmse_from_cross_cov_mats(torch.tensor(ccm), proj=torch.tensor(V.T)).detach().numpy()\n",
    "        diff[i, j] = np.trace(Q - m1)"
   ]
  },
  {
   "cell_type": "code",
   "execution_count": null,
   "id": "94317b21",
   "metadata": {},
   "outputs": [],
   "source": [
    "# Then, code up the modification to LQGCA in which we normalize by the state variance"
   ]
  },
  {
   "cell_type": "markdown",
   "id": "08ff29fd",
   "metadata": {},
   "source": [
    "### Testing whether acausal filtering covariance is the inverse of the LQR grammian"
   ]
  },
  {
   "cell_type": "code",
   "execution_count": null,
   "id": "deaab1ff",
   "metadata": {},
   "outputs": [],
   "source": [
    "# To test this, one calculates the solution of the Riccati equation associated with filtering of the co-state, and then scales by Pi^{-1} Q Pi^{-1}^T"
   ]
  },
  {
   "cell_type": "code",
   "execution_count": 1,
   "id": "7c26f0cf",
   "metadata": {},
   "outputs": [],
   "source": [
    "sys.path.append('/home/akumar/nse/network_control')"
   ]
  },
  {
   "cell_type": "code",
   "execution_count": 21,
   "id": "c94330d0",
   "metadata": {},
   "outputs": [],
   "source": [
    "from state_space import gen_random_model\n",
    "from state_space import ContinuousSSR as CSSR"
   ]
  },
  {
   "cell_type": "code",
   "execution_count": 30,
   "id": "4da5fb41",
   "metadata": {},
   "outputs": [],
   "source": [
    "A, B, C = gen_random_model(10, 5, 5, continuous=True)"
   ]
  },
  {
   "cell_type": "code",
   "execution_count": 31,
   "id": "1dc85ae4",
   "metadata": {},
   "outputs": [],
   "source": [
    "Pi = scipy.linalg.solve_continuous_lyapunov(A, -B @ B.T)"
   ]
  },
  {
   "cell_type": "code",
   "execution_count": 32,
   "id": "6e48850e",
   "metadata": {},
   "outputs": [],
   "source": [
    "Q = scipy.linalg.solve_continuous_are(A.T, (C @ Pi).T, np.linalg.inv(Pi) @ B @ B.T @ np.linalg.inv(Pi), np.eye(C.shape[0]))"
   ]
  },
  {
   "cell_type": "code",
   "execution_count": 41,
   "id": "3eb47112",
   "metadata": {},
   "outputs": [],
   "source": [
    "Pbp, Pbm, Qbp, Qbm = solve_are_sgn(A.T, (C @ Pi).T, (np.linalg.inv(Pi) @ B).T)"
   ]
  },
  {
   "cell_type": "code",
   "execution_count": 42,
   "id": "d14d5e15",
   "metadata": {},
   "outputs": [],
   "source": [
    "P = scipy.linalg.solve_continuous_are(A, B, C.T @ C, np.eye(B.shape[1]))"
   ]
  },
  {
   "cell_type": "code",
   "execution_count": 46,
   "id": "b6501842",
   "metadata": {},
   "outputs": [
    {
     "data": {
      "text/plain": [
       "398.5252188860716"
      ]
     },
     "execution_count": 46,
     "metadata": {},
     "output_type": "execute_result"
    }
   ],
   "source": [
    "np.linalg.norm(np.linalg.inv(P) - Pi @ Pbp @ Pi.T)"
   ]
  },
  {
   "cell_type": "code",
   "execution_count": 47,
   "id": "1ccd9aa7",
   "metadata": {},
   "outputs": [],
   "source": [
    "# Simulate a discrete time system, flip the direction of time, and compare to Riccati solutions"
   ]
  },
  {
   "cell_type": "code",
   "execution_count": 58,
   "id": "6cf8eb5a",
   "metadata": {},
   "outputs": [],
   "source": [
    "from dca_research.lqg import calc_mmse_from_cross_cov_mats\n",
    "import torch"
   ]
  },
  {
   "cell_type": "code",
   "execution_count": 149,
   "id": "be6bce67",
   "metadata": {},
   "outputs": [],
   "source": [
    "A, B, C = gen_random_model(20, 18, 5)"
   ]
  },
  {
   "cell_type": "code",
   "execution_count": 135,
   "id": "5d7980b4",
   "metadata": {},
   "outputs": [
    {
     "data": {
      "text/plain": [
       "(5, 20)"
      ]
     },
     "execution_count": 135,
     "metadata": {},
     "output_type": "execute_result"
    }
   ],
   "source": [
    "C.shape"
   ]
  },
  {
   "cell_type": "code",
   "execution_count": 169,
   "id": "17ec65b4",
   "metadata": {},
   "outputs": [],
   "source": [
    "ssr = SSR(A, B=B, C=C)\n",
    "ssr2 = SSR(A=A, B=B, C=np.eye(20))"
   ]
  },
  {
   "cell_type": "code",
   "execution_count": 151,
   "id": "f2d0d18f",
   "metadata": {},
   "outputs": [],
   "source": [
    "ccm = ssr2.autocorrelation(20)"
   ]
  },
  {
   "cell_type": "code",
   "execution_count": 170,
   "id": "9ea4bf99",
   "metadata": {},
   "outputs": [],
   "source": [
    "ssr.solve_min_phase()"
   ]
  },
  {
   "cell_type": "code",
   "execution_count": 171,
   "id": "4ef7d367",
   "metadata": {},
   "outputs": [
    {
     "data": {
      "text/plain": [
       "29.040384172401914"
      ]
     },
     "execution_count": 171,
     "metadata": {},
     "output_type": "execute_result"
    }
   ],
   "source": [
    "np.trace(ssr.P - ssr.Pmin)"
   ]
  },
  {
   "cell_type": "code",
   "execution_count": 174,
   "id": "9308c907",
   "metadata": {},
   "outputs": [
    {
     "data": {
      "text/plain": [
       "29.040385037250346"
      ]
     },
     "execution_count": 174,
     "metadata": {},
     "output_type": "execute_result"
    }
   ],
   "source": [
    "np.trace(Q)"
   ]
  },
  {
   "cell_type": "code",
   "execution_count": 173,
   "id": "ec88f0a6",
   "metadata": {},
   "outputs": [],
   "source": [
    "Q = scipy.linalg.solve_discrete_are(A.T, C.T, B @ B.T, np.zeros((C.shape[0], C.shape[0])))"
   ]
  },
  {
   "cell_type": "code",
   "execution_count": 188,
   "id": "2c582df8",
   "metadata": {},
   "outputs": [],
   "source": [
    "P = scipy.linalg.solve_discrete_are(A, B, C.T @ C, np.eye(B.shape[1]))"
   ]
  },
  {
   "cell_type": "code",
   "execution_count": 183,
   "id": "4622ba71",
   "metadata": {},
   "outputs": [],
   "source": [
    "ccm_rev = np.array([c.T for c in ccm])"
   ]
  },
  {
   "cell_type": "code",
   "execution_count": 184,
   "id": "292431f2",
   "metadata": {},
   "outputs": [
    {
     "data": {
      "text/plain": [
       "28.67491046048867"
      ]
     },
     "execution_count": 184,
     "metadata": {},
     "output_type": "execute_result"
    }
   ],
   "source": [
    "np.trace(calc_mmse_from_cross_cov_mats(torch.tensor(ccm_rev), torch.tensor(C.T)))"
   ]
  },
  {
   "cell_type": "code",
   "execution_count": 189,
   "id": "eba7b9c9",
   "metadata": {},
   "outputs": [
    {
     "data": {
      "text/plain": [
       "6715.517264960441"
      ]
     },
     "execution_count": 189,
     "metadata": {},
     "output_type": "execute_result"
    }
   ],
   "source": []
  }
 ],
 "metadata": {
  "kernelspec": {
   "display_name": "Python 3.7.10 ('dyn')",
   "language": "python",
   "name": "python3"
  },
  "language_info": {
   "codemirror_mode": {
    "name": "ipython",
    "version": 3
   },
   "file_extension": ".py",
   "mimetype": "text/x-python",
   "name": "python",
   "nbconvert_exporter": "python",
   "pygments_lexer": "ipython3",
   "version": "3.9.13"
  },
  "vscode": {
   "interpreter": {
    "hash": "c52494c424e88c3f855a8aeb34b231af4706f7aa247f66fb47c890a5ab8814ab"
   }
  }
 },
 "nbformat": 4,
 "nbformat_minor": 5
}
