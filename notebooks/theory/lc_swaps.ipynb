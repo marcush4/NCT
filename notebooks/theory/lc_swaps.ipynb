{
 "cells": [
  {
   "cell_type": "code",
   "execution_count": 1,
   "metadata": {},
   "outputs": [],
   "source": [
    "%load_ext autoreload\n",
    "%autoreload 2"
   ]
  },
  {
   "cell_type": "code",
   "execution_count": 42,
   "metadata": {},
   "outputs": [],
   "source": [
    "import pdb\n",
    "from tqdm import tqdm\n",
    "import numpy as np\n",
    "import scipy\n",
    "from scipy.stats import ortho_group\n",
    "import sys\n",
    "from copy import deepcopy as copy\n",
    "import matplotlib.pyplot as plt"
   ]
  },
  {
   "cell_type": "code",
   "execution_count": 7,
   "metadata": {},
   "outputs": [],
   "source": [
    "sys.path.append('/home/akumar/nse/neural_control')"
   ]
  },
  {
   "cell_type": "code",
   "execution_count": 8,
   "metadata": {},
   "outputs": [],
   "source": [
    "from utils import calc_loadings"
   ]
  },
  {
   "cell_type": "code",
   "execution_count": 3,
   "metadata": {},
   "outputs": [],
   "source": [
    "# If we take a projection matrix and swap the loadings around, can we get different trajectories of subspace angles vs. loading correlation?"
   ]
  },
  {
   "cell_type": "code",
   "execution_count": 60,
   "metadata": {},
   "outputs": [],
   "source": [
    "V = ortho_group.rvs(100)[:, 0:2]\n",
    "loadings = calc_loadings(V)\n"
   ]
  },
  {
   "cell_type": "code",
   "execution_count": 61,
   "metadata": {},
   "outputs": [
    {
     "data": {
      "text/plain": [
       "array([0.20042476, 0.64168773, 0.17199362, 0.11030999, 0.03780365,\n",
       "       0.08046717, 0.78851341, 0.11842618, 0.07454518, 0.32474294,\n",
       "       0.55654458, 0.1146707 , 0.63229962, 0.12023774, 0.22581063,\n",
       "       0.13143126, 0.05487876, 0.40948857, 0.07617791, 0.00233783,\n",
       "       1.        , 0.05659019, 0.38507467, 0.19957055, 0.0238848 ,\n",
       "       0.0349446 , 0.24223998, 0.16643701, 0.17440463, 0.10813521,\n",
       "       0.58618867, 0.10177542, 0.07826622, 0.54516655, 0.1365566 ,\n",
       "       0.19874092, 0.11085111, 0.06823686, 0.09211588, 0.07625385,\n",
       "       0.15558628, 0.00908371, 0.03862642, 0.03306526, 0.14345212,\n",
       "       0.00676401, 0.00321595, 0.12812843, 0.13221731, 0.00592634,\n",
       "       0.14047539, 0.28324449, 0.05964197, 0.00529132, 0.07868483,\n",
       "       0.16368609, 0.25169096, 0.13826049, 0.06660749, 0.15311155,\n",
       "       0.06069726, 0.25312538, 0.05177122, 0.08199354, 0.30552837,\n",
       "       0.19006141, 0.07100964, 0.40136152, 0.22575501, 0.2229843 ,\n",
       "       0.16685497, 0.18625523, 0.25133284, 0.02487936, 0.0426649 ,\n",
       "       0.36099606, 0.13775109, 0.03110697, 0.13376076, 0.05516916,\n",
       "       0.12264982, 0.06752257, 0.09210337, 0.15241262, 0.1479148 ,\n",
       "       0.17864188, 0.00448442, 0.23137014, 0.58956629, 0.16182463,\n",
       "       0.16501448, 0.02527554, 0.12343419, 0.05205207, 0.30694925,\n",
       "       0.29943737, 0.25301483, 0.10032576, 0.15918658, 0.54378987])"
      ]
     },
     "execution_count": 61,
     "metadata": {},
     "output_type": "execute_result"
    }
   ],
   "source": [
    "loadings"
   ]
  },
  {
   "cell_type": "code",
   "execution_count": 62,
   "metadata": {},
   "outputs": [
    {
     "name": "stderr",
     "output_type": "stream",
     "text": [
      "100%|██████████| 10/10 [00:16<00:00,  1.63s/it]\n"
     ]
    }
   ],
   "source": [
    "# Take loadings and swap them. Do this (i) uniformly, (ii) amongst high loadings only, (iii) Amongst low loadings only\n",
    "\n",
    "reps = 10\n",
    "nswaps = 1000\n",
    "\n",
    "ss_angles1 = np.zeros((reps, nswaps))\n",
    "ss_angles2 = np.zeros((reps, nswaps))\n",
    "ss_angles3 = np.zeros((reps, nswaps))\n",
    "\n",
    "lc1 = np.zeros((reps, nswaps))\n",
    "lc2 = np.zeros((reps, nswaps))\n",
    "lc3 = np.zeros((reps, nswaps))\n",
    "\n",
    "V1 = copy(V)\n",
    "V2 = copy(V)\n",
    "V3 = copy(V)\n",
    "\n",
    "loadings = calc_loadings(V)\n",
    "\n",
    "for i in tqdm(range(reps)):\n",
    "    for j in range(nswaps):\n",
    "\n",
    "        # Swap uniformly\n",
    "        loadings1 = calc_loadings(V1)\n",
    "        swap1 = np.random.choice(np.arange(V.shape[0]), 2)\n",
    "        column = np.random.binomial(1, 0.5)\n",
    "        V1[swap1[0], column], V1[swap1[1], column] = V1[swap1[1], column], V1[swap1[0], column]\n",
    "\n",
    "        # Only swap upper quartile of loadings\n",
    "        loadings2 = calc_loadings(V2)\n",
    "        q1 = np.quantile(loadings2, 0.75)\n",
    "        valid_rows = np.argwhere(loadings2 >= q1)[:, 0]\n",
    "\n",
    "        swap2 = np.random.choice(valid_rows, 2)\n",
    "        column = np.random.binomial(1, 0.5)\n",
    "        V2[swap2[0], column], V2[swap2[1], column] = V2[swap2[1], column], V2[swap2[0], column]\n",
    "\n",
    "        loadings3 = calc_loadings(V3)\n",
    "        q4 = np.quantile(loadings3, 0.25)\n",
    "        valid_rows = np.argwhere(loadings3 <= q4)[:, 0]\n",
    "        swap3 = np.random.choice(valid_rows, 2)\n",
    "        column = np.random.binomial(1, 0.5)\n",
    "        V3[swap3[0], column], V3[swap3[1], column] = V3[swap3[1], column], V3[swap3[0], column]\n",
    "        \n",
    "        # Record statistics\n",
    "        ss_angles1[i, j] = np.mean(scipy.linalg.subspace_angles(V, V1))\n",
    "        ss_angles2[i, j] = np.mean(scipy.linalg.subspace_angles(V, V2))\n",
    "        ss_angles3[i, j] = np.mean(scipy.linalg.subspace_angles(V, V3))\n",
    "\n",
    "        lc1[i, j] = scipy.stats.spearmanr(loadings, loadings1)[0]\n",
    "        lc2[i, j] = scipy.stats.spearmanr(loadings, loadings2)[0]\n",
    "        lc3[i, j] = scipy.stats.spearmanr(loadings, loadings3)[0]\n",
    "        "
   ]
  },
  {
   "cell_type": "code",
   "execution_count": 65,
   "metadata": {},
   "outputs": [
    {
     "data": {
      "text/plain": [
       "Text(0.5, 0, 'Num. Swaps')"
      ]
     },
     "execution_count": 65,
     "metadata": {},
     "output_type": "execute_result"
    },
    {
     "data": {
      "image/png": "[encoded data removed]",
      "text/plain": [
       "<Figure size 576x288 with 2 Axes>"
      ]
     },
     "metadata": {
      "needs_background": "light"
     },
     "output_type": "display_data"
    }
   ],
   "source": [
    "fig, ax = plt.subplots(1, 2, figsize=(8, 4))\n",
    "ax[0].plot(np.mean(ss_angles1, axis=0))\n",
    "ax[0].plot(np.mean(ss_angles2, axis=0))\n",
    "ax[0].plot(np.mean(ss_angles3, axis=0))\n",
    "\n",
    "ax[1].plot(np.mean(lc1, axis=0))\n",
    "ax[1].plot(np.mean(lc2, axis=0))\n",
    "ax[1].plot(np.mean(lc3, axis=0))\n",
    "\n",
    "ax[0].legend(['Uniform Swap', 'Upper Quartile Swap', 'Lower quartile swap'])\n",
    "\n",
    "ax[0].set_ylabel('Subspace angle (rads)')\n",
    "ax[1].set_ylabel('Loading correlation')\n",
    "ax[0].set_xlabel('Num. Swaps')\n",
    "ax[1].set_xlabel('Num. Swaps')"
   ]
  },
  {
   "cell_type": "code",
   "execution_count": null,
   "metadata": {},
   "outputs": [],
   "source": [
    "plt.plot()"
   ]
  }
 ],
 "metadata": {
  "interpreter": {
   "hash": "c52494c424e88c3f855a8aeb34b231af4706f7aa247f66fb47c890a5ab8814ab"
  },
  "kernelspec": {
   "display_name": "Python 3.7.10 64-bit ('dyn': conda)",
   "language": "python",
   "name": "python3"
  },
  "language_info": {
   "codemirror_mode": {
    "name": "ipython",
    "version": 3
   },
   "file_extension": ".py",
   "mimetype": "text/x-python",
   "name": "python",
   "nbconvert_exporter": "python",
   "pygments_lexer": "ipython3",
   "version": "3.7.10"
  },
  "orig_nbformat": 4
 },
 "nbformat": 4,
 "nbformat_minor": 2
}
