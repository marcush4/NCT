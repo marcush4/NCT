{
 "cells": [
  {
   "cell_type": "code",
   "execution_count": 1,
   "id": "0292254b",
   "metadata": {},
   "outputs": [],
   "source": [
    "%load_ext autoreload\n",
    "%autoreload 2"
   ]
  },
  {
   "cell_type": "code",
   "execution_count": 2,
   "id": "fb8a45a1",
   "metadata": {},
   "outputs": [],
   "source": [
    "import numpy as np \n",
    "import pandas as pd\n",
    "import scipy\n",
    "import matplotlib.pyplot as plt\n",
    "import sys\n",
    "import pdb"
   ]
  },
  {
   "cell_type": "code",
   "execution_count": 3,
   "id": "a013d17f",
   "metadata": {},
   "outputs": [],
   "source": [
    "sys.path.append('../..')"
   ]
  },
  {
   "cell_type": "code",
   "execution_count": 4,
   "id": "530aae23",
   "metadata": {},
   "outputs": [],
   "source": [
    "import warnings\n",
    "warnings.filterwarnings(\"ignore\")"
   ]
  },
  {
   "cell_type": "code",
   "execution_count": 5,
   "id": "79fcdcfe",
   "metadata": {},
   "outputs": [],
   "source": [
    "from os import listdir\n",
    "from os.path import isfile, join\n",
    "from tqdm import tqdm\n",
    "import pickle\n",
    "from sklearn.model_selection import KFold\n",
    "import glob\n",
    "from utils import calc_loadings\n",
    "from loaders import load_sabes, load_peanut\n",
    "from decoders import lr_decoder, lr_encoder\n",
    "from utils import apply_df_filters"
   ]
  },
  {
   "cell_type": "code",
   "execution_count": 6,
   "id": "b21f7a78",
   "metadata": {},
   "outputs": [],
   "source": [
    "sabes_decoding_files = glob.glob('/media/akumar/Secondary/data/cosyne_results/sabes_decoding2/sabes_decoding2_*.dat')\n",
    "sabes_kca_files = glob.glob('/media/akumar/Secondary/data/cosyne_results/sabes_kca2/sabes_kca2_*.dat')\n",
    "peanut_decoding_files = glob.glob('/media/akumar/Secondary/data/cosyne_results/peanut_decoding2/peanut_decoding2_*.dat')\n",
    "peanut_kca_files = glob.glob('/media/akumar/Secondary/data/cosyne_results/peanut_kca2/peanut_kca2_*.dat')                            "
   ]
  },
  {
   "cell_type": "code",
   "execution_count": 7,
   "id": "825b25f9",
   "metadata": {},
   "outputs": [],
   "source": [
    "results_list = []\n",
    "for file in peanut_kca_files:\n",
    "    with open(file, 'rb') as f:\n",
    "        result_ = pickle.load(f)\n",
    "    results_list.extend(result_)\n",
    "peanut_kca_df = pd.DataFrame(results_list)"
   ]
  },
  {
   "cell_type": "code",
   "execution_count": 8,
   "id": "bb4798e6",
   "metadata": {},
   "outputs": [],
   "source": [
    "results_list = []\n",
    "for file in sabes_kca_files:\n",
    "    with open(file, 'rb') as f:\n",
    "        result_ = pickle.load(f)\n",
    "    results_list.extend(result_)\n",
    "sabes_kca_df = pd.DataFrame(results_list)"
   ]
  },
  {
   "cell_type": "markdown",
   "id": "bec01690",
   "metadata": {
    "heading_collapsed": true
   },
   "source": [
    "### Sabes"
   ]
  },
  {
   "cell_type": "code",
   "execution_count": 96,
   "id": "6d831811",
   "metadata": {
    "hidden": true
   },
   "outputs": [],
   "source": [
    "data_path = '/media/akumar/Secondary/data/sabes'"
   ]
  },
  {
   "cell_type": "code",
   "execution_count": 97,
   "id": "18f2ee0d",
   "metadata": {
    "hidden": true
   },
   "outputs": [],
   "source": [
    "data_files = sabes_kca_df[\"data_file\"].unique()"
   ]
  },
  {
   "cell_type": "code",
   "execution_count": 98,
   "id": "cf1933e9",
   "metadata": {
    "hidden": true
   },
   "outputs": [
    {
     "data": {
      "text/plain": [
       "Index(['dim', 'fold_idx', 'train_idxs', 'test_idxs', 'KCA', 'fit_all', 'PCA',\n",
       "       'SFA', 'bin_width', 'filter_fn', 'filter_kwargs', 'boxcox',\n",
       "       'spike_threshold', 'dim_vals', 'n_folds', 'T', 'ols_order',\n",
       "       'data_file'],\n",
       "      dtype='object')"
      ]
     },
     "execution_count": 98,
     "metadata": {},
     "output_type": "execute_result"
    }
   ],
   "source": [
    "sabes_kca_df.keys()"
   ]
  },
  {
   "cell_type": "code",
   "execution_count": 99,
   "id": "0789054b",
   "metadata": {
    "hidden": true
   },
   "outputs": [
    {
     "name": "stderr",
     "output_type": "stream",
     "text": [
      "100%|████████████████████████████████████████████████████████████████████████████████████████████████████████████████████████████████████████████████████████████████████████████████| 28/28 [04:14<00:00,  9.08s/it]\n"
     ]
    }
   ],
   "source": [
    "decoder_params = {'trainlag': 4, 'testlag': 4, 'decoding_window': 3}\n",
    "fold_idx = 0\n",
    "\n",
    "result = {}\n",
    "for data_file in tqdm(data_files):\n",
    "    \n",
    "    result[data_file] = {}\n",
    "    \n",
    "    KCA_df = apply_df_filters(sabes_kca_df, data_file=data_file, fold_idx=fold_idx)\n",
    "    pca_df = apply_df_filters(sabes_kca_df, data_file=data_file, fit_all=True, fold_idx=fold_idx)\n",
    "    \n",
    "    dat = load_sabes('%s/%s' % (data_path, data_file), bin_width=KCA_df.iloc[0][\"bin_width\"],\n",
    "                     filter_fn=KCA_df.iloc[0]['filter_fn'], filter_kwargs=KCA_df.iloc[0]['filter_kwargs'],\n",
    "                     boxcox=KCA_df.iloc[0]['boxcox'], spike_threshold=KCA_df.iloc[0]['spike_threshold'])\n",
    "    \n",
    "    X = np.squeeze(dat['spike_rates'])\n",
    "    Z = dat['behavior']\n",
    "    kfold = KFold(n_splits=5, shuffle=False)\n",
    "    train_idxs, test_idxs = next(kfold.split(X))\n",
    "    ztrain = Z[train_idxs, :]\n",
    "    ztest = Z[test_idxs, :]\n",
    "\n",
    "    # Population level decoding/encoding - use the coefficient in the linear fit\n",
    "    # Record both the weights in the coefficient but also the loadings onto the SVD\n",
    "\n",
    "    xtrain = X[train_idxs, :]\n",
    "    xtest = X[test_idxs, :]\n",
    "    \n",
    "    _, _, _, decodingregressor = lr_decoder(xtest, xtrain, ztest, ztrain, **decoder_params)\n",
    "    _, encodingregressor = lr_encoder(xtest, xtrain, ztest, ztrain, **decoder_params)\n",
    "\n",
    "    result[data_file]['decoding_weights'] = decodingregressor.coef_\n",
    "    result[data_file]['encoding_weights'] = encodingregressor.coef_\n",
    "    \n",
    "    u1, s1, vh1 = np.linalg.svd(decodingregressor.coef_[0:2, :], full_matrices=False)\n",
    "    u2, s2, vh2 = np.linalg.svd(decodingregressor.coef_[2:4, :], full_matrices=False)\n",
    "    u3, s3, vh3 = np.linalg.svd(decodingregressor.coef_[4:6, :], full_matrices=False)\n",
    "\n",
    "    \n",
    "    u4, s4, vh4 = np.linalg.svd(encodingregressor.coef_, full_matrices=False)\n",
    "    \n",
    "    result[data_file]['decoding_pos_svd'] = vh1\n",
    "    result[data_file]['decoding_vel_svd'] = vh2\n",
    "    result[data_file]['decoding_acc_svd'] = vh3\n",
    "\n",
    "    result[data_file]['encoding_svd'] = u4\n",
    "    \n",
    "    r2_pos_decoding, r2_vel_decoding, r2_encoding = [], [], []\n",
    "    \n",
    "    decoding_weights = []\n",
    "    encoding_weights = []\n",
    "    \n",
    "    decoding_weights_svd = []\n",
    "    encoding_weights_svd = []\n",
    "    \n",
    "    \n",
    "    for neu_idx in range(X.shape[1]):           #Fit all neurons one by one\n",
    "        \n",
    "        xtrain = X[train_idxs, neu_idx][:, np.newaxis]\n",
    "        xtest = X[test_idxs, neu_idx][:, np.newaxis]\n",
    "        # Decoding\n",
    "        r2_pos, r2_vel, _, dr = lr_decoder(xtest, xtrain, ztest, ztrain, **decoder_params)\n",
    "        r2_pos_decoding.append(r2_pos)\n",
    "        r2_vel_decoding.append(r2_vel)\n",
    "        \n",
    "        decoding_weights.append(dr.coef_)\n",
    "        \n",
    "        # Encoding\n",
    "        r2_encoding_, er = lr_encoder(xtest, xtrain, ztest, ztrain, **decoder_params)\n",
    "        r2_encoding.append(r2_encoding_)\n",
    "        encoding_weights.append(er.coef_)        \n",
    "        \n",
    "    result[data_file]['su_r2_pos_decoding'] = r2_pos_decoding\n",
    "    result[data_file]['su_r2_vel_decoding'] = r2_vel_decoding\n",
    "    result[data_file]['su_r2_encoding'] = r2_encoding\n",
    "    result[data_file]['su_decoding_weight'] = decoding_weights\n",
    "    result[data_file]['su_encoding_weight'] = encoding_weights        \n",
    "    \n",
    "    dim_vals = np.unique(KCA_df['dim'].values)\n",
    "    KCA_loadings = np.zeros((dim_vals.size, X.shape[1]))\n",
    "    pca_loadings = np.zeros((dim_vals.size, X.shape[1]))\n",
    "    \n",
    "    for i, dim_ in enumerate(dim_vals):\n",
    "        KCA_df_ = KCA_df.loc[KCA_df['dim'] == dim_]\n",
    "        KCA_loadings[i, :] = calc_loadings(KCA_df_.iloc[0]['KCA']['coef'])\n",
    "        pca_loadings[i, :] = calc_loadings(pca_df.iloc[0]['PCA']['coef'][:, 0:dim_])\n",
    "    \n",
    "    result[data_file]['kca_loadings'] = KCA_loadings\n",
    "    result[data_file]['pca_loadings'] = pca_loadings"
   ]
  },
  {
   "cell_type": "code",
   "execution_count": 100,
   "id": "cbbda420",
   "metadata": {
    "hidden": true
   },
   "outputs": [],
   "source": [
    "dim_vals = np.arange(30)"
   ]
  },
  {
   "cell_type": "code",
   "execution_count": 101,
   "id": "83dfc169",
   "metadata": {
    "hidden": true
   },
   "outputs": [],
   "source": [
    "# For each quantity, calculate the spearman r2 \n",
    "kca_decoding_weightsr2 = np.zeros(dim_vals.size)\n",
    "kca_decoding_svdr2 = np.zeros(dim_vals.size)\n",
    "pca_decoding_weightsr2 = np.zeros(dim_vals.size)\n",
    "pca_decoding_svdr2 = np.zeros(dim_vals.size)\n",
    "\n",
    "for i, dim in enumerate(dim_vals):\n",
    "    y_kca = []\n",
    "    y_pca = []\n",
    "    \n",
    "    # Decoding weights\n",
    "    x1 = [] \n",
    "    # Decoding SVD weights\n",
    "    x2 = []\n",
    "    \n",
    "    for data_file in data_files:\n",
    "        y_kca.extend(result[data_file]['kca_loadings'][i, :])\n",
    "        y_pca.extend(result[data_file]['pca_loadings'][i, :])\n",
    "        \n",
    "        x1.extend(calc_loadings(result[data_file]['decoding_weights'][2:4, :].T, 3))\n",
    "        x2.extend(calc_loadings(result[data_file]['decoding_vel_svd'].T, 3))\n",
    "\n",
    "    kca_decoding_weightsr2[i] = scipy.stats.spearmanr(x1, y_kca)[0]\n",
    "    kca_decoding_svdr2[i] = scipy.stats.spearmanr(x2, y_kca)[0]\n",
    "    \n",
    "    pca_decoding_weightsr2[i] = scipy.stats.spearmanr(x1, y_pca)[0]\n",
    "    pca_decoding_svdr2[i] = scipy.stats.spearmanr(x2, y_pca)[0]"
   ]
  },
  {
   "cell_type": "code",
   "execution_count": 102,
   "id": "967f6706",
   "metadata": {
    "hidden": true
   },
   "outputs": [
    {
     "data": {
      "text/plain": [
       "array([0.3614911 , 0.42880271, 0.42630023, 0.42162091, 0.40789737,\n",
       "       0.40236037, 0.3963059 , 0.39103937, 0.38622569, 0.3840631 ,\n",
       "       0.38186928, 0.3794625 , 0.37813434, 0.37653339, 0.37458514,\n",
       "       0.37284716, 0.37130482, 0.36918076, 0.36662584, 0.36423184,\n",
       "       0.36213574, 0.3596151 , 0.35731322, 0.35532666, 0.3529454 ,\n",
       "       0.34969866, 0.34754943, 0.34528133, 0.34351969, 0.34172005])"
      ]
     },
     "execution_count": 102,
     "metadata": {},
     "output_type": "execute_result"
    }
   ],
   "source": [
    "pca_decoding_weightsr2"
   ]
  },
  {
   "cell_type": "code",
   "execution_count": 103,
   "id": "4ab10258",
   "metadata": {
    "hidden": true
   },
   "outputs": [
    {
     "data": {
      "text/plain": [
       "[<matplotlib.lines.Line2D at 0x7f842e38a490>]"
      ]
     },
     "execution_count": 103,
     "metadata": {},
     "output_type": "execute_result"
    },
    {
     "data": {
      "image/png": "[encoded data removed]",
      "text/plain": [
       "<Figure size 432x288 with 1 Axes>"
      ]
     },
     "metadata": {
      "needs_background": "light"
     },
     "output_type": "display_data"
    }
   ],
   "source": [
    "plt.plot(kca_decoding_weightsr2)\n",
    "plt.plot(kca_decoding_svdr2)\n",
    "plt.plot(pca_decoding_weightsr2)\n",
    "plt.plot(pca_decoding_svdr2)"
   ]
  },
  {
   "cell_type": "code",
   "execution_count": 104,
   "id": "5c2adb33",
   "metadata": {
    "hidden": true
   },
   "outputs": [],
   "source": [
    "# For each quantity, calculate the spearman r2 \n",
    "dca_encoding_weightsr2 = np.zeros(dim_vals.size)\n",
    "dca_encoding_svdr2 = np.zeros(dim_vals.size)\n",
    "pca_encoding_weightsr2 = np.zeros(dim_vals.size)\n",
    "pca_encoding_svdr2 = np.zeros(dim_vals.size)\n",
    "\n",
    "for i, dim in enumerate(dim_vals):\n",
    "    y_dca = []\n",
    "    y_pca = []\n",
    "    \n",
    "    # Decoding weights\n",
    "    x1 = [] \n",
    "    # Decoding SVD weights\n",
    "    x2 = []\n",
    "    \n",
    "    for data_file in data_files:\n",
    "        y_dca.extend(result[data_file]['kca_loadings'][i, :])\n",
    "        y_pca.extend(result[data_file]['pca_loadings'][i, :])\n",
    "        \n",
    "        x1.extend(calc_loadings(result[data_file]['encoding_weights'], 1))\n",
    "        x2.extend(calc_loadings(result[data_file]['encoding_svd'], 1))\n",
    "\n",
    "    dca_encoding_weightsr2[i] = scipy.stats.spearmanr(x1, y_dca)[0]\n",
    "    dca_encoding_svdr2[i] = scipy.stats.spearmanr(x2, y_dca)[0]\n",
    "    \n",
    "    pca_encoding_weightsr2[i] = scipy.stats.spearmanr(x1, y_pca)[0]\n",
    "    pca_encoding_svdr2[i] = scipy.stats.spearmanr(x2, y_pca)[0]"
   ]
  },
  {
   "cell_type": "code",
   "execution_count": 105,
   "id": "9dd1c767",
   "metadata": {
    "hidden": true
   },
   "outputs": [
    {
     "data": {
      "text/plain": [
       "[<matplotlib.lines.Line2D at 0x7f842e3ab410>]"
      ]
     },
     "execution_count": 105,
     "metadata": {},
     "output_type": "execute_result"
    },
    {
     "data": {
      "image/png": "[encoded data removed]",
      "text/plain": [
       "<Figure size 432x288 with 1 Axes>"
      ]
     },
     "metadata": {
      "needs_background": "light"
     },
     "output_type": "display_data"
    }
   ],
   "source": [
    "plt.plot(dca_encoding_weightsr2)\n",
    "plt.plot(dca_encoding_svdr2)\n",
    "plt.plot(pca_encoding_weightsr2)\n",
    "plt.plot(pca_encoding_svdr2)"
   ]
  },
  {
   "cell_type": "code",
   "execution_count": 106,
   "id": "8b3f09c0",
   "metadata": {
    "hidden": true
   },
   "outputs": [],
   "source": [
    "# For each quantity, calculate the spearman r2 \n",
    "dca_suposweight_r2 = np.zeros(dim_vals.size)\n",
    "dca_suvelweight_r2 = np.zeros(dim_vals.size)\n",
    "pca_suposweight_r2 = np.zeros(dim_vals.size)\n",
    "pca_suvelweight_r2 = np.zeros(dim_vals.size)\n",
    "\n",
    "for i, dim in enumerate(dim_vals):\n",
    "    y_dca = []\n",
    "    y_pca = []\n",
    "    \n",
    "    # Decoding weights\n",
    "    x1 = [] \n",
    "    # Decoding SVD weights\n",
    "    x2 = []\n",
    "    \n",
    "    for data_file in data_files:\n",
    "        y_dca.extend(result[data_file]['kca_loadings'][i, :])\n",
    "        y_pca.extend(result[data_file]['pca_loadings'][i, :])\n",
    "        \n",
    "        x1.extend([np.linalg.norm(result[data_file]['su_decoding_weight'][idx][0:2, :])\n",
    "                   for idx in range(len(result[data_file]['su_decoding_weight']))])\n",
    "        x2.extend([np.linalg.norm(result[data_file]['su_decoding_weight'][idx][2:4, :])\n",
    "                   for idx in range(len(result[data_file]['su_decoding_weight']))])\n",
    "\n",
    "    dca_suposweight_r2[i] = scipy.stats.spearmanr(x1, y_dca)[0]\n",
    "    dca_suvelweight_r2[i] = scipy.stats.spearmanr(x2, y_dca)[0]\n",
    "    \n",
    "    pca_suposweight_r2[i] = scipy.stats.spearmanr(x1, y_pca)[0]\n",
    "    pca_suvelweight_r2[i] = scipy.stats.spearmanr(x2, y_pca)[0]"
   ]
  },
  {
   "cell_type": "code",
   "execution_count": 107,
   "id": "3b19819e",
   "metadata": {
    "hidden": true
   },
   "outputs": [
    {
     "data": {
      "text/plain": [
       "[<matplotlib.lines.Line2D at 0x7f8438dda810>]"
      ]
     },
     "execution_count": 107,
     "metadata": {},
     "output_type": "execute_result"
    },
    {
     "data": {
      "image/png": "[encoded data removed]",
      "text/plain": [
       "<Figure size 432x288 with 1 Axes>"
      ]
     },
     "metadata": {
      "needs_background": "light"
     },
     "output_type": "display_data"
    }
   ],
   "source": [
    "plt.plot(dca_suposweight_r2)\n",
    "plt.plot(dca_suvelweight_r2)\n",
    "plt.plot(pca_suposweight_r2)\n",
    "plt.plot(pca_suvelweight_r2)"
   ]
  },
  {
   "cell_type": "code",
   "execution_count": 108,
   "id": "9e414d8e",
   "metadata": {
    "hidden": true
   },
   "outputs": [],
   "source": [
    "# For each quantity, calculate the spearman r2 \n",
    "kca_suencoding_r2 = np.zeros(dim_vals.size)\n",
    "pca_suencoding_r2 = np.zeros(dim_vals.size)\n",
    "\n",
    "for i, dim in enumerate(dim_vals):\n",
    "    y_kca = []\n",
    "    y_pca = []\n",
    "    \n",
    "    # Decoding weights\n",
    "    x1 = [] \n",
    "    # Decoding SVD weights\n",
    "    x2 = []\n",
    "    \n",
    "    for data_file in data_files:\n",
    "        y_kca.extend(result[data_file]['kca_loadings'][i, :])\n",
    "        y_pca.extend(result[data_file]['pca_loadings'][i, :])\n",
    "        \n",
    "        x1.extend([np.linalg.norm(result[data_file]['su_r2_encoding'][idx])\n",
    "                   for idx in range(len(result[data_file]['su_r2_encoding']))])\n",
    "\n",
    "    kca_suencoding_r2[i] = scipy.stats.spearmanr(x1, y_kca)[0]\n",
    "    pca_suencoding_r2[i] = scipy.stats.spearmanr(x1, y_pca)[0]"
   ]
  },
  {
   "cell_type": "code",
   "execution_count": 109,
   "id": "db53a007",
   "metadata": {
    "hidden": true
   },
   "outputs": [
    {
     "data": {
      "text/plain": [
       "[<matplotlib.lines.Line2D at 0x7f8438dc7910>]"
      ]
     },
     "execution_count": 109,
     "metadata": {},
     "output_type": "execute_result"
    },
    {
     "data": {
      "image/png": "[encoded data removed]",
      "text/plain": [
       "<Figure size 432x288 with 1 Axes>"
      ]
     },
     "metadata": {
      "needs_background": "light"
     },
     "output_type": "display_data"
    }
   ],
   "source": [
    "plt.plot(kca_suencoding_r2)\n",
    "plt.plot(pca_suencoding_r2)"
   ]
  },
  {
   "cell_type": "code",
   "execution_count": 110,
   "id": "e9f3e8bf",
   "metadata": {
    "hidden": true
   },
   "outputs": [],
   "source": [
    "from tqdm import tqdm\n",
    "from neurosim.models.ssr import StateSpaceRealization as SSR\n",
    "from dca_research.kca import calc_mmse_from_cross_cov_mats\n",
    "from dca.cov_util import calc_cross_cov_mats_from_data\n",
    "from utils import apply_df_filters\n",
    "import torch"
   ]
  },
  {
   "cell_type": "code",
   "execution_count": 145,
   "id": "44d0f4a8",
   "metadata": {
    "hidden": true
   },
   "outputs": [],
   "source": [
    "with open('../v2/sabes_var_df.dat', 'rb') as f:\n",
    "    var_df = pickle.load(f)"
   ]
  },
  {
   "cell_type": "code",
   "execution_count": 146,
   "id": "fc9e8ccb",
   "metadata": {
    "hidden": true
   },
   "outputs": [],
   "source": [
    "data_files = np.unique(var_df['data_file'].values)"
   ]
  },
  {
   "cell_type": "code",
   "execution_count": 113,
   "id": "097b08f2",
   "metadata": {
    "hidden": true
   },
   "outputs": [
    {
     "name": "stderr",
     "output_type": "stream",
     "text": [
      "28it [03:52,  8.29s/it]\n"
     ]
    }
   ],
   "source": [
    "datpath = '/media/akumar/Secondary/data/sabes'\n",
    "mmse = {}\n",
    "variance = {}\n",
    "for i, data_file in tqdm(enumerate(data_files)):\n",
    "    \n",
    "    df = apply_df_filters(var_df, data_file=data_file, fold_idx=0)\n",
    "    dat = load_sabes('%s/%s' % (datpath, data_file), **df.iloc[0]['loader_args'])\n",
    "    x = np.squeeze(dat['spike_rates'])\n",
    "    \n",
    "    kfold = KFold(n_splits=5, shuffle=False)\n",
    "    split_idxs = list(kfold.split(x))\n",
    "    # Stick to first fold of the data\n",
    "    train_idxs, test_idxs = split_idxs[0]\n",
    "    \n",
    "    x = x[train_idxs]\n",
    "\n",
    "    \n",
    "    A = df.iloc[0]['A']\n",
    "    ssr = SSR(A, B=np.eye(A.shape[0]), C=np.eye(A.shape[0]))\n",
    "\n",
    "    variance[data_file] = {}\n",
    "    variance[data_file]['data'] = np.var(x, axis=0)\n",
    "    variance[data_file]['model'] = np.diag(df.iloc[0]['W'])\n",
    "    \n",
    "    # Do NOT Normalize\n",
    "    #x = StandardScaler().fit_transform(np.squeeze(dat['spike_rates']))\n",
    "    cross_cov_mats = calc_cross_cov_mats_from_data(x, T=6)\n",
    "    mmse[data_file] = {}\n",
    "    mmse[data_file]['dataT1'] = []\n",
    "    mmse[data_file]['dataT3'] = []\n",
    "    mmse[data_file]['dataT5'] = []\n",
    "    mmse[data_file]['modelT1'] = []\n",
    "    mmse[data_file]['modelT3'] = []\n",
    "    mmse[data_file]['modelT5'] = []\n",
    "\n",
    "    cross_cov_mats = torch.tensor(cross_cov_mats)\n",
    "    for j in range(A.shape[0]):\n",
    "\n",
    "        C = np.zeros((1, A.shape[0]))\n",
    "        C[0, j] = 1\n",
    "\n",
    "        \n",
    "        mmse[data_file]['dataT5'].append(calc_mmse_from_cross_cov_mats(cross_cov_mats, \n",
    "                                                                        torch.tensor(C.T),\n",
    "                                                                        project_mmse=False).detach().cpu().numpy())                \n",
    "        mmse[data_file]['dataT3'].append(calc_mmse_from_cross_cov_mats(cross_cov_mats[0:4], \n",
    "                                                                        torch.tensor(C.T),\n",
    "                                                                        project_mmse=False).detach().cpu().numpy())                \n",
    "        mmse[data_file]['dataT1'].append(calc_mmse_from_cross_cov_mats(cross_cov_mats[0:2], \n",
    "                                                                        torch.tensor(C.T),\n",
    "                                                                        project_mmse=False).detach().cpu().numpy())                \n",
    "    \n",
    "        c, cf, cfp = ssr.mmse_cov(5, proj=C)\n",
    "        mmse[data_file]['modelT5'].append(np.trace(C @ c @ C.T - C @ cfp.T @ np.linalg.inv(cf) @ cfp @ C.T))\n",
    "\n",
    "        c, cf, cfp = ssr.mmse_cov(3, proj=C)\n",
    "        mmse[data_file]['modelT3'].append(np.trace(C @ c @ C.T - C @ cfp.T @ np.linalg.inv(cf) @ cfp @ C.T))\n",
    "\n",
    "        c, cf, cfp = ssr.mmse_cov(1, proj=C)\n",
    "        mmse[data_file]['modelT1'].append(np.trace(C @ c @ C.T - C @ cfp.T @ np.linalg.inv(cf) @ cfp @ C.T))"
   ]
  },
  {
   "cell_type": "code",
   "execution_count": 114,
   "id": "fe83bef3",
   "metadata": {
    "hidden": true
   },
   "outputs": [],
   "source": [
    "# (empirical su variance)\n",
    "x1 = []\n",
    "# (model su variance)\n",
    "x2 =[]\n",
    "# (emprirical T1)\n",
    "x3 = []\n",
    "# (emprirical T3)\n",
    "x4 = []\n",
    "# (emprirical T5)\n",
    "x5 = []\n",
    "# (model T1)\n",
    "x6 = []\n",
    "# (model T3)\n",
    "x7 = []\n",
    "# (model T5)\n",
    "x8 = []\n",
    "\n",
    "# pca loadings\n",
    "y1 = []\n",
    "# kca loadings \n",
    "y2 = []\n",
    "\n",
    "fold_idx = 0\n",
    "for i, data_file in enumerate(data_files):\n",
    "\n",
    "    KCA_df = apply_df_filters(sabes_kca_df, data_file=data_file, fold_idx=fold_idx, dim=2)\n",
    "    pca_df = apply_df_filters(sabes_kca_df, data_file=data_file, fit_all=True, fold_idx=fold_idx)\n",
    "    \n",
    "    x1.extend(variance[data_file]['data'])\n",
    "    x2.extend(variance[data_file]['model'])\n",
    "\n",
    "    x3.extend(mmse[data_file]['dataT1'])\n",
    "    x4.extend(mmse[data_file]['dataT3'])\n",
    "    x5.extend(mmse[data_file]['dataT5'])\n",
    "    \n",
    "    x6.extend(mmse[data_file]['modelT1'])\n",
    "    x7.extend(mmse[data_file]['modelT3'])\n",
    "    x8.extend(mmse[data_file]['modelT5'])\n",
    "    \n",
    "    y1.extend(calc_loadings(pca_df.iloc[0]['PCA']['coef'][:, 0:2]))\n",
    "    y2.extend(calc_loadings(KCA_df.iloc[0]['KCA']['coef'])) \n",
    "\n",
    "    \n",
    "r = np.zeros((8, 2))\n",
    "for i, x_ in enumerate([x1, x2, x3, x4, x5, x6, x7, x8]):\n",
    "    for j, y_ in enumerate([y1, y2]):\n",
    "        r[i, j] = scipy.stats.spearmanr(x_, y_)[0]    "
   ]
  },
  {
   "cell_type": "code",
   "execution_count": 147,
   "id": "96c2b1a6",
   "metadata": {
    "hidden": true
   },
   "outputs": [],
   "source": [
    "from dca_research.kca import KalmanComponentsAnalysis as KCA"
   ]
  },
  {
   "cell_type": "code",
   "execution_count": 148,
   "id": "ef9c632f",
   "metadata": {
    "hidden": true
   },
   "outputs": [],
   "source": [
    "from sklearn.decomposition import PCA"
   ]
  },
  {
   "cell_type": "code",
   "execution_count": 149,
   "id": "0b051244",
   "metadata": {
    "hidden": true
   },
   "outputs": [
    {
     "name": "stderr",
     "output_type": "stream",
     "text": [
      "28it [03:57,  8.48s/it]\n"
     ]
    }
   ],
   "source": [
    "# Evaluate self consistency with model subspaces\n",
    "reps = 10\n",
    "\n",
    "spearmanr_kca = []\n",
    "\n",
    "for i, data_file in tqdm(enumerate(data_files)):\n",
    "    \n",
    "    df = apply_df_filters(var_df, data_file=data_file, fold_idx=0)\n",
    "    dat = load_sabes('%s/%s' % (datpath, data_file), **df.iloc[0]['loader_args'])\n",
    "    x = np.squeeze(dat['spike_rates'])\n",
    "    \n",
    "    kfold = KFold(n_splits=5, shuffle=False)\n",
    "    split_idxs = list(kfold.split(x))\n",
    "    # Stick to first fold of the data\n",
    "    train_idxs, test_idxs = split_idxs[0]\n",
    "    \n",
    "    x = x[train_idxs]\n",
    "\n",
    "    \n",
    "    A = df.iloc[0]['A']\n",
    "    ssr = SSR(A, B=np.eye(A.shape[0]), C=np.eye(A.shape[0]))\n",
    "\n",
    "    eig, U = np.linalg.eig(ssr.P)\n",
    "    eigorder = np.argsort(eig)\n",
    "    U = U[:, eigorder]\n",
    "        \n",
    "    # Data derived\n",
    "    \n",
    "    kcamodel = KCA(d=2, T=1, causal_weights=(1, 0), project_mmse=False)\n",
    "    kcamodel.estimate_data_statistics(x)\n",
    "\n",
    "    empirical_loadings = np.zeros((reps, A.shape[0]))\n",
    "    for j in range(reps):\n",
    "        coef_, _ = kcamodel._fit_projection()\n",
    "        empirical_loadings[j, :] = calc_loadings(coef_)\n",
    "    \n",
    "    # Model derived\n",
    "    model_loadings = np.zeros((reps, A.shape[0]))\n",
    "    kcamodel = KCA(d=2, T=1, causal_weights=(1, 0), project_mmse=False)\n",
    "    kcamodel.cross_covs = ssr.autocorrelation(5)\n",
    "    for j in range(reps):\n",
    "        coef_, _ = kcamodel._fit_projection()\n",
    "        model_loadings[j, :] = calc_loadings(coef_)\n",
    "        \n",
    "    sr = np.zeros((reps, reps))\n",
    "    for j in range(reps):\n",
    "        for k in range(reps):\n",
    "            sr[j, k] = scipy.stats.spearmanr(empirical_loadings[j, :], model_loadings[k, :])[0]\n",
    "    spearmanr_kca.append(sr)"
   ]
  },
  {
   "cell_type": "code",
   "execution_count": 150,
   "id": "21d0ba50",
   "metadata": {
    "hidden": true
   },
   "outputs": [],
   "source": [
    "sabes_spearman_kca = [np.max(sr) for sr in spearmanr_kca]"
   ]
  },
  {
   "cell_type": "code",
   "execution_count": 151,
   "id": "5ebd674b",
   "metadata": {
    "hidden": true
   },
   "outputs": [],
   "source": [
    "loadingsW = []\n",
    "loadingsPCA = []\n",
    "for i, data_file in enumerate(data_files):\n",
    "\n",
    "#     # OLS\n",
    "#     df_ = apply_df_filters(dimreduc_df, dimreduc='OLS1', data_file=data_file, fold_idx=0)\n",
    "#     A = np.squeeze(df_.iloc[0]['coef'])\n",
    "#     W = scipy.linalg.solve_discrete_lyapunov(A, np.eye(A.shape[0]))    \n",
    "#     eig, U = np.linalg.eig(W)\n",
    "#     eigorder = np.argsort(np.abs(eig))[::-1]\n",
    "#     U = U[:, eigorder]\n",
    "#     loadingsW.extend(calc_loadings(U[:, 0:2], 1))\n",
    "    \n",
    "    # SCAD\n",
    "    df_ = apply_df_filters(var_df, fold_idx=0, data_file=data_file)\n",
    "    \n",
    "    W = df_.iloc[0]['W']\n",
    "    eig, U = np.linalg.eig(W)\n",
    "    eigorder = np.argsort(np.abs(eig))[::-1]\n",
    "    U = U[:, eigorder]\n",
    "    loadingsW.extend(calc_loadings(U[:, 0:2], 1))\n",
    "\n",
    "    # PCA\n",
    "    df_ = apply_df_filters(sabes_kca_df, fit_all=True, data_file=data_file, fold_idx=0)\n",
    "    V = df_.iloc[0]['PCA']['coef'][:, 0:2]\n",
    "    loadingsPCA.extend(calc_loadings(V, 1))\n"
   ]
  },
  {
   "cell_type": "code",
   "execution_count": 155,
   "id": "74d82c91",
   "metadata": {
    "hidden": true
   },
   "outputs": [],
   "source": [
    "sabes_spearman_pca = scipy.stats.spearmanr(loadingsW, loadingsPCA)[0]"
   ]
  },
  {
   "cell_type": "code",
   "execution_count": 153,
   "id": "c7303f9e",
   "metadata": {
    "hidden": true
   },
   "outputs": [
    {
     "data": {
      "text/plain": [
       "0.890524098975413"
      ]
     },
     "execution_count": 153,
     "metadata": {},
     "output_type": "execute_result"
    }
   ],
   "source": [
    "np.mean([np.max(r) for r in spearmanr_kca])"
   ]
  },
  {
   "cell_type": "code",
   "execution_count": 121,
   "id": "77a550af",
   "metadata": {
    "hidden": true
   },
   "outputs": [],
   "source": [
    "# # # Save\n",
    "# with open('sabes_su_correlations.dat', 'wb') as f:\n",
    "#     f.write(pickle.dumps(result))\n",
    "#     f.write(pickle.dumps(variance))\n",
    "#     f.write(pickle.dumps(mmse))\n",
    "#     # This is model self consistency\n",
    "#     f.write(pickle.dumps(spearmanr_kca))"
   ]
  },
  {
   "cell_type": "code",
   "execution_count": 31,
   "id": "9297a0cb",
   "metadata": {
    "hidden": true
   },
   "outputs": [],
   "source": [
    "# Load\n",
    "with open('sabes_su_correlations.dat', 'rb') as f:\n",
    "    result = pickle.load(f)\n",
    "    variance = pickle.load(f)\n",
    "    mmse = pickle.load(f)\n",
    "    spearmanr_kca = pickle.load(f)"
   ]
  },
  {
   "cell_type": "code",
   "execution_count": 122,
   "id": "273643b9",
   "metadata": {
    "hidden": true
   },
   "outputs": [
    {
     "data": {
      "text/plain": [
       "array([-0.09062043,  0.12251779, -0.03251294, -0.03910718, -0.0412115 ,\n",
       "        0.12208956,  0.11743879,  0.1170959 ])"
      ]
     },
     "execution_count": 122,
     "metadata": {},
     "output_type": "execute_result"
    }
   ],
   "source": [
    "r[:, 1]"
   ]
  },
  {
   "cell_type": "code",
   "execution_count": 195,
   "id": "e31d8d9a",
   "metadata": {
    "hidden": true
   },
   "outputs": [],
   "source": [
    "# with open('sabes_tuning_correlation.dat', 'rb') as f:\n",
    "#     cor_bins_coef_kca = pickle.load(f)\n",
    "#     cor_bins_coef_pca = pickle.load(f)"
   ]
  },
  {
   "cell_type": "code",
   "execution_count": 125,
   "id": "8e8e8397",
   "metadata": {
    "hidden": true
   },
   "outputs": [],
   "source": [
    "sabes_bar_pca = [r[0, 0], r[3, 0], pca_decoding_weightsr2[3], pca_suencoding_r2[3]]\n",
    "sabes_bar_kca = [r[0, 1], r[3, 1], kca_decoding_weightsr2[3], kca_suencoding_r2[3]]"
   ]
  },
  {
   "cell_type": "code",
   "execution_count": 124,
   "id": "1cb04e3e",
   "metadata": {
    "hidden": true
   },
   "outputs": [
    {
     "data": {
      "image/png": "[encoded data removed]",
      "text/plain": [
       "<Figure size 720x720 with 1 Axes>"
      ]
     },
     "metadata": {
      "needs_background": "light"
     },
     "output_type": "display_data"
    }
   ],
   "source": [
    "fig, ax = plt.subplots(figsize=(10, 10), )\n",
    "\n",
    "bars = ax.bar([0, 1, 2, 3, 5, 6, 7, 8], [r[0, 0], r[3, 0], pca_decoding_weightsr2[3], pca_suencoding_r2[3],\n",
    "                                         r[0, 1], r[3, 1], kca_decoding_weightsr2[3],\n",
    "                                         kca_suencoding_r2[3]],\n",
    "              color=['r', 'r', 'r', 'r', 'k','k', 'k', 'k'], alpha=0.65)\n",
    "\n",
    "# Place numerical values above the bars\n",
    "for rect in bars: \n",
    "    if rect.get_height() > 0:\n",
    "        ax.text(rect.get_x() + rect.get_width()/2, rect.get_height() + 0.05, '%.2f' % rect.get_height(),\n",
    "                ha='center', va='bottom', fontsize=18)\n",
    "    else:\n",
    "        ax.text(rect.get_x() + rect.get_width()/2, 0.05, '%.2f' % rect.get_height(),\n",
    "                ha='center', va='bottom', fontsize=18)\n",
    "        \n",
    "ax.set_ylim([-0.15, 1.12])\n",
    "ax.set_xticks([0, 1, 2, 3, 5, 6, 7, 8])\n",
    "ax.set_xticklabels(['Single Unit Variance', 'Single Unit MMSE', 'Decoding Weight', \n",
    "                    'Encoding ' + r'$r^2$',\n",
    "                    'Single Unit Varinace', 'Single Unit MMSE', \n",
    "                    'Decoding Weight', 'Encoding ' + r'$r^2$'],\n",
    "                   rotation=45, fontsize=18, ha='right')\n",
    "ax.tick_params(axis='y', labelsize=18)\n",
    "ax.text(0.5, 1.0, 'PCA loadings', fontsize=18, ha='left', va='bottom')\n",
    "\n",
    "\n",
    "ax.annotate(\"\", xy=(0, 0.95), xytext=(3, 0.95), \n",
    "            xycoords='data', textcoords='data',\n",
    "            arrowprops=dict(arrowstyle='-', connectionstyle='bar,fraction=0.1'))\n",
    "\n",
    "ax.text(5.5, 1.0, 'KCA loadings', fontsize=18, ha='left', va='bottom')\n",
    "ax.annotate(\"\", xy=(5, 0.95), xytext=(8, 0.95), \n",
    "            xycoords='data', textcoords='data',\n",
    "            arrowprops=dict(arrowstyle='-', connectionstyle='bar,fraction=0.1'))\n",
    "\n",
    "ax.set_ylabel('Spearman Correlation', fontsize=20)\n",
    "ax.text(0.02, 1.02, 'A', transform=ax.transAxes,\n",
    "        fontsize=24, fontweight='bold', va='bottom')    \n",
    "\n",
    "fig.savefig('sabes_loadings_correlation.pdf', bbox_inches='tight', pad_inches=0)"
   ]
  },
  {
   "cell_type": "markdown",
   "id": "aec713f7",
   "metadata": {
    "heading_collapsed": true
   },
   "source": [
    "### Peanut"
   ]
  },
  {
   "cell_type": "code",
   "execution_count": 126,
   "id": "a4a685ad",
   "metadata": {
    "hidden": true
   },
   "outputs": [],
   "source": [
    "fpath = '/media/akumar/Secondary/data/peanut/data_dict_peanut_day14.obj'"
   ]
  },
  {
   "cell_type": "code",
   "execution_count": 127,
   "id": "aceb26bd",
   "metadata": {
    "hidden": true
   },
   "outputs": [],
   "source": [
    "epochs = np.unique(peanut_kca_df['epoch'].values)"
   ]
  },
  {
   "cell_type": "code",
   "execution_count": 128,
   "id": "815b6122",
   "metadata": {
    "hidden": true
   },
   "outputs": [
    {
     "name": "stderr",
     "output_type": "stream",
     "text": [
      "100%|██████████████████████████████████████████████████████████████████████████████████████████████████████████████████████████████████████████████████████████████████████████████████| 8/8 [00:33<00:00,  4.14s/it]\n"
     ]
    }
   ],
   "source": [
    "decoder_params = {'trainlag': 0, 'testlag': 0, 'decoding_window': 6}\n",
    "fold_idx = 1\n",
    "\n",
    "result = {}\n",
    "for epoch in tqdm(epochs):\n",
    "    \n",
    "    result[epoch] = {}\n",
    "    \n",
    "    KCA_df = apply_df_filters(peanut_kca_df, epoch=epoch, fold_idx=fold_idx)\n",
    "    pca_df = apply_df_filters(peanut_kca_df, epoch=epoch, fit_all=True, fold_idx=fold_idx)\n",
    "    \n",
    "    dat = load_peanut(fpath, epoch, spike_threshold=200, bin_width=KCA_df.iloc[0]['bin_width'], \n",
    "                      filter_fn='none')\n",
    "    \n",
    "    \n",
    "    X = np.squeeze(dat['spike_rates'])\n",
    "    Z = dat['behavior']\n",
    "    kfold = KFold(n_splits=5, shuffle=False)\n",
    "    next(kfold.split(X))\n",
    "    train_idxs, test_idxs = next(kfold.split(X))\n",
    "    ztrain = Z[train_idxs, :]\n",
    "    ztest = Z[test_idxs, :]\n",
    "\n",
    "    # Population level decoding/encoding - use the coefficient in the linear fit\n",
    "    # Record both the weights in the coefficient but also the loadings onto the SVD\n",
    "\n",
    "    xtrain = X[train_idxs, :]\n",
    "    xtest = X[test_idxs, :]\n",
    "    \n",
    "    _, _, _, decodingregressor = lr_decoder(xtest, xtrain, ztest, ztrain, **decoder_params)\n",
    "    _, encodingregressor = lr_encoder(xtest, xtrain, ztest, ztrain, **decoder_params)\n",
    "\n",
    "\n",
    "    result[epoch]['decoding_weights'] = decodingregressor.coef_\n",
    "    result[epoch]['encoding_weights'] = encodingregressor.coef_\n",
    "    \n",
    "    u1, s1, vh1 = np.linalg.svd(decodingregressor.coef_[0:1, :], full_matrices=False)\n",
    "    u4, s4, vh4 = np.linalg.svd(encodingregressor.coef_, full_matrices=False)\n",
    "    \n",
    "    result[epoch]['decoding_pos_svd'] = vh1\n",
    "    result[epoch]['encoding_svd'] = u4\n",
    "    \n",
    "    r2_pos_decoding = []\n",
    "    r2_encoding = []\n",
    "    \n",
    "    decoding_weights = []\n",
    "    encoding_weights = []\n",
    "    \n",
    "    decoding_weights_svd = []\n",
    "    encoding_weights_svd = []\n",
    "    \n",
    "    \n",
    "    for neu_idx in range(X.shape[1]):           #Fit all neurons one by one\n",
    "        \n",
    "        xtrain = X[train_idxs, neu_idx][:, np.newaxis]\n",
    "        xtest = X[test_idxs, neu_idx][:, np.newaxis]\n",
    "        # Decoding\n",
    "        r2_pos, _, _, dr = lr_decoder(xtest, xtrain, ztest, ztrain, **decoder_params)\n",
    "        r2_pos_decoding.append(r2_pos)        \n",
    "        decoding_weights.append(dr.coef_)\n",
    "        \n",
    "        # Encoding\n",
    "        r2_encoding_, er = lr_encoder(xtest, xtrain, ztest, ztrain, **decoder_params)\n",
    "        r2_encoding.append(r2_encoding_)\n",
    "        encoding_weights.append(er.coef_)        \n",
    "        \n",
    "    result[epoch]['su_r2_pos_decoding'] = r2_pos_decoding\n",
    "    result[epoch]['su_r2_encoding'] = r2_encoding\n",
    "    result[epoch]['su_decoding_weight'] = decoding_weights\n",
    "    result[epoch]['su_encoding_weight'] = encoding_weights        \n",
    "    \n",
    "    dim_vals = np.unique(KCA_df['dim'].values)\n",
    "    kca_loadings = np.zeros((dim_vals.size, X.shape[1]))\n",
    "    pca_loadings = np.zeros((dim_vals.size, X.shape[1]))\n",
    "    \n",
    "    for i, dim_ in enumerate(dim_vals):\n",
    "        kca_df_ = KCA_df.loc[KCA_df['dim'] == dim_]\n",
    "        kca_loadings[i, :] = calc_loadings(kca_df_.iloc[0]['KCA']['coef'])\n",
    "        pca_loadings[i, :] = calc_loadings(pca_df.iloc[0]['PCA']['coef'][:, 0:dim_])\n",
    "    \n",
    "    result[epoch]['kca_loadings'] = kca_loadings\n",
    "    result[epoch]['pca_loadings'] = pca_loadings"
   ]
  },
  {
   "cell_type": "code",
   "execution_count": 129,
   "id": "8fbdba32",
   "metadata": {
    "hidden": true
   },
   "outputs": [],
   "source": [
    "# For each quantity, calculate the spearman r2 \n",
    "kca_decoding_weightsr2 = np.zeros(dim_vals.size)\n",
    "kca_decoding_svdr2 = np.zeros(dim_vals.size)\n",
    "pca_decoding_weightsr2 = np.zeros(dim_vals.size)\n",
    "pca_decoding_svdr2 = np.zeros(dim_vals.size)\n",
    "\n",
    "for i, dim in enumerate(dim_vals):\n",
    "    y_kca = []\n",
    "    y_pca = []\n",
    "    \n",
    "    # Decoding weights\n",
    "    x1 = [] \n",
    "    # Decoding SVD weights\n",
    "    x2 = []\n",
    "    \n",
    "    for epoch in epochs:\n",
    "        y_kca.extend(result[epoch]['kca_loadings'][i, :])\n",
    "        y_pca.extend(result[epoch]['pca_loadings'][i, :])\n",
    "        \n",
    "        x1.extend(calc_loadings(result[epoch]['decoding_weights'][0, :][np.newaxis, :].T, 6))\n",
    "        x2.extend(calc_loadings(result[epoch]['decoding_pos_svd'].T, 6))\n",
    "\n",
    "    kca_decoding_weightsr2[i] = scipy.stats.spearmanr(x1, y_kca)[0]\n",
    "    kca_decoding_svdr2[i] = scipy.stats.spearmanr(x2, y_kca)[0]\n",
    "    \n",
    "    pca_decoding_weightsr2[i] = scipy.stats.spearmanr(x1, y_pca)[0]\n",
    "    pca_decoding_svdr2[i] = scipy.stats.spearmanr(x2, y_pca)[0]"
   ]
  },
  {
   "cell_type": "code",
   "execution_count": 130,
   "id": "5abfef37",
   "metadata": {
    "hidden": true
   },
   "outputs": [
    {
     "data": {
      "text/plain": [
       "[<matplotlib.lines.Line2D at 0x7f84363b12d0>]"
      ]
     },
     "execution_count": 130,
     "metadata": {},
     "output_type": "execute_result"
    },
    {
     "data": {
      "image/png": "[encoded data removed]",
      "text/plain": [
       "<Figure size 432x288 with 1 Axes>"
      ]
     },
     "metadata": {
      "needs_background": "light"
     },
     "output_type": "display_data"
    }
   ],
   "source": [
    "plt.plot(kca_decoding_weightsr2)\n",
    "plt.plot(pca_decoding_weightsr2)"
   ]
  },
  {
   "cell_type": "code",
   "execution_count": 131,
   "id": "55ad82c7",
   "metadata": {
    "hidden": true
   },
   "outputs": [],
   "source": [
    "# For each quantity, calculate the spearman r2 \n",
    "kca_suencoding_r2 = np.zeros(dim_vals.size)\n",
    "pca_suencoding_r2 = np.zeros(dim_vals.size)\n",
    "\n",
    "for i, dim in enumerate(dim_vals):\n",
    "    y_kca = []\n",
    "    y_pca = []\n",
    "    \n",
    "    # Decoding weights\n",
    "    x1 = [] \n",
    "    # Decoding SVD weights\n",
    "    x2 = []\n",
    "    \n",
    "    for epoch in epochs:\n",
    "        y_kca.extend(result[epoch]['kca_loadings'][i, :])\n",
    "        y_pca.extend(result[epoch]['pca_loadings'][i, :])\n",
    "        \n",
    "        x1.extend([np.linalg.norm(result[epoch]['su_r2_encoding'][idx])\n",
    "                   for idx in range(len(result[epoch]['su_r2_encoding']))])\n",
    "\n",
    "    kca_suencoding_r2[i] = scipy.stats.spearmanr(x1, y_kca)[0]\n",
    "    pca_suencoding_r2[i] = scipy.stats.spearmanr(x1, y_pca)[0]"
   ]
  },
  {
   "cell_type": "code",
   "execution_count": 132,
   "id": "c6481ca1",
   "metadata": {
    "hidden": true
   },
   "outputs": [
    {
     "data": {
      "text/plain": [
       "[<matplotlib.lines.Line2D at 0x7f8438afce50>]"
      ]
     },
     "execution_count": 132,
     "metadata": {},
     "output_type": "execute_result"
    },
    {
     "data": {
      "image/png": "[encoded data removed]",
      "text/plain": [
       "<Figure size 432x288 with 1 Axes>"
      ]
     },
     "metadata": {
      "needs_background": "light"
     },
     "output_type": "display_data"
    }
   ],
   "source": [
    "plt.plot(kca_suencoding_r2)\n",
    "plt.plot(pca_suencoding_r2)"
   ]
  },
  {
   "cell_type": "code",
   "execution_count": 133,
   "id": "b24502d3",
   "metadata": {
    "hidden": true
   },
   "outputs": [],
   "source": [
    "var_files = glob.glob('/media/akumar/Secondary/data/peanut_var2/peanut_var2_*.dat')\n",
    "results_list = []\n",
    "for var_file in var_files:\n",
    "    result = {}\n",
    "    with open(var_file, 'rb') as f:\n",
    "        args = pickle.load(f)\n",
    "        coefs = pickle.load(f)\n",
    "        scores_and_supports = pickle.load(f)\n",
    "\n",
    "    for key, value in args.items():\n",
    "        if type(value) == dict:\n",
    "            for key_, value_ in args[key].items():\n",
    "                result[key_] = value_\n",
    "        else:\n",
    "            result[key] = value\n",
    "\n",
    "    result['A'] = np.squeeze(coefs)\n",
    "    results_list.append(result)\n",
    "peanut_var_df = pd.DataFrame(results_list)"
   ]
  },
  {
   "cell_type": "code",
   "execution_count": 134,
   "id": "178cec72",
   "metadata": {
    "hidden": true
   },
   "outputs": [
    {
     "name": "stderr",
     "output_type": "stream",
     "text": [
      "100%|██████████████████████████████████████████████████████████████████████████████████████████████████████████████████████████████████████████████████████████████████████████████████| 8/8 [00:30<00:00,  3.78s/it]\n"
     ]
    }
   ],
   "source": [
    "mmse = {}\n",
    "variance = {}\n",
    "for epoch in tqdm(epochs):\n",
    "    # VAR is fit to fold idx 1 only\n",
    "    df = apply_df_filters(peanut_var_df, epoch=epoch)\n",
    "    dat = load_peanut(fpath, epoch, spike_threshold=200, bin_width=KCA_df.iloc[0]['bin_width'], \n",
    "                      filter_fn='none')\n",
    "\n",
    "    x = np.squeeze(dat['spike_rates'])\n",
    "\n",
    "    kfold = KFold(n_splits=5, shuffle=False)\n",
    "    split_idxs = list(kfold.split(x))\n",
    "    train_idxs, test_idxs = split_idxs[1]\n",
    "    \n",
    "    x = x[train_idxs]\n",
    "    \n",
    "    A = df.iloc[0]['A']\n",
    "    ssr = SSR(A, B=np.eye(A.shape[0]), C=np.eye(A.shape[0]))\n",
    "\n",
    "    variance[epoch] = {}\n",
    "    variance[epoch]['data'] = np.var(x, axis=0)\n",
    "    W = scipy.linalg.solve_discrete_lyapunov(A, np.eye(A.shape[0]))\n",
    "    variance[epoch]['model'] = np.diag(W)\n",
    "    \n",
    "    # Do NOT Normalize\n",
    "    #x = StandardScaler().fit_transform(np.squeeze(dat['spike_rates']))\n",
    "    cross_cov_mats = calc_cross_cov_mats_from_data(x, T=6)\n",
    "    mmse[epoch] = {}\n",
    "    mmse[epoch]['dataT1'] = []\n",
    "    mmse[epoch]['dataT3'] = []\n",
    "    mmse[epoch]['dataT5'] = []\n",
    "    mmse[epoch]['modelT1'] = []\n",
    "    mmse[epoch]['modelT3'] = []\n",
    "    mmse[epoch]['modelT5'] = []\n",
    "\n",
    "    cross_cov_mats = torch.tensor(cross_cov_mats)\n",
    "    for j in range(A.shape[0]):\n",
    "\n",
    "        C = np.zeros((1, A.shape[0]))\n",
    "        C[0, j] = 1\n",
    "\n",
    "        \n",
    "        mmse[epoch]['dataT5'].append(calc_mmse_from_cross_cov_mats(cross_cov_mats, \n",
    "                                                                   torch.tensor(C.T),\n",
    "                                                                   project_mmse=False).detach().cpu().numpy())                \n",
    "        mmse[epoch]['dataT3'].append(calc_mmse_from_cross_cov_mats(cross_cov_mats[0:4], \n",
    "                                                                   torch.tensor(C.T),\n",
    "                                                                   project_mmse=False).detach().cpu().numpy())                \n",
    "        mmse[epoch]['dataT1'].append(calc_mmse_from_cross_cov_mats(cross_cov_mats[0:2], \n",
    "                                                                   torch.tensor(C.T),\n",
    "                                                                   project_mmse=False).detach().cpu().numpy())                \n",
    "    \n",
    "        c, cf, cfp = ssr.mmse_cov(5, proj=C)\n",
    "        mmse[epoch]['modelT5'].append(np.trace(C @ c @ C.T - C @ cfp.T @ np.linalg.inv(cf) @ cfp @ C.T))\n",
    "\n",
    "        c, cf, cfp = ssr.mmse_cov(3, proj=C)\n",
    "        mmse[epoch]['modelT3'].append(np.trace(C @ c @ C.T - C @ cfp.T @ np.linalg.inv(cf) @ cfp @ C.T))\n",
    "\n",
    "        c, cf, cfp = ssr.mmse_cov(1, proj=C)\n",
    "        mmse[epoch]['modelT1'].append(np.trace(C @ c @ C.T - C @ cfp.T @ np.linalg.inv(cf) @ cfp @ C.T))"
   ]
  },
  {
   "cell_type": "code",
   "execution_count": 135,
   "id": "b5c4f7a9",
   "metadata": {
    "hidden": true
   },
   "outputs": [
    {
     "name": "stderr",
     "output_type": "stream",
     "text": [
      "100%|█████████████████████████████████████████████████████████████████████████████████████████████████████████████████████████████████████████████████████████████████████████████████| 8/8 [00:00<00:00, 663.91it/s]\n"
     ]
    }
   ],
   "source": [
    "# (empirical su variance)\n",
    "x1 = []\n",
    "# (model su variance)\n",
    "x2 =[]\n",
    "# (emprirical T1)\n",
    "x3 = []\n",
    "# (emprirical T3)\n",
    "x4 = []\n",
    "# (emprirical T5)\n",
    "x5 = []\n",
    "# (model T1)\n",
    "x6 = []\n",
    "# (model T3)\n",
    "x7 = []\n",
    "# (model T5)\n",
    "x8 = []\n",
    "\n",
    "# pca loadings\n",
    "y1 = []\n",
    "# kca loadings \n",
    "y2 = []\n",
    "\n",
    "fold_idx = 1\n",
    "for epoch in tqdm(epochs):\n",
    "    KCA_df = apply_df_filters(peanut_kca_df, epoch=epoch, fold_idx=fold_idx, dim=2)\n",
    "    pca_df = apply_df_filters(peanut_kca_df, epoch=epoch, fit_all=True, fold_idx=fold_idx)\n",
    "    \n",
    "    x1.extend(variance[epoch]['data'])\n",
    "    x2.extend(variance[epoch]['model'])\n",
    "\n",
    "    x3.extend(mmse[epoch]['dataT1'])\n",
    "    x4.extend(mmse[epoch]['dataT3'])\n",
    "    x5.extend(mmse[epoch]['dataT5'])\n",
    "    \n",
    "    x6.extend(mmse[epoch]['modelT1'])\n",
    "    x7.extend(mmse[epoch]['modelT3'])\n",
    "    x8.extend(mmse[epoch]['modelT5'])\n",
    "    \n",
    "    y1.extend(calc_loadings(pca_df.iloc[0]['PCA']['coef'][:, 0:2]))\n",
    "    y2.extend(calc_loadings(KCA_df.iloc[0]['KCA']['coef'])) \n",
    "\n",
    "    \n",
    "r = np.zeros((8, 2))\n",
    "for i, x_ in enumerate([x1, x2, x3, x4, x5, x6, x7, x8]):\n",
    "    for j, y_ in enumerate([y1, y2]):\n",
    "        r[i, j] = scipy.stats.spearmanr(x_, y_)[0]    "
   ]
  },
  {
   "cell_type": "code",
   "execution_count": 136,
   "id": "ec2e73fa",
   "metadata": {
    "hidden": true
   },
   "outputs": [
    {
     "data": {
      "text/plain": [
       "array([ 0.92157281,  0.76653942, -0.08316694, -0.12750543, -0.16904996,\n",
       "        0.76652193,  0.77134888,  0.77130514])"
      ]
     },
     "execution_count": 136,
     "metadata": {},
     "output_type": "execute_result"
    }
   ],
   "source": [
    "r[:, 0]"
   ]
  },
  {
   "cell_type": "code",
   "execution_count": 137,
   "id": "55a49744",
   "metadata": {
    "hidden": true
   },
   "outputs": [
    {
     "data": {
      "text/plain": [
       "array([ 0.06951138,  0.15636051, -0.04114497, -0.05708838, -0.05723949,\n",
       "        0.15572143,  0.14974465,  0.14968426])"
      ]
     },
     "execution_count": 137,
     "metadata": {},
     "output_type": "execute_result"
    }
   ],
   "source": [
    "r[:, 1]"
   ]
  },
  {
   "cell_type": "code",
   "execution_count": 138,
   "id": "0275d4ad",
   "metadata": {
    "hidden": true
   },
   "outputs": [
    {
     "name": "stderr",
     "output_type": "stream",
     "text": [
      "8it [00:37,  4.69s/it]\n"
     ]
    }
   ],
   "source": [
    "# Evaluate self consistency with model subspaces\n",
    "reps = 10\n",
    "\n",
    "spearmanr_kca = []\n",
    "\n",
    "for i, epoch in tqdm(enumerate(epochs)):\n",
    "    \n",
    "    # Fold idx is 1 here\n",
    "    df = apply_df_filters(peanut_var_df, epoch=epoch)\n",
    "    dat = load_peanut(fpath, epoch, spike_threshold=200, bin_width=KCA_df.iloc[0]['bin_width'], \n",
    "                      filter_fn='none')\n",
    "    x = np.squeeze(dat['spike_rates'])\n",
    "    \n",
    "    kfold = KFold(n_splits=5, shuffle=False)\n",
    "    split_idxs = list(kfold.split(x))\n",
    "    # Stick to the correct fold of the data\n",
    "    train_idxs, test_idxs = split_idxs[1]\n",
    "    \n",
    "    x = x[train_idxs]\n",
    "\n",
    "    \n",
    "    A = df.iloc[0]['A']\n",
    "    ssr = SSR(A, B=np.eye(A.shape[0]), C=np.eye(A.shape[0]))\n",
    "\n",
    "    eig, U = np.linalg.eig(ssr.P)\n",
    "    eigorder = np.argsort(eig)\n",
    "    U = U[:, eigorder]\n",
    "        \n",
    "    # Data derived\n",
    "    \n",
    "    kcamodel = KCA(d=2, T=1, causal_weights=(1, 0), project_mmse=False)\n",
    "    kcamodel.estimate_data_statistics(x)\n",
    "\n",
    "    empirical_loadings = np.zeros((reps, A.shape[0]))\n",
    "    for j in range(reps):\n",
    "        coef_, _ = kcamodel._fit_projection()\n",
    "        empirical_loadings[j, :] = calc_loadings(coef_)\n",
    "    \n",
    "    # Model derived\n",
    "    model_loadings = np.zeros((reps, A.shape[0]))\n",
    "    kcamodel = KCA(d=2, T=1, causal_weights=(1, 0), project_mmse=False)\n",
    "    kcamodel.cross_covs = ssr.autocorrelation(5)\n",
    "    for j in range(reps):\n",
    "        coef_, _ = kcamodel._fit_projection()\n",
    "        model_loadings[j, :] = calc_loadings(coef_)\n",
    "        \n",
    "    sr = np.zeros((reps, reps))\n",
    "    for j in range(reps):\n",
    "        for k in range(reps):\n",
    "            sr[j, k] = scipy.stats.spearmanr(empirical_loadings[j, :], model_loadings[k, :])[0]\n",
    "    spearmanr_kca.append(sr)"
   ]
  },
  {
   "cell_type": "code",
   "execution_count": 139,
   "id": "2365b0bc",
   "metadata": {
    "hidden": true
   },
   "outputs": [
    {
     "data": {
      "text/plain": [
       "[0.7432437583380977,\n",
       " 0.6459815546772067,\n",
       " 0.7642706131078225,\n",
       " 0.6948879213030156,\n",
       " 0.8073697790678922,\n",
       " 0.3918722786647315,\n",
       " 0.850991114149009,\n",
       " 0.7453136011275546]"
      ]
     },
     "execution_count": 139,
     "metadata": {},
     "output_type": "execute_result"
    }
   ],
   "source": [
    "[np.max(sr) for sr in spearmanr_kca]"
   ]
  },
  {
   "cell_type": "code",
   "execution_count": 140,
   "id": "d62d8a2f",
   "metadata": {
    "hidden": true
   },
   "outputs": [],
   "source": [
    "peanut_spearman_kca = [np.max(sr) for sr in spearmanr_kca]"
   ]
  },
  {
   "cell_type": "code",
   "execution_count": 141,
   "id": "f3067a41",
   "metadata": {
    "hidden": true
   },
   "outputs": [],
   "source": [
    "loadingsW = []\n",
    "loadingsPCA = []\n",
    "for i, epoch in enumerate(epochs):\n",
    "\n",
    "#     # OLS\n",
    "#     df_ = apply_df_filters(dimreduc_df, dimreduc='OLS1', epoch=epoch, fold_idx=0)\n",
    "#     A = np.squeeze(df_.iloc[0]['coef'])\n",
    "#     W = scipy.linalg.solve_discrete_lyapunov(A, np.eye(A.shape[0]))    \n",
    "#     eig, U = np.linalg.eig(W)\n",
    "#     eigorder = np.argsort(np.abs(eig))[::-1]\n",
    "#     U = U[:, eigorder]\n",
    "#     loadingsW.extend(calc_loadings(U[:, 0:2], 1))\n",
    "    \n",
    "    # SCAD\n",
    "    df_ = apply_df_filters(peanut_var_df, epoch=epoch)\n",
    "    W = scipy.linalg.solve_discrete_lyapunov(df_.iloc[0]['A'], np.eye(df_.iloc[0]['A'].shape[0]))\n",
    "    eig, U = np.linalg.eig(W)\n",
    "    eigorder = np.argsort(np.abs(eig))[::-1]\n",
    "    U = U[:, eigorder]\n",
    "    loadingsW.extend(calc_loadings(U[:, 0:2], 1))\n",
    "\n",
    "    # PCA\n",
    "    df_ = apply_df_filters(peanut_kca_df, fit_all=True, epoch=epoch, fold_idx=1)\n",
    "    V = df_.iloc[0]['PCA']['coef'][:, 0:2]\n",
    "    loadingsPCA.extend(calc_loadings(V, 1))"
   ]
  },
  {
   "cell_type": "code",
   "execution_count": 142,
   "id": "1e57223b",
   "metadata": {
    "hidden": true
   },
   "outputs": [],
   "source": [
    "peanut_spearmanr_pca = scipy.stats.spearmanr(loadingsW, loadingsPCA)[0]"
   ]
  },
  {
   "cell_type": "code",
   "execution_count": 143,
   "id": "8fd4eee9",
   "metadata": {
    "hidden": true
   },
   "outputs": [
    {
     "data": {
      "text/plain": [
       "0.7850835548273537"
      ]
     },
     "execution_count": 143,
     "metadata": {},
     "output_type": "execute_result"
    }
   ],
   "source": [
    "peanut_spearmanr_pca"
   ]
  },
  {
   "cell_type": "code",
   "execution_count": 87,
   "id": "520519e8",
   "metadata": {
    "hidden": true
   },
   "outputs": [],
   "source": [
    "# # Save\n",
    "with open('peanut_su_correlations.dat', 'wb') as f:\n",
    "    f.write(pickle.dumps(result))\n",
    "    f.write(pickle.dumps(variance))\n",
    "    f.write(pickle.dumps(mmse))\n",
    "    # This is model self consistency\n",
    "    f.write(pickle.dumps(spearmanr_kca))"
   ]
  },
  {
   "cell_type": "code",
   "execution_count": 223,
   "id": "7467efab",
   "metadata": {
    "hidden": true
   },
   "outputs": [],
   "source": [
    "# with open('peanut_su_correlations.dat', 'rb') as f:\n",
    "#     result = pickle.load(f)\n",
    "#     variance = pickle.load(f)\n",
    "#     ammse = pickle.load(f)\n",
    "#     spearmanr_kca = pickle.load(f)"
   ]
  },
  {
   "cell_type": "code",
   "execution_count": 144,
   "id": "af3f66f0",
   "metadata": {
    "hidden": true
   },
   "outputs": [],
   "source": [
    "peanut_bar_pca = [r[0, 0], r[4, 0], pca_decoding_weightsr2[3], pca_suencoding_r2[3]]\n",
    "peanut_bar_kca = [r[0, 1], r[4, 1], kca_decoding_weightsr2[3], kca_suencoding_r2[3]]"
   ]
  },
  {
   "cell_type": "markdown",
   "id": "1f2e6cb6",
   "metadata": {},
   "source": [
    "### Plotting"
   ]
  },
  {
   "cell_type": "code",
   "execution_count": 157,
   "id": "490ca44f",
   "metadata": {},
   "outputs": [],
   "source": [
    "with open('barplot_stats.dat', 'wb') as f:\n",
    "    f.write(pickle.dumps(sabes_bar_pca))\n",
    "    f.write(pickle.dumps(sabes_bar_kca))\n",
    "    f.write(pickle.dumps(peanut_bar_pca))\n",
    "    f.write(pickle.dumps(peanut_bar_kca))\n",
    "    f.write(pickle.dumps([sabes_spearman_kca, sabes_spearmanr_pca, peanut_spearman_kca, peanut_spearmanr_pca]))"
   ]
  },
  {
   "cell_type": "code",
   "execution_count": 166,
   "id": "f7c2772e",
   "metadata": {},
   "outputs": [
    {
     "data": {
      "text/plain": [
       "['r',\n",
       " 'r',\n",
       " 'r',\n",
       " 'r',\n",
       " 'r',\n",
       " 'r',\n",
       " 'r',\n",
       " 'r',\n",
       " 'k',\n",
       " 'k',\n",
       " 'k',\n",
       " 'k',\n",
       " 'k',\n",
       " 'k',\n",
       " 'k',\n",
       " 'k']"
      ]
     },
     "execution_count": 166,
     "metadata": {},
     "output_type": "execute_result"
    }
   ],
   "source": []
  },
  {
   "cell_type": "code",
   "execution_count": 182,
   "id": "b81cbbe6",
   "metadata": {},
   "outputs": [],
   "source": [
    "from matplotlib.patches import Rectangle"
   ]
  },
  {
   "cell_type": "code",
   "execution_count": 185,
   "id": "b4bb2fd0",
   "metadata": {},
   "outputs": [],
   "source": [
    "# Legend handler (from https://stackoverflow.com/questions/44310879/create-a-matplotlib-mpatches-with-a-rectangle-bi-colored-for-figure-legend)\n",
    "class Handler(object):\n",
    "    def __init__(self, color):\n",
    "        self.color=color\n",
    "    def legend_artist(self, legend, orig_handle, fontsize, handlebox):\n",
    "        x0, y0 = handlebox.xdescent, handlebox.ydescent\n",
    "        width, height = handlebox.width, handlebox.height\n",
    "        patch = plt.Rectangle([x0, y0], width/2, height, facecolor=self.color[0], alpha=self.color[1],\n",
    "                                   edgecolor=self.color[0], transform=handlebox.get_transform())\n",
    "        patch2 = plt.Rectangle([x0+width/2., y0], width/2., height, facecolor='k',alpha=self.color[1],\n",
    "                                   edgecolor='k', transform=handlebox.get_transform())\n",
    "        handlebox.add_artist(patch)\n",
    "        handlebox.add_artist(patch2)\n",
    "        return patch\n"
   ]
  },
  {
   "cell_type": "code",
   "execution_count": 214,
   "id": "2ddefb38",
   "metadata": {},
   "outputs": [
    {
     "data": {
      "image/png": "[encoded data removed]",
      "text/plain": [
       "<Figure size 720x720 with 1 Axes>"
      ]
     },
     "metadata": {
      "needs_background": "light"
     },
     "output_type": "display_data"
    }
   ],
   "source": [
    "fig, ax = plt.subplots(figsize=(10, 10), )\n",
    "\n",
    "\n",
    "x1 = np.array([0, 1, 2, 3, 4.5, 5.5, 6.5, 7.5])\n",
    "x2 = x1 + 0.5\n",
    "\n",
    "# Sabes\n",
    "bar_sabes = ax.bar(x1,\n",
    "              np.concatenate([sabes_bar_pca,sabes_bar_kca]),\n",
    "              color=np.concatenate([4* ['#f03524'], 4*['k']]),\n",
    "              alpha=1, width=0.38)\n",
    "# Peanut\n",
    "bar_peanut = ax.bar(x2,\n",
    "              np.concatenate([peanut_bar_pca,peanut_bar_kca]),\n",
    "              color=np.concatenate([4* ['#ff4d0d'], 4*['k']]),\n",
    "              alpha=0.35, width=0.38, hatch='0')\n",
    "\n",
    "\n",
    "# Place numerical values above the bars\n",
    "\n",
    "# Manual adjustments of location to prevent conflicts\n",
    "y_adjust = [0, 0.02, 0, 0, 0, -0.05, 0, 0]\n",
    "x_adjust = [0, 0, 0, 0, -0.05, 0, 0, 0]\n",
    "for i, rect in enumerate(bar_sabes): \n",
    "    if rect.get_height() > 0:\n",
    "        ax.text(rect.get_x() + rect.get_width()/2 + x_adjust[i],\n",
    "                rect.get_height() + 0.05 + y_adjust[i], '%.2f' % rect.get_height(),\n",
    "                ha='center', va='bottom', fontsize=16)\n",
    "    else:\n",
    "        ax.text(rect.get_x() + rect.get_width()/2 + x_adjust[i],\n",
    "                0.05 + y_adjust[i], '%.2f' % rect.get_height(),\n",
    "                ha='center', va='bottom', fontsize=16)\n",
    "\n",
    "y_adjust = [0, 0, 0, 0, 0, 0, 0, 0]\n",
    "x_adjust = [0, -0.03, 0, 0, 0, -0.03, 0, 0]\n",
    "for i,rect in enumerate(bar_peanut): \n",
    "    if rect.get_height() > 0:\n",
    "        ax.text(rect.get_x() + rect.get_width()/2 + x_adjust[i],\n",
    "                rect.get_height() + 0.05 + y_adjust[i], '%.2f' % rect.get_height(),\n",
    "                ha='center', va='bottom', fontsize=16)\n",
    "    else:\n",
    "        ax.text(rect.get_x() + rect.get_width()/2 + x_adjust[i],\n",
    "                0.05 + y_adjust[i], '%.2f' % rect.get_height(),\n",
    "                ha='center', va='bottom', fontsize=16)\n",
    "\n",
    "        \n",
    "ax.set_ylim([-0.2, 1.2])\n",
    "ax.set_yticks([0.0, 0.2, 0.4, 0.6, 0.8, 1.0])\n",
    "ax.set_xticks([0.25, 1.25, 2.25, 3.25, 4.75, 5.75, 6.75, 7.75])\n",
    "ax.set_xticklabels(2 * ['S.U. Var.', 'S.U. MMSE',\n",
    "                    'Dec Weight', 'Enc. ' + r'$r^2$'],\n",
    "                   rotation=30, fontsize=18, ha='right')\n",
    "ax.tick_params(axis='y', labelsize=18)\n",
    "ax.text(0.5, 1.08, 'PCA loadings', fontsize=18, ha='left', va='bottom')\n",
    "ax.annotate(\"\", xy=(0, 1.03), xytext=(3, 1.03), \n",
    "            xycoords='data', textcoords='data',\n",
    "            arrowprops=dict(arrowstyle='-', connectionstyle='bar,fraction=0.1'))\n",
    "\n",
    "\n",
    "ax.text(5.5, 1.08, 'KCA loadings', fontsize=18, ha='left', va='bottom')\n",
    "ax.annotate(\"\", xy=(5, 1.03), xytext=(8, 1.03), \n",
    "            xycoords='data', textcoords='data',\n",
    "            arrowprops=dict(arrowstyle='-', connectionstyle='bar,fraction=0.1'))\n",
    "\n",
    "ax.axhline(y=0, linestyle='-', color='k')\n",
    "#### LEGEND #####\n",
    "handles = [Rectangle((0, 0), 1, 1) for i in range(2)]\n",
    "colors = [('#f03524', 1), ('#ff4d0d', 0.35)]\n",
    "hmap = dict(zip(handles, [Handler(color) for color in colors]))\n",
    "ax.legend(handles=handles, labels=['M1', 'HPC'], handler_map=hmap, loc=(0.41, 0.7), fontsize=18, shadow=True)\n",
    "\n",
    "ax.set_ylabel('Spearman Correlation', fontsize=20)\n",
    "fig.savefig('loadings_correlation.pdf', bbox_inches='tight', pad_inches=0)\n",
    "#fig.savefig('hwni/loadings_correlation.pdf', bbox_inches='tight', pad_inches=0)"
   ]
  },
  {
   "cell_type": "code",
   "execution_count": 213,
   "id": "aae851e7",
   "metadata": {},
   "outputs": [
    {
     "name": "stdout",
     "output_type": "stream",
     "text": [
      "[0.890524098975413, 0.8955476829317404, 0.7054913275544162, 0.7850835548273537]\n"
     ]
    }
   ],
   "source": [
    "print([np.mean(sabes_spearman_kca), sabes_spearmanr_pca, np.mean(peanut_spearman_kca), peanut_spearmanr_pca])"
   ]
  },
  {
   "cell_type": "code",
   "execution_count": null,
   "id": "d464790a",
   "metadata": {},
   "outputs": [],
   "source": []
  }
 ],
 "metadata": {
  "kernelspec": {
   "display_name": "Python 3 (ipykernel)",
   "language": "python",
   "name": "python3"
  },
  "language_info": {
   "codemirror_mode": {
    "name": "ipython",
    "version": 3
   },
   "file_extension": ".py",
   "mimetype": "text/x-python",
   "name": "python",
   "nbconvert_exporter": "python",
   "pygments_lexer": "ipython3",
   "version": "3.7.10"
  }
 },
 "nbformat": 4,
 "nbformat_minor": 5
}
