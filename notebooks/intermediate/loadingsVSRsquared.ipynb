{
 "cells": [
  {
   "cell_type": "code",
   "execution_count": 1,
   "metadata": {},
   "outputs": [],
   "source": [
    "%load_ext autoreload\n",
    "%autoreload 2"
   ]
  },
  {
   "cell_type": "code",
   "execution_count": 2,
   "metadata": {},
   "outputs": [],
   "source": [
    "import numpy as np \n",
    "import pandas as pd\n",
    "import scipy\n",
    "import matplotlib.pyplot as plt\n",
    "import sys\n",
    "import pdb"
   ]
  },
  {
   "cell_type": "code",
   "execution_count": 3,
   "metadata": {},
   "outputs": [],
   "source": [
    "sys.path.append('../..')"
   ]
  },
  {
   "cell_type": "code",
   "execution_count": 4,
   "metadata": {},
   "outputs": [],
   "source": [
    "import warnings\n",
    "warnings.filterwarnings(\"ignore\")"
   ]
  },
  {
   "cell_type": "code",
   "execution_count": 5,
   "metadata": {},
   "outputs": [],
   "source": [
    "from os import listdir\n",
    "from os.path import isfile, join\n",
    "from tqdm import tqdm\n",
    "\n",
    "from sklearn.model_selection import KFold\n",
    "\n",
    "from utils import calc_loadings\n",
    "from loaders import load_sabes \n",
    "from decoders import lr_decoder, lr_encoder"
   ]
  },
  {
   "cell_type": "code",
   "execution_count": 6,
   "metadata": {},
   "outputs": [],
   "source": [
    "dimreduc_df = pd.read_pickle(\"./sabes_dimreduc_df.dat\")\n",
    "data_files = dimreduc_df[\"data_file\"].unique()"
   ]
  },
  {
   "cell_type": "code",
   "execution_count": 7,
   "metadata": {},
   "outputs": [],
   "source": [
    "data_path = '/media/akumar/Secondary/data/sabes'"
   ]
  },
  {
   "cell_type": "code",
   "execution_count": 8,
   "metadata": {},
   "outputs": [
    {
     "data": {
      "text/plain": [
       "Index(['dim', 'fold_idx', 'train_idxs', 'test_idxs', 'data_file',\n",
       "       'loader_args', 'T', 'dimreduc', 'coef', 'score'],\n",
       "      dtype='object')"
      ]
     },
     "execution_count": 8,
     "metadata": {},
     "output_type": "execute_result"
    }
   ],
   "source": [
    "dimreduc_df.keys()"
   ]
  },
  {
   "cell_type": "markdown",
   "metadata": {},
   "source": [
    "### Decoding/Encoding"
   ]
  },
  {
   "cell_type": "code",
   "execution_count": 9,
   "metadata": {},
   "outputs": [
    {
     "name": "stderr",
     "output_type": "stream",
     "text": [
      "100%|████████████████████████████████████████████████████████████████████████████████████████████████████████████████████████████████████████████████████████████████████████████████| 28/28 [04:08<00:00,  8.86s/it]\n"
     ]
    }
   ],
   "source": [
    "decoder_params = {'trainlag': 4, 'testlag': 4, 'decoding_window': 3}\n",
    "fold_idx = 0\n",
    "\n",
    "result = {}\n",
    "for data_file in tqdm(data_files):\n",
    "    \n",
    "    result[data_file] = {}\n",
    "    \n",
    "    dca_df = dimreduc_df.loc[(dimreduc_df['data_file'] == data_file) & \\\n",
    "                                (dimreduc_df['dimreduc'] == \"DCA\") & \\\n",
    "                                (dimreduc_df['fold_idx'] == fold_idx)]\n",
    "    pca_df = dimreduc_df.loc[(dimreduc_df['data_file'] == data_file) & \\\n",
    "                             (dimreduc_df['dimreduc'] == \"PCA\") & \\\n",
    "                             (dimreduc_df['fold_idx'] == fold_idx)]\n",
    "    \n",
    "    dat = load_sabes('%s/%s' % (data_path, data_file), **dca_df.iloc[0][\"loader_args\"])\n",
    "    \n",
    "    X = np.squeeze(dat['spike_rates'])\n",
    "    Z = dat['behavior']\n",
    "    kfold = KFold(n_splits=5, shuffle=False)\n",
    "    next(kfold.split(X))\n",
    "    train_idxs, test_idxs = next(kfold.split(X))\n",
    "    ztrain = Z[train_idxs, :]\n",
    "    ztest = Z[test_idxs, :]\n",
    "\n",
    "    # Population level decoding/encoding - use the coefficient in the linear fit\n",
    "    # Record both the weights in the coefficient but also the loadings onto the SVD\n",
    "\n",
    "    xtrain = X[train_idxs, :]\n",
    "    xtest = X[test_idxs, :]\n",
    "    \n",
    "    _, _, _, decodingregressor = lr_decoder(xtest, xtrain, ztest, ztrain, **decoder_params)\n",
    "    _, encodingregressor = lr_encoder(xtest, xtrain, ztest, ztrain, **decoder_params)\n",
    "\n",
    "    result[data_file]['decoding_weights'] = decodingregressor.coef_\n",
    "    result[data_file]['encoding_weights'] = encodingregressor.coef_\n",
    "    \n",
    "    u1, s1, vh1 = np.linalg.svd(decodingregressor.coef_[0:2, :], full_matrices=False)\n",
    "    u2, s2, vh2 = np.linalg.svd(decodingregressor.coef_[2:4, :], full_matrices=False)\n",
    "    u3, s3, vh3 = np.linalg.svd(decodingregressor.coef_[4:6, :], full_matrices=False)\n",
    "\n",
    "    \n",
    "    u4, s4, vh4 = np.linalg.svd(encodingregressor.coef_, full_matrices=False)\n",
    "    \n",
    "    result[data_file]['decoding_pos_svd'] = vh1\n",
    "    result[data_file]['decoding_vel_svd'] = vh2\n",
    "    result[data_file]['decoding_acc_svd'] = vh3\n",
    "\n",
    "    result[data_file]['encoding_svd'] = u4\n",
    "    \n",
    "    r2_pos_decoding, r2_vel_decoding, r2_encoding = [], [], []\n",
    "    \n",
    "    decoding_weights = []\n",
    "    encoding_weights = []\n",
    "    \n",
    "    decoding_weights_svd = []\n",
    "    encoding_weights_svd = []\n",
    "    \n",
    "    \n",
    "    for neu_idx in range(X.shape[1]):           #Fit all neurons one by one\n",
    "        \n",
    "        xtrain = X[train_idxs, neu_idx][:, np.newaxis]\n",
    "        xtest = X[test_idxs, neu_idx][:, np.newaxis]\n",
    "        # Decoding\n",
    "        r2_pos, r2_vel, _, dr = lr_decoder(xtest, xtrain, ztest, ztrain, **decoder_params)\n",
    "        r2_pos_decoding.append(r2_pos)\n",
    "        r2_vel_decoding.append(r2_vel)\n",
    "        \n",
    "        decoding_weights.append(dr.coef_)\n",
    "        \n",
    "        # Encoding\n",
    "        r2_encoding_, er = lr_encoder(xtest, xtrain, ztest, ztrain, **decoder_params)\n",
    "        r2_encoding.append(r2_encoding_)\n",
    "        encoding_weights.append(er.coef_)        \n",
    "        \n",
    "    result[data_file]['su_r2_pos_decoding'] = r2_pos_decoding\n",
    "    result[data_file]['su_r2_vel_decoding'] = r2_vel_decoding\n",
    "    result[data_file]['su_r2_encoding'] = r2_encoding\n",
    "    result[data_file]['su_decoding_weight'] = decoding_weights\n",
    "    result[data_file]['su_encoding_weight'] = encoding_weights        \n",
    "    \n",
    "    dim_vals = np.unique(dca_df['dim'].values)\n",
    "    dca_loadings = np.zeros((dim_vals.size, X.shape[1]))\n",
    "    pca_loadings = np.zeros((dim_vals.size, X.shape[1]))\n",
    "    \n",
    "    for i, dim_ in enumerate(dim_vals):\n",
    "        dca_df_ = dca_df.loc[dca_df['dim'] == dim_]\n",
    "        dca_loadings[i, :] = calc_loadings(dca_df_.iloc[0]['coef'])\n",
    "        pca_loadings[i, :] = calc_loadings(pca_df.iloc[0]['coef'][:, 0:dim_])\n",
    "    \n",
    "    result[data_file]['dca_loadings'] = dca_loadings\n",
    "    result[data_file]['pca_loadings'] = pca_loadings"
   ]
  },
  {
   "cell_type": "code",
   "execution_count": 10,
   "metadata": {},
   "outputs": [],
   "source": [
    "import pickle"
   ]
  },
  {
   "cell_type": "code",
   "execution_count": 37,
   "metadata": {},
   "outputs": [],
   "source": [
    "# with open('loadings_v_r2.dat', 'wb') as f:\n",
    "#     f.write(pickle.dumps(result))"
   ]
  },
  {
   "cell_type": "code",
   "execution_count": 13,
   "metadata": {},
   "outputs": [],
   "source": [
    "with open('loadings_v_r2.dat', 'rb') as f:\n",
    "    result = pickle.load(f)"
   ]
  },
  {
   "cell_type": "code",
   "execution_count": 11,
   "metadata": {},
   "outputs": [],
   "source": [
    "dim_vals = np.arange(20)"
   ]
  },
  {
   "cell_type": "code",
   "execution_count": 12,
   "metadata": {},
   "outputs": [],
   "source": [
    "# For each quantity, calculate the spearman r2 \n",
    "dca_decoding_weightsr2 = np.zeros(dim_vals.size)\n",
    "dca_decoding_svdr2 = np.zeros(dim_vals.size)\n",
    "pca_decoding_weightsr2 = np.zeros(dim_vals.size)\n",
    "pca_decoding_svdr2 = np.zeros(dim_vals.size)\n",
    "\n",
    "for i, dim in enumerate(dim_vals):\n",
    "    y_dca = []\n",
    "    y_pca = []\n",
    "    \n",
    "    # Decoding weights\n",
    "    x1 = [] \n",
    "    # Decoding SVD weights\n",
    "    x2 = []\n",
    "    \n",
    "    for data_file in data_files:\n",
    "        y_dca.extend(result[data_file]['dca_loadings'][i, :])\n",
    "        y_pca.extend(result[data_file]['pca_loadings'][i, :])\n",
    "        \n",
    "        x1.extend(calc_loadings(result[data_file]['decoding_weights'][2:4, :].T, 3))\n",
    "        x2.extend(calc_loadings(result[data_file]['decoding_vel_svd'].T, 3))\n",
    "\n",
    "    dca_decoding_weightsr2[i] = scipy.stats.spearmanr(x1, y_dca)[0]\n",
    "    dca_decoding_svdr2[i] = scipy.stats.spearmanr(x2, y_dca)[0]\n",
    "    \n",
    "    pca_decoding_weightsr2[i] = scipy.stats.spearmanr(x1, y_pca)[0]\n",
    "    pca_decoding_svdr2[i] = scipy.stats.spearmanr(x2, y_pca)[0]"
   ]
  },
  {
   "cell_type": "code",
   "execution_count": 13,
   "metadata": {},
   "outputs": [
    {
     "data": {
      "text/plain": [
       "[<matplotlib.lines.Line2D at 0x7fde1e9247d0>]"
      ]
     },
     "execution_count": 13,
     "metadata": {},
     "output_type": "execute_result"
    },
    {
     "data": {
      "image/png": "[encoded data removed]",
      "text/plain": [
       "<Figure size 432x288 with 1 Axes>"
      ]
     },
     "metadata": {
      "needs_background": "light"
     },
     "output_type": "display_data"
    }
   ],
   "source": [
    "plt.plot(dca_decoding_weightsr2)\n",
    "plt.plot(dca_decoding_svdr2)\n",
    "plt.plot(pca_decoding_weightsr2)\n",
    "plt.plot(pca_decoding_svdr2)"
   ]
  },
  {
   "cell_type": "code",
   "execution_count": 14,
   "metadata": {},
   "outputs": [
    {
     "data": {
      "text/plain": [
       "(137, 6)"
      ]
     },
     "execution_count": 14,
     "metadata": {},
     "output_type": "execute_result"
    }
   ],
   "source": [
    "result[data_file]['encoding_weights'].shape"
   ]
  },
  {
   "cell_type": "code",
   "execution_count": 15,
   "metadata": {},
   "outputs": [],
   "source": [
    "# For each quantity, calculate the spearman r2 \n",
    "dca_encoding_weightsr2 = np.zeros(dim_vals.size)\n",
    "dca_encoding_svdr2 = np.zeros(dim_vals.size)\n",
    "pca_encoding_weightsr2 = np.zeros(dim_vals.size)\n",
    "pca_encoding_svdr2 = np.zeros(dim_vals.size)\n",
    "\n",
    "for i, dim in enumerate(dim_vals):\n",
    "    y_dca = []\n",
    "    y_pca = []\n",
    "    \n",
    "    # Decoding weights\n",
    "    x1 = [] \n",
    "    # Decoding SVD weights\n",
    "    x2 = []\n",
    "    \n",
    "    for data_file in data_files:\n",
    "        y_dca.extend(result[data_file]['dca_loadings'][i, :])\n",
    "        y_pca.extend(result[data_file]['pca_loadings'][i, :])\n",
    "        \n",
    "        x1.extend(calc_loadings(result[data_file]['encoding_weights'], 1))\n",
    "        x2.extend(calc_loadings(result[data_file]['encoding_svd'], 1))\n",
    "\n",
    "    dca_encoding_weightsr2[i] = scipy.stats.spearmanr(x1, y_dca)[0]\n",
    "    dca_encoding_svdr2[i] = scipy.stats.spearmanr(x2, y_dca)[0]\n",
    "    \n",
    "    pca_encoding_weightsr2[i] = scipy.stats.spearmanr(x1, y_pca)[0]\n",
    "    pca_encoding_svdr2[i] = scipy.stats.spearmanr(x2, y_pca)[0]"
   ]
  },
  {
   "cell_type": "code",
   "execution_count": 16,
   "metadata": {},
   "outputs": [
    {
     "data": {
      "text/plain": [
       "[<matplotlib.lines.Line2D at 0x7fde1ef0f110>]"
      ]
     },
     "execution_count": 16,
     "metadata": {},
     "output_type": "execute_result"
    },
    {
     "data": {
      "image/png": "[encoded data removed]",
      "text/plain": [
       "<Figure size 432x288 with 1 Axes>"
      ]
     },
     "metadata": {
      "needs_background": "light"
     },
     "output_type": "display_data"
    }
   ],
   "source": [
    "plt.plot(dca_encoding_weightsr2)\n",
    "plt.plot(dca_encoding_svdr2)\n",
    "plt.plot(pca_encoding_weightsr2)\n",
    "plt.plot(pca_encoding_svdr2)"
   ]
  },
  {
   "cell_type": "code",
   "execution_count": 17,
   "metadata": {},
   "outputs": [
    {
     "data": {
      "text/plain": [
       "(6, 3)"
      ]
     },
     "execution_count": 17,
     "metadata": {},
     "output_type": "execute_result"
    }
   ],
   "source": [
    "result[data_file]['su_decoding_weight'][0].shape"
   ]
  },
  {
   "cell_type": "code",
   "execution_count": 18,
   "metadata": {},
   "outputs": [],
   "source": [
    "# For each quantity, calculate the spearman r2 \n",
    "dca_suposweight_r2 = np.zeros(dim_vals.size)\n",
    "dca_suvelweight_r2 = np.zeros(dim_vals.size)\n",
    "pca_suposweight_r2 = np.zeros(dim_vals.size)\n",
    "pca_suvelweight_r2 = np.zeros(dim_vals.size)\n",
    "\n",
    "for i, dim in enumerate(dim_vals):\n",
    "    y_dca = []\n",
    "    y_pca = []\n",
    "    \n",
    "    # Decoding weights\n",
    "    x1 = [] \n",
    "    # Decoding SVD weights\n",
    "    x2 = []\n",
    "    \n",
    "    for data_file in data_files:\n",
    "        y_dca.extend(result[data_file]['dca_loadings'][i, :])\n",
    "        y_pca.extend(result[data_file]['pca_loadings'][i, :])\n",
    "        \n",
    "        x1.extend([np.linalg.norm(result[data_file]['su_decoding_weight'][idx][0:2, :])\n",
    "                   for idx in range(len(result[data_file]['su_decoding_weight']))])\n",
    "        x2.extend([np.linalg.norm(result[data_file]['su_decoding_weight'][idx][2:4, :])\n",
    "                   for idx in range(len(result[data_file]['su_decoding_weight']))])\n",
    "\n",
    "    dca_suposweight_r2[i] = scipy.stats.spearmanr(x1, y_dca)[0]\n",
    "    dca_suvelweight_r2[i] = scipy.stats.spearmanr(x2, y_dca)[0]\n",
    "    \n",
    "    pca_suposweight_r2[i] = scipy.stats.spearmanr(x1, y_pca)[0]\n",
    "    pca_suvelweight_r2[i] = scipy.stats.spearmanr(x2, y_pca)[0]"
   ]
  },
  {
   "cell_type": "code",
   "execution_count": 19,
   "metadata": {},
   "outputs": [
    {
     "data": {
      "text/plain": [
       "[<matplotlib.lines.Line2D at 0x7fde1f0f0ad0>]"
      ]
     },
     "execution_count": 19,
     "metadata": {},
     "output_type": "execute_result"
    },
    {
     "data": {
      "image/png": "[encoded data removed]",
      "text/plain": [
       "<Figure size 432x288 with 1 Axes>"
      ]
     },
     "metadata": {
      "needs_background": "light"
     },
     "output_type": "display_data"
    }
   ],
   "source": [
    "plt.plot(dca_suposweight_r2)\n",
    "plt.plot(dca_suvelweight_r2)\n",
    "plt.plot(pca_suposweight_r2)\n",
    "plt.plot(pca_suvelweight_r2)"
   ]
  },
  {
   "cell_type": "code",
   "execution_count": 20,
   "metadata": {},
   "outputs": [
    {
     "data": {
      "text/plain": [
       "(1, 6)"
      ]
     },
     "execution_count": 20,
     "metadata": {},
     "output_type": "execute_result"
    }
   ],
   "source": [
    "result[data_file]['su_encoding_weight'][0].shape"
   ]
  },
  {
   "cell_type": "code",
   "execution_count": 21,
   "metadata": {},
   "outputs": [],
   "source": [
    "# For each quantity, calculate the spearman r2 \n",
    "dca_suencoding_r2 = np.zeros(dim_vals.size)\n",
    "pca_suencoding_r2 = np.zeros(dim_vals.size)\n",
    "\n",
    "for i, dim in enumerate(dim_vals):\n",
    "    y_dca = []\n",
    "    y_pca = []\n",
    "    \n",
    "    # Decoding weights\n",
    "    x1 = [] \n",
    "    # Decoding SVD weights\n",
    "    x2 = []\n",
    "    \n",
    "    for data_file in data_files:\n",
    "        y_dca.extend(result[data_file]['dca_loadings'][i, :])\n",
    "        y_pca.extend(result[data_file]['pca_loadings'][i, :])\n",
    "        \n",
    "        x1.extend([np.linalg.norm(result[data_file]['su_encoding_weight'][idx])\n",
    "                   for idx in range(len(result[data_file]['su_encoding_weight']))])\n",
    "\n",
    "    dca_suencoding_r2[i] = scipy.stats.spearmanr(x1, y_dca)[0]\n",
    "    pca_suencoding_r2[i] = scipy.stats.spearmanr(x1, y_pca)[0]"
   ]
  },
  {
   "cell_type": "code",
   "execution_count": 22,
   "metadata": {},
   "outputs": [
    {
     "data": {
      "text/plain": [
       "[<matplotlib.lines.Line2D at 0x7fde1f5014d0>]"
      ]
     },
     "execution_count": 22,
     "metadata": {},
     "output_type": "execute_result"
    },
    {
     "data": {
      "image/png": "[encoded data removed]",
      "text/plain": [
       "<Figure size 432x288 with 1 Axes>"
      ]
     },
     "metadata": {
      "needs_background": "light"
     },
     "output_type": "display_data"
    }
   ],
   "source": [
    "plt.plot(dca_suencoding_r2)\n",
    "plt.plot(pca_suencoding_r2)"
   ]
  },
  {
   "cell_type": "markdown",
   "metadata": {},
   "source": [
    "### Single unit variance/PI vs. loadings"
   ]
  },
  {
   "cell_type": "code",
   "execution_count": 27,
   "metadata": {},
   "outputs": [],
   "source": [
    "from tqdm import tqdm\n",
    "from neurosim.models.ssr import StateSpaceRealization as SSR\n",
    "from dca.cov_util import calc_pi_from_data\n",
    "from utils import apply_df_filters"
   ]
  },
  {
   "cell_type": "code",
   "execution_count": 28,
   "metadata": {},
   "outputs": [],
   "source": [
    "with open('sabes_var_df.dat', 'rb') as f:\n",
    "    var_df = pickle.load(f)"
   ]
  },
  {
   "cell_type": "code",
   "execution_count": 29,
   "metadata": {},
   "outputs": [],
   "source": [
    "      "
   ]
  },
  {
   "cell_type": "code",
   "execution_count": 30,
   "metadata": {},
   "outputs": [
    {
     "name": "stderr",
     "output_type": "stream",
     "text": [
      "28it [04:33,  9.76s/it]\n"
     ]
    }
   ],
   "source": [
    "datpath = '/media/akumar/Secondary/data/sabes'\n",
    "pi = {}\n",
    "variance = {}\n",
    "for i, data_file in tqdm(enumerate(data_files)):\n",
    "    \n",
    "    df = apply_df_filters(var_df, data_file=data_file, fold_idx=0)\n",
    "    dat = load_sabes('%s/%s' % (datpath, data_file), **df.iloc[0]['loader_args'])\n",
    "    \n",
    "    # Do NOT Normalize\n",
    "    #x = StandardScaler().fit_transform(np.squeeze(dat['spike_rates']))\n",
    "    x = np.squeeze(dat['spike_rates'])\n",
    "    pi[data_file] = {}\n",
    "    pi[data_file]['dataT1'] = [calc_pi_from_data(x[:, j][:, np.newaxis], T=2)\n",
    "                        for j in range(dat['spike_rates'].shape[-1])] \n",
    "    pi[data_file]['dataT3'] = [calc_pi_from_data(x[:, j][:, np.newaxis], T=6)\n",
    "                        for j in range(dat['spike_rates'].shape[-1])]\n",
    "    pi[data_file]['dataT5'] = [calc_pi_from_data(x[:, j][:, np.newaxis], T=10)\n",
    "                        for j in range(dat['spike_rates'].shape[-1])]\n",
    "    \n",
    "    variance[data_file] = {}\n",
    "    variance[data_file]['data'] = np.var(x, axis=0)\n",
    "        \n",
    "    A = df.iloc[0]['A']\n",
    "#     W = scipy.linalg.solve_discrete_lyapunov(A, np.eye(A.shape[0]))\n",
    "    variance[data_file]['model'] = np.diag(df.iloc[0]['W'])\n",
    "    \n",
    "    pi[data_file]['modelT1'] = []\n",
    "    pi[data_file]['modelT3'] = []\n",
    "    pi[data_file]['modelT5'] = []\n",
    "    for j in range(A.shape[0]):\n",
    "        C = np.zeros((1, A.shape[0]))\n",
    "        C[0, j] = 1\n",
    "        ssm = SSR(A, B=np.eye(A.shape[0]), C=C)\n",
    "        pi[data_file]['modelT1'].append(ssm.pi(1))\n",
    "        pi[data_file]['modelT3'].append(ssm.pi(3))\n",
    "        pi[data_file]['modelT5'].append(ssm.pi(5))"
   ]
  },
  {
   "cell_type": "code",
   "execution_count": 31,
   "metadata": {},
   "outputs": [],
   "source": [
    "dca_supi_r2 = np.zeros((dim_vals.size, 3, 2))\n",
    "pca_supi_r2 = np.zeros((dim_vals.size, 3, 2))\n",
    "\n",
    "for i, dim in enumerate(dim_vals):\n",
    "    y_dca = []\n",
    "    \n",
    "    y_pca = []\n",
    "    \n",
    "    x1 = []\n",
    "    x2 = []\n",
    "    x3 = []\n",
    "    x4 = []\n",
    "    x5 = []\n",
    "    x6 = []\n",
    "    \n",
    "    for data_file in data_files:\n",
    "        y_dca.extend(result[data_file]['dca_loadings'][i, :])\n",
    "        y_pca.extend(result[data_file]['pca_loadings'][i, :])\n",
    "        \n",
    "        x1.extend(pi[data_file]['dataT1'])\n",
    "        x2.extend(pi[data_file]['dataT3'])\n",
    "        x3.extend(pi[data_file]['dataT5'])\n",
    "\n",
    "        x4.extend(pi[data_file]['modelT1'])\n",
    "        x5.extend(pi[data_file]['modelT3'])\n",
    "        x6.extend(pi[data_file]['modelT5'])\n",
    "\n",
    "    dca_supi_r2[i, 0, 0] = scipy.stats.spearmanr(x1, y_dca)[0]\n",
    "    dca_supi_r2[i, 1, 0] = scipy.stats.spearmanr(x2, y_dca)[0]\n",
    "    dca_supi_r2[i, 2, 0] = scipy.stats.spearmanr(x3, y_dca)[0]\n",
    "    \n",
    "    dca_supi_r2[i, 0, 1] = scipy.stats.spearmanr(x4, y_dca)[0]\n",
    "    dca_supi_r2[i, 1, 1] = scipy.stats.spearmanr(x5, y_dca)[0]\n",
    "    dca_supi_r2[i, 2, 1] = scipy.stats.spearmanr(x6, y_dca)[0]\n",
    "    \n",
    "    pca_supi_r2[i, 0, 0] = scipy.stats.spearmanr(x1, y_pca)[0]\n",
    "    pca_supi_r2[i, 1, 0] = scipy.stats.spearmanr(x2, y_pca)[0]\n",
    "    pca_supi_r2[i, 2, 0] = scipy.stats.spearmanr(x3, y_pca)[0]\n",
    "    \n",
    "    pca_supi_r2[i, 0, 1] = scipy.stats.spearmanr(x4, y_pca)[0]\n",
    "    pca_supi_r2[i, 1, 1] = scipy.stats.spearmanr(x5, y_pca)[0]\n",
    "    pca_supi_r2[i, 2, 1] = scipy.stats.spearmanr(x6, y_pca)[0]    "
   ]
  },
  {
   "cell_type": "code",
   "execution_count": 36,
   "metadata": {},
   "outputs": [],
   "source": [
    "dca_suvar_r2 = np.zeros((dim_vals.size, 2))\n",
    "pca_suvar_r2 = np.zeros((dim_vals.size, 2))\n",
    "\n",
    "for i, dim in enumerate(dim_vals):\n",
    "    y_dca = []\n",
    "    y_pca = []\n",
    "    \n",
    "    x1 = []\n",
    "    x2 =[]\n",
    "    \n",
    "    for data_file in data_files:\n",
    "        y_dca.extend(result[data_file]['dca_loadings'][i, :])\n",
    "        y_pca.extend(result[data_file]['pca_loadings'][i, :])\n",
    "        x1.extend(variance[data_file]['model'])\n",
    "        x2.extend(variance[data_file]['data'])\n",
    "\n",
    "    dca_suvar_r2[i, 0] = scipy.stats.spearmanr(x1, y_dca)[0]\n",
    "    dca_suvar_r2[i, 1] = scipy.stats.spearmanr(x2, y_dca)[0]\n",
    "    \n",
    "    pca_suvar_r2[i, 0] = scipy.stats.spearmanr(x1, y_pca)[0]\n",
    "    pca_suvar_r2[i, 1] = scipy.stats.spearmanr(x2, y_pca)[0]"
   ]
  },
  {
   "cell_type": "code",
   "execution_count": 32,
   "metadata": {},
   "outputs": [
    {
     "data": {
      "text/plain": [
       "[<matplotlib.lines.Line2D at 0x7fde1e89e610>,\n",
       " <matplotlib.lines.Line2D at 0x7fde1e89e190>,\n",
       " <matplotlib.lines.Line2D at 0x7fde1e89eb90>]"
      ]
     },
     "execution_count": 32,
     "metadata": {},
     "output_type": "execute_result"
    },
    {
     "data": {
      "image/png": "[encoded data removed]",
      "text/plain": [
       "<Figure size 432x288 with 1 Axes>"
      ]
     },
     "metadata": {
      "needs_background": "light"
     },
     "output_type": "display_data"
    }
   ],
   "source": [
    "plt.plot(dca_supi_r2[:, :, 0])\n",
    "plt.plot(dca_supi_r2[:, :, 1])"
   ]
  },
  {
   "cell_type": "code",
   "execution_count": 33,
   "metadata": {},
   "outputs": [
    {
     "data": {
      "text/plain": [
       "[<matplotlib.lines.Line2D at 0x7fde1ead58d0>,\n",
       " <matplotlib.lines.Line2D at 0x7fde1ead5f90>,\n",
       " <matplotlib.lines.Line2D at 0x7fde1ead5b90>]"
      ]
     },
     "execution_count": 33,
     "metadata": {},
     "output_type": "execute_result"
    },
    {
     "data": {
      "image/png": "[encoded data removed]",
      "text/plain": [
       "<Figure size 432x288 with 1 Axes>"
      ]
     },
     "metadata": {
      "needs_background": "light"
     },
     "output_type": "display_data"
    }
   ],
   "source": [
    "plt.plot(pca_supi_r2[:, :, 0])\n",
    "plt.plot(pca_supi_r2[:, :, 1])"
   ]
  },
  {
   "cell_type": "code",
   "execution_count": 38,
   "metadata": {},
   "outputs": [
    {
     "data": {
      "text/plain": [
       "[<matplotlib.lines.Line2D at 0x7fde1f588ed0>]"
      ]
     },
     "execution_count": 38,
     "metadata": {},
     "output_type": "execute_result"
    },
    {
     "data": {
      "image/png": "[encoded data removed]",
      "text/plain": [
       "<Figure size 432x288 with 1 Axes>"
      ]
     },
     "metadata": {
      "needs_background": "light"
     },
     "output_type": "display_data"
    }
   ],
   "source": [
    "plt.plot(dca_suvar_r2[:, 0])\n",
    "plt.plot(dca_suvar_r2[:, 1])"
   ]
  },
  {
   "cell_type": "code",
   "execution_count": 39,
   "metadata": {},
   "outputs": [
    {
     "data": {
      "text/plain": [
       "[<matplotlib.lines.Line2D at 0x7fde1ebf1090>]"
      ]
     },
     "execution_count": 39,
     "metadata": {},
     "output_type": "execute_result"
    },
    {
     "data": {
      "image/png": "[encoded data removed]",
      "text/plain": [
       "<Figure size 432x288 with 1 Axes>"
      ]
     },
     "metadata": {
      "needs_background": "light"
     },
     "output_type": "display_data"
    }
   ],
   "source": [
    "plt.plot(pca_suvar_r2[:, 0])\n",
    "plt.plot(pca_suvar_r2[:, 1])"
   ]
  },
  {
   "cell_type": "code",
   "execution_count": 40,
   "metadata": {},
   "outputs": [],
   "source": [
    "# Results needed for plot\n",
    "r2_dict = {}\n",
    "r2_dict['dca_decoding'] = dca_decoding_weightsr2\n",
    "r2_dict['pca_decoding'] = pca_decoding_weightsr2\n",
    "r2_dict['dca_encoding'] = dca_encoding_weightsr2\n",
    "r2_dict['pca_encoding'] = pca_encoding_weightsr2\n",
    "r2_dict['pca_supi_r'] = pca_supi_r2\n",
    "r2_dict['pca_suvar_r'] = pca_suvar_r2\n",
    "r2_dict['dca_supi_r'] = dca_supi_r2\n",
    "r2_dict['dca_suvar_r'] = dca_suvar_r2"
   ]
  },
  {
   "cell_type": "markdown",
   "metadata": {},
   "source": [
    "### Controllability "
   ]
  },
  {
   "cell_type": "code",
   "execution_count": null,
   "metadata": {},
   "outputs": [],
   "source": [
    "# Also need to calculate controllability metrics"
   ]
  },
  {
   "cell_type": "code",
   "execution_count": null,
   "metadata": {},
   "outputs": [],
   "source": [
    "datpath = '/media/akumar/Secondary/data/sabes'\n",
    "pi = {}\n",
    "variance = {}\n",
    "for i, data_file in tqdm(enumerate(data_files)):\n",
    "    \n",
    "    df = apply_df_filters(var_df, data_file=data_file, fold_idx=0)\n",
    "    A = df.iloc[0]['A']\n",
    "    \n",
    "    # Single unit controllability\n",
    "    for i in range(A.shape[0]):\n",
    "        ssr = SSR(A=A.T, B=np.eye(A.shape[0]), C=np.eye(A.shape[0]))\n",
    "    \n",
    "    \n",
    "        \n",
    "    "
   ]
  },
  {
   "cell_type": "code",
   "execution_count": 41,
   "metadata": {},
   "outputs": [
    {
     "ename": "NameError",
     "evalue": "name 'ssr' is not defined",
     "output_type": "error",
     "traceback": [
      "\u001b[0;31m---------------------------------------------------------------------------\u001b[0m",
      "\u001b[0;31mNameError\u001b[0m                                 Traceback (most recent call last)",
      "\u001b[0;32m/tmp/ipykernel_27036/1608921355.py\u001b[0m in \u001b[0;36m<module>\u001b[0;34m\u001b[0m\n\u001b[0;32m----> 1\u001b[0;31m \u001b[0mssr\u001b[0m\u001b[0;34m\u001b[0m\u001b[0;34m\u001b[0m\u001b[0m\n\u001b[0m",
      "\u001b[0;31mNameError\u001b[0m: name 'ssr' is not defined"
     ]
    }
   ],
   "source": [
    "\n",
    "ssr"
   ]
  },
  {
   "cell_type": "code",
   "execution_count": null,
   "metadata": {},
   "outputs": [],
   "source": []
  }
 ],
 "metadata": {
  "kernelspec": {
   "display_name": "Python 3 (ipykernel)",
   "language": "python",
   "name": "python3"
  },
  "language_info": {
   "codemirror_mode": {
    "name": "ipython",
    "version": 3
   },
   "file_extension": ".py",
   "mimetype": "text/x-python",
   "name": "python",
   "nbconvert_exporter": "python",
   "pygments_lexer": "ipython3",
   "version": "3.7.10"
  }
 },
 "nbformat": 4,
 "nbformat_minor": 4
}
