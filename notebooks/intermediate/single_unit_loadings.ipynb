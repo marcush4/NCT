{
 "cells": [
  {
   "cell_type": "code",
   "execution_count": 2,
   "id": "0292254b",
   "metadata": {},
   "outputs": [],
   "source": [
    "%load_ext autoreload\n",
    "%autoreload 2"
   ]
  },
  {
   "cell_type": "code",
   "execution_count": 3,
   "id": "fb8a45a1",
   "metadata": {},
   "outputs": [],
   "source": [
    "import numpy as np \n",
    "import pandas as pd\n",
    "import scipy\n",
    "import matplotlib.pyplot as plt\n",
    "import sys\n",
    "import pdb"
   ]
  },
  {
   "cell_type": "code",
   "execution_count": 4,
   "id": "a013d17f",
   "metadata": {},
   "outputs": [],
   "source": [
    "sys.path.append('../..')"
   ]
  },
  {
   "cell_type": "code",
   "execution_count": 5,
   "id": "530aae23",
   "metadata": {},
   "outputs": [],
   "source": [
    "import warnings\n",
    "warnings.filterwarnings(\"ignore\")"
   ]
  },
  {
   "cell_type": "code",
   "execution_count": 6,
   "id": "79fcdcfe",
   "metadata": {},
   "outputs": [],
   "source": [
    "from os import listdir\n",
    "from os.path import isfile, join\n",
    "from tqdm import tqdm\n",
    "import pickle\n",
    "from sklearn.model_selection import KFold\n",
    "import glob\n",
    "from utils import calc_loadings\n",
    "from loaders import load_sabes, load_peanut\n",
    "from decoders import lr_decoder, lr_encoder\n",
    "from utils import apply_df_filters"
   ]
  },
  {
   "cell_type": "code",
   "execution_count": 13,
   "id": "b21f7a78",
   "metadata": {},
   "outputs": [],
   "source": [
    "sabes_decoding_files = glob.glob('/media/akumar/Secondary/data/cosyne_results/sabes_decoding/sabes_decoding_*.dat')\n",
    "sabes_kca_files = glob.glob('/media/akumar/Secondary/data/cosyne_results/sabes_kca/sabes_kca_*.dat')\n",
    "peanut_decoding_files = glob.glob('/media/akumar/Secondary/data/cosyne_results/peanut_decoding/peanut_decoding_*.dat')\n",
    "peanut_kca_files = glob.glob('/media/akumar/Secondary/data/cosyne_results/peanut_kca/peanut_kca_*.dat')                            "
   ]
  },
  {
   "cell_type": "code",
   "execution_count": 14,
   "id": "825b25f9",
   "metadata": {},
   "outputs": [],
   "source": [
    "results_list = []\n",
    "for file in peanut_kca_files:\n",
    "    with open(file, 'rb') as f:\n",
    "        result_ = pickle.load(f)\n",
    "    results_list.extend(result_)\n",
    "peanut_kca_df = pd.DataFrame(results_list)"
   ]
  },
  {
   "cell_type": "code",
   "execution_count": 15,
   "id": "bb4798e6",
   "metadata": {},
   "outputs": [],
   "source": [
    "results_list = []\n",
    "for file in sabes_kca_files:\n",
    "    with open(file, 'rb') as f:\n",
    "        result_ = pickle.load(f)\n",
    "    results_list.extend(result_)\n",
    "sabes_kca_df = pd.DataFrame(results_list)"
   ]
  },
  {
   "cell_type": "markdown",
   "id": "bec01690",
   "metadata": {},
   "source": [
    "### Sabes"
   ]
  },
  {
   "cell_type": "code",
   "execution_count": 67,
   "id": "6d831811",
   "metadata": {},
   "outputs": [],
   "source": [
    "data_path = '/media/akumar/Secondary/data/sabes'"
   ]
  },
  {
   "cell_type": "code",
   "execution_count": 68,
   "id": "18f2ee0d",
   "metadata": {},
   "outputs": [],
   "source": [
    "data_files = sabes_kca_df[\"data_file\"].unique()"
   ]
  },
  {
   "cell_type": "code",
   "execution_count": 69,
   "id": "cf1933e9",
   "metadata": {},
   "outputs": [
    {
     "data": {
      "text/plain": [
       "Index(['dim', 'fold_idx', 'train_idxs', 'test_idxs', 'KCA', 'fit_all',\n",
       "       'bin_width', 'filter_fn', 'filter_kwargs', 'boxcox', 'spike_threshold',\n",
       "       'dim_vals', 'n_folds', 'T', 'ols_order', 'data_file', 'PCA', 'SFA'],\n",
       "      dtype='object')"
      ]
     },
     "execution_count": 69,
     "metadata": {},
     "output_type": "execute_result"
    }
   ],
   "source": [
    "sabes_kca_df.keys()"
   ]
  },
  {
   "cell_type": "code",
   "execution_count": 91,
   "id": "0789054b",
   "metadata": {},
   "outputs": [
    {
     "name": "stderr",
     "output_type": "stream",
     "text": [
      "100%|████████████████████████████████████████████████████████████████████████████████████████████████████████████████████████████████████████████████████████████████████████████████| 28/28 [04:29<00:00,  9.64s/it]\n"
     ]
    }
   ],
   "source": [
    "decoder_params = {'trainlag': 4, 'testlag': 4, 'decoding_window': 3}\n",
    "fold_idx = 0\n",
    "\n",
    "result = {}\n",
    "for data_file in tqdm(data_files):\n",
    "    \n",
    "    result[data_file] = {}\n",
    "    \n",
    "    KCA_df = apply_df_filters(sabes_kca_df, data_file=data_file, fold_idx=fold_idx)\n",
    "    pca_df = apply_df_filters(sabes_kca_df, data_file=data_file, fit_all=True, fold_idx=fold_idx)\n",
    "    \n",
    "    dat = load_sabes('%s/%s' % (data_path, data_file), bin_width=KCA_df.iloc[0][\"bin_width\"],\n",
    "                     filter_fn=KCA_df.iloc[0]['filter_fn'], filter_kwargs=KCA_df.iloc[0]['filter_kwargs'],\n",
    "                     boxcox=KCA_df.iloc[0]['boxcox'], spike_threshold=KCA_df.iloc[0]['spike_threshold'])\n",
    "    \n",
    "    X = np.squeeze(dat['spike_rates'])\n",
    "    Z = dat['behavior']\n",
    "    kfold = KFold(n_splits=5, shuffle=False)\n",
    "    train_idxs, test_idxs = next(kfold.split(X))\n",
    "    ztrain = Z[train_idxs, :]\n",
    "    ztest = Z[test_idxs, :]\n",
    "\n",
    "    # Population level decoding/encoding - use the coefficient in the linear fit\n",
    "    # Record both the weights in the coefficient but also the loadings onto the SVD\n",
    "\n",
    "    xtrain = X[train_idxs, :]\n",
    "    xtest = X[test_idxs, :]\n",
    "    \n",
    "    _, _, _, decodingregressor = lr_decoder(xtest, xtrain, ztest, ztrain, **decoder_params)\n",
    "    _, encodingregressor = lr_encoder(xtest, xtrain, ztest, ztrain, **decoder_params)\n",
    "\n",
    "    result[data_file]['decoding_weights'] = decodingregressor.coef_\n",
    "    result[data_file]['encoding_weights'] = encodingregressor.coef_\n",
    "    \n",
    "    u1, s1, vh1 = np.linalg.svd(decodingregressor.coef_[0:2, :], full_matrices=False)\n",
    "    u2, s2, vh2 = np.linalg.svd(decodingregressor.coef_[2:4, :], full_matrices=False)\n",
    "    u3, s3, vh3 = np.linalg.svd(decodingregressor.coef_[4:6, :], full_matrices=False)\n",
    "\n",
    "    \n",
    "    u4, s4, vh4 = np.linalg.svd(encodingregressor.coef_, full_matrices=False)\n",
    "    \n",
    "    result[data_file]['decoding_pos_svd'] = vh1\n",
    "    result[data_file]['decoding_vel_svd'] = vh2\n",
    "    result[data_file]['decoding_acc_svd'] = vh3\n",
    "\n",
    "    result[data_file]['encoding_svd'] = u4\n",
    "    \n",
    "    r2_pos_decoding, r2_vel_decoding, r2_encoding = [], [], []\n",
    "    \n",
    "    decoding_weights = []\n",
    "    encoding_weights = []\n",
    "    \n",
    "    decoding_weights_svd = []\n",
    "    encoding_weights_svd = []\n",
    "    \n",
    "    \n",
    "    for neu_idx in range(X.shape[1]):           #Fit all neurons one by one\n",
    "        \n",
    "        xtrain = X[train_idxs, neu_idx][:, np.newaxis]\n",
    "        xtest = X[test_idxs, neu_idx][:, np.newaxis]\n",
    "        # Decoding\n",
    "        r2_pos, r2_vel, _, dr = lr_decoder(xtest, xtrain, ztest, ztrain, **decoder_params)\n",
    "        r2_pos_decoding.append(r2_pos)\n",
    "        r2_vel_decoding.append(r2_vel)\n",
    "        \n",
    "        decoding_weights.append(dr.coef_)\n",
    "        \n",
    "        # Encoding\n",
    "        r2_encoding_, er = lr_encoder(xtest, xtrain, ztest, ztrain, **decoder_params)\n",
    "        r2_encoding.append(r2_encoding_)\n",
    "        encoding_weights.append(er.coef_)        \n",
    "        \n",
    "    result[data_file]['su_r2_pos_decoding'] = r2_pos_decoding\n",
    "    result[data_file]['su_r2_vel_decoding'] = r2_vel_decoding\n",
    "    result[data_file]['su_r2_encoding'] = r2_encoding\n",
    "    result[data_file]['su_decoding_weight'] = decoding_weights\n",
    "    result[data_file]['su_encoding_weight'] = encoding_weights        \n",
    "    \n",
    "    dim_vals = np.unique(KCA_df['dim'].values)\n",
    "    KCA_loadings = np.zeros((dim_vals.size, X.shape[1]))\n",
    "    pca_loadings = np.zeros((dim_vals.size, X.shape[1]))\n",
    "    \n",
    "    for i, dim_ in enumerate(dim_vals):\n",
    "        KCA_df_ = KCA_df.loc[KCA_df['dim'] == dim_]\n",
    "        KCA_loadings[i, :] = calc_loadings(KCA_df_.iloc[0]['KCA']['coef'])\n",
    "        pca_loadings[i, :] = calc_loadings(pca_df.iloc[0]['PCA']['coef'][:, 0:dim_])\n",
    "    \n",
    "    result[data_file]['kca_loadings'] = KCA_loadings\n",
    "    result[data_file]['pca_loadings'] = pca_loadings"
   ]
  },
  {
   "cell_type": "code",
   "execution_count": 176,
   "id": "cbbda420",
   "metadata": {},
   "outputs": [],
   "source": [
    "dim_vals = np.arange(30)"
   ]
  },
  {
   "cell_type": "code",
   "execution_count": 177,
   "id": "83dfc169",
   "metadata": {},
   "outputs": [],
   "source": [
    "# For each quantity, calculate the spearman r2 \n",
    "dca_decoding_weightsr2 = np.zeros(dim_vals.size)\n",
    "dca_decoding_svdr2 = np.zeros(dim_vals.size)\n",
    "pca_decoding_weightsr2 = np.zeros(dim_vals.size)\n",
    "pca_decoding_svdr2 = np.zeros(dim_vals.size)\n",
    "\n",
    "for i, dim in enumerate(dim_vals):\n",
    "    y_dca = []\n",
    "    y_pca = []\n",
    "    \n",
    "    # Decoding weights\n",
    "    x1 = [] \n",
    "    # Decoding SVD weights\n",
    "    x2 = []\n",
    "    \n",
    "    for data_file in data_files:\n",
    "        y_dca.extend(result[data_file]['kca_loadings'][i, :])\n",
    "        y_pca.extend(result[data_file]['pca_loadings'][i, :])\n",
    "        \n",
    "        x1.extend(calc_loadings(result[data_file]['decoding_weights'][2:4, :].T, 3))\n",
    "        x2.extend(calc_loadings(result[data_file]['decoding_vel_svd'].T, 3))\n",
    "\n",
    "    dca_decoding_weightsr2[i] = scipy.stats.spearmanr(x1, y_dca)[0]\n",
    "    dca_decoding_svdr2[i] = scipy.stats.spearmanr(x2, y_dca)[0]\n",
    "    \n",
    "    pca_decoding_weightsr2[i] = scipy.stats.spearmanr(x1, y_pca)[0]\n",
    "    pca_decoding_svdr2[i] = scipy.stats.spearmanr(x2, y_pca)[0]"
   ]
  },
  {
   "cell_type": "code",
   "execution_count": 178,
   "id": "967f6706",
   "metadata": {},
   "outputs": [
    {
     "data": {
      "text/plain": [
       "array([0.3614911 , 0.42880271, 0.42630023, 0.42162091, 0.40789737,\n",
       "       0.40236037, 0.3963059 , 0.39103937, 0.38622569, 0.3840631 ,\n",
       "       0.38186928, 0.3794625 , 0.37813434, 0.37653339, 0.37458514,\n",
       "       0.37284716, 0.37130482, 0.36918076, 0.36662584, 0.36423184,\n",
       "       0.36213574, 0.3596151 , 0.35731322, 0.35532666, 0.3529454 ,\n",
       "       0.34969866, 0.34754943, 0.34528133, 0.34351969, 0.34172005])"
      ]
     },
     "execution_count": 178,
     "metadata": {},
     "output_type": "execute_result"
    }
   ],
   "source": [
    "pca_decoding_weightsr2"
   ]
  },
  {
   "cell_type": "code",
   "execution_count": 179,
   "id": "4ab10258",
   "metadata": {},
   "outputs": [
    {
     "data": {
      "text/plain": [
       "[<matplotlib.lines.Line2D at 0x7f38831b5210>]"
      ]
     },
     "execution_count": 179,
     "metadata": {},
     "output_type": "execute_result"
    },
    {
     "data": {
      "image/png": "[encoded data removed]",
      "text/plain": [
       "<Figure size 432x288 with 1 Axes>"
      ]
     },
     "metadata": {
      "needs_background": "light"
     },
     "output_type": "display_data"
    }
   ],
   "source": [
    "plt.plot(dca_decoding_weightsr2)\n",
    "plt.plot(dca_decoding_svdr2)\n",
    "plt.plot(pca_decoding_weightsr2)\n",
    "plt.plot(pca_decoding_svdr2)"
   ]
  },
  {
   "cell_type": "code",
   "execution_count": 180,
   "id": "5c2adb33",
   "metadata": {},
   "outputs": [],
   "source": [
    "# For each quantity, calculate the spearman r2 \n",
    "dca_encoding_weightsr2 = np.zeros(dim_vals.size)\n",
    "dca_encoding_svdr2 = np.zeros(dim_vals.size)\n",
    "pca_encoding_weightsr2 = np.zeros(dim_vals.size)\n",
    "pca_encoding_svdr2 = np.zeros(dim_vals.size)\n",
    "\n",
    "for i, dim in enumerate(dim_vals):\n",
    "    y_dca = []\n",
    "    y_pca = []\n",
    "    \n",
    "    # Decoding weights\n",
    "    x1 = [] \n",
    "    # Decoding SVD weights\n",
    "    x2 = []\n",
    "    \n",
    "    for data_file in data_files:\n",
    "        y_dca.extend(result[data_file]['kca_loadings'][i, :])\n",
    "        y_pca.extend(result[data_file]['pca_loadings'][i, :])\n",
    "        \n",
    "        x1.extend(calc_loadings(result[data_file]['encoding_weights'], 1))\n",
    "        x2.extend(calc_loadings(result[data_file]['encoding_svd'], 1))\n",
    "\n",
    "    dca_encoding_weightsr2[i] = scipy.stats.spearmanr(x1, y_dca)[0]\n",
    "    dca_encoding_svdr2[i] = scipy.stats.spearmanr(x2, y_dca)[0]\n",
    "    \n",
    "    pca_encoding_weightsr2[i] = scipy.stats.spearmanr(x1, y_pca)[0]\n",
    "    pca_encoding_svdr2[i] = scipy.stats.spearmanr(x2, y_pca)[0]"
   ]
  },
  {
   "cell_type": "code",
   "execution_count": 181,
   "id": "9dd1c767",
   "metadata": {},
   "outputs": [
    {
     "data": {
      "text/plain": [
       "[<matplotlib.lines.Line2D at 0x7f387abf5810>]"
      ]
     },
     "execution_count": 181,
     "metadata": {},
     "output_type": "execute_result"
    },
    {
     "data": {
      "image/png": "[encoded data removed]",
      "text/plain": [
       "<Figure size 432x288 with 1 Axes>"
      ]
     },
     "metadata": {
      "needs_background": "light"
     },
     "output_type": "display_data"
    }
   ],
   "source": [
    "plt.plot(dca_encoding_weightsr2)\n",
    "plt.plot(dca_encoding_svdr2)\n",
    "plt.plot(pca_encoding_weightsr2)\n",
    "plt.plot(pca_encoding_svdr2)"
   ]
  },
  {
   "cell_type": "code",
   "execution_count": 182,
   "id": "8b3f09c0",
   "metadata": {},
   "outputs": [],
   "source": [
    "# For each quantity, calculate the spearman r2 \n",
    "dca_suposweight_r2 = np.zeros(dim_vals.size)\n",
    "dca_suvelweight_r2 = np.zeros(dim_vals.size)\n",
    "pca_suposweight_r2 = np.zeros(dim_vals.size)\n",
    "pca_suvelweight_r2 = np.zeros(dim_vals.size)\n",
    "\n",
    "for i, dim in enumerate(dim_vals):\n",
    "    y_dca = []\n",
    "    y_pca = []\n",
    "    \n",
    "    # Decoding weights\n",
    "    x1 = [] \n",
    "    # Decoding SVD weights\n",
    "    x2 = []\n",
    "    \n",
    "    for data_file in data_files:\n",
    "        y_dca.extend(result[data_file]['kca_loadings'][i, :])\n",
    "        y_pca.extend(result[data_file]['pca_loadings'][i, :])\n",
    "        \n",
    "        x1.extend([np.linalg.norm(result[data_file]['su_decoding_weight'][idx][0:2, :])\n",
    "                   for idx in range(len(result[data_file]['su_decoding_weight']))])\n",
    "        x2.extend([np.linalg.norm(result[data_file]['su_decoding_weight'][idx][2:4, :])\n",
    "                   for idx in range(len(result[data_file]['su_decoding_weight']))])\n",
    "\n",
    "    dca_suposweight_r2[i] = scipy.stats.spearmanr(x1, y_dca)[0]\n",
    "    dca_suvelweight_r2[i] = scipy.stats.spearmanr(x2, y_dca)[0]\n",
    "    \n",
    "    pca_suposweight_r2[i] = scipy.stats.spearmanr(x1, y_pca)[0]\n",
    "    pca_suvelweight_r2[i] = scipy.stats.spearmanr(x2, y_pca)[0]"
   ]
  },
  {
   "cell_type": "code",
   "execution_count": 183,
   "id": "3b19819e",
   "metadata": {},
   "outputs": [
    {
     "data": {
      "text/plain": [
       "[<matplotlib.lines.Line2D at 0x7f38830def50>]"
      ]
     },
     "execution_count": 183,
     "metadata": {},
     "output_type": "execute_result"
    },
    {
     "data": {
      "image/png": "[encoded data removed]",
      "text/plain": [
       "<Figure size 432x288 with 1 Axes>"
      ]
     },
     "metadata": {
      "needs_background": "light"
     },
     "output_type": "display_data"
    }
   ],
   "source": [
    "plt.plot(dca_suposweight_r2)\n",
    "plt.plot(dca_suvelweight_r2)\n",
    "plt.plot(pca_suposweight_r2)\n",
    "plt.plot(pca_suvelweight_r2)"
   ]
  },
  {
   "cell_type": "code",
   "execution_count": 184,
   "id": "9e414d8e",
   "metadata": {},
   "outputs": [],
   "source": [
    "# For each quantity, calculate the spearman r2 \n",
    "dca_suencoding_r2 = np.zeros(dim_vals.size)\n",
    "pca_suencoding_r2 = np.zeros(dim_vals.size)\n",
    "\n",
    "for i, dim in enumerate(dim_vals):\n",
    "    y_dca = []\n",
    "    y_pca = []\n",
    "    \n",
    "    # Decoding weights\n",
    "    x1 = [] \n",
    "    # Decoding SVD weights\n",
    "    x2 = []\n",
    "    \n",
    "    for data_file in data_files:\n",
    "        y_dca.extend(result[data_file]['kca_loadings'][i, :])\n",
    "        y_pca.extend(result[data_file]['pca_loadings'][i, :])\n",
    "        \n",
    "        x1.extend([np.linalg.norm(result[data_file]['su_encoding_weight'][idx])\n",
    "                   for idx in range(len(result[data_file]['su_encoding_weight']))])\n",
    "\n",
    "    dca_suencoding_r2[i] = scipy.stats.spearmanr(x1, y_dca)[0]\n",
    "    pca_suencoding_r2[i] = scipy.stats.spearmanr(x1, y_pca)[0]"
   ]
  },
  {
   "cell_type": "code",
   "execution_count": 185,
   "id": "db53a007",
   "metadata": {},
   "outputs": [
    {
     "data": {
      "text/plain": [
       "[<matplotlib.lines.Line2D at 0x7f38831e31d0>]"
      ]
     },
     "execution_count": 185,
     "metadata": {},
     "output_type": "execute_result"
    },
    {
     "data": {
      "image/png": "[encoded data removed]",
      "text/plain": [
       "<Figure size 432x288 with 1 Axes>"
      ]
     },
     "metadata": {
      "needs_background": "light"
     },
     "output_type": "display_data"
    }
   ],
   "source": [
    "plt.plot(dca_suencoding_r2)\n",
    "plt.plot(pca_suencoding_r2)"
   ]
  },
  {
   "cell_type": "code",
   "execution_count": 22,
   "id": "e9f3e8bf",
   "metadata": {},
   "outputs": [],
   "source": [
    "from tqdm import tqdm\n",
    "from neurosim.models.ssr import StateSpaceRealization as SSR\n",
    "from dca_research.kca import calc_mmse_from_cross_cov_mats\n",
    "from dca.cov_util import calc_cross_cov_mats_from_data\n",
    "from utils import apply_df_filters\n",
    "import torch"
   ]
  },
  {
   "cell_type": "code",
   "execution_count": 19,
   "id": "44d0f4a8",
   "metadata": {},
   "outputs": [],
   "source": [
    "with open('../v2/sabes_var_df.dat', 'rb') as f:\n",
    "    var_df = pickle.load(f)"
   ]
  },
  {
   "cell_type": "code",
   "execution_count": 20,
   "id": "fc9e8ccb",
   "metadata": {},
   "outputs": [],
   "source": [
    "data_files = np.unique(var_df['data_file'].values)"
   ]
  },
  {
   "cell_type": "code",
   "execution_count": 104,
   "id": "097b08f2",
   "metadata": {},
   "outputs": [
    {
     "name": "stderr",
     "output_type": "stream",
     "text": [
      "28it [04:09,  8.92s/it]\n"
     ]
    }
   ],
   "source": [
    "datpath = '/media/akumar/Secondary/data/sabes'\n",
    "ammse = {}\n",
    "variance = {}\n",
    "for i, data_file in tqdm(enumerate(data_files)):\n",
    "    \n",
    "    df = apply_df_filters(var_df, data_file=data_file, fold_idx=0)\n",
    "    dat = load_sabes('%s/%s' % (datpath, data_file), **df.iloc[0]['loader_args'])\n",
    "    x = np.squeeze(dat['spike_rates'])\n",
    "    \n",
    "    kfold = KFold(n_splits=5, shuffle=False)\n",
    "    split_idxs = list(kfold.split(x))\n",
    "    # Stick to first fold of the data\n",
    "    train_idxs, test_idxs = split_idxs[0]\n",
    "    \n",
    "    x = x[train_idxs]\n",
    "\n",
    "    \n",
    "    A = df.iloc[0]['A']\n",
    "    ssr = SSR(A, B=np.eye(A.shape[0]), C=np.eye(A.shape[0]))\n",
    "\n",
    "    variance[data_file] = {}\n",
    "    variance[data_file]['data'] = np.var(x, axis=0)\n",
    "    variance[data_file]['model'] = np.diag(df.iloc[0]['W'])\n",
    "    \n",
    "    # Do NOT Normalize\n",
    "    #x = StandardScaler().fit_transform(np.squeeze(dat['spike_rates']))\n",
    "    cross_cov_mats = calc_cross_cov_mats_from_data(x, T=6)\n",
    "    ammse[data_file] = {}\n",
    "    ammse[data_file]['dataT1'] = []\n",
    "    ammse[data_file]['dataT3'] = []\n",
    "    ammse[data_file]['dataT5'] = []\n",
    "    ammse[data_file]['modelT1'] = []\n",
    "    ammse[data_file]['modelT3'] = []\n",
    "    ammse[data_file]['modelT5'] = []\n",
    "\n",
    "    cross_cov_mats = torch.tensor(cross_cov_mats)\n",
    "    for j in range(A.shape[0]):\n",
    "\n",
    "        C = np.zeros((1, A.shape[0]))\n",
    "        C[0, j] = 1\n",
    "\n",
    "        \n",
    "        ammse[data_file]['dataT5'].append(calc_mmse_from_cross_cov_mats(torch.transpose(cross_cov_mats, 1, 2), \n",
    "                                                                        torch.tensor(C.T),\n",
    "                                                                        project_mmse=True).detach().cpu().numpy())                \n",
    "        ammse[data_file]['dataT3'].append(calc_mmse_from_cross_cov_mats(torch.transpose(cross_cov_mats[0:4], 1, 2), \n",
    "                                                                        torch.tensor(C.T),\n",
    "                                                                        project_mmse=True).detach().cpu().numpy())                \n",
    "        ammse[data_file]['dataT1'].append(calc_mmse_from_cross_cov_mats(torch.transpose(cross_cov_mats[0:2], 1, 2), \n",
    "                                                                        torch.tensor(C.T),\n",
    "                                                                        project_mmse=True).detach().cpu().numpy())                \n",
    "    \n",
    "        c, cf, cfp = ssr.acausal_mmse_cov(5, proj=C)\n",
    "        ammse[data_file]['modelT5'].append(np.trace(C @ c @ C.T - C @ cfp.T @ np.linalg.inv(cf) @ cfp @ C.T))\n",
    "\n",
    "        c, cf, cfp = ssr.acausal_mmse_cov(3, proj=C)\n",
    "        ammse[data_file]['modelT3'].append(np.trace(C @ c @ C.T - C @ cfp.T @ np.linalg.inv(cf) @ cfp @ C.T))\n",
    "\n",
    "        c, cf, cfp = ssr.acausal_mmse_cov(1, proj=C)\n",
    "        ammse[data_file]['modelT1'].append(np.trace(C @ c @ C.T - C @ cfp.T @ np.linalg.inv(cf) @ cfp @ C.T))"
   ]
  },
  {
   "cell_type": "code",
   "execution_count": 189,
   "id": "fe83bef3",
   "metadata": {},
   "outputs": [],
   "source": [
    "# (empirical su variance)\n",
    "x1 = []\n",
    "# (model su variance)\n",
    "x2 =[]\n",
    "# (emprirical T1)\n",
    "x3 = []\n",
    "# (emprirical T3)\n",
    "x4 = []\n",
    "# (emprirical T5)\n",
    "x5 = []\n",
    "# (model T1)\n",
    "x6 = []\n",
    "# (model T3)\n",
    "x7 = []\n",
    "# (model T5)\n",
    "x8 = []\n",
    "\n",
    "# pca loadings\n",
    "y1 = []\n",
    "# kca loadings \n",
    "y2 = []\n",
    "\n",
    "fold_idx = 0\n",
    "for i, data_file in enumerate(data_files):\n",
    "\n",
    "    KCA_df = apply_df_filters(sabes_kca_df, data_file=data_file, fold_idx=fold_idx, dim=2)\n",
    "    pca_df = apply_df_filters(sabes_kca_df, data_file=data_file, fit_all=True, fold_idx=fold_idx)\n",
    "    \n",
    "    x1.extend(variance[data_file]['data'])\n",
    "    x2.extend(variance[data_file]['model'])\n",
    "\n",
    "    x3.extend(ammse[data_file]['dataT1'])\n",
    "    x4.extend(ammse[data_file]['dataT3'])\n",
    "    x5.extend(ammse[data_file]['dataT5'])\n",
    "    \n",
    "    x6.extend(ammse[data_file]['modelT1'])\n",
    "    x7.extend(ammse[data_file]['modelT3'])\n",
    "    x8.extend(ammse[data_file]['modelT5'])\n",
    "    \n",
    "    y1.extend(calc_loadings(pca_df.iloc[0]['PCA']['coef'][:, 0:2]))\n",
    "    y2.extend(calc_loadings(KCA_df.iloc[0]['KCA']['coef'])) \n",
    "\n",
    "    \n",
    "r = np.zeros((8, 2))\n",
    "for i, x_ in enumerate([x1, x2, x3, x4, x5, x6, x7, x8]):\n",
    "    for j, y_ in enumerate([y1, y2]):\n",
    "        r[i, j] = scipy.stats.spearmanr(x_, y_)[0]    "
   ]
  },
  {
   "cell_type": "code",
   "execution_count": 70,
   "id": "96c2b1a6",
   "metadata": {},
   "outputs": [],
   "source": [
    "from dca_research.kca import KalmanComponentsAnalysis as KCA"
   ]
  },
  {
   "cell_type": "code",
   "execution_count": 71,
   "id": "ef9c632f",
   "metadata": {},
   "outputs": [],
   "source": [
    "from sklearn.decomposition import PCA"
   ]
  },
  {
   "cell_type": "code",
   "execution_count": 123,
   "id": "0b051244",
   "metadata": {},
   "outputs": [
    {
     "name": "stderr",
     "output_type": "stream",
     "text": [
      "28it [03:57,  8.50s/it]\n"
     ]
    }
   ],
   "source": [
    "# Evaluate self consistency with model subspaces\n",
    "reps = 10\n",
    "\n",
    "spearmanr_kca = []\n",
    "\n",
    "for i, data_file in tqdm(enumerate(data_files)):\n",
    "    \n",
    "    df = apply_df_filters(var_df, data_file=data_file, fold_idx=0)\n",
    "    dat = load_sabes('%s/%s' % (datpath, data_file), **df.iloc[0]['loader_args'])\n",
    "    x = np.squeeze(dat['spike_rates'])\n",
    "    \n",
    "    kfold = KFold(n_splits=5, shuffle=False)\n",
    "    split_idxs = list(kfold.split(x))\n",
    "    # Stick to first fold of the data\n",
    "    train_idxs, test_idxs = split_idxs[0]\n",
    "    \n",
    "    x = x[train_idxs]\n",
    "\n",
    "    \n",
    "    A = df.iloc[0]['A']\n",
    "    ssr = SSR(A, B=np.eye(A.shape[0]), C=np.eye(A.shape[0]))\n",
    "\n",
    "    eig, U = np.linalg.eig(ssr.P)\n",
    "    eigorder = np.argsort(eig)\n",
    "    U = U[:, eigorder]\n",
    "        \n",
    "    # Data derived\n",
    "    \n",
    "    kcamodel = KCA(d=2, T=1, causal_weights=(0, 1), project_mmse=True)\n",
    "    kcamodel.estimate_data_statistics(x)\n",
    "\n",
    "    empirical_loadings = np.zeros((reps, A.shape[0]))\n",
    "    for j in range(reps):\n",
    "        coef_, _ = kcamodel._fit_projection()\n",
    "        empirical_loadings[j, :] = calc_loadings(coef_)\n",
    "    \n",
    "    # Model derived\n",
    "    model_loadings = np.zeros((reps, A.shape[0]))\n",
    "    kcamodel = KCA(d=2, T=1, causal_weights=(0, 1), project_mmse=True)\n",
    "    kcamodel.cross_covs = ssr.autocorrelation(5)\n",
    "    for j in range(reps):\n",
    "        coef_, _ = kcamodel._fit_projection()\n",
    "        model_loadings[j, :] = calc_loadings(coef_)\n",
    "        \n",
    "    sr = np.zeros((reps, reps))\n",
    "    for j in range(reps):\n",
    "        for k in range(reps):\n",
    "            sr[j, k] = scipy.stats.spearmanr(empirical_loadings[j, :], model_loadings[k, :])[0]\n",
    "    spearmanr_kca.append(sr)"
   ]
  },
  {
   "cell_type": "code",
   "execution_count": 1,
   "id": "29294ae1",
   "metadata": {},
   "outputs": [],
   "source": [
    "# Question 1: Do the backwards models lead to the same autocorrelation of y?"
   ]
  },
  {
   "cell_type": "code",
   "execution_count": 58,
   "id": "9e60810e",
   "metadata": {},
   "outputs": [],
   "source": [
    "df = apply_df_filters(var_df, data_file=data_files[0], fold_idx=0)\n",
    "A = df.iloc[0]['A']\n",
    "forward_ssr = SSR(A=A, B=np.eye(A.shape[0]), C=np.eye(A.shape[0]))\n",
    "forward_ssr.solve_reverse_system2()\n",
    "reversed_ssr = SSR(A=A.T, B=forward_ssr.Br, C=forward_ssr.Cr, D=forward_ssr.Dr)"
   ]
  },
  {
   "cell_type": "code",
   "execution_count": 60,
   "id": "9f4bf1a2",
   "metadata": {},
   "outputs": [],
   "source": [
    "ccm1 = forward_ssr.autocorrelation(10)\n",
    "ccm2 = reversed_ssr.autocorrelation(10)"
   ]
  },
  {
   "cell_type": "code",
   "execution_count": 62,
   "id": "4f6e6b5b",
   "metadata": {},
   "outputs": [
    {
     "data": {
      "text/plain": [
       "array([[ 9.67467474e-02, -3.38732332e-02, -2.06589217e-02, ...,\n",
       "         2.05337203e-02,  2.16404957e-02,  1.60765246e-02],\n",
       "       [-5.02482550e-03,  1.58830002e-03, -1.28847018e-02, ...,\n",
       "         1.04198233e-03,  7.75034878e-03,  1.53275664e-02],\n",
       "       [-1.58022291e-02, -1.94967360e-02,  4.39269441e-03, ...,\n",
       "        -8.09573349e-04,  1.95116932e-03,  2.01707337e-03],\n",
       "       ...,\n",
       "       [ 4.40868018e-02,  8.02092977e-04,  4.04342091e-05, ...,\n",
       "         1.15733519e-02,  6.71215821e-03,  2.22819192e-02],\n",
       "       [ 3.82905412e-02,  5.78365724e-04,  2.05268143e-03, ...,\n",
       "         6.52009032e-03,  9.01743976e-03,  6.18065818e-03],\n",
       "       [ 1.66444230e-02,  5.13696108e-04,  1.47368096e-03, ...,\n",
       "         9.09990882e-03,  5.45543983e-03,  6.02429770e-03]])"
      ]
     },
     "execution_count": 62,
     "metadata": {},
     "output_type": "execute_result"
    }
   ],
   "source": [
    "ccm1[1]"
   ]
  },
  {
   "cell_type": "code",
   "execution_count": 65,
   "id": "72cfe53e",
   "metadata": {},
   "outputs": [
    {
     "data": {
      "text/plain": [
       "array([[ 8.96118236e-01, -1.24178723e-03,  2.42689189e-03, ...,\n",
       "        -1.52871397e-02, -9.40989072e-03, -4.41781050e-03],\n",
       "       [-1.24178723e-03,  9.86631379e-01,  6.79142130e-04, ...,\n",
       "        -5.68443753e-03, -2.96889589e-03, -4.03013272e-04],\n",
       "       [ 2.42689189e-03,  6.79142130e-04,  9.77529044e-01, ...,\n",
       "         2.55450188e-03, -1.73438727e-03, -1.48155717e-03],\n",
       "       ...,\n",
       "       [-1.52871397e-02, -5.68443753e-03,  2.55450188e-03, ...,\n",
       "         9.71965045e-01, -1.25922293e-03, -3.16054401e-03],\n",
       "       [-9.40989072e-03, -2.96889589e-03, -1.73438727e-03, ...,\n",
       "        -1.25922293e-03,  9.81934964e-01, -1.11081870e-03],\n",
       "       [-4.41781050e-03, -4.03013272e-04, -1.48155717e-03, ...,\n",
       "        -3.16054401e-03, -1.11081870e-03,  9.92103229e-01]])"
      ]
     },
     "execution_count": 65,
     "metadata": {},
     "output_type": "execute_result"
    }
   ],
   "source": [
    "np.allclose(np.linalg.inv(forward_ssr.P"
   ]
  },
  {
   "cell_type": "code",
   "execution_count": 64,
   "id": "2566709b",
   "metadata": {},
   "outputs": [
    {
     "data": {
      "text/plain": [
       "array([[ 8.51911590e-01, -5.69824185e-03, -4.88816471e-03, ...,\n",
       "        -2.29248722e-02, -8.98847848e-03, -5.87527952e-03],\n",
       "       [-5.69824185e-03,  1.00590673e+00,  1.42191614e-03, ...,\n",
       "        -1.04415083e-02, -2.12137999e-03, -6.20518923e-04],\n",
       "       [-4.88816471e-03,  1.42191614e-03,  9.94634296e-01, ...,\n",
       "         1.44815215e-03, -4.42344456e-03, -6.57670652e-04],\n",
       "       ...,\n",
       "       [-2.29248722e-02, -1.04415083e-02,  1.44815215e-03, ...,\n",
       "         9.55723112e-01, -1.58939173e-03, -3.40541265e-03],\n",
       "       [-8.98847848e-03, -2.12137999e-03, -4.42344456e-03, ...,\n",
       "        -1.58939173e-03,  9.79804613e-01, -1.27209959e-03],\n",
       "       [-5.87527952e-03, -6.20518923e-04, -6.57670652e-04, ...,\n",
       "        -3.40541265e-03, -1.27209959e-03,  1.00119524e+00]])"
      ]
     },
     "execution_count": 64,
     "metadata": {},
     "output_type": "execute_result"
    }
   ],
   "source": [
    "reversed_ssr.P"
   ]
  },
  {
   "cell_type": "code",
   "execution_count": 63,
   "id": "8c3959c5",
   "metadata": {},
   "outputs": [
    {
     "data": {
      "text/plain": [
       "array([[ 5.54141820e-02, -8.00472848e-03, -1.72706557e-02, ...,\n",
       "         3.23657071e-02,  3.07012510e-02,  9.57740920e-03],\n",
       "       [-2.47654659e-02,  1.61865308e-03, -1.76783017e-02, ...,\n",
       "         3.06944364e-03,  3.36441552e-04,  1.46539927e-03],\n",
       "       [-1.90838845e-02, -1.38821628e-02,  4.27126060e-03, ...,\n",
       "         2.38558874e-03,  1.12455642e-03,  1.63582837e-03],\n",
       "       ...,\n",
       "       [ 1.31272633e-02, -7.61604234e-05, -3.63315960e-04, ...,\n",
       "         5.94661426e-03,  3.47255035e-03,  6.71642189e-03],\n",
       "       [ 1.21749289e-02,  6.70203855e-03,  1.49898397e-03, ...,\n",
       "         4.72489434e-03,  5.18491226e-03,  2.83030673e-03],\n",
       "       [ 8.82090243e-03,  1.54077888e-02,  1.55785856e-03, ...,\n",
       "         1.62584048e-02,  4.42565545e-03,  3.78077312e-03]])"
      ]
     },
     "execution_count": 63,
     "metadata": {},
     "output_type": "execute_result"
    }
   ],
   "source": [
    "ccm2[1]"
   ]
  },
  {
   "cell_type": "code",
   "execution_count": 76,
   "id": "400b0695",
   "metadata": {},
   "outputs": [
    {
     "name": "stderr",
     "output_type": "stream",
     "text": [
      "\r",
      "0it [00:00, ?it/s]"
     ]
    },
    {
     "name": "stdout",
     "output_type": "stream",
     "text": [
      "Warning, this solution may not be consistent with decorrelated observational and process noise\n"
     ]
    },
    {
     "name": "stderr",
     "output_type": "stream",
     "text": [
      "\r",
      "1it [00:17, 17.65s/it]"
     ]
    },
    {
     "name": "stdout",
     "output_type": "stream",
     "text": [
      "Warning, this solution may not be consistent with decorrelated observational and process noise\n"
     ]
    },
    {
     "name": "stderr",
     "output_type": "stream",
     "text": [
      "\r",
      "2it [00:41, 21.45s/it]"
     ]
    },
    {
     "name": "stdout",
     "output_type": "stream",
     "text": [
      "Warning, this solution may not be consistent with decorrelated observational and process noise\n"
     ]
    },
    {
     "name": "stderr",
     "output_type": "stream",
     "text": [
      "\r",
      "3it [00:47, 14.24s/it]"
     ]
    },
    {
     "name": "stdout",
     "output_type": "stream",
     "text": [
      "Warning, this solution may not be consistent with decorrelated observational and process noise\n"
     ]
    },
    {
     "name": "stderr",
     "output_type": "stream",
     "text": [
      "\r",
      "4it [01:19, 21.26s/it]"
     ]
    },
    {
     "name": "stdout",
     "output_type": "stream",
     "text": [
      "Warning, this solution may not be consistent with decorrelated observational and process noise\n"
     ]
    },
    {
     "name": "stderr",
     "output_type": "stream",
     "text": [
      "\r",
      "5it [01:33, 18.83s/it]"
     ]
    },
    {
     "name": "stdout",
     "output_type": "stream",
     "text": [
      "Warning, this solution may not be consistent with decorrelated observational and process noise\n"
     ]
    },
    {
     "name": "stderr",
     "output_type": "stream",
     "text": [
      "\r",
      "6it [01:38, 14.03s/it]"
     ]
    },
    {
     "name": "stdout",
     "output_type": "stream",
     "text": [
      "Warning, this solution may not be consistent with decorrelated observational and process noise\n"
     ]
    },
    {
     "name": "stderr",
     "output_type": "stream",
     "text": [
      "\r",
      "7it [01:43, 10.89s/it]"
     ]
    },
    {
     "name": "stdout",
     "output_type": "stream",
     "text": [
      "Warning, this solution may not be consistent with decorrelated observational and process noise\n"
     ]
    },
    {
     "name": "stderr",
     "output_type": "stream",
     "text": [
      "\r",
      "8it [01:48,  9.16s/it]"
     ]
    },
    {
     "name": "stdout",
     "output_type": "stream",
     "text": [
      "Warning, this solution may not be consistent with decorrelated observational and process noise\n"
     ]
    },
    {
     "name": "stderr",
     "output_type": "stream",
     "text": [
      "\r",
      "9it [01:53,  7.85s/it]"
     ]
    },
    {
     "name": "stdout",
     "output_type": "stream",
     "text": [
      "Warning, this solution may not be consistent with decorrelated observational and process noise\n"
     ]
    },
    {
     "name": "stderr",
     "output_type": "stream",
     "text": [
      "\r",
      "10it [01:57,  6.79s/it]"
     ]
    },
    {
     "name": "stdout",
     "output_type": "stream",
     "text": [
      "Warning, this solution may not be consistent with decorrelated observational and process noise\n"
     ]
    },
    {
     "name": "stderr",
     "output_type": "stream",
     "text": [
      "\r",
      "11it [02:03,  6.54s/it]"
     ]
    },
    {
     "name": "stdout",
     "output_type": "stream",
     "text": [
      "Warning, this solution may not be consistent with decorrelated observational and process noise\n"
     ]
    },
    {
     "name": "stderr",
     "output_type": "stream",
     "text": [
      "\r",
      "12it [02:09,  6.23s/it]"
     ]
    },
    {
     "name": "stdout",
     "output_type": "stream",
     "text": [
      "Warning, this solution may not be consistent with decorrelated observational and process noise\n"
     ]
    },
    {
     "name": "stderr",
     "output_type": "stream",
     "text": [
      "\r",
      "13it [02:16,  6.56s/it]"
     ]
    },
    {
     "name": "stdout",
     "output_type": "stream",
     "text": [
      "Warning, this solution may not be consistent with decorrelated observational and process noise\n"
     ]
    },
    {
     "name": "stderr",
     "output_type": "stream",
     "text": [
      "\r",
      "14it [02:22,  6.36s/it]"
     ]
    },
    {
     "name": "stdout",
     "output_type": "stream",
     "text": [
      "Warning, this solution may not be consistent with decorrelated observational and process noise\n"
     ]
    },
    {
     "name": "stderr",
     "output_type": "stream",
     "text": [
      "\r",
      "15it [02:28,  6.22s/it]"
     ]
    },
    {
     "name": "stdout",
     "output_type": "stream",
     "text": [
      "Warning, this solution may not be consistent with decorrelated observational and process noise\n"
     ]
    },
    {
     "name": "stderr",
     "output_type": "stream",
     "text": [
      "\r",
      "16it [02:34,  6.06s/it]"
     ]
    },
    {
     "name": "stdout",
     "output_type": "stream",
     "text": [
      "Warning, this solution may not be consistent with decorrelated observational and process noise\n"
     ]
    },
    {
     "name": "stderr",
     "output_type": "stream",
     "text": [
      "\r",
      "17it [02:39,  5.88s/it]"
     ]
    },
    {
     "name": "stdout",
     "output_type": "stream",
     "text": [
      "Warning, this solution may not be consistent with decorrelated observational and process noise\n"
     ]
    },
    {
     "name": "stderr",
     "output_type": "stream",
     "text": [
      "\r",
      "18it [02:45,  5.81s/it]"
     ]
    },
    {
     "name": "stdout",
     "output_type": "stream",
     "text": [
      "Warning, this solution may not be consistent with decorrelated observational and process noise\n"
     ]
    },
    {
     "name": "stderr",
     "output_type": "stream",
     "text": [
      "\r",
      "19it [02:51,  5.78s/it]"
     ]
    },
    {
     "name": "stdout",
     "output_type": "stream",
     "text": [
      "Warning, this solution may not be consistent with decorrelated observational and process noise\n"
     ]
    },
    {
     "name": "stderr",
     "output_type": "stream",
     "text": [
      "\r",
      "20it [02:57,  5.98s/it]"
     ]
    },
    {
     "name": "stdout",
     "output_type": "stream",
     "text": [
      "Warning, this solution may not be consistent with decorrelated observational and process noise\n"
     ]
    },
    {
     "name": "stderr",
     "output_type": "stream",
     "text": [
      "\r",
      "21it [03:05,  6.55s/it]"
     ]
    },
    {
     "name": "stdout",
     "output_type": "stream",
     "text": [
      "Warning, this solution may not be consistent with decorrelated observational and process noise\n"
     ]
    },
    {
     "name": "stderr",
     "output_type": "stream",
     "text": [
      "\r",
      "22it [03:10,  6.17s/it]"
     ]
    },
    {
     "name": "stdout",
     "output_type": "stream",
     "text": [
      "Warning, this solution may not be consistent with decorrelated observational and process noise\n"
     ]
    },
    {
     "name": "stderr",
     "output_type": "stream",
     "text": [
      "\r",
      "23it [03:17,  6.23s/it]"
     ]
    },
    {
     "name": "stdout",
     "output_type": "stream",
     "text": [
      "Warning, this solution may not be consistent with decorrelated observational and process noise\n"
     ]
    },
    {
     "name": "stderr",
     "output_type": "stream",
     "text": [
      "\r",
      "24it [03:23,  6.27s/it]"
     ]
    },
    {
     "name": "stdout",
     "output_type": "stream",
     "text": [
      "Warning, this solution may not be consistent with decorrelated observational and process noise\n"
     ]
    },
    {
     "name": "stderr",
     "output_type": "stream",
     "text": [
      "\r",
      "25it [03:30,  6.46s/it]"
     ]
    },
    {
     "name": "stdout",
     "output_type": "stream",
     "text": [
      "Warning, this solution may not be consistent with decorrelated observational and process noise\n"
     ]
    },
    {
     "name": "stderr",
     "output_type": "stream",
     "text": [
      "\r",
      "26it [03:36,  6.50s/it]"
     ]
    },
    {
     "name": "stdout",
     "output_type": "stream",
     "text": [
      "Warning, this solution may not be consistent with decorrelated observational and process noise\n"
     ]
    },
    {
     "name": "stderr",
     "output_type": "stream",
     "text": [
      "\r",
      "27it [03:44,  6.92s/it]"
     ]
    },
    {
     "name": "stdout",
     "output_type": "stream",
     "text": [
      "Warning, this solution may not be consistent with decorrelated observational and process noise\n"
     ]
    },
    {
     "name": "stderr",
     "output_type": "stream",
     "text": [
      "28it [03:53,  8.35s/it]\n"
     ]
    }
   ],
   "source": [
    "# Evaluate self consistency with model subspaces when the noises are decorrelated\n",
    "reps = 10\n",
    "\n",
    "spearmanr_kca = []\n",
    "subspace_angles = np.zeros((len(data_files), reps, reps, 2))\n",
    "subspace_angles_pca = np.zeros((len(data_files, reps, reps, 2)))\n",
    "for i, data_file in tqdm(enumerate(data_files)):\n",
    "    \n",
    "    df = apply_df_filters(var_df, data_file=data_file, fold_idx=0)\n",
    "    dat = load_sabes('%s/%s' % (data_path, data_file), **df.iloc[0]['loader_args'])\n",
    "    x = np.squeeze(dat['spike_rates'])\n",
    "    \n",
    "    kfold = KFold(n_splits=5, shuffle=False)\n",
    "    split_idxs = list(kfold.split(x))\n",
    "    # Stick to first fold of the data\n",
    "    train_idxs, test_idxs = split_idxs[0]\n",
    "    \n",
    "    x = x[train_idxs]\n",
    "\n",
    "    \n",
    "    A = df.iloc[0]['A']\n",
    "    forward_ssr = SSR(A=A, B=np.eye(A.shape[0]), C=np.eye(A.shape[0]))\n",
    "    forward_ssr.solve_reverse_system()\n",
    "    reversed_ssr = SSR(A=A.T, B=forward_ssr.Bbar, C=forward_ssr.Cbar, D=forward_ssr.Dbar)\n",
    "    \n",
    "#     eig, U = np.linalg.eig(ssr.P)\n",
    "#     eigorder = np.argsort(eig)\n",
    "#     U = U[:, eigorder]\n",
    "        \n",
    "    # Data derived\n",
    "    \n",
    "    kcamodel = KCA(d=2, T=1, causal_weights=(0, 1), project_mmse=True)\n",
    "    kcamodel.estimate_data_statistics(x)\n",
    "\n",
    "    empirical_loadings = np.zeros((reps, A.shape[0]))\n",
    "    empirical_coefs = []\n",
    "    for j in range(reps):\n",
    "        coef_, _ = kcamodel._fit_projection()\n",
    "        empirical_loadings[j, :] = calc_loadings(coef_)\n",
    "        empirical_coefs.append(coef_)\n",
    "        \n",
    "    # Model derived - forward time filtering on the reversed_ssr autocorrelation\n",
    "    model_loadings = np.zeros((reps, A.shape[0]))\n",
    "    kcamodel = KCA(d=2, T=1, causal_weights=(1, 0), project_mmse=True)\n",
    "    kcamodel.cross_covs = reversed_ssr.autocorrelation(5)\n",
    "    model_coefs = []\n",
    "    for j in range(reps):\n",
    "        coef_, _ = kcamodel._fit_projection()\n",
    "        model_loadings[j, :] = calc_loadings(coef_)\n",
    "        model_coefs.append(coef_)\n",
    "        \n",
    "    sr = np.zeros((reps, reps))\n",
    "    for j in range(reps):\n",
    "        for k in range(reps):\n",
    "            subspace_angles[i, j, k, :] = scipy.linalg.subspace_angles(empirical_coefs[j], model_coefs[k])\n",
    "            sr[j, k] = scipy.stats.spearmanr(empirical_loadings[j, :], model_loadings[k, :])[0]\n",
    "    spearmanr_kca.append(sr)"
   ]
  },
  {
   "cell_type": "code",
   "execution_count": 97,
   "id": "7a375c9d",
   "metadata": {},
   "outputs": [
    {
     "data": {
      "text/plain": [
       "0.7255482861290787"
      ]
     },
     "execution_count": 97,
     "metadata": {},
     "output_type": "execute_result"
    }
   ],
   "source": [
    "np.min(np.sum(subspace_angles[20], axis=-1))"
   ]
  },
  {
   "cell_type": "code",
   "execution_count": 192,
   "id": "5ebd674b",
   "metadata": {},
   "outputs": [],
   "source": [
    "loadingsW = []\n",
    "loadingsPCA = []\n",
    "for i, data_file in enumerate(data_files):\n",
    "\n",
    "#     # OLS\n",
    "#     df_ = apply_df_filters(dimreduc_df, dimreduc='OLS1', data_file=data_file, fold_idx=0)\n",
    "#     A = np.squeeze(df_.iloc[0]['coef'])\n",
    "#     W = scipy.linalg.solve_discrete_lyapunov(A, np.eye(A.shape[0]))    \n",
    "#     eig, U = np.linalg.eig(W)\n",
    "#     eigorder = np.argsort(np.abs(eig))[::-1]\n",
    "#     U = U[:, eigorder]\n",
    "#     loadingsW.extend(calc_loadings(U[:, 0:2], 1))\n",
    "    \n",
    "    # SCAD\n",
    "    df_ = apply_df_filters(var_df, fold_idx=0, data_file=data_file)\n",
    "    \n",
    "    W = df_.iloc[0]['W']\n",
    "    eig, U = np.linalg.eig(W)\n",
    "    eigorder = np.argsort(np.abs(eig))[::-1]\n",
    "    U = U[:, eigorder]\n",
    "    loadingsW.extend(calc_loadings(U[:, 0:2], 1))\n",
    "\n",
    "    # PCA\n",
    "    df_ = apply_df_filters(sabes_kca_df, fit_all=True, data_file=data_file, fold_idx=0)\n",
    "    V = df_.iloc[0]['PCA']['coef'][:, 0:2]\n",
    "    loadingsPCA.extend(calc_loadings(V, 1))\n"
   ]
  },
  {
   "cell_type": "code",
   "execution_count": 193,
   "id": "74d82c91",
   "metadata": {},
   "outputs": [],
   "source": [
    "spearmanr_pca = scipy.stats.spearmanr(loadingsW, loadingsPCA)[0]"
   ]
  },
  {
   "cell_type": "code",
   "execution_count": 194,
   "id": "c7303f9e",
   "metadata": {},
   "outputs": [
    {
     "data": {
      "text/plain": [
       "0.8902342221403486"
      ]
     },
     "execution_count": 194,
     "metadata": {},
     "output_type": "execute_result"
    }
   ],
   "source": [
    "np.mean([np.max(r) for r in spearmanr_kca])"
   ]
  },
  {
   "cell_type": "code",
   "execution_count": 134,
   "id": "77a550af",
   "metadata": {},
   "outputs": [],
   "source": [
    "# # Save\n",
    "# with open('sabes_su_correlations.dat', 'wb') as f:\n",
    "#     f.write(pickle.dumps(result))\n",
    "#     f.write(pickle.dumps(variance))\n",
    "#     f.write(pickle.dumps(ammse))\n",
    "#     # This is model self consistency\n",
    "#     f.write(pickle.dumps(spearmanr_kca))"
   ]
  },
  {
   "cell_type": "code",
   "execution_count": 172,
   "id": "9297a0cb",
   "metadata": {},
   "outputs": [],
   "source": [
    "# Save\n",
    "with open('sabes_su_correlations.dat', 'rb') as f:\n",
    "    result = pickle.load(f)\n",
    "    variance = pickle.load(f)\n",
    "    ammse = pickle.load(f)\n",
    "    spearmanr_kca = pickle.load(f)"
   ]
  },
  {
   "cell_type": "code",
   "execution_count": 137,
   "id": "273643b9",
   "metadata": {},
   "outputs": [
    {
     "data": {
      "text/plain": [
       "array([-0.0984717 ,  0.10648992, -0.11241712, -0.11775665, -0.11814682,\n",
       "        0.10601915,  0.10124447,  0.10088619])"
      ]
     },
     "execution_count": 137,
     "metadata": {},
     "output_type": "execute_result"
    }
   ],
   "source": [
    "r[:, 1]"
   ]
  },
  {
   "cell_type": "code",
   "execution_count": 195,
   "id": "e31d8d9a",
   "metadata": {},
   "outputs": [],
   "source": [
    "# Load the single neuron tuning results\n",
    "with open('sabes_tuning_correlation.dat', 'rb') as f:\n",
    "    cor_bins_coef_kca = pickle.load(f)\n",
    "    cor_bins_coef_pca = pickle.load(f)"
   ]
  },
  {
   "cell_type": "code",
   "execution_count": 220,
   "id": "1cb04e3e",
   "metadata": {},
   "outputs": [
    {
     "data": {
      "image/png": "[encoded data removed]",
      "text/plain": [
       "<Figure size 720x720 with 1 Axes>"
      ]
     },
     "metadata": {
      "needs_background": "light"
     },
     "output_type": "display_data"
    }
   ],
   "source": [
    "fig, ax = plt.subplots(figsize=(10, 10), )\n",
    "\n",
    "bars = ax.bar([0, 1, 2, 3, 4, 6, 7, 8, 9, 10], [r[0, 0], spearmanr_pca, np.mean(cor_bins_coef_pca[1]),\n",
    "                                         pca_decoding_weightsr2[3], pca_encoding_weightsr2[3],\n",
    "                                         r[3, 1], np.mean([np.max(r) for r in spearmanr_kca]),\n",
    "                                         np.mean(cor_bins_coef_kca[1]), kca_decoding_weightsr2[3],\n",
    "                                         kca_encoding_weightsr2[3]],\n",
    "              color=['r', 'r', 'r', 'r', 'r', 'k', 'k', 'k', 'k', 'k'], alpha=0.65)\n",
    "\n",
    "# Place numerical values above the bars\n",
    "for rect in bars: \n",
    "    if rect.get_height() > 0:\n",
    "        ax.text(rect.get_x() + rect.get_width()/2, rect.get_height() + 0.05, '%.2f' % rect.get_height(),\n",
    "                ha='center', va='bottom', fontsize=18)\n",
    "    else:\n",
    "        ax.text(rect.get_x() + rect.get_width()/2, 0.05, '%.2f' % rect.get_height(),\n",
    "                ha='center', va='bottom', fontsize=18)\n",
    "        \n",
    "ax.set_ylim([-0.26, 1.12])\n",
    "ax.set_xticks([0, 1, 2, 3, 4, 6, 7, 8, 9, 10])\n",
    "ax.set_xticklabels(['Single Unit Variance', 'Model Subspace', 'Single Unit Tuning',\n",
    "                    'Decoding Weight', 'Encoding Weight',\n",
    "                    'Single Unit Contr.', 'Model Subspace', 'Single Unit Tuning',\n",
    "                    'Decoding Weight', 'Encoding Weight'],\n",
    "                   rotation=45, fontsize=18, ha='right')\n",
    "ax.tick_params(axis='y', labelsize=18)\n",
    "ax.text(1, 1.05, 'PCA loadings', fontsize=18, ha='left', va='bottom')\n",
    "\n",
    "\n",
    "ax.annotate(\"\", xy=(0, 1.0), xytext=(4, 1.0), \n",
    "            xycoords='data', textcoords='data',\n",
    "            arrowprops=dict(arrowstyle='-', connectionstyle='bar,fraction=0.1'))\n",
    "\n",
    "ax.text(7, 1.05, 'KCA loadings', fontsize=18, ha='left', va='bottom')\n",
    "ax.annotate(\"\", xy=(6, 1.0), xytext=(10, 1.0), \n",
    "            xycoords='data', textcoords='data',\n",
    "            arrowprops=dict(arrowstyle='-', connectionstyle='bar,fraction=0.1'))\n",
    "\n",
    "ax.set_ylabel('Spearman Correlation', fontsize=20)\n",
    "ax.text(0.02, 1.02, 'A', transform=ax.transAxes,\n",
    "        fontsize=24, fontweight='bold', va='bottom')    \n",
    "\n",
    "fig.savefig('sabes_loadings_correlation.pdf', bbox_inches='tight', pad_inches=0)"
   ]
  },
  {
   "cell_type": "markdown",
   "id": "aec713f7",
   "metadata": {},
   "source": [
    "### Peanut"
   ]
  },
  {
   "cell_type": "code",
   "execution_count": 221,
   "id": "a4a685ad",
   "metadata": {},
   "outputs": [],
   "source": [
    "fpath = '/media/akumar/Secondary/data/peanut/data_dict_peanut_day14.obj'"
   ]
  },
  {
   "cell_type": "code",
   "execution_count": 222,
   "id": "aceb26bd",
   "metadata": {},
   "outputs": [],
   "source": [
    "epochs = np.unique(peanut_kca_df['epoch'].values)"
   ]
  },
  {
   "cell_type": "code",
   "execution_count": 228,
   "id": "815b6122",
   "metadata": {},
   "outputs": [
    {
     "name": "stderr",
     "output_type": "stream",
     "text": [
      "100%|██████████████████████████████████████████████████████████████████████████████████████████████████████████████████████████████████████████████████████████████████████████████████| 8/8 [00:34<00:00,  4.29s/it]\n"
     ]
    }
   ],
   "source": [
    "decoder_params = {'trainlag': 0, 'testlag': 0, 'decoding_window': 6}\n",
    "fold_idx = 1\n",
    "\n",
    "result = {}\n",
    "for epoch in tqdm(epochs):\n",
    "    \n",
    "    result[epoch] = {}\n",
    "    \n",
    "    KCA_df = apply_df_filters(peanut_kca_df, epoch=epoch, fold_idx=fold_idx)\n",
    "    pca_df = apply_df_filters(peanut_kca_df, epoch=epoch, fit_all=True, fold_idx=fold_idx)\n",
    "    \n",
    "    dat = load_peanut(fpath, epoch, spike_threshold=200, bin_width=KCA_df.iloc[0]['bin_width'], \n",
    "                      filter_fn='none')\n",
    "    \n",
    "    \n",
    "    X = np.squeeze(dat['spike_rates'])\n",
    "    Z = dat['behavior']\n",
    "    kfold = KFold(n_splits=5, shuffle=False)\n",
    "    next(kfold.split(X))\n",
    "    train_idxs, test_idxs = next(kfold.split(X))\n",
    "    ztrain = Z[train_idxs, :]\n",
    "    ztest = Z[test_idxs, :]\n",
    "\n",
    "    # Population level decoding/encoding - use the coefficient in the linear fit\n",
    "    # Record both the weights in the coefficient but also the loadings onto the SVD\n",
    "\n",
    "    xtrain = X[train_idxs, :]\n",
    "    xtest = X[test_idxs, :]\n",
    "    \n",
    "    _, _, _, decodingregressor = lr_decoder(xtest, xtrain, ztest, ztrain, **decoder_params)\n",
    "    _, encodingregressor = lr_encoder(xtest, xtrain, ztest, ztrain, **decoder_params)\n",
    "\n",
    "\n",
    "    result[epoch]['decoding_weights'] = decodingregressor.coef_\n",
    "    result[epoch]['encoding_weights'] = encodingregressor.coef_\n",
    "    \n",
    "    u1, s1, vh1 = np.linalg.svd(decodingregressor.coef_[0:1, :], full_matrices=False)\n",
    "    u4, s4, vh4 = np.linalg.svd(encodingregressor.coef_, full_matrices=False)\n",
    "    \n",
    "    result[epoch]['decoding_pos_svd'] = vh1\n",
    "    result[epoch]['encoding_svd'] = u4\n",
    "    \n",
    "    r2_pos_decoding = []\n",
    "    r2_encoding = []\n",
    "    \n",
    "    decoding_weights = []\n",
    "    encoding_weights = []\n",
    "    \n",
    "    decoding_weights_svd = []\n",
    "    encoding_weights_svd = []\n",
    "    \n",
    "    \n",
    "    for neu_idx in range(X.shape[1]):           #Fit all neurons one by one\n",
    "        \n",
    "        xtrain = X[train_idxs, neu_idx][:, np.newaxis]\n",
    "        xtest = X[test_idxs, neu_idx][:, np.newaxis]\n",
    "        # Decoding\n",
    "        r2_pos, _, _, dr = lr_decoder(xtest, xtrain, ztest, ztrain, **decoder_params)\n",
    "        r2_pos_decoding.append(r2_pos)        \n",
    "        decoding_weights.append(dr.coef_)\n",
    "        \n",
    "        # Encoding\n",
    "        r2_encoding_, er = lr_encoder(xtest, xtrain, ztest, ztrain, **decoder_params)\n",
    "        r2_encoding.append(r2_encoding_)\n",
    "        encoding_weights.append(er.coef_)        \n",
    "        \n",
    "    result[epoch]['su_r2_pos_decoding'] = r2_pos_decoding\n",
    "    result[epoch]['su_r2_encoding'] = r2_encoding\n",
    "    result[epoch]['su_decoding_weight'] = decoding_weights\n",
    "    result[epoch]['su_encoding_weight'] = encoding_weights        \n",
    "    \n",
    "    dim_vals = np.unique(KCA_df['dim'].values)\n",
    "    kca_loadings = np.zeros((dim_vals.size, X.shape[1]))\n",
    "    pca_loadings = np.zeros((dim_vals.size, X.shape[1]))\n",
    "    \n",
    "    for i, dim_ in enumerate(dim_vals):\n",
    "        kca_df_ = KCA_df.loc[KCA_df['dim'] == dim_]\n",
    "        kca_loadings[i, :] = calc_loadings(kca_df_.iloc[0]['KCA']['coef'])\n",
    "        pca_loadings[i, :] = calc_loadings(pca_df.iloc[0]['PCA']['coef'][:, 0:dim_])\n",
    "    \n",
    "    result[epoch]['kca_loadings'] = kca_loadings\n",
    "    result[epoch]['pca_loadings'] = pca_loadings"
   ]
  },
  {
   "cell_type": "code",
   "execution_count": 229,
   "id": "8fbdba32",
   "metadata": {},
   "outputs": [],
   "source": [
    "# For each quantity, calculate the spearman r2 \n",
    "kca_decoding_weightsr2 = np.zeros(dim_vals.size)\n",
    "kca_decoding_svdr2 = np.zeros(dim_vals.size)\n",
    "pca_decoding_weightsr2 = np.zeros(dim_vals.size)\n",
    "pca_decoding_svdr2 = np.zeros(dim_vals.size)\n",
    "\n",
    "for i, dim in enumerate(dim_vals):\n",
    "    y_kca = []\n",
    "    y_pca = []\n",
    "    \n",
    "    # Decoding weights\n",
    "    x1 = [] \n",
    "    # Decoding SVD weights\n",
    "    x2 = []\n",
    "    \n",
    "    for epoch in epochs:\n",
    "        y_kca.extend(result[epoch]['kca_loadings'][i, :])\n",
    "        y_pca.extend(result[epoch]['pca_loadings'][i, :])\n",
    "        \n",
    "        x1.extend(calc_loadings(result[epoch]['decoding_weights'][0, :][np.newaxis, :].T, 6))\n",
    "        x2.extend(calc_loadings(result[epoch]['decoding_pos_svd'].T, 6))\n",
    "\n",
    "    kca_decoding_weightsr2[i] = scipy.stats.spearmanr(x1, y_kca)[0]\n",
    "    kca_decoding_svdr2[i] = scipy.stats.spearmanr(x2, y_kca)[0]\n",
    "    \n",
    "    pca_decoding_weightsr2[i] = scipy.stats.spearmanr(x1, y_pca)[0]\n",
    "    pca_decoding_svdr2[i] = scipy.stats.spearmanr(x2, y_pca)[0]"
   ]
  },
  {
   "cell_type": "code",
   "execution_count": 230,
   "id": "5abfef37",
   "metadata": {},
   "outputs": [
    {
     "data": {
      "text/plain": [
       "[<matplotlib.lines.Line2D at 0x7f3881f37bd0>]"
      ]
     },
     "execution_count": 230,
     "metadata": {},
     "output_type": "execute_result"
    },
    {
     "data": {
      "image/png": "[encoded data removed]",
      "text/plain": [
       "<Figure size 432x288 with 1 Axes>"
      ]
     },
     "metadata": {
      "needs_background": "light"
     },
     "output_type": "display_data"
    }
   ],
   "source": [
    "plt.plot(kca_decoding_weightsr2)\n",
    "plt.plot(pca_decoding_weightsr2)"
   ]
  },
  {
   "cell_type": "code",
   "execution_count": 231,
   "id": "55ad82c7",
   "metadata": {},
   "outputs": [],
   "source": [
    "# For each quantity, calculate the spearman r2 \n",
    "kca_encoding_weightsr2 = np.zeros(dim_vals.size)\n",
    "kca_encoding_svdr2 = np.zeros(dim_vals.size)\n",
    "pca_encoding_weightsr2 = np.zeros(dim_vals.size)\n",
    "pca_encoding_svdr2 = np.zeros(dim_vals.size)\n",
    "\n",
    "for i, dim in enumerate(dim_vals):\n",
    "    y_kca = []\n",
    "    y_pca = []\n",
    "    \n",
    "    # Decoding weights\n",
    "    x1 = [] \n",
    "    # Decoding SVD weights\n",
    "    x2 = []\n",
    "    \n",
    "    for epoch in epochs:\n",
    "        y_kca.extend(result[epoch]['kca_loadings'][i, :])\n",
    "        y_pca.extend(result[epoch]['pca_loadings'][i, :])\n",
    "        \n",
    "        x1.extend(calc_loadings(result[epoch]['encoding_weights'], 1))\n",
    "        x2.extend(calc_loadings(result[epoch]['encoding_svd'], 1))\n",
    "    \n",
    "    kca_encoding_weightsr2[i] = scipy.stats.spearmanr(x1, y_kca)[0]\n",
    "    kca_encoding_svdr2[i] = scipy.stats.spearmanr(x2, y_kca)[0]\n",
    "    \n",
    "    pca_encoding_weightsr2[i] = scipy.stats.spearmanr(x1, y_pca)[0]\n",
    "    pca_encoding_svdr2[i] = scipy.stats.spearmanr(x2, y_pca)[0]"
   ]
  },
  {
   "cell_type": "code",
   "execution_count": 232,
   "id": "c6481ca1",
   "metadata": {},
   "outputs": [
    {
     "data": {
      "text/plain": [
       "[<matplotlib.lines.Line2D at 0x7f3874eb4b90>]"
      ]
     },
     "execution_count": 232,
     "metadata": {},
     "output_type": "execute_result"
    },
    {
     "data": {
      "image/png": "[encoded data removed]",
      "text/plain": [
       "<Figure size 432x288 with 1 Axes>"
      ]
     },
     "metadata": {
      "needs_background": "light"
     },
     "output_type": "display_data"
    }
   ],
   "source": [
    "plt.plot(kca_encoding_weightsr2)\n",
    "plt.plot(kca_encoding_svdr2)\n",
    "plt.plot(pca_encoding_weightsr2)\n",
    "plt.plot(pca_encoding_svdr2)"
   ]
  },
  {
   "cell_type": "code",
   "execution_count": 233,
   "id": "b24502d3",
   "metadata": {},
   "outputs": [],
   "source": [
    "var_files = glob.glob('/media/akumar/Secondary/data/peanut_var2/peanut_var2_*.dat')\n",
    "results_list = []\n",
    "for var_file in var_files:\n",
    "    result = {}\n",
    "    with open(var_file, 'rb') as f:\n",
    "        args = pickle.load(f)\n",
    "        coefs = pickle.load(f)\n",
    "        scores_and_supports = pickle.load(f)\n",
    "\n",
    "    for key, value in args.items():\n",
    "        if type(value) == dict:\n",
    "            for key_, value_ in args[key].items():\n",
    "                result[key_] = value_\n",
    "        else:\n",
    "            result[key] = value\n",
    "\n",
    "    result['A'] = np.squeeze(coefs)\n",
    "    results_list.append(result)\n",
    "peanut_var_df = pd.DataFrame(results_list)"
   ]
  },
  {
   "cell_type": "code",
   "execution_count": 234,
   "id": "178cec72",
   "metadata": {},
   "outputs": [
    {
     "name": "stderr",
     "output_type": "stream",
     "text": [
      "100%|██████████████████████████████████████████████████████████████████████████████████████████████████████████████████████████████████████████████████████████████████████████████████| 8/8 [00:31<00:00,  3.90s/it]\n"
     ]
    }
   ],
   "source": [
    "ammse = {}\n",
    "variance = {}\n",
    "for epoch in tqdm(epochs):\n",
    "    # VAR is fit to fold idx 1 only\n",
    "    df = apply_df_filters(peanut_var_df, epoch=epoch)\n",
    "    dat = load_peanut(fpath, epoch, spike_threshold=200, bin_width=KCA_df.iloc[0]['bin_width'], \n",
    "                      filter_fn='none')\n",
    "\n",
    "    x = np.squeeze(dat['spike_rates'])\n",
    "\n",
    "    kfold = KFold(n_splits=5, shuffle=False)\n",
    "    split_idxs = list(kfold.split(x))\n",
    "    train_idxs, test_idxs = split_idxs[1]\n",
    "    \n",
    "    x = x[train_idxs]\n",
    "    \n",
    "    A = df.iloc[0]['A']\n",
    "    ssr = SSR(A, B=np.eye(A.shape[0]), C=np.eye(A.shape[0]))\n",
    "\n",
    "    variance[epoch] = {}\n",
    "    variance[epoch]['data'] = np.var(x, axis=0)\n",
    "    W = scipy.linalg.solve_discrete_lyapunov(A, np.eye(A.shape[0]))\n",
    "    variance[epoch]['model'] = np.diag(W)\n",
    "    \n",
    "    # Do NOT Normalize\n",
    "    #x = StandardScaler().fit_transform(np.squeeze(dat['spike_rates']))\n",
    "    cross_cov_mats = calc_cross_cov_mats_from_data(x, T=6)\n",
    "    ammse[epoch] = {}\n",
    "    ammse[epoch]['dataT1'] = []\n",
    "    ammse[epoch]['dataT3'] = []\n",
    "    ammse[epoch]['dataT5'] = []\n",
    "    ammse[epoch]['modelT1'] = []\n",
    "    ammse[epoch]['modelT3'] = []\n",
    "    ammse[epoch]['modelT5'] = []\n",
    "\n",
    "    cross_cov_mats = torch.tensor(cross_cov_mats)\n",
    "    for j in range(A.shape[0]):\n",
    "\n",
    "        C = np.zeros((1, A.shape[0]))\n",
    "        C[0, j] = 1\n",
    "\n",
    "        \n",
    "        ammse[epoch]['dataT5'].append(calc_mmse_from_cross_cov_mats(torch.transpose(cross_cov_mats, 1, 2), \n",
    "                                                                        torch.tensor(C.T),\n",
    "                                                                        project_mmse=True).detach().cpu().numpy())                \n",
    "        ammse[epoch]['dataT3'].append(calc_mmse_from_cross_cov_mats(torch.transpose(cross_cov_mats[0:4], 1, 2), \n",
    "                                                                        torch.tensor(C.T),\n",
    "                                                                        project_mmse=True).detach().cpu().numpy())                \n",
    "        ammse[epoch]['dataT1'].append(calc_mmse_from_cross_cov_mats(torch.transpose(cross_cov_mats[0:2], 1, 2), \n",
    "                                                                        torch.tensor(C.T),\n",
    "                                                                        project_mmse=True).detach().cpu().numpy())                \n",
    "    \n",
    "        c, cf, cfp = ssr.acausal_mmse_cov(5, proj=C)\n",
    "        ammse[epoch]['modelT5'].append(np.trace(C @ c @ C.T - C @ cfp.T @ np.linalg.inv(cf) @ cfp @ C.T))\n",
    "\n",
    "        c, cf, cfp = ssr.acausal_mmse_cov(3, proj=C)\n",
    "        ammse[epoch]['modelT3'].append(np.trace(C @ c @ C.T - C @ cfp.T @ np.linalg.inv(cf) @ cfp @ C.T))\n",
    "\n",
    "        c, cf, cfp = ssr.acausal_mmse_cov(1, proj=C)\n",
    "        ammse[epoch]['modelT1'].append(np.trace(C @ c @ C.T - C @ cfp.T @ np.linalg.inv(cf) @ cfp @ C.T))"
   ]
  },
  {
   "cell_type": "code",
   "execution_count": 235,
   "id": "b5c4f7a9",
   "metadata": {},
   "outputs": [
    {
     "name": "stderr",
     "output_type": "stream",
     "text": [
      "100%|█████████████████████████████████████████████████████████████████████████████████████████████████████████████████████████████████████████████████████████████████████████████████| 8/8 [00:00<00:00, 687.15it/s]\n"
     ]
    }
   ],
   "source": [
    "# (empirical su variance)\n",
    "x1 = []\n",
    "# (model su variance)\n",
    "x2 =[]\n",
    "# (emprirical T1)\n",
    "x3 = []\n",
    "# (emprirical T3)\n",
    "x4 = []\n",
    "# (emprirical T5)\n",
    "x5 = []\n",
    "# (model T1)\n",
    "x6 = []\n",
    "# (model T3)\n",
    "x7 = []\n",
    "# (model T5)\n",
    "x8 = []\n",
    "\n",
    "# pca loadings\n",
    "y1 = []\n",
    "# kca loadings \n",
    "y2 = []\n",
    "\n",
    "fold_idx = 1\n",
    "for epoch in tqdm(epochs):\n",
    "    KCA_df = apply_df_filters(peanut_kca_df, epoch=epoch, fold_idx=fold_idx, dim=2)\n",
    "    pca_df = apply_df_filters(peanut_kca_df, epoch=epoch, fit_all=True, fold_idx=fold_idx)\n",
    "    \n",
    "    x1.extend(variance[epoch]['data'])\n",
    "    x2.extend(variance[epoch]['model'])\n",
    "\n",
    "    x3.extend(ammse[epoch]['dataT1'])\n",
    "    x4.extend(ammse[epoch]['dataT3'])\n",
    "    x5.extend(ammse[epoch]['dataT5'])\n",
    "    \n",
    "    x6.extend(ammse[epoch]['modelT1'])\n",
    "    x7.extend(ammse[epoch]['modelT3'])\n",
    "    x8.extend(ammse[epoch]['modelT5'])\n",
    "    \n",
    "    y1.extend(calc_loadings(pca_df.iloc[0]['PCA']['coef'][:, 0:2]))\n",
    "    y2.extend(calc_loadings(KCA_df.iloc[0]['KCA']['coef'])) \n",
    "\n",
    "    \n",
    "r = np.zeros((8, 2))\n",
    "for i, x_ in enumerate([x1, x2, x3, x4, x5, x6, x7, x8]):\n",
    "    for j, y_ in enumerate([y1, y2]):\n",
    "        r[i, j] = scipy.stats.spearmanr(x_, y_)[0]    "
   ]
  },
  {
   "cell_type": "code",
   "execution_count": 236,
   "id": "ec2e73fa",
   "metadata": {},
   "outputs": [
    {
     "data": {
      "text/plain": [
       "array([0.92157281, 0.76653942, 0.9236526 , 0.92190389, 0.91526933,\n",
       "       0.76652193, 0.77134888, 0.77130514])"
      ]
     },
     "execution_count": 236,
     "metadata": {},
     "output_type": "execute_result"
    }
   ],
   "source": [
    "r[:, 0]"
   ]
  },
  {
   "cell_type": "code",
   "execution_count": 237,
   "id": "55a49744",
   "metadata": {},
   "outputs": [
    {
     "data": {
      "text/plain": [
       "array([ 0.06246051,  0.158818  ,  0.0482901 ,  0.03364466, -0.000782  ,\n",
       "        0.1581778 ,  0.15204581,  0.15198654])"
      ]
     },
     "execution_count": 237,
     "metadata": {},
     "output_type": "execute_result"
    }
   ],
   "source": [
    "r[:, 1]"
   ]
  },
  {
   "cell_type": "code",
   "execution_count": 238,
   "id": "0275d4ad",
   "metadata": {},
   "outputs": [
    {
     "name": "stderr",
     "output_type": "stream",
     "text": [
      "8it [00:38,  4.77s/it]\n"
     ]
    }
   ],
   "source": [
    "# Evaluate self consistency with model subspaces\n",
    "reps = 10\n",
    "\n",
    "spearmanr_kca = []\n",
    "\n",
    "for i, epoch in tqdm(enumerate(epochs)):\n",
    "    \n",
    "    # Fold idx is 1 here\n",
    "    df = apply_df_filters(peanut_var_df, epoch=epoch)\n",
    "    dat = load_peanut(fpath, epoch, spike_threshold=200, bin_width=KCA_df.iloc[0]['bin_width'], \n",
    "                      filter_fn='none')\n",
    "    x = np.squeeze(dat['spike_rates'])\n",
    "    \n",
    "    kfold = KFold(n_splits=5, shuffle=False)\n",
    "    split_idxs = list(kfold.split(x))\n",
    "    # Stick to the correct fold of the data\n",
    "    train_idxs, test_idxs = split_idxs[1]\n",
    "    \n",
    "    x = x[train_idxs]\n",
    "\n",
    "    \n",
    "    A = df.iloc[0]['A']\n",
    "    ssr = SSR(A, B=np.eye(A.shape[0]), C=np.eye(A.shape[0]))\n",
    "\n",
    "    eig, U = np.linalg.eig(ssr.P)\n",
    "    eigorder = np.argsort(eig)\n",
    "    U = U[:, eigorder]\n",
    "        \n",
    "    # Data derived\n",
    "    \n",
    "    kcamodel = KCA(d=2, T=1, causal_weights=(0, 1), project_mmse=True)\n",
    "    kcamodel.estimate_data_statistics(x)\n",
    "\n",
    "    empirical_loadings = np.zeros((reps, A.shape[0]))\n",
    "    for j in range(reps):\n",
    "        coef_, _ = kcamodel._fit_projection()\n",
    "        empirical_loadings[j, :] = calc_loadings(coef_)\n",
    "    \n",
    "    # Model derived\n",
    "    model_loadings = np.zeros((reps, A.shape[0]))\n",
    "    kcamodel = KCA(d=2, T=1, causal_weights=(0, 1), project_mmse=True)\n",
    "    kcamodel.cross_covs = ssr.autocorrelation(5)\n",
    "    for j in range(reps):\n",
    "        coef_, _ = kcamodel._fit_projection()\n",
    "        model_loadings[j, :] = calc_loadings(coef_)\n",
    "        \n",
    "    sr = np.zeros((reps, reps))\n",
    "    for j in range(reps):\n",
    "        for k in range(reps):\n",
    "            sr[j, k] = scipy.stats.spearmanr(empirical_loadings[j, :], model_loadings[k, :])[0]\n",
    "    spearmanr_kca.append(sr)"
   ]
  },
  {
   "cell_type": "code",
   "execution_count": 239,
   "id": "2365b0bc",
   "metadata": {},
   "outputs": [
    {
     "data": {
      "text/plain": [
       "[0.7450733752620544,\n",
       " 0.6436100131752306,\n",
       " 0.7425249169435215,\n",
       " 0.6778745363651023,\n",
       " 0.8056765037897112,\n",
       " 0.4019512981777133,\n",
       " 0.8507177033492823,\n",
       " 0.7464411557434812]"
      ]
     },
     "execution_count": 239,
     "metadata": {},
     "output_type": "execute_result"
    }
   ],
   "source": [
    "[np.max(sr) for sr in spearmanr_kca]"
   ]
  },
  {
   "cell_type": "code",
   "execution_count": 240,
   "id": "f3067a41",
   "metadata": {},
   "outputs": [],
   "source": [
    "loadingsW = []\n",
    "loadingsPCA = []\n",
    "for i, epoch in enumerate(epochs):\n",
    "\n",
    "#     # OLS\n",
    "#     df_ = apply_df_filters(dimreduc_df, dimreduc='OLS1', epoch=epoch, fold_idx=0)\n",
    "#     A = np.squeeze(df_.iloc[0]['coef'])\n",
    "#     W = scipy.linalg.solve_discrete_lyapunov(A, np.eye(A.shape[0]))    \n",
    "#     eig, U = np.linalg.eig(W)\n",
    "#     eigorder = np.argsort(np.abs(eig))[::-1]\n",
    "#     U = U[:, eigorder]\n",
    "#     loadingsW.extend(calc_loadings(U[:, 0:2], 1))\n",
    "    \n",
    "    # SCAD\n",
    "    df_ = apply_df_filters(peanut_var_df, epoch=epoch)\n",
    "    W = scipy.linalg.solve_discrete_lyapunov(df_.iloc[0]['A'], np.eye(df_.iloc[0]['A'].shape[0]))\n",
    "    eig, U = np.linalg.eig(W)\n",
    "    eigorder = np.argsort(np.abs(eig))[::-1]\n",
    "    U = U[:, eigorder]\n",
    "    loadingsW.extend(calc_loadings(U[:, 0:2], 1))\n",
    "\n",
    "    # PCA\n",
    "    df_ = apply_df_filters(peanut_kca_df, fit_all=True, epoch=epoch, fold_idx=1)\n",
    "    V = df_.iloc[0]['PCA']['coef'][:, 0:2]\n",
    "    loadingsPCA.extend(calc_loadings(V, 1))"
   ]
  },
  {
   "cell_type": "code",
   "execution_count": 241,
   "id": "1e57223b",
   "metadata": {},
   "outputs": [],
   "source": [
    "spearmanr_pca = scipy.stats.spearmanr(loadingsW, loadingsPCA)[0]"
   ]
  },
  {
   "cell_type": "code",
   "execution_count": 242,
   "id": "8fd4eee9",
   "metadata": {},
   "outputs": [
    {
     "data": {
      "text/plain": [
       "0.7850835548273537"
      ]
     },
     "execution_count": 242,
     "metadata": {},
     "output_type": "execute_result"
    }
   ],
   "source": [
    "spearmanr_pca"
   ]
  },
  {
   "cell_type": "code",
   "execution_count": 243,
   "id": "520519e8",
   "metadata": {},
   "outputs": [],
   "source": [
    "# # Save\n",
    "with open('peanut_su_correlations.dat', 'wb') as f:\n",
    "    f.write(pickle.dumps(result))\n",
    "    f.write(pickle.dumps(variance))\n",
    "    f.write(pickle.dumps(ammse))\n",
    "    # This is model self consistency\n",
    "    f.write(pickle.dumps(spearmanr_kca))"
   ]
  },
  {
   "cell_type": "code",
   "execution_count": 223,
   "id": "7467efab",
   "metadata": {},
   "outputs": [],
   "source": [
    "# with open('peanut_su_correlations.dat', 'rb') as f:\n",
    "#     result = pickle.load(f)\n",
    "#     variance = pickle.load(f)\n",
    "#     ammse = pickle.load(f)\n",
    "#     spearmanr_kca = pickle.load(f)"
   ]
  },
  {
   "cell_type": "code",
   "execution_count": 263,
   "id": "2ddefb38",
   "metadata": {},
   "outputs": [
    {
     "data": {
      "image/png": "[encoded data removed]",
      "text/plain": [
       "<Figure size 720x720 with 1 Axes>"
      ]
     },
     "metadata": {
      "needs_background": "light"
     },
     "output_type": "display_data"
    }
   ],
   "source": [
    "fig, ax = plt.subplots(figsize=(10, 10), )\n",
    "\n",
    "bars = ax.bar([0, 1, 2, 3, 6, 7, 8, 9], [r[0, 0], spearmanr_pca, \n",
    "                                         pca_decoding_weightsr2[3], pca_encoding_weightsr2[3],\n",
    "                                         r[4, 1], np.mean([np.max(r) for r in spearmanr_kca]),\n",
    "                                         kca_decoding_weightsr2[3],\n",
    "                                         kca_encoding_weightsr2[3]],\n",
    "              color=['r', 'r', 'r', 'r', 'k', 'k', 'k', 'k'], alpha=0.65)\n",
    "\n",
    "# Place numerical values above the bars\n",
    "for rect in bars: \n",
    "    if rect.get_height() > 0:\n",
    "        ax.text(rect.get_x() + rect.get_width()/2, rect.get_height() + 0.05, '%.2f' % rect.get_height(),\n",
    "                ha='center', va='bottom', fontsize=18)\n",
    "    else:\n",
    "        ax.text(rect.get_x() + rect.get_width()/2, 0.05, '%.2f' % np.abs(rect.get_height()),\n",
    "                ha='center', va='bottom', fontsize=18)\n",
    "    \n",
    "ax.set_ylim([-0.2, 1.2])\n",
    "ax.set_yticks([0.0, 0.2, 0.4, 0.6, 0.8, 1.0])\n",
    "ax.set_xticks([0, 1, 2, 3, 6, 7, 8, 9])\n",
    "ax.set_xticklabels(['Single Unit Variance', 'Model Subspace',\n",
    "                    'Decoding Weight', 'Encoding Weight',\n",
    "                    'Single Unit Contr.', 'Model Subspace', \n",
    "                    'Decoding Weight', 'Encoding Weight'],\n",
    "                   rotation=45, fontsize=18, ha='right')\n",
    "ax.tick_params(axis='y', labelsize=18)\n",
    "ax.text(0.5, 1.08, 'PCA loadings', fontsize=18, ha='left', va='bottom')\n",
    "ax.annotate(\"\", xy=(0, 1.03), xytext=(3, 1.03), \n",
    "            xycoords='data', textcoords='data',\n",
    "            arrowprops=dict(arrowstyle='-', connectionstyle='bar,fraction=0.1'))\n",
    "\n",
    "\n",
    "ax.text(6.5, 1.08, 'KCA loadings', fontsize=18, ha='left', va='bottom')\n",
    "ax.annotate(\"\", xy=(6, 1.03), xytext=(9, 1.03), \n",
    "            xycoords='data', textcoords='data',\n",
    "            arrowprops=dict(arrowstyle='-', connectionstyle='bar,fraction=0.1'))\n",
    "\n",
    "ax.set_ylabel('Spearman Correlation', fontsize=20)\n",
    "ax.text(0.02, 1.02, 'B', transform=ax.transAxes,\n",
    "        fontsize=24, fontweight='bold', va='bottom')    \n",
    "ax.set_title('Hippocampus', fontsize=20, pad=20)\n",
    "fig.savefig('peanut_loadings_correlation.pdf', bbox_inches='tight', pad_inches=0)\n",
    "#fig.savefig('hwni/loadings_correlation.pdf', bbox_inches='tight', pad_inches=0)"
   ]
  },
  {
   "cell_type": "code",
   "execution_count": null,
   "id": "aae851e7",
   "metadata": {},
   "outputs": [],
   "source": []
  }
 ],
 "metadata": {
  "kernelspec": {
   "display_name": "Python 3 (ipykernel)",
   "language": "python",
   "name": "python3"
  },
  "language_info": {
   "codemirror_mode": {
    "name": "ipython",
    "version": 3
   },
   "file_extension": ".py",
   "mimetype": "text/x-python",
   "name": "python",
   "nbconvert_exporter": "python",
   "pygments_lexer": "ipython3",
   "version": "3.7.10"
  }
 },
 "nbformat": 4,
 "nbformat_minor": 5
}
