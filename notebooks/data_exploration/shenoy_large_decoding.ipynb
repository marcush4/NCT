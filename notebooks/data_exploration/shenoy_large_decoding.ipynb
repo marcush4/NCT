{
 "cells": [
  {
   "cell_type": "code",
   "execution_count": 1,
   "metadata": {},
   "outputs": [],
   "source": [
    "%load_ext autoreload\n",
    "%autoreload 2"
   ]
  },
  {
   "cell_type": "code",
   "execution_count": 2,
   "metadata": {},
   "outputs": [],
   "source": [
    "import numpy as np \n",
    "import pandas as pd\n",
    "import scipy\n",
    "import matplotlib.pyplot as plt\n",
    "import sys\n",
    "from sklearn.linear_model import LinearRegression\n",
    "from sklearn.decomposition import PCA\n",
    "from sklearn.preprocessing import normalize\n",
    "import dca\n",
    "from dca.dca import DynamicalComponentsAnalysis\n",
    "from sklearn.model_selection import KFold"
   ]
  },
  {
   "cell_type": "code",
   "execution_count": 3,
   "metadata": {},
   "outputs": [],
   "source": [
    "sys.path.append('../..')"
   ]
  },
  {
   "cell_type": "code",
   "execution_count": 22,
   "metadata": {},
   "outputs": [],
   "source": [
    "import pdb"
   ]
  },
  {
   "cell_type": "code",
   "execution_count": 39,
   "metadata": {},
   "outputs": [],
   "source": [
    "import loaders\n",
    "import decoders\n",
    "from loaders import load_shenoy_large\n",
    "from decoders import lr_decoder\n",
    "from os import listdir\n",
    "from os.path import isfile, join\n",
    "import os\n",
    "import contextlib\n",
    "from IPython.utils import io\n",
    "\n",
    "def lr_decoder_crossval(X, Z, lag, decoding_window):\n",
    "    kf = KFold(n_splits=4)\n",
    "    lr_r2_pos= lr_r2_vel = lr_r2_acc = 0\n",
    "    X = np.squeeze(X)\n",
    "    pdb.set_trace()\n",
    "    for train_idx, test_idx in kf.split(X):\n",
    "        # X_test = [X[idx] for idx in test_idx]\n",
    "        # X_train = [X[idx] for idx in train_idx]\n",
    "        # Z_test = [Z[idx] for idx in test_idx]\n",
    "        # Z_train = [Z[idx] for idx in train_idx]\n",
    "        X_train = X[train_idx]\n",
    "        X_test =X[test_idx]\n",
    "        Z_train = Z[train_idx]\n",
    "        Z_test = Z[test_idx]\n",
    "        result = lr_decoder(X_test, X_train, Z_test, Z_train, lag, lag, decoding_window)\n",
    "        lr_r2_pos += result[0]\n",
    "        lr_r2_vel += result[1]\n",
    "        lr_r2_acc += result[2]\n",
    "    lr_r2_acc /= 4\n",
    "    lr_r2_pos /= 4\n",
    "    lr_r2_vel /= 4\n",
    "    return lr_r2_pos, lr_r2_vel, lr_r2_acc\n",
    "    \n",
    "def trial_lag_decodewin(file_name, dat):\n",
    "    X = dat['spike_rates'] \n",
    "    Z = dat['behavior']\n",
    "    lag_trials = [0, 5, 10, 15, 20]\n",
    "    decoding_windows = [1, 3, 5]\n",
    "    max_lr_r2_pos, max_lr_r2_vel, max_lr_r2_acc = -1, -1, -1\n",
    "    max_pos_lag,max_pos_decoding_window = 0,1\n",
    "    max_vel_lag,max_vel_decoding_window = 0,1\n",
    "    max_acc_lag,max_acc_decoding_window = 0,1\n",
    "    \n",
    "    \n",
    "    for lag in lag_trials:\n",
    "        for decoding_window in decoding_windows:\n",
    "            lr_r2_pos, lr_r2_vel, lr_r2_acc = lr_decoder_crossval(X, Z, lag, decoding_window)\n",
    "            if lr_r2_pos > max_lr_r2_pos:\n",
    "                max_lr_r2_pos = lr_r2_pos\n",
    "                max_pos_lag,max_pos_decoding_window = lag,decoding_window\n",
    "            if lr_r2_vel > max_lr_r2_vel:\n",
    "                max_lr_r2_vel = lr_r2_vel\n",
    "                max_vel_lag,max_vel_decoding_window = lag,decoding_window\n",
    "            if lr_r2_acc > max_lr_r2_acc:\n",
    "                max_lr_r2_acc = lr_r2_acc\n",
    "                max_acc_lag,max_acc_decoding_window = lag,decoding_window\n",
    "            #print(\"Lag: {0}, decoding_window: {1}\".format(lag, decoding_window))\n",
    "            #print(\"Pos R^2: {0}, Vel R^2: {1}, Acc R^2: {2}\".format(lr_r2_pos, lr_r2_vel, lr_r2_acc))\n",
    "    \n",
    "    print(\"Best pos r2: {0}, with lag: {1}, windows: {2}\".format(max_lr_r2_pos, max_pos_lag,max_pos_decoding_window))\n",
    "    print(\"Best vel r2: {0}, with lag: {1}, windows: {2}\".format(max_lr_r2_vel, max_vel_lag,max_vel_decoding_window))\n",
    "    print(\"Best acc r2: {0}, with lag: {1}, windows: {2}\".format(max_lr_r2_acc, max_acc_lag,max_acc_decoding_window))"
   ]
  },
  {
   "cell_type": "code",
   "execution_count": 5,
   "metadata": {},
   "outputs": [],
   "source": [
    "path = '/mnt/Secondary/data'"
   ]
  },
  {
   "cell_type": "code",
   "execution_count": 6,
   "metadata": {},
   "outputs": [],
   "source": [
    "JFiles = [f for f in listdir(\"%s/000121/sub-JenkinsC\" % path) if isfile(join(\"%s/000121/sub-JenkinsC\" %path, f))]\n",
    "RFiles = [f for f in listdir(\"%s/000121/sub-Reggie\" % path) if isfile(join(\"%s/000121/sub-Reggie\" %path, f))]"
   ]
  },
  {
   "cell_type": "code",
   "execution_count": 7,
   "metadata": {},
   "outputs": [],
   "source": [
    "import warnings"
   ]
  },
  {
   "cell_type": "code",
   "execution_count": 52,
   "metadata": {},
   "outputs": [
    {
     "data": {
      "text/plain": [
       "array([[  0.,   0., -70.],\n",
       "       [  0.,   0., -70.],\n",
       "       [100.,   0., -70.],\n",
       "       ...,\n",
       "       [  0.,   0., -70.],\n",
       "       [-70.,   0., -70.],\n",
       "       [  0.,   0., -70.]])"
      ]
     },
     "execution_count": 52,
     "metadata": {},
     "output_type": "execute_result"
    }
   ],
   "source": [
    "dat['target_pos']"
   ]
  },
  {
   "cell_type": "code",
   "execution_count": 51,
   "metadata": {},
   "outputs": [
    {
     "name": "stderr",
     "output_type": "stream",
     "text": [
      "../../loaders.py:644: VisibleDeprecationWarning: Creating an ndarray from ragged nested sequences (which is a list-or-tuple of lists-or-tuples-or ndarrays with different lengths or shapes) is deprecated. If you meant to do this, you must specify 'dtype=object' when creating the ndarray.\n",
      "  raw_spike_times = np.array(nwbfile_in.units.spike_times_index)\n"
     ]
    },
    {
     "name": "stdout",
     "output_type": "stream",
     "text": [
      "2830 valid trials\n",
      "96 valid  units\n",
      "Trializing spike times\n"
     ]
    },
    {
     "name": "stderr",
     "output_type": "stream",
     "text": [
      "96it [00:15,  6.35it/s]\n"
     ]
    },
    {
     "name": "stdout",
     "output_type": "stream",
     "text": [
      "Processing spikes\n"
     ]
    },
    {
     "name": "stderr",
     "output_type": "stream",
     "text": [
      "100%|██████████| 2830/2830 [00:32<00:00, 88.36it/s]\n"
     ]
    },
    {
     "name": "stdout",
     "output_type": "stream",
     "text": [
      "Trializing Behavior\n"
     ]
    },
    {
     "name": "stderr",
     "output_type": "stream",
     "text": [
      "2830it [00:21, 130.05it/s]\n"
     ]
    }
   ],
   "source": [
    "dat = load_shenoy_large(\"%s/000121/sub-JenkinsC/\" % path + file_name, spike_threshold = 0, filter_fn='gaussian', filter_kwargs={'sigma':4}, bin_width=20, \n",
    "                        location='M1', trialize=True, interval='after_go')"
   ]
  },
  {
   "cell_type": "code",
   "execution_count": 40,
   "metadata": {},
   "outputs": [
    {
     "name": "stderr",
     "output_type": "stream",
     "text": [
      "../../loaders.py:636: VisibleDeprecationWarning: Creating an ndarray from ragged nested sequences (which is a list-or-tuple of lists-or-tuples-or ndarrays with different lengths or shapes) is deprecated. If you meant to do this, you must specify 'dtype=object' when creating the ndarray.\n",
      "  raw_spike_times = np.array(nwbfile_in.units.spike_times_index)\n"
     ]
    },
    {
     "name": "stdout",
     "output_type": "stream",
     "text": [
      "2830 valid trials\n",
      "96 valid  units\n",
      "Trializing spike times\n"
     ]
    },
    {
     "name": "stderr",
     "output_type": "stream",
     "text": [
      "96it [00:15,  6.16it/s]\n"
     ]
    },
    {
     "name": "stdout",
     "output_type": "stream",
     "text": [
      "Processing spikes\n"
     ]
    },
    {
     "name": "stderr",
     "output_type": "stream",
     "text": [
      "100%|██████████| 2830/2830 [00:36<00:00, 77.92it/s]\n"
     ]
    },
    {
     "name": "stdout",
     "output_type": "stream",
     "text": [
      "Trializing Behavior\n"
     ]
    },
    {
     "name": "stderr",
     "output_type": "stream",
     "text": [
      "2830it [00:21, 133.50it/s]\n",
      "/home/akumar/anaconda3/envs/dyn/lib/python3.7/site-packages/numpy/core/_asarray.py:102: VisibleDeprecationWarning: Creating an ndarray from ragged nested sequences (which is a list-or-tuple of lists-or-tuples-or ndarrays with different lengths or shapes) is deprecated. If you meant to do this, you must specify 'dtype=object' when creating the ndarray.\n",
      "  return array(a, dtype, copy=False, order=order)\n"
     ]
    },
    {
     "name": "stdout",
     "output_type": "stream",
     "text": [
      "---------------------------\n",
      "For file sub-JenkinsC_ses-20150924T154125_behavior+ecephys+image.nwb\n",
      "> \u001b[0;32m/tmp/ipykernel_23144/3915283159.py\u001b[0m(16)\u001b[0;36mlr_decoder_crossval\u001b[0;34m()\u001b[0m\n",
      "\u001b[0;32m     14 \u001b[0;31m    \u001b[0mX\u001b[0m \u001b[0;34m=\u001b[0m \u001b[0mnp\u001b[0m\u001b[0;34m.\u001b[0m\u001b[0msqueeze\u001b[0m\u001b[0;34m(\u001b[0m\u001b[0mX\u001b[0m\u001b[0;34m)\u001b[0m\u001b[0;34m\u001b[0m\u001b[0;34m\u001b[0m\u001b[0m\n",
      "\u001b[0m\u001b[0;32m     15 \u001b[0;31m    \u001b[0mpdb\u001b[0m\u001b[0;34m.\u001b[0m\u001b[0mset_trace\u001b[0m\u001b[0;34m(\u001b[0m\u001b[0;34m)\u001b[0m\u001b[0;34m\u001b[0m\u001b[0;34m\u001b[0m\u001b[0m\n",
      "\u001b[0m\u001b[0;32m---> 16 \u001b[0;31m    \u001b[0;32mfor\u001b[0m \u001b[0mtrain_idx\u001b[0m\u001b[0;34m,\u001b[0m \u001b[0mtest_idx\u001b[0m \u001b[0;32min\u001b[0m \u001b[0mkf\u001b[0m\u001b[0;34m.\u001b[0m\u001b[0msplit\u001b[0m\u001b[0;34m(\u001b[0m\u001b[0mX\u001b[0m\u001b[0;34m)\u001b[0m\u001b[0;34m:\u001b[0m\u001b[0;34m\u001b[0m\u001b[0;34m\u001b[0m\u001b[0m\n",
      "\u001b[0m\u001b[0;32m     17 \u001b[0;31m        \u001b[0;31m# X_test = [X[idx] for idx in test_idx]\u001b[0m\u001b[0;34m\u001b[0m\u001b[0;34m\u001b[0m\u001b[0;34m\u001b[0m\u001b[0m\n",
      "\u001b[0m\u001b[0;32m     18 \u001b[0;31m        \u001b[0;31m# X_train = [X[idx] for idx in train_idx]\u001b[0m\u001b[0;34m\u001b[0m\u001b[0;34m\u001b[0m\u001b[0;34m\u001b[0m\u001b[0m\n",
      "\u001b[0m\n"
     ]
    },
    {
     "ename": "BdbQuit",
     "evalue": "",
     "output_type": "error",
     "traceback": [
      "\u001b[0;31m---------------------------------------------------------------------------\u001b[0m",
      "\u001b[0;31mBdbQuit\u001b[0m                                   Traceback (most recent call last)",
      "\u001b[0;32m/tmp/ipykernel_23144/2115478844.py\u001b[0m in \u001b[0;36m<module>\u001b[0;34m\u001b[0m\n\u001b[1;32m      5\u001b[0m         \u001b[0mprint\u001b[0m\u001b[0;34m(\u001b[0m\u001b[0;34m\"---------------------------\"\u001b[0m\u001b[0;34m)\u001b[0m\u001b[0;34m\u001b[0m\u001b[0;34m\u001b[0m\u001b[0m\n\u001b[1;32m      6\u001b[0m         \u001b[0mprint\u001b[0m\u001b[0;34m(\u001b[0m\u001b[0;34m\"For file {0}\"\u001b[0m\u001b[0;34m.\u001b[0m\u001b[0mformat\u001b[0m\u001b[0;34m(\u001b[0m\u001b[0mfile_name\u001b[0m\u001b[0;34m)\u001b[0m\u001b[0;34m)\u001b[0m\u001b[0;34m\u001b[0m\u001b[0;34m\u001b[0m\u001b[0m\n\u001b[0;32m----> 7\u001b[0;31m         \u001b[0mtrial_lag_decodewin\u001b[0m\u001b[0;34m(\u001b[0m\u001b[0mfile_name\u001b[0m\u001b[0;34m,\u001b[0m\u001b[0mdat\u001b[0m\u001b[0;34m)\u001b[0m\u001b[0;34m\u001b[0m\u001b[0;34m\u001b[0m\u001b[0m\n\u001b[0m\u001b[1;32m      8\u001b[0m         \u001b[0mprint\u001b[0m\u001b[0;34m(\u001b[0m\u001b[0;34m\"---------------------------\"\u001b[0m\u001b[0;34m)\u001b[0m\u001b[0;34m\u001b[0m\u001b[0;34m\u001b[0m\u001b[0m\n",
      "\u001b[0;32m/tmp/ipykernel_23144/3915283159.py\u001b[0m in \u001b[0;36mtrial_lag_decodewin\u001b[0;34m(file_name, dat)\u001b[0m\n\u001b[1;32m     45\u001b[0m     \u001b[0;32mfor\u001b[0m \u001b[0mlag\u001b[0m \u001b[0;32min\u001b[0m \u001b[0mlag_trials\u001b[0m\u001b[0;34m:\u001b[0m\u001b[0;34m\u001b[0m\u001b[0;34m\u001b[0m\u001b[0m\n\u001b[1;32m     46\u001b[0m         \u001b[0;32mfor\u001b[0m \u001b[0mdecoding_window\u001b[0m \u001b[0;32min\u001b[0m \u001b[0mdecoding_windows\u001b[0m\u001b[0;34m:\u001b[0m\u001b[0;34m\u001b[0m\u001b[0;34m\u001b[0m\u001b[0m\n\u001b[0;32m---> 47\u001b[0;31m             \u001b[0mlr_r2_pos\u001b[0m\u001b[0;34m,\u001b[0m \u001b[0mlr_r2_vel\u001b[0m\u001b[0;34m,\u001b[0m \u001b[0mlr_r2_acc\u001b[0m \u001b[0;34m=\u001b[0m \u001b[0mlr_decoder_crossval\u001b[0m\u001b[0;34m(\u001b[0m\u001b[0mX\u001b[0m\u001b[0;34m,\u001b[0m \u001b[0mZ\u001b[0m\u001b[0;34m,\u001b[0m \u001b[0mlag\u001b[0m\u001b[0;34m,\u001b[0m \u001b[0mdecoding_window\u001b[0m\u001b[0;34m)\u001b[0m\u001b[0;34m\u001b[0m\u001b[0;34m\u001b[0m\u001b[0m\n\u001b[0m\u001b[1;32m     48\u001b[0m             \u001b[0;32mif\u001b[0m \u001b[0mlr_r2_pos\u001b[0m \u001b[0;34m>\u001b[0m \u001b[0mmax_lr_r2_pos\u001b[0m\u001b[0;34m:\u001b[0m\u001b[0;34m\u001b[0m\u001b[0;34m\u001b[0m\u001b[0m\n\u001b[1;32m     49\u001b[0m                 \u001b[0mmax_lr_r2_pos\u001b[0m \u001b[0;34m=\u001b[0m \u001b[0mlr_r2_pos\u001b[0m\u001b[0;34m\u001b[0m\u001b[0;34m\u001b[0m\u001b[0m\n",
      "\u001b[0;32m/tmp/ipykernel_23144/3915283159.py\u001b[0m in \u001b[0;36mlr_decoder_crossval\u001b[0;34m(X, Z, lag, decoding_window)\u001b[0m\n\u001b[1;32m     14\u001b[0m     \u001b[0mX\u001b[0m \u001b[0;34m=\u001b[0m \u001b[0mnp\u001b[0m\u001b[0;34m.\u001b[0m\u001b[0msqueeze\u001b[0m\u001b[0;34m(\u001b[0m\u001b[0mX\u001b[0m\u001b[0;34m)\u001b[0m\u001b[0;34m\u001b[0m\u001b[0;34m\u001b[0m\u001b[0m\n\u001b[1;32m     15\u001b[0m     \u001b[0mpdb\u001b[0m\u001b[0;34m.\u001b[0m\u001b[0mset_trace\u001b[0m\u001b[0;34m(\u001b[0m\u001b[0;34m)\u001b[0m\u001b[0;34m\u001b[0m\u001b[0;34m\u001b[0m\u001b[0m\n\u001b[0;32m---> 16\u001b[0;31m     \u001b[0;32mfor\u001b[0m \u001b[0mtrain_idx\u001b[0m\u001b[0;34m,\u001b[0m \u001b[0mtest_idx\u001b[0m \u001b[0;32min\u001b[0m \u001b[0mkf\u001b[0m\u001b[0;34m.\u001b[0m\u001b[0msplit\u001b[0m\u001b[0;34m(\u001b[0m\u001b[0mX\u001b[0m\u001b[0;34m)\u001b[0m\u001b[0;34m:\u001b[0m\u001b[0;34m\u001b[0m\u001b[0;34m\u001b[0m\u001b[0m\n\u001b[0m\u001b[1;32m     17\u001b[0m         \u001b[0;31m# X_test = [X[idx] for idx in test_idx]\u001b[0m\u001b[0;34m\u001b[0m\u001b[0;34m\u001b[0m\u001b[0;34m\u001b[0m\u001b[0m\n\u001b[1;32m     18\u001b[0m         \u001b[0;31m# X_train = [X[idx] for idx in train_idx]\u001b[0m\u001b[0;34m\u001b[0m\u001b[0;34m\u001b[0m\u001b[0;34m\u001b[0m\u001b[0m\n",
      "\u001b[0;32m/tmp/ipykernel_23144/3915283159.py\u001b[0m in \u001b[0;36mlr_decoder_crossval\u001b[0;34m(X, Z, lag, decoding_window)\u001b[0m\n\u001b[1;32m     14\u001b[0m     \u001b[0mX\u001b[0m \u001b[0;34m=\u001b[0m \u001b[0mnp\u001b[0m\u001b[0;34m.\u001b[0m\u001b[0msqueeze\u001b[0m\u001b[0;34m(\u001b[0m\u001b[0mX\u001b[0m\u001b[0;34m)\u001b[0m\u001b[0;34m\u001b[0m\u001b[0;34m\u001b[0m\u001b[0m\n\u001b[1;32m     15\u001b[0m     \u001b[0mpdb\u001b[0m\u001b[0;34m.\u001b[0m\u001b[0mset_trace\u001b[0m\u001b[0;34m(\u001b[0m\u001b[0;34m)\u001b[0m\u001b[0;34m\u001b[0m\u001b[0;34m\u001b[0m\u001b[0m\n\u001b[0;32m---> 16\u001b[0;31m     \u001b[0;32mfor\u001b[0m \u001b[0mtrain_idx\u001b[0m\u001b[0;34m,\u001b[0m \u001b[0mtest_idx\u001b[0m \u001b[0;32min\u001b[0m \u001b[0mkf\u001b[0m\u001b[0;34m.\u001b[0m\u001b[0msplit\u001b[0m\u001b[0;34m(\u001b[0m\u001b[0mX\u001b[0m\u001b[0;34m)\u001b[0m\u001b[0;34m:\u001b[0m\u001b[0;34m\u001b[0m\u001b[0;34m\u001b[0m\u001b[0m\n\u001b[0m\u001b[1;32m     17\u001b[0m         \u001b[0;31m# X_test = [X[idx] for idx in test_idx]\u001b[0m\u001b[0;34m\u001b[0m\u001b[0;34m\u001b[0m\u001b[0;34m\u001b[0m\u001b[0m\n\u001b[1;32m     18\u001b[0m         \u001b[0;31m# X_train = [X[idx] for idx in train_idx]\u001b[0m\u001b[0;34m\u001b[0m\u001b[0;34m\u001b[0m\u001b[0;34m\u001b[0m\u001b[0m\n",
      "\u001b[0;32m~/anaconda3/envs/dyn/lib/python3.7/bdb.py\u001b[0m in \u001b[0;36mtrace_dispatch\u001b[0;34m(self, frame, event, arg)\u001b[0m\n\u001b[1;32m     86\u001b[0m             \u001b[0;32mreturn\u001b[0m \u001b[0;31m# None\u001b[0m\u001b[0;34m\u001b[0m\u001b[0;34m\u001b[0m\u001b[0m\n\u001b[1;32m     87\u001b[0m         \u001b[0;32mif\u001b[0m \u001b[0mevent\u001b[0m \u001b[0;34m==\u001b[0m \u001b[0;34m'line'\u001b[0m\u001b[0;34m:\u001b[0m\u001b[0;34m\u001b[0m\u001b[0;34m\u001b[0m\u001b[0m\n\u001b[0;32m---> 88\u001b[0;31m             \u001b[0;32mreturn\u001b[0m \u001b[0mself\u001b[0m\u001b[0;34m.\u001b[0m\u001b[0mdispatch_line\u001b[0m\u001b[0;34m(\u001b[0m\u001b[0mframe\u001b[0m\u001b[0;34m)\u001b[0m\u001b[0;34m\u001b[0m\u001b[0;34m\u001b[0m\u001b[0m\n\u001b[0m\u001b[1;32m     89\u001b[0m         \u001b[0;32mif\u001b[0m \u001b[0mevent\u001b[0m \u001b[0;34m==\u001b[0m \u001b[0;34m'call'\u001b[0m\u001b[0;34m:\u001b[0m\u001b[0;34m\u001b[0m\u001b[0;34m\u001b[0m\u001b[0m\n\u001b[1;32m     90\u001b[0m             \u001b[0;32mreturn\u001b[0m \u001b[0mself\u001b[0m\u001b[0;34m.\u001b[0m\u001b[0mdispatch_call\u001b[0m\u001b[0;34m(\u001b[0m\u001b[0mframe\u001b[0m\u001b[0;34m,\u001b[0m \u001b[0marg\u001b[0m\u001b[0;34m)\u001b[0m\u001b[0;34m\u001b[0m\u001b[0;34m\u001b[0m\u001b[0m\n",
      "\u001b[0;32m~/anaconda3/envs/dyn/lib/python3.7/bdb.py\u001b[0m in \u001b[0;36mdispatch_line\u001b[0;34m(self, frame)\u001b[0m\n\u001b[1;32m    111\u001b[0m         \u001b[0;32mif\u001b[0m \u001b[0mself\u001b[0m\u001b[0;34m.\u001b[0m\u001b[0mstop_here\u001b[0m\u001b[0;34m(\u001b[0m\u001b[0mframe\u001b[0m\u001b[0;34m)\u001b[0m \u001b[0;32mor\u001b[0m \u001b[0mself\u001b[0m\u001b[0;34m.\u001b[0m\u001b[0mbreak_here\u001b[0m\u001b[0;34m(\u001b[0m\u001b[0mframe\u001b[0m\u001b[0;34m)\u001b[0m\u001b[0;34m:\u001b[0m\u001b[0;34m\u001b[0m\u001b[0;34m\u001b[0m\u001b[0m\n\u001b[1;32m    112\u001b[0m             \u001b[0mself\u001b[0m\u001b[0;34m.\u001b[0m\u001b[0muser_line\u001b[0m\u001b[0;34m(\u001b[0m\u001b[0mframe\u001b[0m\u001b[0;34m)\u001b[0m\u001b[0;34m\u001b[0m\u001b[0;34m\u001b[0m\u001b[0m\n\u001b[0;32m--> 113\u001b[0;31m             \u001b[0;32mif\u001b[0m \u001b[0mself\u001b[0m\u001b[0;34m.\u001b[0m\u001b[0mquitting\u001b[0m\u001b[0;34m:\u001b[0m \u001b[0;32mraise\u001b[0m \u001b[0mBdbQuit\u001b[0m\u001b[0;34m\u001b[0m\u001b[0;34m\u001b[0m\u001b[0m\n\u001b[0m\u001b[1;32m    114\u001b[0m         \u001b[0;32mreturn\u001b[0m \u001b[0mself\u001b[0m\u001b[0;34m.\u001b[0m\u001b[0mtrace_dispatch\u001b[0m\u001b[0;34m\u001b[0m\u001b[0;34m\u001b[0m\u001b[0m\n\u001b[1;32m    115\u001b[0m \u001b[0;34m\u001b[0m\u001b[0m\n",
      "\u001b[0;31mBdbQuit\u001b[0m: "
     ]
    }
   ],
   "source": [
    "for file_name in JFiles:\n",
    "    with warnings.catch_warnings() as _:        \n",
    "        dat = load_shenoy_large(\"%s/000121/sub-JenkinsC/\" % path + file_name, spike_threshold = 0, filter_fn='gaussian', filter_kwargs={'sigma':4}, bin_width=20, \n",
    "                                location='M1', trialize=True)\n",
    "        print(\"---------------------------\")\n",
    "        print(\"For file {0}\".format(file_name))\n",
    "        trial_lag_decodewin(file_name,dat)\n",
    "        print(\"---------------------------\")"
   ]
  },
  {
   "cell_type": "code",
   "execution_count": 62,
   "metadata": {},
   "outputs": [
    {
     "name": "stdout",
     "output_type": "stream",
     "text": [
      "---------------------------\n",
      "For file sub-Reggie_ses-20170118T094022_behavior+ecephys.nwb\n",
      "Best pos r2: 0.0025204440260271216, with lag: 10, windows: 5\n",
      "Best vel r2: 0.00023159697374340593, with lag: 5, windows: 5\n",
      "Best acc r2: -5.5536157191352076e-05, with lag: 5, windows: 1\n",
      "---------------------------\n",
      "---------------------------\n",
      "For file sub-Reggie_ses-20170119T123128_behavior+ecephys.nwb\n",
      "Best pos r2: -0.0001328028297169631, with lag: 0, windows: 1\n",
      "Best vel r2: -0.00011418684195493856, with lag: 10, windows: 1\n",
      "Best acc r2: -8.55879881402205e-05, with lag: 10, windows: 1\n",
      "---------------------------\n",
      "---------------------------\n",
      "For file sub-Reggie_ses-20170125T100800_behavior+ecephys.nwb\n",
      "Best pos r2: 2.4098519783133376e-05, with lag: 0, windows: 1\n",
      "Best vel r2: 2.6252973109736066e-05, with lag: 5, windows: 3\n",
      "Best acc r2: -9.487210345915376e-05, with lag: 10, windows: 1\n",
      "---------------------------\n",
      "---------------------------\n",
      "For file sub-Reggie_ses-20170117T104643_behavior+ecephys.nwb\n",
      "Best pos r2: 0.0008284216581467552, with lag: 10, windows: 5\n",
      "Best vel r2: 0.0003101329285668253, with lag: 3, windows: 5\n",
      "Best acc r2: -6.224690009218325e-05, with lag: 3, windows: 1\n",
      "---------------------------\n",
      "---------------------------\n",
      "For file sub-Reggie_ses-20170115T125333_behavior+ecephys.nwb\n",
      "Best pos r2: -2.6533113465163072e-05, with lag: 0, windows: 1\n",
      "Best vel r2: 0.0006059833738043391, with lag: 10, windows: 5\n",
      "Best acc r2: -4.777723157183e-05, with lag: 0, windows: 1\n",
      "---------------------------\n",
      "---------------------------\n",
      "For file sub-Reggie_ses-20170124T094957_behavior+ecephys.nwb\n",
      "Best pos r2: -3.1847089979969434e-05, with lag: 0, windows: 1\n",
      "Best vel r2: -7.187397981713028e-05, with lag: 5, windows: 1\n",
      "Best acc r2: -0.00012201401029765524, with lag: 3, windows: 1\n",
      "---------------------------\n",
      "---------------------------\n",
      "For file sub-Reggie_ses-20170116T102856_behavior+ecephys.nwb\n",
      "Best pos r2: 0.0022980258855043595, with lag: 10, windows: 5\n",
      "Best vel r2: 0.0011238919271068792, with lag: 5, windows: 5\n",
      "Best acc r2: -6.934136030947724e-05, with lag: 0, windows: 1\n",
      "---------------------------\n"
     ]
    }
   ],
   "source": [
    "for file_name in RFiles:\n",
    "    with io.capture_output() as captured: ##To disable prints from loader function\n",
    "        dat = load_shenoy_large(\"F:/dandi/000121/sub-Reggie/\" + file_name, spike_threshold = 1, bin_width=10)\n",
    "    print(\"---------------------------\")\n",
    "    print(\"For file {0}\".format(file_name))\n",
    "    trial_lag_decodewin(file_name,dat)\n",
    "    print(\"---------------------------\")"
   ]
  },
  {
   "cell_type": "code",
   "execution_count": 63,
   "metadata": {},
   "outputs": [
    {
     "name": "stdout",
     "output_type": "stream",
     "text": [
      "---------------------------\n",
      "For file sub-Reggie_ses-20170118T094022_behavior+ecephys.nwb\n",
      "Best pos r2: 0.021612839175602347, with lag: 1, windows: 3\n",
      "Best vel r2: 0.0029008843985057625, with lag: 3, windows: 1\n",
      "Best acc r2: 0.0006736616562762615, with lag: 3, windows: 1\n",
      "---------------------------\n",
      "---------------------------\n",
      "For file sub-Reggie_ses-20170119T123128_behavior+ecephys.nwb\n",
      "Best pos r2: -0.0020666705829109344, with lag: 0, windows: 1\n",
      "Best vel r2: -0.002044313333135872, with lag: 0, windows: 1\n",
      "Best acc r2: -0.0015595979350723765, with lag: 0, windows: 1\n",
      "---------------------------\n",
      "---------------------------\n",
      "For file sub-Reggie_ses-20170125T100800_behavior+ecephys.nwb\n",
      "Best pos r2: -0.00013047538006957793, with lag: 0, windows: 1\n",
      "Best vel r2: 0.0011419420575776995, with lag: 1, windows: 1\n",
      "Best acc r2: -0.0009386667682210331, with lag: 0, windows: 1\n",
      "---------------------------\n",
      "---------------------------\n",
      "For file sub-Reggie_ses-20170117T104643_behavior+ecephys.nwb\n",
      "Best pos r2: 0.01938618037631211, with lag: 1, windows: 3\n",
      "Best vel r2: 0.0035441935576725203, with lag: 1, windows: 1\n",
      "Best acc r2: -0.0002249696934809864, with lag: 0, windows: 1\n",
      "---------------------------\n",
      "---------------------------\n",
      "For file sub-Reggie_ses-20170115T125333_behavior+ecephys.nwb\n",
      "Best pos r2: 0.003065507141922691, with lag: 1, windows: 3\n",
      "Best vel r2: 0.0010753183771427949, with lag: 1, windows: 1\n",
      "Best acc r2: -0.0007407884607778248, with lag: 1, windows: 1\n",
      "---------------------------\n",
      "---------------------------\n",
      "For file sub-Reggie_ses-20170124T094957_behavior+ecephys.nwb\n",
      "Best pos r2: -0.000501725594841268, with lag: 0, windows: 1\n",
      "Best vel r2: -0.0009752213833866541, with lag: 0, windows: 1\n",
      "Best acc r2: -0.001655050984700146, with lag: 1, windows: 1\n",
      "---------------------------\n",
      "---------------------------\n",
      "For file sub-Reggie_ses-20170116T102856_behavior+ecephys.nwb\n",
      "Best pos r2: 0.03240260722097894, with lag: 1, windows: 3\n",
      "Best vel r2: 0.009776804540478981, with lag: 1, windows: 1\n",
      "Best acc r2: -0.00018749846472461418, with lag: 3, windows: 1\n",
      "---------------------------\n"
     ]
    }
   ],
   "source": [
    "for file_name in RFiles:\n",
    "    with io.capture_output() as captured: ##To disable prints from loader function\n",
    "        dat = load_shenoy_large(\"F:/dandi/000121/sub-Reggie/\" + file_name, spike_threshold = 1, bin_width=100)\n",
    "    print(\"---------------------------\")\n",
    "    print(\"For file {0}\".format(file_name))\n",
    "    trial_lag_decodewin(file_name,dat)\n",
    "    print(\"---------------------------\")"
   ]
  },
  {
   "cell_type": "code",
   "execution_count": 6,
   "metadata": {},
   "outputs": [
    {
     "data": {
      "text/plain": [
       "dict_keys(['target_pos', 'spike_rates', 'go_times', 'behavior', 'behavior_3D'])"
      ]
     },
     "execution_count": 6,
     "metadata": {},
     "output_type": "execute_result"
    }
   ],
   "source": [
    "dat.keys()"
   ]
  },
  {
   "cell_type": "code",
   "execution_count": 21,
   "metadata": {},
   "outputs": [
    {
     "name": "stdout",
     "output_type": "stream",
     "text": [
      "(3069, 3)\n",
      "(3069,)\n",
      "3069\n",
      "3069\n",
      "(25, 2)\n",
      "(25, 40)\n"
     ]
    }
   ],
   "source": [
    "print(dat['target_pos'].shape)\n",
    "print(dat['go_times'].shape)\n",
    "print(len(dat['spike_rates']))\n",
    "print(len(dat['behavior']))\n",
    "print(dat['behavior'][1].shape)\n",
    "print(dat['spike_rates'][1].shape)"
   ]
  },
  {
   "cell_type": "code",
   "execution_count": 51,
   "metadata": {},
   "outputs": [],
   "source": [
    "import warnings\n",
    "warnings.filterwarnings(\"ignore\")\n",
    "#warnings.filterwarnings(\"default\", category=FutureWarning)"
   ]
  },
  {
   "cell_type": "code",
   "execution_count": 64,
   "metadata": {},
   "outputs": [],
   "source": [
    "def lr_decoder_crossval(X, Z, lag, decoding_window):\n",
    "    kf = KFold(n_splits=4)\n",
    "    lr_r2_pos= lr_r2_vel = lr_r2_acc = 0\n",
    "    for train_idx, test_idx in kf.split(X):\n",
    "        X_test = [X[idx] for idx in test_idx]\n",
    "        X_train = [X[idx] for idx in train_idx]\n",
    "        Z_test = [Z[idx] for idx in test_idx]\n",
    "        Z_train = [Z[idx] for idx in train_idx]\n",
    "        result = lr_decoder(X_test, X_train, Z_test, Z_train, lag, lag, decoding_window)\n",
    "        lr_r2_pos += result[0]\n",
    "        lr_r2_vel += result[1]\n",
    "        lr_r2_acc += result[2]\n",
    "    lr_r2_acc /= 4\n",
    "    lr_r2_pos /= 4\n",
    "    lr_r2_vel /= 4\n",
    "    return lr_r2_pos, lr_r2_vel, lr_r2_acc\n",
    "    "
   ]
  },
  {
   "cell_type": "code",
   "execution_count": 65,
   "metadata": {},
   "outputs": [],
   "source": [
    "def trial_lag_decodewin(file_name, dat):\n",
    "    X = dat['spike_rates'] \n",
    "    Z = dat['behavior']\n",
    "    lag_trials = [0, 1, 3, 5, 10]\n",
    "    decoding_windows = [1, 3, 5]\n",
    "    max_lr_r2_pos, max_lr_r2_vel, max_lr_r2_acc = -1, -1, -1\n",
    "    max_pos_lag,max_pos_decoding_window = 0,1\n",
    "    max_vel_lag,max_vel_decoding_window = 0,1\n",
    "    max_acc_lag,max_acc_decoding_window = 0,1\n",
    "    \n",
    "    \n",
    "    for lag in lag_trials:\n",
    "        for decoding_window in decoding_windows:\n",
    "            try:\n",
    "                lr_r2_pos, lr_r2_vel, lr_r2_acc = lr_decoder_crossval(X, Z, lag, decoding_window)\n",
    "                if lr_r2_pos > max_lr_r2_pos:\n",
    "                    max_lr_r2_pos = lr_r2_pos\n",
    "                    max_pos_lag,max_pos_decoding_window = lag,decoding_window\n",
    "                if lr_r2_vel > max_lr_r2_vel:\n",
    "                    max_lr_r2_vel = lr_r2_vel\n",
    "                    max_vel_lag,max_vel_decoding_window = lag,decoding_window\n",
    "                if lr_r2_acc > max_lr_r2_acc:\n",
    "                    max_lr_r2_acc = lr_r2_acc\n",
    "                    max_acc_lag,max_acc_decoding_window = lag,decoding_window\n",
    "            except ValueError:  #For large decoding_windows\n",
    "                continue \n",
    "            #print(\"Lag: {0}, decoding_window: {1}\".format(lag, decoding_window))\n",
    "            #print(\"Pos R^2: {0}, Vel R^2: {1}, Acc R^2: {2}\".format(lr_r2_pos, lr_r2_vel, lr_r2_acc))\n",
    "    \n",
    "    print(\"Best pos r2: {0}, with lag: {1}, windows: {2}\".format(max_lr_r2_pos, max_pos_lag,max_pos_decoding_window))\n",
    "    print(\"Best vel r2: {0}, with lag: {1}, windows: {2}\".format(max_lr_r2_vel, max_vel_lag,max_vel_decoding_window))\n",
    "    print(\"Best acc r2: {0}, with lag: {1}, windows: {2}\".format(max_lr_r2_acc, max_acc_lag,max_acc_decoding_window))"
   ]
  },
  {
   "cell_type": "code",
   "execution_count": 7,
   "metadata": {},
   "outputs": [],
   "source": [
    "dat['target_pos'][:,0].sum() # X-axis always 0?\n",
    "dat['behavior'][3].shape\n",
    "spike_rates = dat['spike_rates']\n",
    "spike_rates_averaged = np.array([[np.average(spike_rates[reach_i], axis = 0)[neuron_idx] \\\n",
    "                                            for reach_i in range(len(spike_rates))]\\\n",
    "                                                for neuron_idx in range(spike_rates[0].shape[1])])\n",
    "vels = [np.sum(np.gradient(dat['behavior'][i])[0] ** 2, axis = 1) for i in range(len(dat['behavior']))]\n",
    "#Should we actullay be using peak vels? Or average\n",
    "#‖𝑉(𝑡)‖\n",
    "peak_vels = np.array([np.max(vel_in_a_reach) for vel_in_a_reach in vels])[:,np.newaxis]\n",
    "# TODO: orientations = \n",
    "orientations = (np.random.rand(4753) - 0.5) * 2 * np.pi # Random for running"
   ]
  },
  {
   "cell_type": "code",
   "execution_count": null,
   "metadata": {},
   "outputs": [],
   "source": []
  },
  {
   "cell_type": "code",
   "execution_count": null,
   "metadata": {},
   "outputs": [],
   "source": [
    "def calc_loadings(U, d=1):\n",
    "    # Sum over components\n",
    "    U = np.sum(np.power(np.abs(U), 2), axis=-1)\n",
    "    # Reshape and then sum over neurons\n",
    "    U = np.reshape(U, (d, -1))\n",
    "    loadings = np.sum(U, axis=0)\n",
    "    loadings /= np.max(loadings)\n",
    "    return loadings\n",
    "    \n",
    "def fit_DCAnPCAonBin(X):\n",
    "    \"\"\"Now just used to calculate PCA and DCA loading\"\"\"\n",
    "    DCAmodel = DynamicalComponentsAnalysis(d=2, T=3)\n",
    "    PCAmodel = PCA(n_components=2)\n",
    "    DCAmodel.fit(X)\n",
    "    extended = X[0]\n",
    "    for transit in X[1:]:\n",
    "        extended = np.vstack((extended,transit))\n",
    "    PCAmodel.fit(extended)\n",
    "    logged_PCA_loading = np.log(calc_loadings(PCAmodel.components_.T))\n",
    "    logged_DCA_loading = np.log(calc_loadings(DCAmodel.coef_))\n",
    "    return logged_PCA_loading, logged_DCA_loading"
   ]
  },
  {
   "cell_type": "code",
   "execution_count": 8,
   "metadata": {},
   "outputs": [
    {
     "ename": "NameError",
     "evalue": "name 'fit_DCAnPCAonBin' is not defined",
     "output_type": "error",
     "traceback": [
      "\u001b[1;31m---------------------------------------------------------------------------\u001b[0m",
      "\u001b[1;31mNameError\u001b[0m                                 Traceback (most recent call last)",
      "\u001b[1;32m<ipython-input-8-5a39a01fe7e9>\u001b[0m in \u001b[0;36m<module>\u001b[1;34m\u001b[0m\n\u001b[0;32m     24\u001b[0m         \u001b[0mcoefficients_bin_neuron\u001b[0m\u001b[1;33m[\u001b[0m\u001b[0mi\u001b[0m\u001b[1;33m,\u001b[0m \u001b[0mneuron_idx\u001b[0m\u001b[1;33m]\u001b[0m \u001b[1;33m=\u001b[0m \u001b[0mreg\u001b[0m\u001b[1;33m.\u001b[0m\u001b[0mcoef_\u001b[0m\u001b[1;33m[\u001b[0m\u001b[1;36m1\u001b[0m\u001b[1;33m:\u001b[0m\u001b[1;33m]\u001b[0m\u001b[1;33m\u001b[0m\u001b[1;33m\u001b[0m\u001b[0m\n\u001b[0;32m     25\u001b[0m     \u001b[0mspike_rates_list_reach\u001b[0m \u001b[1;33m=\u001b[0m \u001b[1;33m[\u001b[0m\u001b[0mspike_rates\u001b[0m\u001b[1;33m[\u001b[0m\u001b[0m_\u001b[0m\u001b[1;33m]\u001b[0m \u001b[1;32mfor\u001b[0m \u001b[0m_\u001b[0m \u001b[1;32min\u001b[0m \u001b[0mbinned_idx\u001b[0m\u001b[1;33m]\u001b[0m\u001b[1;33m\u001b[0m\u001b[1;33m\u001b[0m\u001b[0m\n\u001b[1;32m---> 26\u001b[1;33m     \u001b[0mlogged_PCA_loading\u001b[0m\u001b[1;33m,\u001b[0m \u001b[0mlogged_DCA_loading\u001b[0m \u001b[1;33m=\u001b[0m \u001b[0mfit_DCAnPCAonBin\u001b[0m\u001b[1;33m(\u001b[0m\u001b[0mspike_rates_list_reach\u001b[0m\u001b[1;33m)\u001b[0m\u001b[1;33m\u001b[0m\u001b[1;33m\u001b[0m\u001b[0m\n\u001b[0m",
      "\u001b[1;31mNameError\u001b[0m: name 'fit_DCAnPCAonBin' is not defined"
     ]
    }
   ],
   "source": [
    "bins = np.arange(-np.pi,np.pi,.25 * np.pi)\n",
    "\n",
    "#‖𝑉(𝑡)‖𝑠𝑖𝑛[𝜃(𝑡)]\n",
    "vel_sin = (np.sin(orientations)[:,np.newaxis] * peak_vels)\n",
    "#‖𝑉(𝑡)‖𝑐𝑜𝑠[𝜃(𝑡)]\n",
    "vel_cos = (np.cos(orientations)[:,np.newaxis] * peak_vels)\n",
    "binned_indices = np.digitize(orientations, bins)\n",
    "binned_indices = [np.where(binned_indices == i) for i in range(1,9)]\n",
    "#To record the r^2 and coeffs indexed by (bin#, neuron#)\n",
    "r_squared_bin_neuron = np.zeros((len(binned_indices), spike_rates[0].shape[1]))\n",
    "coefficients_bin_neuron = np.zeros((len(binned_indices), spike_rates[0].shape[1], 2))\n",
    "\n",
    "for i in range(8):\n",
    "    binned_idx = binned_indices[i][0]\n",
    "    # Get the input as ‖𝑉(𝑡)‖, ‖𝑉(𝑡)‖𝑠𝑖𝑛[𝜃(𝑡)], ‖𝑉(𝑡)‖𝑐𝑜𝑠[𝜃(𝑡)]\n",
    "    X = np.concatenate((peak_vels[binned_idx], vel_sin[binned_idx], vel_cos[binned_idx]), axis = 1)\n",
    "    for neuron_idx in range(spike_rates[0].shape[1]):\n",
    "        # Get the neuron's averaged spike rates in this bin's reaches\n",
    "        Y = spike_rates_averaged[neuron_idx, binned_idx]\n",
    "        reg = LinearRegression().fit(X, Y)\n",
    "        #Getting r sqaured, and put it in the recording array\n",
    "        r_squared_bin_neuron[i, neuron_idx] = reg.score(X, Y)\n",
    "        #Do the same for coefficients for ‖𝑉(𝑡)‖𝑠𝑖𝑛[𝜃(𝑡)], ‖𝑉(𝑡)‖𝑐𝑜𝑠[𝜃(𝑡)]\n",
    "        coefficients_bin_neuron[i, neuron_idx] = reg.coef_[1:]\n",
    "    spike_rates_list_reach = [spike_rates[_] for _ in binned_idx]\n",
    "    logged_PCA_loading, logged_DCA_loading = fit_DCAnPCAonBin(spike_rates_list_reach)"
   ]
  }
 ],
 "metadata": {
  "kernelspec": {
   "display_name": "Python 3",
   "language": "python",
   "name": "python3"
  },
  "language_info": {
   "codemirror_mode": {
    "name": "ipython",
    "version": 3
   },
   "file_extension": ".py",
   "mimetype": "text/x-python",
   "name": "python",
   "nbconvert_exporter": "python",
   "pygments_lexer": "ipython3",
   "version": "3.7.10"
  }
 },
 "nbformat": 4,
 "nbformat_minor": 4
}
