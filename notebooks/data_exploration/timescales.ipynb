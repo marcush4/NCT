{
 "cells": [
  {
   "cell_type": "code",
   "execution_count": 2,
   "metadata": {},
   "outputs": [],
   "source": [
    "%load_ext autoreload\n",
    "%autoreload 2"
   ]
  },
  {
   "cell_type": "code",
   "execution_count": 3,
   "metadata": {},
   "outputs": [
    {
     "name": "stderr",
     "output_type": "stream",
     "text": [
      "/home/akumar/anaconda3/envs/ncontrol/lib/python3.9/site-packages/tqdm/auto.py:22: TqdmWarning: IProgress not found. Please update jupyter and ipywidgets. See https://ipywidgets.readthedocs.io/en/stable/user_install.html\n",
      "  from .autonotebook import tqdm as notebook_tqdm\n"
     ]
    }
   ],
   "source": [
    "import numpy as np\n",
    "import scipy\n",
    "import matplotlib.pyplot as plt\n",
    "import time\n",
    "import sys\n",
    "import pickle\n",
    "import pandas as pd\n",
    "from tqdm import tqdm\n",
    "from sklearn.decomposition import PCA\n",
    "from sklearn.cross_decomposition import CCA\n",
    "from dca.cov_util import form_lag_matrix, calc_cross_cov_mats_from_data\n",
    "import glob\n",
    "import pdb\n",
    "from statsmodels.tsa import stattools\n",
    "from dca_research.lqg import LQGComponentsAnalysis as LQGCA"
   ]
  },
  {
   "cell_type": "code",
   "execution_count": 4,
   "metadata": {},
   "outputs": [],
   "source": [
    "from pyuoi.linear_model.var import VAR"
   ]
  },
  {
   "cell_type": "code",
   "execution_count": 5,
   "metadata": {},
   "outputs": [],
   "source": [
    "sys.path.append('/home/akumar/nse/neural_control')\n",
    "from loaders import load_sabes\n",
    "from decoders import lr_decoder\n",
    "from utils import apply_df_filters"
   ]
  },
  {
   "cell_type": "code",
   "execution_count": 100,
   "metadata": {},
   "outputs": [],
   "source": [
    "# Time scale analysis: \n",
    "# A few questions:\n",
    "# (1) Use the subspaces derived at fast timescales to assess coupling/decoding at slower/the same timescales\n",
    "# (2) Use subspaces derived at slow timeslcaes to assess coupling/decoding at same/faster time scales\n",
    "# (3) Types of analyses:\n",
    "# (a) Decoding vs. dim, decoding vs. t --> By \"decoding\" at slower timescales, we could try some kind of smoothing\n",
    "# (b) Time-resolved CCA, look at the different populations of neurons"
   ]
  },
  {
   "cell_type": "markdown",
   "metadata": {},
   "source": [
    "### Preprocess and save"
   ]
  },
  {
   "cell_type": "code",
   "execution_count": 47,
   "metadata": {},
   "outputs": [],
   "source": [
    "# Select the indy data file that has both M1/S1 and one loco datafile that seems to give decent decoding performance\n",
    "data_files = ['/mnt/Secondary/data/sabes/indy_20160426_01.mat', '/mnt/Secondary/data/sabes/loco_20170227_04.mat']"
   ]
  },
  {
   "cell_type": "code",
   "execution_count": 9,
   "metadata": {},
   "outputs": [
    {
     "name": "stderr",
     "output_type": "stream",
     "text": [
      "0it [00:00, ?it/s]"
     ]
    },
    {
     "name": "stdout",
     "output_type": "stream",
     "text": [
      "Skipping\n",
      "Skipping\n",
      "Skipping\n",
      "Skipping\n",
      "Skipping\n",
      "Skipping\n",
      "Skipping\n",
      "Skipping\n",
      "Skipping\n",
      "Skipping\n",
      "Skipping\n",
      "Skipping\n",
      "Skipping\n",
      "Skipping\n",
      "Loading M1\n",
      "Loading S1\n",
      "96\n"
     ]
    },
    {
     "name": "stderr",
     "output_type": "stream",
     "text": [
      "15it [03:36, 14.41s/it]"
     ]
    },
    {
     "name": "stdout",
     "output_type": "stream",
     "text": [
      "Loading M1\n",
      "Loading S1\n",
      "96\n"
     ]
    },
    {
     "name": "stderr",
     "output_type": "stream",
     "text": [
      "16it [07:12, 32.01s/it]"
     ]
    },
    {
     "name": "stdout",
     "output_type": "stream",
     "text": [
      "Loading M1\n",
      "Loading S1\n",
      "96\n"
     ]
    },
    {
     "name": "stderr",
     "output_type": "stream",
     "text": [
      "17it [10:47, 52.20s/it]"
     ]
    },
    {
     "name": "stdout",
     "output_type": "stream",
     "text": [
      "Loading M1\n",
      "Loading S1\n",
      "96\n"
     ]
    },
    {
     "name": "stderr",
     "output_type": "stream",
     "text": [
      "18it [12:35, 59.77s/it]"
     ]
    },
    {
     "name": "stdout",
     "output_type": "stream",
     "text": [
      "Loading M1\n",
      "Loading S1\n",
      "96\n"
     ]
    },
    {
     "name": "stderr",
     "output_type": "stream",
     "text": [
      "19it [14:23, 67.60s/it]"
     ]
    },
    {
     "name": "stdout",
     "output_type": "stream",
     "text": [
      "Loading M1\n",
      "Loading S1\n",
      "96\n"
     ]
    },
    {
     "name": "stderr",
     "output_type": "stream",
     "text": [
      "20it [16:11, 75.19s/it]"
     ]
    },
    {
     "name": "stdout",
     "output_type": "stream",
     "text": [
      "Loading M1\n",
      "Loading S1\n",
      "96\n"
     ]
    },
    {
     "name": "stderr",
     "output_type": "stream",
     "text": [
      "21it [16:54, 68.47s/it]"
     ]
    },
    {
     "name": "stdout",
     "output_type": "stream",
     "text": [
      "Loading M1\n",
      "Loading S1\n",
      "96\n"
     ]
    },
    {
     "name": "stderr",
     "output_type": "stream",
     "text": [
      "22it [17:37, 62.63s/it]"
     ]
    },
    {
     "name": "stdout",
     "output_type": "stream",
     "text": [
      "Loading M1\n",
      "Loading S1\n",
      "96\n"
     ]
    },
    {
     "name": "stderr",
     "output_type": "stream",
     "text": [
      "23it [18:22, 58.00s/it]"
     ]
    },
    {
     "name": "stdout",
     "output_type": "stream",
     "text": [
      "Loading M1\n",
      "Loading S1\n",
      "96\n"
     ]
    },
    {
     "name": "stderr",
     "output_type": "stream",
     "text": [
      "24it [21:56, 99.25s/it]"
     ]
    },
    {
     "name": "stdout",
     "output_type": "stream",
     "text": [
      "Loading M1\n",
      "Loading S1\n",
      "96\n"
     ]
    },
    {
     "name": "stderr",
     "output_type": "stream",
     "text": [
      "25it [25:30, 130.53s/it]"
     ]
    },
    {
     "name": "stdout",
     "output_type": "stream",
     "text": [
      "Loading M1\n",
      "Loading S1\n",
      "96\n"
     ]
    },
    {
     "name": "stderr",
     "output_type": "stream",
     "text": [
      "26it [29:05, 154.07s/it]"
     ]
    },
    {
     "name": "stdout",
     "output_type": "stream",
     "text": [
      "Loading M1\n",
      "Loading S1\n",
      "96\n"
     ]
    },
    {
     "name": "stderr",
     "output_type": "stream",
     "text": [
      "27it [30:52, 140.68s/it]"
     ]
    },
    {
     "name": "stdout",
     "output_type": "stream",
     "text": [
      "Loading M1\n",
      "Loading S1\n",
      "96\n"
     ]
    },
    {
     "name": "stderr",
     "output_type": "stream",
     "text": [
      "28it [32:39, 130.84s/it]"
     ]
    },
    {
     "name": "stdout",
     "output_type": "stream",
     "text": [
      "Loading M1\n",
      "Loading S1\n",
      "96\n"
     ]
    },
    {
     "name": "stderr",
     "output_type": "stream",
     "text": [
      "29it [34:27, 124.14s/it]"
     ]
    },
    {
     "name": "stdout",
     "output_type": "stream",
     "text": [
      "Loading M1\n",
      "Loading S1\n",
      "96\n"
     ]
    },
    {
     "name": "stderr",
     "output_type": "stream",
     "text": [
      "30it [35:10, 100.40s/it]"
     ]
    },
    {
     "name": "stdout",
     "output_type": "stream",
     "text": [
      "Loading M1\n",
      "Loading S1\n",
      "96\n"
     ]
    },
    {
     "name": "stderr",
     "output_type": "stream",
     "text": [
      "31it [35:54, 83.54s/it] "
     ]
    },
    {
     "name": "stdout",
     "output_type": "stream",
     "text": [
      "Loading M1\n",
      "Loading S1\n",
      "96\n"
     ]
    },
    {
     "name": "stderr",
     "output_type": "stream",
     "text": [
      "32it [36:37, 68.68s/it]\n",
      "0it [00:00, ?it/s]"
     ]
    },
    {
     "name": "stdout",
     "output_type": "stream",
     "text": [
      "Loading M1\n",
      "Loading S1\n",
      "96\n"
     ]
    },
    {
     "name": "stderr",
     "output_type": "stream",
     "text": [
      "1it [04:12, 252.28s/it]"
     ]
    },
    {
     "name": "stdout",
     "output_type": "stream",
     "text": [
      "Loading M1\n",
      "Loading S1\n",
      "96\n"
     ]
    },
    {
     "name": "stderr",
     "output_type": "stream",
     "text": [
      "2it [06:18, 178.21s/it]"
     ]
    },
    {
     "name": "stdout",
     "output_type": "stream",
     "text": [
      "Loading M1\n",
      "Loading S1\n",
      "96\n"
     ]
    },
    {
     "name": "stderr",
     "output_type": "stream",
     "text": [
      "3it [07:42, 135.23s/it]"
     ]
    },
    {
     "name": "stdout",
     "output_type": "stream",
     "text": [
      "Loading M1\n",
      "Loading S1\n",
      "96\n"
     ]
    },
    {
     "name": "stderr",
     "output_type": "stream",
     "text": [
      "4it [08:34, 102.31s/it]"
     ]
    },
    {
     "name": "stdout",
     "output_type": "stream",
     "text": [
      "Loading M1\n",
      "Loading S1\n",
      "96\n"
     ]
    },
    {
     "name": "stderr",
     "output_type": "stream",
     "text": [
      "5it [09:00, 74.64s/it] "
     ]
    },
    {
     "name": "stdout",
     "output_type": "stream",
     "text": [
      "Loading M1\n",
      "Loading S1\n",
      "96\n"
     ]
    },
    {
     "name": "stderr",
     "output_type": "stream",
     "text": [
      "6it [13:15, 136.06s/it]"
     ]
    },
    {
     "name": "stdout",
     "output_type": "stream",
     "text": [
      "Loading M1\n",
      "Loading S1\n",
      "96\n"
     ]
    },
    {
     "name": "stderr",
     "output_type": "stream",
     "text": [
      "7it [17:30, 175.04s/it]"
     ]
    },
    {
     "name": "stdout",
     "output_type": "stream",
     "text": [
      "Loading M1\n",
      "Loading S1\n",
      "96\n"
     ]
    },
    {
     "name": "stderr",
     "output_type": "stream",
     "text": [
      "8it [21:47, 201.13s/it]"
     ]
    },
    {
     "name": "stdout",
     "output_type": "stream",
     "text": [
      "Loading M1\n",
      "Loading S1\n",
      "96\n"
     ]
    },
    {
     "name": "stderr",
     "output_type": "stream",
     "text": [
      "9it [23:55, 178.34s/it]"
     ]
    },
    {
     "name": "stdout",
     "output_type": "stream",
     "text": [
      "Loading M1\n",
      "Loading S1\n",
      "96\n"
     ]
    },
    {
     "name": "stderr",
     "output_type": "stream",
     "text": [
      "10it [26:04, 163.00s/it]"
     ]
    },
    {
     "name": "stdout",
     "output_type": "stream",
     "text": [
      "Loading M1\n",
      "Loading S1\n",
      "96\n"
     ]
    },
    {
     "name": "stderr",
     "output_type": "stream",
     "text": [
      "11it [28:13, 152.54s/it]"
     ]
    },
    {
     "name": "stdout",
     "output_type": "stream",
     "text": [
      "Loading M1\n",
      "Loading S1\n",
      "96\n"
     ]
    },
    {
     "name": "stderr",
     "output_type": "stream",
     "text": [
      "12it [29:05, 121.84s/it]"
     ]
    },
    {
     "name": "stdout",
     "output_type": "stream",
     "text": [
      "Loading M1\n",
      "Loading S1\n",
      "96\n"
     ]
    },
    {
     "name": "stderr",
     "output_type": "stream",
     "text": [
      "13it [29:57, 100.83s/it]"
     ]
    },
    {
     "name": "stdout",
     "output_type": "stream",
     "text": [
      "Loading M1\n",
      "Loading S1\n",
      "96\n"
     ]
    },
    {
     "name": "stderr",
     "output_type": "stream",
     "text": [
      "14it [30:49, 86.00s/it] "
     ]
    },
    {
     "name": "stdout",
     "output_type": "stream",
     "text": [
      "Loading M1\n",
      "Loading S1\n",
      "96\n"
     ]
    },
    {
     "name": "stderr",
     "output_type": "stream",
     "text": [
      "15it [35:03, 136.79s/it]"
     ]
    },
    {
     "name": "stdout",
     "output_type": "stream",
     "text": [
      "Loading M1\n",
      "Loading S1\n",
      "96\n"
     ]
    },
    {
     "name": "stderr",
     "output_type": "stream",
     "text": [
      "16it [39:18, 172.28s/it]"
     ]
    },
    {
     "name": "stdout",
     "output_type": "stream",
     "text": [
      "Loading M1\n",
      "Loading S1\n",
      "96\n"
     ]
    },
    {
     "name": "stderr",
     "output_type": "stream",
     "text": [
      "17it [43:33, 197.21s/it]"
     ]
    },
    {
     "name": "stdout",
     "output_type": "stream",
     "text": [
      "Loading M1\n",
      "Loading S1\n",
      "96\n"
     ]
    },
    {
     "name": "stderr",
     "output_type": "stream",
     "text": [
      "18it [45:41, 176.41s/it]"
     ]
    },
    {
     "name": "stdout",
     "output_type": "stream",
     "text": [
      "Loading M1\n",
      "Loading S1\n",
      "96\n"
     ]
    },
    {
     "name": "stderr",
     "output_type": "stream",
     "text": [
      "19it [47:49, 161.90s/it]"
     ]
    },
    {
     "name": "stdout",
     "output_type": "stream",
     "text": [
      "Loading M1\n",
      "Loading S1\n",
      "96\n"
     ]
    },
    {
     "name": "stderr",
     "output_type": "stream",
     "text": [
      "20it [49:56, 151.38s/it]"
     ]
    },
    {
     "name": "stdout",
     "output_type": "stream",
     "text": [
      "Loading M1\n",
      "Loading S1\n",
      "96\n"
     ]
    },
    {
     "name": "stderr",
     "output_type": "stream",
     "text": [
      "21it [50:47, 121.33s/it]"
     ]
    },
    {
     "name": "stdout",
     "output_type": "stream",
     "text": [
      "Loading M1\n",
      "Loading S1\n",
      "96\n"
     ]
    },
    {
     "name": "stderr",
     "output_type": "stream",
     "text": [
      "22it [51:40, 100.65s/it]"
     ]
    },
    {
     "name": "stdout",
     "output_type": "stream",
     "text": [
      "Loading M1\n",
      "Loading S1\n",
      "96\n"
     ]
    },
    {
     "name": "stderr",
     "output_type": "stream",
     "text": [
      "23it [52:32, 86.15s/it] "
     ]
    },
    {
     "name": "stdout",
     "output_type": "stream",
     "text": [
      "Loading M1\n",
      "Loading S1\n",
      "96\n"
     ]
    },
    {
     "name": "stderr",
     "output_type": "stream",
     "text": [
      "24it [56:46, 136.33s/it]"
     ]
    },
    {
     "name": "stdout",
     "output_type": "stream",
     "text": [
      "Loading M1\n",
      "Loading S1\n",
      "96\n"
     ]
    },
    {
     "name": "stderr",
     "output_type": "stream",
     "text": [
      "25it [1:00:59, 171.51s/it]"
     ]
    },
    {
     "name": "stdout",
     "output_type": "stream",
     "text": [
      "Loading M1\n",
      "Loading S1\n",
      "96\n"
     ]
    },
    {
     "name": "stderr",
     "output_type": "stream",
     "text": [
      "26it [1:05:14, 196.62s/it]"
     ]
    },
    {
     "name": "stdout",
     "output_type": "stream",
     "text": [
      "Loading M1\n",
      "Loading S1\n",
      "96\n"
     ]
    },
    {
     "name": "stderr",
     "output_type": "stream",
     "text": [
      "27it [1:07:21, 175.79s/it]"
     ]
    },
    {
     "name": "stdout",
     "output_type": "stream",
     "text": [
      "Loading M1\n",
      "Loading S1\n",
      "96\n"
     ]
    },
    {
     "name": "stderr",
     "output_type": "stream",
     "text": [
      "28it [1:09:29, 161.36s/it]"
     ]
    },
    {
     "name": "stdout",
     "output_type": "stream",
     "text": [
      "Loading M1\n",
      "Loading S1\n",
      "96\n"
     ]
    },
    {
     "name": "stderr",
     "output_type": "stream",
     "text": [
      "29it [1:11:38, 151.45s/it]"
     ]
    },
    {
     "name": "stdout",
     "output_type": "stream",
     "text": [
      "Loading M1\n",
      "Loading S1\n",
      "96\n"
     ]
    },
    {
     "name": "stderr",
     "output_type": "stream",
     "text": [
      "30it [1:12:29, 121.44s/it]"
     ]
    },
    {
     "name": "stdout",
     "output_type": "stream",
     "text": [
      "Loading M1\n",
      "Loading S1\n",
      "96\n"
     ]
    },
    {
     "name": "stderr",
     "output_type": "stream",
     "text": [
      "31it [1:13:21, 100.59s/it]"
     ]
    },
    {
     "name": "stdout",
     "output_type": "stream",
     "text": [
      "Loading M1\n",
      "Loading S1\n",
      "96\n"
     ]
    },
    {
     "name": "stderr",
     "output_type": "stream",
     "text": [
      "32it [1:14:13, 139.16s/it]\n"
     ]
    }
   ],
   "source": [
    "\n",
    "# Collect into bin width and filter param tuples\n",
    "\n",
    "processing_params = [\n",
    "    # Baseline - non-overlapping windows with no window\n",
    "    (5, dict(filter_fn='none', filter_kwargs={})),\n",
    "    (10, dict(filter_fn='none', filter_kwargs={})),\n",
    "    (15, dict(filter_fn='none', filter_kwargs={})),\n",
    "    (25, dict(filter_fn='none', filter_kwargs={})),\n",
    "    (50, dict(filter_fn='none', filter_kwargs={})),\n",
    "\n",
    "    # Narrow bins with smoothing timescales\n",
    "    (5, dict(filter_fn='gaussian', filter_kwargs={'sigma':1})),\n",
    "    (5, dict(filter_fn='gaussian', filter_kwargs={'sigma':3})),\n",
    "    (5, dict(filter_fn='gaussian', filter_kwargs={'sigma':5})),\n",
    "\n",
    "    (10, dict(filter_fn='gaussian', filter_kwargs={'sigma':1})),\n",
    "    (10, dict(filter_fn='gaussian', filter_kwargs={'sigma':3})),\n",
    "    (10, dict(filter_fn='gaussian', filter_kwargs={'sigma':5})),\n",
    "\n",
    "\n",
    "    (25, dict(filter_fn='gaussian', filter_kwargs={'sigma':1})),\n",
    "    (25, dict(filter_fn='gaussian', filter_kwargs={'sigma':3})),\n",
    "    (25, dict(filter_fn='gaussian', filter_kwargs={'sigma':5})),\n",
    "\n",
    "    # Narrow bins with boxcar filter of various widths\n",
    "    (5, dict(filter_fn='window', filter_kwargs={'window_name':'boxcar', 'window_length':3})),\n",
    "    (5, dict(filter_fn='window', filter_kwargs={'window_name':'boxcar', 'window_length':5})),\n",
    "    (5, dict(filter_fn='window', filter_kwargs={'window_name':'boxcar', 'window_length':10})),\n",
    "\n",
    "\n",
    "    (10, dict(filter_fn='window', filter_kwargs={'window_name':'boxcar', 'window_length':3})),\n",
    "    (10, dict(filter_fn='window', filter_kwargs={'window_name':'boxcar', 'window_length':5})),\n",
    "    (10, dict(filter_fn='window', filter_kwargs={'window_name':'boxcar', 'window_length':10})),\n",
    "\n",
    "\n",
    "    (25, dict(filter_fn='window', filter_kwargs={'window_name':'boxcar', 'window_length':3})),\n",
    "    (25, dict(filter_fn='window', filter_kwargs={'window_name':'boxcar', 'window_length':5})),\n",
    "    (25, dict(filter_fn='window', filter_kwargs={'window_name':'boxcar', 'window_length':10})),\n",
    "\n",
    "    # Hann windows\n",
    "    (5, dict(filter_fn='window', filter_kwargs={'window_name':'hann', 'window_length':3})),\n",
    "    (5, dict(filter_fn='window', filter_kwargs={'window_name':'hann', 'window_length':5})),\n",
    "    (5, dict(filter_fn='window', filter_kwargs={'window_name':'hann', 'window_length':10})),\n",
    "\n",
    "\n",
    "    (10, dict(filter_fn='window', filter_kwargs={'window_name':'hann', 'window_length':3})),\n",
    "    (10, dict(filter_fn='window', filter_kwargs={'window_name':'hann', 'window_length':5})),\n",
    "    (10, dict(filter_fn='window', filter_kwargs={'window_name':'hann', 'window_length':10})),\n",
    "\n",
    "\n",
    "    (25, dict(filter_fn='window', filter_kwargs={'window_name':'hann', 'window_length':3})),\n",
    "    (25, dict(filter_fn='window', filter_kwargs={'window_name':'hann', 'window_length':5})),\n",
    "    (25, dict(filter_fn='window', filter_kwargs={'window_name':'hann', 'window_length':10})),\n",
    "]\n",
    "\n",
    "for didx, data_file in enumerate(data_files):\n",
    "    for i, loader_param in tqdm(enumerate(processing_params)):\n",
    "        if os.path.exists('/mnt/Secondary/data/sabes_tmp/didx_%d_loader_idx_%d.pkl' % (didx, i)):\n",
    "            print('Skipping')\n",
    "            continue\n",
    "        else:\n",
    "            print('Loading M1')\n",
    "            datM1 = load_sabes(data_file, bin_width=loader_param[0], filter_fn=loader_param[1]['filter_fn'], filter_kwargs=loader_param[1]['filter_kwargs'], region='M1')\n",
    "            print('Loading S1')\n",
    "            datS1 = load_sabes(data_file, bin_width=loader_param[0], filter_fn=loader_param[1]['filter_fn'], filter_kwargs=loader_param[1]['filter_kwargs'], region='S1')\n",
    "\n",
    "            # Save away with the loader parameters\n",
    "            with open('/mnt/Secondary/data/sabes_tmp/didx_%d_loader_idx_%d.pkl' % (didx, i), 'wb') as f:\n",
    "                f.write(pickle.dumps(datM1))\n",
    "                f.write(pickle.dumps(datS1))\n",
    "                f.write(pickle.dumps(loader_param))"
   ]
  },
  {
   "cell_type": "code",
   "execution_count": 50,
   "metadata": {},
   "outputs": [
    {
     "name": "stderr",
     "output_type": "stream",
     "text": [
      "0it [00:00, ?it/s]"
     ]
    },
    {
     "name": "stdout",
     "output_type": "stream",
     "text": [
      "Loading M1\n",
      "Loading S1\n",
      "96\n"
     ]
    },
    {
     "name": "stderr",
     "output_type": "stream",
     "text": [
      "1it [00:22, 22.61s/it]"
     ]
    },
    {
     "name": "stdout",
     "output_type": "stream",
     "text": [
      "Loading M1\n",
      "Loading S1\n",
      "96\n"
     ]
    },
    {
     "name": "stderr",
     "output_type": "stream",
     "text": [
      "2it [00:34, 16.11s/it]"
     ]
    },
    {
     "name": "stdout",
     "output_type": "stream",
     "text": [
      "Loading M1\n",
      "Loading S1\n",
      "96\n"
     ]
    },
    {
     "name": "stderr",
     "output_type": "stream",
     "text": [
      "3it [00:42, 12.35s/it]"
     ]
    },
    {
     "name": "stdout",
     "output_type": "stream",
     "text": [
      "Loading M1\n",
      "Loading S1\n",
      "96\n"
     ]
    },
    {
     "name": "stderr",
     "output_type": "stream",
     "text": [
      "4it [00:47,  9.44s/it]"
     ]
    },
    {
     "name": "stdout",
     "output_type": "stream",
     "text": [
      "Loading M1\n",
      "Loading S1\n",
      "96\n"
     ]
    },
    {
     "name": "stderr",
     "output_type": "stream",
     "text": [
      "5it [00:49,  7.04s/it]"
     ]
    },
    {
     "name": "stdout",
     "output_type": "stream",
     "text": [
      "Loading M1\n",
      "Loading S1\n",
      "96\n"
     ]
    },
    {
     "name": "stderr",
     "output_type": "stream",
     "text": [
      "6it [01:12, 12.50s/it]"
     ]
    },
    {
     "name": "stdout",
     "output_type": "stream",
     "text": [
      "Loading M1\n",
      "Loading S1\n",
      "96\n"
     ]
    },
    {
     "name": "stderr",
     "output_type": "stream",
     "text": [
      "7it [01:36, 16.12s/it]"
     ]
    },
    {
     "name": "stdout",
     "output_type": "stream",
     "text": [
      "Loading M1\n",
      "Loading S1\n",
      "96\n"
     ]
    },
    {
     "name": "stderr",
     "output_type": "stream",
     "text": [
      "8it [02:00, 18.58s/it]"
     ]
    },
    {
     "name": "stdout",
     "output_type": "stream",
     "text": [
      "Loading M1\n",
      "Loading S1\n",
      "96\n"
     ]
    },
    {
     "name": "stderr",
     "output_type": "stream",
     "text": [
      "9it [02:12, 16.47s/it]"
     ]
    },
    {
     "name": "stdout",
     "output_type": "stream",
     "text": [
      "Loading M1\n",
      "Loading S1\n",
      "96\n"
     ]
    },
    {
     "name": "stderr",
     "output_type": "stream",
     "text": [
      "10it [02:24, 15.13s/it]"
     ]
    },
    {
     "name": "stdout",
     "output_type": "stream",
     "text": [
      "Loading M1\n",
      "Loading S1\n",
      "96\n"
     ]
    },
    {
     "name": "stderr",
     "output_type": "stream",
     "text": [
      "11it [02:36, 14.21s/it]"
     ]
    },
    {
     "name": "stdout",
     "output_type": "stream",
     "text": [
      "Loading M1\n",
      "Loading S1\n",
      "96\n"
     ]
    },
    {
     "name": "stderr",
     "output_type": "stream",
     "text": [
      "12it [02:41, 11.41s/it]"
     ]
    },
    {
     "name": "stdout",
     "output_type": "stream",
     "text": [
      "Loading M1\n",
      "Loading S1\n",
      "96\n"
     ]
    },
    {
     "name": "stderr",
     "output_type": "stream",
     "text": [
      "13it [02:46,  9.50s/it]"
     ]
    },
    {
     "name": "stdout",
     "output_type": "stream",
     "text": [
      "Loading M1\n",
      "Loading S1\n",
      "96\n"
     ]
    },
    {
     "name": "stderr",
     "output_type": "stream",
     "text": [
      "14it [02:51,  8.18s/it]"
     ]
    },
    {
     "name": "stdout",
     "output_type": "stream",
     "text": [
      "Loading M1\n",
      "Loading S1\n",
      "96\n"
     ]
    },
    {
     "name": "stderr",
     "output_type": "stream",
     "text": [
      "15it [03:14, 12.72s/it]"
     ]
    },
    {
     "name": "stdout",
     "output_type": "stream",
     "text": [
      "Loading M1\n",
      "Loading S1\n",
      "96\n"
     ]
    },
    {
     "name": "stderr",
     "output_type": "stream",
     "text": [
      "16it [03:38, 15.93s/it]"
     ]
    },
    {
     "name": "stdout",
     "output_type": "stream",
     "text": [
      "Loading M1\n",
      "Loading S1\n",
      "96\n"
     ]
    },
    {
     "name": "stderr",
     "output_type": "stream",
     "text": [
      "17it [04:01, 18.15s/it]"
     ]
    },
    {
     "name": "stdout",
     "output_type": "stream",
     "text": [
      "Loading M1\n",
      "Loading S1\n",
      "96\n"
     ]
    },
    {
     "name": "stderr",
     "output_type": "stream",
     "text": [
      "18it [04:13, 16.25s/it]"
     ]
    },
    {
     "name": "stdout",
     "output_type": "stream",
     "text": [
      "Loading M1\n",
      "Loading S1\n",
      "96\n"
     ]
    },
    {
     "name": "stderr",
     "output_type": "stream",
     "text": [
      "19it [04:25, 14.91s/it]"
     ]
    },
    {
     "name": "stdout",
     "output_type": "stream",
     "text": [
      "Loading M1\n",
      "Loading S1\n",
      "96\n"
     ]
    },
    {
     "name": "stderr",
     "output_type": "stream",
     "text": [
      "20it [04:37, 14.03s/it]"
     ]
    },
    {
     "name": "stdout",
     "output_type": "stream",
     "text": [
      "Loading M1\n",
      "Loading S1\n",
      "96\n"
     ]
    },
    {
     "name": "stderr",
     "output_type": "stream",
     "text": [
      "21it [04:42, 11.34s/it]"
     ]
    },
    {
     "name": "stdout",
     "output_type": "stream",
     "text": [
      "Loading M1\n",
      "Loading S1\n",
      "96\n"
     ]
    },
    {
     "name": "stderr",
     "output_type": "stream",
     "text": [
      "22it [04:47,  9.45s/it]"
     ]
    },
    {
     "name": "stdout",
     "output_type": "stream",
     "text": [
      "Loading M1\n",
      "Loading S1\n",
      "96\n"
     ]
    },
    {
     "name": "stderr",
     "output_type": "stream",
     "text": [
      "23it [04:52,  8.13s/it]"
     ]
    },
    {
     "name": "stdout",
     "output_type": "stream",
     "text": [
      "Loading M1\n",
      "Loading S1\n",
      "96\n"
     ]
    },
    {
     "name": "stderr",
     "output_type": "stream",
     "text": [
      "24it [05:15, 12.61s/it]"
     ]
    },
    {
     "name": "stdout",
     "output_type": "stream",
     "text": [
      "Loading M1\n",
      "Loading S1\n",
      "96\n"
     ]
    },
    {
     "name": "stderr",
     "output_type": "stream",
     "text": [
      "25it [05:38, 15.85s/it]"
     ]
    },
    {
     "name": "stdout",
     "output_type": "stream",
     "text": [
      "Loading M1\n",
      "Loading S1\n",
      "96\n"
     ]
    },
    {
     "name": "stderr",
     "output_type": "stream",
     "text": [
      "26it [06:02, 18.15s/it]"
     ]
    },
    {
     "name": "stdout",
     "output_type": "stream",
     "text": [
      "Loading M1\n",
      "Loading S1\n",
      "96\n"
     ]
    },
    {
     "name": "stderr",
     "output_type": "stream",
     "text": [
      "27it [06:14, 16.31s/it]"
     ]
    },
    {
     "name": "stdout",
     "output_type": "stream",
     "text": [
      "Loading M1\n",
      "Loading S1\n",
      "96\n"
     ]
    },
    {
     "name": "stderr",
     "output_type": "stream",
     "text": [
      "28it [06:26, 15.01s/it]"
     ]
    },
    {
     "name": "stdout",
     "output_type": "stream",
     "text": [
      "Loading M1\n",
      "Loading S1\n",
      "96\n"
     ]
    },
    {
     "name": "stderr",
     "output_type": "stream",
     "text": [
      "29it [06:38, 14.08s/it]"
     ]
    },
    {
     "name": "stdout",
     "output_type": "stream",
     "text": [
      "Loading M1\n",
      "Loading S1\n",
      "96\n"
     ]
    },
    {
     "name": "stderr",
     "output_type": "stream",
     "text": [
      "30it [06:43, 11.38s/it]"
     ]
    },
    {
     "name": "stdout",
     "output_type": "stream",
     "text": [
      "Loading M1\n",
      "Loading S1\n",
      "96\n"
     ]
    },
    {
     "name": "stderr",
     "output_type": "stream",
     "text": [
      "31it [06:48,  9.50s/it]"
     ]
    },
    {
     "name": "stdout",
     "output_type": "stream",
     "text": [
      "Loading M1\n",
      "Loading S1\n",
      "96\n"
     ]
    },
    {
     "name": "stderr",
     "output_type": "stream",
     "text": [
      "32it [06:53, 12.92s/it]\n",
      "0it [00:00, ?it/s]"
     ]
    },
    {
     "name": "stdout",
     "output_type": "stream",
     "text": [
      "Loading M1\n",
      "Loading S1\n",
      "96\n"
     ]
    },
    {
     "name": "stderr",
     "output_type": "stream",
     "text": [
      "1it [00:33, 33.82s/it]"
     ]
    },
    {
     "name": "stdout",
     "output_type": "stream",
     "text": [
      "Loading M1\n",
      "Loading S1\n",
      "96\n"
     ]
    },
    {
     "name": "stderr",
     "output_type": "stream",
     "text": [
      "2it [00:50, 23.98s/it]"
     ]
    },
    {
     "name": "stdout",
     "output_type": "stream",
     "text": [
      "Loading M1\n",
      "Loading S1\n",
      "96\n"
     ]
    },
    {
     "name": "stderr",
     "output_type": "stream",
     "text": [
      "3it [01:02, 18.41s/it]"
     ]
    },
    {
     "name": "stdout",
     "output_type": "stream",
     "text": [
      "Loading M1\n",
      "Loading S1\n",
      "96\n"
     ]
    },
    {
     "name": "stderr",
     "output_type": "stream",
     "text": [
      "4it [01:09, 13.96s/it]"
     ]
    },
    {
     "name": "stdout",
     "output_type": "stream",
     "text": [
      "Loading M1\n",
      "Loading S1\n",
      "96\n"
     ]
    },
    {
     "name": "stderr",
     "output_type": "stream",
     "text": [
      "5it [01:13, 10.32s/it]"
     ]
    },
    {
     "name": "stdout",
     "output_type": "stream",
     "text": [
      "Loading M1\n",
      "Loading S1\n",
      "96\n"
     ]
    },
    {
     "name": "stderr",
     "output_type": "stream",
     "text": [
      "6it [01:48, 18.62s/it]"
     ]
    },
    {
     "name": "stdout",
     "output_type": "stream",
     "text": [
      "Loading M1\n",
      "Loading S1\n",
      "96\n"
     ]
    },
    {
     "name": "stderr",
     "output_type": "stream",
     "text": [
      "7it [02:23, 23.92s/it]"
     ]
    },
    {
     "name": "stdout",
     "output_type": "stream",
     "text": [
      "Loading M1\n",
      "Loading S1\n",
      "96\n"
     ]
    },
    {
     "name": "stderr",
     "output_type": "stream",
     "text": [
      "8it [02:58, 27.65s/it]"
     ]
    },
    {
     "name": "stdout",
     "output_type": "stream",
     "text": [
      "Loading M1\n",
      "Loading S1\n",
      "96\n"
     ]
    },
    {
     "name": "stderr",
     "output_type": "stream",
     "text": [
      "9it [03:16, 24.45s/it]"
     ]
    },
    {
     "name": "stdout",
     "output_type": "stream",
     "text": [
      "Loading M1\n",
      "Loading S1\n",
      "96\n"
     ]
    },
    {
     "name": "stderr",
     "output_type": "stream",
     "text": [
      "10it [03:33, 22.34s/it]"
     ]
    },
    {
     "name": "stdout",
     "output_type": "stream",
     "text": [
      "Loading M1\n",
      "Loading S1\n",
      "96\n"
     ]
    },
    {
     "name": "stderr",
     "output_type": "stream",
     "text": [
      "11it [03:51, 21.01s/it]"
     ]
    },
    {
     "name": "stdout",
     "output_type": "stream",
     "text": [
      "Loading M1\n",
      "Loading S1\n",
      "96\n"
     ]
    },
    {
     "name": "stderr",
     "output_type": "stream",
     "text": [
      "12it [03:59, 16.83s/it]"
     ]
    },
    {
     "name": "stdout",
     "output_type": "stream",
     "text": [
      "Loading M1\n",
      "Loading S1\n",
      "96\n"
     ]
    },
    {
     "name": "stderr",
     "output_type": "stream",
     "text": [
      "13it [04:06, 13.95s/it]"
     ]
    },
    {
     "name": "stdout",
     "output_type": "stream",
     "text": [
      "Loading M1\n",
      "Loading S1\n",
      "96\n"
     ]
    },
    {
     "name": "stderr",
     "output_type": "stream",
     "text": [
      "14it [04:14, 12.01s/it]"
     ]
    },
    {
     "name": "stdout",
     "output_type": "stream",
     "text": [
      "Loading M1\n",
      "Loading S1\n",
      "96\n"
     ]
    },
    {
     "name": "stderr",
     "output_type": "stream",
     "text": [
      "15it [04:48, 18.84s/it]"
     ]
    },
    {
     "name": "stdout",
     "output_type": "stream",
     "text": [
      "Loading M1\n",
      "Loading S1\n",
      "96\n"
     ]
    },
    {
     "name": "stderr",
     "output_type": "stream",
     "text": [
      "16it [05:23, 23.51s/it]"
     ]
    },
    {
     "name": "stdout",
     "output_type": "stream",
     "text": [
      "Loading M1\n",
      "Loading S1\n",
      "96\n"
     ]
    },
    {
     "name": "stderr",
     "output_type": "stream",
     "text": [
      "17it [05:57, 26.80s/it]"
     ]
    },
    {
     "name": "stdout",
     "output_type": "stream",
     "text": [
      "Loading M1\n",
      "Loading S1\n",
      "96\n"
     ]
    },
    {
     "name": "stderr",
     "output_type": "stream",
     "text": [
      "18it [06:14, 24.00s/it]"
     ]
    },
    {
     "name": "stdout",
     "output_type": "stream",
     "text": [
      "Loading M1\n",
      "Loading S1\n",
      "96\n"
     ]
    },
    {
     "name": "stderr",
     "output_type": "stream",
     "text": [
      "19it [06:32, 22.06s/it]"
     ]
    },
    {
     "name": "stdout",
     "output_type": "stream",
     "text": [
      "Loading M1\n",
      "Loading S1\n",
      "96\n"
     ]
    },
    {
     "name": "stderr",
     "output_type": "stream",
     "text": [
      "20it [06:49, 20.67s/it]"
     ]
    },
    {
     "name": "stdout",
     "output_type": "stream",
     "text": [
      "Loading M1\n",
      "Loading S1\n",
      "96\n"
     ]
    },
    {
     "name": "stderr",
     "output_type": "stream",
     "text": [
      "21it [06:57, 16.64s/it]"
     ]
    },
    {
     "name": "stdout",
     "output_type": "stream",
     "text": [
      "Loading M1\n",
      "Loading S1\n",
      "96\n"
     ]
    },
    {
     "name": "stderr",
     "output_type": "stream",
     "text": [
      "22it [07:04, 13.85s/it]"
     ]
    },
    {
     "name": "stdout",
     "output_type": "stream",
     "text": [
      "Loading M1\n",
      "Loading S1\n",
      "96\n"
     ]
    },
    {
     "name": "stderr",
     "output_type": "stream",
     "text": [
      "23it [07:11, 11.87s/it]"
     ]
    },
    {
     "name": "stdout",
     "output_type": "stream",
     "text": [
      "Loading M1\n",
      "Loading S1\n",
      "96\n"
     ]
    },
    {
     "name": "stderr",
     "output_type": "stream",
     "text": [
      "24it [07:46, 18.63s/it]"
     ]
    },
    {
     "name": "stdout",
     "output_type": "stream",
     "text": [
      "Loading M1\n",
      "Loading S1\n",
      "96\n"
     ]
    },
    {
     "name": "stderr",
     "output_type": "stream",
     "text": [
      "25it [08:20, 23.38s/it]"
     ]
    },
    {
     "name": "stdout",
     "output_type": "stream",
     "text": [
      "Loading M1\n",
      "Loading S1\n",
      "96\n"
     ]
    },
    {
     "name": "stderr",
     "output_type": "stream",
     "text": [
      "26it [08:55, 26.72s/it]"
     ]
    },
    {
     "name": "stdout",
     "output_type": "stream",
     "text": [
      "Loading M1\n",
      "Loading S1\n",
      "96\n"
     ]
    },
    {
     "name": "stderr",
     "output_type": "stream",
     "text": [
      "27it [09:12, 23.90s/it]"
     ]
    },
    {
     "name": "stdout",
     "output_type": "stream",
     "text": [
      "Loading M1\n",
      "Loading S1\n",
      "96\n"
     ]
    },
    {
     "name": "stderr",
     "output_type": "stream",
     "text": [
      "28it [09:30, 22.01s/it]"
     ]
    },
    {
     "name": "stdout",
     "output_type": "stream",
     "text": [
      "Loading M1\n",
      "Loading S1\n",
      "96\n"
     ]
    },
    {
     "name": "stderr",
     "output_type": "stream",
     "text": [
      "29it [09:47, 20.69s/it]"
     ]
    },
    {
     "name": "stdout",
     "output_type": "stream",
     "text": [
      "Loading M1\n",
      "Loading S1\n",
      "96\n"
     ]
    },
    {
     "name": "stderr",
     "output_type": "stream",
     "text": [
      "30it [09:54, 16.66s/it]"
     ]
    },
    {
     "name": "stdout",
     "output_type": "stream",
     "text": [
      "Loading M1\n",
      "Loading S1\n",
      "96\n"
     ]
    },
    {
     "name": "stderr",
     "output_type": "stream",
     "text": [
      "31it [10:02, 13.83s/it]"
     ]
    },
    {
     "name": "stdout",
     "output_type": "stream",
     "text": [
      "Loading M1\n",
      "Loading S1\n",
      "96\n"
     ]
    },
    {
     "name": "stderr",
     "output_type": "stream",
     "text": [
      "32it [10:09, 19.05s/it]\n"
     ]
    }
   ],
   "source": [
    "\n",
    "# Collect into bin width and filter param tuples\n",
    "\n",
    "processing_params = [\n",
    "    # Baseline - non-overlapping windows with no window\n",
    "    (5, dict(filter_fn='none', filter_kwargs={})),\n",
    "    (10, dict(filter_fn='none', filter_kwargs={})),\n",
    "    (15, dict(filter_fn='none', filter_kwargs={})),\n",
    "    (25, dict(filter_fn='none', filter_kwargs={})),\n",
    "    (50, dict(filter_fn='none', filter_kwargs={})),\n",
    "\n",
    "    # Narrow bins with smoothing timescales\n",
    "    (5, dict(filter_fn='gaussian', filter_kwargs={'sigma':1})),\n",
    "    (5, dict(filter_fn='gaussian', filter_kwargs={'sigma':3})),\n",
    "    (5, dict(filter_fn='gaussian', filter_kwargs={'sigma':5})),\n",
    "\n",
    "    (10, dict(filter_fn='gaussian', filter_kwargs={'sigma':1})),\n",
    "    (10, dict(filter_fn='gaussian', filter_kwargs={'sigma':3})),\n",
    "    (10, dict(filter_fn='gaussian', filter_kwargs={'sigma':5})),\n",
    "\n",
    "\n",
    "    (25, dict(filter_fn='gaussian', filter_kwargs={'sigma':1})),\n",
    "    (25, dict(filter_fn='gaussian', filter_kwargs={'sigma':3})),\n",
    "    (25, dict(filter_fn='gaussian', filter_kwargs={'sigma':5})),\n",
    "\n",
    "    # Narrow bins with boxcar filter of various widths\n",
    "    (5, dict(filter_fn='window', filter_kwargs={'window_name':'boxcar', 'window_length':3})),\n",
    "    (5, dict(filter_fn='window', filter_kwargs={'window_name':'boxcar', 'window_length':5})),\n",
    "    (5, dict(filter_fn='window', filter_kwargs={'window_name':'boxcar', 'window_length':10})),\n",
    "\n",
    "\n",
    "    (10, dict(filter_fn='window', filter_kwargs={'window_name':'boxcar', 'window_length':3})),\n",
    "    (10, dict(filter_fn='window', filter_kwargs={'window_name':'boxcar', 'window_length':5})),\n",
    "    (10, dict(filter_fn='window', filter_kwargs={'window_name':'boxcar', 'window_length':10})),\n",
    "\n",
    "\n",
    "    (25, dict(filter_fn='window', filter_kwargs={'window_name':'boxcar', 'window_length':3})),\n",
    "    (25, dict(filter_fn='window', filter_kwargs={'window_name':'boxcar', 'window_length':5})),\n",
    "    (25, dict(filter_fn='window', filter_kwargs={'window_name':'boxcar', 'window_length':10})),\n",
    "\n",
    "    # Hann windows\n",
    "    (5, dict(filter_fn='window', filter_kwargs={'window_name':'hann', 'window_length':3})),\n",
    "    (5, dict(filter_fn='window', filter_kwargs={'window_name':'hann', 'window_length':5})),\n",
    "    (5, dict(filter_fn='window', filter_kwargs={'window_name':'hann', 'window_length':10})),\n",
    "\n",
    "\n",
    "    (10, dict(filter_fn='window', filter_kwargs={'window_name':'hann', 'window_length':3})),\n",
    "    (10, dict(filter_fn='window', filter_kwargs={'window_name':'hann', 'window_length':5})),\n",
    "    (10, dict(filter_fn='window', filter_kwargs={'window_name':'hann', 'window_length':10})),\n",
    "\n",
    "\n",
    "    (25, dict(filter_fn='window', filter_kwargs={'window_name':'hann', 'window_length':3})),\n",
    "    (25, dict(filter_fn='window', filter_kwargs={'window_name':'hann', 'window_length':5})),\n",
    "    (25, dict(filter_fn='window', filter_kwargs={'window_name':'hann', 'window_length':10})),\n",
    "]\n",
    "\n",
    "for didx, data_file in enumerate(data_files):\n",
    "    for i, loader_param in tqdm(enumerate(processing_params)):\n",
    "        if os.path.exists('/mnt/Secondary/data/sabes_tmp/noboxcox/didx_%d_loader_idx_%d.pkl' % (didx, i)):\n",
    "            print('Skipping')\n",
    "            continue\n",
    "        else:\n",
    "            print('Loading M1')\n",
    "            datM1 = load_sabes(data_file, bin_width=loader_param[0], \n",
    "                               filter_fn=loader_param[1]['filter_fn'], filter_kwargs=loader_param[1]['filter_kwargs'], region='M1', boxcox=None)\n",
    "            print('Loading S1')\n",
    "            datS1 = load_sabes(data_file, bin_width=loader_param[0], filter_fn=loader_param[1]['filter_fn'], \n",
    "                               filter_kwargs=loader_param[1]['filter_kwargs'], region='S1', boxcox=None)\n",
    "\n",
    "            # Save away with the loader parameters\n",
    "            with open('/mnt/Secondary/data/sabes_tmp/noboxcox/didx_%d_loader_idx_%d.pkl' % (didx, i), 'wb') as f:\n",
    "                f.write(pickle.dumps(datM1))\n",
    "                f.write(pickle.dumps(datS1))\n",
    "                f.write(pickle.dumps(loader_param))"
   ]
  },
  {
   "cell_type": "markdown",
   "metadata": {},
   "source": [
    "### Autocorrelation and Cross-Correlation Calculations"
   ]
  },
  {
   "cell_type": "code",
   "execution_count": 15,
   "metadata": {},
   "outputs": [],
   "source": [
    "# Analysis #1: Effective single neuron autocorrelation times"
   ]
  },
  {
   "cell_type": "code",
   "execution_count": 6,
   "metadata": {},
   "outputs": [],
   "source": [
    "fls = glob.glob('/mnt/Secondary/data/sabes_tmp/*.pkl')"
   ]
  },
  {
   "cell_type": "code",
   "execution_count": 7,
   "metadata": {},
   "outputs": [
    {
     "name": "stderr",
     "output_type": "stream",
     "text": [
      "100%|██████████| 64/64 [05:42<00:00,  5.36s/it]\n"
     ]
    }
   ],
   "source": [
    "acfl = []\n",
    "for fl in tqdm(fls):\n",
    "    r = {}\n",
    "    r['didx'] = int(fl.split('didx_')[1].split('_')[0])\n",
    "    with open(fl, 'rb') as f:\n",
    "        datM1 = pickle.load(f)\n",
    "        datS1 = pickle.load(f)\n",
    "        lparam = pickle.load(f)\n",
    "    r['bin_width'] = lparam[0]\n",
    "    r['filter_fn'] = lparam[1]['filter_fn']\n",
    "    r['filter_kwargs'] = lparam[1]['filter_kwargs']\n",
    "\n",
    "    XM1 = datM1['spike_rates'].squeeze()\n",
    "    m1acf = []\n",
    "    for j in range(XM1.shape[1]):\n",
    "        m1acf.append(stattools.acf(XM1[:, j]))\n",
    "    \n",
    "    m1acf = np.array(m1acf).T\n",
    "\n",
    "    XS1 = datS1['spike_rates'].squeeze()\n",
    "    s1acf = []\n",
    "    for j in range(XS1.shape[1]):\n",
    "        s1acf.append(stattools.acf(XS1[:, j]))\n",
    "    \n",
    "    s1acf = np.array(s1acf).T\n",
    "\n",
    "    r['M1acf'] = m1acf\n",
    "    r['S1acf'] = s1acf\n",
    "    acfl.append(r) "
   ]
  },
  {
   "cell_type": "code",
   "execution_count": 8,
   "metadata": {},
   "outputs": [],
   "source": [
    "with open('/home/akumar/nse/neural_control/data/timescales/acf.pkl', 'wb') as f:\n",
    "    f.write(pickle.dumps(acfl))"
   ]
  },
  {
   "cell_type": "code",
   "execution_count": 6,
   "metadata": {},
   "outputs": [],
   "source": [
    "import time"
   ]
  },
  {
   "cell_type": "code",
   "execution_count": 6,
   "metadata": {},
   "outputs": [
    {
     "name": "stderr",
     "output_type": "stream",
     "text": [
      "100%|██████████| 64/64 [1:59:04<00:00, 111.64s/it]\n"
     ]
    }
   ],
   "source": [
    "# Analysis 2: Cross-correlations between M1/S1 neurons\n",
    "ccfl = []\n",
    "for fl in tqdm(fls):\n",
    "    r = {}\n",
    "    r['didx'] = int(fl.split('didx_')[1].split('_')[0])\n",
    "    with open(fl, 'rb') as f:\n",
    "        datM1 = pickle.load(f)\n",
    "        datS1 = pickle.load(f)\n",
    "        lparam = pickle.load(f)\n",
    "    r['bin_width'] = lparam[0]\n",
    "    r['filter_fn'] = lparam[1]['filter_fn']\n",
    "    r['filter_kwargs'] = lparam[1]['filter_kwargs']\n",
    "\n",
    "    XM1 = datM1['spike_rates'].squeeze()\n",
    "    XS1 = datS1['spike_rates'].squeeze()\n",
    "\n",
    "    x = np.hstack([XM1, XS1])\n",
    "    ccm = calc_cross_cov_mats_from_data(x, 30, chunks=10)\n",
    "    r['ccf'] = ccm\n",
    "    ccfl.append(r) "
   ]
  },
  {
   "cell_type": "code",
   "execution_count": 7,
   "metadata": {},
   "outputs": [],
   "source": [
    "with open('/home/akumar/nse/neural_control/data/timescales/ccf.pkl', 'wb') as f:\n",
    "    f.write(pickle.dumps(ccfl))"
   ]
  },
  {
   "cell_type": "code",
   "execution_count": 8,
   "metadata": {},
   "outputs": [
    {
     "name": "stderr",
     "output_type": "stream",
     "text": [
      "  0%|          | 0/64 [00:00<?, ?it/s]"
     ]
    },
    {
     "name": "stdout",
     "output_type": "stream",
     "text": [
      "36.82945704460144\n",
      "37.383957862854004\n",
      "56.4776930809021\n"
     ]
    }
   ],
   "source": [
    "# Analysis 4: Canonical correlation analysis\n",
    "ccal = []\n",
    "lags = np.array([4, 2, 0])\n",
    "windows = np.array([5, 3, 1])\n",
    "\n",
    "for fl in tqdm(fls):\n",
    "    with open(fl, 'rb') as f:\n",
    "        datM1 = pickle.load(f)\n",
    "        datS1 = pickle.load(f)\n",
    "        lparam = pickle.load(f)\n",
    "\n",
    "    Y = datM1['spike_rates'].squeeze()\n",
    "    X = datS1['spike_rates'].squeeze()\n",
    "\n",
    "    for k, lag in enumerate(lags):\n",
    "        for w, window in enumerate(windows):\n",
    "            t0 = time.time()\n",
    "            r = {}\n",
    "            r['didx'] = int(fl.split('didx_')[1].split('_')[0])\n",
    "            r['bin_width'] = lparam[0]\n",
    "            r['filter_fn'] = lparam[1]['filter_fn']\n",
    "            r['filter_kwargs'] = lparam[1]['filter_kwargs']\n",
    "            r['lag'] = lag\n",
    "            r['win'] = w\n",
    "\n",
    "            # Apply window and lag relative to each other\n",
    "            if lag != 0:\n",
    "                x = X[:-lag, :]\n",
    "                y = Y[lag:, :]\n",
    "            else:\n",
    "                x = X\n",
    "                y = Y\n",
    "\n",
    "            if w > 1:\n",
    "                x = form_lag_matrix(x, w)\n",
    "                y = form_lag_matrix(y, w)\n",
    "\n",
    "            ccamodel = CCA(n_components=6)\n",
    "            ccamodel.fit(x, y)\n",
    "            r['ccamodel'] = ccamodel\n",
    "            ccal.append(r)\n",
    "            print(time.time() - t0)            "
   ]
  },
  {
   "cell_type": "markdown",
   "metadata": {},
   "source": [
    "### Analysis"
   ]
  },
  {
   "cell_type": "code",
   "execution_count": 10,
   "metadata": {},
   "outputs": [],
   "source": [
    "# CCA across timescales\n",
    "fls = glob.glob('/mnt/Secondary/data/mpi_cc/*.pkl')"
   ]
  },
  {
   "cell_type": "code",
   "execution_count": 25,
   "metadata": {},
   "outputs": [],
   "source": [
    "rl = []\n",
    "for fl in fls:\n",
    "    with open(fl, 'rb') as f:\n",
    "        while True:\n",
    "            try:\n",
    "                result = pickle.load(f)\n",
    "                rl.append(result)\n",
    "            except (EOFError):\n",
    "                break"
   ]
  },
  {
   "cell_type": "code",
   "execution_count": 27,
   "metadata": {},
   "outputs": [],
   "source": [
    "df = pd.DataFrame(rl)"
   ]
  },
  {
   "cell_type": "code",
   "execution_count": 31,
   "metadata": {},
   "outputs": [
    {
     "data": {
      "text/plain": [
       "'/mnt/Secondary/data/sabes_tmp/didx_0_loader_idx_0.pkl'"
      ]
     },
     "execution_count": 31,
     "metadata": {},
     "output_type": "execute_result"
    }
   ],
   "source": [
    "df.iloc[0]['fl']"
   ]
  },
  {
   "cell_type": "code",
   "execution_count": 32,
   "metadata": {},
   "outputs": [
    {
     "data": {
      "text/plain": [
       "didx                                                             0\n",
       "bin_width                                                        5\n",
       "filter_fn                                                     none\n",
       "filter_kwargs                                                   {}\n",
       "lag                                                              4\n",
       "win                                                              0\n",
       "ccamodel                                       CCA(n_components=6)\n",
       "fl               /mnt/Secondary/data/sabes_tmp/didx_0_loader_id...\n",
       "Name: 0, dtype: object"
      ]
     },
     "execution_count": 32,
     "metadata": {},
     "output_type": "execute_result"
    }
   ],
   "source": [
    "df.iloc[0]"
   ]
  },
  {
   "cell_type": "code",
   "execution_count": 46,
   "metadata": {},
   "outputs": [
    {
     "data": {
      "text/plain": [
       "(352411, 186)"
      ]
     },
     "execution_count": 46,
     "metadata": {},
     "output_type": "execute_result"
    }
   ],
   "source": [
    "    with open(df.iloc[i]['fl'], 'rb') as f:\n",
    "        datM1 = pickle.load(f)\n",
    "        datS1 = pickle.load(f)\n",
    "        lparam = pickle.load(f)\n",
    "\n",
    "    Y = datM1['spike_rates'].squeeze()\n",
    "    X = datS1['spike_rates'].squeeze()\n",
    "Y.sha"
   ]
  },
  {
   "cell_type": "code",
   "execution_count": 176,
   "metadata": {},
   "outputs": [
    {
     "name": "stdout",
     "output_type": "stream",
     "text": [
      "0\n",
      "1\n",
      "2\n",
      "3\n",
      "4\n",
      "5\n",
      "6\n",
      "7\n",
      "8\n",
      "9\n",
      "10\n",
      "11\n",
      "12\n",
      "13\n",
      "14\n",
      "15\n",
      "16\n",
      "17\n",
      "18\n",
      "19\n",
      "20\n",
      "21\n",
      "22\n",
      "23\n",
      "24\n",
      "25\n",
      "26\n",
      "27\n",
      "28\n",
      "29\n",
      "30\n",
      "31\n",
      "32\n",
      "33\n",
      "34\n",
      "35\n",
      "36\n",
      "37\n",
      "38\n",
      "39\n",
      "40\n",
      "41\n",
      "42\n",
      "43\n",
      "44\n",
      "45\n",
      "46\n",
      "47\n",
      "48\n",
      "49\n",
      "50\n",
      "51\n",
      "52\n",
      "53\n",
      "54\n",
      "55\n",
      "56\n",
      "57\n",
      "58\n",
      "59\n",
      "60\n",
      "61\n",
      "62\n",
      "63\n",
      "64\n",
      "65\n",
      "66\n",
      "67\n",
      "68\n",
      "69\n",
      "70\n",
      "71\n",
      "72\n",
      "73\n",
      "74\n",
      "75\n",
      "76\n",
      "77\n",
      "78\n",
      "79\n",
      "80\n",
      "81\n",
      "82\n",
      "83\n",
      "84\n",
      "85\n",
      "86\n",
      "87\n",
      "88\n",
      "89\n",
      "90\n",
      "91\n",
      "92\n",
      "93\n",
      "94\n",
      "95\n",
      "96\n",
      "97\n",
      "98\n",
      "99\n",
      "100\n",
      "101\n",
      "102\n",
      "103\n",
      "104\n",
      "105\n",
      "106\n",
      "107\n",
      "108\n",
      "109\n",
      "110\n",
      "111\n",
      "112\n",
      "113\n",
      "114\n",
      "115\n",
      "116\n",
      "117\n",
      "118\n",
      "119\n",
      "120\n",
      "121\n",
      "122\n",
      "123\n",
      "124\n",
      "125\n",
      "126\n",
      "127\n",
      "128\n",
      "129\n",
      "130\n",
      "131\n",
      "132\n",
      "133\n",
      "134\n",
      "135\n",
      "136\n",
      "137\n",
      "138\n",
      "139\n",
      "140\n",
      "141\n",
      "142\n",
      "143\n",
      "144\n",
      "145\n",
      "146\n",
      "147\n",
      "148\n",
      "149\n",
      "150\n",
      "151\n",
      "152\n",
      "153\n",
      "154\n",
      "155\n",
      "156\n",
      "157\n",
      "158\n",
      "159\n",
      "160\n",
      "161\n",
      "162\n",
      "163\n",
      "164\n",
      "165\n",
      "166\n",
      "167\n",
      "168\n",
      "169\n",
      "170\n",
      "171\n",
      "172\n",
      "173\n",
      "174\n",
      "175\n",
      "176\n",
      "177\n",
      "178\n",
      "179\n",
      "180\n",
      "181\n",
      "182\n",
      "183\n",
      "184\n",
      "185\n",
      "186\n",
      "187\n",
      "188\n",
      "189\n",
      "190\n",
      "191\n",
      "192\n",
      "193\n",
      "194\n",
      "195\n",
      "196\n",
      "197\n",
      "198\n",
      "199\n",
      "200\n",
      "201\n",
      "202\n",
      "203\n",
      "204\n",
      "205\n",
      "206\n",
      "207\n",
      "208\n",
      "209\n",
      "210\n",
      "211\n",
      "212\n",
      "213\n",
      "214\n",
      "215\n",
      "216\n",
      "217\n",
      "218\n",
      "219\n",
      "220\n",
      "221\n",
      "222\n",
      "223\n",
      "224\n",
      "225\n",
      "226\n",
      "227\n",
      "228\n",
      "229\n",
      "230\n",
      "231\n",
      "232\n",
      "233\n",
      "234\n",
      "235\n",
      "236\n",
      "237\n",
      "238\n",
      "239\n",
      "240\n",
      "241\n",
      "242\n",
      "243\n",
      "244\n",
      "245\n",
      "246\n",
      "247\n",
      "248\n",
      "249\n",
      "250\n",
      "251\n",
      "252\n",
      "253\n",
      "254\n",
      "255\n",
      "256\n",
      "257\n",
      "258\n",
      "259\n",
      "260\n",
      "261\n",
      "262\n",
      "263\n",
      "264\n",
      "265\n",
      "266\n",
      "267\n",
      "268\n",
      "269\n",
      "270\n",
      "271\n",
      "272\n",
      "273\n",
      "274\n",
      "275\n",
      "276\n",
      "277\n",
      "278\n",
      "279\n",
      "280\n",
      "281\n",
      "282\n",
      "283\n",
      "284\n",
      "285\n",
      "286\n",
      "287\n",
      "288\n",
      "289\n",
      "290\n",
      "291\n",
      "292\n",
      "293\n",
      "294\n",
      "295\n",
      "296\n",
      "297\n",
      "298\n",
      "299\n",
      "300\n",
      "301\n",
      "302\n",
      "303\n",
      "304\n",
      "305\n",
      "306\n",
      "307\n",
      "308\n",
      "309\n",
      "310\n",
      "311\n",
      "312\n",
      "313\n",
      "314\n",
      "315\n",
      "316\n",
      "317\n",
      "318\n",
      "319\n",
      "320\n",
      "321\n",
      "322\n",
      "323\n",
      "324\n",
      "325\n",
      "326\n",
      "327\n",
      "328\n",
      "329\n",
      "330\n",
      "331\n",
      "332\n",
      "333\n",
      "334\n",
      "335\n",
      "336\n",
      "337\n",
      "338\n",
      "339\n",
      "340\n",
      "341\n",
      "342\n",
      "343\n",
      "344\n",
      "345\n",
      "346\n",
      "347\n",
      "348\n",
      "349\n",
      "350\n",
      "351\n",
      "352\n",
      "353\n",
      "354\n",
      "355\n",
      "356\n",
      "357\n",
      "358\n",
      "359\n",
      "360\n",
      "361\n",
      "362\n",
      "363\n",
      "364\n",
      "365\n",
      "366\n",
      "367\n",
      "368\n",
      "369\n",
      "370\n",
      "371\n",
      "372\n",
      "373\n",
      "374\n",
      "375\n",
      "376\n",
      "377\n",
      "378\n",
      "379\n",
      "380\n",
      "381\n",
      "382\n",
      "383\n",
      "384\n",
      "385\n",
      "386\n",
      "387\n",
      "388\n",
      "389\n",
      "390\n",
      "391\n",
      "392\n",
      "393\n",
      "394\n",
      "395\n",
      "396\n",
      "397\n",
      "398\n",
      "399\n",
      "400\n",
      "401\n",
      "402\n",
      "403\n",
      "404\n",
      "405\n",
      "406\n",
      "407\n",
      "408\n",
      "409\n",
      "410\n",
      "411\n",
      "412\n",
      "413\n",
      "414\n",
      "415\n",
      "416\n",
      "417\n",
      "418\n",
      "419\n",
      "420\n",
      "421\n",
      "422\n",
      "423\n",
      "424\n",
      "425\n",
      "426\n",
      "427\n",
      "428\n",
      "429\n",
      "430\n",
      "431\n",
      "432\n",
      "433\n",
      "434\n",
      "435\n",
      "436\n",
      "437\n",
      "438\n",
      "439\n",
      "440\n",
      "441\n",
      "442\n",
      "443\n",
      "444\n",
      "445\n",
      "446\n",
      "447\n",
      "448\n",
      "449\n",
      "450\n",
      "451\n",
      "452\n",
      "453\n",
      "454\n",
      "455\n",
      "456\n",
      "457\n",
      "458\n",
      "459\n",
      "460\n",
      "461\n",
      "462\n",
      "463\n",
      "464\n",
      "465\n",
      "466\n",
      "467\n",
      "468\n",
      "469\n",
      "470\n",
      "471\n",
      "472\n",
      "473\n",
      "474\n",
      "475\n",
      "476\n",
      "477\n",
      "478\n",
      "479\n",
      "480\n",
      "481\n",
      "482\n",
      "483\n",
      "484\n",
      "485\n",
      "486\n",
      "487\n",
      "488\n",
      "489\n",
      "490\n",
      "491\n",
      "492\n",
      "493\n",
      "494\n",
      "495\n",
      "496\n",
      "497\n",
      "498\n",
      "499\n",
      "500\n",
      "501\n",
      "502\n",
      "503\n",
      "504\n",
      "505\n",
      "506\n",
      "507\n",
      "508\n",
      "509\n",
      "510\n",
      "511\n",
      "512\n",
      "513\n",
      "514\n",
      "515\n",
      "516\n",
      "517\n",
      "518\n",
      "519\n",
      "520\n",
      "521\n",
      "522\n",
      "523\n",
      "524\n",
      "525\n",
      "526\n",
      "527\n",
      "528\n",
      "529\n",
      "530\n",
      "531\n",
      "532\n",
      "533\n",
      "534\n",
      "535\n",
      "536\n",
      "537\n",
      "538\n",
      "539\n",
      "540\n",
      "541\n",
      "542\n",
      "543\n",
      "544\n",
      "545\n",
      "546\n",
      "547\n",
      "548\n",
      "549\n",
      "550\n",
      "551\n",
      "552\n",
      "553\n",
      "554\n",
      "555\n",
      "556\n",
      "557\n",
      "558\n",
      "559\n",
      "560\n",
      "561\n",
      "562\n",
      "563\n",
      "564\n",
      "565\n",
      "566\n",
      "567\n",
      "568\n",
      "569\n",
      "570\n",
      "571\n",
      "572\n",
      "573\n",
      "574\n",
      "575\n"
     ]
    }
   ],
   "source": [
    "# Get the canonical correlation coefficients.\n",
    "cc_coefs = np.zeros((df.shape[0], 6))\n",
    "r2_scores = np.zeros(df.shape[0])\n",
    "# These are the \n",
    "\n",
    "for i in range(df.shape[0]):\n",
    "    print(i)\n",
    "    with open(df.iloc[i]['fl'], 'rb') as f:\n",
    "        datM1 = pickle.load(f)\n",
    "        datS1 = pickle.load(f)\n",
    "        lparam = pickle.load(f)\n",
    "\n",
    "    Y = datM1['spike_rates'].squeeze()\n",
    "    X = datS1['spike_rates'].squeeze()\n",
    "\n",
    "    lag = df.iloc[i]['lag']\n",
    "    w = df.iloc[i]['win']\n",
    "\n",
    "\n",
    "    # Apply window and lag relative to each other\n",
    "    if lag != 0:\n",
    "        x = X[:-lag, :]\n",
    "        y = Y[lag:, :]\n",
    "    else:\n",
    "        x = X\n",
    "        y = Y\n",
    "\n",
    "    if w > 1:\n",
    "        x = form_lag_matrix(x, w)\n",
    "        y = form_lag_matrix(y, w)\n",
    "\n",
    "\n",
    "    model = df.iloc[i]['ccamodel']\n",
    "    X_c, Y_c = model.transform(x, y)\n",
    "    ccc2 = np.array([scipy.stats.pearsonr(X_c[:, j], Y_c[:, j])[0] for j in range(X_c.shape[1])])    \n",
    "    cc_coefs[i, :] = ccc2\n",
    "    r2_scores[i] = model.score(x, y)\n"
   ]
  },
  {
   "cell_type": "code",
   "execution_count": 177,
   "metadata": {},
   "outputs": [],
   "source": [
    "df['cc_coefs'] = list(cc_coefs)\n",
    "df['r2_scores'] = list(r2_scores)"
   ]
  },
  {
   "cell_type": "code",
   "execution_count": 178,
   "metadata": {},
   "outputs": [],
   "source": [
    "with open('/mnt/Secondary/data/postprocessed/cca_timescales_df.pkl', 'wb') as f:\n",
    "    f.write(pickle.dumps(df))"
   ]
  },
  {
   "cell_type": "code",
   "execution_count": 60,
   "metadata": {},
   "outputs": [
    {
     "data": {
      "text/plain": [
       "array(['gaussian', 'none', 'window'], dtype=object)"
      ]
     },
     "execution_count": 60,
     "metadata": {},
     "output_type": "execute_result"
    }
   ],
   "source": [
    "np.unique(df['filter_fn'].values)"
   ]
  },
  {
   "cell_type": "code",
   "execution_count": null,
   "metadata": {},
   "outputs": [],
   "source": [
    "# Plot the canonical correlation coefficients as a function of the autocorrelation time of the window"
   ]
  },
  {
   "cell_type": "code",
   "execution_count": 67,
   "metadata": {},
   "outputs": [
    {
     "data": {
      "text/plain": [
       "didx                                                             0\n",
       "bin_width                                                       10\n",
       "filter_fn                                                 gaussian\n",
       "filter_kwargs                                         {'sigma': 5}\n",
       "lag                                                              0\n",
       "win                                                              0\n",
       "ccamodel                                       CCA(n_components=6)\n",
       "fl               /mnt/Secondary/data/sabes_tmp/didx_0_loader_id...\n",
       "cc_coefs         [0.839197697302262, 0.6841652902187854, 0.5613...\n",
       "Name: 24, dtype: object"
      ]
     },
     "execution_count": 67,
     "metadata": {},
     "output_type": "execute_result"
    }
   ],
   "source": [
    "df.iloc[24]"
   ]
  },
  {
   "cell_type": "code",
   "execution_count": 65,
   "metadata": {},
   "outputs": [],
   "source": [
    "g1 = scipy.signal.get_window(('gaussian',3), 100)\n",
    "g2 = scipy.signal.get_window(('gaussian', 3), 20)"
   ]
  },
  {
   "cell_type": "code",
   "execution_count": 70,
   "metadata": {},
   "outputs": [],
   "source": [
    "x = np.correlate(g1, g1, mode='full')"
   ]
  },
  {
   "cell_type": "code",
   "execution_count": 72,
   "metadata": {},
   "outputs": [],
   "source": [
    "x = x[x.size//2:]"
   ]
  },
  {
   "cell_type": "code",
   "execution_count": 75,
   "metadata": {},
   "outputs": [
    {
     "data": {
      "text/plain": [
       "16"
      ]
     },
     "execution_count": 75,
     "metadata": {},
     "output_type": "execute_result"
    }
   ],
   "source": [
    "np.argwhere(x < 1e-2)[0][0]"
   ]
  },
  {
   "cell_type": "code",
   "execution_count": 80,
   "metadata": {},
   "outputs": [
    {
     "name": "stderr",
     "output_type": "stream",
     "text": [
      "100%|██████████| 576/576 [00:00<00:00, 4898.24it/s]\n"
     ]
    }
   ],
   "source": [
    "# Window autocorrelation times\n",
    "\n",
    "autocorr_times = np.zeros(df.shape[0])\n",
    "for i in tqdm(range(df.shape[0])):\n",
    "\n",
    "    window_type = df.iloc[i]['filter_fn']\n",
    "    if window_type == 'window':\n",
    "        window_type = df.iloc[i]['filter_kwargs']['window_name']\n",
    "\n",
    "    if window_type == 'none':\n",
    "        autocorr_times[i] = df.iloc[i]['bin_width']\n",
    "    else:\n",
    "        if window_type == 'gaussian':\n",
    "            window = scipy.signal.get_window(('gaussian', df.iloc[i]['filter_kwargs']['sigma']), 100)\n",
    "        else:\n",
    "            window = scipy.signal.get_window(df.iloc[i]['filter_kwargs']['window_name'], 100)\n",
    "\n",
    "        autocorr = np.correlate(window, window, mode='full')\n",
    "        autocorr = autocorr[autocorr.size//2:]\n",
    "\n",
    "        autocorr_times[i] = df.iloc[i]['bin_width'] * np.argwhere(autocorr <= 1e-2 * autocorr[0])[0][0]"
   ]
  },
  {
   "cell_type": "code",
   "execution_count": 10,
   "metadata": {},
   "outputs": [],
   "source": [
    "with open('/home/akumar/nse/neural_control/data/timescales/ccf.pkl', 'rb') as f:\n",
    "    ccfl = pickle.load(f)"
   ]
  },
  {
   "cell_type": "code",
   "execution_count": 11,
   "metadata": {},
   "outputs": [],
   "source": [
    "ccf_df = pd.DataFrame(ccfl)"
   ]
  },
  {
   "cell_type": "code",
   "execution_count": 90,
   "metadata": {},
   "outputs": [
    {
     "data": {
      "text/plain": [
       "(30, 272, 272)"
      ]
     },
     "execution_count": 90,
     "metadata": {},
     "output_type": "execute_result"
    }
   ],
   "source": [
    "np.array(ccf_df.iloc[0]['ccf']).shape"
   ]
  },
  {
   "cell_type": "code",
   "execution_count": 13,
   "metadata": {},
   "outputs": [],
   "source": [
    "# Get the average autocorrelation times across the recording session from the calculated cross correlations\n",
    "avg_act = np.zeros(ccf_df.shape[0])\n",
    "median_act = np.zeros(ccf_df.shape[0])\n",
    "for i in range(ccf_df.shape[0]):\n",
    "    acf = np.diagonal(ccf_df.iloc[i]['ccf'], axis1=1, axis2=2)\n",
    "\n",
    "    act_index = [np.argwhere(acf[:, j] <= 5e-2 * acf[0, j]) for j in range(acf.shape[1])]\n",
    "    act = np.array([aidx[0][0] if len(aidx > 0) else acf.shape[0] for aidx in act_index])\n",
    "    avg_act[i] = np.mean(act)\n",
    "    median_act[i] = np.median(act)"
   ]
  },
  {
   "cell_type": "code",
   "execution_count": 14,
   "metadata": {},
   "outputs": [],
   "source": [
    "ccf_df['avg_act'] = list(avg_act)\n",
    "ccf_df['median_act'] = list(median_act)"
   ]
  },
  {
   "cell_type": "code",
   "execution_count": 110,
   "metadata": {},
   "outputs": [],
   "source": [
    "import itertools"
   ]
  },
  {
   "cell_type": "code",
   "execution_count": 114,
   "metadata": {},
   "outputs": [],
   "source": [
    "def get_cmap(n, name='hsv'):\n",
    "    '''Returns a function that maps each index in 0, 1, ..., n-1 to a distinct \n",
    "    RGB color; the keyword argument name must be a standard mpl colormap name.'''\n",
    "    return plt.cm.get_cmap(name, n)"
   ]
  },
  {
   "cell_type": "code",
   "execution_count": 17,
   "metadata": {},
   "outputs": [],
   "source": [
    "lags = list(np.unique(df['lag'].values))\n",
    "windows = list(np.unique(df['win'].values))"
   ]
  },
  {
   "cell_type": "code",
   "execution_count": null,
   "metadata": {},
   "outputs": [],
   "source": [
    "# Since we know that window size 1 gives rise to the highest cca, let's simplify the plot by only using window 1"
   ]
  },
  {
   "cell_type": "code",
   "execution_count": 179,
   "metadata": {},
   "outputs": [],
   "source": [
    "# 'win=2' corresponds to index 2, which if we refer to mpi_timescale_cca, refers to window size 1\n",
    "#w1df = apply_df_filters(df, win=2)\n",
    "w1df = apply_df_filters(df)\n",
    "ccc_act_pairs = np.zeros((w1df.shape[0], 3))\n",
    "\n",
    "lag_cols = ['r', 'g', 'b']\n",
    "#win_markers = ['s', 't', 'o']\n",
    "win_cols = ['r', 'g', 'b']\n",
    "\n",
    "cols1 = []\n",
    "cols2 = []\n",
    "for i in range(w1df.shape[0]):\n",
    "#    ccc = np.max(w1df.iloc[i]['cc_coefs'])\n",
    "    ccc = w1df.iloc[0]['r2_scores']\n",
    "    ccf_df_ = apply_df_filters(ccf_df, didx=w1df.iloc[i]['didx'], bin_width=w1df.iloc[i]['bin_width'], filter_fn=w1df.iloc[i]['filter_fn'], filter_kwargs=w1df.iloc[i]['filter_kwargs'])\n",
    "    assert(ccf_df_.shape[0] == 1)\n",
    "    ccc_act_pairs[i, 0] = ccc\n",
    "    ccc_act_pairs[i, 1] = ccf_df_.iloc[0]['avg_act']\n",
    "    ccc_act_pairs[i, 2] = ccf_df_.iloc[0]['median_act']\n",
    "\n",
    "    cols1.append(lag_cols[lags.index(w1df.iloc[i]['lag'])])\n",
    "    cols2.append(lag_cols[windows.index(w1df.iloc[i]['win'])])"
   ]
  },
  {
   "cell_type": "code",
   "execution_count": 180,
   "metadata": {},
   "outputs": [
    {
     "data": {
      "text/plain": [
       "<matplotlib.collections.PathCollection at 0x7f526ced4a90>"
      ]
     },
     "execution_count": 180,
     "metadata": {},
     "output_type": "execute_result"
    },
    {
     "data": {
      "image/png": "[encoded data removed]",
      "text/plain": [
       "<Figure size 640x480 with 1 Axes>"
      ]
     },
     "metadata": {},
     "output_type": "display_data"
    }
   ],
   "source": [
    "# Additionally color code by lag/window size combinations\n",
    "plt.scatter(ccc_act_pairs[:, 1], ccc_act_pairs[:, 0], c=cols1, alpha=0.5)\n",
    "\n",
    "# What acounts for the residual variation?"
   ]
  },
  {
   "cell_type": "code",
   "execution_count": null,
   "metadata": {},
   "outputs": [],
   "source": [
    "# Conclusion: Overall canonical correlation between the 2 recordings is highest at zero lag, window size 1, and grows with the autocorrelation time of the signal "
   ]
  },
  {
   "cell_type": "markdown",
   "metadata": {},
   "source": [
    "### Direct regression analysis"
   ]
  },
  {
   "cell_type": "code",
   "execution_count": 193,
   "metadata": {},
   "outputs": [],
   "source": [
    "# What is the raw r2 of prediction across the different preprocesing parameters? CCA doesn't do very well, because we try to compress down to 6 dimensions. Let's just do ambient regression. This dovetails nicely\n",
    "# with a poisson GLM regressiona"
   ]
  },
  {
   "cell_type": "code",
   "execution_count": 8,
   "metadata": {},
   "outputs": [],
   "source": [
    "with open('/mnt/Secondary/data/postprocessed/cca_timescales_df.pkl', 'rb') as f:\n",
    "    df = pickle.load(f)"
   ]
  },
  {
   "cell_type": "code",
   "execution_count": 6,
   "metadata": {},
   "outputs": [],
   "source": [
    "from sklearn.linear_model import LinearRegression\n",
    "from sklearn.preprocessing import StandardScaler"
   ]
  },
  {
   "cell_type": "code",
   "execution_count": 8,
   "metadata": {},
   "outputs": [
    {
     "name": "stderr",
     "output_type": "stream",
     "text": [
      "100%|██████████| 576/576 [27:21<00:00,  2.85s/it]\n"
     ]
    }
   ],
   "source": [
    "lr2 = np.zeros(df.shape[0])\n",
    "\n",
    "for i in tqdm(range(df.shape[0])):\n",
    "    with open(df.iloc[i]['fl'], 'rb') as f:\n",
    "        datM1 = pickle.load(f)\n",
    "        datS1 = pickle.load(f)\n",
    "        lparam = pickle.load(f)\n",
    "\n",
    "    Y = datM1['spike_rates'].squeeze()\n",
    "    X = datS1['spike_rates'].squeeze()\n",
    "\n",
    "    lag = df.iloc[i]['lag']\n",
    "    w = df.iloc[i]['win']\n",
    "\n",
    "\n",
    "    # Apply window and lag relative to each other\n",
    "    if lag != 0:\n",
    "        x = X[:-lag, :]\n",
    "        y = Y[lag:, :]\n",
    "    else:\n",
    "        x = X\n",
    "        y = Y\n",
    "\n",
    "    if w > 1:\n",
    "        x = form_lag_matrix(x, w)\n",
    "        y = form_lag_matrix(y, w)\n",
    "\n",
    "    x = StandardScaler().fit_transform(x)\n",
    "    y = StandardScaler().fit_transform(y)\n",
    "\n",
    "    linmodel = LinearRegression()\n",
    "    linmodel.fit(x, y)\n",
    "    \n",
    "    lr2[i] = linmodel.score(x, y)"
   ]
  },
  {
   "cell_type": "code",
   "execution_count": 18,
   "metadata": {},
   "outputs": [],
   "source": [
    "# 'win=2' corresponds to index 2, which if we refer to mpi_timescale_cca, refers to window size 1\n",
    "#w1df = apply_df_filters(df, win=2)\n",
    "w1df = apply_df_filters(df)\n",
    "ccc_act_pairs = np.zeros((w1df.shape[0], 3))\n",
    "\n",
    "lag_cols = ['r', 'g', 'b']\n",
    "#win_markers = ['s', 't', 'o']\n",
    "win_cols = ['r', 'g', 'b']\n",
    "\n",
    "cols1 = []\n",
    "cols2 = []\n",
    "for i in range(w1df.shape[0]):\n",
    "#    ccc = np.max(w1df.iloc[i]['cc_coefs'])\n",
    "    ccf_df_ = apply_df_filters(ccf_df, didx=w1df.iloc[i]['didx'], bin_width=w1df.iloc[i]['bin_width'], filter_fn=w1df.iloc[i]['filter_fn'], filter_kwargs=w1df.iloc[i]['filter_kwargs'])\n",
    "    assert(ccf_df_.shape[0] == 1)\n",
    "    ccc_act_pairs[i, 0] = lr2[i]\n",
    "    ccc_act_pairs[i, 1] = ccf_df_.iloc[0]['avg_act']\n",
    "    ccc_act_pairs[i, 2] = ccf_df_.iloc[0]['median_act']\n",
    "\n",
    "    cols1.append(lag_cols[lags.index(w1df.iloc[i]['lag'])])\n",
    "    cols2.append(lag_cols[windows.index(w1df.iloc[i]['win'])])"
   ]
  },
  {
   "cell_type": "code",
   "execution_count": 19,
   "metadata": {},
   "outputs": [
    {
     "data": {
      "text/plain": [
       "<matplotlib.collections.PathCollection at 0x7fa7e65f36a0>"
      ]
     },
     "execution_count": 19,
     "metadata": {},
     "output_type": "execute_result"
    },
    {
     "data": {
      "image/png": "[encoded data removed]",
      "text/plain": [
       "<Figure size 640x480 with 1 Axes>"
      ]
     },
     "metadata": {},
     "output_type": "display_data"
    }
   ],
   "source": [
    "plt.scatter(ccc_act_pairs[:, 1], ccc_act_pairs[:, 0], c=cols1, alpha=0.5)\n"
   ]
  },
  {
   "cell_type": "code",
   "execution_count": null,
   "metadata": {},
   "outputs": [],
   "source": [
    "# Project the M1 data onto the most predictable direction...\n",
    "# How does one do that? Project onto top CCA vectors?"
   ]
  },
  {
   "cell_type": "code",
   "execution_count": 20,
   "metadata": {},
   "outputs": [],
   "source": [
    "# Next plot of interest: What is the distribution of cross-correlations (?)\n",
    "\n",
    "# Pairwise cross-correlation times M1/M1, S1, S1, M1/S1"
   ]
  },
  {
   "cell_type": "code",
   "execution_count": 24,
   "metadata": {},
   "outputs": [],
   "source": [
    "# 8x8 set of boxplots"
   ]
  },
  {
   "cell_type": "code",
   "execution_count": 25,
   "metadata": {},
   "outputs": [
    {
     "data": {
      "text/plain": [
       "Index(['didx', 'bin_width', 'filter_fn', 'filter_kwargs', 'ccf', 'avg_act',\n",
       "       'median_act'],\n",
       "      dtype='object')"
      ]
     },
     "execution_count": 25,
     "metadata": {},
     "output_type": "execute_result"
    }
   ],
   "source": [
    "ccf_df.keys()"
   ]
  },
  {
   "cell_type": "code",
   "execution_count": 28,
   "metadata": {},
   "outputs": [
    {
     "data": {
      "text/plain": [
       "False"
      ]
     },
     "execution_count": 28,
     "metadata": {},
     "output_type": "execute_result"
    }
   ],
   "source": [
    "np.allclose(ccf_df.iloc[0]['ccf'][1].T, ccf_df.iloc[0]['ccf'][1])"
   ]
  },
  {
   "cell_type": "code",
   "execution_count": 37,
   "metadata": {},
   "outputs": [
    {
     "name": "stderr",
     "output_type": "stream",
     "text": [
      "100%|██████████| 64/64 [01:14<00:00,  1.16s/it]\n"
     ]
    }
   ],
   "source": [
    "rl = []\n",
    "for i in tqdm(range(ccf_df.shape[0])):\n",
    "    df_ = apply_df_filters(df, didx=ccf_df.iloc[i]['didx'], bin_width=ccf_df.iloc[i]['bin_width'], \n",
    "                               filter_fn=ccf_df.iloc[i]['filter_fn'], filter_kwargs=ccf_df.iloc[i]['filter_kwargs'])\n",
    "    assert(ccf_df_.shape[0] == 1)\n",
    "\n",
    "\n",
    "    with open(df_.iloc[0]['fl'], 'rb') as f:\n",
    "        datM1 = pickle.load(f)\n",
    "        datS1 = pickle.load(f)\n",
    "        lparam = pickle.load(f)\n",
    "\n",
    "    Y = datM1['spike_rates'].squeeze()\n",
    "    X = datS1['spike_rates'].squeeze()\n",
    "\n",
    "    M1shape = Y.shape[-1]\n",
    "    S1shape = X.shape[-1]\n",
    "\n",
    "    ccf = ccf_df.iloc[i]['ccf']\n",
    "\n",
    "    cctM1 = []\n",
    "    cctS1 = []\n",
    "    cctM1S1 = []\n",
    "    cctS1M1 = []\n",
    "\n",
    "    for j in range(ccf.shape[1]):\n",
    "        for k in range(ccf.shape[2]):\n",
    "            if j == k:\n",
    "                continue\n",
    "\n",
    "            cct_index = np.argwhere(np.abs(ccf[:, j, k]) <= np.abs(1e-1 * ccf[0, j, k]))\n",
    "\n",
    "            if j <= M1shape and k <= M1shape:                \n",
    "                if len(cct_index) > 0:\n",
    "                    cctM1.append(cct_index[0][0])\n",
    "                else:\n",
    "                    cctM1.append(ccf.shape[0])\n",
    "\n",
    "            elif j > M1shape and k > M1shape:\n",
    "                \n",
    "                if len(cct_index) > 0:\n",
    "                    cctS1.append(cct_index[0][0])\n",
    "                else:\n",
    "                    cctS1.append(ccf.shape[0])\n",
    "                \n",
    "            # Labeling is a bit ambiguous here\n",
    "            elif j > M1shape:\n",
    "\n",
    "                if len(cct_index) > 0:\n",
    "                    cctM1S1.append(cct_index[0][0])\n",
    "                else:\n",
    "                    cctM1S1.append(ccf.shape[0])\n",
    "\n",
    "\n",
    "            elif k > S1shape:\n",
    "\n",
    "                if len(cct_index) > 0:\n",
    "                    cctS1M1.append(cct_index[0][0])\n",
    "                else:\n",
    "                    cctS1M1.append(ccf.shape[0])\n",
    "\n",
    "    r = {}\n",
    "    r['fl'] = df_.iloc[0]['fl']\n",
    "    r['cctM1'] = np.array(cctM1)\n",
    "    r['cctS1'] = np.array(cctS1)\n",
    "    r['cctM1S1'] = np.array(cctM1S1)\n",
    "    r['cctS1M1'] = np.array(cctS1M1)\n",
    "    rl.append(r)"
   ]
  },
  {
   "cell_type": "code",
   "execution_count": 38,
   "metadata": {},
   "outputs": [
    {
     "data": {
      "image/png": "[encoded data removed]",
      "text/plain": [
       "<Figure size 3200x3200 with 64 Axes>"
      ]
     },
     "metadata": {},
     "output_type": "display_data"
    }
   ],
   "source": [
    "# 8 x 8 boxplots\n",
    "fig, ax = plt.subplots(8, 8, figsize=(32, 32))\n",
    "\n",
    "for i in range(len(rl)):\n",
    "    a = ax[np.unravel_index(i, (8, 8))]\n",
    "    r = rl[i]\n",
    "    a.boxplot([r['cctM1'], r['cctS1'], r['cctM1S1'], r['cctS1M1']])"
   ]
  },
  {
   "cell_type": "code",
   "execution_count": 39,
   "metadata": {},
   "outputs": [],
   "source": [
    "# Possible analysis: Using pre-processing parameters that don't saturate at 30, look at pairs of neurons with high\n",
    "# "
   ]
  },
  {
   "cell_type": "code",
   "execution_count": 40,
   "metadata": {},
   "outputs": [],
   "source": [
    "# What is the predictive power of S1 onto the top n cca components?"
   ]
  },
  {
   "cell_type": "code",
   "execution_count": 41,
   "metadata": {},
   "outputs": [
    {
     "data": {
      "text/plain": [
       "didx                                                             0\n",
       "bin_width                                                        5\n",
       "filter_fn                                                     none\n",
       "filter_kwargs                                                   {}\n",
       "lag                                                              4\n",
       "win                                                              0\n",
       "ccamodel                                       CCA(n_components=6)\n",
       "fl               /mnt/Secondary/data/sabes_tmp/didx_0_loader_id...\n",
       "cc_coefs         [0.19775543603246445, 0.07888587526980315, 0.0...\n",
       "r2_scores                                                -0.028816\n",
       "Name: 0, dtype: object"
      ]
     },
     "execution_count": 41,
     "metadata": {},
     "output_type": "execute_result"
    }
   ],
   "source": [
    "df.iloc[0]"
   ]
  },
  {
   "cell_type": "code",
   "execution_count": 43,
   "metadata": {},
   "outputs": [
    {
     "name": "stderr",
     "output_type": "stream",
     "text": [
      "100%|██████████| 576/576 [51:16<00:00,  5.34s/it]\n"
     ]
    }
   ],
   "source": [
    "lr2_cc = np.zeros((df.shape[0], 6))\n",
    "\n",
    "for i in tqdm(range(df.shape[0])):\n",
    "    with open(df.iloc[i]['fl'], 'rb') as f:\n",
    "        datM1 = pickle.load(f)\n",
    "        datS1 = pickle.load(f)\n",
    "        lparam = pickle.load(f)\n",
    "\n",
    "    Y = datM1['spike_rates'].squeeze()\n",
    "    X = datS1['spike_rates'].squeeze()\n",
    "\n",
    "    lag = df.iloc[i]['lag']\n",
    "    w = df.iloc[i]['win']\n",
    "\n",
    "\n",
    "    # Apply window and lag relative to each other\n",
    "    if lag != 0:\n",
    "        x = X[:-lag, :]\n",
    "        y = Y[lag:, :]\n",
    "    else:\n",
    "        x = X\n",
    "        y = Y\n",
    "\n",
    "    if w > 1:\n",
    "        x = form_lag_matrix(x, w)\n",
    "        y = form_lag_matrix(y, w)\n",
    "\n",
    "    model = df.iloc[i]['ccamodel']\n",
    "    X_c, Y_c = model.transform(x, y)\n",
    "\n",
    "    x = StandardScaler().fit_transform(x)\n",
    "    for d in range(1, 7):\n",
    "        y = StandardScaler().fit_transform(Y_c)[:, 0:d]\n",
    "\n",
    "        linmodel = LinearRegression()\n",
    "        linmodel.fit(x, y)\n",
    "        \n",
    "        lr2_cc[i, d-1] = linmodel.score(x, y)"
   ]
  },
  {
   "cell_type": "code",
   "execution_count": 44,
   "metadata": {},
   "outputs": [],
   "source": [
    "with open('m1s1_regression.dat', 'wb') as f:\n",
    "    f.write(pickle.dumps(lr2))\n",
    "    f.write(pickle.dumps(lr2_cc))"
   ]
  },
  {
   "cell_type": "code",
   "execution_count": 58,
   "metadata": {},
   "outputs": [],
   "source": [
    "# Plot the r2 vs. dimension\n",
    "# 'win=2' corresponds to index 2, which if we refer to mpi_timescale_cca, refers to window size 1\n",
    "#w1df = apply_df_filters(df, win=2)\n",
    "w1df = apply_df_filters(df)\n",
    "ccc_act_pairs = np.zeros((w1df.shape[0], 3))\n",
    "\n",
    "lag_cols = ['r', 'g', 'b']\n",
    "#win_markers = ['s', 't', 'o']\n",
    "win_cols = ['r', 'g', 'b']\n",
    "\n",
    "cols1 = []\n",
    "cols2 = []\n",
    "for i in range(w1df.shape[0]):\n",
    "#    ccc = np.max(w1df.iloc[i]['cc_coefs'])\n",
    "    ccc = w1df.iloc[0]['r2_scores']\n",
    "    ccf_df_ = apply_df_filters(ccf_df, didx=w1df.iloc[i]['didx'], bin_width=w1df.iloc[i]['bin_width'], filter_fn=w1df.iloc[i]['filter_fn'], filter_kwargs=w1df.iloc[i]['filter_kwargs'])\n",
    "    assert(ccf_df_.shape[0] == 1)\n",
    "    ccc_act_pairs[i, 0] = lr2_cc[i, -2]\n",
    "    ccc_act_pairs[i, 1] = ccf_df_.iloc[0]['avg_act']\n",
    "    ccc_act_pairs[i, 2] = ccf_df_.iloc[0]['median_act']\n",
    "\n",
    "    cols1.append(lag_cols[lags.index(w1df.iloc[i]['lag'])])\n",
    "    cols2.append(lag_cols[windows.index(w1df.iloc[i]['win'])])"
   ]
  },
  {
   "cell_type": "code",
   "execution_count": 57,
   "metadata": {},
   "outputs": [
    {
     "data": {
      "text/plain": [
       "<matplotlib.collections.PathCollection at 0x7fa596790bb0>"
      ]
     },
     "execution_count": 57,
     "metadata": {},
     "output_type": "execute_result"
    },
    {
     "data": {
      "image/png": "[encoded data removed]",
      "text/plain": [
       "<Figure size 640x480 with 1 Axes>"
      ]
     },
     "metadata": {},
     "output_type": "display_data"
    }
   ],
   "source": [
    "plt.scatter(ccc_act_pairs[:, 1], ccc_act_pairs[:, 0], c=cols1, alpha=0.5)\n"
   ]
  },
  {
   "cell_type": "code",
   "execution_count": 60,
   "metadata": {},
   "outputs": [
    {
     "data": {
      "text/plain": [
       "array([0.86040743, 0.82433279, 0.75909007, 0.71321485, 0.67521948,\n",
       "       0.63765622])"
      ]
     },
     "execution_count": 60,
     "metadata": {},
     "output_type": "execute_result"
    }
   ],
   "source": [
    "np.max(lr2_cc, axis=0)"
   ]
  },
  {
   "cell_type": "markdown",
   "metadata": {},
   "source": [
    "### Subspace analysis"
   ]
  },
  {
   "cell_type": "code",
   "execution_count": null,
   "metadata": {},
   "outputs": [],
   "source": [
    "# predictability monotonically decreases"
   ]
  },
  {
   "cell_type": "code",
   "execution_count": 61,
   "metadata": {},
   "outputs": [],
   "source": [
    "# One queston one should resolve is whether the most predictable direction is given by CCA. In the communication subspace paper, one uses factor analysis to\n",
    "# resolve this question, but this is geared towards explanations of variance"
   ]
  },
  {
   "cell_type": "code",
   "execution_count": 62,
   "metadata": {},
   "outputs": [],
   "source": [
    "# Subsequent question: What is the subspace angle relationship of the canonical correlation vectors to the subspace methods? \n",
    "# How predictable are the subspace dynamics (linearly, or GLM) from S1 activity?"
   ]
  },
  {
   "cell_type": "code",
   "execution_count": 30,
   "metadata": {},
   "outputs": [],
   "source": [
    "argfiles = glob.glob('/mnt/Secondary/data/timescale_dimreduc/arg*dat')"
   ]
  },
  {
   "cell_type": "code",
   "execution_count": 31,
   "metadata": {},
   "outputs": [],
   "source": [
    "rl = []\n",
    "for argfile in argfiles:\n",
    "    with open(argfile, 'rb') as f:\n",
    "        args = pickle.load(f)\n",
    "    argno = argfile.split('arg')[1].split('.dat')[0]\n",
    "    r = {}\n",
    "    r['rf'] = args['results_file']\n",
    "    r['data_file'] = args['data_file']\n",
    "    r['dr_method'] = args['task_args']['dimreduc_method']\n",
    "    r['dr_args'] = args['task_args']['dimreduc_args']\n",
    "    rl.append(r)"
   ]
  },
  {
   "cell_type": "code",
   "execution_count": 32,
   "metadata": {},
   "outputs": [],
   "source": [
    "ref_df = pd.DataFrame(rl)"
   ]
  },
  {
   "cell_type": "code",
   "execution_count": 69,
   "metadata": {},
   "outputs": [],
   "source": [
    "# Use the ref_df to answer the following questions:\n",
    "# (1) What is the subspace angle relationship between the subspace methods and the top canonical correlation vectors?\n",
    "# (2) How predictable are the subspaces from the S1 activity?"
   ]
  },
  {
   "cell_type": "code",
   "execution_count": 20,
   "metadata": {},
   "outputs": [
    {
     "name": "stderr",
     "output_type": "stream",
     "text": [
      "100%|██████████| 192/192 [02:53<00:00,  1.11it/s]\n"
     ]
    }
   ],
   "source": [
    "# Restrict to window length 1\n",
    "dfw1 = apply_df_filters(df, win=1)\n",
    "\n",
    "# N unique cca fits x dr types x folds x dims\n",
    "ssa_avg = np.zeros((dfw1.shape[0], 4, 5, 3))\n",
    "ssa_min = np.zeros((dfw1.shape[0], 4, 5, 3))\n",
    "\n",
    "for i in tqdm(range(dfw1.shape[0])):\n",
    "    with open(dfw1.iloc[i]['fl'], 'rb') as f:\n",
    "        datM1 = pickle.load(f)\n",
    "        datS1 = pickle.load(f)\n",
    "        lparam = pickle.load(f)\n",
    "\n",
    "    Y = datM1['spike_rates'].squeeze()\n",
    "    X = datS1['spike_rates'].squeeze()\n",
    "\n",
    "    lag = dfw1.iloc[i]['lag']\n",
    "    w = dfw1.iloc[i]['win']\n",
    "\n",
    "    model = dfw1.iloc[i]['ccamodel']\n",
    "\n",
    "    # Grab the files specific to the \n",
    "    pcadf = apply_df_filters(ref_df, data_file=dfw1.iloc[i]['fl'], dr_method='PCA')\n",
    "    assert(pcadf.shape[0] == 1)\n",
    "    with open(pcadf.iloc[0]['rf'], 'rb') as f:\n",
    "        results = pickle.load(f)\n",
    "\n",
    "    drdf = pd.DataFrame(results)\n",
    "\n",
    "    Vcca = model.y_weights_\n",
    "\n",
    "    if len(drdf) > 0:\n",
    "        # For each fold, and dimensions 2-6, measure the min and average subspace angle\n",
    "        for fold in range(5):\n",
    "            for didx, dim in enumerate(np.array([2, 4, 6])):\n",
    "                try:\n",
    "                    d_ = apply_df_filters(drdf, dim=dim, fold_idx=fold)+\n",
    "                except:\n",
    "                    pdb.set_trace()\n",
    "                assert(d_.shape[0] == 1)\n",
    "                Vpca = d_.iloc[0]['coef']\n",
    "                ssangles = scipy.linalg.subspace_angles(Vpca, Vcca)\n",
    "                ssa_avg[i, 0, fold, didx] = np.mean(ssangles)\n",
    "                ssa_min[i, 0, fold, didx] = np.min(ssangles)\n",
    "\n",
    "    else:\n",
    "        ssa_avg[i, 0] = np.nan\n",
    "        ssa_min[i, 0] = np.nan\n",
    "\n",
    "    lqgdf = apply_df_filters(ref_df, data_file=dfw1.iloc[i]['fl'], dr_method='LQGCA')\n",
    "    assert(lqgdf.shape[0] == 3)\n",
    "\n",
    "    # Keep consistent ordering of dimreduc args\n",
    "    drargs = [{'T':3, 'loss_type':'trace', 'n_init':10}, {'T':1, 'loss_type':'trace', 'n_init':10},\n",
    "              {'T':6, 'loss_type':'trace', 'n_init':10}]\n",
    "\n",
    "    for j in range(3): \n",
    "        lqgdf_ = apply_df_filters(lqgdf, dr_args=drargs[j])\n",
    "        with open(lqgdf_.iloc[0]['rf'], 'rb') as f:\n",
    "            results = pickle.load(f)\n",
    "\n",
    "        drdf = pd.DataFrame(results)\n",
    "\n",
    "        for fold in range(5):\n",
    "            for didx, dim in enumerate(np.array([2, 4, 6])):\n",
    "                try:\n",
    "                    d_ = apply_df_filters(drdf, dim=dim, fold_idx=fold)\n",
    "                    Vlqg = d_.iloc[0]['coef']\n",
    "                    ssangles = scipy.linalg.subspace_angles(Vlqg, Vcca)\n",
    "                    ssa_avg[i, j + 1, fold, didx] = np.mean(ssangles)\n",
    "                    ssa_min[i, j + 1, fold, didx] = np.min(ssangles)    \n",
    "                except:\n",
    "                    ssa_avg[i, j + 1, fold, didx] = np.nan\n",
    "                    ssa_min[i, j + 1, fold, didx] = np.nan    \n",
    "            "
   ]
  },
  {
   "cell_type": "code",
   "execution_count": 38,
   "metadata": {},
   "outputs": [
    {
     "name": "stderr",
     "output_type": "stream",
     "text": [
      "/tmp/ipykernel_15416/1655885650.py:1: RuntimeWarning: Mean of empty slice\n",
      "  np.nanmean(ssa_min[:, 0, :, 2], axis=1)\n"
     ]
    },
    {
     "data": {
      "text/plain": [
       "array([0.92986585, 0.96290946, 0.93922758, 0.69472795, 0.68179959,\n",
       "       0.63779274, 0.65668463, 0.64133634, 0.6283691 , 0.69534108,\n",
       "       0.63906955, 0.59796795, 0.61230136, 0.57343324, 0.54014028,\n",
       "       0.62876727, 0.59306405, 0.56111628, 0.68900839, 0.67159859,\n",
       "       0.63659303, 0.67558452, 0.63306124, 0.59614801, 0.70932189,\n",
       "       0.67404841, 0.63926306, 0.71809059, 0.68221101, 0.60158264,\n",
       "       0.75540589, 0.71744263, 0.65247896, 0.70075465, 0.68428673,\n",
       "       0.66725902, 0.68175061, 0.6743042 , 0.55086674, 0.72282572,\n",
       "       0.66405325, 0.62389157, 0.63815666, 0.5922225 , 0.55423937,\n",
       "       0.73285481, 0.73079377, 0.71006559, 0.6864947 , 0.66357295,\n",
       "       0.62773713, 0.69572933, 0.65100541, 0.61035707, 0.68105415,\n",
       "       0.66815343, 0.58617423, 0.73802002, 0.69584765, 0.61311557,\n",
       "       0.72899319, 0.71610494, 0.67910109, 0.77095047, 0.69005066,\n",
       "       0.64665912, 0.82279132, 0.67584143, 0.5757227 , 0.70743896,\n",
       "       0.65091348, 0.60987683, 0.62592561, 0.58154931, 0.54275021,\n",
       "       0.71816258, 0.67274793, 0.5551348 , 0.68314688, 0.65750649,\n",
       "       0.62128761, 0.72240324, 0.68346868, 0.64765045, 0.72598315,\n",
       "       0.71421461, 0.68448521, 0.7432069 , 0.69830925, 0.61792581,\n",
       "       0.86889587, 0.91381516, 0.84187812, 0.93151773, 0.7294254 ,\n",
       "       0.76526879, 0.55145896, 0.52728453, 0.5043072 , 0.70858448,\n",
       "       0.62193522, 0.52274321, 0.62358449, 0.56099698, 0.51704581,\n",
       "       0.57877181, 0.5497006 , 0.52965317, 0.72220143, 0.76891053,\n",
       "       0.73943756, 0.64379703, 0.62830629, 0.61972173, 0.59037557,\n",
       "       0.57419058, 0.56165402, 0.65044161, 0.58775006, 0.57706468,\n",
       "       0.60420514, 0.55394266, 0.53196505, 0.56336296, 0.53172833,\n",
       "       0.50655979, 0.86755156, 0.7311671 , 0.73462639, 0.72454499,\n",
       "       0.63521991, 0.52646207, 0.67931226, 0.59938177, 0.52002252,\n",
       "       0.76342355, 0.81324511, 0.77317663, 0.71400453, 0.76139841,\n",
       "       0.7326591 , 0.62258427, 0.60056011, 0.59087951, 0.73905206,\n",
       "       0.63395135, 0.6552535 , 0.64607736, 0.58590609, 0.57243524,\n",
       "       0.58461065, 0.54476559, 0.51920782, 0.75396265, 0.67336818,\n",
       "       0.53774412, 0.83761823, 0.71289696, 0.57403777, 0.71552256,\n",
       "       0.62826333, 0.52511319, 0.66515151, 0.58549544, 0.52212162,\n",
       "       0.94948351, 0.76850655, 0.58518938, 0.70413915, 0.71931313,\n",
       "       0.71977288, 0.58371553, 0.56487025, 0.55559596, 0.56378866,\n",
       "       0.54830111, 0.53406932, 0.63970323, 0.58206351, 0.56585604,\n",
       "              nan,        nan,        nan,        nan,        nan,\n",
       "              nan,        nan,        nan,        nan,        nan,\n",
       "              nan,        nan])"
      ]
     },
     "execution_count": 38,
     "metadata": {},
     "output_type": "execute_result"
    }
   ],
   "source": [
    "np.nanmean(ssa_min[:, 0, :, 2], axis=1)"
   ]
  },
  {
   "cell_type": "code",
   "execution_count": 39,
   "metadata": {},
   "outputs": [
    {
     "name": "stderr",
     "output_type": "stream",
     "text": [
      "/tmp/ipykernel_15416/3034538531.py:1: RuntimeWarning: Mean of empty slice\n",
      "  np.nanmean(ssa_min[:, 0, :, 0], axis=1)\n"
     ]
    },
    {
     "data": {
      "text/plain": [
       "array([0.96106229, 0.99296717, 0.97436235, 0.71676296, 0.69794207,\n",
       "       0.65360821, 0.73035717, 0.70627126, 0.68649369, 0.82046465,\n",
       "       0.72235398, 0.6585337 , 0.8200327 , 0.7374306 , 0.67381524,\n",
       "       0.80884548, 0.74485046, 0.69279197, 0.70347048, 0.6872435 ,\n",
       "       0.65305108, 0.70433238, 0.66635711, 0.63086166, 0.74234617,\n",
       "       0.71242384, 0.67890414, 0.74879056, 0.70940545, 0.62303064,\n",
       "       0.80806271, 0.75361717, 0.68218176, 0.73381717, 0.71010125,\n",
       "       0.68210068, 0.70628838, 0.68822758, 0.56012599, 0.81441403,\n",
       "       0.71882266, 0.65834665, 0.82452764, 0.73209047, 0.65905702,\n",
       "       0.74537961, 0.74414   , 0.72681841, 0.70112389, 0.67903318,\n",
       "       0.64407933, 0.72577205, 0.68598248, 0.64730325, 0.70476474,\n",
       "       0.68690367, 0.6011066 , 0.76992682, 0.72506262, 0.63702546,\n",
       "       0.74729001, 0.72843984, 0.69072342, 0.81004972, 0.71132154,\n",
       "       0.65656399, 0.87944941, 0.72805635, 0.58351815, 0.82104404,\n",
       "       0.72217767, 0.65988277, 0.83406237, 0.7405033 , 0.66755327,\n",
       "       0.9405111 , 0.82973694, 0.62898585, 0.69925651, 0.67460597,\n",
       "       0.63918007, 0.75610494, 0.7222227 , 0.68765032, 0.74592519,\n",
       "       0.72813914, 0.70177901, 0.77587089, 0.72872535, 0.64337325,\n",
       "       0.91124723, 0.95104112, 0.903464  , 0.97325817, 0.78902154,\n",
       "       0.8367211 , 0.74998991, 0.72184012, 0.68520894, 0.88520791,\n",
       "       0.80269345, 0.65699744, 0.83429955, 0.76315917, 0.69516679,\n",
       "       0.81446854, 0.74484927, 0.68130646, 0.7698657 , 0.82658221,\n",
       "       0.79370649, 0.66814423, 0.6591041 , 0.64497554, 0.66882202,\n",
       "       0.65319289, 0.63437893, 0.69256667, 0.62548166, 0.61338773,\n",
       "       0.72497802, 0.66089288, 0.62789597, 0.75262315, 0.70633425,\n",
       "       0.65379404, 0.94103347, 0.8174419 , 0.81200801, 0.88786946,\n",
       "       0.79533719, 0.64547032, 0.84256191, 0.78535857, 0.67187858,\n",
       "       0.80528233, 0.85103751, 0.82347398, 0.76782746, 0.82356139,\n",
       "       0.79037862, 0.65705539, 0.64064786, 0.62743523, 0.80944322,\n",
       "       0.68794324, 0.709338  , 0.6980816 , 0.63089346, 0.61582669,\n",
       "       0.73820447, 0.6811732 , 0.63710412, 0.86022106, 0.77677942,\n",
       "       0.63159262, 0.89046948, 0.79128282, 0.65030404, 0.89140686,\n",
       "       0.8049552 , 0.65581922, 0.83830058, 0.77594217, 0.69419029,\n",
       "       1.02126942, 0.88190197, 0.65779569, 0.7568462 , 0.80309614,\n",
       "       0.77456625, 0.66776537, 0.64486983, 0.62835952, 0.70558743,\n",
       "       0.67851802, 0.65169111, 0.69853722, 0.63241162, 0.61465397,\n",
       "              nan,        nan,        nan,        nan,        nan,\n",
       "              nan,        nan,        nan,        nan,        nan,\n",
       "              nan,        nan])"
      ]
     },
     "execution_count": 39,
     "metadata": {},
     "output_type": "execute_result"
    }
   ],
   "source": [
    "np.nanmean(ssa_min[:, 0, :, 0], axis=1)"
   ]
  },
  {
   "cell_type": "code",
   "execution_count": null,
   "metadata": {},
   "outputs": [],
   "source": [
    "# Unclear if the above will be statistically significant"
   ]
  },
  {
   "cell_type": "code",
   "execution_count": 59,
   "metadata": {},
   "outputs": [
    {
     "name": "stderr",
     "output_type": "stream",
     "text": [
      "100%|██████████| 192/192 [1:57:39<00:00, 36.77s/it]\n"
     ]
    }
   ],
   "source": [
    "# For dimensions 2-6, perform a cross-validated regression from S1 activity to the projected activity of each of the methods.\n",
    "# This has no interaction with cca. Therefore, remove the iteration over windows\n",
    "\n",
    "# N unique cca fits x dr types x folds x dims\n",
    "subspace_r2 = np.zeros((dfw1.shape[0], 4, 5, 3))\n",
    "\n",
    "\n",
    "for i in tqdm(range(dfw1.shape[0])):\n",
    "    with open(dfw1.iloc[i]['fl'], 'rb') as f:\n",
    "        datM1 = pickle.load(f)\n",
    "        datS1 = pickle.load(f)\n",
    "        lparam = pickle.load(f)\n",
    "\n",
    "    Y = datM1['spike_rates'].squeeze()\n",
    "    X = datS1['spike_rates'].squeeze()\n",
    "    lag = dfw1.iloc[i]['lag']\n",
    "    w = dfw1.iloc[i]['win']\n",
    "\n",
    "    model = dfw1.iloc[i]['ccamodel']\n",
    "\n",
    "    # Grab the files specific to the \n",
    "    pcadf = apply_df_filters(ref_df, data_file=dfw1.iloc[i]['fl'], dr_method='PCA')\n",
    "    assert(pcadf.shape[0] == 1)\n",
    "    with open(pcadf.iloc[0]['rf'], 'rb') as f:\n",
    "        results = pickle.load(f)\n",
    "\n",
    "    drdf = pd.DataFrame(results)\n",
    "\n",
    "    Vcca = model.y_weights_\n",
    "\n",
    "    # For each fold, and dimensions 2-6, measure the min and average subspace angle\n",
    "    for fold in range(5):\n",
    "        for didx, dim in enumerate(np.array([2, 4, 6])):\n",
    "            try:\n",
    "                d_ = apply_df_filters(drdf, dim=dim, fold_idx=fold)\n",
    "                assert(d_.shape[0] == 1)\n",
    "            except:\n",
    "                subspace_r2[i, 0, fold, didx] = np.nan\n",
    "                continue\n",
    "\n",
    "            Vpca = d_.iloc[0]['coef']\n",
    "\n",
    "            ytrain = Y[d_.iloc[0]['train_idxs']] @ Vpca\n",
    "            ytest = Y[d_.iloc[0]['test_idxs']] @ Vpca\n",
    "\n",
    "            xtrain = X[d_.iloc[0]['train_idxs']]\n",
    "            xtest = X[d_.iloc[0]['test_idxs']]\n",
    "\n",
    "            # Apply window and lag relative to each other\n",
    "            if lag != 0:\n",
    "                xtrain = xtrain[:-lag, :]\n",
    "                ytrain = ytrain[lag:, :]\n",
    "\n",
    "                xtest = xtest[:-lag, :]\n",
    "                ytest = ytest[lag:, :]\n",
    "\n",
    "            ytrain = StandardScaler().fit_transform(ytrain)\n",
    "            xtrain = StandardScaler().fit_transform(xtrain)\n",
    "\n",
    "            ytest = StandardScaler().fit_transform(ytest)\n",
    "            xtest = StandardScaler().fit_transform(xtest)\n",
    "\n",
    "            linmodel = LinearRegression()\n",
    "            linmodel.fit(xtrain, ytrain)\n",
    "            subspace_r2[i, 0, fold, didx] = linmodel.score(xtest, ytest)\n",
    "\n",
    "    lqgdf = apply_df_filters(ref_df, data_file=dfw1.iloc[i]['fl'], dr_method='LQGCA')\n",
    "    assert(lqgdf.shape[0] == 3)\n",
    "\n",
    "    # Keep consistent ordering of dimreduc args\n",
    "    drargs = [{'T':3, 'loss_type':'trace', 'n_init':10}, {'T':1, 'loss_type':'trace', 'n_init':10},\n",
    "              {'T':6, 'loss_type':'trace', 'n_init':10}]\n",
    "\n",
    "    for j in range(3): \n",
    "        lqgdf_ = apply_df_filters(lqgdf, dr_args=drargs[j])\n",
    "        with open(lqgdf_.iloc[0]['rf'], 'rb') as f:\n",
    "            results = pickle.load(f)\n",
    "\n",
    "        drdf = pd.DataFrame(results)\n",
    "        for fold in range(5):\n",
    "            for didx, dim in enumerate(np.array([2, 4, 6])):\n",
    "                try:\n",
    "                    d_ = apply_df_filters(drdf, dim=dim, fold_idx=fold)\n",
    "                    assert(d_.shape[0] == 1)\n",
    "                except:\n",
    "                    subspace_r2[i, j + 1, fold, didx] = np.nan\n",
    "                    continue\n",
    "\n",
    "                Vlqg = d_.iloc[0]['coef']\n",
    "\n",
    "                ytrain = Y[d_.iloc[0]['train_idxs']] @ Vlqg\n",
    "                ytest = Y[d_.iloc[0]['test_idxs']] @ Vlqg\n",
    "\n",
    "                xtrain = X[d_.iloc[0]['train_idxs']]\n",
    "                xtest = X[d_.iloc[0]['test_idxs']]\n",
    "\n",
    "                # Apply window and lag relative to each other\n",
    "                if lag != 0:\n",
    "                    xtrain = xtrain[:-lag, :]\n",
    "                    ytrain = ytrain[lag:, :]\n",
    "\n",
    "                    xtest = xtest[:-lag, :]\n",
    "                    ytest = ytest[lag:, :]\n",
    "\n",
    "                ytrain = StandardScaler().fit_transform(ytrain)\n",
    "                xtrain = StandardScaler().fit_transform(xtrain)\n",
    "\n",
    "                ytest = StandardScaler().fit_transform(ytest)\n",
    "                xtest = StandardScaler().fit_transform(xtest)\n",
    "\n",
    "                linmodel = LinearRegression()\n",
    "                linmodel.fit(xtrain, ytrain)    \n",
    "                subspace_r2[i, j + 1, fold, didx] = linmodel.score(xtest, ytest)\n",
    "\n",
    "    # For dimensions 2-6, perform a cross-validated regression from S1 activity to the projected activity of each of the methods.\n",
    "    # This has no interaction with cca\n",
    "    "
   ]
  },
  {
   "cell_type": "code",
   "execution_count": null,
   "metadata": {},
   "outputs": [],
   "source": [
    "np.nanmean(subspace_r2[:, 0, :, 0])"
   ]
  },
  {
   "cell_type": "code",
   "execution_count": 58,
   "metadata": {},
   "outputs": [
    {
     "data": {
      "text/plain": [
       "0.0612166256203374"
      ]
     },
     "execution_count": 58,
     "metadata": {},
     "output_type": "execute_result"
    }
   ],
   "source": [
    "np.nanmean(subspace_r2[:, 1, :, 1])"
   ]
  },
  {
   "cell_type": "code",
   "execution_count": null,
   "metadata": {},
   "outputs": [],
   "source": [
    "plt.hist(np.nanmean(subspace_r2[:, 0, 0]))"
   ]
  },
  {
   "cell_type": "code",
   "execution_count": 40,
   "metadata": {},
   "outputs": [],
   "source": [
    "# What one should visualize is whether the resulting r2 depend on lag, and how they change during the course of a reach"
   ]
  },
  {
   "cell_type": "code",
   "execution_count": null,
   "metadata": {},
   "outputs": [],
   "source": []
  },
  {
   "cell_type": "code",
   "execution_count": 6,
   "metadata": {},
   "outputs": [],
   "source": [
    "# with open('s1_subspace_regression.pkl', 'wb') as f:\n",
    "#     f.write(pickle.dumps(subspace_r2))\n",
    "with open('s1_subspace_regression.pkl', 'rb') as f:\n",
    "    subspace_r2 = pickle.load(f)"
   ]
  },
  {
   "cell_type": "code",
   "execution_count": 18,
   "metadata": {},
   "outputs": [],
   "source": [
    "# Match up with the autocorrelation times\n",
    "w1df = apply_df_filters(df, win=1)\n",
    "act = np.zeros(w1df.shape[0])\n",
    "\n",
    "lags = list(np.unique(w1df['lag'].values))\n",
    "lag_cols = ['r', 'g', 'b']\n",
    "#win_markers = ['s', 't', 'o']\n",
    "win_cols = ['r', 'g', 'b']\n",
    "\n",
    "cols1 = []\n",
    "for i in range(w1df.shape[0]):\n",
    "#    ccc = np.max(w1df.iloc[i]['cc_coefs'])\n",
    "    ccf_df_ = apply_df_filters(ccf_df, didx=w1df.iloc[i]['didx'], bin_width=w1df.iloc[i]['bin_width'], filter_fn=w1df.iloc[i]['filter_fn'], filter_kwargs=w1df.iloc[i]['filter_kwargs'])\n",
    "    assert(ccf_df_.shape[0] == 1)\n",
    "    act[i] = ccf_df_.iloc[0]['avg_act']\n",
    "\n",
    "    cols1.append(lag_cols[lags.index(w1df.iloc[i]['lag'])])"
   ]
  },
  {
   "cell_type": "code",
   "execution_count": 39,
   "metadata": {},
   "outputs": [
    {
     "name": "stderr",
     "output_type": "stream",
     "text": [
      "/tmp/ipykernel_31582/2664664947.py:2: RuntimeWarning: Mean of empty slice\n",
      "  plt.scatter(act, np.nanmean(subspace_r2[:, 1, :, 2], axis=1), c=cols1)\n"
     ]
    },
    {
     "data": {
      "text/plain": [
       "<matplotlib.collections.PathCollection at 0x7f3554525f10>"
      ]
     },
     "execution_count": 39,
     "metadata": {},
     "output_type": "execute_result"
    },
    {
     "data": {
      "image/png": "[encoded data removed]",
      "text/plain": [
       "<Figure size 640x480 with 1 Axes>"
      ]
     },
     "metadata": {},
     "output_type": "display_data"
    }
   ],
   "source": [
    "#plt.scatter(act, np.nanmean(subspace_r2[:, 0, :, 2], axis=1), c=cols1)\n",
    "plt.scatter(act, np.nanmean(subspace_r2[:, 1, :, 2], axis=1), c=cols1)"
   ]
  },
  {
   "cell_type": "code",
   "execution_count": 34,
   "metadata": {},
   "outputs": [
    {
     "name": "stderr",
     "output_type": "stream",
     "text": [
      "100%|██████████| 192/192 [00:44<00:00,  4.27it/s]\n"
     ]
    }
   ],
   "source": [
    "# Restrict to window length 1\n",
    "dfw1 = apply_df_filters(df, win=1)\n",
    "\n",
    "# N unique cca fits x dr types x folds x dims\n",
    "method_ssa_avg = np.zeros((dfw1.shape[0], 5, 3))\n",
    "method_ssa_min = np.zeros((dfw1.shape[0], 5, 3))\n",
    "\n",
    "for i in tqdm(range(dfw1.shape[0])):\n",
    "    # Grab the files specific to the \n",
    "    pcadf = apply_df_filters(ref_df, data_file=dfw1.iloc[i]['fl'], dr_method='PCA')\n",
    "    assert(pcadf.shape[0] == 1)\n",
    "    with open(pcadf.iloc[0]['rf'], 'rb') as f:\n",
    "        results = pickle.load(f)\n",
    "\n",
    "    drdf_pca = pd.DataFrame(results)\n",
    "    lqgdf = apply_df_filters(ref_df, data_file=dfw1.iloc[i]['fl'], dr_method='LQGCA', dr_args={'T':3, 'loss_type':'trace', 'n_init':10})\n",
    "    assert(lqgdf.shape[0] == 1)\n",
    "    with open(lqgdf.iloc[0]['rf'], 'rb') as f:\n",
    "        results = pickle.load(f)\n",
    "    drdf_lqg = pd.DataFrame(results)\n",
    "\n",
    "    if len(drdf_pca) > 0 and len(drdf_lqg) > 0:\n",
    "        # For each fold, and dimensions 2-6, measure the min and average subspace angle\n",
    "        for fold in range(5):\n",
    "            for didx, dim in enumerate(np.array([2, 4, 6])):\n",
    "\n",
    "                d_pca = apply_df_filters(drdf_pca, dim=dim, fold_idx=fold)\n",
    "                d_lqg = apply_df_filters(drdf_lqg, dim=dim, fold_idx=fold)\n",
    "                assert(d_pca.shape[0] == 1)\n",
    "                assert(d_lqg.shape[0] == 1)\n",
    "                Vpca = d_pca.iloc[0]['coef']\n",
    "                Vlqg = d_lqg.iloc[0]['coef']\n",
    "\n",
    "                ssangles = scipy.linalg.subspace_angles(Vpca, Vlqg)\n",
    "                method_ssa_avg[i, fold, didx] = np.mean(ssangles)\n",
    "                method_ssa_min[i, fold, didx] = np.min(ssangles)\n",
    "\n",
    "    else:\n",
    "        method_ssa_avg[i] = np.nan\n",
    "        method_ssa_min[i] = np.nan"
   ]
  },
  {
   "cell_type": "code",
   "execution_count": 35,
   "metadata": {},
   "outputs": [
    {
     "name": "stderr",
     "output_type": "stream",
     "text": [
      "/tmp/ipykernel_31582/412720857.py:1: RuntimeWarning: Mean of empty slice\n",
      "  plt.scatter(act, np.nanmean(method_ssa_avg[:, :, 2], axis=1))\n"
     ]
    },
    {
     "data": {
      "text/plain": [
       "<matplotlib.collections.PathCollection at 0x7f3556ecd0d0>"
      ]
     },
     "execution_count": 35,
     "metadata": {},
     "output_type": "execute_result"
    },
    {
     "data": {
      "image/png": "[encoded data removed]",
      "text/plain": [
       "<Figure size 640x480 with 1 Axes>"
      ]
     },
     "metadata": {},
     "output_type": "display_data"
    }
   ],
   "source": [
    "plt.scatter(act, np.nanmean(method_ssa_avg[:, :, 2], axis=1))"
   ]
  },
  {
   "cell_type": "code",
   "execution_count": null,
   "metadata": {},
   "outputs": [],
   "source": [
    "# Recall that we decided we would look at modulations over the timecourse of a reach. Repeat the above exercise accordingly"
   ]
  },
  {
   "cell_type": "code",
   "execution_count": null,
   "metadata": {},
   "outputs": [],
   "source": [
    "# Next step is to simplify and consolidate. Choose a subset of the"
   ]
  }
 ],
 "metadata": {
  "interpreter": {
   "hash": "c52494c424e88c3f855a8aeb34b231af4706f7aa247f66fb47c890a5ab8814ab"
  },
  "kernelspec": {
   "display_name": "Python 3.7.10 64-bit ('dyn': conda)",
   "language": "python",
   "name": "python3"
  },
  "language_info": {
   "codemirror_mode": {
    "name": "ipython",
    "version": 3
   },
   "file_extension": ".py",
   "mimetype": "text/x-python",
   "name": "python",
   "nbconvert_exporter": "python",
   "pygments_lexer": "ipython3",
   "version": "3.9.13"
  },
  "orig_nbformat": 4
 },
 "nbformat": 4,
 "nbformat_minor": 2
}
