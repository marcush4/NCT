{
 "cells": [
  {
   "cell_type": "code",
   "execution_count": 1,
   "metadata": {},
   "outputs": [],
   "source": [
    "import numpy as np \n",
    "import pandas as pd\n",
    "import scipy\n",
    "import matplotlib.pyplot as plt\n",
    "import sys\n",
    "from sklearn.linear_model import LinearRegression\n",
    "from sklearn.decomposition import PCA\n",
    "from sklearn.preprocessing import normalize\n",
    "import dca\n",
    "from dca.dca import DynamicalComponentsAnalysis\n",
    "from sklearn.model_selection import KFold\n",
    "from os import listdir\n",
    "from os.path import isfile, join\n",
    "import os\n",
    "import contextlib\n",
    "from IPython.utils import io\n",
    "from sklearn import svm"
   ]
  },
  {
   "cell_type": "code",
   "execution_count": 2,
   "metadata": {},
   "outputs": [],
   "source": [
    "sys.path.append('../..')"
   ]
  },
  {
   "cell_type": "code",
   "execution_count": 3,
   "metadata": {},
   "outputs": [],
   "source": [
    "import loaders\n",
    "import decoders\n",
    "from loaders import load_shenoy_large\n",
    "from decoders import lr_decoder\n"
   ]
  },
  {
   "cell_type": "markdown",
   "metadata": {},
   "source": [
    "Find datasets where behaviors are in circles\n",
    "\n",
    "use spike_rates to classify orientation (SVM)\n",
    "\n",
    "variance test: premotor cortex v.s motor cortex\n",
    "\n",
    "try to classify the target position from the neural data. We should restrict to **only reaches that go from the origin outward** (i.e. ignore when the target pos is the origin). \n",
    "We need to try a few things. \n",
    "(1) Iterate over different bin widths. \n",
    "\n",
    "(2) Try location='M1', and location='PMC', **Done**\n",
    "\n",
    "(3) interval='before_go', 'after_go', 'full', \n",
    "\n",
    "(4) make sure spike threshold is set to 0. \n",
    "\n",
    "(5) Compare training the classifier on all trials to training on the dataset where we average over all trials (i.e. for each reach orientation, first average the neural data over all trials before fitting to the classifier)\n",
    "\n",
    "Question: Do I need to toggle trialize to False?"
   ]
  },
  {
   "cell_type": "code",
   "execution_count": 4,
   "metadata": {},
   "outputs": [],
   "source": [
    "dat_path = '/mnt/Secondary/data'"
   ]
  },
  {
   "cell_type": "code",
   "execution_count": 5,
   "metadata": {},
   "outputs": [],
   "source": [
    "JFiles = [f for f in listdir(\"%s/000121/sub-JenkinsC\" % dat_path) if isfile(join(\"%s/000121/sub-JenkinsC\" % dat_path, f))]\n",
    "RFiles = [f for f in listdir(\"%s/000121/sub-Reggie\" % dat_path) if isfile(join(\"%s/000121/sub-Reggie\" % dat_path, f))]"
   ]
  },
  {
   "cell_type": "code",
   "execution_count": 9,
   "metadata": {},
   "outputs": [
    {
     "data": {
      "text/plain": [
       "['sub-Reggie_ses-20170115T125333_behavior+ecephys.nwb',\n",
       " 'sub-Reggie_ses-20170116T102856_behavior+ecephys.nwb',\n",
       " 'sub-Reggie_ses-20170117T104643_behavior+ecephys.nwb',\n",
       " 'sub-Reggie_ses-20170118T094022_behavior+ecephys.nwb',\n",
       " 'sub-Reggie_ses-20170119T123128_behavior+ecephys.nwb',\n",
       " 'sub-Reggie_ses-20170124T094957_behavior+ecephys.nwb',\n",
       " 'sub-Reggie_ses-20170125T100800_behavior+ecephys.nwb']"
      ]
     },
     "execution_count": 9,
     "metadata": {},
     "output_type": "execute_result"
    }
   ],
   "source": [
    "RFiles"
   ]
  },
  {
   "cell_type": "code",
   "execution_count": null,
   "metadata": {},
   "outputs": [],
   "source": [
    "sub-Reggie_ses-20170119T123128_behavior+ecephys.nwb"
   ]
  },
  {
   "cell_type": "code",
   "execution_count": 20,
   "metadata": {},
   "outputs": [
    {
     "data": {
      "text/plain": [
       "'sub-Reggie_ses-20170119T123128_behavior+ecephys.nwb'"
      ]
     },
     "execution_count": 20,
     "metadata": {},
     "output_type": "execute_result"
    }
   ],
   "source": [
    "RFiles[4]"
   ]
  },
  {
   "cell_type": "code",
   "execution_count": 17,
   "metadata": {},
   "outputs": [
    {
     "name": "stdout",
     "output_type": "stream",
     "text": [
      "3069 valid trials\n",
      "96 valid  units\n",
      "Trializing spike times\n"
     ]
    },
    {
     "name": "stderr",
     "output_type": "stream",
     "text": [
      "96it [00:52,  1.84it/s]\n"
     ]
    },
    {
     "name": "stdout",
     "output_type": "stream",
     "text": [
      "Processing spikes\n"
     ]
    },
    {
     "name": "stderr",
     "output_type": "stream",
     "text": [
      "100%|██████████| 3069/3069 [01:07<00:00, 45.54it/s]\n"
     ]
    },
    {
     "name": "stdout",
     "output_type": "stream",
     "text": [
      "Trializing Behavior\n"
     ]
    },
    {
     "name": "stderr",
     "output_type": "stream",
     "text": [
      "3069it [00:59, 51.60it/s]\n"
     ]
    }
   ],
   "source": [
    "# Attempt to load with bin size 10 ms\n",
    "dat = load_shenoy_large('%s/000121/sub-Reggie/%s' % (dat_path, RFiles[4]), spike_threshold=0, trialize=True, bin_width=10, location='PMC')"
   ]
  },
  {
   "cell_type": "code",
   "execution_count": 18,
   "metadata": {},
   "outputs": [
    {
     "data": {
      "text/plain": [
       "(238, 89)"
      ]
     },
     "execution_count": 18,
     "metadata": {},
     "output_type": "execute_result"
    }
   ],
   "source": [
    "dat['spike_rates'][0].shape"
   ]
  },
  {
   "cell_type": "code",
   "execution_count": 41,
   "metadata": {},
   "outputs": [
    {
     "name": "stdout",
     "output_type": "stream",
     "text": [
      "sub-Reggie_ses-20170119T123128_behavior+ecephys.nwb\n",
      "sub-Reggie_ses-20170125T100800_behavior+ecephys.nwb\n",
      "sub-Reggie_ses-20170117T104643_behavior+ecephys.nwb\n",
      "sub-Reggie_ses-20170124T094957_behavior+ecephys.nwb\n"
     ]
    }
   ],
   "source": [
    "# Filter out non-horizontal-vertical experiments\n",
    "for file_name in RFiles[:]:\n",
    "    with io.capture_output() as captured: ##To disable prints from loader function\n",
    "        dat = load_shenoy_large(\"F:/dandi/000121/sub-Reggie/\" + file_name, spike_threshold = 0, trialize = True)\n",
    "    target_pos = dat['target_pos']\n",
    "    if sum(target_pos[:,1]!=0) != 0 and sum(target_pos[:,0]!=0) != 0:\n",
    "        #This means the target pos is not purely horizontal or vertical\n",
    "        print(file_name)"
   ]
  },
  {
   "cell_type": "code",
   "execution_count": 42,
   "metadata": {},
   "outputs": [
    {
     "name": "stdout",
     "output_type": "stream",
     "text": [
      "sub-JenkinsC_ses-20151015T151424_behavior+ecephys.nwb\n",
      "sub-JenkinsC_ses-20160127T110630_behavior+ecephys.nwb\n",
      "sub-JenkinsC_ses-20160128T160749_behavior+ecephys.nwb\n"
     ]
    }
   ],
   "source": [
    "# Filter out non-horizontal-vertical experiments\n",
    "for file_name in JFiles[:]:\n",
    "    with io.capture_output() as captured: ##To disable prints from loader function\n",
    "        dat = load_shenoy_large(\"F:/dandi/000121/sub-JenkinsC/\" + file_name, spike_threshold = 0, trialize = True)\n",
    "    target_pos = dat['target_pos']\n",
    "    if sum(target_pos[:,1]!=0) != 0 and sum(target_pos[:,0]!=0) != 0:\n",
    "        #This means the target pos is not purely horizontal or vertical\n",
    "        print(file_name)"
   ]
  },
  {
   "cell_type": "code",
   "execution_count": 44,
   "metadata": {},
   "outputs": [],
   "source": [
    "JFiles_validOri = [\"sub-JenkinsC_ses-20151015T151424_behavior+ecephys.nwb\", \"sub-JenkinsC_ses-20160127T110630_behavior+ecephys.nwb\", \"sub-JenkinsC_ses-20160128T160749_behavior+ecephys.nwb\"]\n",
    "RFiles_validOri = [\"sub-Reggie_ses-20170119T123128_behavior+ecephys.nwb\", \"sub-Reggie_ses-20170125T100800_behavior+ecephys.nwb\", \"sub-Reggie_ses-20170117T104643_behavior+ecephys.nwb\", \"sub-Reggie_ses-20170124T094957_behavior+ecephys.nwb\"]"
   ]
  },
  {
   "cell_type": "code",
   "execution_count": 92,
   "metadata": {},
   "outputs": [],
   "source": [
    "def process(dat):\n",
    "    spike_rates = dat['spike_rates']\n",
    "    target_pos = dat['target_pos']\n",
    "    if len(spike_rates[0].shape) == 1:\n",
    "        return -1\n",
    "\n",
    "    valid_ori_indices = [x and y for x,y in zip(target_pos[:,1]!=0, target_pos[:,0]!=0) ] #Get indices of reaches where both x and y axes are non-zero\n",
    "\n",
    "    # TODO: Use the orientations defined in papers\n",
    "    target_pos_valid = target_pos[valid_ori_indices]\n",
    "    tan_fraction = target_pos_valid[:,1] / target_pos_valid[:,0]\n",
    "    orientations = np.arctan(tan_fraction)\n",
    "    # arctan returns [-pi/2, pi/2], but we want an orientation from [0, 2pi], so process for 2nd, 3rd, 4th quadrant\n",
    "    for i in range(orientations.shape[0]):\n",
    "        if target_pos_valid[i, 0] > 0 and target_pos_valid[i, 1] < 0:\n",
    "            orientations[i] += np.pi * 2\n",
    "            continue\n",
    "        if target_pos_valid[i, 0] < 0 and target_pos_valid[i, 1] > 0:\n",
    "            orientations[i] += np.pi\n",
    "            continue\n",
    "        if target_pos_valid[i, 0] < 0 and target_pos_valid[i, 1] < 0:\n",
    "            orientations[i] += np.pi\n",
    "    #print(target_pos_valid, tan_fraction, orientations)\n",
    "\n",
    "    #To put in SVM for classification, we need to first label orientation to different classes\n",
    "    #Just define 8 different kinds of orientation from 0 to 2pi\n",
    "    bins = np.arange(0,2*np.pi,.25 * np.pi)\n",
    "    binned_orientations = np.digitize(orientations, bins)\n",
    "    #print(binned_orientations.shape)\n",
    "\n",
    "    # Averaging the spike_rates (not across trials but inside every single trial)\n",
    "\n",
    "    spike_rates_averaged = np.array([[np.average(spike_rates[reach_i], axis = 0)[neuron_idx] \\\n",
    "                                                for reach_i in range(len(spike_rates))]\\\n",
    "                                                    for neuron_idx in range(spike_rates[0].shape[1])])\n",
    "    spike_rates_ave_valid = spike_rates_averaged.T[valid_ori_indices,:]\n",
    "    spike_rates_ave_valid.shape\n",
    "\n",
    "    clf = svm.SVC().fit(spike_rates_ave_valid, binned_orientations)\n",
    "    prediction = clf.predict(spike_rates_ave_valid)\n",
    "    precision = np.average(prediction == binned_orientations)\n",
    "    return precision"
   ]
  },
  {
   "cell_type": "code",
   "execution_count": 86,
   "metadata": {},
   "outputs": [],
   "source": [
    "locations = ['M1', 'PMC']\n",
    "intervals = ['before_go', 'after_go', 'full']\n",
    "spike_threshold = 0\n",
    "bin_widths = [10,50,100]"
   ]
  },
  {
   "cell_type": "code",
   "execution_count": 94,
   "metadata": {},
   "outputs": [
    {
     "name": "stdout",
     "output_type": "stream",
     "text": [
      "---------------------------\n",
      "For file sub-Reggie_ses-20170119T123128_behavior+ecephys.nwb\n",
      "Location: M1, Interval: before_go, Bin Width: 10, Classification Precision: -1\n",
      "Location: M1, Interval: before_go, Bin Width: 50, Classification Precision: 0.3592039800995025\n",
      "Location: M1, Interval: before_go, Bin Width: 100, Classification Precision: 0.35323383084577115\n",
      "Location: M1, Interval: after_go, Bin Width: 10, Classification Precision: 0.32424537487828625\n",
      "Location: M1, Interval: after_go, Bin Width: 50, Classification Precision: 0.29892891918208375\n",
      "Location: M1, Interval: after_go, Bin Width: 100, Classification Precision: 0.3037974683544304\n",
      "Location: M1, Interval: full, Bin Width: 10, Classification Precision: 0.29600778967867575\n",
      "Location: M1, Interval: full, Bin Width: 50, Classification Precision: 0.28237585199610515\n",
      "Location: M1, Interval: full, Bin Width: 100, Classification Precision: 0.28432327166504384\n",
      "Location: PMC, Interval: before_go, Bin Width: 10, Classification Precision: -1\n",
      "Location: PMC, Interval: before_go, Bin Width: 50, Classification Precision: 0.7402985074626866\n",
      "Location: PMC, Interval: before_go, Bin Width: 100, Classification Precision: 0.7572139303482587\n",
      "Location: PMC, Interval: after_go, Bin Width: 10, Classification Precision: 0.7497565725413826\n",
      "Location: PMC, Interval: after_go, Bin Width: 50, Classification Precision: 0.7351509250243428\n",
      "Location: PMC, Interval: after_go, Bin Width: 100, Classification Precision: 0.7351509250243428\n",
      "Location: PMC, Interval: full, Bin Width: 10, Classification Precision: 0.7604673807205453\n",
      "Location: PMC, Interval: full, Bin Width: 50, Classification Precision: 0.747809152872444\n",
      "Location: PMC, Interval: full, Bin Width: 100, Classification Precision: 0.7468354430379747\n",
      "---------------------------\n",
      "For file sub-Reggie_ses-20170125T100800_behavior+ecephys.nwb\n",
      "Location: M1, Interval: before_go, Bin Width: 10, Classification Precision: -1\n",
      "Location: M1, Interval: before_go, Bin Width: 50, Classification Precision: 0.3100113765642776\n",
      "Location: M1, Interval: before_go, Bin Width: 100, Classification Precision: 0.31456200227531284\n",
      "Location: M1, Interval: after_go, Bin Width: 10, Classification Precision: 0.2792946530147895\n",
      "Location: M1, Interval: after_go, Bin Width: 50, Classification Precision: 0.2764505119453925\n",
      "Location: M1, Interval: after_go, Bin Width: 100, Classification Precision: 0.2707622298065984\n",
      "Location: M1, Interval: full, Bin Width: 10, Classification Precision: 0.26905574516496017\n",
      "Location: M1, Interval: full, Bin Width: 50, Classification Precision: 0.27588168373151306\n",
      "Location: M1, Interval: full, Bin Width: 100, Classification Precision: 0.2764505119453925\n",
      "Location: PMC, Interval: before_go, Bin Width: 10, Classification Precision: -1\n",
      "Location: PMC, Interval: before_go, Bin Width: 50, Classification Precision: 0.8236632536973834\n",
      "Location: PMC, Interval: before_go, Bin Width: 100, Classification Precision: 0.8191126279863481\n",
      "Location: PMC, Interval: after_go, Bin Width: 10, Classification Precision: 0.8862343572241184\n",
      "Location: PMC, Interval: after_go, Bin Width: 50, Classification Precision: 0.8742889647326507\n",
      "Location: PMC, Interval: after_go, Bin Width: 100, Classification Precision: 0.8782707622298066\n",
      "Location: PMC, Interval: full, Bin Width: 10, Classification Precision: 0.8828213879408419\n",
      "Location: PMC, Interval: full, Bin Width: 50, Classification Precision: 0.8794084186575654\n",
      "Location: PMC, Interval: full, Bin Width: 100, Classification Precision: 0.8725824800910125\n",
      "---------------------------\n",
      "For file sub-Reggie_ses-20170117T104643_behavior+ecephys.nwb\n",
      "Location: M1, Interval: before_go, Bin Width: 10, Classification Precision: -1\n",
      "Location: M1, Interval: before_go, Bin Width: 50, Classification Precision: 0.7391304347826086\n",
      "Location: M1, Interval: before_go, Bin Width: 100, Classification Precision: 0.6739130434782609\n",
      "Location: M1, Interval: after_go, Bin Width: 10, Classification Precision: 0.5434782608695652\n",
      "Location: M1, Interval: after_go, Bin Width: 50, Classification Precision: 0.5\n",
      "Location: M1, Interval: after_go, Bin Width: 100, Classification Precision: 0.5869565217391305\n",
      "Location: M1, Interval: full, Bin Width: 10, Classification Precision: 0.4782608695652174\n",
      "Location: M1, Interval: full, Bin Width: 50, Classification Precision: 0.4782608695652174\n",
      "Location: M1, Interval: full, Bin Width: 100, Classification Precision: 0.4782608695652174\n",
      "Location: PMC, Interval: before_go, Bin Width: 10, Classification Precision: -1\n",
      "Location: PMC, Interval: before_go, Bin Width: 50, Classification Precision: 0.8695652173913043\n",
      "Location: PMC, Interval: before_go, Bin Width: 100, Classification Precision: 0.8043478260869565\n",
      "Location: PMC, Interval: after_go, Bin Width: 10, Classification Precision: 0.8695652173913043\n",
      "Location: PMC, Interval: after_go, Bin Width: 50, Classification Precision: 0.8260869565217391\n",
      "Location: PMC, Interval: after_go, Bin Width: 100, Classification Precision: 0.8260869565217391\n",
      "Location: PMC, Interval: full, Bin Width: 10, Classification Precision: 0.8913043478260869\n",
      "Location: PMC, Interval: full, Bin Width: 50, Classification Precision: 0.8478260869565217\n",
      "Location: PMC, Interval: full, Bin Width: 100, Classification Precision: 0.8478260869565217\n",
      "---------------------------\n",
      "For file sub-Reggie_ses-20170124T094957_behavior+ecephys.nwb\n",
      "Location: M1, Interval: before_go, Bin Width: 10, Classification Precision: -1\n",
      "Location: M1, Interval: before_go, Bin Width: 50, Classification Precision: 0.373510861948143\n",
      "Location: M1, Interval: before_go, Bin Width: 100, Classification Precision: 0.38121934127540297\n",
      "Location: M1, Interval: after_go, Bin Width: 10, Classification Precision: 0.2880168185003504\n",
      "Location: M1, Interval: after_go, Bin Width: 50, Classification Precision: 0.2747021723896286\n",
      "Location: M1, Interval: after_go, Bin Width: 100, Classification Precision: 0.2803083391730904\n",
      "Location: M1, Interval: full, Bin Width: 10, Classification Precision: 0.2754029432375613\n",
      "Location: M1, Interval: full, Bin Width: 50, Classification Precision: 0.2515767344078486\n",
      "Location: M1, Interval: full, Bin Width: 100, Classification Precision: 0.25508058864751226\n",
      "Location: PMC, Interval: before_go, Bin Width: 10, Classification Precision: -1\n",
      "Location: PMC, Interval: before_go, Bin Width: 50, Classification Precision: 0.728801681850035\n",
      "Location: PMC, Interval: before_go, Bin Width: 100, Classification Precision: 0.7386124737210932\n",
      "Location: PMC, Interval: after_go, Bin Width: 10, Classification Precision: 0.866853538892782\n",
      "Location: PMC, Interval: after_go, Bin Width: 50, Classification Precision: 0.8661527680448493\n",
      "Location: PMC, Interval: after_go, Bin Width: 100, Classification Precision: 0.8661527680448493\n",
      "Location: PMC, Interval: full, Bin Width: 10, Classification Precision: 0.8808689558514365\n",
      "Location: PMC, Interval: full, Bin Width: 50, Classification Precision: 0.8591450595655221\n",
      "Location: PMC, Interval: full, Bin Width: 100, Classification Precision: 0.8563419761737912\n"
     ]
    }
   ],
   "source": [
    "import itertools\n",
    "for file_name in RFiles_validOri[:]:\n",
    "    print(\"---------------------------\")\n",
    "    print(\"For file {0}\".format(file_name))\n",
    "    for params in itertools.product(locations, intervals, bin_widths):\n",
    "        with io.capture_output() as captured: ##To disable prints from loader function\n",
    "            dat = load_shenoy_large(\"F:/dandi/000121/sub-Reggie/\" + file_name, spike_threshold = spike_threshold, trialize = True, \\\n",
    "                                    location = params[0], interval = params[1], bin_width = params[2])\n",
    "        precision = process(dat)\n",
    "        print(\"Location: {0}, Interval: {1}, Bin Width: {2}, Classification Precision: {3}\".format( \\\n",
    "                params[0], params[1], params[2], precision))\n",
    "                            "
   ]
  },
  {
   "cell_type": "code",
   "execution_count": 47,
   "metadata": {},
   "outputs": [
    {
     "name": "stdout",
     "output_type": "stream",
     "text": [
      "(3069, 3)\n",
      "(3069,)\n",
      "3069\n",
      "3069\n",
      "(25, 2)\n",
      "(25, 46)\n"
     ]
    }
   ],
   "source": [
    "print(dat['target_pos'].shape)\n",
    "print(dat['go_times'].shape)\n",
    "print(len(dat['spike_rates']))\n",
    "print(len(dat['behavior']))\n",
    "print(dat['behavior'][1].shape)\n",
    "print(dat['spike_rates'][1].shape)"
   ]
  }
 ],
 "metadata": {
  "interpreter": {
   "hash": "b3ba2566441a7c06988d0923437866b63cedc61552a5af99d1f4fb67d367b25f"
  },
  "kernelspec": {
   "display_name": "Python 3.8.5 ('base')",
   "language": "python",
   "name": "python3"
  },
  "language_info": {
   "codemirror_mode": {
    "name": "ipython",
    "version": 3
   },
   "file_extension": ".py",
   "mimetype": "text/x-python",
   "name": "python",
   "nbconvert_exporter": "python",
   "pygments_lexer": "ipython3",
   "version": "3.7.10"
  },
  "orig_nbformat": 4
 },
 "nbformat": 4,
 "nbformat_minor": 2
}
