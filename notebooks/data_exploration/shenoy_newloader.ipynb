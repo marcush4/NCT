{
 "cells": [
  {
   "cell_type": "code",
   "execution_count": 2,
   "metadata": {},
   "outputs": [],
   "source": [
    "%load_ext autoreload\n",
    "%autoreload 2"
   ]
  },
  {
   "cell_type": "code",
   "execution_count": 3,
   "metadata": {},
   "outputs": [],
   "source": [
    "import numpy as np\n",
    "import scipy\n",
    "import h5py\n",
    "import glob\n",
    "import pdb\n",
    "import itertools\n",
    "from tqdm import tqdm\n",
    "from scipy import io \n",
    "import pandas as pd\n",
    "import matplotlib.pyplot as plt"
   ]
  },
  {
   "cell_type": "code",
   "execution_count": 4,
   "metadata": {},
   "outputs": [],
   "source": [
    "from scipy.ndimage import convolve1d, gaussian_filter1d\n",
    "from scipy.interpolate import interp1d\n",
    "import sys\n",
    "sys.path.append('../..')\n",
    "from loaders import split_shenoy, load_shenoy"
   ]
  },
  {
   "cell_type": "code",
   "execution_count": 5,
   "metadata": {},
   "outputs": [],
   "source": [
    "from pyuoi.linear_model.var import VAR\n",
    "from decoders import standardize, lr_decoder\n",
    "from sklearn.linear_model import LinearRegression\n",
    "from sklearn.model_selection import KFold\n",
    "from neurosim.models.var import form_companion"
   ]
  },
  {
   "cell_type": "code",
   "execution_count": 17,
   "metadata": {},
   "outputs": [
    {
     "name": "stdout",
     "output_type": "stream",
     "text": [
      "268 Bad Trials being thrown away\n",
      "2\n",
      "18\n",
      "16\n",
      "21\n",
      "19\n",
      "21\n",
      "24\n",
      "21\n",
      "22\n",
      "18\n",
      "17\n",
      "19\n",
      "22\n",
      "19\n",
      "21\n",
      "23\n",
      "19\n",
      "15\n",
      "18\n",
      "20\n",
      "20\n",
      "20\n",
      "27\n",
      "24\n",
      "24\n",
      "19\n",
      "22\n",
      "20\n",
      "21\n",
      "20\n",
      "19\n",
      "17\n",
      "23\n",
      "20\n",
      "20\n",
      "22\n",
      "23\n",
      "18\n",
      "20\n",
      "18\n",
      "18\n",
      "22\n",
      "22\n",
      "22\n",
      "20\n",
      "20\n",
      "26\n",
      "18\n",
      "28\n",
      "19\n",
      "17\n",
      "22\n",
      "20\n",
      "20\n",
      "23\n",
      "22\n",
      "24\n",
      "19\n",
      "21\n",
      "18\n",
      "19\n",
      "20\n",
      "19\n",
      "21\n",
      "22\n",
      "22\n",
      "19\n",
      "20\n",
      "20\n",
      "20\n",
      "20\n",
      "23\n",
      "22\n",
      "20\n",
      "24\n",
      "17\n",
      "23\n",
      "26\n",
      "19\n",
      "19\n",
      "20\n",
      "23\n",
      "22\n",
      "18\n",
      "20\n",
      "18\n",
      "19\n",
      "16\n",
      "18\n",
      "19\n",
      "20\n",
      "20\n",
      "18\n",
      "18\n",
      "23\n",
      "25\n",
      "22\n",
      "18\n",
      "20\n",
      "23\n",
      "19\n",
      "21\n",
      "18\n",
      "17\n",
      "20\n",
      "17\n",
      "17\n",
      "22\n",
      "24\n",
      "19\n",
      "16\n",
      "16\n",
      "17\n",
      "19\n",
      "18\n",
      "17\n",
      "23\n",
      "20\n"
     ]
    }
   ],
   "source": [
    "# Split the shenoy dataset by trialtype and trialVersion\n",
    "split_shenoy('/mnt/Secondary/data/shenoy/RC,2009-09-18,1-2,good-ss.mat', '/mnt/Secondary/data/shenoy_split')"
   ]
  },
  {
   "cell_type": "code",
   "execution_count": 18,
   "metadata": {},
   "outputs": [],
   "source": [
    "data_files_all = glob.glob('/mnt/Secondary/data/shenoy_split/*.dat')"
   ]
  },
  {
   "cell_type": "code",
   "execution_count": 19,
   "metadata": {},
   "outputs": [
    {
     "data": {
      "text/plain": [
       "118"
      ]
     },
     "execution_count": 19,
     "metadata": {},
     "output_type": "execute_result"
    }
   ],
   "source": [
    "len(data_files_all)"
   ]
  },
  {
   "cell_type": "code",
   "execution_count": 40,
   "metadata": {},
   "outputs": [
    {
     "name": "stdout",
     "output_type": "stream",
     "text": [
      "268 Bad Trials being thrown away\n",
      "66 Trials selected\n"
     ]
    },
    {
     "name": "stderr",
     "output_type": "stream",
     "text": [
      "../../loaders.py:247: VisibleDeprecationWarning: Creating an ndarray from ragged nested sequences (which is a list-or-tuple of lists-or-tuples-or ndarrays with different lengths or shapes) is deprecated. If you meant to do this, you must specify 'dtype=object' when creating the ndarray.\n",
      "  dat['spike_times'] = np.array(spike_times).astype(np.object)\n"
     ]
    },
    {
     "name": "stdout",
     "output_type": "stream",
     "text": [
      "Processing spikes\n"
     ]
    },
    {
     "name": "stderr",
     "output_type": "stream",
     "text": [
      "100%|██████████| 66/66 [00:16<00:00,  4.03it/s]\n"
     ]
    }
   ],
   "source": [
    "dat = load_shenoy('/mnt/Secondary/data/shenoy/RC,2009-09-18,1-2,good-ss.mat', \n",
    "                    bin_width=1, boxcox=0.5,\n",
    "                    filter_fn='gaussian', filter_kwargs={'sigma':20},\n",
    "                    tw=(-250, 550), spike_threshold=None, trialVersions=0, trialTypes=[1, 2, 3])\n"
   ]
  },
  {
   "cell_type": "code",
   "execution_count": 38,
   "metadata": {},
   "outputs": [
    {
     "data": {
      "text/plain": [
       "(805, 799, 202)"
      ]
     },
     "execution_count": 38,
     "metadata": {},
     "output_type": "execute_result"
    }
   ],
   "source": [
    "dat['spike_rates'].shape"
   ]
  },
  {
   "cell_type": "code",
   "execution_count": 24,
   "metadata": {},
   "outputs": [
    {
     "name": "stderr",
     "output_type": "stream",
     "text": [
      "0it [00:00, ?it/s]"
     ]
    },
    {
     "name": "stdout",
     "output_type": "stream",
     "text": [
      "268 Bad Trials being thrown away\n"
     ]
    },
    {
     "name": "stderr",
     "output_type": "stream",
     "text": [
      "0it [07:08, ?it/s]\n"
     ]
    },
    {
     "ename": "KeyboardInterrupt",
     "evalue": "",
     "output_type": "error",
     "traceback": [
      "\u001b[0;31m---------------------------------------------------------------------------\u001b[0m",
      "\u001b[0;31mKeyboardInterrupt\u001b[0m                         Traceback (most recent call last)",
      "\u001b[0;32m/tmp/ipykernel_25842/2433088513.py\u001b[0m in \u001b[0;36m<module>\u001b[0;34m\u001b[0m\n\u001b[1;32m     26\u001b[0m                       \u001b[0mbin_width\u001b[0m\u001b[0;34m=\u001b[0m\u001b[0mloader_param\u001b[0m\u001b[0;34m[\u001b[0m\u001b[0;36m0\u001b[0m\u001b[0;34m]\u001b[0m\u001b[0;34m,\u001b[0m \u001b[0mboxcox\u001b[0m\u001b[0;34m=\u001b[0m\u001b[0;36m0.5\u001b[0m\u001b[0;34m,\u001b[0m\u001b[0;34m\u001b[0m\u001b[0;34m\u001b[0m\u001b[0m\n\u001b[1;32m     27\u001b[0m                       \u001b[0mfilter_fn\u001b[0m\u001b[0;34m=\u001b[0m\u001b[0mloader_param\u001b[0m\u001b[0;34m[\u001b[0m\u001b[0;36m1\u001b[0m\u001b[0;34m]\u001b[0m\u001b[0;34m[\u001b[0m\u001b[0;36m0\u001b[0m\u001b[0;34m]\u001b[0m\u001b[0;34m,\u001b[0m \u001b[0mfilter_kwargs\u001b[0m\u001b[0;34m=\u001b[0m\u001b[0mloader_param\u001b[0m\u001b[0;34m[\u001b[0m\u001b[0;36m1\u001b[0m\u001b[0;34m]\u001b[0m\u001b[0;34m[\u001b[0m\u001b[0;36m1\u001b[0m\u001b[0;34m]\u001b[0m\u001b[0;34m,\u001b[0m\u001b[0;34m\u001b[0m\u001b[0;34m\u001b[0m\u001b[0m\n\u001b[0;32m---> 28\u001b[0;31m                       tw=loader_param[2], spike_threshold=loader_param[3])\n\u001b[0m\u001b[1;32m     29\u001b[0m \u001b[0;34m\u001b[0m\u001b[0m\n\u001b[1;32m     30\u001b[0m     \u001b[0mcv\u001b[0m \u001b[0;34m=\u001b[0m \u001b[0mKFold\u001b[0m\u001b[0;34m(\u001b[0m\u001b[0mn_cv\u001b[0m\u001b[0;34m,\u001b[0m \u001b[0mshuffle\u001b[0m\u001b[0;34m=\u001b[0m\u001b[0;32mFalse\u001b[0m\u001b[0;34m)\u001b[0m\u001b[0;34m\u001b[0m\u001b[0;34m\u001b[0m\u001b[0m\n",
      "\u001b[0;32m~/nse/localization/loaders.py\u001b[0m in \u001b[0;36mload_shenoy\u001b[0;34m(data_path, bin_width, boxcox, filter_fn, filter_kwargs, spike_threshold, trial_threshold, tw, trial_versions)\u001b[0m\n\u001b[1;32m    241\u001b[0m                                                    \u001b[0mT\u001b[0m\u001b[0;34m,\u001b[0m \u001b[0mbin_width\u001b[0m\u001b[0;34m,\u001b[0m \u001b[0mboxcox\u001b[0m\u001b[0;34m,\u001b[0m \u001b[0mfilter_fn\u001b[0m\u001b[0;34m,\u001b[0m \u001b[0mfilter_kwargs\u001b[0m\u001b[0;34m,\u001b[0m\u001b[0;34m\u001b[0m\u001b[0;34m\u001b[0m\u001b[0m\n\u001b[1;32m    242\u001b[0m                                                    \u001b[0mspike_threshold\u001b[0m\u001b[0;34m=\u001b[0m\u001b[0mspike_threshold\u001b[0m\u001b[0;34m,\u001b[0m\u001b[0;34m\u001b[0m\u001b[0;34m\u001b[0m\u001b[0m\n\u001b[0;32m--> 243\u001b[0;31m                                                    trial_threshold=trial_threshold)                      \n\u001b[0m\u001b[1;32m    244\u001b[0m \u001b[0;34m\u001b[0m\u001b[0m\n\u001b[1;32m    245\u001b[0m     \u001b[0mdat\u001b[0m\u001b[0;34m[\u001b[0m\u001b[0;34m'spike_rates'\u001b[0m\u001b[0;34m]\u001b[0m \u001b[0;34m=\u001b[0m \u001b[0mspike_rates\u001b[0m\u001b[0;34m\u001b[0m\u001b[0;34m\u001b[0m\u001b[0m\n",
      "\u001b[0;32m~/nse/localization/loaders.py\u001b[0m in \u001b[0;36mpostprocess_spikes\u001b[0;34m(spike_times, T, bin_width, boxcox, filter_fn, filter_kwargs, spike_threshold, trial_threshold, high_pass)\u001b[0m\n\u001b[1;32m    109\u001b[0m             \u001b[0;32mif\u001b[0m \u001b[0mboxcox\u001b[0m \u001b[0;32mis\u001b[0m \u001b[0;32mnot\u001b[0m \u001b[0;32mNone\u001b[0m\u001b[0;34m:\u001b[0m\u001b[0;34m\u001b[0m\u001b[0;34m\u001b[0m\u001b[0m\n\u001b[1;32m    110\u001b[0m                 spike_counts = np.array([(np.power(spike_count, boxcox) - 1)/boxcox \n\u001b[0;32m--> 111\u001b[0;31m                                          for spike_count in spike_counts])\n\u001b[0m\u001b[1;32m    112\u001b[0m \u001b[0;34m\u001b[0m\u001b[0m\n\u001b[1;32m    113\u001b[0m             \u001b[0;31m# Filter the resulting spike counts\u001b[0m\u001b[0;34m\u001b[0m\u001b[0;34m\u001b[0m\u001b[0;34m\u001b[0m\u001b[0m\n",
      "\u001b[0;32m~/nse/localization/loaders.py\u001b[0m in \u001b[0;36m<listcomp>\u001b[0;34m(.0)\u001b[0m\n\u001b[1;32m    109\u001b[0m             \u001b[0;32mif\u001b[0m \u001b[0mboxcox\u001b[0m \u001b[0;32mis\u001b[0m \u001b[0;32mnot\u001b[0m \u001b[0;32mNone\u001b[0m\u001b[0;34m:\u001b[0m\u001b[0;34m\u001b[0m\u001b[0;34m\u001b[0m\u001b[0m\n\u001b[1;32m    110\u001b[0m                 spike_counts = np.array([(np.power(spike_count, boxcox) - 1)/boxcox \n\u001b[0;32m--> 111\u001b[0;31m                                          for spike_count in spike_counts])\n\u001b[0m\u001b[1;32m    112\u001b[0m \u001b[0;34m\u001b[0m\u001b[0m\n\u001b[1;32m    113\u001b[0m             \u001b[0;31m# Filter the resulting spike counts\u001b[0m\u001b[0;34m\u001b[0m\u001b[0;34m\u001b[0m\u001b[0;34m\u001b[0m\u001b[0m\n",
      "\u001b[0;31mKeyboardInterrupt\u001b[0m: "
     ]
    }
   ],
   "source": [
    "# Sweep over bin_sizes, filtering parameters, lag, decodingwindow\n",
    "\n",
    "bin_widths = [1, 2, 4]\n",
    "filters = [('none', {})]\n",
    "filters.extend([('gaussian', {'sigma':sigma}) for sigma in [20]])\n",
    "\n",
    "tw = [(-450, 450), (-250, 550)]\n",
    "spike_threshold =[None, 1, 5]\n",
    "\n",
    "\n",
    "loader_params = list(itertools.product(bin_widths, filters, tw, spike_threshold))\n",
    "\n",
    "lags = np.linspace(0, 100, 5).astype(int)\n",
    "decoding_windows = [1, 3]\n",
    "behavioral_filter = [('none', {}), ('gaussian', {'sigma':20})]\n",
    "\n",
    "decoding_params = list(itertools.product(lags, decoding_windows, behavioral_filter))\n",
    "n_cv = 5\n",
    "\n",
    "results_list = []\n",
    "\n",
    "# Try aggregating all files together first\n",
    "for i, loader_param in tqdm(enumerate(loader_params)):\n",
    "\n",
    "    dat = load_shenoy('/mnt/Secondary/data/shenoy/RC,2009-09-18,1-2,good-ss.mat', \n",
    "                      bin_width=loader_param[0], boxcox=0.5,\n",
    "                      filter_fn=loader_param[1][0], filter_kwargs=loader_param[1][1],\n",
    "                      tw=loader_param[2], spike_threshold=loader_param[3])\n",
    "\n",
    "    cv = KFold(n_cv, shuffle=False)\n",
    "    fold_idx = 0\n",
    "        \n",
    "    for train_idxs, test_idxs in cv.split(dat['spike_rates']):\n",
    "        for j, decoding_param in enumerate(decoding_params):\n",
    "            xtrain = dat['spike_rates'][train_idxs]\n",
    "            xtest = dat['spike_rates'][test_idxs]\n",
    "            \n",
    "            # Add axis at the end since position is 1D\n",
    "            ztrain = dat['behavior'][train_idxs]\n",
    "            ztest = dat['behavior'][test_idxs]\n",
    "            \n",
    "            pdb.set_trace()\n",
    "            \n",
    "            lr_r2_, _, _, _ = lr_decoder(xtest, xtrain, ztest, ztrain, \n",
    "                                decoding_param[0], decoding_param[0],\n",
    "                                decoding_param[1])\n",
    "            result = {}\n",
    "            result['data_file'] = data_file\n",
    "            result['bin_width'] = loader_param[0]\n",
    "            result['filter'] = loader_param[1][0]\n",
    "            result['filter_kwarg'] = loader_param[1][1]\n",
    "            result['fold_idx']= fold_idx\n",
    "            result['lag'] = decoding_param[0]\n",
    "            result['decoding_window'] = decoding_param[1]\n",
    "            result['r2'] = lr_r2_\n",
    "            results_list.append(result)\n",
    "        fold_idx += 1\n",
    "\n"
   ]
  },
  {
   "cell_type": "code",
   "execution_count": null,
   "metadata": {},
   "outputs": [],
   "source": []
  },
  {
   "cell_type": "code",
   "execution_count": null,
   "metadata": {},
   "outputs": [],
   "source": [
    "# Level of aggregation\n",
    "# Smooth behavior"
   ]
  },
  {
   "cell_type": "code",
   "execution_count": 20,
   "metadata": {},
   "outputs": [],
   "source": [
    "decoding_results = pd.DataFrame(results_list)"
   ]
  },
  {
   "cell_type": "code",
   "execution_count": 21,
   "metadata": {},
   "outputs": [
    {
     "data": {
      "text/plain": [
       "0.4887040720592159"
      ]
     },
     "execution_count": 21,
     "metadata": {},
     "output_type": "execute_result"
    }
   ],
   "source": [
    "np.max(decoding_results['r2'].values)"
   ]
  },
  {
   "cell_type": "code",
   "execution_count": 22,
   "metadata": {},
   "outputs": [
    {
     "data": {
      "image/png": "[encoded data removed]",
      "text/plain": [
       "<Figure size 720x1440 with 8 Axes>"
      ]
     },
     "metadata": {
      "needs_background": "light"
     },
     "output_type": "display_data"
    }
   ],
   "source": [
    "fig, ax = plt.subplots(4, 2, figsize=(10, 20))\n",
    "for i in range(len(lags)):\n",
    "    df_ = decoding_results.loc[decoding_results['lag'] == lags[i]]\n",
    "    a = ax[np.unravel_index(i, (4, 2))]\n",
    "    a.hist(df_['r2'].values, range=(0, 1))\n",
    "    a.set_title('Lag %d' % lags[i])"
   ]
  },
  {
   "cell_type": "code",
   "execution_count": 25,
   "metadata": {},
   "outputs": [
    {
     "data": {
      "image/png": "[encoded data removed]",
      "text/plain": [
       "<Figure size 720x1440 with 6 Axes>"
      ]
     },
     "metadata": {
      "needs_background": "light"
     },
     "output_type": "display_data"
    }
   ],
   "source": [
    "# r2 as a function of decoding window\n",
    "fig, ax = plt.subplots(3, 2, figsize=(10, 20))\n",
    "for i in range(len(decoding_windows)):\n",
    "    df_ = decoding_results.loc[decoding_results['decoding_window'] == decoding_windows[i]]\n",
    "    a = ax[np.unravel_index(i, (3, 2))]\n",
    "    a.hist(df_['r2'].values, range=(0, 1))\n",
    "    a.set_title(decoding_windows[i])"
   ]
  },
  {
   "cell_type": "code",
   "execution_count": null,
   "metadata": {},
   "outputs": [],
   "source": []
  }
 ],
 "metadata": {
  "interpreter": {
   "hash": "c52494c424e88c3f855a8aeb34b231af4706f7aa247f66fb47c890a5ab8814ab"
  },
  "kernelspec": {
   "display_name": "Python 3.7.10 64-bit ('dyn': conda)",
   "language": "python",
   "name": "python3"
  },
  "language_info": {
   "codemirror_mode": {
    "name": "ipython",
    "version": 3
   },
   "file_extension": ".py",
   "mimetype": "text/x-python",
   "name": "python",
   "nbconvert_exporter": "python",
   "pygments_lexer": "ipython3",
   "version": "3.7.10"
  },
  "orig_nbformat": 4
 },
 "nbformat": 4,
 "nbformat_minor": 2
}
