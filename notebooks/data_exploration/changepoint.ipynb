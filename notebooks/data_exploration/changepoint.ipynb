{
 "cells": [
  {
   "cell_type": "code",
   "execution_count": 1,
   "metadata": {},
   "outputs": [],
   "source": [
    "%load_ext autoreload\n",
    "%autoreload 2"
   ]
  },
  {
   "cell_type": "code",
   "execution_count": 16,
   "metadata": {},
   "outputs": [],
   "source": [
    "import numpy as np \n",
    "import pickle\n",
    "import h5py \n",
    "import matplotlib.pyplot as plt\n",
    "import scipy\n",
    "from scipy import stats"
   ]
  },
  {
   "cell_type": "code",
   "execution_count": 31,
   "metadata": {},
   "outputs": [],
   "source": [
    "from tqdm import tqdm"
   ]
  },
  {
   "cell_type": "code",
   "execution_count": 3,
   "metadata": {},
   "outputs": [],
   "source": [
    "from pyuoi.linear_model.var import VAR"
   ]
  },
  {
   "cell_type": "code",
   "execution_count": 14,
   "metadata": {},
   "outputs": [],
   "source": [
    "from affinewarp import ShiftWarping"
   ]
  },
  {
   "cell_type": "markdown",
   "metadata": {},
   "source": [
    "### Time warping"
   ]
  },
  {
   "cell_type": "code",
   "execution_count": 5,
   "metadata": {},
   "outputs": [
    {
     "data": {
      "text/plain": [
       "<KeysViewHDF5 ['X', 'blocks', 'electrode_labels', 'good_channels', 'good_elects', 'good_examples', 'means', 'single_blocks', 'stds', 'vsmc', 'y']>"
      ]
     },
     "execution_count": 5,
     "metadata": {},
     "output_type": "execute_result"
    }
   ],
   "source": [
    "f = h5py.File('EC2_hg.h5', 'r')\n",
    "f.keys()"
   ]
  },
  {
   "cell_type": "code",
   "execution_count": 17,
   "metadata": {},
   "outputs": [
    {
     "name": "stderr",
     "output_type": "stream",
     "text": [
      "/home/akumar/anaconda3/envs/dyn/lib/python3.7/site-packages/ipykernel_launcher.py:1: H5pyDeprecationWarning: dataset.value has been deprecated. Use dataset[()] instead.\n",
      "  \"\"\"Entry point for launching an IPython kernel.\n",
      "/home/akumar/anaconda3/envs/dyn/lib/python3.7/site-packages/ipykernel_launcher.py:5: H5pyDeprecationWarning: dataset.value has been deprecated. Use dataset[()] instead.\n",
      "  \"\"\"\n"
     ]
    }
   ],
   "source": [
    "unique, counts = np.unique(f['y'].value, return_counts=True)\n",
    "syllables = {}\n",
    "zsyllables = {}\n",
    "for syl in unique:\n",
    "    syl_unnormalized = np.squeeze(f['X'].value[f['y'].value == syl])[:]\n",
    "    syllables[syl.decode('utf-8')] = np.moveaxis(np.array([zscore(syl_unnormalized[:,:,i], axis=1) \n",
    "                                                           for i in range(syl_unnormalized.shape[2])]), 0, -1)\n",
    "    zsyllables[syl.decode('utf-8')] = np.moveaxis(np.array([stats.zscore(syl_unnormalized[:,:,i], axis=1) \n",
    "                                                            for i in range(syl_unnormalized.shape[2])]), 0, -1)"
   ]
  },
  {
   "cell_type": "code",
   "execution_count": 7,
   "metadata": {},
   "outputs": [],
   "source": [
    "# For each of the desired syllables, fit individual and combined warps"
   ]
  },
  {
   "cell_type": "code",
   "execution_count": 18,
   "metadata": {},
   "outputs": [],
   "source": [
    "target_cvs = ['baa', 'daa', 'gaa', 'taa', 'thaa', 'saa', 'shaa']"
   ]
  },
  {
   "cell_type": "code",
   "execution_count": 25,
   "metadata": {},
   "outputs": [],
   "source": [
    "def shift_cv(cv_array, individual=False):\n",
    "    \n",
    "    model = ShiftWarping(maxlag=.3, smoothness_reg_scale=10.)\n",
    "    \n",
    "    # Fit the model\n",
    "    if individual:\n",
    "        shifted_cv_array = np.zeros_like(cv_array)\n",
    "        for ind in range(shifted_cv_array.shape[2]):\n",
    "            # Create the model. Add a roughness penalty to the model template.\n",
    "            model = ShiftWarping(maxlag=.3, smoothness_reg_scale=10.)\n",
    "            model.fit(np.expand_dims(cv_array[:,:,ind], axis=2), iterations=20, verbose=False)\n",
    "            shifted_cv_array[:,:,ind] = model.transform(np.expand_dims(cv_array[:,:,ind], axis=2)).squeeze()\n",
    "    else:\n",
    "        model.fit(cv_array, iterations=20)\n",
    "        shifted_cv_array = model.transform(cv_array)\n",
    "        \n",
    "    return shifted_cv_array"
   ]
  },
  {
   "cell_type": "code",
   "execution_count": 21,
   "metadata": {},
   "outputs": [
    {
     "data": {
      "text/plain": [
       "(45, 258, 86)"
      ]
     },
     "execution_count": 21,
     "metadata": {},
     "output_type": "execute_result"
    }
   ],
   "source": [
    "syllables['baa'].shape"
   ]
  },
  {
   "cell_type": "code",
   "execution_count": 23,
   "metadata": {},
   "outputs": [
    {
     "name": "stderr",
     "output_type": "stream",
     "text": [
      "Loss: 2.89: 100%|██████████| 20/20 [00:00<00:00, 20.66it/s]\n"
     ]
    },
    {
     "data": {
      "text/plain": [
       "(45, 258, 86)"
      ]
     },
     "execution_count": 23,
     "metadata": {},
     "output_type": "execute_result"
    }
   ],
   "source": [
    "shift_cv(syllables['baa']).shape"
   ]
  },
  {
   "cell_type": "code",
   "execution_count": 41,
   "metadata": {},
   "outputs": [
    {
     "name": "stderr",
     "output_type": "stream",
     "text": [
      "Loss: 0.92: 100%|██████████| 20/20 [00:01<00:00, 19.80it/s]\n",
      "Loss: 0.91: 100%|██████████| 20/20 [00:01<00:00, 19.51it/s]\n",
      "Loss: 0.93: 100%|██████████| 20/20 [00:00<00:00, 20.30it/s]\n",
      "Loss: 0.91: 100%|██████████| 20/20 [00:01<00:00, 17.21it/s]\n",
      "Loss: 0.88: 100%|██████████| 20/20 [00:01<00:00, 17.25it/s]\n",
      "Loss: 0.91: 100%|██████████| 20/20 [00:00<00:00, 20.17it/s]\n",
      "Loss: 0.91: 100%|██████████| 20/20 [00:01<00:00, 16.26it/s]\n"
     ]
    }
   ],
   "source": [
    "shifted_zsyllables_all = {}\n",
    "shifted_zsyllables_ind = {}\n",
    "for target_cv in target_cvs:\n",
    "    shifted_zsyllables_all[target_cv] = shift_cv(zsyllables[target_cv])\n",
    "    shifted_zsyllables_ind[target_cv] = shift_cv(zsyllables[target_cv], individual=True)"
   ]
  },
  {
   "cell_type": "markdown",
   "metadata": {},
   "source": [
    "### Changepoint detection"
   ]
  },
  {
   "cell_type": "code",
   "execution_count": 27,
   "metadata": {},
   "outputs": [],
   "source": [
    "from dca.data_util import form_lag_matrix"
   ]
  },
  {
   "cell_type": "code",
   "execution_count": 28,
   "metadata": {},
   "outputs": [],
   "source": [
    "import pdb"
   ]
  },
  {
   "cell_type": "code",
   "execution_count": 29,
   "metadata": {},
   "outputs": [],
   "source": [
    "# Used to surpress \"training is over\" output"
   ]
  },
  {
   "cell_type": "code",
   "execution_count": 30,
   "metadata": {},
   "outputs": [],
   "source": [
    "from contextlib import contextmanager\n",
    "import sys, os\n",
    "\n",
    "@contextmanager\n",
    "def suppress_stdout():\n",
    "    with open(os.devnull, \"w\") as devnull:\n",
    "        old_stdout = sys.stdout\n",
    "        sys.stdout = devnull\n",
    "        try:  \n",
    "            yield\n",
    "        finally:\n",
    "            sys.stdout = old_stdout"
   ]
  },
  {
   "cell_type": "code",
   "execution_count": 33,
   "metadata": {},
   "outputs": [],
   "source": [
    "idxs = form_lag_matrix(np.arange(258)[:, np.newaxis], 10)"
   ]
  },
  {
   "cell_type": "code",
   "execution_count": 35,
   "metadata": {},
   "outputs": [
    {
     "data": {
      "text/plain": [
       "(249, 10)"
      ]
     },
     "execution_count": 35,
     "metadata": {},
     "output_type": "execute_result"
    }
   ],
   "source": [
    "idxs[]"
   ]
  },
  {
   "cell_type": "code",
   "execution_count": null,
   "metadata": {},
   "outputs": [],
   "source": [
    "idxs"
   ]
  },
  {
   "cell_type": "code",
   "execution_count": 37,
   "metadata": {},
   "outputs": [
    {
     "data": {
      "text/plain": [
       "(45, 258, 86)"
      ]
     },
     "execution_count": 37,
     "metadata": {},
     "output_type": "execute_result"
    }
   ],
   "source": [
    "syllables['baa'].shape"
   ]
  },
  {
   "cell_type": "code",
   "execution_count": 59,
   "metadata": {},
   "outputs": [],
   "source": [
    "idxs = form_lag_matrix(np.arange(258)[:, np.newaxis], 30).astype(int)"
   ]
  },
  {
   "cell_type": "code",
   "execution_count": 60,
   "metadata": {},
   "outputs": [
    {
     "data": {
      "text/plain": [
       "array([ 3,  4,  5,  6,  7,  8,  9, 10, 11, 12, 13, 14, 15, 16, 17, 18, 19,\n",
       "       20, 21, 22, 23, 24, 25, 26, 27, 28, 29, 30, 31, 32])"
      ]
     },
     "execution_count": 60,
     "metadata": {},
     "output_type": "execute_result"
    }
   ],
   "source": [
    "idxs[3, :]"
   ]
  },
  {
   "cell_type": "code",
   "execution_count": 51,
   "metadata": {},
   "outputs": [
    {
     "data": {
      "text/plain": [
       "numpy.ndarray"
      ]
     },
     "execution_count": 51,
     "metadata": {},
     "output_type": "execute_result"
    }
   ],
   "source": [
    "zsyllables['baa'][:]"
   ]
  },
  {
   "cell_type": "code",
   "execution_count": 61,
   "metadata": {},
   "outputs": [
    {
     "data": {
      "text/plain": [
       "(45, 30, 86)"
      ]
     },
     "execution_count": 61,
     "metadata": {},
     "output_type": "execute_result"
    }
   ],
   "source": [
    "zsyllables['baa'][:, list(idxs[0, :]), :].shape"
   ]
  },
  {
   "cell_type": "code",
   "execution_count": 48,
   "metadata": {},
   "outputs": [
    {
     "ename": "TypeError",
     "evalue": "unhashable type: 'slice'",
     "output_type": "error",
     "traceback": [
      "\u001b[0;31m---------------------------------------------------------------------------\u001b[0m",
      "\u001b[0;31mTypeError\u001b[0m                                 Traceback (most recent call last)",
      "\u001b[0;32m<ipython-input-48-be4132837cfd>\u001b[0m in \u001b[0;36m<module>\u001b[0;34m\u001b[0m\n\u001b[0;32m----> 1\u001b[0;31m \u001b[0mzsyllables\u001b[0m\u001b[0;34m[\u001b[0m\u001b[0;34m:\u001b[0m\u001b[0;34m,\u001b[0m \u001b[0midxs\u001b[0m\u001b[0;34m[\u001b[0m\u001b[0;36m0\u001b[0m\u001b[0;34m,\u001b[0m \u001b[0;34m:\u001b[0m\u001b[0;34m]\u001b[0m\u001b[0;34m,\u001b[0m \u001b[0;34m:\u001b[0m\u001b[0;34m]\u001b[0m\u001b[0;34m.\u001b[0m\u001b[0mshape\u001b[0m\u001b[0;34m\u001b[0m\u001b[0;34m\u001b[0m\u001b[0m\n\u001b[0m",
      "\u001b[0;31mTypeError\u001b[0m: unhashable type: 'slice'"
     ]
    }
   ],
   "source": [
    "zsyllables[:, idxs[0, :], :].shape"
   ]
  },
  {
   "cell_type": "code",
   "execution_count": 67,
   "metadata": {},
   "outputs": [
    {
     "data": {
      "text/plain": [
       "0"
      ]
     },
     "execution_count": 67,
     "metadata": {},
     "output_type": "execute_result"
    }
   ],
   "source": [
    "i"
   ]
  },
  {
   "cell_type": "code",
   "execution_count": 64,
   "metadata": {},
   "outputs": [
    {
     "name": "stderr",
     "output_type": "stream",
     "text": [
      "  0%|          | 0/7 [00:00<?, ?it/s]\n",
      "0it [00:00, ?it/s]\u001b[A\n",
      "\n",
      "  0%|          | 0/24 [00:00<?, ?it/s]\u001b[A\u001b[A\n",
      "\n",
      "  4%|▍         | 1/24 [04:25<1:41:50, 265.68s/it]\u001b[A\u001b[A\n",
      "\n",
      "  8%|▊         | 2/24 [09:01<1:39:39, 271.81s/it]\u001b[A\u001b[A\n",
      "\n",
      " 12%|█▎        | 3/24 [13:30<1:34:40, 270.51s/it]\u001b[A\u001b[A\n",
      "\n",
      " 17%|█▋        | 4/24 [18:07<1:30:56, 272.84s/it]\u001b[A\u001b[A\n",
      "\n",
      " 21%|██        | 5/24 [22:39<1:26:20, 272.64s/it]\u001b[A\u001b[A\n",
      "\n",
      " 25%|██▌       | 6/24 [27:08<1:21:22, 271.26s/it]\u001b[A\u001b[A\n",
      "\n",
      " 29%|██▉       | 7/24 [31:35<1:16:28, 269.89s/it]\u001b[A\u001b[A\n",
      "\n",
      " 33%|███▎      | 8/24 [35:59<1:11:28, 268.01s/it]\u001b[A\u001b[A\n",
      "\n",
      " 38%|███▊      | 9/24 [40:25<1:06:50, 267.36s/it]\u001b[A\u001b[A\n",
      "\n",
      " 42%|████▏     | 10/24 [44:45<1:01:52, 265.21s/it]\u001b[A\u001b[A\n",
      "\n",
      " 46%|████▌     | 11/24 [49:05<57:05, 263.51s/it]  \u001b[A\u001b[A\n",
      "\n",
      " 50%|█████     | 12/24 [53:38<53:38, 268.21s/it]\u001b[A\u001b[A\n",
      "0it [53:38, ?it/s]\n",
      "  0%|          | 0/7 [53:38<?, ?it/s]\n"
     ]
    },
    {
     "ename": "KeyboardInterrupt",
     "evalue": "",
     "output_type": "error",
     "traceback": [
      "\u001b[0;31m---------------------------------------------------------------------------\u001b[0m",
      "\u001b[0;31mKeyboardInterrupt\u001b[0m                         Traceback (most recent call last)",
      "\u001b[0;32m<ipython-input-64-4ec8fe27a9ca>\u001b[0m in \u001b[0;36m<module>\u001b[0;34m\u001b[0m\n\u001b[1;32m     24\u001b[0m             \u001b[0;32mwith\u001b[0m \u001b[0msuppress_stdout\u001b[0m\u001b[0;34m(\u001b[0m\u001b[0;34m)\u001b[0m\u001b[0;34m:\u001b[0m\u001b[0;34m\u001b[0m\u001b[0;34m\u001b[0m\u001b[0m\n\u001b[1;32m     25\u001b[0m                 \u001b[0mvmodel1\u001b[0m\u001b[0;34m.\u001b[0m\u001b[0mfit\u001b[0m\u001b[0;34m(\u001b[0m\u001b[0mzsyllables\u001b[0m\u001b[0;34m[\u001b[0m\u001b[0mcv\u001b[0m\u001b[0;34m]\u001b[0m\u001b[0;34m[\u001b[0m\u001b[0;34m:\u001b[0m\u001b[0;34m,\u001b[0m \u001b[0mlist\u001b[0m\u001b[0;34m(\u001b[0m\u001b[0midxs\u001b[0m\u001b[0;34m[\u001b[0m\u001b[0mj\u001b[0m\u001b[0;34m,\u001b[0m \u001b[0;34m:\u001b[0m\u001b[0;34m]\u001b[0m\u001b[0;34m)\u001b[0m\u001b[0;34m,\u001b[0m \u001b[0;34m:\u001b[0m\u001b[0;34m]\u001b[0m\u001b[0;34m)\u001b[0m\u001b[0;34m\u001b[0m\u001b[0;34m\u001b[0m\u001b[0m\n\u001b[0;32m---> 26\u001b[0;31m                 \u001b[0mvmodel2\u001b[0m\u001b[0;34m.\u001b[0m\u001b[0mfit\u001b[0m\u001b[0;34m(\u001b[0m\u001b[0mzsyllables\u001b[0m\u001b[0;34m[\u001b[0m\u001b[0mcv\u001b[0m\u001b[0;34m]\u001b[0m\u001b[0;34m[\u001b[0m\u001b[0;34m:\u001b[0m\u001b[0;34m,\u001b[0m \u001b[0mlist\u001b[0m\u001b[0;34m(\u001b[0m\u001b[0midxs\u001b[0m\u001b[0;34m[\u001b[0m\u001b[0mj\u001b[0m\u001b[0;34m,\u001b[0m \u001b[0;34m:\u001b[0m\u001b[0;34m]\u001b[0m\u001b[0;34m)\u001b[0m\u001b[0;34m,\u001b[0m \u001b[0;34m:\u001b[0m\u001b[0;34m]\u001b[0m\u001b[0;34m)\u001b[0m\u001b[0;34m\u001b[0m\u001b[0;34m\u001b[0m\u001b[0m\n\u001b[0m\u001b[1;32m     27\u001b[0m \u001b[0;34m\u001b[0m\u001b[0m\n\u001b[1;32m     28\u001b[0m             \u001b[0mresults\u001b[0m\u001b[0;34m[\u001b[0m\u001b[0mcv\u001b[0m\u001b[0;34m]\u001b[0m\u001b[0;34m[\u001b[0m\u001b[0;34m'zscored_ols'\u001b[0m\u001b[0;34m]\u001b[0m\u001b[0;34m.\u001b[0m\u001b[0mappend\u001b[0m\u001b[0;34m(\u001b[0m\u001b[0mnp\u001b[0m\u001b[0;34m.\u001b[0m\u001b[0msqueeze\u001b[0m\u001b[0;34m(\u001b[0m\u001b[0mvmodel1\u001b[0m\u001b[0;34m.\u001b[0m\u001b[0mcoef_\u001b[0m\u001b[0;34m)\u001b[0m\u001b[0;34m)\u001b[0m\u001b[0;34m\u001b[0m\u001b[0;34m\u001b[0m\u001b[0m\n",
      "\u001b[0;32m~/nse/PyUoI/pyuoi/linear_model/var.py\u001b[0m in \u001b[0;36mfit\u001b[0;34m(self, y, distributed_save, savepath, resume)\u001b[0m\n\u001b[1;32m    215\u001b[0m                         \u001b[0mself\u001b[0m\u001b[0;34m.\u001b[0m\u001b[0mestimator\u001b[0m\u001b[0;34m.\u001b[0m\u001b[0mfit\u001b[0m\u001b[0;34m(\u001b[0m\u001b[0mxx\u001b[0m\u001b[0;34m,\u001b[0m \u001b[0myy\u001b[0m\u001b[0;34m,\u001b[0m \u001b[0msavepaths\u001b[0m\u001b[0;34m[\u001b[0m\u001b[0midx\u001b[0m\u001b[0;34m]\u001b[0m\u001b[0;34m)\u001b[0m\u001b[0;34m\u001b[0m\u001b[0;34m\u001b[0m\u001b[0m\n\u001b[1;32m    216\u001b[0m                     \u001b[0;32melse\u001b[0m\u001b[0;34m:\u001b[0m\u001b[0;34m\u001b[0m\u001b[0;34m\u001b[0m\u001b[0m\n\u001b[0;32m--> 217\u001b[0;31m                         \u001b[0mself\u001b[0m\u001b[0;34m.\u001b[0m\u001b[0mestimator\u001b[0m\u001b[0;34m.\u001b[0m\u001b[0mfit\u001b[0m\u001b[0;34m(\u001b[0m\u001b[0mxx\u001b[0m\u001b[0;34m,\u001b[0m \u001b[0myy\u001b[0m\u001b[0;34m)\u001b[0m\u001b[0;34m\u001b[0m\u001b[0;34m\u001b[0m\u001b[0m\n\u001b[0m\u001b[1;32m    218\u001b[0m \u001b[0;34m\u001b[0m\u001b[0m\n\u001b[1;32m    219\u001b[0m                     \u001b[0;32mif\u001b[0m \u001b[0mself\u001b[0m\u001b[0;34m.\u001b[0m\u001b[0mself_regress\u001b[0m\u001b[0;34m:\u001b[0m\u001b[0;34m\u001b[0m\u001b[0;34m\u001b[0m\u001b[0m\n",
      "\u001b[0;32m~/nse/PyUoI/pyuoi/linear_model/var.py\u001b[0m in \u001b[0;36mfit\u001b[0;34m(self, X, y, savepath)\u001b[0m\n\u001b[1;32m    318\u001b[0m \u001b[0;34m\u001b[0m\u001b[0m\n\u001b[1;32m    319\u001b[0m     \u001b[0;32mdef\u001b[0m \u001b[0mfit\u001b[0m\u001b[0;34m(\u001b[0m\u001b[0mself\u001b[0m\u001b[0;34m,\u001b[0m \u001b[0mX\u001b[0m\u001b[0;34m,\u001b[0m \u001b[0my\u001b[0m\u001b[0;34m,\u001b[0m \u001b[0msavepath\u001b[0m\u001b[0;34m=\u001b[0m\u001b[0;32mNone\u001b[0m\u001b[0;34m)\u001b[0m\u001b[0;34m:\u001b[0m\u001b[0;34m\u001b[0m\u001b[0;34m\u001b[0m\u001b[0m\n\u001b[0;32m--> 320\u001b[0;31m         \u001b[0msuper\u001b[0m\u001b[0;34m(\u001b[0m\u001b[0mUoIVAR_Estimator\u001b[0m\u001b[0;34m,\u001b[0m \u001b[0mself\u001b[0m\u001b[0;34m)\u001b[0m\u001b[0;34m.\u001b[0m\u001b[0mfit\u001b[0m\u001b[0;34m(\u001b[0m\u001b[0mX\u001b[0m\u001b[0;34m,\u001b[0m \u001b[0my\u001b[0m\u001b[0;34m)\u001b[0m\u001b[0;34m\u001b[0m\u001b[0;34m\u001b[0m\u001b[0m\n\u001b[0m\u001b[1;32m    321\u001b[0m \u001b[0;34m\u001b[0m\u001b[0m\n\u001b[1;32m    322\u001b[0m         \u001b[0;32mif\u001b[0m \u001b[0msavepath\u001b[0m \u001b[0;32mis\u001b[0m \u001b[0;32mnot\u001b[0m \u001b[0;32mNone\u001b[0m\u001b[0;34m:\u001b[0m\u001b[0;34m\u001b[0m\u001b[0;34m\u001b[0m\u001b[0m\n",
      "\u001b[0;32m~/nse/PyUoI/pyuoi/linear_model/base.py\u001b[0m in \u001b[0;36mfit\u001b[0;34m(self, X, y, stratify, verbose)\u001b[0m\n\u001b[1;32m    225\u001b[0m         \u001b[0;32melse\u001b[0m\u001b[0;34m:\u001b[0m\u001b[0;34m\u001b[0m\u001b[0;34m\u001b[0m\u001b[0m\n\u001b[1;32m    226\u001b[0m             \u001b[0mself\u001b[0m\u001b[0;34m.\u001b[0m\u001b[0mselection\u001b[0m\u001b[0;34m(\u001b[0m\u001b[0mX\u001b[0m\u001b[0;34m,\u001b[0m \u001b[0my\u001b[0m\u001b[0;34m,\u001b[0m \u001b[0mstratify\u001b[0m\u001b[0;34m)\u001b[0m\u001b[0;34m\u001b[0m\u001b[0;34m\u001b[0m\u001b[0m\n\u001b[0;32m--> 227\u001b[0;31m             \u001b[0mself\u001b[0m\u001b[0;34m.\u001b[0m\u001b[0mestimation\u001b[0m\u001b[0;34m(\u001b[0m\u001b[0mX\u001b[0m\u001b[0;34m,\u001b[0m \u001b[0my\u001b[0m\u001b[0;34m,\u001b[0m \u001b[0mstratify\u001b[0m\u001b[0;34m)\u001b[0m\u001b[0;34m\u001b[0m\u001b[0;34m\u001b[0m\u001b[0m\n\u001b[0m\u001b[1;32m    228\u001b[0m             \u001b[0mself\u001b[0m\u001b[0;34m.\u001b[0m\u001b[0m_post_fit\u001b[0m\u001b[0;34m(\u001b[0m\u001b[0mX\u001b[0m\u001b[0;34m,\u001b[0m \u001b[0my\u001b[0m\u001b[0;34m)\u001b[0m\u001b[0;34m\u001b[0m\u001b[0;34m\u001b[0m\u001b[0m\n\u001b[1;32m    229\u001b[0m \u001b[0;34m\u001b[0m\u001b[0m\n",
      "\u001b[0;32m~/nse/PyUoI/pyuoi/linear_model/base.py\u001b[0m in \u001b[0;36mestimation\u001b[0;34m(self, X, y, stratify)\u001b[0m\n\u001b[1;32m    406\u001b[0m                 \u001b[0;31m# compute the estimate and store the fitted coefficients\u001b[0m\u001b[0;34m\u001b[0m\u001b[0;34m\u001b[0m\u001b[0;34m\u001b[0m\u001b[0m\n\u001b[1;32m    407\u001b[0m                 \u001b[0;32mif\u001b[0m \u001b[0mself\u001b[0m\u001b[0;34m.\u001b[0m\u001b[0mshared_support\u001b[0m\u001b[0;34m:\u001b[0m\u001b[0;34m\u001b[0m\u001b[0;34m\u001b[0m\u001b[0m\n\u001b[0;32m--> 408\u001b[0;31m                     \u001b[0mself\u001b[0m\u001b[0;34m.\u001b[0m\u001b[0m_estimation_lm\u001b[0m\u001b[0;34m.\u001b[0m\u001b[0mfit\u001b[0m\u001b[0;34m(\u001b[0m\u001b[0mX_rep\u001b[0m\u001b[0;34m,\u001b[0m \u001b[0my_rep\u001b[0m\u001b[0;34m,\u001b[0m \u001b[0mcoef_mask\u001b[0m\u001b[0;34m=\u001b[0m\u001b[0msupport\u001b[0m\u001b[0;34m)\u001b[0m\u001b[0;34m\u001b[0m\u001b[0;34m\u001b[0m\u001b[0m\n\u001b[0m\u001b[1;32m    409\u001b[0m                     \u001b[0mestimates\u001b[0m\u001b[0;34m[\u001b[0m\u001b[0mii\u001b[0m\u001b[0;34m,\u001b[0m \u001b[0mnp\u001b[0m\u001b[0;34m.\u001b[0m\u001b[0mtile\u001b[0m\u001b[0;34m(\u001b[0m\u001b[0msupport\u001b[0m\u001b[0;34m,\u001b[0m \u001b[0mself\u001b[0m\u001b[0;34m.\u001b[0m\u001b[0moutput_dim\u001b[0m\u001b[0;34m)\u001b[0m\u001b[0;34m]\u001b[0m \u001b[0;34m=\u001b[0m\u001b[0;31m \u001b[0m\u001b[0;31m\\\u001b[0m\u001b[0;34m\u001b[0m\u001b[0;34m\u001b[0m\u001b[0m\n\u001b[1;32m    410\u001b[0m                         \u001b[0mself\u001b[0m\u001b[0;34m.\u001b[0m\u001b[0m_estimation_lm\u001b[0m\u001b[0;34m.\u001b[0m\u001b[0mcoef_\u001b[0m\u001b[0;34m.\u001b[0m\u001b[0mravel\u001b[0m\u001b[0;34m(\u001b[0m\u001b[0;34m)\u001b[0m\u001b[0;34m\u001b[0m\u001b[0;34m\u001b[0m\u001b[0m\n",
      "\u001b[0;32m~/nse/PyUoI/pyuoi/linear_model/var.py\u001b[0m in \u001b[0;36mfit\u001b[0;34m(self, X, y, coef_mask)\u001b[0m\n\u001b[1;32m    420\u001b[0m             \u001b[0mX\u001b[0m \u001b[0;34m=\u001b[0m \u001b[0mX\u001b[0m\u001b[0;34m[\u001b[0m\u001b[0;34m:\u001b[0m\u001b[0;34m,\u001b[0m \u001b[0mcoef_mask\u001b[0m\u001b[0;34m]\u001b[0m\u001b[0;34m\u001b[0m\u001b[0;34m\u001b[0m\u001b[0m\n\u001b[1;32m    421\u001b[0m \u001b[0;34m\u001b[0m\u001b[0m\n\u001b[0;32m--> 422\u001b[0;31m         \u001b[0msuper\u001b[0m\u001b[0;34m(\u001b[0m\u001b[0mVAR_OLS_Wrapper\u001b[0m\u001b[0;34m,\u001b[0m \u001b[0mself\u001b[0m\u001b[0;34m)\u001b[0m\u001b[0;34m.\u001b[0m\u001b[0mfit\u001b[0m\u001b[0;34m(\u001b[0m\u001b[0mX\u001b[0m\u001b[0;34m,\u001b[0m \u001b[0my\u001b[0m\u001b[0;34m)\u001b[0m\u001b[0;34m\u001b[0m\u001b[0;34m\u001b[0m\u001b[0m\n\u001b[0m\u001b[1;32m    423\u001b[0m \u001b[0;34m\u001b[0m\u001b[0m\n\u001b[1;32m    424\u001b[0m         \u001b[0;32mif\u001b[0m \u001b[0mself\u001b[0m\u001b[0;34m.\u001b[0m\u001b[0mstandalone\u001b[0m\u001b[0;34m:\u001b[0m\u001b[0;34m\u001b[0m\u001b[0;34m\u001b[0m\u001b[0m\n",
      "\u001b[0;32m~/anaconda3/envs/dyn/lib/python3.7/site-packages/sklearn/linear_model/_base.py\u001b[0m in \u001b[0;36mfit\u001b[0;34m(self, X, y, sample_weight)\u001b[0m\n\u001b[1;32m    531\u001b[0m         \u001b[0;32melse\u001b[0m\u001b[0;34m:\u001b[0m\u001b[0;34m\u001b[0m\u001b[0;34m\u001b[0m\u001b[0m\n\u001b[1;32m    532\u001b[0m             \u001b[0mself\u001b[0m\u001b[0;34m.\u001b[0m\u001b[0mcoef_\u001b[0m\u001b[0;34m,\u001b[0m \u001b[0mself\u001b[0m\u001b[0;34m.\u001b[0m\u001b[0m_residues\u001b[0m\u001b[0;34m,\u001b[0m \u001b[0mself\u001b[0m\u001b[0;34m.\u001b[0m\u001b[0mrank_\u001b[0m\u001b[0;34m,\u001b[0m \u001b[0mself\u001b[0m\u001b[0;34m.\u001b[0m\u001b[0msingular_\u001b[0m \u001b[0;34m=\u001b[0m\u001b[0;31m \u001b[0m\u001b[0;31m\\\u001b[0m\u001b[0;34m\u001b[0m\u001b[0;34m\u001b[0m\u001b[0m\n\u001b[0;32m--> 533\u001b[0;31m                 \u001b[0mlinalg\u001b[0m\u001b[0;34m.\u001b[0m\u001b[0mlstsq\u001b[0m\u001b[0;34m(\u001b[0m\u001b[0mX\u001b[0m\u001b[0;34m,\u001b[0m \u001b[0my\u001b[0m\u001b[0;34m)\u001b[0m\u001b[0;34m\u001b[0m\u001b[0;34m\u001b[0m\u001b[0m\n\u001b[0m\u001b[1;32m    534\u001b[0m             \u001b[0mself\u001b[0m\u001b[0;34m.\u001b[0m\u001b[0mcoef_\u001b[0m \u001b[0;34m=\u001b[0m \u001b[0mself\u001b[0m\u001b[0;34m.\u001b[0m\u001b[0mcoef_\u001b[0m\u001b[0;34m.\u001b[0m\u001b[0mT\u001b[0m\u001b[0;34m\u001b[0m\u001b[0;34m\u001b[0m\u001b[0m\n\u001b[1;32m    535\u001b[0m \u001b[0;34m\u001b[0m\u001b[0m\n",
      "\u001b[0;32m~/anaconda3/envs/dyn/lib/python3.7/site-packages/scipy/linalg/basic.py\u001b[0m in \u001b[0;36mlstsq\u001b[0;34m(a, b, cond, overwrite_a, overwrite_b, check_finite, lapack_driver)\u001b[0m\n\u001b[1;32m   1229\u001b[0m             \u001b[0mx1\u001b[0m \u001b[0;34m=\u001b[0m \u001b[0mx\u001b[0m\u001b[0;34m[\u001b[0m\u001b[0;34m:\u001b[0m\u001b[0mn\u001b[0m\u001b[0;34m]\u001b[0m\u001b[0;34m\u001b[0m\u001b[0;34m\u001b[0m\u001b[0m\n\u001b[1;32m   1230\u001b[0m             \u001b[0;32mif\u001b[0m \u001b[0mrank\u001b[0m \u001b[0;34m==\u001b[0m \u001b[0mn\u001b[0m\u001b[0;34m:\u001b[0m\u001b[0;34m\u001b[0m\u001b[0;34m\u001b[0m\u001b[0m\n\u001b[0;32m-> 1231\u001b[0;31m                 \u001b[0mresids\u001b[0m \u001b[0;34m=\u001b[0m \u001b[0mnp\u001b[0m\u001b[0;34m.\u001b[0m\u001b[0msum\u001b[0m\u001b[0;34m(\u001b[0m\u001b[0mnp\u001b[0m\u001b[0;34m.\u001b[0m\u001b[0mabs\u001b[0m\u001b[0;34m(\u001b[0m\u001b[0mx\u001b[0m\u001b[0;34m[\u001b[0m\u001b[0mn\u001b[0m\u001b[0;34m:\u001b[0m\u001b[0;34m]\u001b[0m\u001b[0;34m)\u001b[0m\u001b[0;34m**\u001b[0m\u001b[0;36m2\u001b[0m\u001b[0;34m,\u001b[0m \u001b[0maxis\u001b[0m\u001b[0;34m=\u001b[0m\u001b[0;36m0\u001b[0m\u001b[0;34m)\u001b[0m\u001b[0;34m\u001b[0m\u001b[0;34m\u001b[0m\u001b[0m\n\u001b[0m\u001b[1;32m   1232\u001b[0m             \u001b[0mx\u001b[0m \u001b[0;34m=\u001b[0m \u001b[0mx1\u001b[0m\u001b[0;34m\u001b[0m\u001b[0;34m\u001b[0m\u001b[0m\n\u001b[1;32m   1233\u001b[0m         \u001b[0;32mreturn\u001b[0m \u001b[0mx\u001b[0m\u001b[0;34m,\u001b[0m \u001b[0mresids\u001b[0m\u001b[0;34m,\u001b[0m \u001b[0mrank\u001b[0m\u001b[0;34m,\u001b[0m \u001b[0ms\u001b[0m\u001b[0;34m\u001b[0m\u001b[0;34m\u001b[0m\u001b[0m\n",
      "\u001b[0;32m<__array_function__ internals>\u001b[0m in \u001b[0;36msum\u001b[0;34m(*args, **kwargs)\u001b[0m\n",
      "\u001b[0;32m~/anaconda3/envs/dyn/lib/python3.7/site-packages/numpy/core/fromnumeric.py\u001b[0m in \u001b[0;36msum\u001b[0;34m(a, axis, dtype, out, keepdims, initial, where)\u001b[0m\n\u001b[1;32m   2226\u001b[0m     \u001b[0;36m15\u001b[0m\u001b[0;34m\u001b[0m\u001b[0;34m\u001b[0m\u001b[0m\n\u001b[1;32m   2227\u001b[0m     \"\"\"\n\u001b[0;32m-> 2228\u001b[0;31m     \u001b[0;32mif\u001b[0m \u001b[0misinstance\u001b[0m\u001b[0;34m(\u001b[0m\u001b[0ma\u001b[0m\u001b[0;34m,\u001b[0m \u001b[0m_gentype\u001b[0m\u001b[0;34m)\u001b[0m\u001b[0;34m:\u001b[0m\u001b[0;34m\u001b[0m\u001b[0;34m\u001b[0m\u001b[0m\n\u001b[0m\u001b[1;32m   2229\u001b[0m         \u001b[0;31m# 2018-02-25, 1.15.0\u001b[0m\u001b[0;34m\u001b[0m\u001b[0;34m\u001b[0m\u001b[0;34m\u001b[0m\u001b[0m\n\u001b[1;32m   2230\u001b[0m         warnings.warn(\n",
      "\u001b[0;31mKeyboardInterrupt\u001b[0m: "
     ]
    }
   ],
   "source": [
    "window_lengths = [20, 30, 40, 50, 75, 100]\n",
    "\n",
    "results = {}\n",
    "\n",
    "for cv in tqdm(target_cvs):\n",
    "    results[cv] = {}\n",
    "    for i, window_len in tqdm(enumerate(window_lengths)):\n",
    "        results[cv]['window_length'] = window_len\n",
    "        results[cv]['zscored_ols'] = []\n",
    "        results[cv]['zscored_uoi'] = []\n",
    "        results[cv]['zscored_shifted_all_ols'] = []\n",
    "        results[cv]['zscored_shifted_all_uoi'] = []\n",
    "        results[cv]['zscored_shifted_ind_ols'] = []\n",
    "        results[cv]['zscored_shifted_ind_uoi'] = []\n",
    "\n",
    "        idxs = form_lag_matrix(np.arange(258)[:, np.newaxis], window_len).astype(int)\n",
    "        # Subsample the moving windows by a factor of 10\n",
    "        for j in tqdm(range(0, idxs.shape[0], 10)):\n",
    "\n",
    "            # Z-scored only\n",
    "            vmodel1 = VAR(estimator='ols')\n",
    "            vmodel2 = VAR(estimator='uoi', fit_type='uoi', penalty='l1')\n",
    "\n",
    "            with suppress_stdout():\n",
    "                vmodel1.fit(zsyllables[cv][:, list(idxs[j, :]), :])\n",
    "                vmodel2.fit(zsyllables[cv][:, list(idxs[j, :]), :])\n",
    "\n",
    "            results[cv]['zscored_ols'].append(np.squeeze(vmodel1.coef_))\n",
    "            results[cv]['zscored_uoi'].append(np.squeeze(vmodel2.coef_))\n",
    "\n",
    "            # Z-scored and warped, collectively\n",
    "            vmodel1 = VAR(estimator='ols')\n",
    "            vmodel2 = VAR(estimator='uoi', fit_type='uoi', penalty='l1')\n",
    "\n",
    "            with suppress_stdout():\n",
    "                vmodel1.fit(shifted_zsyllables_all[cv][:, list(idxs[j, :]), :])\n",
    "                vmodel2.fit(shifted_zsyllables_all[cv][:, list(idxs[j, :]), :])\n",
    "\n",
    "            results[cv]['zscored_shifted_all_ols'].append(np.squeeze(vmodel1.coef_))\n",
    "            results[cv]['zscored_shifted_all_uoi'].append(np.squeeze(vmodel2.coef_))\n",
    "\n",
    "            vmodel1 = VAR(estimator='ols')\n",
    "            vmodel2 = VAR(estimator='uoi', fit_type='uoi', penalty='l1')\n",
    "\n",
    "            with suppress_stdout():\n",
    "                vmodel1.fit(shifted_zsyllables_ind[cv][:, list(idxs[j, :]), :])\n",
    "                vmodel2.fit(shifted_zsyllables_ind[cv][:, list(idxs[j, :]), :])\n",
    "\n",
    "            results[cv]['zscored_shifted_ind_ols'].append(np.squeeze(vmodel1.coef_))\n",
    "            results[cv]['zscored_shifted_ind_uoi'].append(np.squeeze(vmodel2.coef_))\n",
    "\n",
    "            "
   ]
  },
  {
   "cell_type": "code",
   "execution_count": 33,
   "metadata": {},
   "outputs": [],
   "source": [
    "import pickle"
   ]
  },
  {
   "cell_type": "code",
   "execution_count": 42,
   "metadata": {},
   "outputs": [],
   "source": [
    "# Save coefficients away\n",
    "with open('tw_varcoef.dat', 'wb') as f:\n",
    "    f.write(pickle.dumps(varmodel2.coef_))\n",
    "#   f.write(pickle.dumps(varmodel3.coef_))\n",
    "    f.write(pickle.dumps(varmodel_cons.coef_))\n",
    "    f.write(pickle.dumps(varmodel_vow.coef_))"
   ]
  },
  {
   "cell_type": "code",
   "execution_count": 43,
   "metadata": {},
   "outputs": [],
   "source": [
    "# Load\n",
    "with open('tw_varcoef.dat', 'rb') as ff:\n",
    "    total_coef = pickle.load(ff)\n",
    "    cons_coef = pickle.load(ff)\n",
    "    vowel_coef = pickle.load(ff)"
   ]
  },
  {
   "cell_type": "code",
   "execution_count": 12,
   "metadata": {},
   "outputs": [],
   "source": [
    "with open('tw_varcoef.dat', 'wb') as ff:\n",
    "    ff.write(pickle.dumps(coef_sequence))"
   ]
  },
  {
   "cell_type": "code",
   "execution_count": null,
   "metadata": {},
   "outputs": [],
   "source": [
    "# Save the coef sequence as a list of dictionaries"
   ]
  },
  {
   "cell_type": "code",
   "execution_count": 18,
   "metadata": {},
   "outputs": [
    {
     "data": {
      "text/plain": [
       "(25, 1, 54, 54)"
      ]
     },
     "execution_count": 18,
     "metadata": {},
     "output_type": "execute_result"
    }
   ],
   "source": [
    "np.array(coef_sequence[0]).shape"
   ]
  },
  {
   "cell_type": "code",
   "execution_count": 19,
   "metadata": {},
   "outputs": [],
   "source": [
    "datalist = []\n",
    "for i, coef_seq in enumerate(coef_sequence):\n",
    "    datalist.append({'T': T[i], 'adj_sequence': np.squeeze(np.array(coef_seq))})"
   ]
  },
  {
   "cell_type": "code",
   "execution_count": 20,
   "metadata": {},
   "outputs": [],
   "source": [
    "from scipy.io import savemat"
   ]
  },
  {
   "cell_type": "code",
   "execution_count": 23,
   "metadata": {},
   "outputs": [],
   "source": [
    "savemat('adj_sequence_warped', {'data':datalist})"
   ]
  },
  {
   "cell_type": "markdown",
   "metadata": {},
   "source": [
    "## DCA Projections"
   ]
  },
  {
   "cell_type": "code",
   "execution_count": 25,
   "metadata": {},
   "outputs": [],
   "source": [
    "from dca.dca import DynamicalComponentsAnalysis as DCA\n",
    "from sklearn.decomposition import PCA\n",
    "from scipy.stats import linregress"
   ]
  },
  {
   "cell_type": "code",
   "execution_count": 51,
   "metadata": {},
   "outputs": [],
   "source": [
    "cons_X = cons_series\n",
    "vowel_X = vowel_series\n",
    "baa = f['baa'][:]"
   ]
  },
  {
   "cell_type": "markdown",
   "metadata": {},
   "source": [
    "### Entire time series"
   ]
  },
  {
   "cell_type": "code",
   "execution_count": 53,
   "metadata": {},
   "outputs": [],
   "source": [
    "dca = DCA()\n",
    "T = [2, 5, 10]\n",
    "dca_projections = []\n",
    "for i, t in enumerate(T):\n",
    "    dca.fit(baa, d=2, T=t)\n",
    "    dca_projections.append(dca.coef_)\n",
    "\n",
    "pca = PCA().fit(baa.reshape((-1, 54)))\n",
    "pca_projs = pca.components_[0:2, :].T\n",
    "\n",
    "dca_projs = np.array(dca_projections)\n",
    "total_coef = np.squeeze(total_coef)"
   ]
  },
  {
   "cell_type": "code",
   "execution_count": 54,
   "metadata": {},
   "outputs": [],
   "source": [
    "# Analysis: Scatter the row sums with their corresponding loadings in the DCA projection\n",
    "XX = []\n",
    "YY = []\n",
    "YY2 = []\n",
    "\n",
    "dca_params = []\n",
    "pca_params = []\n",
    "\n",
    "for i in range(len(dca_projs)):\n",
    "    xx = []\n",
    "    yy = []\n",
    "    yy2 = []\n",
    "    \n",
    "    for j in range(total_coef.shape[1]):\n",
    "\n",
    "        xx.append(np.sum(total_coef[:, j]))\n",
    "        yy.append(np.sum(np.abs(dca_projs[i, j, :])))\n",
    "        yy2.append(np.sum(np.abs(pca_projs[j, :])))\n",
    "\n",
    "    # Normalize onto a 0:1 scale\n",
    "    yy = np.array(yy)/np.max(yy)\n",
    "    yy2 = np.array(yy2)/np.max(yy2)        \n",
    "\n",
    "        \n",
    "    # Best fit lines\n",
    "    slope_dca, intercept_dca, r2_dca, _, _ = linregress(xx, yy)\n",
    "    slope_pca, intercept_pca, r2_pca, _, _ = linregress(xx, yy2)\n",
    "    \n",
    "    dca_params.append([slope_dca, intercept_dca, r2_dca])\n",
    "    pca_params.append([slope_pca, intercept_pca, r2_pca])\n",
    "    \n",
    "    XX.append(xx)\n",
    "    YY.append(yy)\n",
    "    YY2.append(yy2)"
   ]
  },
  {
   "cell_type": "code",
   "execution_count": 56,
   "metadata": {},
   "outputs": [
    {
     "data": {
      "text/plain": [
       "[[0.07759060811471215, 0.31292107137713054, 0.10701249312578759],\n",
       " [0.11590255424193582, 0.2879243932108232, 0.17643260265408542],\n",
       " [0.04927792954949577, 0.5168451503643913, 0.06300945973309172]]"
      ]
     },
     "execution_count": 56,
     "metadata": {},
     "output_type": "execute_result"
    }
   ],
   "source": [
    "dca_params"
   ]
  },
  {
   "cell_type": "code",
   "execution_count": 57,
   "metadata": {},
   "outputs": [
    {
     "data": {
      "text/plain": [
       "[[0.41067036828872033, -0.008299299248973546, 0.5234137927031266],\n",
       " [0.41067036828872033, -0.008299299248973546, 0.5234137927031266],\n",
       " [0.41067036828872033, -0.008299299248973546, 0.5234137927031266]]"
      ]
     },
     "execution_count": 57,
     "metadata": {},
     "output_type": "execute_result"
    }
   ],
   "source": [
    "pca_params"
   ]
  },
  {
   "cell_type": "code",
   "execution_count": 58,
   "metadata": {},
   "outputs": [],
   "source": [
    "dca = DCA()\n",
    "T = [2, 5, 10]\n",
    "dca_projections = []\n",
    "for i, t in enumerate(T):\n",
    "    dca.fit(cons_X, d=2, T=t)\n",
    "    dca_projections.append(dca.coef_)\n",
    "\n",
    "pca = PCA().fit(cons_X.reshape((-1, 54)))\n",
    "pca_projs = pca.components_[0:2, :].T\n",
    "\n",
    "dca_projs = np.array(dca_projections)\n",
    "cons_coef = np.squeeze(cons_coef)\n",
    "\n"
   ]
  },
  {
   "cell_type": "code",
   "execution_count": 59,
   "metadata": {},
   "outputs": [],
   "source": [
    "# Analysis: Scatter the row sums with their corresponding loadings in the DCA projection\n",
    "XX = []\n",
    "YY = []\n",
    "YY2 = []\n",
    "\n",
    "dca_params = []\n",
    "pca_params = []\n",
    "\n",
    "for i in range(len(dca_projs)):\n",
    "    xx = []\n",
    "    yy = []\n",
    "    yy2 = []\n",
    "    \n",
    "    for j in range(cons_coef.shape[1]):\n",
    "\n",
    "        xx.append(np.sum(cons_coef[:, j]))\n",
    "        yy.append(np.sum(np.abs(dca_projs[i, j, :])))\n",
    "        yy2.append(np.sum(np.abs(pca_projs[j, :])))\n",
    "\n",
    "    # Normalize onto a 0:1 scale\n",
    "    yy = np.array(yy)/np.max(yy)\n",
    "    yy2 = np.array(yy2)/np.max(yy2)        \n",
    "\n",
    "        \n",
    "    # Best fit lines\n",
    "    slope_dca, intercept_dca, r2_dca, _, _ = linregress(xx, yy)\n",
    "    slope_pca, intercept_pca, r2_pca, _, _ = linregress(xx, yy2)\n",
    "    \n",
    "    dca_params.append([slope_dca, intercept_dca, r2_dca])\n",
    "    pca_params.append([slope_pca, intercept_pca, r2_pca])\n",
    "    \n",
    "    XX.append(xx)\n",
    "    YY.append(yy)\n",
    "    YY2.append(yy2)"
   ]
  },
  {
   "cell_type": "code",
   "execution_count": 60,
   "metadata": {},
   "outputs": [
    {
     "data": {
      "text/plain": [
       "[[0.023988660620121803, 0.2644179387580312, 0.039424226572550486],\n",
       " [0.012394706658288103, 0.20582495060055375, 0.02599747129466716],\n",
       " [0.08799003603890364, 0.24497295317821857, 0.15230703585096464]]"
      ]
     },
     "execution_count": 60,
     "metadata": {},
     "output_type": "execute_result"
    }
   ],
   "source": [
    "dca_params"
   ]
  },
  {
   "cell_type": "code",
   "execution_count": 61,
   "metadata": {},
   "outputs": [
    {
     "data": {
      "text/plain": [
       "[[0.1672811234240155, 0.10384776046414963, 0.31739306230541986],\n",
       " [0.1672811234240155, 0.10384776046414963, 0.31739306230541986],\n",
       " [0.1672811234240155, 0.10384776046414963, 0.31739306230541986]]"
      ]
     },
     "execution_count": 61,
     "metadata": {},
     "output_type": "execute_result"
    }
   ],
   "source": [
    "pca_params"
   ]
  },
  {
   "cell_type": "code",
   "execution_count": null,
   "metadata": {},
   "outputs": [],
   "source": []
  }
 ],
 "metadata": {
  "kernelspec": {
   "display_name": "Python 3",
   "language": "python",
   "name": "python3"
  },
  "language_info": {
   "codemirror_mode": {
    "name": "ipython",
    "version": 3
   },
   "file_extension": ".py",
   "mimetype": "text/x-python",
   "name": "python",
   "nbconvert_exporter": "python",
   "pygments_lexer": "ipython3",
   "version": "3.7.8"
  }
 },
 "nbformat": 4,
 "nbformat_minor": 4
}
