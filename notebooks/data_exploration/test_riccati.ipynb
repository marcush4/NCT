{
 "cells": [
  {
   "cell_type": "code",
   "execution_count": 1,
   "metadata": {},
   "outputs": [],
   "source": [
    "%load_ext autoreload\n",
    "%autoreload 2"
   ]
  },
  {
   "cell_type": "code",
   "execution_count": 2,
   "metadata": {},
   "outputs": [],
   "source": [
    "import numpy as np\n",
    "import scipy\n",
    "#import slycot\n",
    "import matplotlib.pyplot as plt\n",
    "from neurosim.models.ssr import StateSpaceRealization as SSR"
   ]
  },
  {
   "cell_type": "code",
   "execution_count": 3,
   "metadata": {},
   "outputs": [],
   "source": [
    "import pickle\n",
    "import sys"
   ]
  },
  {
   "cell_type": "code",
   "execution_count": 4,
   "metadata": {},
   "outputs": [],
   "source": [
    "sys.path.append('../..')"
   ]
  },
  {
   "cell_type": "code",
   "execution_count": 5,
   "metadata": {},
   "outputs": [],
   "source": [
    "from riccati import check_gdare, solve_gdare"
   ]
  },
  {
   "cell_type": "markdown",
   "metadata": {},
   "source": [
    "### Positive Realness debugging"
   ]
  },
  {
   "cell_type": "code",
   "execution_count": 7,
   "metadata": {},
   "outputs": [],
   "source": [
    "with open('test_case3.dat', 'rb') as f:\n",
    "    varlist = pickle.load(f)\n",
    "A, C, Cbar, L0 = varlist"
   ]
  },
  {
   "cell_type": "code",
   "execution_count": 26,
   "metadata": {},
   "outputs": [
    {
     "data": {
      "text/plain": [
       "True"
      ]
     },
     "execution_count": 26,
     "metadata": {},
     "output_type": "execute_result"
    }
   ],
   "source": [
    "check_gdare(A, C, Cbar, L0, tol=1e-2)"
   ]
  },
  {
   "cell_type": "code",
   "execution_count": 13,
   "metadata": {},
   "outputs": [],
   "source": [
    "# Compare solutions of scipy's solve_discrete_are with slycot solver\n",
    "# Also try implementations of square root filters"
   ]
  },
  {
   "cell_type": "code",
   "execution_count": 27,
   "metadata": {},
   "outputs": [],
   "source": [
    "Pinf1 = scipy.linalg.solve_discrete_are(A.T, C.T, np.zeros(A.shape), L0, s=Cbar.T)"
   ]
  },
  {
   "cell_type": "code",
   "execution_count": 28,
   "metadata": {},
   "outputs": [
    {
     "data": {
      "text/plain": [
       "array([ 1.99953651, -0.78987346, -0.54351242, -0.4711019 ,  0.0407459 ,\n",
       "       -0.36933667, -0.01314757, -0.02687123, -0.03116439, -0.09048765,\n",
       "       -0.32908127, -0.12197568, -0.28704822, -0.26301037, -0.22132354,\n",
       "       -0.18238889, -0.19533339])"
      ]
     },
     "execution_count": 28,
     "metadata": {},
     "output_type": "execute_result"
    }
   ],
   "source": [
    "np.linalg.eigvals(Pinf1)"
   ]
  },
  {
   "cell_type": "code",
   "execution_count": 42,
   "metadata": {},
   "outputs": [],
   "source": [
    "Pinf2, rcond, w, S, T = slycot.synthesis.sb02od(A.shape[0], C.shape[0], -A.T, C.T, Q=np.zeros(A.shape), R=-L0, dico='D', L=Cbar.T)"
   ]
  },
  {
   "cell_type": "code",
   "execution_count": 43,
   "metadata": {},
   "outputs": [
    {
     "data": {
      "text/plain": [
       "array([-1.99953651,  0.78987346,  0.54351242,  0.4711019 , -0.0407459 ,\n",
       "        0.36933667,  0.01314757,  0.02687123,  0.03116439,  0.09048765,\n",
       "        0.32908127,  0.12197568,  0.28704822,  0.26301037,  0.22132354,\n",
       "        0.18238889,  0.19533339])"
      ]
     },
     "execution_count": 43,
     "metadata": {},
     "output_type": "execute_result"
    }
   ],
   "source": [
    "np.linalg.eigvals(Pinf2)"
   ]
  },
  {
   "cell_type": "code",
   "execution_count": 27,
   "metadata": {},
   "outputs": [],
   "source": [
    "# Directly implement..."
   ]
  },
  {
   "cell_type": "code",
   "execution_count": 31,
   "metadata": {},
   "outputs": [],
   "source": [
    "AA, BB, alpha, beta, Q, Z = solve_gdare(A, C, Cbar, L0)"
   ]
  },
  {
   "cell_type": "code",
   "execution_count": 32,
   "metadata": {},
   "outputs": [],
   "source": [
    "geig = np.abs(np.divide(alpha, beta))"
   ]
  },
  {
   "cell_type": "code",
   "execution_count": 33,
   "metadata": {},
   "outputs": [],
   "source": [
    "iuc = np.where(np.abs(geig) < 1)[0]"
   ]
  },
  {
   "cell_type": "code",
   "execution_count": 35,
   "metadata": {},
   "outputs": [],
   "source": [
    "U1 = Z[0:A.shape[0], iuc]\n",
    "U2 = Z[A.shape[0]:, iuc]"
   ]
  },
  {
   "cell_type": "code",
   "execution_count": 36,
   "metadata": {},
   "outputs": [],
   "source": [
    "Pinf3 = scipy.linalg.solve(U1.T, U2.T)"
   ]
  },
  {
   "cell_type": "code",
   "execution_count": 37,
   "metadata": {},
   "outputs": [
    {
     "data": {
      "text/plain": [
       "array([ 1.10309849e+02,  1.32304383e+01, -3.51228231e+00,  5.05315906e+00,\n",
       "        3.99121931e+00,  1.87774018e-02,  5.39526330e-01,  6.81320123e-01,\n",
       "        2.36257337e+00,  2.31036455e+00,  2.05630755e+00,  1.18660739e+00,\n",
       "        1.26179059e+00,  1.40930774e+00,  1.76403759e+00,  1.57378104e+00,\n",
       "        1.62737429e+00])"
      ]
     },
     "execution_count": 37,
     "metadata": {},
     "output_type": "execute_result"
    }
   ],
   "source": [
    "np.linalg.eigvals(Pinf3)"
   ]
  },
  {
   "cell_type": "code",
   "execution_count": 59,
   "metadata": {},
   "outputs": [],
   "source": [
    "# Does it solve the Riccati equation?\n",
    "from riccati import discrete_generalized_riccati, discrete_riccati"
   ]
  },
  {
   "cell_type": "code",
   "execution_count": 44,
   "metadata": {},
   "outputs": [
    {
     "data": {
      "text/plain": [
       "2.636863275618374e-14"
      ]
     },
     "execution_count": 44,
     "metadata": {},
     "output_type": "execute_result"
    }
   ],
   "source": [
    "np.linalg.norm(Pinf2 - discrete_generalized_riccati(Pinf2, A, C, Cbar, L0))"
   ]
  },
  {
   "cell_type": "code",
   "execution_count": 46,
   "metadata": {},
   "outputs": [
    {
     "data": {
      "text/plain": [
       "array([-1.99953651,  0.78987346,  0.54351242,  0.4711019 , -0.0407459 ,\n",
       "        0.36933667,  0.01314757,  0.02687123,  0.03116439,  0.09048765,\n",
       "        0.32908127,  0.12197568,  0.28704822,  0.26301037,  0.22132354,\n",
       "        0.18238889,  0.19533339])"
      ]
     },
     "execution_count": 46,
     "metadata": {},
     "output_type": "execute_result"
    }
   ],
   "source": [
    "np.linalg.eigvals(Pinf2)"
   ]
  },
  {
   "cell_type": "code",
   "execution_count": 47,
   "metadata": {},
   "outputs": [
    {
     "data": {
      "text/plain": [
       "array([ 4.74189932, -0.26476504,  1.80749544,  1.5401542 ,  0.62185488,\n",
       "        0.71584091,  0.9188448 ,  1.12751044,  1.01783403,  1.07531563])"
      ]
     },
     "execution_count": 47,
     "metadata": {},
     "output_type": "execute_result"
    }
   ],
   "source": [
    "np.linalg.eigvals(L0 - C @ Pinf2 @ C.T)"
   ]
  },
  {
   "cell_type": "code",
   "execution_count": 50,
   "metadata": {},
   "outputs": [
    {
     "data": {
      "text/plain": [
       "array([[-0.41109591,  0.7170694 , -1.68620944,  0.34748773,  0.17251269,\n",
       "         0.07022032, -0.19105052,  1.377519  ,  0.23344722,  0.39175148],\n",
       "       [ 0.7170694 ,  0.64037057,  0.43723568, -0.1844536 , -0.04152925,\n",
       "         0.16914235,  0.30652485, -0.82333773, -0.21327981, -0.24290065],\n",
       "       [-1.68620944,  0.43723568, -0.17101315,  0.4087879 ,  0.09318001,\n",
       "        -0.3249468 ,  0.02775428,  1.12407058,  0.09478938,  0.45936201],\n",
       "       [ 0.34748773, -0.1844536 ,  0.4087879 ,  0.79898573, -0.01772761,\n",
       "         0.23043358,  0.01909752, -0.49220315, -0.0620754 , -0.09592097],\n",
       "       [ 0.17251269, -0.04152925,  0.09318001, -0.01772761,  0.91950066,\n",
       "        -0.10641036, -0.01099426, -0.02747409,  0.05647644, -0.02867474],\n",
       "       [ 0.07022032,  0.16914235, -0.3249468 ,  0.23043358, -0.10641036,\n",
       "         0.88667452,  0.02283101, -0.08276278, -0.09273402, -0.02531967],\n",
       "       [-0.19105052,  0.30652485,  0.02775428,  0.01909752, -0.01099426,\n",
       "         0.02283101,  0.50859417,  0.35598724, -0.03158279,  0.00805568],\n",
       "       [ 1.377519  , -0.82333773,  1.12407058, -0.49220315, -0.02747409,\n",
       "        -0.08276278,  0.35598724, -0.22924736, -0.19288398, -0.60758119],\n",
       "       [ 0.23344722, -0.21327981,  0.09478938, -0.0620754 ,  0.05647644,\n",
       "        -0.09273402, -0.03158279, -0.19288398,  0.88400645, -0.16483323],\n",
       "       [ 0.39175148, -0.24290065,  0.45936201, -0.09592097, -0.02867474,\n",
       "        -0.02531967,  0.00805568, -0.60758119, -0.16483323,  0.70243547]])"
      ]
     },
     "execution_count": 50,
     "metadata": {},
     "output_type": "execute_result"
    }
   ],
   "source": [
    "np.linalg.pinv(L0 - C @ Pinf2 @ C.T)"
   ]
  },
  {
   "cell_type": "code",
   "execution_count": 30,
   "metadata": {},
   "outputs": [],
   "source": [
    "from subspaces import estimate_autocorrelation, SubspaceIdentification, IteratedStableEstimator"
   ]
  },
  {
   "cell_type": "code",
   "execution_count": 86,
   "metadata": {},
   "outputs": [
    {
     "name": "stdout",
     "output_type": "stream",
     "text": [
      "True\n",
      "True\n",
      "True\n",
      "True\n",
      "True\n",
      "pr correction employed\n",
      "True\n",
      "pr correction employed\n",
      "True\n",
      "pr correction employed\n",
      "True\n",
      "pr correction employed\n",
      "True\n",
      "> \u001b[0;32m/home/akumar/nse/neural_control/subspaces.py\u001b[0m(197)\u001b[0;36mfilter_log_likelihood\u001b[0;34m()\u001b[0m\n",
      "\u001b[0;32m    195 \u001b[0;31m            \u001b[0mpdb\u001b[0m\u001b[0;34m.\u001b[0m\u001b[0mset_trace\u001b[0m\u001b[0;34m(\u001b[0m\u001b[0;34m)\u001b[0m\u001b[0;34m\u001b[0m\u001b[0;34m\u001b[0m\u001b[0m\n",
      "\u001b[0m\u001b[0;32m    196 \u001b[0;31m\u001b[0;34m\u001b[0m\u001b[0m\n",
      "\u001b[0m\u001b[0;32m--> 197 \u001b[0;31m        \u001b[0;32mif\u001b[0m \u001b[0mnp\u001b[0m\u001b[0;34m.\u001b[0m\u001b[0many\u001b[0m\u001b[0;34m(\u001b[0m\u001b[0mnp\u001b[0m\u001b[0;34m.\u001b[0m\u001b[0misinf\u001b[0m\u001b[0;34m(\u001b[0m\u001b[0mP\u001b[0m\u001b[0;34m)\u001b[0m\u001b[0;34m)\u001b[0m \u001b[0;32mor\u001b[0m \u001b[0mnp\u001b[0m\u001b[0;34m.\u001b[0m\u001b[0many\u001b[0m\u001b[0;34m(\u001b[0m\u001b[0mnp\u001b[0m\u001b[0;34m.\u001b[0m\u001b[0misnan\u001b[0m\u001b[0;34m(\u001b[0m\u001b[0mP\u001b[0m\u001b[0;34m)\u001b[0m\u001b[0;34m)\u001b[0m\u001b[0;34m:\u001b[0m\u001b[0;34m\u001b[0m\u001b[0;34m\u001b[0m\u001b[0m\n",
      "\u001b[0m\u001b[0;32m    198 \u001b[0;31m            \u001b[0mpdb\u001b[0m\u001b[0;34m.\u001b[0m\u001b[0mset_trace\u001b[0m\u001b[0;34m(\u001b[0m\u001b[0;34m)\u001b[0m\u001b[0;34m\u001b[0m\u001b[0;34m\u001b[0m\u001b[0m\n",
      "\u001b[0m\u001b[0;32m    199 \u001b[0;31m\u001b[0;34m\u001b[0m\u001b[0m\n",
      "\u001b[0m\n"
     ]
    },
    {
     "ename": "BdbQuit",
     "evalue": "",
     "output_type": "error",
     "traceback": [
      "\u001b[0;31m---------------------------------------------------------------------------\u001b[0m",
      "\u001b[0;31mBdbQuit\u001b[0m                                   Traceback (most recent call last)",
      "\u001b[0;32m<ipython-input-86-dbd59100585a>\u001b[0m in \u001b[0;36m<module>\u001b[0;34m\u001b[0m\n\u001b[1;32m     14\u001b[0m     \u001b[0mccm1\u001b[0m \u001b[0;34m=\u001b[0m \u001b[0mestimate_autocorrelation\u001b[0m\u001b[0;34m(\u001b[0m\u001b[0my\u001b[0m\u001b[0;34m,\u001b[0m \u001b[0;36m5\u001b[0m\u001b[0;34m)\u001b[0m\u001b[0;34m\u001b[0m\u001b[0;34m\u001b[0m\u001b[0m\n\u001b[1;32m     15\u001b[0m     \u001b[0mssid1\u001b[0m \u001b[0;34m=\u001b[0m \u001b[0mSubspaceIdentification\u001b[0m\u001b[0;34m(\u001b[0m\u001b[0mT\u001b[0m\u001b[0;34m=\u001b[0m\u001b[0;36m3\u001b[0m\u001b[0;34m,\u001b[0m \u001b[0mestimator\u001b[0m\u001b[0;34m=\u001b[0m\u001b[0mIteratedStableEstimator\u001b[0m\u001b[0;34m,\u001b[0m \u001b[0mscore\u001b[0m\u001b[0;34m=\u001b[0m\u001b[0;34m'BIC'\u001b[0m\u001b[0;34m,\u001b[0m \u001b[0mobs_regressor\u001b[0m\u001b[0;34m=\u001b[0m\u001b[0;34m'OLS'\u001b[0m\u001b[0;34m)\u001b[0m\u001b[0;34m\u001b[0m\u001b[0;34m\u001b[0m\u001b[0m\n\u001b[0;32m---> 16\u001b[0;31m     \u001b[0m_\u001b[0m\u001b[0;34m,\u001b[0m \u001b[0m_\u001b[0m\u001b[0;34m,\u001b[0m \u001b[0m_\u001b[0m\u001b[0;34m,\u001b[0m \u001b[0m_\u001b[0m \u001b[0;34m=\u001b[0m \u001b[0mssid1\u001b[0m\u001b[0;34m.\u001b[0m\u001b[0midentify\u001b[0m\u001b[0;34m(\u001b[0m\u001b[0my\u001b[0m\u001b[0;34m)\u001b[0m\u001b[0;34m\u001b[0m\u001b[0;34m\u001b[0m\u001b[0m\n\u001b[0m\u001b[1;32m     17\u001b[0m     \u001b[0;31m# Pinf = scipy.linalg.solve_discrete_are(A.T, C.T, Q, R, s=S)\u001b[0m\u001b[0;34m\u001b[0m\u001b[0;34m\u001b[0m\u001b[0;34m\u001b[0m\u001b[0m\n\u001b[1;32m     18\u001b[0m     \u001b[0;31m# eig = np.linalg.eigvals(Pinf)\u001b[0m\u001b[0;34m\u001b[0m\u001b[0;34m\u001b[0m\u001b[0;34m\u001b[0m\u001b[0m\n",
      "\u001b[0;32m~/nse/neural_control/subspaces.py\u001b[0m in \u001b[0;36midentify\u001b[0;34m(self, y, T, min_order, max_order)\u001b[0m\n\u001b[1;32m    473\u001b[0m             \u001b[0;31m# # Score\u001b[0m\u001b[0;34m\u001b[0m\u001b[0;34m\u001b[0m\u001b[0;34m\u001b[0m\u001b[0m\n\u001b[1;32m    474\u001b[0m             \u001b[0;32mif\u001b[0m \u001b[0mself\u001b[0m\u001b[0;34m.\u001b[0m\u001b[0mscore\u001b[0m \u001b[0;32min\u001b[0m \u001b[0;34m[\u001b[0m\u001b[0;34m'AIC'\u001b[0m\u001b[0;34m,\u001b[0m \u001b[0;34m'BIC'\u001b[0m\u001b[0;34m]\u001b[0m\u001b[0;34m:\u001b[0m\u001b[0;34m\u001b[0m\u001b[0;34m\u001b[0m\u001b[0m\n\u001b[0;32m--> 475\u001b[0;31m                 \u001b[0mllfwd\u001b[0m \u001b[0;34m=\u001b[0m \u001b[0mfilter_log_likelihood\u001b[0m\u001b[0;34m(\u001b[0m\u001b[0my\u001b[0m\u001b[0;34m,\u001b[0m \u001b[0mA\u001b[0m\u001b[0;34m,\u001b[0m \u001b[0mC\u001b[0m\u001b[0;34m,\u001b[0m \u001b[0mQ\u001b[0m\u001b[0;34m,\u001b[0m \u001b[0mR\u001b[0m\u001b[0;34m,\u001b[0m \u001b[0mS\u001b[0m\u001b[0;34m)\u001b[0m\u001b[0;34m\u001b[0m\u001b[0;34m\u001b[0m\u001b[0m\n\u001b[0m\u001b[1;32m    476\u001b[0m                 \u001b[0;31m# llfwd2 = pykalman_filter_wrapper(y, A, C, Q, R, S)\u001b[0m\u001b[0;34m\u001b[0m\u001b[0;34m\u001b[0m\u001b[0;34m\u001b[0m\u001b[0m\n\u001b[1;32m    477\u001b[0m                 \u001b[0;31m# llrev = filter_log_likelihood(y, At.T, Crev, Cbarrev)\u001b[0m\u001b[0;34m\u001b[0m\u001b[0;34m\u001b[0m\u001b[0;34m\u001b[0m\u001b[0m\n",
      "\u001b[0;32m~/nse/neural_control/subspaces.py\u001b[0m in \u001b[0;36mfilter_log_likelihood\u001b[0;34m(y, A, C, Q, R, S)\u001b[0m\n\u001b[1;32m    195\u001b[0m             \u001b[0mpdb\u001b[0m\u001b[0;34m.\u001b[0m\u001b[0mset_trace\u001b[0m\u001b[0;34m(\u001b[0m\u001b[0;34m)\u001b[0m\u001b[0;34m\u001b[0m\u001b[0;34m\u001b[0m\u001b[0m\n\u001b[1;32m    196\u001b[0m \u001b[0;34m\u001b[0m\u001b[0m\n\u001b[0;32m--> 197\u001b[0;31m         \u001b[0;32mif\u001b[0m \u001b[0mnp\u001b[0m\u001b[0;34m.\u001b[0m\u001b[0many\u001b[0m\u001b[0;34m(\u001b[0m\u001b[0mnp\u001b[0m\u001b[0;34m.\u001b[0m\u001b[0misinf\u001b[0m\u001b[0;34m(\u001b[0m\u001b[0mP\u001b[0m\u001b[0;34m)\u001b[0m\u001b[0;34m)\u001b[0m \u001b[0;32mor\u001b[0m \u001b[0mnp\u001b[0m\u001b[0;34m.\u001b[0m\u001b[0many\u001b[0m\u001b[0;34m(\u001b[0m\u001b[0mnp\u001b[0m\u001b[0;34m.\u001b[0m\u001b[0misnan\u001b[0m\u001b[0;34m(\u001b[0m\u001b[0mP\u001b[0m\u001b[0;34m)\u001b[0m\u001b[0;34m)\u001b[0m\u001b[0;34m:\u001b[0m\u001b[0;34m\u001b[0m\u001b[0;34m\u001b[0m\u001b[0m\n\u001b[0m\u001b[1;32m    198\u001b[0m             \u001b[0mpdb\u001b[0m\u001b[0;34m.\u001b[0m\u001b[0mset_trace\u001b[0m\u001b[0;34m(\u001b[0m\u001b[0;34m)\u001b[0m\u001b[0;34m\u001b[0m\u001b[0;34m\u001b[0m\u001b[0m\n\u001b[1;32m    199\u001b[0m \u001b[0;34m\u001b[0m\u001b[0m\n",
      "\u001b[0;32m~/nse/neural_control/subspaces.py\u001b[0m in \u001b[0;36mfilter_log_likelihood\u001b[0;34m(y, A, C, Q, R, S)\u001b[0m\n\u001b[1;32m    195\u001b[0m             \u001b[0mpdb\u001b[0m\u001b[0;34m.\u001b[0m\u001b[0mset_trace\u001b[0m\u001b[0;34m(\u001b[0m\u001b[0;34m)\u001b[0m\u001b[0;34m\u001b[0m\u001b[0;34m\u001b[0m\u001b[0m\n\u001b[1;32m    196\u001b[0m \u001b[0;34m\u001b[0m\u001b[0m\n\u001b[0;32m--> 197\u001b[0;31m         \u001b[0;32mif\u001b[0m \u001b[0mnp\u001b[0m\u001b[0;34m.\u001b[0m\u001b[0many\u001b[0m\u001b[0;34m(\u001b[0m\u001b[0mnp\u001b[0m\u001b[0;34m.\u001b[0m\u001b[0misinf\u001b[0m\u001b[0;34m(\u001b[0m\u001b[0mP\u001b[0m\u001b[0;34m)\u001b[0m\u001b[0;34m)\u001b[0m \u001b[0;32mor\u001b[0m \u001b[0mnp\u001b[0m\u001b[0;34m.\u001b[0m\u001b[0many\u001b[0m\u001b[0;34m(\u001b[0m\u001b[0mnp\u001b[0m\u001b[0;34m.\u001b[0m\u001b[0misnan\u001b[0m\u001b[0;34m(\u001b[0m\u001b[0mP\u001b[0m\u001b[0;34m)\u001b[0m\u001b[0;34m)\u001b[0m\u001b[0;34m:\u001b[0m\u001b[0;34m\u001b[0m\u001b[0;34m\u001b[0m\u001b[0m\n\u001b[0m\u001b[1;32m    198\u001b[0m             \u001b[0mpdb\u001b[0m\u001b[0;34m.\u001b[0m\u001b[0mset_trace\u001b[0m\u001b[0;34m(\u001b[0m\u001b[0;34m)\u001b[0m\u001b[0;34m\u001b[0m\u001b[0;34m\u001b[0m\u001b[0m\n\u001b[1;32m    199\u001b[0m \u001b[0;34m\u001b[0m\u001b[0m\n",
      "\u001b[0;32m~/anaconda3/envs/dyn/lib/python3.7/bdb.py\u001b[0m in \u001b[0;36mtrace_dispatch\u001b[0;34m(self, frame, event, arg)\u001b[0m\n\u001b[1;32m     86\u001b[0m             \u001b[0;32mreturn\u001b[0m \u001b[0;31m# None\u001b[0m\u001b[0;34m\u001b[0m\u001b[0;34m\u001b[0m\u001b[0m\n\u001b[1;32m     87\u001b[0m         \u001b[0;32mif\u001b[0m \u001b[0mevent\u001b[0m \u001b[0;34m==\u001b[0m \u001b[0;34m'line'\u001b[0m\u001b[0;34m:\u001b[0m\u001b[0;34m\u001b[0m\u001b[0;34m\u001b[0m\u001b[0m\n\u001b[0;32m---> 88\u001b[0;31m             \u001b[0;32mreturn\u001b[0m \u001b[0mself\u001b[0m\u001b[0;34m.\u001b[0m\u001b[0mdispatch_line\u001b[0m\u001b[0;34m(\u001b[0m\u001b[0mframe\u001b[0m\u001b[0;34m)\u001b[0m\u001b[0;34m\u001b[0m\u001b[0;34m\u001b[0m\u001b[0m\n\u001b[0m\u001b[1;32m     89\u001b[0m         \u001b[0;32mif\u001b[0m \u001b[0mevent\u001b[0m \u001b[0;34m==\u001b[0m \u001b[0;34m'call'\u001b[0m\u001b[0;34m:\u001b[0m\u001b[0;34m\u001b[0m\u001b[0;34m\u001b[0m\u001b[0m\n\u001b[1;32m     90\u001b[0m             \u001b[0;32mreturn\u001b[0m \u001b[0mself\u001b[0m\u001b[0;34m.\u001b[0m\u001b[0mdispatch_call\u001b[0m\u001b[0;34m(\u001b[0m\u001b[0mframe\u001b[0m\u001b[0;34m,\u001b[0m \u001b[0marg\u001b[0m\u001b[0;34m)\u001b[0m\u001b[0;34m\u001b[0m\u001b[0;34m\u001b[0m\u001b[0m\n",
      "\u001b[0;32m~/anaconda3/envs/dyn/lib/python3.7/bdb.py\u001b[0m in \u001b[0;36mdispatch_line\u001b[0;34m(self, frame)\u001b[0m\n\u001b[1;32m    111\u001b[0m         \u001b[0;32mif\u001b[0m \u001b[0mself\u001b[0m\u001b[0;34m.\u001b[0m\u001b[0mstop_here\u001b[0m\u001b[0;34m(\u001b[0m\u001b[0mframe\u001b[0m\u001b[0;34m)\u001b[0m \u001b[0;32mor\u001b[0m \u001b[0mself\u001b[0m\u001b[0;34m.\u001b[0m\u001b[0mbreak_here\u001b[0m\u001b[0;34m(\u001b[0m\u001b[0mframe\u001b[0m\u001b[0;34m)\u001b[0m\u001b[0;34m:\u001b[0m\u001b[0;34m\u001b[0m\u001b[0;34m\u001b[0m\u001b[0m\n\u001b[1;32m    112\u001b[0m             \u001b[0mself\u001b[0m\u001b[0;34m.\u001b[0m\u001b[0muser_line\u001b[0m\u001b[0;34m(\u001b[0m\u001b[0mframe\u001b[0m\u001b[0;34m)\u001b[0m\u001b[0;34m\u001b[0m\u001b[0;34m\u001b[0m\u001b[0m\n\u001b[0;32m--> 113\u001b[0;31m             \u001b[0;32mif\u001b[0m \u001b[0mself\u001b[0m\u001b[0;34m.\u001b[0m\u001b[0mquitting\u001b[0m\u001b[0;34m:\u001b[0m \u001b[0;32mraise\u001b[0m \u001b[0mBdbQuit\u001b[0m\u001b[0;34m\u001b[0m\u001b[0;34m\u001b[0m\u001b[0m\n\u001b[0m\u001b[1;32m    114\u001b[0m         \u001b[0;32mreturn\u001b[0m \u001b[0mself\u001b[0m\u001b[0;34m.\u001b[0m\u001b[0mtrace_dispatch\u001b[0m\u001b[0;34m\u001b[0m\u001b[0;34m\u001b[0m\u001b[0m\n\u001b[1;32m    115\u001b[0m \u001b[0;34m\u001b[0m\u001b[0m\n",
      "\u001b[0;31mBdbQuit\u001b[0m: "
     ]
    }
   ],
   "source": [
    "iter = 0\n",
    "# Checking for failure of PSD of the riccati soliution\n",
    "while True:\n",
    "    state_dim = 20\n",
    "    obs_dim = 10\n",
    "    A = np.random.normal(scale=1/(1.7 * np.sqrt(state_dim)), size=(state_dim, state_dim))\n",
    "    while max(np.abs(np.linalg.eigvals(A))) > 0.99:\n",
    "        A = np.random.normal(scale=1/(1.7 * np.sqrt(state_dim)), size=(state_dim, state_dim))\n",
    "\n",
    "    C = scipy.stats.ortho_group.rvs(state_dim)[:, 0:obs_dim].T\n",
    "    ssr = SSR(A=A, B=np.eye(A.shape[0]), C=C)\n",
    "    ccm0 = ssr.autocorrelation(5)\n",
    "    y = ssr.trajectory(int(1e3))\n",
    "    ccm1 = estimate_autocorrelation(y, 5)   \n",
    "    ssid1 = SubspaceIdentification(T=3, estimator=IteratedStableEstimator, score='BIC', obs_regressor='OLS')\n",
    "    _, _, _, _ = ssid1.identify(y)\n",
    "    # Pinf = scipy.linalg.solve_discrete_are(A.T, C.T, Q, R, s=S)\n",
    "    # eig = np.linalg.eigvals(Pinf)\n",
    "    # eig = np.linalg.eigvals(PInf)\n",
    "    # if np.any(eig < 0):\n",
    "    #     print('Non PSD P found!')\n",
    "    #     break\n",
    "    # L0 = 0.5 * (L0 + L0.T)\n",
    "    # Pinf2 = scipy.linalg.solve_discrete_are(A.T, -C.T, np.zeros(A.shape), -L0, s=Cbar.T)\n",
    "    # eig = np.linalg.eigvals(Pinf)\n",
    "    # if np.any(eig < 0):\n",
    "    #     print('Non PSD P- found!')\n",
    "    #     break\n",
    "\n",
    "    iter += 1\n",
    "    print(iter)\n"
   ]
  },
  {
   "cell_type": "code",
   "execution_count": null,
   "metadata": {},
   "outputs": [],
   "source": [
    "# So we always get a positive definite solution to the Riccati equation. They key is then finding a stable iteration th at converges to this solution"
   ]
  },
  {
   "cell_type": "code",
   "execution_count": null,
   "metadata": {},
   "outputs": [],
   "source": [
    "# Can we code up a test of the necessary/sufficient conditions for convergence provided by Kailath?"
   ]
  },
  {
   "cell_type": "code",
   "execution_count": 66,
   "metadata": {},
   "outputs": [],
   "source": [
    "import pickle"
   ]
  },
  {
   "cell_type": "code",
   "execution_count": 76,
   "metadata": {},
   "outputs": [],
   "source": [
    "with open('test_case5.dat', 'rb') as f:\n",
    "    varlist = pickle.load(f)\n",
    "    A, C, Q, R, S, Pinf = varlist"
   ]
  },
  {
   "cell_type": "code",
   "execution_count": 82,
   "metadata": {},
   "outputs": [
    {
     "data": {
      "text/plain": [
       "array([2.27246925, 1.91094207, 1.60917569, 1.50984817, 1.2329283 ,\n",
       "       1.07455583, 0.89707979, 0.15340883, 0.24352311, 0.26783781,\n",
       "       0.31939546, 0.38168371, 0.71585725, 0.71223314, 0.44590874,\n",
       "       0.47804822, 0.51379959, 0.5465913 , 0.64529787, 0.62706115])"
      ]
     },
     "execution_count": 82,
     "metadata": {},
     "output_type": "execute_result"
    }
   ],
   "source": [
    "np.linalg.eigvals(Pinf)"
   ]
  },
  {
   "cell_type": "code",
   "execution_count": 77,
   "metadata": {},
   "outputs": [
    {
     "data": {
      "text/plain": [
       "array([9.32021859e-01, 5.51274788e-01, 3.09405093e-01, 1.68205128e-01,\n",
       "       9.09957396e-02, 3.01910013e-02, 2.42523470e-02, 1.90557441e-02,\n",
       "       1.81358557e-04, 1.03698400e-03])"
      ]
     },
     "execution_count": 77,
     "metadata": {},
     "output_type": "execute_result"
    }
   ],
   "source": [
    "np.linalg.eigvals(R)"
   ]
  },
  {
   "cell_type": "code",
   "execution_count": 79,
   "metadata": {},
   "outputs": [
    {
     "data": {
      "text/plain": [
       "array([1.01447406, 0.91623909, 0.82377518, 0.79935936, 0.73927198,\n",
       "       0.715388  , 0.65455949, 0.04751026, 0.57177943, 0.51679994,\n",
       "       0.46731078, 0.44385444, 0.38317171, 0.33108076, 0.30190755,\n",
       "       0.12495745, 0.14824874, 0.23030189, 0.19921325, 0.1769245 ])"
      ]
     },
     "execution_count": 79,
     "metadata": {},
     "output_type": "execute_result"
    }
   ],
   "source": [
    "np.linalg.eigvals(Q)"
   ]
  },
  {
   "cell_type": "code",
   "execution_count": 81,
   "metadata": {},
   "outputs": [
    {
     "data": {
      "text/plain": [
       "array([1.06800411e+00, 9.72457336e-01, 8.91357265e-01, 8.18361982e-01,\n",
       "       8.04883566e-01, 7.58610946e-01, 7.22720929e-01, 6.99842394e-01,\n",
       "       5.69737266e-01, 5.38708309e-01, 4.96664859e-01, 4.64851776e-01,\n",
       "       4.35651556e-01, 4.02190707e-01, 3.60295511e-01, 3.15863940e-01,\n",
       "       2.89882666e-01, 2.30400092e-01, 2.11993224e-01, 1.76432054e-01,\n",
       "       1.33698041e-01, 1.12728400e-01, 8.63145118e-02, 6.63591892e-02,\n",
       "       4.55749125e-02, 7.84944446e-04, 1.30081639e-04, 1.36688720e-02,\n",
       "       2.52717781e-02, 1.93066562e-02])"
      ]
     },
     "execution_count": 81,
     "metadata": {},
     "output_type": "execute_result"
    }
   ],
   "source": [
    "np.linalg.eigvals(np.block([[Q, S], [S.T, R]]))"
   ]
  },
  {
   "cell_type": "code",
   "execution_count": 83,
   "metadata": {},
   "outputs": [],
   "source": [
    "# Check unit circle controllability\n",
    "Fs = A - S @ np.linalg.inv(R) @ C"
   ]
  },
  {
   "cell_type": "code",
   "execution_count": 85,
   "metadata": {},
   "outputs": [
    {
     "data": {
      "text/plain": [
       "array([2.83721894, 2.83721894, 1.93052056, 1.82502613, 1.09348154,\n",
       "       1.09348154, 1.02699262, 1.02699262, 0.98720627, 0.98720627,\n",
       "       1.07006834, 1.07006834, 1.15059438, 0.55515037, 0.55515037,\n",
       "       0.51907198, 0.51907198, 0.76467797, 0.76467797, 0.56455857])"
      ]
     },
     "execution_count": 85,
     "metadata": {},
     "output_type": "execute_result"
    }
   ],
   "source": [
    "np.abs(np.linalg.eigvals(Fs))"
   ]
  },
  {
   "cell_type": "code",
   "execution_count": 84,
   "metadata": {},
   "outputs": [
    {
     "ename": "ValueError",
     "evalue": "matmul: Input operand 1 has a mismatch in its core dimension 0, with gufunc signature (n?,k),(k,m?)->(n?,m?) (size 10 is different from 13)",
     "output_type": "error",
     "traceback": [
      "\u001b[0;31m---------------------------------------------------------------------------\u001b[0m",
      "\u001b[0;31mValueError\u001b[0m                                Traceback (most recent call last)",
      "\u001b[0;32m<ipython-input-84-302384bbe3ea>\u001b[0m in \u001b[0;36m<module>\u001b[0;34m\u001b[0m\n\u001b[1;32m      5\u001b[0m \u001b[0;34m\u001b[0m\u001b[0m\n\u001b[1;32m      6\u001b[0m \u001b[0;32mfor\u001b[0m \u001b[0mi\u001b[0m \u001b[0;32min\u001b[0m \u001b[0mrange\u001b[0m\u001b[0;34m(\u001b[0m\u001b[0;36m1000\u001b[0m\u001b[0;34m)\u001b[0m\u001b[0;34m:\u001b[0m\u001b[0;34m\u001b[0m\u001b[0;34m\u001b[0m\u001b[0m\n\u001b[0;32m----> 7\u001b[0;31m     \u001b[0mQ_\u001b[0m \u001b[0;34m=\u001b[0m \u001b[0mdiscrete_riccati\u001b[0m\u001b[0;34m(\u001b[0m\u001b[0mQ\u001b[0m\u001b[0;34m,\u001b[0m \u001b[0mA\u001b[0m\u001b[0;34m,\u001b[0m \u001b[0mB\u001b[0m\u001b[0;34m,\u001b[0m \u001b[0mC\u001b[0m\u001b[0;34m,\u001b[0m \u001b[0mL0\u001b[0m\u001b[0;34m,\u001b[0m \u001b[0mS\u001b[0m\u001b[0;34m=\u001b[0m\u001b[0mD\u001b[0m\u001b[0;34m.\u001b[0m\u001b[0mT\u001b[0m\u001b[0;34m)\u001b[0m\u001b[0;34m\u001b[0m\u001b[0;34m\u001b[0m\u001b[0m\n\u001b[0m\u001b[1;32m      8\u001b[0m     \u001b[0mnorm_diff\u001b[0m\u001b[0;34m.\u001b[0m\u001b[0mappend\u001b[0m\u001b[0;34m(\u001b[0m\u001b[0mnp\u001b[0m\u001b[0;34m.\u001b[0m\u001b[0mlinalg\u001b[0m\u001b[0;34m.\u001b[0m\u001b[0mnorm\u001b[0m\u001b[0;34m(\u001b[0m\u001b[0mQ\u001b[0m \u001b[0;34m-\u001b[0m \u001b[0mQ_\u001b[0m\u001b[0;34m)\u001b[0m\u001b[0;34m)\u001b[0m\u001b[0;34m\u001b[0m\u001b[0;34m\u001b[0m\u001b[0m\n\u001b[1;32m      9\u001b[0m     \u001b[0mQ\u001b[0m \u001b[0;34m=\u001b[0m \u001b[0mQ_\u001b[0m\u001b[0;34m\u001b[0m\u001b[0;34m\u001b[0m\u001b[0m\n",
      "\u001b[0;32m~/nse/neural_control/riccati.py\u001b[0m in \u001b[0;36mdiscrete_riccati\u001b[0;34m(P, A, B, C, R, Q, S)\u001b[0m\n\u001b[1;32m     58\u001b[0m \u001b[0;34m\u001b[0m\u001b[0m\n\u001b[1;32m     59\u001b[0m     \u001b[0;32mreturn\u001b[0m \u001b[0mA\u001b[0m \u001b[0;34m@\u001b[0m \u001b[0mP\u001b[0m \u001b[0;34m@\u001b[0m \u001b[0mA\u001b[0m\u001b[0;34m.\u001b[0m\u001b[0mT\u001b[0m \u001b[0;34m-\u001b[0m \u001b[0;34m(\u001b[0m\u001b[0mA\u001b[0m \u001b[0;34m@\u001b[0m \u001b[0mP\u001b[0m \u001b[0;34m@\u001b[0m \u001b[0mC\u001b[0m\u001b[0;34m.\u001b[0m\u001b[0mT\u001b[0m \u001b[0;34m+\u001b[0m \u001b[0mB\u001b[0m \u001b[0;34m@\u001b[0m \u001b[0mS\u001b[0m\u001b[0;34m)\u001b[0m \u001b[0;34m@\u001b[0m \u001b[0mnp\u001b[0m\u001b[0;34m.\u001b[0m\u001b[0mlinalg\u001b[0m\u001b[0;34m.\u001b[0m\u001b[0mpinv\u001b[0m\u001b[0;34m(\u001b[0m\u001b[0mR\u001b[0m \u001b[0;34m+\u001b[0m \u001b[0mC\u001b[0m \u001b[0;34m@\u001b[0m \u001b[0mP\u001b[0m \u001b[0;34m@\u001b[0m \u001b[0mC\u001b[0m\u001b[0;34m.\u001b[0m\u001b[0mT\u001b[0m\u001b[0;34m)\u001b[0m \u001b[0;34m@\u001b[0m\u001b[0;31m\\\u001b[0m\u001b[0;34m\u001b[0m\u001b[0;34m\u001b[0m\u001b[0m\n\u001b[0;32m---> 60\u001b[0;31m            \u001b[0;34m(\u001b[0m\u001b[0mA\u001b[0m \u001b[0;34m@\u001b[0m \u001b[0mP\u001b[0m \u001b[0;34m@\u001b[0m \u001b[0mC\u001b[0m\u001b[0;34m.\u001b[0m\u001b[0mT\u001b[0m \u001b[0;34m+\u001b[0m \u001b[0mB\u001b[0m \u001b[0;34m@\u001b[0m \u001b[0mS\u001b[0m\u001b[0;34m)\u001b[0m\u001b[0;34m.\u001b[0m\u001b[0mT\u001b[0m \u001b[0;34m+\u001b[0m \u001b[0mB\u001b[0m \u001b[0;34m@\u001b[0m \u001b[0mQ\u001b[0m \u001b[0;34m@\u001b[0m \u001b[0mB\u001b[0m\u001b[0;34m.\u001b[0m\u001b[0mT\u001b[0m\u001b[0;34m\u001b[0m\u001b[0;34m\u001b[0m\u001b[0m\n\u001b[0m\u001b[1;32m     61\u001b[0m \u001b[0;34m\u001b[0m\u001b[0m\n\u001b[1;32m     62\u001b[0m \u001b[0;31m# Single riccati iteration for spectral factorization problem\u001b[0m\u001b[0;34m\u001b[0m\u001b[0;34m\u001b[0m\u001b[0;34m\u001b[0m\u001b[0m\n",
      "\u001b[0;31mValueError\u001b[0m: matmul: Input operand 1 has a mismatch in its core dimension 0, with gufunc signature (n?,k),(k,m?)->(n?,m?) (size 10 is different from 13)"
     ]
    }
   ],
   "source": [
    "# Try solving the error Riccati equation\n",
    "norm_diff = []\n",
    "\n",
    "Q = Pl\n",
    "\n",
    "for i in range(1000):\n",
    "    Q_ = discrete_riccati(Q, A, B, C, L0, S=D.T)\n",
    "    norm_diff.append(np.linalg.norm(Q - Q_))\n",
    "    Q = Q_"
   ]
  },
  {
   "cell_type": "markdown",
   "metadata": {},
   "source": [
    "### Use the pykalman filter/smoother"
   ]
  },
  {
   "cell_type": "code",
   "execution_count": 6,
   "metadata": {},
   "outputs": [],
   "source": [
    "from pykalman.sqrt.cholesky import CholeskyKalmanFilter\n",
    "from pykalman import KalmanFilter"
   ]
  },
  {
   "cell_type": "code",
   "execution_count": null,
   "metadata": {},
   "outputs": [],
   "source": [
    "# Wrapper around pykalman's Kalman Filter to enable correlations between the noises\n",
    "# This requires R > 0 (see Kailath 9.5.1)\n",
    "class KalmanFilterWrapper(KalmanFilter):\n",
    "    def __init__(self, A, C, Q, R, S, initial_state_mean=None, initial_state_covariance=None, random_state=None):\n",
    "\n",
    "        # Modify A and Q to include S\n",
    "        A = A - S @ np.linalg.inv(R) @ C\n",
    "        Q = Q - S @ np.linalg.inv(R) @ S.T\n",
    "\n",
    "\n",
    "    def filter():\n",
    "\n"
   ]
  },
  {
   "cell_type": "markdown",
   "metadata": {},
   "source": [
    "### Test ML inference"
   ]
  },
  {
   "cell_type": "code",
   "execution_count": 8,
   "metadata": {},
   "outputs": [],
   "source": [
    "from em import StableStateSpaceML"
   ]
  },
  {
   "cell_type": "code",
   "execution_count": 9,
   "metadata": {},
   "outputs": [],
   "source": [
    "state_dim = 20\n",
    "obs_dim = 10\n",
    "A = np.random.normal(scale=1/(1.7 * np.sqrt(state_dim)), size=(state_dim, state_dim))\n",
    "while max(np.abs(np.linalg.eigvals(A))) > 0.99:\n",
    "    A = np.random.normal(scale=1/(1.7 * np.sqrt(state_dim)), size=(state_dim, state_dim))\n",
    "\n",
    "C = scipy.stats.ortho_group.rvs(state_dim)[:, 0:obs_dim].T\n",
    "ssr = SSR(A=A, B=np.eye(A.shape[0]), C=C)"
   ]
  },
  {
   "cell_type": "code",
   "execution_count": 10,
   "metadata": {},
   "outputs": [],
   "source": [
    "sssml = StableStateSpaceML()"
   ]
  },
  {
   "cell_type": "code",
   "execution_count": 11,
   "metadata": {},
   "outputs": [],
   "source": [
    "y = ssr.trajectory(int(1e4))"
   ]
  },
  {
   "cell_type": "code",
   "execution_count": 16,
   "metadata": {},
   "outputs": [
    {
     "name": "stdout",
     "output_type": "stream",
     "text": [
      "Riccati check: True\n",
      "Iteration 1, Log Likelihood: -192870.298289\n"
     ]
    },
    {
     "name": "stderr",
     "output_type": "stream",
     "text": [
      "../../em.py:39: ComplexWarning: Casting complex values to real discards the imaginary part\n",
      "  Psqrt_pred[i] = Psqrt_pred_\n",
      "../../em.py:40: ComplexWarning: Casting complex values to real discards the imaginary part\n",
      "  Ppred[i] = Psqrt_pred_ @ Psqrt_pred_.T\n",
      "../../em.py:54: ComplexWarning: Casting complex values to real discards the imaginary part\n",
      "  Psqrt_filt[i] = Psqrt_filt_\n",
      "../../em.py:83: ComplexWarning: Casting complex values to real discards the imaginary part\n",
      "  Psmooth[i] = Psqrt_smooth @ Psqrt_smooth.T\n"
     ]
    },
    {
     "name": "stdout",
     "output_type": "stream",
     "text": [
      "Riccati check: True\n",
      "Iteration 2, Log Likelihood: -178162.904424\n"
     ]
    },
    {
     "name": "stderr",
     "output_type": "stream",
     "text": [
      "../../em.py:39: ComplexWarning: Casting complex values to real discards the imaginary part\n",
      "  Psqrt_pred[i] = Psqrt_pred_\n",
      "../../em.py:40: ComplexWarning: Casting complex values to real discards the imaginary part\n",
      "  Ppred[i] = Psqrt_pred_ @ Psqrt_pred_.T\n",
      "../../em.py:54: ComplexWarning: Casting complex values to real discards the imaginary part\n",
      "  Psqrt_filt[i] = Psqrt_filt_\n",
      "../../em.py:83: ComplexWarning: Casting complex values to real discards the imaginary part\n",
      "  Psmooth[i] = Psqrt_smooth @ Psqrt_smooth.T\n"
     ]
    },
    {
     "name": "stdout",
     "output_type": "stream",
     "text": [
      "Riccati check: True\n",
      "Iteration 3, Log Likelihood: -176144.652870\n"
     ]
    },
    {
     "name": "stderr",
     "output_type": "stream",
     "text": [
      "../../em.py:39: ComplexWarning: Casting complex values to real discards the imaginary part\n",
      "  Psqrt_pred[i] = Psqrt_pred_\n",
      "../../em.py:40: ComplexWarning: Casting complex values to real discards the imaginary part\n",
      "  Ppred[i] = Psqrt_pred_ @ Psqrt_pred_.T\n",
      "../../em.py:54: ComplexWarning: Casting complex values to real discards the imaginary part\n",
      "  Psqrt_filt[i] = Psqrt_filt_\n",
      "../../em.py:83: ComplexWarning: Casting complex values to real discards the imaginary part\n",
      "  Psmooth[i] = Psqrt_smooth @ Psqrt_smooth.T\n"
     ]
    },
    {
     "name": "stdout",
     "output_type": "stream",
     "text": [
      "Riccati check: True\n",
      "Iteration 4, Log Likelihood: -174460.987268\n"
     ]
    },
    {
     "name": "stderr",
     "output_type": "stream",
     "text": [
      "../../em.py:39: ComplexWarning: Casting complex values to real discards the imaginary part\n",
      "  Psqrt_pred[i] = Psqrt_pred_\n",
      "../../em.py:40: ComplexWarning: Casting complex values to real discards the imaginary part\n",
      "  Ppred[i] = Psqrt_pred_ @ Psqrt_pred_.T\n",
      "../../em.py:54: ComplexWarning: Casting complex values to real discards the imaginary part\n",
      "  Psqrt_filt[i] = Psqrt_filt_\n",
      "../../em.py:83: ComplexWarning: Casting complex values to real discards the imaginary part\n",
      "  Psmooth[i] = Psqrt_smooth @ Psqrt_smooth.T\n"
     ]
    },
    {
     "name": "stdout",
     "output_type": "stream",
     "text": [
      "Riccati check: True\n",
      "Iteration 5, Log Likelihood: -173087.102195\n"
     ]
    },
    {
     "name": "stderr",
     "output_type": "stream",
     "text": [
      "../../em.py:39: ComplexWarning: Casting complex values to real discards the imaginary part\n",
      "  Psqrt_pred[i] = Psqrt_pred_\n",
      "../../em.py:40: ComplexWarning: Casting complex values to real discards the imaginary part\n",
      "  Ppred[i] = Psqrt_pred_ @ Psqrt_pred_.T\n",
      "../../em.py:54: ComplexWarning: Casting complex values to real discards the imaginary part\n",
      "  Psqrt_filt[i] = Psqrt_filt_\n",
      "../../em.py:83: ComplexWarning: Casting complex values to real discards the imaginary part\n",
      "  Psmooth[i] = Psqrt_smooth @ Psqrt_smooth.T\n"
     ]
    },
    {
     "name": "stdout",
     "output_type": "stream",
     "text": [
      "Riccati check: True\n",
      "Iteration 6, Log Likelihood: -171975.274086\n"
     ]
    },
    {
     "name": "stderr",
     "output_type": "stream",
     "text": [
      "../../em.py:39: ComplexWarning: Casting complex values to real discards the imaginary part\n",
      "  Psqrt_pred[i] = Psqrt_pred_\n",
      "../../em.py:40: ComplexWarning: Casting complex values to real discards the imaginary part\n",
      "  Ppred[i] = Psqrt_pred_ @ Psqrt_pred_.T\n",
      "../../em.py:54: ComplexWarning: Casting complex values to real discards the imaginary part\n",
      "  Psqrt_filt[i] = Psqrt_filt_\n",
      "../../em.py:83: ComplexWarning: Casting complex values to real discards the imaginary part\n",
      "  Psmooth[i] = Psqrt_smooth @ Psqrt_smooth.T\n"
     ]
    },
    {
     "name": "stdout",
     "output_type": "stream",
     "text": [
      "Riccati check: True\n",
      "Iteration 7, Log Likelihood: -171068.686875\n"
     ]
    },
    {
     "name": "stderr",
     "output_type": "stream",
     "text": [
      "../../em.py:39: ComplexWarning: Casting complex values to real discards the imaginary part\n",
      "  Psqrt_pred[i] = Psqrt_pred_\n",
      "../../em.py:40: ComplexWarning: Casting complex values to real discards the imaginary part\n",
      "  Ppred[i] = Psqrt_pred_ @ Psqrt_pred_.T\n",
      "../../em.py:54: ComplexWarning: Casting complex values to real discards the imaginary part\n",
      "  Psqrt_filt[i] = Psqrt_filt_\n",
      "../../em.py:83: ComplexWarning: Casting complex values to real discards the imaginary part\n",
      "  Psmooth[i] = Psqrt_smooth @ Psqrt_smooth.T\n"
     ]
    },
    {
     "name": "stdout",
     "output_type": "stream",
     "text": [
      "Riccati check: True\n",
      "Iteration 8, Log Likelihood: -170314.451319\n"
     ]
    },
    {
     "name": "stderr",
     "output_type": "stream",
     "text": [
      "../../em.py:39: ComplexWarning: Casting complex values to real discards the imaginary part\n",
      "  Psqrt_pred[i] = Psqrt_pred_\n",
      "../../em.py:40: ComplexWarning: Casting complex values to real discards the imaginary part\n",
      "  Ppred[i] = Psqrt_pred_ @ Psqrt_pred_.T\n",
      "../../em.py:54: ComplexWarning: Casting complex values to real discards the imaginary part\n",
      "  Psqrt_filt[i] = Psqrt_filt_\n",
      "../../em.py:83: ComplexWarning: Casting complex values to real discards the imaginary part\n",
      "  Psmooth[i] = Psqrt_smooth @ Psqrt_smooth.T\n"
     ]
    },
    {
     "name": "stdout",
     "output_type": "stream",
     "text": [
      "Riccati check: True\n",
      "Iteration 9, Log Likelihood: -169670.523004\n"
     ]
    },
    {
     "name": "stderr",
     "output_type": "stream",
     "text": [
      "../../em.py:39: ComplexWarning: Casting complex values to real discards the imaginary part\n",
      "  Psqrt_pred[i] = Psqrt_pred_\n",
      "../../em.py:40: ComplexWarning: Casting complex values to real discards the imaginary part\n",
      "  Ppred[i] = Psqrt_pred_ @ Psqrt_pred_.T\n",
      "../../em.py:54: ComplexWarning: Casting complex values to real discards the imaginary part\n",
      "  Psqrt_filt[i] = Psqrt_filt_\n",
      "../../em.py:83: ComplexWarning: Casting complex values to real discards the imaginary part\n",
      "  Psmooth[i] = Psqrt_smooth @ Psqrt_smooth.T\n"
     ]
    },
    {
     "name": "stdout",
     "output_type": "stream",
     "text": [
      "Riccati check: True\n",
      "Iteration 10, Log Likelihood: -169106.683860\n"
     ]
    },
    {
     "name": "stderr",
     "output_type": "stream",
     "text": [
      "../../em.py:39: ComplexWarning: Casting complex values to real discards the imaginary part\n",
      "  Psqrt_pred[i] = Psqrt_pred_\n",
      "../../em.py:40: ComplexWarning: Casting complex values to real discards the imaginary part\n",
      "  Ppred[i] = Psqrt_pred_ @ Psqrt_pred_.T\n",
      "../../em.py:54: ComplexWarning: Casting complex values to real discards the imaginary part\n",
      "  Psqrt_filt[i] = Psqrt_filt_\n",
      "../../em.py:83: ComplexWarning: Casting complex values to real discards the imaginary part\n",
      "  Psmooth[i] = Psqrt_smooth @ Psqrt_smooth.T\n"
     ]
    },
    {
     "name": "stdout",
     "output_type": "stream",
     "text": [
      "Riccati check: True\n",
      "Iteration 11, Log Likelihood: -168602.409386\n"
     ]
    },
    {
     "name": "stderr",
     "output_type": "stream",
     "text": [
      "../../em.py:39: ComplexWarning: Casting complex values to real discards the imaginary part\n",
      "  Psqrt_pred[i] = Psqrt_pred_\n",
      "../../em.py:40: ComplexWarning: Casting complex values to real discards the imaginary part\n",
      "  Ppred[i] = Psqrt_pred_ @ Psqrt_pred_.T\n",
      "../../em.py:54: ComplexWarning: Casting complex values to real discards the imaginary part\n",
      "  Psqrt_filt[i] = Psqrt_filt_\n",
      "../../em.py:83: ComplexWarning: Casting complex values to real discards the imaginary part\n",
      "  Psmooth[i] = Psqrt_smooth @ Psqrt_smooth.T\n"
     ]
    },
    {
     "name": "stdout",
     "output_type": "stream",
     "text": [
      "Riccati check: True\n",
      "Iteration 12, Log Likelihood: -168144.049306\n"
     ]
    },
    {
     "name": "stderr",
     "output_type": "stream",
     "text": [
      "../../em.py:39: ComplexWarning: Casting complex values to real discards the imaginary part\n",
      "  Psqrt_pred[i] = Psqrt_pred_\n",
      "../../em.py:40: ComplexWarning: Casting complex values to real discards the imaginary part\n",
      "  Ppred[i] = Psqrt_pred_ @ Psqrt_pred_.T\n",
      "../../em.py:54: ComplexWarning: Casting complex values to real discards the imaginary part\n",
      "  Psqrt_filt[i] = Psqrt_filt_\n",
      "../../em.py:83: ComplexWarning: Casting complex values to real discards the imaginary part\n",
      "  Psmooth[i] = Psqrt_smooth @ Psqrt_smooth.T\n"
     ]
    },
    {
     "name": "stdout",
     "output_type": "stream",
     "text": [
      "Riccati check: True\n",
      "Iteration 13, Log Likelihood: -167722.466110\n"
     ]
    },
    {
     "name": "stderr",
     "output_type": "stream",
     "text": [
      "../../em.py:39: ComplexWarning: Casting complex values to real discards the imaginary part\n",
      "  Psqrt_pred[i] = Psqrt_pred_\n",
      "../../em.py:40: ComplexWarning: Casting complex values to real discards the imaginary part\n",
      "  Ppred[i] = Psqrt_pred_ @ Psqrt_pred_.T\n",
      "../../em.py:54: ComplexWarning: Casting complex values to real discards the imaginary part\n",
      "  Psqrt_filt[i] = Psqrt_filt_\n",
      "../../em.py:83: ComplexWarning: Casting complex values to real discards the imaginary part\n",
      "  Psmooth[i] = Psqrt_smooth @ Psqrt_smooth.T\n"
     ]
    },
    {
     "name": "stdout",
     "output_type": "stream",
     "text": [
      "Riccati check: True\n",
      "Iteration 14, Log Likelihood: -167331.383208\n"
     ]
    },
    {
     "name": "stderr",
     "output_type": "stream",
     "text": [
      "../../em.py:39: ComplexWarning: Casting complex values to real discards the imaginary part\n",
      "  Psqrt_pred[i] = Psqrt_pred_\n",
      "../../em.py:40: ComplexWarning: Casting complex values to real discards the imaginary part\n",
      "  Ppred[i] = Psqrt_pred_ @ Psqrt_pred_.T\n",
      "../../em.py:54: ComplexWarning: Casting complex values to real discards the imaginary part\n",
      "  Psqrt_filt[i] = Psqrt_filt_\n"
     ]
    },
    {
     "ename": "KeyboardInterrupt",
     "evalue": "",
     "output_type": "error",
     "traceback": [
      "\u001b[0;31m---------------------------------------------------------------------------\u001b[0m",
      "\u001b[0;31mKeyboardInterrupt\u001b[0m                         Traceback (most recent call last)",
      "\u001b[0;32m<ipython-input-16-e69446ab4dad>\u001b[0m in \u001b[0;36m<module>\u001b[0;34m\u001b[0m\n\u001b[0;32m----> 1\u001b[0;31m \u001b[0msssml\u001b[0m\u001b[0;34m.\u001b[0m\u001b[0mfit\u001b[0m\u001b[0;34m(\u001b[0m\u001b[0my\u001b[0m\u001b[0;34m,\u001b[0m \u001b[0mstate_dim\u001b[0m\u001b[0;34m=\u001b[0m\u001b[0;36m20\u001b[0m\u001b[0;34m)\u001b[0m\u001b[0;34m\u001b[0m\u001b[0;34m\u001b[0m\u001b[0m\n\u001b[0m",
      "\u001b[0;32m~/nse/neural_control/em.py\u001b[0m in \u001b[0;36mfit\u001b[0;34m(self, y, state_dim, **init_kwargs)\u001b[0m\n\u001b[1;32m    209\u001b[0m \u001b[0;34m\u001b[0m\u001b[0m\n\u001b[1;32m    210\u001b[0m         \u001b[0;32mwhile\u001b[0m \u001b[0miter\u001b[0m \u001b[0;34m<\u001b[0m \u001b[0mself\u001b[0m\u001b[0;34m.\u001b[0m\u001b[0mmax_iter\u001b[0m \u001b[0;32mand\u001b[0m \u001b[0mtol\u001b[0m \u001b[0;34m>\u001b[0m \u001b[0mself\u001b[0m\u001b[0;34m.\u001b[0m\u001b[0mtol\u001b[0m\u001b[0;34m:\u001b[0m\u001b[0;34m\u001b[0m\u001b[0;34m\u001b[0m\u001b[0m\n\u001b[0;32m--> 211\u001b[0;31m             \u001b[0mExhat\u001b[0m\u001b[0;34m,\u001b[0m \u001b[0mPtt\u001b[0m\u001b[0;34m,\u001b[0m \u001b[0mPtt1\u001b[0m\u001b[0;34m,\u001b[0m \u001b[0mlogll\u001b[0m \u001b[0;34m=\u001b[0m \u001b[0mself\u001b[0m\u001b[0;34m.\u001b[0m\u001b[0mE\u001b[0m\u001b[0;34m(\u001b[0m\u001b[0my\u001b[0m\u001b[0;34m)\u001b[0m\u001b[0;34m\u001b[0m\u001b[0;34m\u001b[0m\u001b[0m\n\u001b[0m\u001b[1;32m    212\u001b[0m             \u001b[0mself\u001b[0m\u001b[0;34m.\u001b[0m\u001b[0mM\u001b[0m\u001b[0;34m(\u001b[0m\u001b[0my\u001b[0m\u001b[0;34m,\u001b[0m \u001b[0mExhat\u001b[0m\u001b[0;34m,\u001b[0m \u001b[0mPtt\u001b[0m\u001b[0;34m,\u001b[0m \u001b[0mPtt1\u001b[0m\u001b[0;34m)\u001b[0m\u001b[0;34m\u001b[0m\u001b[0;34m\u001b[0m\u001b[0m\n\u001b[1;32m    213\u001b[0m             \u001b[0miter\u001b[0m \u001b[0;34m+=\u001b[0m \u001b[0;36m1\u001b[0m\u001b[0;34m\u001b[0m\u001b[0;34m\u001b[0m\u001b[0m\n",
      "\u001b[0;32m~/nse/neural_control/em.py\u001b[0m in \u001b[0;36mE\u001b[0;34m(self, y)\u001b[0m\n\u001b[1;32m    218\u001b[0m         (mufilt, mupred, Psqrt_filt, \n\u001b[1;32m    219\u001b[0m         \u001b[0mPsqrt_pred\u001b[0m\u001b[0;34m,\u001b[0m \u001b[0mPpred\u001b[0m\u001b[0;34m,\u001b[0m \u001b[0mK\u001b[0m\u001b[0;34m)\u001b[0m \u001b[0;34m=\u001b[0m \u001b[0mfilter\u001b[0m\u001b[0;34m(\u001b[0m\u001b[0my\u001b[0m\u001b[0;34m,\u001b[0m \u001b[0mself\u001b[0m\u001b[0;34m.\u001b[0m\u001b[0mA\u001b[0m\u001b[0;34m,\u001b[0m \u001b[0mself\u001b[0m\u001b[0;34m.\u001b[0m\u001b[0mC\u001b[0m\u001b[0;34m,\u001b[0m \u001b[0mself\u001b[0m\u001b[0;34m.\u001b[0m\u001b[0mQ\u001b[0m\u001b[0;34m,\u001b[0m \u001b[0mself\u001b[0m\u001b[0;34m.\u001b[0m\u001b[0mR\u001b[0m\u001b[0;34m,\u001b[0m\u001b[0;34m\u001b[0m\u001b[0;34m\u001b[0m\u001b[0m\n\u001b[0;32m--> 220\u001b[0;31m                                        self.Sigma0, self.x0, S=self.S)\n\u001b[0m\u001b[1;32m    221\u001b[0m \u001b[0;34m\u001b[0m\u001b[0m\n\u001b[1;32m    222\u001b[0m \u001b[0;34m\u001b[0m\u001b[0m\n",
      "\u001b[0;32m~/nse/neural_control/em.py\u001b[0m in \u001b[0;36mfilter\u001b[0;34m(y, A, C, Q, R, P0, x0, S)\u001b[0m\n\u001b[1;32m     50\u001b[0m \u001b[0;34m\u001b[0m\u001b[0m\n\u001b[1;32m     51\u001b[0m         \u001b[0;31m# Incorporate new observation and step the prediction by 1\u001b[0m\u001b[0;34m\u001b[0m\u001b[0;34m\u001b[0m\u001b[0;34m\u001b[0m\u001b[0m\n\u001b[0;32m---> 52\u001b[0;31m         \u001b[0mPsqrt_pred_\u001b[0m\u001b[0;34m,\u001b[0m \u001b[0mPsqrt_filt_\u001b[0m \u001b[0;34m=\u001b[0m \u001b[0msqrt_filter\u001b[0m\u001b[0;34m(\u001b[0m\u001b[0mPsqrt_pred_\u001b[0m\u001b[0;34m,\u001b[0m \u001b[0mA\u001b[0m\u001b[0;34m,\u001b[0m \u001b[0mC\u001b[0m\u001b[0;34m,\u001b[0m \u001b[0mQsqrt\u001b[0m\u001b[0;34m,\u001b[0m \u001b[0mRsqrt\u001b[0m\u001b[0;34m)\u001b[0m\u001b[0;34m\u001b[0m\u001b[0;34m\u001b[0m\u001b[0m\n\u001b[0m\u001b[1;32m     53\u001b[0m \u001b[0;34m\u001b[0m\u001b[0m\n\u001b[1;32m     54\u001b[0m         \u001b[0mPsqrt_filt\u001b[0m\u001b[0;34m[\u001b[0m\u001b[0mi\u001b[0m\u001b[0;34m]\u001b[0m \u001b[0;34m=\u001b[0m \u001b[0mPsqrt_filt_\u001b[0m\u001b[0;34m\u001b[0m\u001b[0;34m\u001b[0m\u001b[0m\n",
      "\u001b[0;32m~/nse/neural_control/riccati.py\u001b[0m in \u001b[0;36msqrt_filter\u001b[0;34m(Ppred_sqrt, A, C, Qsqrt, Rsqrt)\u001b[0m\n\u001b[1;32m    106\u001b[0m     \u001b[0;31m# # Pre-array\u001b[0m\u001b[0;34m\u001b[0m\u001b[0;34m\u001b[0m\u001b[0;34m\u001b[0m\u001b[0m\n\u001b[1;32m    107\u001b[0m     \u001b[0mpre\u001b[0m \u001b[0;34m=\u001b[0m \u001b[0mnp\u001b[0m\u001b[0;34m.\u001b[0m\u001b[0mblock\u001b[0m\u001b[0;34m(\u001b[0m\u001b[0;34m[\u001b[0m\u001b[0;34m[\u001b[0m\u001b[0mRsqrt\u001b[0m\u001b[0;34m,\u001b[0m \u001b[0mC\u001b[0m \u001b[0;34m@\u001b[0m \u001b[0mPpred_sqrt\u001b[0m\u001b[0;34m]\u001b[0m\u001b[0;34m,\u001b[0m \u001b[0;34m[\u001b[0m\u001b[0mnp\u001b[0m\u001b[0;34m.\u001b[0m\u001b[0mzeros\u001b[0m\u001b[0;34m(\u001b[0m\u001b[0;34m(\u001b[0m\u001b[0mPpred_sqrt\u001b[0m\u001b[0;34m.\u001b[0m\u001b[0mshape\u001b[0m\u001b[0;34m[\u001b[0m\u001b[0;36m0\u001b[0m\u001b[0;34m]\u001b[0m\u001b[0;34m,\u001b[0m \u001b[0mRsqrt\u001b[0m\u001b[0;34m.\u001b[0m\u001b[0mshape\u001b[0m\u001b[0;34m[\u001b[0m\u001b[0;36m1\u001b[0m\u001b[0;34m]\u001b[0m\u001b[0;34m)\u001b[0m\u001b[0;34m)\u001b[0m\u001b[0;34m,\u001b[0m \u001b[0mPpred_sqrt\u001b[0m\u001b[0;34m]\u001b[0m\u001b[0;34m]\u001b[0m\u001b[0;34m)\u001b[0m\u001b[0;34m.\u001b[0m\u001b[0mT\u001b[0m\u001b[0;34m\u001b[0m\u001b[0;34m\u001b[0m\u001b[0m\n\u001b[0;32m--> 108\u001b[0;31m     \u001b[0m_\u001b[0m\u001b[0;34m,\u001b[0m \u001b[0mpost\u001b[0m \u001b[0;34m=\u001b[0m \u001b[0mscipy\u001b[0m\u001b[0;34m.\u001b[0m\u001b[0mlinalg\u001b[0m\u001b[0;34m.\u001b[0m\u001b[0mqr\u001b[0m\u001b[0;34m(\u001b[0m\u001b[0mpre\u001b[0m\u001b[0;34m)\u001b[0m\u001b[0;34m\u001b[0m\u001b[0;34m\u001b[0m\u001b[0m\n\u001b[0m\u001b[1;32m    109\u001b[0m     \u001b[0;31m# Post-arry\u001b[0m\u001b[0;34m\u001b[0m\u001b[0;34m\u001b[0m\u001b[0;34m\u001b[0m\u001b[0m\n\u001b[1;32m    110\u001b[0m     \u001b[0mPfilt_sqrt\u001b[0m \u001b[0;34m=\u001b[0m \u001b[0mpost\u001b[0m\u001b[0;34m[\u001b[0m\u001b[0mRsqrt\u001b[0m\u001b[0;34m.\u001b[0m\u001b[0mshape\u001b[0m\u001b[0;34m[\u001b[0m\u001b[0;36m0\u001b[0m\u001b[0;34m]\u001b[0m\u001b[0;34m:\u001b[0m\u001b[0;34m,\u001b[0m \u001b[0mRsqrt\u001b[0m\u001b[0;34m.\u001b[0m\u001b[0mshape\u001b[0m\u001b[0;34m[\u001b[0m\u001b[0;36m1\u001b[0m\u001b[0;34m]\u001b[0m\u001b[0;34m:\u001b[0m\u001b[0;34m]\u001b[0m\u001b[0;34m.\u001b[0m\u001b[0mT\u001b[0m\u001b[0;34m\u001b[0m\u001b[0;34m\u001b[0m\u001b[0m\n",
      "\u001b[0;32m~/anaconda3/envs/dyn/lib/python3.7/site-packages/scipy/linalg/decomp_qr.py\u001b[0m in \u001b[0;36mqr\u001b[0;34m(a, overwrite_a, lwork, mode, pivoting, check_finite)\u001b[0m\n\u001b[1;32m    142\u001b[0m \u001b[0;34m\u001b[0m\u001b[0m\n\u001b[1;32m    143\u001b[0m     \u001b[0;32mif\u001b[0m \u001b[0mmode\u001b[0m \u001b[0;32mnot\u001b[0m \u001b[0;32min\u001b[0m \u001b[0;34m[\u001b[0m\u001b[0;34m'economic'\u001b[0m\u001b[0;34m,\u001b[0m \u001b[0;34m'raw'\u001b[0m\u001b[0;34m]\u001b[0m \u001b[0;32mor\u001b[0m \u001b[0mM\u001b[0m \u001b[0;34m<\u001b[0m \u001b[0mN\u001b[0m\u001b[0;34m:\u001b[0m\u001b[0;34m\u001b[0m\u001b[0;34m\u001b[0m\u001b[0m\n\u001b[0;32m--> 144\u001b[0;31m         \u001b[0mR\u001b[0m \u001b[0;34m=\u001b[0m \u001b[0mnumpy\u001b[0m\u001b[0;34m.\u001b[0m\u001b[0mtriu\u001b[0m\u001b[0;34m(\u001b[0m\u001b[0mqr\u001b[0m\u001b[0;34m)\u001b[0m\u001b[0;34m\u001b[0m\u001b[0;34m\u001b[0m\u001b[0m\n\u001b[0m\u001b[1;32m    145\u001b[0m     \u001b[0;32melse\u001b[0m\u001b[0;34m:\u001b[0m\u001b[0;34m\u001b[0m\u001b[0;34m\u001b[0m\u001b[0m\n\u001b[1;32m    146\u001b[0m         \u001b[0mR\u001b[0m \u001b[0;34m=\u001b[0m \u001b[0mnumpy\u001b[0m\u001b[0;34m.\u001b[0m\u001b[0mtriu\u001b[0m\u001b[0;34m(\u001b[0m\u001b[0mqr\u001b[0m\u001b[0;34m[\u001b[0m\u001b[0;34m:\u001b[0m\u001b[0mN\u001b[0m\u001b[0;34m,\u001b[0m \u001b[0;34m:\u001b[0m\u001b[0;34m]\u001b[0m\u001b[0;34m)\u001b[0m\u001b[0;34m\u001b[0m\u001b[0;34m\u001b[0m\u001b[0m\n",
      "\u001b[0;32m<__array_function__ internals>\u001b[0m in \u001b[0;36mtriu\u001b[0;34m(*args, **kwargs)\u001b[0m\n",
      "\u001b[0;32m~/anaconda3/envs/dyn/lib/python3.7/site-packages/numpy/lib/twodim_base.py\u001b[0m in \u001b[0;36mtriu\u001b[0;34m(m, k)\u001b[0m\n\u001b[1;32m    463\u001b[0m     \"\"\"\n\u001b[1;32m    464\u001b[0m     \u001b[0mm\u001b[0m \u001b[0;34m=\u001b[0m \u001b[0masanyarray\u001b[0m\u001b[0;34m(\u001b[0m\u001b[0mm\u001b[0m\u001b[0;34m)\u001b[0m\u001b[0;34m\u001b[0m\u001b[0;34m\u001b[0m\u001b[0m\n\u001b[0;32m--> 465\u001b[0;31m     \u001b[0mmask\u001b[0m \u001b[0;34m=\u001b[0m \u001b[0mtri\u001b[0m\u001b[0;34m(\u001b[0m\u001b[0;34m*\u001b[0m\u001b[0mm\u001b[0m\u001b[0;34m.\u001b[0m\u001b[0mshape\u001b[0m\u001b[0;34m[\u001b[0m\u001b[0;34m-\u001b[0m\u001b[0;36m2\u001b[0m\u001b[0;34m:\u001b[0m\u001b[0;34m]\u001b[0m\u001b[0;34m,\u001b[0m \u001b[0mk\u001b[0m\u001b[0;34m=\u001b[0m\u001b[0mk\u001b[0m\u001b[0;34m-\u001b[0m\u001b[0;36m1\u001b[0m\u001b[0;34m,\u001b[0m \u001b[0mdtype\u001b[0m\u001b[0;34m=\u001b[0m\u001b[0mbool\u001b[0m\u001b[0;34m)\u001b[0m\u001b[0;34m\u001b[0m\u001b[0;34m\u001b[0m\u001b[0m\n\u001b[0m\u001b[1;32m    466\u001b[0m \u001b[0;34m\u001b[0m\u001b[0m\n\u001b[1;32m    467\u001b[0m     \u001b[0;32mreturn\u001b[0m \u001b[0mwhere\u001b[0m\u001b[0;34m(\u001b[0m\u001b[0mmask\u001b[0m\u001b[0;34m,\u001b[0m \u001b[0mzeros\u001b[0m\u001b[0;34m(\u001b[0m\u001b[0;36m1\u001b[0m\u001b[0;34m,\u001b[0m \u001b[0mm\u001b[0m\u001b[0;34m.\u001b[0m\u001b[0mdtype\u001b[0m\u001b[0;34m)\u001b[0m\u001b[0;34m,\u001b[0m \u001b[0mm\u001b[0m\u001b[0;34m)\u001b[0m\u001b[0;34m\u001b[0m\u001b[0;34m\u001b[0m\u001b[0m\n",
      "\u001b[0;32m~/anaconda3/envs/dyn/lib/python3.7/site-packages/numpy/lib/twodim_base.py\u001b[0m in \u001b[0;36mtri\u001b[0;34m(N, M, k, dtype)\u001b[0m\n\u001b[1;32m    388\u001b[0m \u001b[0;34m\u001b[0m\u001b[0m\n\u001b[1;32m    389\u001b[0m     m = greater_equal.outer(arange(N, dtype=_min_int(0, N)),\n\u001b[0;32m--> 390\u001b[0;31m                             arange(-k, M-k, dtype=_min_int(-k, M - k)))\n\u001b[0m\u001b[1;32m    391\u001b[0m \u001b[0;34m\u001b[0m\u001b[0m\n\u001b[1;32m    392\u001b[0m     \u001b[0;31m# Avoid making a copy if the requested type is already bool\u001b[0m\u001b[0;34m\u001b[0m\u001b[0;34m\u001b[0m\u001b[0;34m\u001b[0m\u001b[0m\n",
      "\u001b[0;31mKeyboardInterrupt\u001b[0m: "
     ]
    }
   ],
   "source": [
    "sssml.fit(y, state_dim=20)"
   ]
  },
  {
   "cell_type": "markdown",
   "metadata": {},
   "source": [
    "### Test square root filters/smoothers"
   ]
  },
  {
   "cell_type": "code",
   "execution_count": 261,
   "metadata": {},
   "outputs": [],
   "source": [
    "from riccati import sqrt_filter, sqrt_smoother\n",
    "from pykalman import KalmanFilter\n",
    "from pykalman.standard import _filter, _smooth"
   ]
  },
  {
   "cell_type": "code",
   "execution_count": 286,
   "metadata": {},
   "outputs": [],
   "source": [
    "# Compare results of sqrt_riccati to that of KalmanFilter\n",
    "state_dim = 20\n",
    "obs_dim = 10\n",
    "A = np.random.normal(scale=1/(1.7 * np.sqrt(state_dim)), size=(state_dim, state_dim))\n",
    "while max(np.abs(np.linalg.eigvals(A))) > 0.99:\n",
    "    A = np.random.normal(scale=1/(1.7 * np.sqrt(state_dim)), size=(state_dim, state_dim))\n",
    "\n",
    "C = scipy.stats.ortho_group.rvs(state_dim)[:, 0:obs_dim].T\n",
    "ssr = SSR(A=A, B=np.eye(A.shape[0]), C=C)\n",
    "ssr.solve_min_phase()"
   ]
  },
  {
   "cell_type": "code",
   "execution_count": 287,
   "metadata": {},
   "outputs": [],
   "source": [
    "y = ssr.trajectory(int(1e3))"
   ]
  },
  {
   "cell_type": "code",
   "execution_count": 288,
   "metadata": {},
   "outputs": [],
   "source": [
    "S = ssr.Bmin @ ssr.Dmin.T\n",
    "R = 1.5 * ssr.Dmin @ ssr.Dmin.T\n",
    "As = A - S @ np.linalg.inv(R) @ C\n",
    "#Q = ssr.Bmin @ ssr.Bmin.T\n",
    "Q = np.eye(A.shape[0])\n",
    "Qs = Q - S @ np.linalg.inv(R) @ S.T\n",
    "Qssqrt = scipy.linalg.sqrtm(Qs)"
   ]
  },
  {
   "cell_type": "code",
   "execution_count": 289,
   "metadata": {},
   "outputs": [],
   "source": [
    "Pinf2 = scipy.linalg.solve_discrete_are((A - S @ np.linalg.inv(R) @ C).T, C.T, q=Qs, r=R)"
   ]
  },
  {
   "cell_type": "code",
   "execution_count": 290,
   "metadata": {},
   "outputs": [],
   "source": [
    "Psqrt = np.eye(A.shape[0])\n",
    "Pt_ = [Psqrt]\n",
    "#Qsqrt = np.eye(A.shape[0])\n",
    "Rsqrt = np.linalg.cholesky(R)\n",
    "PP = np.eye(A.shape[0])\n",
    "for i in range(1, y.shape[0]):\n",
    "    Psqrt = sqrt_riccati(Psqrt, As, C, Qssqrt, Rsqrt)\n",
    "    Pt_.append(Psqrt)\n",
    "    PP = discrete_riccati(PP, A, C, Q, R, S=S)"
   ]
  },
  {
   "cell_type": "code",
   "execution_count": 291,
   "metadata": {},
   "outputs": [
    {
     "data": {
      "text/plain": [
       "1.4316127248683824e-14"
      ]
     },
     "execution_count": 291,
     "metadata": {},
     "output_type": "execute_result"
    }
   ],
   "source": [
    "np.linalg.norm(Pt_[-1] @ Pt_[-1].T - Pinf2)"
   ]
  },
  {
   "cell_type": "code",
   "execution_count": 292,
   "metadata": {},
   "outputs": [],
   "source": [
    "(predicted_state_means, predicted_state_covariances,\n",
    "            kalman_gains, filtered_state_means,\n",
    "            filtered_state_covariances) = _filter(As, C, Qs, R, np.zeros(A.shape[0]), np.zeros(C.shape[0]), np.zeros(A.shape[0]), np.eye(A.shape[0]), y)"
   ]
  },
  {
   "cell_type": "code",
   "execution_count": 317,
   "metadata": {},
   "outputs": [
    {
     "data": {
      "text/plain": [
       "[<matplotlib.lines.Line2D at 0x7ffb81415490>]"
      ]
     },
     "execution_count": 317,
     "metadata": {},
     "output_type": "execute_result"
    },
    {
     "data": {
      "image/png": "[encoded data removed]",
      "text/plain": [
       "<Figure size 432x288 with 1 Axes>"
      ]
     },
     "metadata": {
      "needs_background": "light"
     },
     "output_type": "display_data"
    }
   ],
   "source": [
    "plt.plot([np.linalg.norm(kalman_gains[idx] - K[idx]) for idx in range(mupred.shape[0])])"
   ]
  },
  {
   "cell_type": "code",
   "execution_count": 326,
   "metadata": {},
   "outputs": [],
   "source": [
    "(mufilt, mupred, Psqrt_filt, Psqrt_pred, Ppred, K, Re) = filter(y, A, C, Q, R, np.eye(A.shape[0]), np.zeros(A.shape[0]), S=S)"
   ]
  },
  {
   "cell_type": "code",
   "execution_count": 327,
   "metadata": {},
   "outputs": [
    {
     "data": {
      "text/plain": [
       "[<matplotlib.lines.Line2D at 0x7ffb73f88910>]"
      ]
     },
     "execution_count": 327,
     "metadata": {},
     "output_type": "execute_result"
    },
    {
     "data": {
      "image/png": "[encoded data removed]",
      "text/plain": [
       "<Figure size 432x288 with 1 Axes>"
      ]
     },
     "metadata": {
      "needs_background": "light"
     },
     "output_type": "display_data"
    }
   ],
   "source": [
    "plt.plot([np.linalg.norm(predicted_state_means[idx] - mupred[idx]) for idx in range(mupred.shape[0])])"
   ]
  },
  {
   "cell_type": "code",
   "execution_count": 243,
   "metadata": {},
   "outputs": [],
   "source": [
    "# There does not exist a square root smoother in pykalman"
   ]
  },
  {
   "cell_type": "code",
   "execution_count": 345,
   "metadata": {},
   "outputs": [],
   "source": [
    "(smoothed_state_means, smoothed_state_covariances, kalman_smoothing_gains) = _smooth(As, filtered_state_means, \n",
    "                                                                                     filtered_state_covariances, predicted_state_means, \n",
    "                                                                                     predicted_state_covariances)"
   ]
  },
  {
   "cell_type": "code",
   "execution_count": 351,
   "metadata": {},
   "outputs": [],
   "source": [
    "musmooth, Psmooth, Pfilt, J = smooth(y, A, C, Q, R, mufilt, mupred, Psqrt_filt, Psqrt_pred, Ppred, S=S) "
   ]
  },
  {
   "cell_type": "code",
   "execution_count": 352,
   "metadata": {},
   "outputs": [
    {
     "data": {
      "text/plain": [
       "[<matplotlib.lines.Line2D at 0x7ffb73d29f90>]"
      ]
     },
     "execution_count": 352,
     "metadata": {},
     "output_type": "execute_result"
    },
    {
     "data": {
      "image/png": "[encoded data removed]",
      "text/plain": [
       "<Figure size 432x288 with 1 Axes>"
      ]
     },
     "metadata": {
      "needs_background": "light"
     },
     "output_type": "display_data"
    }
   ],
   "source": [
    "plt.plot([np.linalg.norm(smoothed_state_covariances[idx] - Psmooth[idx]) for idx in range(J.shape[0])])"
   ]
  },
  {
   "cell_type": "code",
   "execution_count": 308,
   "metadata": {},
   "outputs": [],
   "source": [
    "# Smoother filtered state means, filtered state covariances, predicted state means, predicted state covariances"
   ]
  },
  {
   "cell_type": "code",
   "execution_count": 325,
   "metadata": {},
   "outputs": [],
   "source": [
    "def filter(y, A, C, Q, R, P0, x0, S=None):\n",
    "\n",
    "    # Run the square root Riccati recursion\n",
    "\n",
    "    # Keep track of square root factors as they are needed by the smoother. Also assemble Re factors\n",
    "    Psqrt_filt = np.zeros((y.shape[0],) + P0.shape)\n",
    "    Psqrt_pred = np.zeros(Psqrt_filt.shape)\n",
    "    Ppred = np.zeros(Psqrt_pred.shape)\n",
    "    Re = np.zeros((y.shape[0], y.shape[1], y.shape[1]))    \n",
    "\n",
    "    K = np.zeros((y.shape[0], P0.shape[0], y.shape[1]))\n",
    "    mufilt = np.zeros((y.shape[0], P0.shape[0]))\n",
    "    mupred = np.zeros((y.shape[0], P0.shape[0]))\n",
    "\n",
    "    if S is not None:\n",
    "        A = A - S @ np.linalg.inv(R) @ C\n",
    "        Q = Q - S @ np.linalg.inv(R) @ S.T\n",
    "\n",
    "    Psqrt_pred_ = np.linalg.cholesky(P0)\n",
    "    Qsqrt = scipy.linalg.sqrtm(Q)\n",
    "    Rsqrt = np.linalg.cholesky(R)\n",
    "\n",
    "    x = x0\n",
    "    for i in range(y.shape[0]):\n",
    "        Psqrt_pred[i] = Psqrt_pred_\n",
    "        Ppred[i] = Psqrt_pred_ @ Psqrt_pred_.T\n",
    "        Re[i] = np.linalg.pinv(R + C @ Ppred[i] @ C.T)\n",
    "        # Note this definition differs from the usual definition of Kalman gain (missing a factor of A), but \n",
    "        # is the one needed to accomplish separate filtering/prediction updates\n",
    "        K[i] = Ppred[i] @ C.T @ Re[i]\n",
    "\n",
    "        if i == 0:\n",
    "            mupred[i] = x0\n",
    "        else:\n",
    "            mupred[i] = A @ mufilt[i - 1]\n",
    "\n",
    "        # Incorporate new observation and step the prediction by 1\n",
    "        Psqrt_pred_, Psqrt_filt_ = sqrt_filter(Psqrt_pred_, A, C, Qsqrt, Rsqrt)\n",
    "\n",
    "        Psqrt_filt[i] = Psqrt_filt_              \n",
    "        mufilt[i] = mupred[i] + K[i] @ (y[i] - C @ mupred[i])\n",
    "\n",
    "    return mufilt, mupred, Psqrt_filt, Psqrt_pred, Ppred, K, Re"
   ]
  },
  {
   "cell_type": "code",
   "execution_count": 347,
   "metadata": {},
   "outputs": [],
   "source": [
    "def smooth(y, A, C, Q, R, mufilt, mupred, Psqrt_filt, Psqrt_pred, Ppred, S=None):\n",
    "    \n",
    "    Psmooth = np.zeros(Psqrt_filt.shape)\n",
    "    # In the process of calculating the smoothing covariances, we can assemble the filter covariances as well\n",
    "    Pfilt = np.zeros(Psqrt_filt.shape)\n",
    "    musmooth = np.zeros(mufilt.shape)\n",
    "    J = np.zeros((Psqrt_filt.shape[0] - 1, Psqrt_filt.shape[1], mufilt.shape[1]))\n",
    "\n",
    "    if S is not None:\n",
    "        A = A - S @ np.linalg.inv(R) @ C\n",
    "        Q = Q - S @ np.linalg.inv(R) @ S.T\n",
    "\n",
    "    Pfilt[-1] = Psqrt_filt[-1] @ Psqrt_filt[-1].T\n",
    "    Psmooth[-1] = Pfilt[-1]\n",
    "    musmooth[-1] = mufilt[-1]\n",
    "\n",
    "    Psqrt_smooth = np.linalg.cholesky(Psmooth[-1])\n",
    "    Qsqrt = scipy.linalg.sqrtm(Q)\n",
    "    for i in reversed(range(Psmooth.shape[0] - 1)):        \n",
    "        Pfilt[i] = Psqrt_filt[i] @ Psqrt_filt[i].T\n",
    "        J[i] = Pfilt[i] @ A.T @ np.linalg.pinv(Ppred[i + 1])  \n",
    "\n",
    "        musmooth[i] = mufilt[i] + J[i] @ (musmooth[i + 1] - mupred[i + 1])\n",
    "        Psqrt_smooth = sqrt_smoother(Psqrt_smooth, Psqrt_filt[i], A, Qsqrt, J[i])\n",
    "        Psmooth[i] = Psqrt_smooth @ Psqrt_smooth.T\n",
    "\n",
    "    return musmooth, Psmooth, Pfilt, J"
   ]
  },
  {
   "cell_type": "markdown",
   "metadata": {},
   "source": [
    "### Test ARMA State Space Estimator"
   ]
  },
  {
   "cell_type": "code",
   "execution_count": 8,
   "metadata": {},
   "outputs": [],
   "source": [
    "from em import ARMAStateSpaceML"
   ]
  },
  {
   "cell_type": "code",
   "execution_count": 9,
   "metadata": {},
   "outputs": [],
   "source": [
    "state_dim = 20\n",
    "obs_dim = 10\n",
    "A = np.random.normal(scale=1/(1.7 * np.sqrt(state_dim)), size=(state_dim, state_dim))\n",
    "while max(np.abs(np.linalg.eigvals(A))) > 0.99:\n",
    "    A = np.random.normal(scale=1/(1.7 * np.sqrt(state_dim)), size=(state_dim, state_dim))\n",
    "\n",
    "C = scipy.stats.ortho_group.rvs(state_dim)[:, 0:obs_dim].T\n",
    "ssr = SSR(A=A, B=np.eye(A.shape[0]), C=C)"
   ]
  },
  {
   "cell_type": "code",
   "execution_count": 10,
   "metadata": {},
   "outputs": [],
   "source": [
    "y = ssr.trajectory(int(1e4))"
   ]
  },
  {
   "cell_type": "code",
   "execution_count": 11,
   "metadata": {},
   "outputs": [],
   "source": [
    "armamodel = ARMAStateSpaceML()"
   ]
  },
  {
   "cell_type": "code",
   "execution_count": 11,
   "metadata": {},
   "outputs": [
    {
     "name": "stderr",
     "output_type": "stream",
     "text": [
      "[autoreload of em failed: Traceback (most recent call last):\n",
      "  File \"/home/akumar/anaconda3/envs/dyn/lib/python3.7/site-packages/IPython/extensions/autoreload.py\", line 245, in check\n",
      "    superreload(m, reload, self.old_objects)\n",
      "  File \"/home/akumar/anaconda3/envs/dyn/lib/python3.7/site-packages/IPython/extensions/autoreload.py\", line 394, in superreload\n",
      "    module = reload(module)\n",
      "  File \"/home/akumar/anaconda3/envs/dyn/lib/python3.7/imp.py\", line 314, in reload\n",
      "    return importlib.reload(module)\n",
      "  File \"/home/akumar/anaconda3/envs/dyn/lib/python3.7/importlib/__init__.py\", line 169, in reload\n",
      "    _bootstrap._exec(spec, module)\n",
      "  File \"<frozen importlib._bootstrap>\", line 630, in _exec\n",
      "  File \"<frozen importlib._bootstrap_external>\", line 724, in exec_module\n",
      "  File \"<frozen importlib._bootstrap_external>\", line 860, in get_code\n",
      "  File \"<frozen importlib._bootstrap_external>\", line 791, in source_to_code\n",
      "  File \"<frozen importlib._bootstrap>\", line 219, in _call_with_frames_removed\n",
      "  File \"../../em.py\", line 381\n",
      "    opt = torch.optim.\n",
      "                     ^\n",
      "SyntaxError: invalid syntax\n",
      "]\n"
     ]
    }
   ],
   "source": [
    "# Tasks\n",
    "# (1) Test different optimizers in the M step optimization\n",
    "# (2) Can we use stochastic gradient descent and only feed batches of observations? --> have to verify that this achieves lower cost on the entire time series\n",
    "# (3) Implement the stability correction algorithm"
   ]
  },
  {
   "cell_type": "code",
   "execution_count": 14,
   "metadata": {},
   "outputs": [
    {
     "name": "stderr",
     "output_type": "stream",
     "text": [
      "../../em.py:43: ComplexWarning: Casting complex values to real discards the imaginary part\n",
      "  Psqrt_pred[i] = Psqrt_pred_\n",
      "../../em.py:44: ComplexWarning: Casting complex values to real discards the imaginary part\n",
      "  Ppred[i] = Psqrt_pred_ @ Psqrt_pred_.T\n",
      "../../em.py:58: ComplexWarning: Casting complex values to real discards the imaginary part\n",
      "  Psqrt_filt[i] = Psqrt_filt_\n",
      "../../em.py:87: ComplexWarning: Casting complex values to real discards the imaginary part\n",
      "  Psmooth[i] = Psqrt_smooth @ Psqrt_smooth.T\n",
      "100%|██████████| 100/100 [05:25<00:00,  3.25s/it]\n"
     ]
    },
    {
     "name": "stdout",
     "output_type": "stream",
     "text": [
      "> \u001b[0;32m/home/akumar/nse/neural_control/em.py\u001b[0m(501)\u001b[0;36mM\u001b[0;34m()\u001b[0m\n",
      "\u001b[0;32m    499 \u001b[0;31m        \u001b[0mR\u001b[0m \u001b[0;34m=\u001b[0m \u001b[0mnp\u001b[0m\u001b[0;34m.\u001b[0m\u001b[0mmean\u001b[0m\u001b[0;34m(\u001b[0m\u001b[0;34m[\u001b[0m\u001b[0mnp\u001b[0m\u001b[0;34m.\u001b[0m\u001b[0mouter\u001b[0m\u001b[0;34m(\u001b[0m\u001b[0mepsilon\u001b[0m\u001b[0;34m,\u001b[0m \u001b[0mepsilon\u001b[0m\u001b[0;34m)\u001b[0m \u001b[0;34m+\u001b[0m \u001b[0mself\u001b[0m\u001b[0;34m.\u001b[0m\u001b[0mC\u001b[0m \u001b[0;34m@\u001b[0m \u001b[0mPpred\u001b[0m\u001b[0;34m[\u001b[0m\u001b[0midx\u001b[0m\u001b[0;34m]\u001b[0m \u001b[0;34m@\u001b[0m \u001b[0mself\u001b[0m\u001b[0;34m.\u001b[0m\u001b[0mC\u001b[0m\u001b[0;34m.\u001b[0m\u001b[0mT\u001b[0m \u001b[0;32mfor\u001b[0m \u001b[0midx\u001b[0m\u001b[0;34m,\u001b[0m \u001b[0mepsilon\u001b[0m \u001b[0;32min\u001b[0m \u001b[0menumerate\u001b[0m\u001b[0;34m(\u001b[0m\u001b[0minnovations\u001b[0m\u001b[0;34m)\u001b[0m\u001b[0;34m]\u001b[0m\u001b[0;34m,\u001b[0m \u001b[0maxis\u001b[0m\u001b[0;34m=\u001b[0m\u001b[0;36m0\u001b[0m\u001b[0;34m)\u001b[0m\u001b[0;34m\u001b[0m\u001b[0;34m\u001b[0m\u001b[0m\n",
      "\u001b[0m\u001b[0;32m    500 \u001b[0;31m        \u001b[0mpdb\u001b[0m\u001b[0;34m.\u001b[0m\u001b[0mset_trace\u001b[0m\u001b[0;34m(\u001b[0m\u001b[0;34m)\u001b[0m\u001b[0;34m\u001b[0m\u001b[0;34m\u001b[0m\u001b[0m\n",
      "\u001b[0m\u001b[0;32m--> 501 \u001b[0;31m        self.update_parameters(A = A, \n",
      "\u001b[0m\u001b[0;32m    502 \u001b[0;31m                               \u001b[0mC\u001b[0m \u001b[0;34m=\u001b[0m \u001b[0mC\u001b[0m\u001b[0;34m,\u001b[0m\u001b[0;34m\u001b[0m\u001b[0;34m\u001b[0m\u001b[0m\n",
      "\u001b[0m\u001b[0;32m    503 \u001b[0;31m                               \u001b[0mK\u001b[0m \u001b[0;34m=\u001b[0m \u001b[0mK\u001b[0m\u001b[0;34m,\u001b[0m\u001b[0;34m\u001b[0m\u001b[0;34m\u001b[0m\u001b[0m\n",
      "\u001b[0m\n",
      "(19, 10)\n",
      "(10, 10)\n",
      "Iteration 1, Log Likelihood: -5311204.564048\n"
     ]
    },
    {
     "name": "stderr",
     "output_type": "stream",
     "text": [
      "100%|██████████| 100/100 [05:26<00:00,  3.26s/it]\n"
     ]
    },
    {
     "name": "stdout",
     "output_type": "stream",
     "text": [
      "> \u001b[0;32m/home/akumar/nse/neural_control/em.py\u001b[0m(501)\u001b[0;36mM\u001b[0;34m()\u001b[0m\n",
      "\u001b[0;32m    499 \u001b[0;31m        \u001b[0mR\u001b[0m \u001b[0;34m=\u001b[0m \u001b[0mnp\u001b[0m\u001b[0;34m.\u001b[0m\u001b[0mmean\u001b[0m\u001b[0;34m(\u001b[0m\u001b[0;34m[\u001b[0m\u001b[0mnp\u001b[0m\u001b[0;34m.\u001b[0m\u001b[0mouter\u001b[0m\u001b[0;34m(\u001b[0m\u001b[0mepsilon\u001b[0m\u001b[0;34m,\u001b[0m \u001b[0mepsilon\u001b[0m\u001b[0;34m)\u001b[0m \u001b[0;34m+\u001b[0m \u001b[0mself\u001b[0m\u001b[0;34m.\u001b[0m\u001b[0mC\u001b[0m \u001b[0;34m@\u001b[0m \u001b[0mPpred\u001b[0m\u001b[0;34m[\u001b[0m\u001b[0midx\u001b[0m\u001b[0;34m]\u001b[0m \u001b[0;34m@\u001b[0m \u001b[0mself\u001b[0m\u001b[0;34m.\u001b[0m\u001b[0mC\u001b[0m\u001b[0;34m.\u001b[0m\u001b[0mT\u001b[0m \u001b[0;32mfor\u001b[0m \u001b[0midx\u001b[0m\u001b[0;34m,\u001b[0m \u001b[0mepsilon\u001b[0m \u001b[0;32min\u001b[0m \u001b[0menumerate\u001b[0m\u001b[0;34m(\u001b[0m\u001b[0minnovations\u001b[0m\u001b[0;34m)\u001b[0m\u001b[0;34m]\u001b[0m\u001b[0;34m,\u001b[0m \u001b[0maxis\u001b[0m\u001b[0;34m=\u001b[0m\u001b[0;36m0\u001b[0m\u001b[0;34m)\u001b[0m\u001b[0;34m\u001b[0m\u001b[0;34m\u001b[0m\u001b[0m\n",
      "\u001b[0m\u001b[0;32m    500 \u001b[0;31m        \u001b[0mpdb\u001b[0m\u001b[0;34m.\u001b[0m\u001b[0mset_trace\u001b[0m\u001b[0;34m(\u001b[0m\u001b[0;34m)\u001b[0m\u001b[0;34m\u001b[0m\u001b[0;34m\u001b[0m\u001b[0m\n",
      "\u001b[0m\u001b[0;32m--> 501 \u001b[0;31m        self.update_parameters(A = A, \n",
      "\u001b[0m\u001b[0;32m    502 \u001b[0;31m                               \u001b[0mC\u001b[0m \u001b[0;34m=\u001b[0m \u001b[0mC\u001b[0m\u001b[0;34m,\u001b[0m\u001b[0;34m\u001b[0m\u001b[0;34m\u001b[0m\u001b[0m\n",
      "\u001b[0m\u001b[0;32m    503 \u001b[0;31m                               \u001b[0mK\u001b[0m \u001b[0;34m=\u001b[0m \u001b[0mK\u001b[0m\u001b[0;34m,\u001b[0m\u001b[0;34m\u001b[0m\u001b[0;34m\u001b[0m\u001b[0m\n",
      "\u001b[0m\n",
      "Iteration 2, Log Likelihood: -164948.379887\n"
     ]
    },
    {
     "name": "stderr",
     "output_type": "stream",
     "text": [
      "100%|██████████| 100/100 [05:26<00:00,  3.27s/it]\n"
     ]
    },
    {
     "name": "stdout",
     "output_type": "stream",
     "text": [
      "> \u001b[0;32m/home/akumar/nse/neural_control/em.py\u001b[0m(501)\u001b[0;36mM\u001b[0;34m()\u001b[0m\n",
      "\u001b[0;32m    499 \u001b[0;31m        \u001b[0mR\u001b[0m \u001b[0;34m=\u001b[0m \u001b[0mnp\u001b[0m\u001b[0;34m.\u001b[0m\u001b[0mmean\u001b[0m\u001b[0;34m(\u001b[0m\u001b[0;34m[\u001b[0m\u001b[0mnp\u001b[0m\u001b[0;34m.\u001b[0m\u001b[0mouter\u001b[0m\u001b[0;34m(\u001b[0m\u001b[0mepsilon\u001b[0m\u001b[0;34m,\u001b[0m \u001b[0mepsilon\u001b[0m\u001b[0;34m)\u001b[0m \u001b[0;34m+\u001b[0m \u001b[0mself\u001b[0m\u001b[0;34m.\u001b[0m\u001b[0mC\u001b[0m \u001b[0;34m@\u001b[0m \u001b[0mPpred\u001b[0m\u001b[0;34m[\u001b[0m\u001b[0midx\u001b[0m\u001b[0;34m]\u001b[0m \u001b[0;34m@\u001b[0m \u001b[0mself\u001b[0m\u001b[0;34m.\u001b[0m\u001b[0mC\u001b[0m\u001b[0;34m.\u001b[0m\u001b[0mT\u001b[0m \u001b[0;32mfor\u001b[0m \u001b[0midx\u001b[0m\u001b[0;34m,\u001b[0m \u001b[0mepsilon\u001b[0m \u001b[0;32min\u001b[0m \u001b[0menumerate\u001b[0m\u001b[0;34m(\u001b[0m\u001b[0minnovations\u001b[0m\u001b[0;34m)\u001b[0m\u001b[0;34m]\u001b[0m\u001b[0;34m,\u001b[0m \u001b[0maxis\u001b[0m\u001b[0;34m=\u001b[0m\u001b[0;36m0\u001b[0m\u001b[0;34m)\u001b[0m\u001b[0;34m\u001b[0m\u001b[0;34m\u001b[0m\u001b[0m\n",
      "\u001b[0m\u001b[0;32m    500 \u001b[0;31m        \u001b[0mpdb\u001b[0m\u001b[0;34m.\u001b[0m\u001b[0mset_trace\u001b[0m\u001b[0;34m(\u001b[0m\u001b[0;34m)\u001b[0m\u001b[0;34m\u001b[0m\u001b[0;34m\u001b[0m\u001b[0m\n",
      "\u001b[0m\u001b[0;32m--> 501 \u001b[0;31m        self.update_parameters(A = A, \n",
      "\u001b[0m\u001b[0;32m    502 \u001b[0;31m                               \u001b[0mC\u001b[0m \u001b[0;34m=\u001b[0m \u001b[0mC\u001b[0m\u001b[0;34m,\u001b[0m\u001b[0;34m\u001b[0m\u001b[0;34m\u001b[0m\u001b[0m\n",
      "\u001b[0m\u001b[0;32m    503 \u001b[0;31m                               \u001b[0mK\u001b[0m \u001b[0;34m=\u001b[0m \u001b[0mK\u001b[0m\u001b[0;34m,\u001b[0m\u001b[0;34m\u001b[0m\u001b[0;34m\u001b[0m\u001b[0m\n",
      "\u001b[0m\n",
      "Iteration 3, Log Likelihood: -162634.772434\n"
     ]
    },
    {
     "name": "stderr",
     "output_type": "stream",
     "text": [
      "100%|██████████| 100/100 [05:22<00:00,  3.22s/it]\n"
     ]
    },
    {
     "name": "stdout",
     "output_type": "stream",
     "text": [
      "> \u001b[0;32m/home/akumar/nse/neural_control/em.py\u001b[0m(501)\u001b[0;36mM\u001b[0;34m()\u001b[0m\n",
      "\u001b[0;32m    499 \u001b[0;31m\u001b[0;34m\u001b[0m\u001b[0m\n",
      "\u001b[0m\u001b[0;32m    500 \u001b[0;31m        \u001b[0;31m#     A = IteratedStableEstimator.solve_qp(A, x0, x1)\u001b[0m\u001b[0;34m\u001b[0m\u001b[0;34m\u001b[0m\u001b[0;34m\u001b[0m\u001b[0m\n",
      "\u001b[0m\u001b[0;32m--> 501 \u001b[0;31m\u001b[0;34m\u001b[0m\u001b[0m\n",
      "\u001b[0m\u001b[0;32m    502 \u001b[0;31m\u001b[0;34m\u001b[0m\u001b[0m\n",
      "\u001b[0m\u001b[0;32m    503 \u001b[0;31m\u001b[0;34m\u001b[0m\u001b[0m\n",
      "\u001b[0m\n",
      "Iteration 4, Log Likelihood: -162632.879888\n"
     ]
    },
    {
     "name": "stderr",
     "output_type": "stream",
     "text": [
      "100%|██████████| 100/100 [05:12<00:00,  3.13s/it]\n"
     ]
    },
    {
     "name": "stdout",
     "output_type": "stream",
     "text": [
      "> \u001b[0;32m/home/akumar/nse/neural_control/em.py\u001b[0m(501)\u001b[0;36mM\u001b[0;34m()\u001b[0m\n",
      "\u001b[0;32m    499 \u001b[0;31m\u001b[0;34m\u001b[0m\u001b[0m\n",
      "\u001b[0m\u001b[0;32m    500 \u001b[0;31m        \u001b[0;31m#     A = IteratedStableEstimator.solve_qp(A, x0, x1)\u001b[0m\u001b[0;34m\u001b[0m\u001b[0;34m\u001b[0m\u001b[0;34m\u001b[0m\u001b[0m\n",
      "\u001b[0m\u001b[0;32m--> 501 \u001b[0;31m\u001b[0;34m\u001b[0m\u001b[0m\n",
      "\u001b[0m\u001b[0;32m    502 \u001b[0;31m\u001b[0;34m\u001b[0m\u001b[0m\n",
      "\u001b[0m\u001b[0;32m    503 \u001b[0;31m\u001b[0;34m\u001b[0m\u001b[0m\n",
      "\u001b[0m\n",
      "Iteration 5, Log Likelihood: -162632.833856\n"
     ]
    },
    {
     "name": "stderr",
     "output_type": "stream",
     "text": [
      "100%|██████████| 100/100 [05:09<00:00,  3.10s/it]\n"
     ]
    },
    {
     "name": "stdout",
     "output_type": "stream",
     "text": [
      "> \u001b[0;32m/home/akumar/nse/neural_control/em.py\u001b[0m(501)\u001b[0;36mM\u001b[0;34m()\u001b[0m\n",
      "\u001b[0;32m    499 \u001b[0;31m\u001b[0;34m\u001b[0m\u001b[0m\n",
      "\u001b[0m\u001b[0;32m    500 \u001b[0;31m        \u001b[0;31m#     A = IteratedStableEstimator.solve_qp(A, x0, x1)\u001b[0m\u001b[0;34m\u001b[0m\u001b[0;34m\u001b[0m\u001b[0;34m\u001b[0m\u001b[0m\n",
      "\u001b[0m\u001b[0;32m--> 501 \u001b[0;31m\u001b[0;34m\u001b[0m\u001b[0m\n",
      "\u001b[0m\u001b[0;32m    502 \u001b[0;31m\u001b[0;34m\u001b[0m\u001b[0m\n",
      "\u001b[0m\u001b[0;32m    503 \u001b[0;31m\u001b[0;34m\u001b[0m\u001b[0m\n",
      "\u001b[0m\n"
     ]
    },
    {
     "ename": "BdbQuit",
     "evalue": "",
     "output_type": "error",
     "traceback": [
      "\u001b[0;31m---------------------------------------------------------------------------\u001b[0m",
      "\u001b[0;31mBdbQuit\u001b[0m                                   Traceback (most recent call last)",
      "\u001b[0;32m/tmp/ipykernel_20115/2433791476.py\u001b[0m in \u001b[0;36m<module>\u001b[0;34m\u001b[0m\n\u001b[0;32m----> 1\u001b[0;31m \u001b[0marmamodel\u001b[0m\u001b[0;34m.\u001b[0m\u001b[0mfit\u001b[0m\u001b[0;34m(\u001b[0m\u001b[0my\u001b[0m\u001b[0;34m,\u001b[0m \u001b[0;36m19\u001b[0m\u001b[0;34m)\u001b[0m\u001b[0;34m\u001b[0m\u001b[0;34m\u001b[0m\u001b[0m\n\u001b[0m",
      "\u001b[0;32m~/nse/neural_control/em.py\u001b[0m in \u001b[0;36mfit\u001b[0;34m(self, y, state_dim, **init_kwargs)\u001b[0m\n\u001b[1;32m    216\u001b[0m         \u001b[0;32mwhile\u001b[0m \u001b[0miter\u001b[0m \u001b[0;34m<\u001b[0m \u001b[0mself\u001b[0m\u001b[0;34m.\u001b[0m\u001b[0mmax_iter\u001b[0m \u001b[0;32mand\u001b[0m \u001b[0mtol\u001b[0m \u001b[0;34m>\u001b[0m \u001b[0mself\u001b[0m\u001b[0;34m.\u001b[0m\u001b[0mtol\u001b[0m\u001b[0;34m:\u001b[0m\u001b[0;34m\u001b[0m\u001b[0;34m\u001b[0m\u001b[0m\n\u001b[1;32m    217\u001b[0m             \u001b[0mM_args\u001b[0m\u001b[0;34m,\u001b[0m \u001b[0mlogll\u001b[0m \u001b[0;34m=\u001b[0m \u001b[0mself\u001b[0m\u001b[0;34m.\u001b[0m\u001b[0mE\u001b[0m\u001b[0;34m(\u001b[0m\u001b[0my\u001b[0m\u001b[0;34m)\u001b[0m\u001b[0;34m\u001b[0m\u001b[0;34m\u001b[0m\u001b[0m\n\u001b[0;32m--> 218\u001b[0;31m             \u001b[0mself\u001b[0m\u001b[0;34m.\u001b[0m\u001b[0mM\u001b[0m\u001b[0;34m(\u001b[0m\u001b[0my\u001b[0m\u001b[0;34m,\u001b[0m \u001b[0;34m*\u001b[0m\u001b[0mM_args\u001b[0m\u001b[0;34m)\u001b[0m\u001b[0;34m\u001b[0m\u001b[0;34m\u001b[0m\u001b[0m\n\u001b[0m\u001b[1;32m    219\u001b[0m             \u001b[0miter\u001b[0m \u001b[0;34m+=\u001b[0m \u001b[0;36m1\u001b[0m\u001b[0;34m\u001b[0m\u001b[0;34m\u001b[0m\u001b[0m\n\u001b[1;32m    220\u001b[0m             \u001b[0mprint\u001b[0m\u001b[0;34m(\u001b[0m\u001b[0;34m'Iteration %d, Log Likelihood: %f'\u001b[0m \u001b[0;34m%\u001b[0m \u001b[0;34m(\u001b[0m\u001b[0miter\u001b[0m\u001b[0;34m,\u001b[0m \u001b[0mlogll\u001b[0m\u001b[0;34m)\u001b[0m\u001b[0;34m)\u001b[0m\u001b[0;34m\u001b[0m\u001b[0;34m\u001b[0m\u001b[0m\n",
      "\u001b[0;32m~/nse/neural_control/em.py\u001b[0m in \u001b[0;36mM\u001b[0;34m(self, y, musmooth, Psmooth, Ppred, innovations)\u001b[0m\n\u001b[1;32m    499\u001b[0m \u001b[0;34m\u001b[0m\u001b[0m\n\u001b[1;32m    500\u001b[0m         \u001b[0;31m#     A = IteratedStableEstimator.solve_qp(A, x0, x1)\u001b[0m\u001b[0;34m\u001b[0m\u001b[0;34m\u001b[0m\u001b[0;34m\u001b[0m\u001b[0m\n\u001b[0;32m--> 501\u001b[0;31m \u001b[0;34m\u001b[0m\u001b[0m\n\u001b[0m\u001b[1;32m    502\u001b[0m \u001b[0;34m\u001b[0m\u001b[0m\n\u001b[1;32m    503\u001b[0m \u001b[0;34m\u001b[0m\u001b[0m\n",
      "\u001b[0;32m~/nse/neural_control/em.py\u001b[0m in \u001b[0;36mM\u001b[0;34m(self, y, musmooth, Psmooth, Ppred, innovations)\u001b[0m\n\u001b[1;32m    499\u001b[0m \u001b[0;34m\u001b[0m\u001b[0m\n\u001b[1;32m    500\u001b[0m         \u001b[0;31m#     A = IteratedStableEstimator.solve_qp(A, x0, x1)\u001b[0m\u001b[0;34m\u001b[0m\u001b[0;34m\u001b[0m\u001b[0;34m\u001b[0m\u001b[0m\n\u001b[0;32m--> 501\u001b[0;31m \u001b[0;34m\u001b[0m\u001b[0m\n\u001b[0m\u001b[1;32m    502\u001b[0m \u001b[0;34m\u001b[0m\u001b[0m\n\u001b[1;32m    503\u001b[0m \u001b[0;34m\u001b[0m\u001b[0m\n",
      "\u001b[0;32m~/anaconda3/envs/dyn/lib/python3.7/bdb.py\u001b[0m in \u001b[0;36mtrace_dispatch\u001b[0;34m(self, frame, event, arg)\u001b[0m\n\u001b[1;32m     86\u001b[0m             \u001b[0;32mreturn\u001b[0m \u001b[0;31m# None\u001b[0m\u001b[0;34m\u001b[0m\u001b[0;34m\u001b[0m\u001b[0m\n\u001b[1;32m     87\u001b[0m         \u001b[0;32mif\u001b[0m \u001b[0mevent\u001b[0m \u001b[0;34m==\u001b[0m \u001b[0;34m'line'\u001b[0m\u001b[0;34m:\u001b[0m\u001b[0;34m\u001b[0m\u001b[0;34m\u001b[0m\u001b[0m\n\u001b[0;32m---> 88\u001b[0;31m             \u001b[0;32mreturn\u001b[0m \u001b[0mself\u001b[0m\u001b[0;34m.\u001b[0m\u001b[0mdispatch_line\u001b[0m\u001b[0;34m(\u001b[0m\u001b[0mframe\u001b[0m\u001b[0;34m)\u001b[0m\u001b[0;34m\u001b[0m\u001b[0;34m\u001b[0m\u001b[0m\n\u001b[0m\u001b[1;32m     89\u001b[0m         \u001b[0;32mif\u001b[0m \u001b[0mevent\u001b[0m \u001b[0;34m==\u001b[0m \u001b[0;34m'call'\u001b[0m\u001b[0;34m:\u001b[0m\u001b[0;34m\u001b[0m\u001b[0;34m\u001b[0m\u001b[0m\n\u001b[1;32m     90\u001b[0m             \u001b[0;32mreturn\u001b[0m \u001b[0mself\u001b[0m\u001b[0;34m.\u001b[0m\u001b[0mdispatch_call\u001b[0m\u001b[0;34m(\u001b[0m\u001b[0mframe\u001b[0m\u001b[0;34m,\u001b[0m \u001b[0marg\u001b[0m\u001b[0;34m)\u001b[0m\u001b[0;34m\u001b[0m\u001b[0;34m\u001b[0m\u001b[0m\n",
      "\u001b[0;32m~/anaconda3/envs/dyn/lib/python3.7/bdb.py\u001b[0m in \u001b[0;36mdispatch_line\u001b[0;34m(self, frame)\u001b[0m\n\u001b[1;32m    111\u001b[0m         \u001b[0;32mif\u001b[0m \u001b[0mself\u001b[0m\u001b[0;34m.\u001b[0m\u001b[0mstop_here\u001b[0m\u001b[0;34m(\u001b[0m\u001b[0mframe\u001b[0m\u001b[0;34m)\u001b[0m \u001b[0;32mor\u001b[0m \u001b[0mself\u001b[0m\u001b[0;34m.\u001b[0m\u001b[0mbreak_here\u001b[0m\u001b[0;34m(\u001b[0m\u001b[0mframe\u001b[0m\u001b[0;34m)\u001b[0m\u001b[0;34m:\u001b[0m\u001b[0;34m\u001b[0m\u001b[0;34m\u001b[0m\u001b[0m\n\u001b[1;32m    112\u001b[0m             \u001b[0mself\u001b[0m\u001b[0;34m.\u001b[0m\u001b[0muser_line\u001b[0m\u001b[0;34m(\u001b[0m\u001b[0mframe\u001b[0m\u001b[0;34m)\u001b[0m\u001b[0;34m\u001b[0m\u001b[0;34m\u001b[0m\u001b[0m\n\u001b[0;32m--> 113\u001b[0;31m             \u001b[0;32mif\u001b[0m \u001b[0mself\u001b[0m\u001b[0;34m.\u001b[0m\u001b[0mquitting\u001b[0m\u001b[0;34m:\u001b[0m \u001b[0;32mraise\u001b[0m \u001b[0mBdbQuit\u001b[0m\u001b[0;34m\u001b[0m\u001b[0;34m\u001b[0m\u001b[0m\n\u001b[0m\u001b[1;32m    114\u001b[0m         \u001b[0;32mreturn\u001b[0m \u001b[0mself\u001b[0m\u001b[0;34m.\u001b[0m\u001b[0mtrace_dispatch\u001b[0m\u001b[0;34m\u001b[0m\u001b[0;34m\u001b[0m\u001b[0m\n\u001b[1;32m    115\u001b[0m \u001b[0;34m\u001b[0m\u001b[0m\n",
      "\u001b[0;31mBdbQuit\u001b[0m: "
     ]
    }
   ],
   "source": [
    "armamodel.fit(y, 19)"
   ]
  },
  {
   "cell_type": "code",
   "execution_count": 9,
   "metadata": {},
   "outputs": [],
   "source": [
    "from em import _em_ACK\n",
    "from tqdm import tqdm"
   ]
  },
  {
   "cell_type": "code",
   "execution_count": 10,
   "metadata": {},
   "outputs": [],
   "source": [
    "import time\n",
    "import traceback"
   ]
  },
  {
   "cell_type": "code",
   "execution_count": 11,
   "metadata": {},
   "outputs": [
    {
     "name": "stderr",
     "output_type": "stream",
     "text": [
      "  0%|          | 0/5 [00:00<?, ?it/s]../../em.py:43: ComplexWarning: Casting complex values to real discards the imaginary part\n",
      "  Psqrt_pred[i] = Psqrt_pred_\n",
      "../../em.py:44: ComplexWarning: Casting complex values to real discards the imaginary part\n",
      "  Ppred[i] = Psqrt_pred_ @ Psqrt_pred_.T\n",
      "../../em.py:58: ComplexWarning: Casting complex values to real discards the imaginary part\n",
      "  Psqrt_filt[i] = Psqrt_filt_\n",
      "../../em.py:87: ComplexWarning: Casting complex values to real discards the imaginary part\n",
      "  Psmooth[i] = Psqrt_smooth @ Psqrt_smooth.T\n",
      "../../em.py:355: UserWarning: torch.cholesky is deprecated in favor of torch.linalg.cholesky and will be removed in a future PyTorch release.\n",
      "L = torch.cholesky(A)\n",
      "should be replaced with\n",
      "L = torch.linalg.cholesky(A)\n",
      "and\n",
      "U = torch.cholesky(A, upper=True)\n",
      "should be replaced with\n",
      "U = torch.linalg.cholesky(A.transpose(-2, -1).conj()).transpose(-2, -1).conj() (Triggered internally at  /opt/conda/conda-bld/pytorch_1623448224956/work/aten/src/ATen/native/BatchLinearAlgebra.cpp:1284.)\n",
      "  self.Psqrt0 = torch.cholesky(torch.tensor(P0)).float()\n",
      "/home/akumar/anaconda3/envs/dyn/lib/python3.7/site-packages/torch/functional.py:1403: UserWarning: torch.chain_matmul is deprecated and will be removed in a future PyTorch release. Use torch.linalg.multi_dot instead, which accepts a list of two or more tensors rather than multiple parameters. (Triggered internally at  /opt/conda/conda-bld/pytorch_1623448224956/work/aten/src/ATen/native/LinearAlgebra.cpp:697.)\n",
      "  return _VF.chain_matmul(matrices)  # type: ignore[attr-defined]\n",
      "100%|██████████| 100/100 [04:21<00:00,  2.61s/it]\n",
      "100%|██████████| 100/100 [04:20<00:00,  2.60s/it]\n",
      "100%|██████████| 100/100 [04:21<00:00,  2.62s/it]\n",
      "100%|██████████| 100/100 [05:25<00:00,  3.25s/it]\n"
     ]
    }
   ],
   "source": [
    "# Separate out the M step optimization by producing many trajectories, doing SSID initialization, and then calling _em_ACK. Keep track of losses \n",
    "# Try 3 cases - state dim too small, state dim well matched, state dim too large\n",
    "\n",
    "\n",
    "reps = 5\n",
    "optim = ['Adam', 'Adadelta', 'RMSprop']\n",
    "\n",
    "loss_history = []\n",
    "\n",
    "for i in tqdm(range(reps)):\n",
    "    y = ssr.trajectory(int(1e4))    \n",
    "    armamodel = ARMAStateSpaceML()\n",
    "    armamodel.init_params(y, 15)\n",
    "    (musmooth, Psmooth, Ppred, innovations), logll = armamodel.E(y)\n",
    "\n",
    "    for optim_ in optim:\n",
    "        t0 = time.time()\n",
    "        A, C, K, loss = _em_ACK(y, armamodel.A, armamodel.C, armamodel.K, armamodel.x0, armamodel.Sigma0, optim_)\n",
    "        t1 = time.time() - t0\n",
    "        loss_history.append({'rep':i, 'state_dim':15, 'optim':optim_, 'A_spect':np.linalg.eigvals(A), 'loss':loss, 't':t1})\n",
    "        # except:\n",
    "        #     traceback.print_exc()\n",
    "        #     #loss_history.append({'rep':i, 'state_dim':15, 'optim':optim_, 'A_spect':np.linalg.eigvals(A), 'loss':loss, 't':t1})\n",
    "\n",
    "\n",
    "\n",
    "    armamodel = ARMAStateSpaceML()\n",
    "    armamodel.init_params(y, 20)\n",
    "\n",
    "    for optim_ in optim:\n",
    "        t0 = time.time()\n",
    "        A, C, K, loss = _em_ACK(y, armamodel.A, armamodel.C, armamodel.K, armamodel.x0, armamodel.Sigma0, optim_)\n",
    "        t1 = time.time() - t0\n",
    "        loss_history.append({'rep':i, 'state_dim':20, 'optim':optim_, 'A_spect':np.linalg.eigvals(A), 'loss':loss, 't':t1})\n",
    "        # except:\n",
    "        #     traceback.print_exc()\n",
    "\n",
    "\n",
    "\n",
    "    armamodel = ARMAStateSpaceML()\n",
    "    armamodel.init_params(y, 25)\n",
    "\n",
    "    for optim_ in optim:\n",
    "        t0 = time.time()\n",
    "        A, C, K, loss = _em_ACK(y, armamodel.A, armamodel.C, armamodel.K, armamodel.x0, armamodel.Sigma0, optim_)\n",
    "        t1 = time.time() - t0\n",
    "        loss_history.append({'rep':i, 'state_dim':25, 'optim':optim_, 'A_spect':np.linalg.eigvals(A), 'loss':loss, 't':t1})\n",
    "        # except:\n",
    "        #     traceback.print_exc()"
   ]
  },
  {
   "cell_type": "code",
   "execution_count": null,
   "metadata": {},
   "outputs": [
    {
     "ename": "Error",
     "evalue": "Session cannot generate requests",
     "output_type": "error",
     "traceback": [
      "Error: Session cannot generate requests",
      "at S.executeCodeCell (/home/akumar/.vscode/extensions/ms-toolsai.jupyter-2021.10.1101450599/out/client/extension.js:66:301742)",
      "at S.execute (/home/akumar/.vscode/extensions/ms-toolsai.jupyter-2021.10.1101450599/out/client/extension.js:66:300732)",
      "at S.start (/home/akumar/.vscode/extensions/ms-toolsai.jupyter-2021.10.1101450599/out/client/extension.js:66:296408)",
      "at runMicrotasks (<anonymous>)",
      "at processTicksAndRejections (internal/process/task_queues.js:93:5)",
      "at async t.CellExecutionQueue.executeQueuedCells (/home/akumar/.vscode/extensions/ms-toolsai.jupyter-2021.10.1101450599/out/client/extension.js:66:312326)",
      "at async t.CellExecutionQueue.start (/home/akumar/.vscode/extensions/ms-toolsai.jupyter-2021.10.1101450599/out/client/extension.js:66:311862)"
     ]
    }
   ],
   "source": [
    "'a'"
   ]
  },
  {
   "cell_type": "code",
   "execution_count": null,
   "metadata": {},
   "outputs": [],
   "source": []
  }
 ],
 "metadata": {
  "interpreter": {
   "hash": "c52494c424e88c3f855a8aeb34b231af4706f7aa247f66fb47c890a5ab8814ab"
  },
  "kernelspec": {
   "display_name": "Python 3.7.6 64-bit ('dyn': conda)",
   "language": "python",
   "name": "python3"
  },
  "language_info": {
   "codemirror_mode": {
    "name": "ipython",
    "version": 3
   },
   "file_extension": ".py",
   "mimetype": "text/x-python",
   "name": "python",
   "nbconvert_exporter": "python",
   "pygments_lexer": "ipython3",
   "version": "3.7.10"
  },
  "orig_nbformat": 4
 },
 "nbformat": 4,
 "nbformat_minor": 2
}
