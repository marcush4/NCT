{
 "cells": [
  {
   "cell_type": "code",
   "execution_count": 2,
   "metadata": {},
   "outputs": [],
   "source": [
    "%load_ext autoreload\n",
    "%autoreload 2"
   ]
  },
  {
   "cell_type": "code",
   "execution_count": 3,
   "metadata": {},
   "outputs": [],
   "source": [
    "import pdb\n",
    "import sys\n",
    "import numpy as np\n",
    "import matplotlib.pyplot as plt\n",
    "import scipy \n",
    "import time\n",
    "import glob\n",
    "import pickle\n",
    "import pandas as pd\n",
    "from tqdm import tqdm\n",
    "import itertools\n",
    "\n",
    "from sklearn.linear_model import LinearRegression, LogisticRegression\n",
    "from sklearn.decomposition import PCA\n",
    "from sklearn.model_selection import KFold\n",
    "\n",
    "\n",
    "sys.path.append('/home/akumar/nse/neural_control')\n",
    "from utils import apply_df_filters, calc_loadings\n",
    "\n",
    "from loaders import load_peanut\n",
    "from decoders import lr_decoder"
   ]
  },
  {
   "cell_type": "code",
   "execution_count": 6,
   "metadata": {},
   "outputs": [
    {
     "name": "stderr",
     "output_type": "stream",
     "text": [
      "35it [00:12,  2.70it/s]\n"
     ]
    }
   ],
   "source": [
    "with open('/mnt/Secondary/data/postprocessed/sabes_M1subtrunc_svm_df.pkl', 'rb') as f:\n",
    "    rl = pickle.load(f)\n",
    "df = pd.DataFrame(rl)\n",
    "\n",
    "# Filter by start time truncation only\n",
    "filt = [idx for idx in range(df.shape[0]) \n",
    "        if df.iloc[idx]['loader_args']['subset'] is None and df.iloc[idx]['loader_args']['truncate_start'] is True]\n",
    "df = df.iloc[filt]\n",
    "\n",
    "data_files = np.unique(df['data_file'].values)\n",
    "dims = np.unique(df['dim'].values)\n",
    "\n",
    "r2fc = np.zeros((len(data_files), dims.size, 5))\n",
    "r2pca = np.zeros((len(data_files), dims.size, 5))\n",
    "\n",
    "for i, data_file in tqdm(enumerate(data_files)):\n",
    "    for j, dim in enumerate(dims):               \n",
    "        for f in range(5):\n",
    "            dim_fold_df = apply_df_filters(df, data_file=data_file, dim=dim, fold_idx=f, dimreduc_method='LQGCA')\n",
    "            assert(dim_fold_df.shape[0] == 1)\n",
    "            r2fc[i, j, f] = dim_fold_df.iloc[0]['r2'][1]\n",
    "            pca_df = apply_df_filters(df, data_file=data_file, dim=dim, fold_idx=f, dimreduc_method='PCA')\n",
    "            assert(pca_df.shape[0] == 1)\n",
    "            r2pca[i, j, f] = pca_df.iloc[0]['r2'][1]"
   ]
  },
  {
   "cell_type": "code",
   "execution_count": 5,
   "metadata": {},
   "outputs": [
    {
     "ename": "NameError",
     "evalue": "name 'dims' is not defined",
     "output_type": "error",
     "traceback": [
      "\u001b[0;31m---------------------------------------------------------------------------\u001b[0m",
      "\u001b[0;31mNameError\u001b[0m                                 Traceback (most recent call last)",
      "Input \u001b[0;32mIn [5]\u001b[0m, in \u001b[0;36m<cell line: 7>\u001b[0;34m()\u001b[0m\n\u001b[1;32m      3\u001b[0m \u001b[38;5;66;03m# Average across folds and plot\u001b[39;00m\n\u001b[1;32m      4\u001b[0m \u001b[38;5;66;03m# REINSERT OLS(5) IN HERE IF NEEDED\u001b[39;00m\n\u001b[1;32m      6\u001b[0m colors \u001b[38;5;241m=\u001b[39m [\u001b[38;5;124m'\u001b[39m\u001b[38;5;124mblack\u001b[39m\u001b[38;5;124m'\u001b[39m, \u001b[38;5;124m'\u001b[39m\u001b[38;5;124mred\u001b[39m\u001b[38;5;124m'\u001b[39m, \u001b[38;5;124m'\u001b[39m\u001b[38;5;124m#781820\u001b[39m\u001b[38;5;124m'\u001b[39m, \u001b[38;5;124m'\u001b[39m\u001b[38;5;124m#5563fa\u001b[39m\u001b[38;5;124m'\u001b[39m]\n\u001b[0;32m----> 7\u001b[0m dim_vals \u001b[38;5;241m=\u001b[39m \u001b[43mdims\u001b[49m\n\u001b[1;32m      9\u001b[0m \u001b[38;5;66;03m# # DCA averaged over folds\u001b[39;00m\n\u001b[1;32m     10\u001b[0m \u001b[38;5;66;03m# dca_r2 = np.nanmean(r2[:, :, 1, :, 1], axis=2)\u001b[39;00m\n\u001b[1;32m     11\u001b[0m \u001b[38;5;66;03m# # KCA averaged over folds\u001b[39;00m\n\u001b[1;32m     12\u001b[0m \u001b[38;5;66;03m# kca_r2 = np.nanmean(r2[:, :, 2, :, 1], axis=2)\u001b[39;00m\n\u001b[1;32m     13\u001b[0m \n\u001b[1;32m     14\u001b[0m \u001b[38;5;66;03m# FCCA averaged over folds\u001b[39;00m\n\u001b[1;32m     15\u001b[0m fca_r2 \u001b[38;5;241m=\u001b[39m np\u001b[38;5;241m.\u001b[39mnanmean(r2fc[:, ::\u001b[38;5;241m2\u001b[39m, :], axis\u001b[38;5;241m=\u001b[39m\u001b[38;5;241m2\u001b[39m)\n",
      "\u001b[0;31mNameError\u001b[0m: name 'dims' is not defined"
     ]
    },
    {
     "data": {
      "image/png": "[encoded data removed]",
      "text/plain": [
       "<Figure size 400x400 with 1 Axes>"
      ]
     },
     "metadata": {},
     "output_type": "display_data"
    }
   ],
   "source": [
    "fig, ax = plt.subplots(1, 1, figsize=(4, 4))\n",
    "\n",
    "# Average across folds and plot\n",
    "# REINSERT OLS(5) IN HERE IF NEEDED\n",
    "\n",
    "colors = ['black', 'red', '#781820', '#5563fa']\n",
    "dim_vals = dims\n",
    "\n",
    "# # DCA averaged over folds\n",
    "# dca_r2 = np.nanmean(r2[:, :, 1, :, 1], axis=2)\n",
    "# # KCA averaged over folds\n",
    "# kca_r2 = np.nanmean(r2[:, :, 2, :, 1], axis=2)\n",
    "\n",
    "# FCCA averaged over folds\n",
    "fca_r2 = np.nanmean(r2fc[:, ::2, :], axis=2)\n",
    "# PCA\n",
    "pca_r2 = np.nanmean(r2pca[:, ::2, :], axis=2)\n",
    "ax.fill_between(dim_vals[::2], np.nanmean(fca_r2, axis=0) + np.nanstd(fca_r2, axis=0)/np.sqrt(35),\n",
    "                np.nanmean(fca_r2, axis=0) - np.nanstd(fca_r2, axis=0)/np.sqrt(35), color=colors[1], alpha=0.25)\n",
    "ax.plot(dim_vals[::2], np.nanmean(fca_r2, axis=0), color=colors[1])\n",
    "\n",
    "ax.fill_between(dim_vals[::2], np.nanmean(pca_r2, axis=0) + np.nanstd(pca_r2, axis=0)/np.sqrt(35),\n",
    "                np.nanmean(pca_r2, axis=0) - np.nanstd(pca_r2, axis=0)/np.sqrt(35), color=colors[0], alpha=0.25)\n",
    "ax.plot(dim_vals[::2], np.nanmean(pca_r2, axis=0), color=colors[0])\n",
    "fig.savefig('/home/akumar/nse/neural_control/figs/revisions/SVMdecoding.pdf', bbox_inches='tight', pad_inches=0)"
   ]
  },
  {
   "cell_type": "code",
   "execution_count": null,
   "metadata": {},
   "outputs": [],
   "source": []
  }
 ],
 "metadata": {
  "kernelspec": {
   "display_name": "ncontrol",
   "language": "python",
   "name": "python3"
  },
  "language_info": {
   "codemirror_mode": {
    "name": "ipython",
    "version": 3
   },
   "file_extension": ".py",
   "mimetype": "text/x-python",
   "name": "python",
   "nbconvert_exporter": "python",
   "pygments_lexer": "ipython3",
   "version": "3.9.13"
  }
 },
 "nbformat": 4,
 "nbformat_minor": 2
}
