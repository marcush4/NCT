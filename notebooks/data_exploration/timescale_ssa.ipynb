{
 "cells": [
  {
   "cell_type": "code",
   "execution_count": 1,
   "metadata": {},
   "outputs": [],
   "source": [
    "%load_ext autoreload\n",
    "%autoreload 2"
   ]
  },
  {
   "cell_type": "code",
   "execution_count": 2,
   "metadata": {},
   "outputs": [],
   "source": [
    "import pdb\n",
    "import numpy as np\n",
    "import matplotlib.pyplot as plt\n",
    "import scipy \n",
    "import time\n",
    "import glob\n",
    "import sys\n",
    "import pickle\n",
    "import pandas as pd\n",
    "from tqdm import tqdm\n",
    "from sklearn.linear_model import LinearRegression"
   ]
  },
  {
   "cell_type": "code",
   "execution_count": 3,
   "metadata": {},
   "outputs": [],
   "source": [
    "import itertools\n",
    "from sklearn.model_selection import KFold\n",
    "from statsmodels.tsa.stattools import acf"
   ]
  },
  {
   "cell_type": "code",
   "execution_count": 4,
   "metadata": {},
   "outputs": [
    {
     "name": "stderr",
     "output_type": "stream",
     "text": [
      "/home/akumar/anaconda3/envs/ncontrol/lib/python3.9/site-packages/tqdm/auto.py:22: TqdmWarning: IProgress not found. Please update jupyter and ipywidgets. See https://ipywidgets.readthedocs.io/en/stable/user_install.html\n",
      "  from .autonotebook import tqdm as notebook_tqdm\n"
     ]
    }
   ],
   "source": [
    "sys.path.append('/home/akumar/nse/neural_control')\n",
    "from utils import apply_df_filters, calc_loadings\n",
    "from loaders import load_sabes\n",
    "from segmentation import reach_segment_sabes\n",
    "from decoders import lr_decode_windowed, expand_state_space"
   ]
  },
  {
   "cell_type": "code",
   "execution_count": 10,
   "metadata": {},
   "outputs": [],
   "source": [
    "with open('/mnt/Secondary/data/postprocessed/timescale_dimreduc_df.dat', 'rb') as f:\n",
    "    df = pickle.load(f)\n",
    "df = pd.DataFrame(df)"
   ]
  },
  {
   "cell_type": "code",
   "execution_count": 11,
   "metadata": {},
   "outputs": [],
   "source": [
    "# For each data file and combination of decoder args, get the average single unit autocorrelation times and the subspace angles across dimension\n",
    "loader_args = [{'bin_width':100, 'filter_fn':'none', 'filter_kwargs':{}, 'boxcox':0.5, 'spike_threshold':100, 'region':'M1'},\n",
    "               {'bin_width':50, 'filter_fn':'none', 'filter_kwargs':{}, 'boxcox':0.5, 'spike_threshold':100, 'region':'M1'},\n",
    "               {'bin_width':25, 'filter_fn':'none', 'filter_kwargs':{}, 'boxcox':0.5, 'spike_threshold':100, 'region':'M1'}]\n",
    "\n",
    "for bin_width in [25, 50, 100]:\n",
    "    for window_length in [5, 10, 20]:\n",
    "        loader_args.append({'bin_width':bin_width, 'filter_fn':'window', 'filter_kwargs':{'window_name':'hann', 'window_length':window_length}, 'boxcox':0.5, 'spike_threshold':100, 'region':'M1'})\n",
    "\n",
    "dims = np.array([2, 4, 6, 10])\n",
    "data_files = np.unique(df['data_file'].values)"
   ]
  },
  {
   "cell_type": "code",
   "execution_count": 25,
   "metadata": {},
   "outputs": [],
   "source": [
    "def get_acf_time(x, dt, thresh=0.1):\n",
    "    ac = acf(x, adjusted=True)\n",
    "    try:\n",
    "        idx = np.argwhere(ac < thresh)[0][0]\n",
    "    except IndexError:\n",
    "        idx = len(ac)\n",
    "    return dt * idx"
   ]
  },
  {
   "cell_type": "code",
   "execution_count": 24,
   "metadata": {},
   "outputs": [
    {
     "name": "stderr",
     "output_type": "stream",
     "text": [
      "0it [00:00, ?it/s]"
     ]
    },
    {
     "name": "stdout",
     "output_type": "stream",
     "text": [
      "> \u001b[0;32m/tmp/ipykernel_26465/1430729888.py\u001b[0m(7)\u001b[0;36mget_acf_time\u001b[0;34m()\u001b[0m\n",
      "\u001b[0;32m      3 \u001b[0;31m    \u001b[0;32mtry\u001b[0m\u001b[0;34m:\u001b[0m\u001b[0;34m\u001b[0m\u001b[0;34m\u001b[0m\u001b[0m\n",
      "\u001b[0m\u001b[0;32m      4 \u001b[0;31m        \u001b[0midx\u001b[0m \u001b[0;34m=\u001b[0m \u001b[0mnp\u001b[0m\u001b[0;34m.\u001b[0m\u001b[0margwhere\u001b[0m\u001b[0;34m(\u001b[0m\u001b[0mac\u001b[0m \u001b[0;34m<\u001b[0m \u001b[0mthresh\u001b[0m\u001b[0;34m)\u001b[0m\u001b[0;34m[\u001b[0m\u001b[0;36m0\u001b[0m\u001b[0;34m]\u001b[0m\u001b[0;34m[\u001b[0m\u001b[0;36m0\u001b[0m\u001b[0;34m]\u001b[0m\u001b[0;34m\u001b[0m\u001b[0;34m\u001b[0m\u001b[0m\n",
      "\u001b[0m\u001b[0;32m      5 \u001b[0;31m    \u001b[0;32mexcept\u001b[0m \u001b[0mIndexError\u001b[0m\u001b[0;34m:\u001b[0m\u001b[0;34m\u001b[0m\u001b[0;34m\u001b[0m\u001b[0m\n",
      "\u001b[0m\u001b[0;32m      6 \u001b[0;31m        \u001b[0mpdb\u001b[0m\u001b[0;34m.\u001b[0m\u001b[0mset_trace\u001b[0m\u001b[0;34m(\u001b[0m\u001b[0;34m)\u001b[0m\u001b[0;34m\u001b[0m\u001b[0;34m\u001b[0m\u001b[0m\n",
      "\u001b[0m\u001b[0;32m----> 7 \u001b[0;31m    \u001b[0;32mreturn\u001b[0m \u001b[0mdt\u001b[0m \u001b[0;34m*\u001b[0m \u001b[0midx\u001b[0m\u001b[0;34m\u001b[0m\u001b[0;34m\u001b[0m\u001b[0m\n",
      "\u001b[0m\n",
      "[<matplotlib.lines.Line2D object at 0x7fa1a2ebc2b0>]\n"
     ]
    },
    {
     "data": {
      "image/png": "[encoded data removed]",
      "text/plain": [
       "<Figure size 640x480 with 1 Axes>"
      ]
     },
     "metadata": {},
     "output_type": "display_data"
    },
    {
     "name": "stdout",
     "output_type": "stream",
     "text": [
      "0.001\n",
      "*** AttributeError: module 'numpy' has no attribute 'arwehre'\n",
      "0.003286555779596947\n"
     ]
    },
    {
     "name": "stderr",
     "output_type": "stream",
     "text": [
      "1it [00:47, 47.24s/it]\n",
      "0it [00:47, ?it/s]\n"
     ]
    }
   ],
   "source": [
    "rl = []\n",
    "for i, loader_arg in tqdm(enumerate(loader_args)):\n",
    "    for j, data_file in tqdm(enumerate(data_files)):\n",
    "        dat = load_sabes('%s/%s' % ('/mnt/Secondary/data/sabes', data_file), **loader_arg)\n",
    "        X = dat['spike_rates'].squeeze()\n",
    "        act = np.array([[get_acf_time(X[:, k], loader_arg['bin_width'], t) for k in range(X.shape[1])] for t in [0.1, 0.05, 0.01, 1/np.e]])\n",
    "        for k, dim in enumerate(dims):\n",
    "            dpca = apply_df_filters(df, data_file=data_file, loader_args=loader_arg, dim=dim, dimreduc_method='PCA')\n",
    "            dfca = apply_df_filters(df, data_file=data_file, loader_args=loader_arg, dim=dim, dimreduc_method='LQGCA')\n",
    "            assert(dpca.shape[0] == 5)\n",
    "            assert(dfca.shape[0] == 5)\n",
    "            ssa_mean = []\n",
    "            ssa_min = []\n",
    "            for h in range(5):\n",
    "                coef_pca = dpca.iloc[h]['coef']\n",
    "                coef_fca = dfca.iloc[h]['coef']\n",
    "                ssa_mean.append(np.mean(scipy.linalg.subspace_angles(coef_pca, coef_fca)))\n",
    "                ssa_min.append(np.min(scipy.linalg.subspace_angles(coef_pca, coef_fca)))\n",
    "            ssa_mean = np.mean(ssa_mean)\n",
    "            ssa_min = np.mean(ssa_min)\n",
    "\n",
    "            r = {}\n",
    "            r['loader_idx'] = i\n",
    "            r['data_file'] = data_file\n",
    "            r['dim'] = dim\n",
    "            r['act'] = act\n",
    "            r['ssa_mean'] = ssa_mean\n",
    "            r['ssa_min'] = ssa_min\n",
    "            rl.append(r)"
   ]
  },
  {
   "cell_type": "code",
   "execution_count": 5,
   "metadata": {},
   "outputs": [],
   "source": [
    "# with open('timescale_ssa_tmp.dat', 'wb') as f:\n",
    "#     f.write(pickle.dumps(rl))\n",
    "with open('timescale_ssa_tmp.dat', 'rb') as f:\n",
    "    rl = pickle.load(f)"
   ]
  },
  {
   "cell_type": "code",
   "execution_count": 6,
   "metadata": {},
   "outputs": [],
   "source": [
    "rl = pd.DataFrame(rl)"
   ]
  },
  {
   "cell_type": "code",
   "execution_count": 7,
   "metadata": {},
   "outputs": [
    {
     "data": {
      "text/plain": [
       "(4, 97)"
      ]
     },
     "execution_count": 7,
     "metadata": {},
     "output_type": "execute_result"
    }
   ],
   "source": [
    "rl.iloc[0]['act'].shape"
   ]
  },
  {
   "cell_type": "code",
   "execution_count": 17,
   "metadata": {},
   "outputs": [],
   "source": [
    "# Average across data files, choose a fixed dimension, plot the d=6 subspace angle as a function of the average autocorrelation time\n",
    "X = np.zeros((len(loader_args), len(data_files)))\n",
    "Y1 = np.zeros((len(loader_args), len(data_files)))\n",
    "Y2 = np.zeros((len(loader_args), len(data_files)))\n",
    "\n",
    "dim = 6\n",
    "\n",
    "for i, loader_arg in enumerate(loader_args):\n",
    "\n",
    "    x = np.zeros(len(data_files))\n",
    "    y1 = np.zeros(len(data_files))\n",
    "    y2 = np.zeros(len(data_files))\n",
    "\n",
    "    for j, data_file in enumerate(data_files):\n",
    "\n",
    "        d = apply_df_filters(rl, data_file=data_file, loader_idx=i, dim=dim)\n",
    "        assert(d.shape[0] == 1)\n",
    "        x[j] = np.mean(d.iloc[0]['act'][-1, :])\n",
    "        y1[j] = d['ssa_mean'].values[0]\n",
    "        y2[j] = d['ssa_min'].values[0]\n",
    "    \n",
    "    X[i, :] = x\n",
    "    Y1[i, :] = y1\n",
    "    Y2[i, :] = y2"
   ]
  },
  {
   "cell_type": "code",
   "execution_count": 27,
   "metadata": {},
   "outputs": [
    {
     "data": {
      "image/png": "[encoded data removed]",
      "text/plain": [
       "<Figure size 400x400 with 1 Axes>"
      ]
     },
     "metadata": {},
     "output_type": "display_data"
    }
   ],
   "source": [
    "fig, ax = plt.subplots(1, 1, figsize=(4, 4))\n",
    "\n",
    "ax.errorbar(np.mean(X, axis=1), np.mean(Y2, axis=1), yerr=np.std(Y2, axis=1), linestyle=\"\", marker='o')\n",
    "ax.set_ylim([0, np.pi/2])\n",
    "ax.set_xlabel('Average Autocorrelation Time (ms)')\n",
    "ax.set_ylabel('Minimum Subspace Angle PCA/FCCA, d=6')\n",
    "fig.savefig('/home/akumar/nse/neural_control/figs/timescale_ssa.pdf', bbox_inches='tight', pad_inches=0)\n"
   ]
  },
  {
   "cell_type": "code",
   "execution_count": 41,
   "metadata": {},
   "outputs": [
    {
     "data": {
      "text/plain": [
       "LinregressResult(slope=-0.0002252836496959664, intercept=1.0138491083937367, rvalue=-0.2883198947343911, pvalue=0.36345170133737525, stderr=0.0002365970536115382, intercept_stderr=0.08026742695024619)"
      ]
     },
     "execution_count": 41,
     "metadata": {},
     "output_type": "execute_result"
    }
   ],
   "source": [
    "scipy.stats.linregress(X, Y2b)"
   ]
  },
  {
   "cell_type": "code",
   "execution_count": 30,
   "metadata": {},
   "outputs": [
    {
     "name": "stdout",
     "output_type": "stream",
     "text": [
      "0\n",
      "96\n",
      "0\n",
      "0\n",
      "0\n",
      "0\n",
      "0\n",
      "0\n",
      "0\n",
      "0\n",
      "0\n",
      "0\n",
      "0\n",
      "0\n",
      "0\n",
      "0\n",
      "0\n",
      "0\n",
      "0\n",
      "0\n",
      "0\n",
      "0\n",
      "0\n",
      "0\n",
      "0\n",
      "0\n",
      "0\n",
      "0\n",
      "96\n",
      "96\n",
      "96\n",
      "96\n",
      "96\n",
      "96\n",
      "96\n",
      "96\n",
      "96\n",
      "96\n"
     ]
    }
   ],
   "source": [
    "# How many single units in M1/S1\n",
    "data_files = glob.glob('/mnt/Secondary/data/sabes/*.mat')\n",
    "M1_su = []\n",
    "S1_su = []\n",
    "for data_file in data_files:\n",
    "    dat = load_sabes(data_file, region='M1')\n",
    "    M1_su.append(dat['spike_rates'].squeeze().shape[1])\n",
    "    dat = load_sabes(data_file, region='S1')\n",
    "    S1_su.append(dat['spike_rates'].squeeze().shape[1])"
   ]
  },
  {
   "cell_type": "code",
   "execution_count": 32,
   "metadata": {},
   "outputs": [
    {
     "data": {
      "text/plain": [
       "97"
      ]
     },
     "execution_count": 32,
     "metadata": {},
     "output_type": "execute_result"
    }
   ],
   "source": [
    "min(M1_su)"
   ]
  },
  {
   "cell_type": "code",
   "execution_count": 33,
   "metadata": {},
   "outputs": [
    {
     "data": {
      "text/plain": [
       "200"
      ]
     },
     "execution_count": 33,
     "metadata": {},
     "output_type": "execute_result"
    }
   ],
   "source": [
    "max(M1_su)"
   ]
  },
  {
   "cell_type": "code",
   "execution_count": 36,
   "metadata": {},
   "outputs": [],
   "source": [
    "S1_su = np.array(S1_su)[np.array(S1_su) > 0]"
   ]
  },
  {
   "cell_type": "code",
   "execution_count": 37,
   "metadata": {},
   "outputs": [
    {
     "data": {
      "text/plain": [
       "86"
      ]
     },
     "execution_count": 37,
     "metadata": {},
     "output_type": "execute_result"
    }
   ],
   "source": [
    "min(S1_su)"
   ]
  },
  {
   "cell_type": "code",
   "execution_count": 38,
   "metadata": {},
   "outputs": [
    {
     "data": {
      "text/plain": [
       "187"
      ]
     },
     "execution_count": 38,
     "metadata": {},
     "output_type": "execute_result"
    }
   ],
   "source": [
    "max(S1_su)"
   ]
  },
  {
   "cell_type": "code",
   "execution_count": null,
   "metadata": {},
   "outputs": [],
   "source": []
  }
 ],
 "metadata": {
  "kernelspec": {
   "display_name": "ncontrol",
   "language": "python",
   "name": "python3"
  },
  "language_info": {
   "codemirror_mode": {
    "name": "ipython",
    "version": 3
   },
   "file_extension": ".py",
   "mimetype": "text/x-python",
   "name": "python",
   "nbconvert_exporter": "python",
   "pygments_lexer": "ipython3",
   "version": "3.9.13"
  },
  "orig_nbformat": 4
 },
 "nbformat": 4,
 "nbformat_minor": 2
}
