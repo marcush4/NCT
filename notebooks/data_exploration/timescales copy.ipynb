{
 "cells": [
  {
   "cell_type": "code",
   "execution_count": 1,
   "metadata": {},
   "outputs": [],
   "source": [
    "%load_ext autoreload\n",
    "%autoreload 2"
   ]
  },
  {
   "cell_type": "code",
   "execution_count": 2,
   "metadata": {},
   "outputs": [
    {
     "name": "stderr",
     "output_type": "stream",
     "text": [
      "/home/akumar/anaconda3/envs/ncontrol/lib/python3.9/site-packages/tqdm/auto.py:22: TqdmWarning: IProgress not found. Please update jupyter and ipywidgets. See https://ipywidgets.readthedocs.io/en/stable/user_install.html\n",
      "  from .autonotebook import tqdm as notebook_tqdm\n"
     ]
    }
   ],
   "source": [
    "import numpy as np\n",
    "import scipy\n",
    "import matplotlib.pyplot as plt\n",
    "import time\n",
    "import sys\n",
    "import pickle\n",
    "import pandas as pd\n",
    "from tqdm import tqdm\n",
    "from sklearn.decomposition import PCA\n",
    "from sklearn.cross_decomposition import CCA\n",
    "from dca.cov_util import form_lag_matrix, calc_cross_cov_mats_from_data\n",
    "import glob\n",
    "import pdb\n",
    "from statsmodels.tsa import stattools\n",
    "from dca_research.lqg import LQGComponentsAnalysis as LQGCA"
   ]
  },
  {
   "cell_type": "code",
   "execution_count": 3,
   "metadata": {},
   "outputs": [],
   "source": [
    "from pyuoi.linear_model.var import VAR"
   ]
  },
  {
   "cell_type": "code",
   "execution_count": 4,
   "metadata": {},
   "outputs": [],
   "source": [
    "sys.path.append('/home/akumar/nse/neural_control')\n",
    "from loaders import load_sabes\n",
    "from decoders import lr_decoder\n",
    "from utils import apply_df_filters"
   ]
  },
  {
   "cell_type": "code",
   "execution_count": 5,
   "metadata": {},
   "outputs": [],
   "source": [
    "# Time scale analysis: \n",
    "# A few questions:\n",
    "# (1) Use the subspaces derived at fast timescales to assess coupling/decoding at slower/the same timescales\n",
    "# (2) Use subspaces derived at slow timeslcaes to assess coupling/decoding at same/faster time scales\n",
    "# (3) Types of analyses:\n",
    "# (a) Decoding vs. dim, decoding vs. t --> By \"decoding\" at slower timescales, we could try some kind of smoothing\n",
    "# (b) Time-resolved CCA, look at the different populations of neurons"
   ]
  },
  {
   "cell_type": "markdown",
   "metadata": {},
   "source": [
    "### Preprocess and save"
   ]
  },
  {
   "cell_type": "code",
   "execution_count": 47,
   "metadata": {},
   "outputs": [],
   "source": [
    "# Select the indy data file that has both M1/S1 and one loco datafile that seems to give decent decoding performance\n",
    "data_files = ['/mnt/Secondary/data/sabes/indy_20160426_01.mat', '/mnt/Secondary/data/sabes/loco_20170227_04.mat']"
   ]
  },
  {
   "cell_type": "code",
   "execution_count": 9,
   "metadata": {},
   "outputs": [
    {
     "name": "stderr",
     "output_type": "stream",
     "text": [
      "0it [00:00, ?it/s]"
     ]
    },
    {
     "name": "stdout",
     "output_type": "stream",
     "text": [
      "Skipping\n",
      "Skipping\n",
      "Skipping\n",
      "Skipping\n",
      "Skipping\n",
      "Skipping\n",
      "Skipping\n",
      "Skipping\n",
      "Skipping\n",
      "Skipping\n",
      "Skipping\n",
      "Skipping\n",
      "Skipping\n",
      "Skipping\n",
      "Loading M1\n",
      "Loading S1\n",
      "96\n"
     ]
    },
    {
     "name": "stderr",
     "output_type": "stream",
     "text": [
      "15it [03:36, 14.41s/it]"
     ]
    },
    {
     "name": "stdout",
     "output_type": "stream",
     "text": [
      "Loading M1\n",
      "Loading S1\n",
      "96\n"
     ]
    },
    {
     "name": "stderr",
     "output_type": "stream",
     "text": [
      "16it [07:12, 32.01s/it]"
     ]
    },
    {
     "name": "stdout",
     "output_type": "stream",
     "text": [
      "Loading M1\n",
      "Loading S1\n",
      "96\n"
     ]
    },
    {
     "name": "stderr",
     "output_type": "stream",
     "text": [
      "17it [10:47, 52.20s/it]"
     ]
    },
    {
     "name": "stdout",
     "output_type": "stream",
     "text": [
      "Loading M1\n",
      "Loading S1\n",
      "96\n"
     ]
    },
    {
     "name": "stderr",
     "output_type": "stream",
     "text": [
      "18it [12:35, 59.77s/it]"
     ]
    },
    {
     "name": "stdout",
     "output_type": "stream",
     "text": [
      "Loading M1\n",
      "Loading S1\n",
      "96\n"
     ]
    },
    {
     "name": "stderr",
     "output_type": "stream",
     "text": [
      "19it [14:23, 67.60s/it]"
     ]
    },
    {
     "name": "stdout",
     "output_type": "stream",
     "text": [
      "Loading M1\n",
      "Loading S1\n",
      "96\n"
     ]
    },
    {
     "name": "stderr",
     "output_type": "stream",
     "text": [
      "20it [16:11, 75.19s/it]"
     ]
    },
    {
     "name": "stdout",
     "output_type": "stream",
     "text": [
      "Loading M1\n",
      "Loading S1\n",
      "96\n"
     ]
    },
    {
     "name": "stderr",
     "output_type": "stream",
     "text": [
      "21it [16:54, 68.47s/it]"
     ]
    },
    {
     "name": "stdout",
     "output_type": "stream",
     "text": [
      "Loading M1\n",
      "Loading S1\n",
      "96\n"
     ]
    },
    {
     "name": "stderr",
     "output_type": "stream",
     "text": [
      "22it [17:37, 62.63s/it]"
     ]
    },
    {
     "name": "stdout",
     "output_type": "stream",
     "text": [
      "Loading M1\n",
      "Loading S1\n",
      "96\n"
     ]
    },
    {
     "name": "stderr",
     "output_type": "stream",
     "text": [
      "23it [18:22, 58.00s/it]"
     ]
    },
    {
     "name": "stdout",
     "output_type": "stream",
     "text": [
      "Loading M1\n",
      "Loading S1\n",
      "96\n"
     ]
    },
    {
     "name": "stderr",
     "output_type": "stream",
     "text": [
      "24it [21:56, 99.25s/it]"
     ]
    },
    {
     "name": "stdout",
     "output_type": "stream",
     "text": [
      "Loading M1\n",
      "Loading S1\n",
      "96\n"
     ]
    },
    {
     "name": "stderr",
     "output_type": "stream",
     "text": [
      "25it [25:30, 130.53s/it]"
     ]
    },
    {
     "name": "stdout",
     "output_type": "stream",
     "text": [
      "Loading M1\n",
      "Loading S1\n",
      "96\n"
     ]
    },
    {
     "name": "stderr",
     "output_type": "stream",
     "text": [
      "26it [29:05, 154.07s/it]"
     ]
    },
    {
     "name": "stdout",
     "output_type": "stream",
     "text": [
      "Loading M1\n",
      "Loading S1\n",
      "96\n"
     ]
    },
    {
     "name": "stderr",
     "output_type": "stream",
     "text": [
      "27it [30:52, 140.68s/it]"
     ]
    },
    {
     "name": "stdout",
     "output_type": "stream",
     "text": [
      "Loading M1\n",
      "Loading S1\n",
      "96\n"
     ]
    },
    {
     "name": "stderr",
     "output_type": "stream",
     "text": [
      "28it [32:39, 130.84s/it]"
     ]
    },
    {
     "name": "stdout",
     "output_type": "stream",
     "text": [
      "Loading M1\n",
      "Loading S1\n",
      "96\n"
     ]
    },
    {
     "name": "stderr",
     "output_type": "stream",
     "text": [
      "29it [34:27, 124.14s/it]"
     ]
    },
    {
     "name": "stdout",
     "output_type": "stream",
     "text": [
      "Loading M1\n",
      "Loading S1\n",
      "96\n"
     ]
    },
    {
     "name": "stderr",
     "output_type": "stream",
     "text": [
      "30it [35:10, 100.40s/it]"
     ]
    },
    {
     "name": "stdout",
     "output_type": "stream",
     "text": [
      "Loading M1\n",
      "Loading S1\n",
      "96\n"
     ]
    },
    {
     "name": "stderr",
     "output_type": "stream",
     "text": [
      "31it [35:54, 83.54s/it] "
     ]
    },
    {
     "name": "stdout",
     "output_type": "stream",
     "text": [
      "Loading M1\n",
      "Loading S1\n",
      "96\n"
     ]
    },
    {
     "name": "stderr",
     "output_type": "stream",
     "text": [
      "32it [36:37, 68.68s/it]\n",
      "0it [00:00, ?it/s]"
     ]
    },
    {
     "name": "stdout",
     "output_type": "stream",
     "text": [
      "Loading M1\n",
      "Loading S1\n",
      "96\n"
     ]
    },
    {
     "name": "stderr",
     "output_type": "stream",
     "text": [
      "1it [04:12, 252.28s/it]"
     ]
    },
    {
     "name": "stdout",
     "output_type": "stream",
     "text": [
      "Loading M1\n",
      "Loading S1\n",
      "96\n"
     ]
    },
    {
     "name": "stderr",
     "output_type": "stream",
     "text": [
      "2it [06:18, 178.21s/it]"
     ]
    },
    {
     "name": "stdout",
     "output_type": "stream",
     "text": [
      "Loading M1\n",
      "Loading S1\n",
      "96\n"
     ]
    },
    {
     "name": "stderr",
     "output_type": "stream",
     "text": [
      "3it [07:42, 135.23s/it]"
     ]
    },
    {
     "name": "stdout",
     "output_type": "stream",
     "text": [
      "Loading M1\n",
      "Loading S1\n",
      "96\n"
     ]
    },
    {
     "name": "stderr",
     "output_type": "stream",
     "text": [
      "4it [08:34, 102.31s/it]"
     ]
    },
    {
     "name": "stdout",
     "output_type": "stream",
     "text": [
      "Loading M1\n",
      "Loading S1\n",
      "96\n"
     ]
    },
    {
     "name": "stderr",
     "output_type": "stream",
     "text": [
      "5it [09:00, 74.64s/it] "
     ]
    },
    {
     "name": "stdout",
     "output_type": "stream",
     "text": [
      "Loading M1\n",
      "Loading S1\n",
      "96\n"
     ]
    },
    {
     "name": "stderr",
     "output_type": "stream",
     "text": [
      "6it [13:15, 136.06s/it]"
     ]
    },
    {
     "name": "stdout",
     "output_type": "stream",
     "text": [
      "Loading M1\n",
      "Loading S1\n",
      "96\n"
     ]
    },
    {
     "name": "stderr",
     "output_type": "stream",
     "text": [
      "7it [17:30, 175.04s/it]"
     ]
    },
    {
     "name": "stdout",
     "output_type": "stream",
     "text": [
      "Loading M1\n",
      "Loading S1\n",
      "96\n"
     ]
    },
    {
     "name": "stderr",
     "output_type": "stream",
     "text": [
      "8it [21:47, 201.13s/it]"
     ]
    },
    {
     "name": "stdout",
     "output_type": "stream",
     "text": [
      "Loading M1\n",
      "Loading S1\n",
      "96\n"
     ]
    },
    {
     "name": "stderr",
     "output_type": "stream",
     "text": [
      "9it [23:55, 178.34s/it]"
     ]
    },
    {
     "name": "stdout",
     "output_type": "stream",
     "text": [
      "Loading M1\n",
      "Loading S1\n",
      "96\n"
     ]
    },
    {
     "name": "stderr",
     "output_type": "stream",
     "text": [
      "10it [26:04, 163.00s/it]"
     ]
    },
    {
     "name": "stdout",
     "output_type": "stream",
     "text": [
      "Loading M1\n",
      "Loading S1\n",
      "96\n"
     ]
    },
    {
     "name": "stderr",
     "output_type": "stream",
     "text": [
      "11it [28:13, 152.54s/it]"
     ]
    },
    {
     "name": "stdout",
     "output_type": "stream",
     "text": [
      "Loading M1\n",
      "Loading S1\n",
      "96\n"
     ]
    },
    {
     "name": "stderr",
     "output_type": "stream",
     "text": [
      "12it [29:05, 121.84s/it]"
     ]
    },
    {
     "name": "stdout",
     "output_type": "stream",
     "text": [
      "Loading M1\n",
      "Loading S1\n",
      "96\n"
     ]
    },
    {
     "name": "stderr",
     "output_type": "stream",
     "text": [
      "13it [29:57, 100.83s/it]"
     ]
    },
    {
     "name": "stdout",
     "output_type": "stream",
     "text": [
      "Loading M1\n",
      "Loading S1\n",
      "96\n"
     ]
    },
    {
     "name": "stderr",
     "output_type": "stream",
     "text": [
      "14it [30:49, 86.00s/it] "
     ]
    },
    {
     "name": "stdout",
     "output_type": "stream",
     "text": [
      "Loading M1\n",
      "Loading S1\n",
      "96\n"
     ]
    },
    {
     "name": "stderr",
     "output_type": "stream",
     "text": [
      "15it [35:03, 136.79s/it]"
     ]
    },
    {
     "name": "stdout",
     "output_type": "stream",
     "text": [
      "Loading M1\n",
      "Loading S1\n",
      "96\n"
     ]
    },
    {
     "name": "stderr",
     "output_type": "stream",
     "text": [
      "16it [39:18, 172.28s/it]"
     ]
    },
    {
     "name": "stdout",
     "output_type": "stream",
     "text": [
      "Loading M1\n",
      "Loading S1\n",
      "96\n"
     ]
    },
    {
     "name": "stderr",
     "output_type": "stream",
     "text": [
      "17it [43:33, 197.21s/it]"
     ]
    },
    {
     "name": "stdout",
     "output_type": "stream",
     "text": [
      "Loading M1\n",
      "Loading S1\n",
      "96\n"
     ]
    },
    {
     "name": "stderr",
     "output_type": "stream",
     "text": [
      "18it [45:41, 176.41s/it]"
     ]
    },
    {
     "name": "stdout",
     "output_type": "stream",
     "text": [
      "Loading M1\n",
      "Loading S1\n",
      "96\n"
     ]
    },
    {
     "name": "stderr",
     "output_type": "stream",
     "text": [
      "19it [47:49, 161.90s/it]"
     ]
    },
    {
     "name": "stdout",
     "output_type": "stream",
     "text": [
      "Loading M1\n",
      "Loading S1\n",
      "96\n"
     ]
    },
    {
     "name": "stderr",
     "output_type": "stream",
     "text": [
      "20it [49:56, 151.38s/it]"
     ]
    },
    {
     "name": "stdout",
     "output_type": "stream",
     "text": [
      "Loading M1\n",
      "Loading S1\n",
      "96\n"
     ]
    },
    {
     "name": "stderr",
     "output_type": "stream",
     "text": [
      "21it [50:47, 121.33s/it]"
     ]
    },
    {
     "name": "stdout",
     "output_type": "stream",
     "text": [
      "Loading M1\n",
      "Loading S1\n",
      "96\n"
     ]
    },
    {
     "name": "stderr",
     "output_type": "stream",
     "text": [
      "22it [51:40, 100.65s/it]"
     ]
    },
    {
     "name": "stdout",
     "output_type": "stream",
     "text": [
      "Loading M1\n",
      "Loading S1\n",
      "96\n"
     ]
    },
    {
     "name": "stderr",
     "output_type": "stream",
     "text": [
      "23it [52:32, 86.15s/it] "
     ]
    },
    {
     "name": "stdout",
     "output_type": "stream",
     "text": [
      "Loading M1\n",
      "Loading S1\n",
      "96\n"
     ]
    },
    {
     "name": "stderr",
     "output_type": "stream",
     "text": [
      "24it [56:46, 136.33s/it]"
     ]
    },
    {
     "name": "stdout",
     "output_type": "stream",
     "text": [
      "Loading M1\n",
      "Loading S1\n",
      "96\n"
     ]
    },
    {
     "name": "stderr",
     "output_type": "stream",
     "text": [
      "25it [1:00:59, 171.51s/it]"
     ]
    },
    {
     "name": "stdout",
     "output_type": "stream",
     "text": [
      "Loading M1\n",
      "Loading S1\n",
      "96\n"
     ]
    },
    {
     "name": "stderr",
     "output_type": "stream",
     "text": [
      "26it [1:05:14, 196.62s/it]"
     ]
    },
    {
     "name": "stdout",
     "output_type": "stream",
     "text": [
      "Loading M1\n",
      "Loading S1\n",
      "96\n"
     ]
    },
    {
     "name": "stderr",
     "output_type": "stream",
     "text": [
      "27it [1:07:21, 175.79s/it]"
     ]
    },
    {
     "name": "stdout",
     "output_type": "stream",
     "text": [
      "Loading M1\n",
      "Loading S1\n",
      "96\n"
     ]
    },
    {
     "name": "stderr",
     "output_type": "stream",
     "text": [
      "28it [1:09:29, 161.36s/it]"
     ]
    },
    {
     "name": "stdout",
     "output_type": "stream",
     "text": [
      "Loading M1\n",
      "Loading S1\n",
      "96\n"
     ]
    },
    {
     "name": "stderr",
     "output_type": "stream",
     "text": [
      "29it [1:11:38, 151.45s/it]"
     ]
    },
    {
     "name": "stdout",
     "output_type": "stream",
     "text": [
      "Loading M1\n",
      "Loading S1\n",
      "96\n"
     ]
    },
    {
     "name": "stderr",
     "output_type": "stream",
     "text": [
      "30it [1:12:29, 121.44s/it]"
     ]
    },
    {
     "name": "stdout",
     "output_type": "stream",
     "text": [
      "Loading M1\n",
      "Loading S1\n",
      "96\n"
     ]
    },
    {
     "name": "stderr",
     "output_type": "stream",
     "text": [
      "31it [1:13:21, 100.59s/it]"
     ]
    },
    {
     "name": "stdout",
     "output_type": "stream",
     "text": [
      "Loading M1\n",
      "Loading S1\n",
      "96\n"
     ]
    },
    {
     "name": "stderr",
     "output_type": "stream",
     "text": [
      "32it [1:14:13, 139.16s/it]\n"
     ]
    }
   ],
   "source": [
    "\n",
    "# Collect into bin width and filter param tuples\n",
    "\n",
    "processing_params = [\n",
    "    # Baseline - non-overlapping windows with no window\n",
    "    (5, dict(filter_fn='none', filter_kwargs={})),\n",
    "    (10, dict(filter_fn='none', filter_kwargs={})),\n",
    "    (15, dict(filter_fn='none', filter_kwargs={})),\n",
    "    (25, dict(filter_fn='none', filter_kwargs={})),\n",
    "    (50, dict(filter_fn='none', filter_kwargs={})),\n",
    "\n",
    "    # Narrow bins with smoothing timescales\n",
    "    (5, dict(filter_fn='gaussian', filter_kwargs={'sigma':1})),\n",
    "    (5, dict(filter_fn='gaussian', filter_kwargs={'sigma':3})),\n",
    "    (5, dict(filter_fn='gaussian', filter_kwargs={'sigma':5})),\n",
    "\n",
    "    (10, dict(filter_fn='gaussian', filter_kwargs={'sigma':1})),\n",
    "    (10, dict(filter_fn='gaussian', filter_kwargs={'sigma':3})),\n",
    "    (10, dict(filter_fn='gaussian', filter_kwargs={'sigma':5})),\n",
    "\n",
    "\n",
    "    (25, dict(filter_fn='gaussian', filter_kwargs={'sigma':1})),\n",
    "    (25, dict(filter_fn='gaussian', filter_kwargs={'sigma':3})),\n",
    "    (25, dict(filter_fn='gaussian', filter_kwargs={'sigma':5})),\n",
    "\n",
    "    # Narrow bins with boxcar filter of various widths\n",
    "    (5, dict(filter_fn='window', filter_kwargs={'window_name':'boxcar', 'window_length':3})),\n",
    "    (5, dict(filter_fn='window', filter_kwargs={'window_name':'boxcar', 'window_length':5})),\n",
    "    (5, dict(filter_fn='window', filter_kwargs={'window_name':'boxcar', 'window_length':10})),\n",
    "\n",
    "\n",
    "    (10, dict(filter_fn='window', filter_kwargs={'window_name':'boxcar', 'window_length':3})),\n",
    "    (10, dict(filter_fn='window', filter_kwargs={'window_name':'boxcar', 'window_length':5})),\n",
    "    (10, dict(filter_fn='window', filter_kwargs={'window_name':'boxcar', 'window_length':10})),\n",
    "\n",
    "\n",
    "    (25, dict(filter_fn='window', filter_kwargs={'window_name':'boxcar', 'window_length':3})),\n",
    "    (25, dict(filter_fn='window', filter_kwargs={'window_name':'boxcar', 'window_length':5})),\n",
    "    (25, dict(filter_fn='window', filter_kwargs={'window_name':'boxcar', 'window_length':10})),\n",
    "\n",
    "    # Hann windows\n",
    "    (5, dict(filter_fn='window', filter_kwargs={'window_name':'hann', 'window_length':3})),\n",
    "    (5, dict(filter_fn='window', filter_kwargs={'window_name':'hann', 'window_length':5})),\n",
    "    (5, dict(filter_fn='window', filter_kwargs={'window_name':'hann', 'window_length':10})),\n",
    "\n",
    "\n",
    "    (10, dict(filter_fn='window', filter_kwargs={'window_name':'hann', 'window_length':3})),\n",
    "    (10, dict(filter_fn='window', filter_kwargs={'window_name':'hann', 'window_length':5})),\n",
    "    (10, dict(filter_fn='window', filter_kwargs={'window_name':'hann', 'window_length':10})),\n",
    "\n",
    "\n",
    "    (25, dict(filter_fn='window', filter_kwargs={'window_name':'hann', 'window_length':3})),\n",
    "    (25, dict(filter_fn='window', filter_kwargs={'window_name':'hann', 'window_length':5})),\n",
    "    (25, dict(filter_fn='window', filter_kwargs={'window_name':'hann', 'window_length':10})),\n",
    "]\n",
    "\n",
    "for didx, data_file in enumerate(data_files):\n",
    "    for i, loader_param in tqdm(enumerate(processing_params)):\n",
    "        if os.path.exists('/mnt/Secondary/data/sabes_tmp/didx_%d_loader_idx_%d.pkl' % (didx, i)):\n",
    "            print('Skipping')\n",
    "            continue\n",
    "        else:\n",
    "            print('Loading M1')\n",
    "            datM1 = load_sabes(data_file, bin_width=loader_param[0], filter_fn=loader_param[1]['filter_fn'], filter_kwargs=loader_param[1]['filter_kwargs'], region='M1')\n",
    "            print('Loading S1')\n",
    "            datS1 = load_sabes(data_file, bin_width=loader_param[0], filter_fn=loader_param[1]['filter_fn'], filter_kwargs=loader_param[1]['filter_kwargs'], region='S1')\n",
    "\n",
    "            # Save away with the loader parameters\n",
    "            with open('/mnt/Secondary/data/sabes_tmp/didx_%d_loader_idx_%d.pkl' % (didx, i), 'wb') as f:\n",
    "                f.write(pickle.dumps(datM1))\n",
    "                f.write(pickle.dumps(datS1))\n",
    "                f.write(pickle.dumps(loader_param))"
   ]
  },
  {
   "cell_type": "code",
   "execution_count": 50,
   "metadata": {},
   "outputs": [
    {
     "name": "stderr",
     "output_type": "stream",
     "text": [
      "0it [00:00, ?it/s]"
     ]
    },
    {
     "name": "stdout",
     "output_type": "stream",
     "text": [
      "Loading M1\n",
      "Loading S1\n",
      "96\n"
     ]
    },
    {
     "name": "stderr",
     "output_type": "stream",
     "text": [
      "1it [00:22, 22.61s/it]"
     ]
    },
    {
     "name": "stdout",
     "output_type": "stream",
     "text": [
      "Loading M1\n",
      "Loading S1\n",
      "96\n"
     ]
    },
    {
     "name": "stderr",
     "output_type": "stream",
     "text": [
      "2it [00:34, 16.11s/it]"
     ]
    },
    {
     "name": "stdout",
     "output_type": "stream",
     "text": [
      "Loading M1\n",
      "Loading S1\n",
      "96\n"
     ]
    },
    {
     "name": "stderr",
     "output_type": "stream",
     "text": [
      "3it [00:42, 12.35s/it]"
     ]
    },
    {
     "name": "stdout",
     "output_type": "stream",
     "text": [
      "Loading M1\n",
      "Loading S1\n",
      "96\n"
     ]
    },
    {
     "name": "stderr",
     "output_type": "stream",
     "text": [
      "4it [00:47,  9.44s/it]"
     ]
    },
    {
     "name": "stdout",
     "output_type": "stream",
     "text": [
      "Loading M1\n",
      "Loading S1\n",
      "96\n"
     ]
    },
    {
     "name": "stderr",
     "output_type": "stream",
     "text": [
      "5it [00:49,  7.04s/it]"
     ]
    },
    {
     "name": "stdout",
     "output_type": "stream",
     "text": [
      "Loading M1\n",
      "Loading S1\n",
      "96\n"
     ]
    },
    {
     "name": "stderr",
     "output_type": "stream",
     "text": [
      "6it [01:12, 12.50s/it]"
     ]
    },
    {
     "name": "stdout",
     "output_type": "stream",
     "text": [
      "Loading M1\n",
      "Loading S1\n",
      "96\n"
     ]
    },
    {
     "name": "stderr",
     "output_type": "stream",
     "text": [
      "7it [01:36, 16.12s/it]"
     ]
    },
    {
     "name": "stdout",
     "output_type": "stream",
     "text": [
      "Loading M1\n",
      "Loading S1\n",
      "96\n"
     ]
    },
    {
     "name": "stderr",
     "output_type": "stream",
     "text": [
      "8it [02:00, 18.58s/it]"
     ]
    },
    {
     "name": "stdout",
     "output_type": "stream",
     "text": [
      "Loading M1\n",
      "Loading S1\n",
      "96\n"
     ]
    },
    {
     "name": "stderr",
     "output_type": "stream",
     "text": [
      "9it [02:12, 16.47s/it]"
     ]
    },
    {
     "name": "stdout",
     "output_type": "stream",
     "text": [
      "Loading M1\n",
      "Loading S1\n",
      "96\n"
     ]
    },
    {
     "name": "stderr",
     "output_type": "stream",
     "text": [
      "10it [02:24, 15.13s/it]"
     ]
    },
    {
     "name": "stdout",
     "output_type": "stream",
     "text": [
      "Loading M1\n",
      "Loading S1\n",
      "96\n"
     ]
    },
    {
     "name": "stderr",
     "output_type": "stream",
     "text": [
      "11it [02:36, 14.21s/it]"
     ]
    },
    {
     "name": "stdout",
     "output_type": "stream",
     "text": [
      "Loading M1\n",
      "Loading S1\n",
      "96\n"
     ]
    },
    {
     "name": "stderr",
     "output_type": "stream",
     "text": [
      "12it [02:41, 11.41s/it]"
     ]
    },
    {
     "name": "stdout",
     "output_type": "stream",
     "text": [
      "Loading M1\n",
      "Loading S1\n",
      "96\n"
     ]
    },
    {
     "name": "stderr",
     "output_type": "stream",
     "text": [
      "13it [02:46,  9.50s/it]"
     ]
    },
    {
     "name": "stdout",
     "output_type": "stream",
     "text": [
      "Loading M1\n",
      "Loading S1\n",
      "96\n"
     ]
    },
    {
     "name": "stderr",
     "output_type": "stream",
     "text": [
      "14it [02:51,  8.18s/it]"
     ]
    },
    {
     "name": "stdout",
     "output_type": "stream",
     "text": [
      "Loading M1\n",
      "Loading S1\n",
      "96\n"
     ]
    },
    {
     "name": "stderr",
     "output_type": "stream",
     "text": [
      "15it [03:14, 12.72s/it]"
     ]
    },
    {
     "name": "stdout",
     "output_type": "stream",
     "text": [
      "Loading M1\n",
      "Loading S1\n",
      "96\n"
     ]
    },
    {
     "name": "stderr",
     "output_type": "stream",
     "text": [
      "16it [03:38, 15.93s/it]"
     ]
    },
    {
     "name": "stdout",
     "output_type": "stream",
     "text": [
      "Loading M1\n",
      "Loading S1\n",
      "96\n"
     ]
    },
    {
     "name": "stderr",
     "output_type": "stream",
     "text": [
      "17it [04:01, 18.15s/it]"
     ]
    },
    {
     "name": "stdout",
     "output_type": "stream",
     "text": [
      "Loading M1\n",
      "Loading S1\n",
      "96\n"
     ]
    },
    {
     "name": "stderr",
     "output_type": "stream",
     "text": [
      "18it [04:13, 16.25s/it]"
     ]
    },
    {
     "name": "stdout",
     "output_type": "stream",
     "text": [
      "Loading M1\n",
      "Loading S1\n",
      "96\n"
     ]
    },
    {
     "name": "stderr",
     "output_type": "stream",
     "text": [
      "19it [04:25, 14.91s/it]"
     ]
    },
    {
     "name": "stdout",
     "output_type": "stream",
     "text": [
      "Loading M1\n",
      "Loading S1\n",
      "96\n"
     ]
    },
    {
     "name": "stderr",
     "output_type": "stream",
     "text": [
      "20it [04:37, 14.03s/it]"
     ]
    },
    {
     "name": "stdout",
     "output_type": "stream",
     "text": [
      "Loading M1\n",
      "Loading S1\n",
      "96\n"
     ]
    },
    {
     "name": "stderr",
     "output_type": "stream",
     "text": [
      "21it [04:42, 11.34s/it]"
     ]
    },
    {
     "name": "stdout",
     "output_type": "stream",
     "text": [
      "Loading M1\n",
      "Loading S1\n",
      "96\n"
     ]
    },
    {
     "name": "stderr",
     "output_type": "stream",
     "text": [
      "22it [04:47,  9.45s/it]"
     ]
    },
    {
     "name": "stdout",
     "output_type": "stream",
     "text": [
      "Loading M1\n",
      "Loading S1\n",
      "96\n"
     ]
    },
    {
     "name": "stderr",
     "output_type": "stream",
     "text": [
      "23it [04:52,  8.13s/it]"
     ]
    },
    {
     "name": "stdout",
     "output_type": "stream",
     "text": [
      "Loading M1\n",
      "Loading S1\n",
      "96\n"
     ]
    },
    {
     "name": "stderr",
     "output_type": "stream",
     "text": [
      "24it [05:15, 12.61s/it]"
     ]
    },
    {
     "name": "stdout",
     "output_type": "stream",
     "text": [
      "Loading M1\n",
      "Loading S1\n",
      "96\n"
     ]
    },
    {
     "name": "stderr",
     "output_type": "stream",
     "text": [
      "25it [05:38, 15.85s/it]"
     ]
    },
    {
     "name": "stdout",
     "output_type": "stream",
     "text": [
      "Loading M1\n",
      "Loading S1\n",
      "96\n"
     ]
    },
    {
     "name": "stderr",
     "output_type": "stream",
     "text": [
      "26it [06:02, 18.15s/it]"
     ]
    },
    {
     "name": "stdout",
     "output_type": "stream",
     "text": [
      "Loading M1\n",
      "Loading S1\n",
      "96\n"
     ]
    },
    {
     "name": "stderr",
     "output_type": "stream",
     "text": [
      "27it [06:14, 16.31s/it]"
     ]
    },
    {
     "name": "stdout",
     "output_type": "stream",
     "text": [
      "Loading M1\n",
      "Loading S1\n",
      "96\n"
     ]
    },
    {
     "name": "stderr",
     "output_type": "stream",
     "text": [
      "28it [06:26, 15.01s/it]"
     ]
    },
    {
     "name": "stdout",
     "output_type": "stream",
     "text": [
      "Loading M1\n",
      "Loading S1\n",
      "96\n"
     ]
    },
    {
     "name": "stderr",
     "output_type": "stream",
     "text": [
      "29it [06:38, 14.08s/it]"
     ]
    },
    {
     "name": "stdout",
     "output_type": "stream",
     "text": [
      "Loading M1\n",
      "Loading S1\n",
      "96\n"
     ]
    },
    {
     "name": "stderr",
     "output_type": "stream",
     "text": [
      "30it [06:43, 11.38s/it]"
     ]
    },
    {
     "name": "stdout",
     "output_type": "stream",
     "text": [
      "Loading M1\n",
      "Loading S1\n",
      "96\n"
     ]
    },
    {
     "name": "stderr",
     "output_type": "stream",
     "text": [
      "31it [06:48,  9.50s/it]"
     ]
    },
    {
     "name": "stdout",
     "output_type": "stream",
     "text": [
      "Loading M1\n",
      "Loading S1\n",
      "96\n"
     ]
    },
    {
     "name": "stderr",
     "output_type": "stream",
     "text": [
      "32it [06:53, 12.92s/it]\n",
      "0it [00:00, ?it/s]"
     ]
    },
    {
     "name": "stdout",
     "output_type": "stream",
     "text": [
      "Loading M1\n",
      "Loading S1\n",
      "96\n"
     ]
    },
    {
     "name": "stderr",
     "output_type": "stream",
     "text": [
      "1it [00:33, 33.82s/it]"
     ]
    },
    {
     "name": "stdout",
     "output_type": "stream",
     "text": [
      "Loading M1\n",
      "Loading S1\n",
      "96\n"
     ]
    },
    {
     "name": "stderr",
     "output_type": "stream",
     "text": [
      "2it [00:50, 23.98s/it]"
     ]
    },
    {
     "name": "stdout",
     "output_type": "stream",
     "text": [
      "Loading M1\n",
      "Loading S1\n",
      "96\n"
     ]
    },
    {
     "name": "stderr",
     "output_type": "stream",
     "text": [
      "3it [01:02, 18.41s/it]"
     ]
    },
    {
     "name": "stdout",
     "output_type": "stream",
     "text": [
      "Loading M1\n",
      "Loading S1\n",
      "96\n"
     ]
    },
    {
     "name": "stderr",
     "output_type": "stream",
     "text": [
      "4it [01:09, 13.96s/it]"
     ]
    },
    {
     "name": "stdout",
     "output_type": "stream",
     "text": [
      "Loading M1\n",
      "Loading S1\n",
      "96\n"
     ]
    },
    {
     "name": "stderr",
     "output_type": "stream",
     "text": [
      "5it [01:13, 10.32s/it]"
     ]
    },
    {
     "name": "stdout",
     "output_type": "stream",
     "text": [
      "Loading M1\n",
      "Loading S1\n",
      "96\n"
     ]
    },
    {
     "name": "stderr",
     "output_type": "stream",
     "text": [
      "6it [01:48, 18.62s/it]"
     ]
    },
    {
     "name": "stdout",
     "output_type": "stream",
     "text": [
      "Loading M1\n",
      "Loading S1\n",
      "96\n"
     ]
    },
    {
     "name": "stderr",
     "output_type": "stream",
     "text": [
      "7it [02:23, 23.92s/it]"
     ]
    },
    {
     "name": "stdout",
     "output_type": "stream",
     "text": [
      "Loading M1\n",
      "Loading S1\n",
      "96\n"
     ]
    },
    {
     "name": "stderr",
     "output_type": "stream",
     "text": [
      "8it [02:58, 27.65s/it]"
     ]
    },
    {
     "name": "stdout",
     "output_type": "stream",
     "text": [
      "Loading M1\n",
      "Loading S1\n",
      "96\n"
     ]
    },
    {
     "name": "stderr",
     "output_type": "stream",
     "text": [
      "9it [03:16, 24.45s/it]"
     ]
    },
    {
     "name": "stdout",
     "output_type": "stream",
     "text": [
      "Loading M1\n",
      "Loading S1\n",
      "96\n"
     ]
    },
    {
     "name": "stderr",
     "output_type": "stream",
     "text": [
      "10it [03:33, 22.34s/it]"
     ]
    },
    {
     "name": "stdout",
     "output_type": "stream",
     "text": [
      "Loading M1\n",
      "Loading S1\n",
      "96\n"
     ]
    },
    {
     "name": "stderr",
     "output_type": "stream",
     "text": [
      "11it [03:51, 21.01s/it]"
     ]
    },
    {
     "name": "stdout",
     "output_type": "stream",
     "text": [
      "Loading M1\n",
      "Loading S1\n",
      "96\n"
     ]
    },
    {
     "name": "stderr",
     "output_type": "stream",
     "text": [
      "12it [03:59, 16.83s/it]"
     ]
    },
    {
     "name": "stdout",
     "output_type": "stream",
     "text": [
      "Loading M1\n",
      "Loading S1\n",
      "96\n"
     ]
    },
    {
     "name": "stderr",
     "output_type": "stream",
     "text": [
      "13it [04:06, 13.95s/it]"
     ]
    },
    {
     "name": "stdout",
     "output_type": "stream",
     "text": [
      "Loading M1\n",
      "Loading S1\n",
      "96\n"
     ]
    },
    {
     "name": "stderr",
     "output_type": "stream",
     "text": [
      "14it [04:14, 12.01s/it]"
     ]
    },
    {
     "name": "stdout",
     "output_type": "stream",
     "text": [
      "Loading M1\n",
      "Loading S1\n",
      "96\n"
     ]
    },
    {
     "name": "stderr",
     "output_type": "stream",
     "text": [
      "15it [04:48, 18.84s/it]"
     ]
    },
    {
     "name": "stdout",
     "output_type": "stream",
     "text": [
      "Loading M1\n",
      "Loading S1\n",
      "96\n"
     ]
    },
    {
     "name": "stderr",
     "output_type": "stream",
     "text": [
      "16it [05:23, 23.51s/it]"
     ]
    },
    {
     "name": "stdout",
     "output_type": "stream",
     "text": [
      "Loading M1\n",
      "Loading S1\n",
      "96\n"
     ]
    },
    {
     "name": "stderr",
     "output_type": "stream",
     "text": [
      "17it [05:57, 26.80s/it]"
     ]
    },
    {
     "name": "stdout",
     "output_type": "stream",
     "text": [
      "Loading M1\n",
      "Loading S1\n",
      "96\n"
     ]
    },
    {
     "name": "stderr",
     "output_type": "stream",
     "text": [
      "18it [06:14, 24.00s/it]"
     ]
    },
    {
     "name": "stdout",
     "output_type": "stream",
     "text": [
      "Loading M1\n",
      "Loading S1\n",
      "96\n"
     ]
    },
    {
     "name": "stderr",
     "output_type": "stream",
     "text": [
      "19it [06:32, 22.06s/it]"
     ]
    },
    {
     "name": "stdout",
     "output_type": "stream",
     "text": [
      "Loading M1\n",
      "Loading S1\n",
      "96\n"
     ]
    },
    {
     "name": "stderr",
     "output_type": "stream",
     "text": [
      "20it [06:49, 20.67s/it]"
     ]
    },
    {
     "name": "stdout",
     "output_type": "stream",
     "text": [
      "Loading M1\n",
      "Loading S1\n",
      "96\n"
     ]
    },
    {
     "name": "stderr",
     "output_type": "stream",
     "text": [
      "21it [06:57, 16.64s/it]"
     ]
    },
    {
     "name": "stdout",
     "output_type": "stream",
     "text": [
      "Loading M1\n",
      "Loading S1\n",
      "96\n"
     ]
    },
    {
     "name": "stderr",
     "output_type": "stream",
     "text": [
      "22it [07:04, 13.85s/it]"
     ]
    },
    {
     "name": "stdout",
     "output_type": "stream",
     "text": [
      "Loading M1\n",
      "Loading S1\n",
      "96\n"
     ]
    },
    {
     "name": "stderr",
     "output_type": "stream",
     "text": [
      "23it [07:11, 11.87s/it]"
     ]
    },
    {
     "name": "stdout",
     "output_type": "stream",
     "text": [
      "Loading M1\n",
      "Loading S1\n",
      "96\n"
     ]
    },
    {
     "name": "stderr",
     "output_type": "stream",
     "text": [
      "24it [07:46, 18.63s/it]"
     ]
    },
    {
     "name": "stdout",
     "output_type": "stream",
     "text": [
      "Loading M1\n",
      "Loading S1\n",
      "96\n"
     ]
    },
    {
     "name": "stderr",
     "output_type": "stream",
     "text": [
      "25it [08:20, 23.38s/it]"
     ]
    },
    {
     "name": "stdout",
     "output_type": "stream",
     "text": [
      "Loading M1\n",
      "Loading S1\n",
      "96\n"
     ]
    },
    {
     "name": "stderr",
     "output_type": "stream",
     "text": [
      "26it [08:55, 26.72s/it]"
     ]
    },
    {
     "name": "stdout",
     "output_type": "stream",
     "text": [
      "Loading M1\n",
      "Loading S1\n",
      "96\n"
     ]
    },
    {
     "name": "stderr",
     "output_type": "stream",
     "text": [
      "27it [09:12, 23.90s/it]"
     ]
    },
    {
     "name": "stdout",
     "output_type": "stream",
     "text": [
      "Loading M1\n",
      "Loading S1\n",
      "96\n"
     ]
    },
    {
     "name": "stderr",
     "output_type": "stream",
     "text": [
      "28it [09:30, 22.01s/it]"
     ]
    },
    {
     "name": "stdout",
     "output_type": "stream",
     "text": [
      "Loading M1\n",
      "Loading S1\n",
      "96\n"
     ]
    },
    {
     "name": "stderr",
     "output_type": "stream",
     "text": [
      "29it [09:47, 20.69s/it]"
     ]
    },
    {
     "name": "stdout",
     "output_type": "stream",
     "text": [
      "Loading M1\n",
      "Loading S1\n",
      "96\n"
     ]
    },
    {
     "name": "stderr",
     "output_type": "stream",
     "text": [
      "30it [09:54, 16.66s/it]"
     ]
    },
    {
     "name": "stdout",
     "output_type": "stream",
     "text": [
      "Loading M1\n",
      "Loading S1\n",
      "96\n"
     ]
    },
    {
     "name": "stderr",
     "output_type": "stream",
     "text": [
      "31it [10:02, 13.83s/it]"
     ]
    },
    {
     "name": "stdout",
     "output_type": "stream",
     "text": [
      "Loading M1\n",
      "Loading S1\n",
      "96\n"
     ]
    },
    {
     "name": "stderr",
     "output_type": "stream",
     "text": [
      "32it [10:09, 19.05s/it]\n"
     ]
    }
   ],
   "source": [
    "\n",
    "# Collect into bin width and filter param tuples\n",
    "\n",
    "processing_params = [\n",
    "    # Baseline - non-overlapping windows with no window\n",
    "    (5, dict(filter_fn='none', filter_kwargs={})),\n",
    "    (10, dict(filter_fn='none', filter_kwargs={})),\n",
    "    (15, dict(filter_fn='none', filter_kwargs={})),\n",
    "    (25, dict(filter_fn='none', filter_kwargs={})),\n",
    "    (50, dict(filter_fn='none', filter_kwargs={})),\n",
    "\n",
    "    # Narrow bins with smoothing timescales\n",
    "    (5, dict(filter_fn='gaussian', filter_kwargs={'sigma':1})),\n",
    "    (5, dict(filter_fn='gaussian', filter_kwargs={'sigma':3})),\n",
    "    (5, dict(filter_fn='gaussian', filter_kwargs={'sigma':5})),\n",
    "\n",
    "    (10, dict(filter_fn='gaussian', filter_kwargs={'sigma':1})),\n",
    "    (10, dict(filter_fn='gaussian', filter_kwargs={'sigma':3})),\n",
    "    (10, dict(filter_fn='gaussian', filter_kwargs={'sigma':5})),\n",
    "\n",
    "\n",
    "    (25, dict(filter_fn='gaussian', filter_kwargs={'sigma':1})),\n",
    "    (25, dict(filter_fn='gaussian', filter_kwargs={'sigma':3})),\n",
    "    (25, dict(filter_fn='gaussian', filter_kwargs={'sigma':5})),\n",
    "\n",
    "    # Narrow bins with boxcar filter of various widths\n",
    "    (5, dict(filter_fn='window', filter_kwargs={'window_name':'boxcar', 'window_length':3})),\n",
    "    (5, dict(filter_fn='window', filter_kwargs={'window_name':'boxcar', 'window_length':5})),\n",
    "    (5, dict(filter_fn='window', filter_kwargs={'window_name':'boxcar', 'window_length':10})),\n",
    "\n",
    "\n",
    "    (10, dict(filter_fn='window', filter_kwargs={'window_name':'boxcar', 'window_length':3})),\n",
    "    (10, dict(filter_fn='window', filter_kwargs={'window_name':'boxcar', 'window_length':5})),\n",
    "    (10, dict(filter_fn='window', filter_kwargs={'window_name':'boxcar', 'window_length':10})),\n",
    "\n",
    "\n",
    "    (25, dict(filter_fn='window', filter_kwargs={'window_name':'boxcar', 'window_length':3})),\n",
    "    (25, dict(filter_fn='window', filter_kwargs={'window_name':'boxcar', 'window_length':5})),\n",
    "    (25, dict(filter_fn='window', filter_kwargs={'window_name':'boxcar', 'window_length':10})),\n",
    "\n",
    "    # Hann windows\n",
    "    (5, dict(filter_fn='window', filter_kwargs={'window_name':'hann', 'window_length':3})),\n",
    "    (5, dict(filter_fn='window', filter_kwargs={'window_name':'hann', 'window_length':5})),\n",
    "    (5, dict(filter_fn='window', filter_kwargs={'window_name':'hann', 'window_length':10})),\n",
    "\n",
    "\n",
    "    (10, dict(filter_fn='window', filter_kwargs={'window_name':'hann', 'window_length':3})),\n",
    "    (10, dict(filter_fn='window', filter_kwargs={'window_name':'hann', 'window_length':5})),\n",
    "    (10, dict(filter_fn='window', filter_kwargs={'window_name':'hann', 'window_length':10})),\n",
    "\n",
    "\n",
    "    (25, dict(filter_fn='window', filter_kwargs={'window_name':'hann', 'window_length':3})),\n",
    "    (25, dict(filter_fn='window', filter_kwargs={'window_name':'hann', 'window_length':5})),\n",
    "    (25, dict(filter_fn='window', filter_kwargs={'window_name':'hann', 'window_length':10})),\n",
    "]\n",
    "\n",
    "for didx, data_file in enumerate(data_files):\n",
    "    for i, loader_param in tqdm(enumerate(processing_params)):\n",
    "        if os.path.exists('/mnt/Secondary/data/sabes_tmp/noboxcox/didx_%d_loader_idx_%d.pkl' % (didx, i)):\n",
    "            print('Skipping')\n",
    "            continue\n",
    "        else:\n",
    "            print('Loading M1')\n",
    "            datM1 = load_sabes(data_file, bin_width=loader_param[0], \n",
    "                               filter_fn=loader_param[1]['filter_fn'], filter_kwargs=loader_param[1]['filter_kwargs'], region='M1', boxcox=None)\n",
    "            print('Loading S1')\n",
    "            datS1 = load_sabes(data_file, bin_width=loader_param[0], filter_fn=loader_param[1]['filter_fn'], \n",
    "                               filter_kwargs=loader_param[1]['filter_kwargs'], region='S1', boxcox=None)\n",
    "\n",
    "            # Save away with the loader parameters\n",
    "            with open('/mnt/Secondary/data/sabes_tmp/noboxcox/didx_%d_loader_idx_%d.pkl' % (didx, i), 'wb') as f:\n",
    "                f.write(pickle.dumps(datM1))\n",
    "                f.write(pickle.dumps(datS1))\n",
    "                f.write(pickle.dumps(loader_param))"
   ]
  },
  {
   "cell_type": "markdown",
   "metadata": {},
   "source": [
    "### Selection of useful loader params"
   ]
  },
  {
   "cell_type": "code",
   "execution_count": 45,
   "metadata": {},
   "outputs": [],
   "source": [
    "processing_params = [\n",
    "    # Baseline - non-overlapping windows with no window\n",
    "    (5, dict(filter_fn='none', filter_kwargs={})),\n",
    "    (10, dict(filter_fn='none', filter_kwargs={})),\n",
    "    (25, dict(filter_fn='none', filter_kwargs={})),\n",
    "    (50, dict(filter_fn='none', filter_kwargs={})),\n",
    "\n",
    "    # Narrow bins with smoothing timescales\n",
    "    (5, dict(filter_fn='gaussian', filter_kwargs={'sigma':3})),\n",
    "    (10, dict(filter_fn='gaussian', filter_kwargs={'sigma':3})),\n",
    "    (25, dict(filter_fn='gaussian', filter_kwargs={'sigma':3})),\n",
    "    # Narrow bins with boxcar filter of various widths\n",
    "    (5, dict(filter_fn='window', filter_kwargs={'window_name':'boxcar', 'window_length':3})),\n",
    "    (10, dict(filter_fn='window', filter_kwargs={'window_name':'boxcar', 'window_length':3})),\n",
    "    (25, dict(filter_fn='window', filter_kwargs={'window_name':'boxcar', 'window_length':3})),\n",
    "]"
   ]
  },
  {
   "cell_type": "markdown",
   "metadata": {},
   "source": [
    "### Autocorrelations"
   ]
  },
  {
   "cell_type": "code",
   "execution_count": 15,
   "metadata": {},
   "outputs": [],
   "source": [
    "# Analysis #1: Effective single neuron autocorrelation times"
   ]
  },
  {
   "cell_type": "code",
   "execution_count": 7,
   "metadata": {},
   "outputs": [],
   "source": [
    "fls = glob.glob('/mnt/Secondary/data/sabes_tmp/*.pkl')"
   ]
  },
  {
   "cell_type": "code",
   "execution_count": 30,
   "metadata": {},
   "outputs": [
    {
     "data": {
      "text/html": [
       "<div>\n",
       "<style scoped>\n",
       "    .dataframe tbody tr th:only-of-type {\n",
       "        vertical-align: middle;\n",
       "    }\n",
       "\n",
       "    .dataframe tbody tr th {\n",
       "        vertical-align: top;\n",
       "    }\n",
       "\n",
       "    .dataframe thead th {\n",
       "        text-align: right;\n",
       "    }\n",
       "</style>\n",
       "<table border=\"1\" class=\"dataframe\">\n",
       "  <thead>\n",
       "    <tr style=\"text-align: right;\">\n",
       "      <th></th>\n",
       "      <th>didx</th>\n",
       "      <th>bin_width</th>\n",
       "      <th>filter_fn</th>\n",
       "      <th>filter_kwargs</th>\n",
       "      <th>M1acf</th>\n",
       "      <th>S1acf</th>\n",
       "      <th>M1act</th>\n",
       "      <th>S1act</th>\n",
       "    </tr>\n",
       "  </thead>\n",
       "  <tbody>\n",
       "    <tr>\n",
       "      <th>34</th>\n",
       "      <td>1</td>\n",
       "      <td>25</td>\n",
       "      <td>gaussian</td>\n",
       "      <td>{'sigma': 3}</td>\n",
       "      <td>[[1.0, 1.0, 1.0, 1.0, 1.0, 1.0, 1.0, 1.0, 1.0,...</td>\n",
       "      <td>[[1.0, 1.0, 1.0, 1.0, 1.0, 1.0, 1.0, 1.0, 1.0,...</td>\n",
       "      <td>[13, 11, 10, 18, 22, 14, 32, 16, 14, 15, 24, 1...</td>\n",
       "      <td>[22, 10, 32, 10, 19, 37, 10, 11, 13, 10, 11, 1...</td>\n",
       "    </tr>\n",
       "    <tr>\n",
       "      <th>57</th>\n",
       "      <td>1</td>\n",
       "      <td>5</td>\n",
       "      <td>gaussian</td>\n",
       "      <td>{'sigma': 3}</td>\n",
       "      <td>[[1.0, 1.0, 1.0, 1.0, 1.0, 1.0, 1.0, 1.0, 1.0,...</td>\n",
       "      <td>[[1.0, 1.0, 1.0, 1.0, 1.0, 1.0, 1.0, 1.0, 1.0,...</td>\n",
       "      <td>[11, 11, 11, 28, 43, 11, 28, 12, 11, 12, 33, 1...</td>\n",
       "      <td>[13, 10, 12, 10, 11, 12, 10, 10, 11, 10, 11, 1...</td>\n",
       "    </tr>\n",
       "    <tr>\n",
       "      <th>60</th>\n",
       "      <td>1</td>\n",
       "      <td>10</td>\n",
       "      <td>gaussian</td>\n",
       "      <td>{'sigma': 3}</td>\n",
       "      <td>[[1.0, 1.0, 1.0, 1.0, 1.0, 1.0, 1.0, 1.0, 1.0,...</td>\n",
       "      <td>[[1.0, 1.0, 1.0, 1.0, 1.0, 1.0, 1.0, 1.0, 1.0,...</td>\n",
       "      <td>[12, 11, 10, 29, 34, 13, 32, 18, 13, 16, 33, 1...</td>\n",
       "      <td>[15, 10, 15, 10, 13, 18, 10, 10, 12, 10, 11, 1...</td>\n",
       "    </tr>\n",
       "  </tbody>\n",
       "</table>\n",
       "</div>"
      ],
      "text/plain": [
       "    didx  bin_width filter_fn filter_kwargs  \\\n",
       "34     1         25  gaussian  {'sigma': 3}   \n",
       "57     1          5  gaussian  {'sigma': 3}   \n",
       "60     1         10  gaussian  {'sigma': 3}   \n",
       "\n",
       "                                                M1acf  \\\n",
       "34  [[1.0, 1.0, 1.0, 1.0, 1.0, 1.0, 1.0, 1.0, 1.0,...   \n",
       "57  [[1.0, 1.0, 1.0, 1.0, 1.0, 1.0, 1.0, 1.0, 1.0,...   \n",
       "60  [[1.0, 1.0, 1.0, 1.0, 1.0, 1.0, 1.0, 1.0, 1.0,...   \n",
       "\n",
       "                                                S1acf  \\\n",
       "34  [[1.0, 1.0, 1.0, 1.0, 1.0, 1.0, 1.0, 1.0, 1.0,...   \n",
       "57  [[1.0, 1.0, 1.0, 1.0, 1.0, 1.0, 1.0, 1.0, 1.0,...   \n",
       "60  [[1.0, 1.0, 1.0, 1.0, 1.0, 1.0, 1.0, 1.0, 1.0,...   \n",
       "\n",
       "                                                M1act  \\\n",
       "34  [13, 11, 10, 18, 22, 14, 32, 16, 14, 15, 24, 1...   \n",
       "57  [11, 11, 11, 28, 43, 11, 28, 12, 11, 12, 33, 1...   \n",
       "60  [12, 11, 10, 29, 34, 13, 32, 18, 13, 16, 33, 1...   \n",
       "\n",
       "                                                S1act  \n",
       "34  [22, 10, 32, 10, 19, 37, 10, 11, 13, 10, 11, 1...  \n",
       "57  [13, 10, 12, 10, 11, 12, 10, 10, 11, 10, 11, 1...  \n",
       "60  [15, 10, 15, 10, 13, 18, 10, 10, 12, 10, 11, 1...  "
      ]
     },
     "execution_count": 30,
     "metadata": {},
     "output_type": "execute_result"
    }
   ],
   "source": [
    "apply_df_filters(acfdf, didx=1, filter_fn='gaussian', filter_kwargs={'sigma':3})"
   ]
  },
  {
   "cell_type": "code",
   "execution_count": null,
   "metadata": {},
   "outputs": [],
   "source": [
    "acfl = []\n",
    "for fl in tqdm(fls):\n",
    "    r = {}\n",
    "    r['didx'] = int(fl.split('didx_')[1].split('_')[0])\n",
    "    with open(fl, 'rb') as f:\n",
    "        datM1 = pickle.load(f)\n",
    "        datS1 = pickle.load(f)\n",
    "        lparam = pickle.load(f)\n",
    "    r['bin_width'] = lparam[0]\n",
    "    r['filter_fn'] = lparam[1]['filter_fn']\n",
    "    r['filter_kwargs'] = lparam[1]['filter_kwargs']\n",
    "\n",
    "    XM1 = datM1['spike_rates'].squeeze()\n",
    "    m1acf = []\n",
    "    for j in range(XM1.shape[1]):\n",
    "        m1acf.append(stattools.acf(XM1[:, j]))\n",
    "    \n",
    "    m1acf = np.array(m1acf).T\n",
    "\n",
    "    XS1 = datS1['spike_rates'].squeeze()\n",
    "    s1acf = []\n",
    "    for j in range(XS1.shape[1]):\n",
    "        s1acf.append(stattools.acf(XS1[:, j]))\n",
    "    \n",
    "    s1acf = np.array(s1acf).T\n",
    "\n",
    "    r['M1acf'] = m1acf\n",
    "    r['S1acf'] = s1acf\n",
    "    acfl.append(r) "
   ]
  },
  {
   "cell_type": "code",
   "execution_count": 17,
   "metadata": {},
   "outputs": [],
   "source": [
    "# Actually get the autocorrelation times\n",
    "for r in acfl:\n",
    "    acf = r['M1acf']\n",
    "    act_index = [np.argwhere(acf[:, j] <= 5e-2 * acf[0, j]) for j in range(acf.shape[1])]\n",
    "    act = np.array([aidx[0][0] if len(aidx > 0) else acf.shape[0] for aidx in act_index])\n",
    "    r['M1act'] = act\n",
    "\n",
    "    acf = r['S1acf']\n",
    "    act_index = [np.argwhere(acf[:, j] <= 5e-2 * acf[0, j]) for j in range(acf.shape[1])]\n",
    "    act = np.array([aidx[0][0] if len(aidx > 0) else acf.shape[0] for aidx in act_index])\n",
    "    r['S1act'] = act"
   ]
  },
  {
   "cell_type": "code",
   "execution_count": 16,
   "metadata": {},
   "outputs": [],
   "source": [
    "# with open('/home/akumar/nse/neural_control/data/timescales/acf.pkl', 'wb') as f:\n",
    "#     f.write(pickle.dumps(acfl))\n",
    "with open('/home/akumar/nse/neural_control/data/timescales/acf.pkl', 'rb') as f:\n",
    "    acfl = pickle.load(f)"
   ]
  },
  {
   "cell_type": "code",
   "execution_count": 17,
   "metadata": {},
   "outputs": [],
   "source": [
    "acfdf = pd.DataFrame(acfl)"
   ]
  },
  {
   "cell_type": "code",
   "execution_count": 40,
   "metadata": {},
   "outputs": [
    {
     "data": {
      "image/png": "[encoded data removed]",
      "text/plain": [
       "<Figure size 2000x2000 with 16 Axes>"
      ]
     },
     "metadata": {},
     "output_type": "display_data"
    }
   ],
   "source": [
    "# Plot boxplots of the autocorrelation times induced by the various pre-processsing strategies for different bin sizes, across M1/S1 and for the different recording sessions\n",
    "\n",
    "fig, ax = plt.subplots(4, 4, figsize=(20, 20))\n",
    "\n",
    "\n",
    "##### No Filtering ######\n",
    "df_ = apply_df_filters(acfdf, didx=0, filter_fn='none')\n",
    "bin_widths = [5, 10, 25, 50]\n",
    "m1act = [df_.loc[df_['bin_width'] == bw].iloc[0]['M1act'] for bw in bin_widths]\n",
    "s1act = [df_.loc[df_['bin_width'] == bw].iloc[0]['S1act'] for bw in bin_widths]\n",
    "\n",
    "ax[0, 0].boxplot(m1act)\n",
    "ax[0, 0].set_xticklabels(bin_widths)\n",
    "ax[0, 0].set_xlabel('Bin Width (ms)')\n",
    "\n",
    "ax[1, 0].boxplot(s1act)\n",
    "ax[1, 0].set_xticklabels(bin_widths)\n",
    "ax[1, 0].set_xlabel('Bin Width (ms)')\n",
    "\n",
    "ax[0, 0].set_ylabel('ACT (ms)')\n",
    "ax[1, 0].set_ylabel('ACT (ms)')\n",
    "ax[0, 0].set_title('Indy M1, Binning Only')\n",
    "ax[1, 0].set_title('Indy S1, Binning Only')\n",
    "\n",
    "df_ = apply_df_filters(acfdf, didx=1, filter_fn='none')\n",
    "bin_widths = [5, 10, 25]\n",
    "m1act = [df_.loc[df_['bin_width'] == bw].iloc[0]['M1act'] for bw in bin_widths]\n",
    "s1act = [df_.loc[df_['bin_width'] == bw].iloc[0]['S1act'] for bw in bin_widths]\n",
    "\n",
    "ax[2, 0].boxplot(m1act)\n",
    "ax[2, 0].set_xticklabels(bin_widths)\n",
    "ax[2, 0].set_xlabel('Bin Width (ms)')\n",
    "\n",
    "ax[3, 0].boxplot(s1act)\n",
    "ax[3, 0].set_xticklabels(bin_widths)\n",
    "ax[3, 0].set_xlabel('Bin Width (ms)')\n",
    "\n",
    "\n",
    "ax[2, 0].set_ylabel('ACT (ms)')\n",
    "ax[3, 0].set_ylabel('ACT (ms)')\n",
    "ax[2, 0].set_title('Loco M1, Binning Only')\n",
    "ax[3, 0].set_title('Loco S1, Binning Only')\n",
    "\n",
    "##### Gaussian Filtering ######\n",
    "df_ = apply_df_filters(acfdf, didx=0, filter_fn='gaussian', filter_kwargs={'sigma':3})\n",
    "bin_widths = [5, 10, 25]\n",
    "m1act = [df_.loc[df_['bin_width'] == bw].iloc[0]['M1act'] for bw in bin_widths]\n",
    "s1act = [df_.loc[df_['bin_width'] == bw].iloc[0]['S1act'] for bw in bin_widths]\n",
    "\n",
    "ax[0, 1].boxplot(m1act)\n",
    "ax[0, 1].set_xticklabels(bin_widths)\n",
    "ax[0, 1].set_xlabel('Bin Width (ms)')\n",
    "\n",
    "ax[1, 1].boxplot(s1act)\n",
    "ax[1, 1].set_xticklabels(bin_widths)\n",
    "ax[1, 1].set_xlabel('Bin Width (ms)')\n",
    "\n",
    "ax[0, 1].set_ylabel('ACT (ms)')\n",
    "ax[1, 1].set_ylabel('ACT (ms)')\n",
    "ax[0, 1].set_title('Indy M1, Gaussian Filter, 3 timestep sigma')\n",
    "ax[1, 1].set_title('Indy S1, Gaussian Filter, 3 timestep sigma')\n",
    "\n",
    "\n",
    "df_ = apply_df_filters(acfdf, didx=1, filter_fn='gaussian', filter_kwargs={'sigma':3})\n",
    "m1act = [df_.loc[df_['bin_width'] == bw].iloc[0]['M1act'] for bw in bin_widths]\n",
    "s1act = [df_.loc[df_['bin_width'] == bw].iloc[0]['S1act'] for bw in bin_widths]\n",
    "\n",
    "ax[2, 1].boxplot(m1act)\n",
    "ax[2, 1].set_xticklabels(bin_widths)\n",
    "ax[2, 1].set_xlabel('Bin Width (ms)')\n",
    "\n",
    "ax[3, 1].boxplot(s1act)\n",
    "ax[3, 1].set_xticklabels(bin_widths)\n",
    "ax[3, 1].set_xlabel('Bin Width (ms)')\n",
    "\n",
    "ax[2, 1].set_ylabel('ACT (ms)')\n",
    "ax[3, 1].set_ylabel('ACT (ms)')\n",
    "ax[2, 1].set_title('Loco M1, Gaussian Filter, 3 timestep sigma')\n",
    "ax[3, 1].set_title('Loco S1, Gaussian Filter, 3 timestep sigma')\n",
    "\n",
    "\n",
    "## Boxcar ##\n",
    "df_ = apply_df_filters(acfdf, didx=0, filter_fn='window', filter_kwargs={'window_name':'boxcar', 'window_length':3})\n",
    "bin_widths = [5, 10, 25]\n",
    "m1act = [df_.loc[df_['bin_width'] == bw].iloc[0]['M1act'] for bw in bin_widths]\n",
    "s1act = [df_.loc[df_['bin_width'] == bw].iloc[0]['S1act'] for bw in bin_widths]\n",
    "\n",
    "ax[0, 2].boxplot(m1act)\n",
    "ax[0, 2].set_xticklabels(bin_widths)\n",
    "ax[0, 2].set_xlabel('Bin Width (ms)')\n",
    "\n",
    "ax[1, 2].boxplot(s1act)\n",
    "ax[1, 2].set_xticklabels(bin_widths)\n",
    "ax[1, 2].set_xlabel('Bin Width (ms)')\n",
    "\n",
    "\n",
    "ax[0, 2].set_ylabel('ACT (ms)')\n",
    "ax[1, 2].set_ylabel('ACT (ms)')\n",
    "ax[0, 2].set_title('Indy M1, Boxcar Filter, 3 timestep width')\n",
    "ax[1, 2].set_title('Indy S1, Boxcar Filter, 3 timestep width')\n",
    "\n",
    "\n",
    "df_ = apply_df_filters(acfdf, didx=1, filter_fn='window', filter_kwargs={'window_name':'boxcar', 'window_length':3})\n",
    "m1act = [df_.loc[df_['bin_width'] == bw].iloc[0]['M1act'] for bw in bin_widths]\n",
    "s1act = [df_.loc[df_['bin_width'] == bw].iloc[0]['S1act'] for bw in bin_widths]\n",
    "\n",
    "ax[2, 2].boxplot(m1act)\n",
    "ax[2, 2].set_xticklabels(bin_widths)\n",
    "ax[2, 2].set_xlabel('Bin Width (ms)')\n",
    "\n",
    "ax[3, 2].boxplot(s1act)\n",
    "ax[3, 2].set_xticklabels(bin_widths)\n",
    "ax[3, 2].set_xlabel('Bin Width (ms)')\n",
    "\n",
    "ax[2, 2].set_ylabel('ACT (ms)')\n",
    "ax[3, 2].set_ylabel('ACT (ms)')\n",
    "ax[2, 2].set_title('Loco M1, Boxcar Filter, 3 timestep width')\n",
    "ax[3, 2].set_title('Loco S1, Boxcar Filter, 3 timestep width')\n",
    "\n",
    "#### Hann #### \n",
    "df_ = apply_df_filters(acfdf, didx=0, filter_fn='window', filter_kwargs={'window_name':'hann', 'window_length':3})\n",
    "bin_widths = [5, 10, 25]\n",
    "m1act = [df_.loc[df_['bin_width'] == bw].iloc[0]['M1act'] for bw in bin_widths]\n",
    "s1act = [df_.loc[df_['bin_width'] == bw].iloc[0]['S1act'] for bw in bin_widths]\n",
    "\n",
    "ax[0, 3].boxplot(m1act)\n",
    "ax[0, 3].set_xticklabels(bin_widths)\n",
    "ax[0, 3].set_xlabel('Bin Width (ms)')\n",
    "\n",
    "ax[1, 3].boxplot(s1act)\n",
    "ax[1, 3].set_xticklabels(bin_widths)\n",
    "ax[1, 3].set_xlabel('Bin Width (ms)')\n",
    "\n",
    "ax[0, 3].set_ylabel('ACT (ms)')\n",
    "ax[1, 3].set_ylabel('ACT (ms)')\n",
    "ax[0, 3].set_title('Indy M1, Hann Filter, 3 timestep width')\n",
    "ax[1, 3].set_title('Indy S1, Hann Filter, 3 timestep width')\n",
    "\n",
    "df_ = apply_df_filters(acfdf, didx=1, filter_fn='window', filter_kwargs={'window_name':'hann', 'window_length':3})\n",
    "m1act = [df_.loc[df_['bin_width'] == bw].iloc[0]['M1act'] for bw in bin_widths]\n",
    "s1act = [df_.loc[df_['bin_width'] == bw].iloc[0]['S1act'] for bw in bin_widths]\n",
    "\n",
    "ax[2, 3].boxplot(m1act)\n",
    "ax[2, 3].set_xticklabels(bin_widths)\n",
    "ax[2, 3].set_xlabel('Bin Width (ms)')\n",
    "\n",
    "ax[3, 3].boxplot(s1act)\n",
    "ax[3, 3].set_xticklabels(bin_widths)\n",
    "ax[3, 3].set_xlabel('Bin Width (ms)')\n",
    "\n",
    "ax[2, 3].set_ylabel('ACT (ms)')\n",
    "ax[3, 3].set_ylabel('ACT (ms)')\n",
    "ax[2, 3].set_title('Loco M1, Hann Filter, 3 timestep width')\n",
    "ax[3, 3].set_title('Loco S1, Hann Filter, 3 timestep width')\n",
    "\n",
    "fig.savefig('/home/akumar/nse/neural_control/figs/timescales/acf.pdf', bbox_inches='tight', pad_inches=0)"
   ]
  },
  {
   "cell_type": "code",
   "execution_count": 38,
   "metadata": {},
   "outputs": [],
   "source": [
    "# Narrow to none --> boxcar --> gaussian"
   ]
  },
  {
   "cell_type": "code",
   "execution_count": 6,
   "metadata": {},
   "outputs": [
    {
     "name": "stderr",
     "output_type": "stream",
     "text": [
      "100%|██████████| 64/64 [1:59:04<00:00, 111.64s/it]\n"
     ]
    }
   ],
   "source": [
    "# Analysis 2: Cross-correlations between M1/S1 neurons\n",
    "ccfl = []\n",
    "for fl in tqdm(fls):\n",
    "    r = {}\n",
    "    r['didx'] = int(fl.split('didx_')[1].split('_')[0])\n",
    "    with open(fl, 'rb') as f:\n",
    "        datM1 = pickle.load(f)\n",
    "        datS1 = pickle.load(f)\n",
    "        lparam = pickle.load(f)\n",
    "    r['bin_width'] = lparam[0]\n",
    "    r['filter_fn'] = lparam[1]['filter_fn']\n",
    "    r['filter_kwargs'] = lparam[1]['filter_kwargs']\n",
    "\n",
    "    XM1 = datM1['spike_rates'].squeeze()\n",
    "    XS1 = datS1['spike_rates'].squeeze()\n",
    "\n",
    "    x = np.hstack([XM1, XS1])\n",
    "    ccm = calc_cross_cov_mats_from_data(x, 30, chunks=10)\n",
    "    r['ccf'] = ccm\n",
    "    ccfl.append(r) "
   ]
  },
  {
   "cell_type": "code",
   "execution_count": 9,
   "metadata": {},
   "outputs": [
    {
     "ename": "EOFError",
     "evalue": "Ran out of input",
     "output_type": "error",
     "traceback": [
      "\u001b[0;31m---------------------------------------------------------------------------\u001b[0m",
      "\u001b[0;31mEOFError\u001b[0m                                  Traceback (most recent call last)",
      "Input \u001b[0;32mIn [9]\u001b[0m, in \u001b[0;36m<cell line: 3>\u001b[0;34m()\u001b[0m\n\u001b[1;32m      1\u001b[0m \u001b[38;5;66;03m# with open('/home/akumar/nse/neural_control/data/timescales/ccf.pkl', 'wb') as f:\u001b[39;00m\n\u001b[1;32m      2\u001b[0m \u001b[38;5;66;03m#     f.write(pickle.dumps(ccfl))\u001b[39;00m\n\u001b[1;32m      3\u001b[0m \u001b[38;5;28;01mwith\u001b[39;00m \u001b[38;5;28mopen\u001b[39m(\u001b[38;5;124m'\u001b[39m\u001b[38;5;124m/home/akumar/nse/neural_control/data/timescales/ccf.pkl\u001b[39m\u001b[38;5;124m'\u001b[39m, \u001b[38;5;124m'\u001b[39m\u001b[38;5;124mrb\u001b[39m\u001b[38;5;124m'\u001b[39m) \u001b[38;5;28;01mas\u001b[39;00m f:\n\u001b[0;32m----> 4\u001b[0m     ccfl \u001b[38;5;241m=\u001b[39m \u001b[43mpickle\u001b[49m\u001b[38;5;241;43m.\u001b[39;49m\u001b[43mload\u001b[49m\u001b[43m(\u001b[49m\u001b[43mf\u001b[49m\u001b[43m)\u001b[49m\n",
      "\u001b[0;31mEOFError\u001b[0m: Ran out of input"
     ]
    }
   ],
   "source": [
    "# with open('/home/akumar/nse/neural_control/data/timescales/ccf.pkl', 'wb') as f:\n",
    "#     f.write(pickle.dumps(ccfl))\n",
    "with open('/home/akumar/nse/neural_control/data/timescales/ccf.pkl', 'rb') as f:\n",
    "    ccfl = pickle.load(f)"
   ]
  },
  {
   "cell_type": "markdown",
   "metadata": {},
   "source": [
    "### Canonical Correlation Coefficients and S1 -> CC R2"
   ]
  },
  {
   "cell_type": "markdown",
   "metadata": {},
   "source": [
    "#### Consolidating"
   ]
  },
  {
   "cell_type": "code",
   "execution_count": 10,
   "metadata": {},
   "outputs": [],
   "source": [
    "# CCA across timescales\n",
    "fls = glob.glob('/mnt/Secondary/data/mpi_cc/*.pkl')"
   ]
  },
  {
   "cell_type": "code",
   "execution_count": 25,
   "metadata": {},
   "outputs": [],
   "source": [
    "rl = []\n",
    "for fl in fls:\n",
    "    with open(fl, 'rb') as f:\n",
    "        while True:\n",
    "            try:\n",
    "                result = pickle.load(f)\n",
    "                rl.append(result)\n",
    "            except (EOFError):\n",
    "                break"
   ]
  },
  {
   "cell_type": "code",
   "execution_count": 27,
   "metadata": {},
   "outputs": [],
   "source": [
    "df = pd.DataFrame(rl)"
   ]
  },
  {
   "cell_type": "code",
   "execution_count": 176,
   "metadata": {},
   "outputs": [
    {
     "name": "stdout",
     "output_type": "stream",
     "text": [
      "0\n",
      "1\n",
      "2\n",
      "3\n",
      "4\n",
      "5\n",
      "6\n",
      "7\n",
      "8\n",
      "9\n",
      "10\n",
      "11\n",
      "12\n",
      "13\n",
      "14\n",
      "15\n",
      "16\n",
      "17\n",
      "18\n",
      "19\n",
      "20\n",
      "21\n",
      "22\n",
      "23\n",
      "24\n",
      "25\n",
      "26\n",
      "27\n",
      "28\n",
      "29\n",
      "30\n",
      "31\n",
      "32\n",
      "33\n",
      "34\n",
      "35\n",
      "36\n",
      "37\n",
      "38\n",
      "39\n",
      "40\n",
      "41\n",
      "42\n",
      "43\n",
      "44\n",
      "45\n",
      "46\n",
      "47\n",
      "48\n",
      "49\n",
      "50\n",
      "51\n",
      "52\n",
      "53\n",
      "54\n",
      "55\n",
      "56\n",
      "57\n",
      "58\n",
      "59\n",
      "60\n",
      "61\n",
      "62\n",
      "63\n",
      "64\n",
      "65\n",
      "66\n",
      "67\n",
      "68\n",
      "69\n",
      "70\n",
      "71\n",
      "72\n",
      "73\n",
      "74\n",
      "75\n",
      "76\n",
      "77\n",
      "78\n",
      "79\n",
      "80\n",
      "81\n",
      "82\n",
      "83\n",
      "84\n",
      "85\n",
      "86\n",
      "87\n",
      "88\n",
      "89\n",
      "90\n",
      "91\n",
      "92\n",
      "93\n",
      "94\n",
      "95\n",
      "96\n",
      "97\n",
      "98\n",
      "99\n",
      "100\n",
      "101\n",
      "102\n",
      "103\n",
      "104\n",
      "105\n",
      "106\n",
      "107\n",
      "108\n",
      "109\n",
      "110\n",
      "111\n",
      "112\n",
      "113\n",
      "114\n",
      "115\n",
      "116\n",
      "117\n",
      "118\n",
      "119\n",
      "120\n",
      "121\n",
      "122\n",
      "123\n",
      "124\n",
      "125\n",
      "126\n",
      "127\n",
      "128\n",
      "129\n",
      "130\n",
      "131\n",
      "132\n",
      "133\n",
      "134\n",
      "135\n",
      "136\n",
      "137\n",
      "138\n",
      "139\n",
      "140\n",
      "141\n",
      "142\n",
      "143\n",
      "144\n",
      "145\n",
      "146\n",
      "147\n",
      "148\n",
      "149\n",
      "150\n",
      "151\n",
      "152\n",
      "153\n",
      "154\n",
      "155\n",
      "156\n",
      "157\n",
      "158\n",
      "159\n",
      "160\n",
      "161\n",
      "162\n",
      "163\n",
      "164\n",
      "165\n",
      "166\n",
      "167\n",
      "168\n",
      "169\n",
      "170\n",
      "171\n",
      "172\n",
      "173\n",
      "174\n",
      "175\n",
      "176\n",
      "177\n",
      "178\n",
      "179\n",
      "180\n",
      "181\n",
      "182\n",
      "183\n",
      "184\n",
      "185\n",
      "186\n",
      "187\n",
      "188\n",
      "189\n",
      "190\n",
      "191\n",
      "192\n",
      "193\n",
      "194\n",
      "195\n",
      "196\n",
      "197\n",
      "198\n",
      "199\n",
      "200\n",
      "201\n",
      "202\n",
      "203\n",
      "204\n",
      "205\n",
      "206\n",
      "207\n",
      "208\n",
      "209\n",
      "210\n",
      "211\n",
      "212\n",
      "213\n",
      "214\n",
      "215\n",
      "216\n",
      "217\n",
      "218\n",
      "219\n",
      "220\n",
      "221\n",
      "222\n",
      "223\n",
      "224\n",
      "225\n",
      "226\n",
      "227\n",
      "228\n",
      "229\n",
      "230\n",
      "231\n",
      "232\n",
      "233\n",
      "234\n",
      "235\n",
      "236\n",
      "237\n",
      "238\n",
      "239\n",
      "240\n",
      "241\n",
      "242\n",
      "243\n",
      "244\n",
      "245\n",
      "246\n",
      "247\n",
      "248\n",
      "249\n",
      "250\n",
      "251\n",
      "252\n",
      "253\n",
      "254\n",
      "255\n",
      "256\n",
      "257\n",
      "258\n",
      "259\n",
      "260\n",
      "261\n",
      "262\n",
      "263\n",
      "264\n",
      "265\n",
      "266\n",
      "267\n",
      "268\n",
      "269\n",
      "270\n",
      "271\n",
      "272\n",
      "273\n",
      "274\n",
      "275\n",
      "276\n",
      "277\n",
      "278\n",
      "279\n",
      "280\n",
      "281\n",
      "282\n",
      "283\n",
      "284\n",
      "285\n",
      "286\n",
      "287\n",
      "288\n",
      "289\n",
      "290\n",
      "291\n",
      "292\n",
      "293\n",
      "294\n",
      "295\n",
      "296\n",
      "297\n",
      "298\n",
      "299\n",
      "300\n",
      "301\n",
      "302\n",
      "303\n",
      "304\n",
      "305\n",
      "306\n",
      "307\n",
      "308\n",
      "309\n",
      "310\n",
      "311\n",
      "312\n",
      "313\n",
      "314\n",
      "315\n",
      "316\n",
      "317\n",
      "318\n",
      "319\n",
      "320\n",
      "321\n",
      "322\n",
      "323\n",
      "324\n",
      "325\n",
      "326\n",
      "327\n",
      "328\n",
      "329\n",
      "330\n",
      "331\n",
      "332\n",
      "333\n",
      "334\n",
      "335\n",
      "336\n",
      "337\n",
      "338\n",
      "339\n",
      "340\n",
      "341\n",
      "342\n",
      "343\n",
      "344\n",
      "345\n",
      "346\n",
      "347\n",
      "348\n",
      "349\n",
      "350\n",
      "351\n",
      "352\n",
      "353\n",
      "354\n",
      "355\n",
      "356\n",
      "357\n",
      "358\n",
      "359\n",
      "360\n",
      "361\n",
      "362\n",
      "363\n",
      "364\n",
      "365\n",
      "366\n",
      "367\n",
      "368\n",
      "369\n",
      "370\n",
      "371\n",
      "372\n",
      "373\n",
      "374\n",
      "375\n",
      "376\n",
      "377\n",
      "378\n",
      "379\n",
      "380\n",
      "381\n",
      "382\n",
      "383\n",
      "384\n",
      "385\n",
      "386\n",
      "387\n",
      "388\n",
      "389\n",
      "390\n",
      "391\n",
      "392\n",
      "393\n",
      "394\n",
      "395\n",
      "396\n",
      "397\n",
      "398\n",
      "399\n",
      "400\n",
      "401\n",
      "402\n",
      "403\n",
      "404\n",
      "405\n",
      "406\n",
      "407\n",
      "408\n",
      "409\n",
      "410\n",
      "411\n",
      "412\n",
      "413\n",
      "414\n",
      "415\n",
      "416\n",
      "417\n",
      "418\n",
      "419\n",
      "420\n",
      "421\n",
      "422\n",
      "423\n",
      "424\n",
      "425\n",
      "426\n",
      "427\n",
      "428\n",
      "429\n",
      "430\n",
      "431\n",
      "432\n",
      "433\n",
      "434\n",
      "435\n",
      "436\n",
      "437\n",
      "438\n",
      "439\n",
      "440\n",
      "441\n",
      "442\n",
      "443\n",
      "444\n",
      "445\n",
      "446\n",
      "447\n",
      "448\n",
      "449\n",
      "450\n",
      "451\n",
      "452\n",
      "453\n",
      "454\n",
      "455\n",
      "456\n",
      "457\n",
      "458\n",
      "459\n",
      "460\n",
      "461\n",
      "462\n",
      "463\n",
      "464\n",
      "465\n",
      "466\n",
      "467\n",
      "468\n",
      "469\n",
      "470\n",
      "471\n",
      "472\n",
      "473\n",
      "474\n",
      "475\n",
      "476\n",
      "477\n",
      "478\n",
      "479\n",
      "480\n",
      "481\n",
      "482\n",
      "483\n",
      "484\n",
      "485\n",
      "486\n",
      "487\n",
      "488\n",
      "489\n",
      "490\n",
      "491\n",
      "492\n",
      "493\n",
      "494\n",
      "495\n",
      "496\n",
      "497\n",
      "498\n",
      "499\n",
      "500\n",
      "501\n",
      "502\n",
      "503\n",
      "504\n",
      "505\n",
      "506\n",
      "507\n",
      "508\n",
      "509\n",
      "510\n",
      "511\n",
      "512\n",
      "513\n",
      "514\n",
      "515\n",
      "516\n",
      "517\n",
      "518\n",
      "519\n",
      "520\n",
      "521\n",
      "522\n",
      "523\n",
      "524\n",
      "525\n",
      "526\n",
      "527\n",
      "528\n",
      "529\n",
      "530\n",
      "531\n",
      "532\n",
      "533\n",
      "534\n",
      "535\n",
      "536\n",
      "537\n",
      "538\n",
      "539\n",
      "540\n",
      "541\n",
      "542\n",
      "543\n",
      "544\n",
      "545\n",
      "546\n",
      "547\n",
      "548\n",
      "549\n",
      "550\n",
      "551\n",
      "552\n",
      "553\n",
      "554\n",
      "555\n",
      "556\n",
      "557\n",
      "558\n",
      "559\n",
      "560\n",
      "561\n",
      "562\n",
      "563\n",
      "564\n",
      "565\n",
      "566\n",
      "567\n",
      "568\n",
      "569\n",
      "570\n",
      "571\n",
      "572\n",
      "573\n",
      "574\n",
      "575\n"
     ]
    }
   ],
   "source": [
    "# Get the canonical correlation coefficients.\n",
    "cc_coefs = np.zeros((df.shape[0], 6))\n",
    "r2_scores = np.zeros(df.shape[0])\n",
    "# These are the \n",
    "\n",
    "for i in range(df.shape[0]):\n",
    "    print(i)\n",
    "    with open(df.iloc[i]['fl'], 'rb') as f:\n",
    "        datM1 = pickle.load(f)\n",
    "        datS1 = pickle.load(f)\n",
    "        lparam = pickle.load(f)\n",
    "\n",
    "    Y = datM1['spike_rates'].squeeze()\n",
    "    X = datS1['spike_rates'].squeeze()\n",
    "\n",
    "    lag = df.iloc[i]['lag']\n",
    "    w = df.iloc[i]['win']\n",
    "\n",
    "\n",
    "    # Apply window and lag relative to each other\n",
    "    if lag != 0:\n",
    "        x = X[:-lag, :]\n",
    "        y = Y[lag:, :]\n",
    "    else:\n",
    "        x = X\n",
    "        y = Y\n",
    "\n",
    "    if w > 1:\n",
    "        x = form_lag_matrix(x, w)\n",
    "        y = form_lag_matrix(y, w)\n",
    "\n",
    "\n",
    "    model = df.iloc[i]['ccamodel']\n",
    "    X_c, Y_c = model.transform(x, y)\n",
    "    ccc2 = np.array([scipy.stats.pearsonr(X_c[:, j], Y_c[:, j])[0] for j in range(X_c.shape[1])])    \n",
    "    cc_coefs[i, :] = ccc2\n",
    "    r2_scores[i] = model.score(x, y)\n"
   ]
  },
  {
   "cell_type": "code",
   "execution_count": 177,
   "metadata": {},
   "outputs": [],
   "source": [
    "df['cc_coefs'] = list(cc_coefs)\n",
    "df['r2_scores'] = list(r2_scores)"
   ]
  },
  {
   "cell_type": "code",
   "execution_count": 178,
   "metadata": {},
   "outputs": [],
   "source": [
    "with open('/mnt/Secondary/data/postprocessed/cca_timescales_df.pkl', 'wb') as f:\n",
    "    f.write(pickle.dumps(df))"
   ]
  },
  {
   "cell_type": "markdown",
   "metadata": {},
   "source": [
    "#### Plotting"
   ]
  },
  {
   "cell_type": "code",
   "execution_count": 6,
   "metadata": {},
   "outputs": [],
   "source": [
    "with open('/mnt/Secondary/data/postprocessed/cca_timescales_df.pkl', 'rb') as f:\n",
    "    df = pickle.load(f)"
   ]
  },
  {
   "cell_type": "code",
   "execution_count": 7,
   "metadata": {},
   "outputs": [],
   "source": [
    "lags = list(np.unique(df['lag'].values))\n",
    "windows = list(np.unique(df['win'].values))"
   ]
  },
  {
   "cell_type": "code",
   "execution_count": 8,
   "metadata": {},
   "outputs": [],
   "source": [
    "dfvalid1 = apply_df_filters(df, filter_fn='none', bin_width=[5, 10, 25, 50])\n",
    "dfvalid2 = apply_df_filters(df, filter_fn='gaussian', filter_kwargs={'sigma': 3})\n",
    "dfvalid3 = apply_df_filters(df, filter_fn='window', filter_kwargs={'window_name':'boxcar', 'window_length':3})"
   ]
  },
  {
   "cell_type": "code",
   "execution_count": 9,
   "metadata": {},
   "outputs": [],
   "source": [
    "dfvalid = pd.concat([dfvalid1, dfvalid2, dfvalid3])"
   ]
  },
  {
   "cell_type": "code",
   "execution_count": 109,
   "metadata": {},
   "outputs": [
    {
     "data": {
      "text/plain": [
       "(180, 10)"
      ]
     },
     "execution_count": 109,
     "metadata": {},
     "output_type": "execute_result"
    }
   ],
   "source": [
    "dfvalid.shape"
   ]
  },
  {
   "cell_type": "code",
   "execution_count": 120,
   "metadata": {},
   "outputs": [],
   "source": [
    "# we messed up window function so for now restrict analysis to window size 1\n",
    "w1df = apply_df_filters(dfvalid, win=1, filter_fn='gaussian', bin_width=5)\n",
    "ccc_act_pairs = np.zeros((2, w1df.shape[0]//2, 3))\n",
    "\n",
    "lag_cols = ['r', 'k', 'b']\n",
    "#win_markers = ['s', 't', 'o']\n",
    "#win_cols = ['r', 'g', 'b']\n",
    "\n",
    "cols1 = []\n",
    "cols2 = []\n",
    "for j in range(2):\n",
    "    cols1.append([])\n",
    "    w1dfd = apply_df_filters(w1df, didx=j)\n",
    "    for i in range(w1dfd.shape[0]):\n",
    "        ccc = np.max(w1dfd.iloc[i]['cc_coefs'])\n",
    "        acf_df_ = apply_df_filters(acfdf, didx=w1dfd.iloc[i]['didx'], bin_width=w1dfd.iloc[i]['bin_width'], filter_fn=w1dfd.iloc[i]['filter_fn'], filter_kwargs=w1dfd.iloc[i]['filter_kwargs'])\n",
    "        assert(acf_df_.shape[0] == 1)\n",
    "        ccc_act_pairs[j, i, 0] = ccc\n",
    "        ccc_act_pairs[j, i, 1] = np.mean(np.concatenate([acf_df_.iloc[0]['M1act'], acf_df_.iloc[0]['S1act']]))\n",
    "        ccc_act_pairs[j, i, 2] = np.median(np.concatenate([acf_df_.iloc[0]['M1act'], acf_df_.iloc[0]['S1act']]))\n",
    "\n",
    "        cols1[j].append(lag_cols[lags.index(w1dfd.iloc[i]['lag'])])\n",
    "#        cols2.append(lag_cols[windows.index(w1dfd.iloc[i]['win'])])\n",
    "\n"
   ]
  },
  {
   "cell_type": "code",
   "execution_count": 121,
   "metadata": {},
   "outputs": [
    {
     "data": {
      "text/plain": [
       "Text(0.5, 1.0, 'Loco')"
      ]
     },
     "execution_count": 121,
     "metadata": {},
     "output_type": "execute_result"
    },
    {
     "data": {
      "image/png": "[encoded data removed]",
      "text/plain": [
       "<Figure size 1000x500 with 2 Axes>"
      ]
     },
     "metadata": {},
     "output_type": "display_data"
    }
   ],
   "source": [
    "# Additionally color code by lag/window size combinations\n",
    "fig, ax = plt.subplots(1, 2, figsize=(10, 5))\n",
    "\n",
    "ax[0].scatter(ccc_act_pairs[0, :, 1], ccc_act_pairs[0, :, 0], c=cols1[0], alpha=0.5)\n",
    "ax[1].scatter(ccc_act_pairs[1, :, 1], ccc_act_pairs[1, :, 0], c=cols1[0], alpha=0.5)\n",
    "ax[0].set_ylabel('Max Canonical Correlation')\n",
    "ax[1].set_ylabel('Max Canonical Correlation')\n",
    "ax[0].set_xlabel('Mean Autocorrelation Time (ms)')\n",
    "ax[1].set_xlabel('Mean Autocorrelation Time (ms)')\n",
    "ax[0].set_title('Indy')\n",
    "ax[1].set_title('Loco')\n",
    "# fig.savefig('/home/akumar/nse/neural_control/figs/timescales/cc_coef.pdf', bbox_inches='tight',  pad_inches=0)"
   ]
  },
  {
   "cell_type": "markdown",
   "metadata": {},
   "source": [
    "#### Direct regression calculation"
   ]
  },
  {
   "cell_type": "code",
   "execution_count": 193,
   "metadata": {},
   "outputs": [],
   "source": [
    "# What is the raw r2 of prediction across the different preprocesing parameters? CCA doesn't do very well, because we try to compress down to 6 dimensions. Let's just do ambient regression. This dovetails nicely\n",
    "# with a poisson GLM regressiona"
   ]
  },
  {
   "cell_type": "code",
   "execution_count": 11,
   "metadata": {},
   "outputs": [],
   "source": [
    "from sklearn.linear_model import LinearRegression, RidgeCV\n",
    "from sklearn.preprocessing import StandardScaler\n",
    "from sklearn.model_selection import KFold"
   ]
  },
  {
   "cell_type": "code",
   "execution_count": null,
   "metadata": {},
   "outputs": [],
   "source": [
    "# Use L1OCV Ridge and re-do these calculations"
   ]
  },
  {
   "cell_type": "code",
   "execution_count": 12,
   "metadata": {},
   "outputs": [
    {
     "name": "stderr",
     "output_type": "stream",
     "text": [
      "100%|██████████| 60/60 [08:57<00:00,  8.96s/it]\n"
     ]
    }
   ],
   "source": [
    "lr2 = np.zeros((df.shape[0], 5))\n",
    "w1df = apply_df_filters(dfvalid, win=1)\n",
    "\n",
    "for i in tqdm(range(w1df.shape[0])):\n",
    "    with open(w1df.iloc[i]['fl'], 'rb') as f:\n",
    "        datM1 = pickle.load(f)\n",
    "        datS1 = pickle.load(f)\n",
    "        lparam = pickle.load(f)\n",
    "\n",
    "    Y = datM1['spike_rates'].squeeze()\n",
    "    X = datS1['spike_rates'].squeeze()\n",
    "\n",
    "    lag = w1df.iloc[i]['lag']\n",
    "    w = w1df.iloc[i]['win']\n",
    "\n",
    "\n",
    "    # Apply window and lag relative to each other\n",
    "    if lag != 0:\n",
    "        x = X[:-lag, :]\n",
    "        y = Y[lag:, :]\n",
    "    else:\n",
    "        x = X\n",
    "        y = Y\n",
    "\n",
    "    if w > 1:\n",
    "        x = form_lag_matrix(x, w)\n",
    "        y = form_lag_matrix(y, w)\n",
    "\n",
    "    x = StandardScaler().fit_transform(x)\n",
    "    y = StandardScaler().fit_transform(y)\n",
    "\n",
    "\n",
    "    linmodel = RidgeCV(cv=5)\n",
    "    linmodel.fit(x, y)\n",
    "    \n",
    "    for j, (train_idxs, test_idxs) in enumerate(KFold(n_splits=5).split(x)):\n",
    "        xtest = x[test_idxs]\n",
    "        ytest = y[test_idxs]\n",
    "        lr2[i, j] = linmodel.score(xtest, ytest)"
   ]
  },
  {
   "cell_type": "code",
   "execution_count": 13,
   "metadata": {},
   "outputs": [
    {
     "name": "stderr",
     "output_type": "stream",
     "text": [
      "100%|██████████| 60/60 [31:26<00:00, 31.44s/it]\n"
     ]
    }
   ],
   "source": [
    "lr2_cc = np.zeros((df.shape[0], 5, 6))\n",
    "\n",
    "for i in tqdm(range(w1df.shape[0])):\n",
    "    with open(w1df.iloc[i]['fl'], 'rb') as f:\n",
    "        datM1 = pickle.load(f)\n",
    "        datS1 = pickle.load(f)\n",
    "        lparam = pickle.load(f)\n",
    "\n",
    "    Y = datM1['spike_rates'].squeeze()\n",
    "    X = datS1['spike_rates'].squeeze()\n",
    "\n",
    "    lag = w1df.iloc[i]['lag']\n",
    "    w = w1df.iloc[i]['win']\n",
    "\n",
    "\n",
    "    # Apply window and lag relative to each other\n",
    "    if lag != 0:\n",
    "        x = X[:-lag, :]\n",
    "        y = Y[lag:, :]\n",
    "    else:\n",
    "        x = X\n",
    "        y = Y\n",
    "\n",
    "    if w > 1:\n",
    "        x = form_lag_matrix(x, w)\n",
    "        y = form_lag_matrix(y, w)\n",
    "\n",
    "    model = w1df.iloc[i]['ccamodel']\n",
    "    X_c, Y_c = model.transform(x, y)\n",
    "\n",
    "    x = StandardScaler().fit_transform(x)\n",
    "    for d in range(1, 7):\n",
    "        y = StandardScaler().fit_transform(Y_c)[:, 0:d]\n",
    "\n",
    "        linmodel = RidgeCV(cv=5)\n",
    "        linmodel.fit(x, y)\n",
    "        \n",
    "\n",
    "        for j, (train_idxs, test_idxs) in enumerate(KFold(n_splits=5).split(x)):\n",
    "            xtest = x[test_idxs]\n",
    "            ytest = y[test_idxs]\n",
    "    \n",
    "            lr2_cc[i, j, d-1] = linmodel.score(x, y)"
   ]
  },
  {
   "cell_type": "code",
   "execution_count": 78,
   "metadata": {},
   "outputs": [],
   "source": [
    "# with open('m1s1_regression.dat', 'wb') as f:\n",
    "#     f.write(pickle.dumps(lr2))\n",
    "#     f.write(pickle.dumps(lr2_cc))\n",
    "with open('m1s1_regression.dat', 'rb') as f:\n",
    "    lr2 = pickle.load(f)\n",
    "    lr2_cc = pickle.load(f)"
   ]
  },
  {
   "cell_type": "code",
   "execution_count": 88,
   "metadata": {},
   "outputs": [
    {
     "name": "stdout",
     "output_type": "stream",
     "text": [
      "Int64Index([ 0,  1,  2,  6,  7,  8, 12, 13, 14, 18, 19, 20, 24, 25, 26, 27, 28,\n",
      "            29, 39, 40, 41, 42, 43, 44, 45, 46, 47, 48, 49, 50],\n",
      "           dtype='int64')\n",
      "Int64Index([ 3,  4,  5,  9, 10, 11, 15, 16, 17, 21, 22, 23, 30, 31, 32, 33, 34,\n",
      "            35, 36, 37, 38, 51, 52, 53, 54, 55, 56, 57, 58, 59],\n",
      "           dtype='int64')\n"
     ]
    }
   ],
   "source": [
    "# we messed up window function so for now restrict analysis to window size 1\n",
    "w1df = apply_df_filters(dfvalid, win=1)\n",
    "r2_act_pairs = np.zeros((2, w1df.shape[0]//2, 3))\n",
    "\n",
    "lag_cols = ['r', 'k', 'b']\n",
    "#win_markers = ['s', 't', 'o']\n",
    "#win_cols = ['r', 'g', 'b']\n",
    "\n",
    "cols1 = []\n",
    "cols2 = []\n",
    "for j in range(2):\n",
    "    cols1.append([])\n",
    "    w1dfd = apply_df_filters(w1df, didx=j, reset_index=False)\n",
    "    print(w1dfd.index)\n",
    "    for i in range(w1dfd.shape[0]):\n",
    "        acf_df_ = apply_df_filters(acfdf, didx=w1dfd.iloc[i]['didx'], bin_width=w1dfd.iloc[i]['bin_width'], filter_fn=w1dfd.iloc[i]['filter_fn'], filter_kwargs=w1dfd.iloc[i]['filter_kwargs'])\n",
    "        assert(acf_df_.shape[0] == 1)\n",
    "        r2_act_pairs[j, i, 0] = np.mean(lr2[w1dfd.index[i]])\n",
    "        r2_act_pairs[j, i, 1] = np.mean(np.concatenate([acf_df_.iloc[0]['M1act'], acf_df_.iloc[0]['S1act']]))\n",
    "        r2_act_pairs[j, i, 2] = np.median(np.concatenate([acf_df_.iloc[0]['M1act'], acf_df_.iloc[0]['S1act']]))\n",
    "\n",
    "        cols1[j].append(lag_cols[lags.index(w1dfd.iloc[i]['lag'])])\n",
    "#        cols2.append(lag_cols[windows.index(w1dfd.iloc[i]['win'])])\n",
    "\n"
   ]
  },
  {
   "cell_type": "code",
   "execution_count": 90,
   "metadata": {},
   "outputs": [
    {
     "data": {
      "text/plain": [
       "array([-2.49849505e+52, -4.44243282e+51, -3.64455095e+51, -1.94586144e+53,\n",
       "       -9.38681397e+53, -9.30852714e+53, -7.26818465e+54, -2.90606563e+54,\n",
       "       -5.80957209e+53, -2.85830849e+56, -1.02691438e+53, -1.23359773e+58,\n",
       "       -6.94604254e+48, -1.53501672e+49, -2.82713996e+49, -3.72462265e+47,\n",
       "       -1.68683858e+48, -2.00981501e+49, -5.06527156e+47, -1.58419324e+48,\n",
       "       -1.35443708e+48, -9.09105579e+51, -3.28062679e+51, -2.82975638e+51,\n",
       "       -1.03566020e+51, -4.72707890e+51, -5.31925799e+51, -6.85496805e+50,\n",
       "       -3.32700678e+51, -3.93523458e+51])"
      ]
     },
     "execution_count": 90,
     "metadata": {},
     "output_type": "execute_result"
    }
   ],
   "source": [
    "r2_act_pairs[0, :, 0]"
   ]
  },
  {
   "cell_type": "code",
   "execution_count": 89,
   "metadata": {},
   "outputs": [
    {
     "data": {
      "image/png": "[encoded data removed]",
      "text/plain": [
       "<Figure size 1000x500 with 2 Axes>"
      ]
     },
     "metadata": {},
     "output_type": "display_data"
    }
   ],
   "source": [
    "# Additionally color code by lag/window size combinations\n",
    "fig, ax = plt.subplots(1, 2, figsize=(10, 5))\n",
    "\n",
    "# r2_act_pairs[r2_act_pairs < -2] = np.nan\n",
    "\n",
    "ax[0].scatter(r2_act_pairs[0, :, 1], r2_act_pairs[0, :, 0], c=cols1[0], alpha=0.5)\n",
    "ax[1].scatter(r2_act_pairs[1, :, 1], r2_act_pairs[1, :, 0], c=cols1[0], alpha=0.5)\n",
    "ax[0].set_ylabel('Cross-Validated' + r'$r^2$')\n",
    "ax[1].set_ylabel('Cross-Validated' + r'$r^2$')\n",
    "ax[0].set_xlabel('Mean Autocorrelation Time (ms)')\n",
    "ax[1].set_xlabel('Mean Autocorrelation Time (ms)')\n",
    "ax[0].set_title('Indy')\n",
    "ax[1].set_title('Loco')\n",
    "fig.savefig('/home/akumar/nse/neural_control/figs/timescales/s1m1r2.pdf', bbox_inches='tight',  pad_inches=0)"
   ]
  },
  {
   "cell_type": "code",
   "execution_count": null,
   "metadata": {},
   "outputs": [],
   "source": [
    "# Project the M1 data onto the most predictable direction...\n",
    "# How does one do that? Project onto top CCA vectors?"
   ]
  },
  {
   "cell_type": "code",
   "execution_count": 112,
   "metadata": {},
   "outputs": [
    {
     "name": "stdout",
     "output_type": "stream",
     "text": [
      "Int64Index([ 0,  1,  2,  6,  7,  8, 12, 13, 14, 18, 19, 20, 24, 25, 26, 27, 28,\n",
      "            29, 39, 40, 41, 42, 43, 44, 45, 46, 47, 48, 49, 50],\n",
      "           dtype='int64')\n",
      "> \u001b[0;32m/tmp/ipykernel_14321/53335161.py\u001b[0m(25)\u001b[0;36m<cell line: 11>\u001b[0;34m()\u001b[0m\n",
      "\u001b[0;32m     21 \u001b[0;31m\u001b[0;34m\u001b[0m\u001b[0m\n",
      "\u001b[0m\u001b[0;32m     22 \u001b[0;31m        \u001b[0;32mif\u001b[0m \u001b[0mr2_act_pairs\u001b[0m\u001b[0;34m[\u001b[0m\u001b[0mj\u001b[0m\u001b[0;34m,\u001b[0m \u001b[0mi\u001b[0m\u001b[0;34m,\u001b[0m \u001b[0;36m1\u001b[0m\u001b[0;34m]\u001b[0m \u001b[0;34m>\u001b[0m \u001b[0;36m15\u001b[0m\u001b[0;34m:\u001b[0m\u001b[0;34m\u001b[0m\u001b[0;34m\u001b[0m\u001b[0m\n",
      "\u001b[0m\u001b[0;32m     23 \u001b[0;31m            \u001b[0mpdb\u001b[0m\u001b[0;34m.\u001b[0m\u001b[0mset_trace\u001b[0m\u001b[0;34m(\u001b[0m\u001b[0;34m)\u001b[0m\u001b[0;34m\u001b[0m\u001b[0;34m\u001b[0m\u001b[0m\n",
      "\u001b[0m\u001b[0;32m     24 \u001b[0;31m\u001b[0;34m\u001b[0m\u001b[0m\n",
      "\u001b[0m\u001b[0;32m---> 25 \u001b[0;31m        \u001b[0mcols1\u001b[0m\u001b[0;34m[\u001b[0m\u001b[0mj\u001b[0m\u001b[0;34m]\u001b[0m\u001b[0;34m.\u001b[0m\u001b[0mappend\u001b[0m\u001b[0;34m(\u001b[0m\u001b[0mlag_cols\u001b[0m\u001b[0;34m[\u001b[0m\u001b[0mlags\u001b[0m\u001b[0;34m.\u001b[0m\u001b[0mindex\u001b[0m\u001b[0;34m(\u001b[0m\u001b[0mw1dfd\u001b[0m\u001b[0;34m.\u001b[0m\u001b[0miloc\u001b[0m\u001b[0;34m[\u001b[0m\u001b[0mi\u001b[0m\u001b[0;34m]\u001b[0m\u001b[0;34m[\u001b[0m\u001b[0;34m'lag'\u001b[0m\u001b[0;34m]\u001b[0m\u001b[0;34m)\u001b[0m\u001b[0;34m]\u001b[0m\u001b[0;34m)\u001b[0m\u001b[0;34m\u001b[0m\u001b[0;34m\u001b[0m\u001b[0m\n",
      "\u001b[0m\n",
      "didx                                                             0\n",
      "bin_width                                                       25\n",
      "filter_fn                                                 gaussian\n",
      "filter_kwargs                                         {'sigma': 3}\n",
      "lag                                                              4\n",
      "win                                                              1\n",
      "ccamodel                                       CCA(n_components=6)\n",
      "fl               /mnt/Secondary/data/sabes_tmp/didx_0_loader_id...\n",
      "cc_coefs         [0.818204684683354, 0.6790080600984696, 0.5862...\n",
      "r2_scores                                                 0.036158\n",
      "Name: 24, dtype: object\n",
      "> \u001b[0;32m/tmp/ipykernel_14321/53335161.py\u001b[0m(23)\u001b[0;36m<cell line: 11>\u001b[0;34m()\u001b[0m\n",
      "\u001b[0;32m     21 \u001b[0;31m\u001b[0;34m\u001b[0m\u001b[0m\n",
      "\u001b[0m\u001b[0;32m     22 \u001b[0;31m        \u001b[0;32mif\u001b[0m \u001b[0mr2_act_pairs\u001b[0m\u001b[0;34m[\u001b[0m\u001b[0mj\u001b[0m\u001b[0;34m,\u001b[0m \u001b[0mi\u001b[0m\u001b[0;34m,\u001b[0m \u001b[0;36m1\u001b[0m\u001b[0;34m]\u001b[0m \u001b[0;34m>\u001b[0m \u001b[0;36m15\u001b[0m\u001b[0;34m:\u001b[0m\u001b[0;34m\u001b[0m\u001b[0;34m\u001b[0m\u001b[0m\n",
      "\u001b[0m\u001b[0;32m---> 23 \u001b[0;31m            \u001b[0mpdb\u001b[0m\u001b[0;34m.\u001b[0m\u001b[0mset_trace\u001b[0m\u001b[0;34m(\u001b[0m\u001b[0;34m)\u001b[0m\u001b[0;34m\u001b[0m\u001b[0;34m\u001b[0m\u001b[0m\n",
      "\u001b[0m\u001b[0;32m     24 \u001b[0;31m\u001b[0;34m\u001b[0m\u001b[0m\n",
      "\u001b[0m\u001b[0;32m     25 \u001b[0;31m        \u001b[0mcols1\u001b[0m\u001b[0;34m[\u001b[0m\u001b[0mj\u001b[0m\u001b[0;34m]\u001b[0m\u001b[0;34m.\u001b[0m\u001b[0mappend\u001b[0m\u001b[0;34m(\u001b[0m\u001b[0mlag_cols\u001b[0m\u001b[0;34m[\u001b[0m\u001b[0mlags\u001b[0m\u001b[0;34m.\u001b[0m\u001b[0mindex\u001b[0m\u001b[0;34m(\u001b[0m\u001b[0mw1dfd\u001b[0m\u001b[0;34m.\u001b[0m\u001b[0miloc\u001b[0m\u001b[0;34m[\u001b[0m\u001b[0mi\u001b[0m\u001b[0;34m]\u001b[0m\u001b[0;34m[\u001b[0m\u001b[0;34m'lag'\u001b[0m\u001b[0;34m]\u001b[0m\u001b[0;34m)\u001b[0m\u001b[0;34m]\u001b[0m\u001b[0;34m)\u001b[0m\u001b[0;34m\u001b[0m\u001b[0;34m\u001b[0m\u001b[0m\n",
      "\u001b[0m\n",
      "didx                                                             0\n",
      "bin_width                                                       25\n",
      "filter_fn                                                 gaussian\n",
      "filter_kwargs                                         {'sigma': 3}\n",
      "lag                                                              2\n",
      "win                                                              1\n",
      "ccamodel                                       CCA(n_components=6)\n",
      "fl               /mnt/Secondary/data/sabes_tmp/didx_0_loader_id...\n",
      "cc_coefs         [0.8502539734885949, 0.7081681504148192, 0.606...\n",
      "r2_scores                                                 0.059354\n",
      "Name: 25, dtype: object\n",
      "> \u001b[0;32m/tmp/ipykernel_14321/53335161.py\u001b[0m(25)\u001b[0;36m<cell line: 11>\u001b[0;34m()\u001b[0m\n",
      "\u001b[0;32m     21 \u001b[0;31m\u001b[0;34m\u001b[0m\u001b[0m\n",
      "\u001b[0m\u001b[0;32m     22 \u001b[0;31m        \u001b[0;32mif\u001b[0m \u001b[0mr2_act_pairs\u001b[0m\u001b[0;34m[\u001b[0m\u001b[0mj\u001b[0m\u001b[0;34m,\u001b[0m \u001b[0mi\u001b[0m\u001b[0;34m,\u001b[0m \u001b[0;36m1\u001b[0m\u001b[0;34m]\u001b[0m \u001b[0;34m>\u001b[0m \u001b[0;36m15\u001b[0m\u001b[0;34m:\u001b[0m\u001b[0;34m\u001b[0m\u001b[0;34m\u001b[0m\u001b[0m\n",
      "\u001b[0m\u001b[0;32m     23 \u001b[0;31m            \u001b[0mpdb\u001b[0m\u001b[0;34m.\u001b[0m\u001b[0mset_trace\u001b[0m\u001b[0;34m(\u001b[0m\u001b[0;34m)\u001b[0m\u001b[0;34m\u001b[0m\u001b[0;34m\u001b[0m\u001b[0m\n",
      "\u001b[0m\u001b[0;32m     24 \u001b[0;31m\u001b[0;34m\u001b[0m\u001b[0m\n",
      "\u001b[0m\u001b[0;32m---> 25 \u001b[0;31m        \u001b[0mcols1\u001b[0m\u001b[0;34m[\u001b[0m\u001b[0mj\u001b[0m\u001b[0;34m]\u001b[0m\u001b[0;34m.\u001b[0m\u001b[0mappend\u001b[0m\u001b[0;34m(\u001b[0m\u001b[0mlag_cols\u001b[0m\u001b[0;34m[\u001b[0m\u001b[0mlags\u001b[0m\u001b[0;34m.\u001b[0m\u001b[0mindex\u001b[0m\u001b[0;34m(\u001b[0m\u001b[0mw1dfd\u001b[0m\u001b[0;34m.\u001b[0m\u001b[0miloc\u001b[0m\u001b[0;34m[\u001b[0m\u001b[0mi\u001b[0m\u001b[0;34m]\u001b[0m\u001b[0;34m[\u001b[0m\u001b[0;34m'lag'\u001b[0m\u001b[0;34m]\u001b[0m\u001b[0;34m)\u001b[0m\u001b[0;34m]\u001b[0m\u001b[0;34m)\u001b[0m\u001b[0;34m\u001b[0m\u001b[0;34m\u001b[0m\u001b[0m\n",
      "\u001b[0m\n",
      "*** SyntaxError: EOL while scanning string literal\n",
      "*** SyntaxError: EOL while scanning string literal\n",
      "'gaussian'\n",
      "> \u001b[0;32m/tmp/ipykernel_14321/53335161.py\u001b[0m(23)\u001b[0;36m<cell line: 11>\u001b[0;34m()\u001b[0m\n",
      "\u001b[0;32m     21 \u001b[0;31m\u001b[0;34m\u001b[0m\u001b[0m\n",
      "\u001b[0m\u001b[0;32m     22 \u001b[0;31m        \u001b[0;32mif\u001b[0m \u001b[0mr2_act_pairs\u001b[0m\u001b[0;34m[\u001b[0m\u001b[0mj\u001b[0m\u001b[0;34m,\u001b[0m \u001b[0mi\u001b[0m\u001b[0;34m,\u001b[0m \u001b[0;36m1\u001b[0m\u001b[0;34m]\u001b[0m \u001b[0;34m>\u001b[0m \u001b[0;36m15\u001b[0m\u001b[0;34m:\u001b[0m\u001b[0;34m\u001b[0m\u001b[0;34m\u001b[0m\u001b[0m\n",
      "\u001b[0m\u001b[0;32m---> 23 \u001b[0;31m            \u001b[0mpdb\u001b[0m\u001b[0;34m.\u001b[0m\u001b[0mset_trace\u001b[0m\u001b[0;34m(\u001b[0m\u001b[0;34m)\u001b[0m\u001b[0;34m\u001b[0m\u001b[0;34m\u001b[0m\u001b[0m\n",
      "\u001b[0m\u001b[0;32m     24 \u001b[0;31m\u001b[0;34m\u001b[0m\u001b[0m\n",
      "\u001b[0m\u001b[0;32m     25 \u001b[0;31m        \u001b[0mcols1\u001b[0m\u001b[0;34m[\u001b[0m\u001b[0mj\u001b[0m\u001b[0;34m]\u001b[0m\u001b[0;34m.\u001b[0m\u001b[0mappend\u001b[0m\u001b[0;34m(\u001b[0m\u001b[0mlag_cols\u001b[0m\u001b[0;34m[\u001b[0m\u001b[0mlags\u001b[0m\u001b[0;34m.\u001b[0m\u001b[0mindex\u001b[0m\u001b[0;34m(\u001b[0m\u001b[0mw1dfd\u001b[0m\u001b[0;34m.\u001b[0m\u001b[0miloc\u001b[0m\u001b[0;34m[\u001b[0m\u001b[0mi\u001b[0m\u001b[0;34m]\u001b[0m\u001b[0;34m[\u001b[0m\u001b[0;34m'lag'\u001b[0m\u001b[0;34m]\u001b[0m\u001b[0;34m)\u001b[0m\u001b[0;34m]\u001b[0m\u001b[0;34m)\u001b[0m\u001b[0;34m\u001b[0m\u001b[0;34m\u001b[0m\u001b[0m\n",
      "\u001b[0m\n",
      "'gaussian'\n",
      "'gaussian'\n",
      "> \u001b[0;32m/tmp/ipykernel_14321/53335161.py\u001b[0m(25)\u001b[0;36m<cell line: 11>\u001b[0;34m()\u001b[0m\n",
      "\u001b[0;32m     21 \u001b[0;31m\u001b[0;34m\u001b[0m\u001b[0m\n",
      "\u001b[0m\u001b[0;32m     22 \u001b[0;31m        \u001b[0;32mif\u001b[0m \u001b[0mr2_act_pairs\u001b[0m\u001b[0;34m[\u001b[0m\u001b[0mj\u001b[0m\u001b[0;34m,\u001b[0m \u001b[0mi\u001b[0m\u001b[0;34m,\u001b[0m \u001b[0;36m1\u001b[0m\u001b[0;34m]\u001b[0m \u001b[0;34m>\u001b[0m \u001b[0;36m15\u001b[0m\u001b[0;34m:\u001b[0m\u001b[0;34m\u001b[0m\u001b[0;34m\u001b[0m\u001b[0m\n",
      "\u001b[0m\u001b[0;32m     23 \u001b[0;31m            \u001b[0mpdb\u001b[0m\u001b[0;34m.\u001b[0m\u001b[0mset_trace\u001b[0m\u001b[0;34m(\u001b[0m\u001b[0;34m)\u001b[0m\u001b[0;34m\u001b[0m\u001b[0;34m\u001b[0m\u001b[0m\n",
      "\u001b[0m\u001b[0;32m     24 \u001b[0;31m\u001b[0;34m\u001b[0m\u001b[0m\n",
      "\u001b[0m\u001b[0;32m---> 25 \u001b[0;31m        \u001b[0mcols1\u001b[0m\u001b[0;34m[\u001b[0m\u001b[0mj\u001b[0m\u001b[0;34m]\u001b[0m\u001b[0;34m.\u001b[0m\u001b[0mappend\u001b[0m\u001b[0;34m(\u001b[0m\u001b[0mlag_cols\u001b[0m\u001b[0;34m[\u001b[0m\u001b[0mlags\u001b[0m\u001b[0;34m.\u001b[0m\u001b[0mindex\u001b[0m\u001b[0;34m(\u001b[0m\u001b[0mw1dfd\u001b[0m\u001b[0;34m.\u001b[0m\u001b[0miloc\u001b[0m\u001b[0;34m[\u001b[0m\u001b[0mi\u001b[0m\u001b[0;34m]\u001b[0m\u001b[0;34m[\u001b[0m\u001b[0;34m'lag'\u001b[0m\u001b[0;34m]\u001b[0m\u001b[0;34m)\u001b[0m\u001b[0;34m]\u001b[0m\u001b[0;34m)\u001b[0m\u001b[0;34m\u001b[0m\u001b[0;34m\u001b[0m\u001b[0m\n",
      "\u001b[0m\n"
     ]
    }
   ],
   "source": [
    "# we messed up window function so for now restrict analysis to window size 1\n",
    "w1df = apply_df_filters(dfvalid, win=1)\n",
    "r2_act_pairs = np.zeros((2, w1df.shape[0]//2, 3))\n",
    "\n",
    "lag_cols = ['r', 'k', 'b']\n",
    "#win_markers = ['s', 't', 'o']\n",
    "#win_cols = ['r', 'g', 'b']\n",
    "\n",
    "cols1 = []\n",
    "cols2 = []\n",
    "for j in range(2):\n",
    "    cols1.append([])\n",
    "    w1dfd = apply_df_filters(w1df, didx=j, reset_index=False)\n",
    "    print(w1dfd.index)\n",
    "    for i in range(w1dfd.shape[0]):\n",
    "        acf_df_ = apply_df_filters(acfdf, didx=w1dfd.iloc[i]['didx'], bin_width=w1dfd.iloc[i]['bin_width'], filter_fn=w1dfd.iloc[i]['filter_fn'], filter_kwargs=w1dfd.iloc[i]['filter_kwargs'])\n",
    "        assert(acf_df_.shape[0] == 1)\n",
    "        r2_act_pairs[j, i, 0] = np.mean(lr2_cc[w1dfd.index[i], :, 1])\n",
    "        r2_act_pairs[j, i, 1] = np.mean(np.concatenate([acf_df_.iloc[0]['M1act'], acf_df_.iloc[0]['S1act']]))\n",
    "        r2_act_pairs[j, i, 2] = np.median(np.concatenate([acf_df_.iloc[0]['M1act'], acf_df_.iloc[0]['S1act']]))\n",
    "\n",
    "        if r2_act_pairs[j, i, 1] > 15:\n",
    "            pdb.set_trace()\n",
    "\n",
    "        cols1[j].append(lag_cols[lags.index(w1dfd.iloc[i]['lag'])])"
   ]
  },
  {
   "cell_type": "code",
   "execution_count": 56,
   "metadata": {},
   "outputs": [
    {
     "data": {
      "text/plain": [
       "(2, 30, 3)"
      ]
     },
     "execution_count": 56,
     "metadata": {},
     "output_type": "execute_result"
    }
   ],
   "source": [
    "r2_act_pairs.shape"
   ]
  },
  {
   "cell_type": "code",
   "execution_count": 59,
   "metadata": {},
   "outputs": [
    {
     "data": {
      "text/plain": [
       "array([0.0226651 , 0.02431   , 0.02770665, 0.00545844, 0.00536478,\n",
       "       0.00527676, 0.05300787, 0.06348709, 0.07467927, 0.01680801,\n",
       "       0.0208551 , 0.02074643, 0.11944275, 0.15018261, 0.19510693,\n",
       "       0.05995042, 0.07355582, 0.09458161, 0.16462552, 0.22545524,\n",
       "       0.32360739, 0.10434634, 0.1421998 , 0.20607247, 0.56525554,\n",
       "       0.61221708, 0.65327238, 0.29926244, 0.31120795, 0.32255143])"
      ]
     },
     "execution_count": 59,
     "metadata": {},
     "output_type": "execute_result"
    }
   ],
   "source": [
    "r2_act_pairs[0, :, 0]"
   ]
  },
  {
   "cell_type": "code",
   "execution_count": 58,
   "metadata": {},
   "outputs": [
    {
     "data": {
      "text/plain": [
       "18"
      ]
     },
     "execution_count": 58,
     "metadata": {},
     "output_type": "execute_result"
    }
   ],
   "source": [
    "np.argmax(r2_act_pairs[0, :, 1])"
   ]
  },
  {
   "cell_type": "code",
   "execution_count": null,
   "metadata": {},
   "outputs": [],
   "source": []
  },
  {
   "cell_type": "code",
   "execution_count": 92,
   "metadata": {},
   "outputs": [
    {
     "data": {
      "text/plain": [
       "Text(0.5, 1.0, 'Loco')"
      ]
     },
     "execution_count": 92,
     "metadata": {},
     "output_type": "execute_result"
    },
    {
     "data": {
      "image/png": "[encoded data removed]",
      "text/plain": [
       "<Figure size 1000x500 with 2 Axes>"
      ]
     },
     "metadata": {},
     "output_type": "display_data"
    }
   ],
   "source": [
    "# Additionally color code by lag/window size combinations\n",
    "fig, ax = plt.subplots(1, 2, figsize=(10, 5))\n",
    "\n",
    "r2_act_pairs[r2_act_pairs < -1] = np.nan\n",
    "\n",
    "ax[0].scatter(r2_act_pairs[0, :, 1], r2_act_pairs[0, :, 0], c=cols1[0], alpha=0.5)\n",
    "ax[1].scatter(r2_act_pairs[1, :, 1], r2_act_pairs[1, :, 0], c=cols1[0], alpha=0.5)\n",
    "ax[0].set_ylabel('Cross-Validated' + r'$r^2$')\n",
    "ax[1].set_ylabel('Cross-Validated' + r'$r^2$')\n",
    "ax[0].set_xlabel('Mean Autocorrelation Time (ms)')\n",
    "ax[1].set_xlabel('Mean Autocorrelation Time (ms)')\n",
    "ax[0].set_title('Indy')\n",
    "ax[1].set_title('Loco')\n",
    "# fig.savefig('/home/akumar/nse/neural_control/figs/timescales/s1m1r2.pdf', bbox_inches='tight',  pad_inches=0)"
   ]
  },
  {
   "cell_type": "code",
   "execution_count": 60,
   "metadata": {},
   "outputs": [
    {
     "data": {
      "text/plain": [
       "array([0.86040743, 0.82433279, 0.75909007, 0.71321485, 0.67521948,\n",
       "       0.63765622])"
      ]
     },
     "execution_count": 60,
     "metadata": {},
     "output_type": "execute_result"
    }
   ],
   "source": [
    "np.max(lr2_cc, axis=0)"
   ]
  },
  {
   "cell_type": "code",
   "execution_count": null,
   "metadata": {},
   "outputs": [],
   "source": [
    "# Which preprocessing parameters are responsible for the really bad regression?"
   ]
  },
  {
   "cell_type": "markdown",
   "metadata": {},
   "source": [
    "### Subspace analysis"
   ]
  },
  {
   "cell_type": "code",
   "execution_count": null,
   "metadata": {},
   "outputs": [],
   "source": [
    "# predictability monotonically decreases"
   ]
  },
  {
   "cell_type": "code",
   "execution_count": 61,
   "metadata": {},
   "outputs": [],
   "source": [
    "# One queston one should resolve is whether the most predictable direction is given by CCA. In the communication subspace paper, one uses factor analysis to\n",
    "# resolve this question, but this is geared towards explanations of variance"
   ]
  },
  {
   "cell_type": "code",
   "execution_count": 62,
   "metadata": {},
   "outputs": [],
   "source": [
    "# Subsequent question: What is the subspace angle relationship of the canonical correlation vectors to the subspace methods? \n",
    "# How predictable are the subspace dynamics (linearly, or GLM) from S1 activity?"
   ]
  },
  {
   "cell_type": "code",
   "execution_count": 30,
   "metadata": {},
   "outputs": [],
   "source": [
    "argfiles = glob.glob('/mnt/Secondary/data/timescale_dimreduc/arg*dat')"
   ]
  },
  {
   "cell_type": "code",
   "execution_count": 31,
   "metadata": {},
   "outputs": [],
   "source": [
    "rl = []\n",
    "for argfile in argfiles:\n",
    "    with open(argfile, 'rb') as f:\n",
    "        args = pickle.load(f)\n",
    "    argno = argfile.split('arg')[1].split('.dat')[0]\n",
    "    r = {}\n",
    "    r['rf'] = args['results_file']\n",
    "    r['data_file'] = args['data_file']\n",
    "    r['dr_method'] = args['task_args']['dimreduc_method']\n",
    "    r['dr_args'] = args['task_args']['dimreduc_args']\n",
    "    rl.append(r)"
   ]
  },
  {
   "cell_type": "code",
   "execution_count": 32,
   "metadata": {},
   "outputs": [],
   "source": [
    "ref_df = pd.DataFrame(rl)"
   ]
  },
  {
   "cell_type": "code",
   "execution_count": 33,
   "metadata": {},
   "outputs": [],
   "source": [
    "# Use the ref_df to answer the following questions:\n",
    "# (1) What is the subspace angle relationship between the subspace methods and the top canonical correlation vectors?\n",
    "# (2) How predictable are the subspaces from the S1 activity?"
   ]
  },
  {
   "cell_type": "code",
   "execution_count": 35,
   "metadata": {},
   "outputs": [
    {
     "name": "stderr",
     "output_type": "stream",
     "text": [
      "100%|██████████| 60/60 [00:41<00:00,  1.43it/s]\n"
     ]
    }
   ],
   "source": [
    "# Restrict to window length 1\n",
    "dfw1 = apply_df_filters(dfvalid, win=1)\n",
    "\n",
    "# N unique cca fits x dr types x folds x dims\n",
    "ssa_avg = np.zeros((dfw1.shape[0], 4, 5, 3))\n",
    "ssa_min = np.zeros((dfw1.shape[0], 4, 5, 3))\n",
    "\n",
    "for i in tqdm(range(dfw1.shape[0])):\n",
    "    with open(dfw1.iloc[i]['fl'], 'rb') as f:\n",
    "        datM1 = pickle.load(f)\n",
    "        datS1 = pickle.load(f)\n",
    "        lparam = pickle.load(f)\n",
    "\n",
    "    Y = datM1['spike_rates'].squeeze()\n",
    "    X = datS1['spike_rates'].squeeze()\n",
    "\n",
    "    lag = dfw1.iloc[i]['lag']\n",
    "    w = dfw1.iloc[i]['win']\n",
    "\n",
    "    model = dfw1.iloc[i]['ccamodel']\n",
    "\n",
    "    # Grab the files specific to the \n",
    "    pcadf = apply_df_filters(ref_df, data_file=dfw1.iloc[i]['fl'], dr_method='PCA')\n",
    "    assert(pcadf.shape[0] == 1)\n",
    "    with open(pcadf.iloc[0]['rf'], 'rb') as f:\n",
    "        results = pickle.load(f)\n",
    "\n",
    "    drdf = pd.DataFrame(results)\n",
    "\n",
    "    Vcca = model.y_weights_\n",
    "\n",
    "    if len(drdf) > 0:\n",
    "        # For each fold, and dimensions 2-6, measure the min and average subspace angle\n",
    "        for fold in range(5):\n",
    "            for didx, dim in enumerate(np.array([2, 4, 6])):\n",
    "                try:\n",
    "                    d_ = apply_df_filters(drdf, dim=dim, fold_idx=fold)\n",
    "                except:\n",
    "                    pdb.set_trace()\n",
    "                assert(d_.shape[0] == 1)\n",
    "                Vpca = d_.iloc[0]['coef']\n",
    "                ssangles = scipy.linalg.subspace_angles(Vpca, Vcca)\n",
    "                ssa_avg[i, 0, fold, didx] = np.mean(ssangles)\n",
    "                ssa_min[i, 0, fold, didx] = np.min(ssangles)\n",
    "\n",
    "    else:\n",
    "        ssa_avg[i, 0] = np.nan\n",
    "        ssa_min[i, 0] = np.nan\n",
    "\n",
    "    lqgdf = apply_df_filters(ref_df, data_file=dfw1.iloc[i]['fl'], dr_method='LQGCA')\n",
    "    assert(lqgdf.shape[0] == 3)\n",
    "\n",
    "    # Keep consistent ordering of dimreduc args\n",
    "    drargs = [{'T':3, 'loss_type':'trace', 'n_init':10}, {'T':1, 'loss_type':'trace', 'n_init':10},\n",
    "              {'T':6, 'loss_type':'trace', 'n_init':10}]\n",
    "\n",
    "    for j in range(3): \n",
    "        lqgdf_ = apply_df_filters(lqgdf, dr_args=drargs[j])\n",
    "        with open(lqgdf_.iloc[0]['rf'], 'rb') as f:\n",
    "            results = pickle.load(f)\n",
    "\n",
    "        drdf = pd.DataFrame(results)\n",
    "\n",
    "        for fold in range(5):\n",
    "            for didx, dim in enumerate(np.array([2, 4, 6])):\n",
    "                try:\n",
    "                    d_ = apply_df_filters(drdf, dim=dim, fold_idx=fold)\n",
    "                    Vlqg = d_.iloc[0]['coef']\n",
    "                    ssangles = scipy.linalg.subspace_angles(Vlqg, Vcca)\n",
    "                    ssa_avg[i, j + 1, fold, didx] = np.mean(ssangles)\n",
    "                    ssa_min[i, j + 1, fold, didx] = np.min(ssangles)    \n",
    "                except:\n",
    "                    ssa_avg[i, j + 1, fold, didx] = np.nan\n",
    "                    ssa_min[i, j + 1, fold, didx] = np.nan    \n",
    "            "
   ]
  },
  {
   "cell_type": "code",
   "execution_count": 43,
   "metadata": {},
   "outputs": [
    {
     "name": "stderr",
     "output_type": "stream",
     "text": [
      "100%|██████████| 60/60 [00:08<00:00,  6.72it/s]\n"
     ]
    }
   ],
   "source": [
    "# Restrict to window length 1\n",
    "dfw1 = apply_df_filters(dfvalid, win=1)\n",
    "\n",
    "# N unique cca fits x dr types x folds x dims\n",
    "method_ssa_avg = np.zeros((dfw1.shape[0], 5, 3))\n",
    "method_ssa_min = np.zeros((dfw1.shape[0], 5, 3))\n",
    "\n",
    "for i in tqdm(range(dfw1.shape[0])):\n",
    "    # Grab the files specific to the \n",
    "    pcadf = apply_df_filters(ref_df, data_file=dfw1.iloc[i]['fl'], dr_method='PCA')\n",
    "    assert(pcadf.shape[0] == 1)\n",
    "    with open(pcadf.iloc[0]['rf'], 'rb') as f:\n",
    "        results = pickle.load(f)\n",
    "\n",
    "    drdf_pca = pd.DataFrame(results)\n",
    "    lqgdf = apply_df_filters(ref_df, data_file=dfw1.iloc[i]['fl'], dr_method='LQGCA', dr_args={'T':3, 'loss_type':'trace', 'n_init':10})\n",
    "    assert(lqgdf.shape[0] == 1)\n",
    "    with open(lqgdf.iloc[0]['rf'], 'rb') as f:\n",
    "        results = pickle.load(f)\n",
    "    drdf_lqg = pd.DataFrame(results)\n",
    "\n",
    "    if len(drdf_pca) > 0 and len(drdf_lqg) > 0:\n",
    "        # For each fold, and dimensions 2-6, measure the min and average subspace angle\n",
    "        for fold in range(5):\n",
    "            for didx, dim in enumerate(np.array([2, 4, 6])):\n",
    "\n",
    "                d_pca = apply_df_filters(drdf_pca, dim=dim, fold_idx=fold)\n",
    "                d_lqg = apply_df_filters(drdf_lqg, dim=dim, fold_idx=fold)\n",
    "                assert(d_pca.shape[0] == 1)\n",
    "                assert(d_lqg.shape[0] == 1)\n",
    "                Vpca = d_pca.iloc[0]['coef']\n",
    "                Vlqg = d_lqg.iloc[0]['coef']\n",
    "\n",
    "                ssangles = scipy.linalg.subspace_angles(Vpca, Vlqg)\n",
    "                method_ssa_avg[i, fold, didx] = np.mean(ssangles)\n",
    "                method_ssa_min[i, fold, didx] = np.min(ssangles)\n",
    "\n",
    "    else:\n",
    "        method_ssa_avg[i] = np.nan\n",
    "        method_ssa_min[i] = np.nan"
   ]
  },
  {
   "cell_type": "code",
   "execution_count": 97,
   "metadata": {},
   "outputs": [
    {
     "name": "stdout",
     "output_type": "stream",
     "text": [
      "Int64Index([ 0,  1,  2,  6,  7,  8, 12, 13, 14, 18, 19, 20, 24, 25, 26, 27, 28,\n",
      "            29, 39, 40, 41, 42, 43, 44, 45, 46, 47, 48, 49, 50],\n",
      "           dtype='int64')\n",
      "Int64Index([ 3,  4,  5,  9, 10, 11, 15, 16, 17, 21, 22, 23, 30, 31, 32, 33, 34,\n",
      "            35, 36, 37, 38, 51, 52, 53, 54, 55, 56, 57, 58, 59],\n",
      "           dtype='int64')\n"
     ]
    },
    {
     "name": "stderr",
     "output_type": "stream",
     "text": [
      "/tmp/ipykernel_14321/1388019896.py:19: RuntimeWarning: Mean of empty slice\n",
      "  ssa_act_pairs[j, i, 0] = np.nanmean(ssa_avg[w1dfd.index[i], 0, :, 2])\n",
      "/tmp/ipykernel_14321/1388019896.py:20: RuntimeWarning: Mean of empty slice\n",
      "  ssa_act_pairs[j, i, 1] = np.nanmean(ssa_min[w1dfd.index[i], 0, :, 2])\n",
      "/tmp/ipykernel_14321/1388019896.py:22: RuntimeWarning: Mean of empty slice\n",
      "  ssa_act_pairs[j, i, 2] = np.nanmean(ssa_avg[w1dfd.index[i], 1, :, 2])\n",
      "/tmp/ipykernel_14321/1388019896.py:23: RuntimeWarning: Mean of empty slice\n",
      "  ssa_act_pairs[j, i, 3] = np.nanmean(ssa_min[w1dfd.index[i], 1, :, 2])\n",
      "/tmp/ipykernel_14321/1388019896.py:25: RuntimeWarning: Mean of empty slice\n",
      "  ssa_act_pairs[j, i, 4] = np.nanmean(method_ssa_avg[w1dfd.index[i], :, 2])\n",
      "/tmp/ipykernel_14321/1388019896.py:26: RuntimeWarning: Mean of empty slice\n",
      "  ssa_act_pairs[j, i, 5] = np.nanmean(method_ssa_min[w1dfd.index[i], :, 2])\n"
     ]
    }
   ],
   "source": [
    "# we messed up window function so for now restrict analysis to window size 1\n",
    "w1df = apply_df_filters(dfvalid, win=1)\n",
    "ssa_act_pairs = np.zeros((2, w1df.shape[0]//2, 8))\n",
    "\n",
    "lag_cols = ['r', 'k', 'b']\n",
    "#win_markers = ['s', 't', 'o']\n",
    "#win_cols = ['r', 'g', 'b']\n",
    "\n",
    "cols1 = []\n",
    "cols2 = []\n",
    "for j in range(2):\n",
    "    cols1.append([])\n",
    "    w1dfd = apply_df_filters(w1df, didx=j, reset_index=False)\n",
    "    print(w1dfd.index)\n",
    "    for i in range(w1dfd.shape[0]):\n",
    "        acf_df_ = apply_df_filters(acfdf, didx=w1dfd.iloc[i]['didx'], bin_width=w1dfd.iloc[i]['bin_width'], \n",
    "                                   filter_fn=w1dfd.iloc[i]['filter_fn'], filter_kwargs=w1dfd.iloc[i]['filter_kwargs'])\n",
    "        assert(acf_df_.shape[0] == 1)\n",
    "        ssa_act_pairs[j, i, 0] = np.nanmean(ssa_avg[w1dfd.index[i], 0, :, 2])\n",
    "        ssa_act_pairs[j, i, 1] = np.nanmean(ssa_min[w1dfd.index[i], 0, :, 2])\n",
    "\n",
    "        ssa_act_pairs[j, i, 2] = np.nanmean(ssa_avg[w1dfd.index[i], 1, :, 2])\n",
    "        ssa_act_pairs[j, i, 3] = np.nanmean(ssa_min[w1dfd.index[i], 1, :, 2])\n",
    "\n",
    "        ssa_act_pairs[j, i, 4] = np.nanmean(method_ssa_avg[w1dfd.index[i], :, 2])\n",
    "        ssa_act_pairs[j, i, 5] = np.nanmean(method_ssa_min[w1dfd.index[i], :, 2])\n",
    "\n",
    "        ssa_act_pairs[j, i, 6] = np.mean(np.concatenate([acf_df_.iloc[0]['M1act'], acf_df_.iloc[0]['S1act']]))\n",
    "        ssa_act_pairs[j, i, 7] = np.median(np.concatenate([acf_df_.iloc[0]['M1act'], acf_df_.iloc[0]['S1act']]))\n",
    "\n",
    "        cols1[j].append(lag_cols[lags.index(w1dfd.iloc[i]['lag'])])"
   ]
  },
  {
   "cell_type": "code",
   "execution_count": 40,
   "metadata": {},
   "outputs": [
    {
     "data": {
      "text/plain": [
       "(60, 4, 5, 3)"
      ]
     },
     "execution_count": 40,
     "metadata": {},
     "output_type": "execute_result"
    }
   ],
   "source": [
    "# Boxplot average/min subspace angle as a function fo autocorrelation time... --> CCA with PCA,LQG, PCA vs. LQG (3 parallel boxplots)"
   ]
  },
  {
   "cell_type": "code",
   "execution_count": 47,
   "metadata": {},
   "outputs": [
    {
     "data": {
      "text/plain": [
       "(2, 30, 8)"
      ]
     },
     "execution_count": 47,
     "metadata": {},
     "output_type": "execute_result"
    }
   ],
   "source": [
    "ssa_act_pairs.shape"
   ]
  },
  {
   "cell_type": "code",
   "execution_count": 99,
   "metadata": {},
   "outputs": [
    {
     "data": {
      "image/png": "[encoded data removed]",
      "text/plain": [
       "<Figure size 1000x1000 with 2 Axes>"
      ]
     },
     "metadata": {},
     "output_type": "display_data"
    }
   ],
   "source": [
    "fig, ax = plt.subplots(2, 1, figsize=(10, 10))\n",
    "\n",
    "# xvals = 5 * ssa_act_pairs[0, :, 6]\n",
    "# ax[0].bar(xvals, ssa_act_pairs[0, :, 0], alpha=0.5)\n",
    "# ax[0].bar(xvals - 1, ssa_act_pairs[0, :, 2], alpha=0.5)\n",
    "# ax[0].bar(xvals + 1, ssa_act_pairs[0, :, 4], alpha=0.5)\n",
    "# ax[0].set_xticklabels(ssa_act_pairs[0, :, 6])\n",
    "# ax[0].set_xlabel('Increasing autocorrelation -->')\n",
    "# ax[0].set_title('Indy')\n",
    "\n",
    "# xvals = 5 * ssa_act_pairs[1, :, 6]\n",
    "# ax[1].bar(xvals, ssa_act_pairs[1, :, 0], alpha=0.5)\n",
    "# ax[1].bar(xvals - 1, ssa_act_pairs[1, :, 2], alpha=0.5)\n",
    "# ax[1].bar(xvals + 1, ssa_act_pairs[1, :, 4], alpha=0.5)\n",
    "\n",
    "ax[0].scatter(ssa_act_pairs[0, :, 6], ssa_act_pairs[0, :, 1])\n",
    "ax[0].scatter(ssa_act_pairs[0, :, 6], ssa_act_pairs[0, :, 3])\n",
    "ax[0].scatter(ssa_act_pairs[0, :, 6], ssa_act_pairs[0, :, 5])\n",
    "ax[0].set_ylim([0, np.pi/2])\n",
    "ax[0].set_title('Indy')\n",
    "ax[0].set_xlabel('Autocorrelation (ms)')\n",
    "ax[0].set_ylabel('Subspace Angle (rad)')\n",
    "ax[0].legend(['PCA/CCA', 'FCCA/CCA', 'PCA/FCCA'])\n",
    "\n",
    "\n",
    "ax[1].scatter(ssa_act_pairs[1, :, 6], ssa_act_pairs[1, :, 1])\n",
    "ax[1].scatter(ssa_act_pairs[1, :, 6], ssa_act_pairs[1, :, 3])\n",
    "ax[1].scatter(ssa_act_pairs[1, :, 6], ssa_act_pairs[1, :, 5])\n",
    "ax[1].set_ylim([0, np.pi/2])\n",
    "ax[1].set_title('Loco')\n",
    "ax[1].set_xlabel('Autocorrelation (ms)')\n",
    "ax[1].set_ylabel('Subspace Angle (rad)')\n",
    "ax[1].legend(['PCA/CCA', 'FCCA/CCA', 'PCA/FCCA'])\n",
    "\n",
    "fig.savefig('/home/akumar/nse/neural_control/figs/timescales/subspace_angles.pdf', bbox_inches='tight', pad_inches=0)"
   ]
  },
  {
   "cell_type": "code",
   "execution_count": 74,
   "metadata": {},
   "outputs": [
    {
     "name": "stderr",
     "output_type": "stream",
     "text": [
      "100%|██████████| 60/60 [1:06:05<00:00, 66.09s/it]\n"
     ]
    }
   ],
   "source": [
    "# For dimensions 2-6, perform a cross-validated regression from S1 activity to the projected activity of each of the methods.\n",
    "# This has no interaction with cca. Therefore, remove the iteration over windows\n",
    "\n",
    "# N unique cca fits x dr types x folds x dims\n",
    "dfw1 = apply_df_filters(dfvalid, win=1)\n",
    "subspace_r2 = np.zeros((dfw1.shape[0], 4, 5, 3))\n",
    "\n",
    "for i in tqdm(range(dfw1.shape[0])):\n",
    "    with open(dfw1.iloc[i]['fl'], 'rb') as f:\n",
    "        datM1 = pickle.load(f)\n",
    "        datS1 = pickle.load(f)\n",
    "        lparam = pickle.load(f)\n",
    "\n",
    "    Y = datM1['spike_rates'].squeeze()\n",
    "    X = datS1['spike_rates'].squeeze()\n",
    "    lag = dfw1.iloc[i]['lag']\n",
    "    w = dfw1.iloc[i]['win']\n",
    "\n",
    "    model = dfw1.iloc[i]['ccamodel']\n",
    "\n",
    "    # Grab the files specific to the \n",
    "    pcadf = apply_df_filters(ref_df, data_file=dfw1.iloc[i]['fl'], dr_method='PCA')\n",
    "    assert(pcadf.shape[0] == 1)\n",
    "    with open(pcadf.iloc[0]['rf'], 'rb') as f:\n",
    "        results = pickle.load(f)\n",
    "\n",
    "    drdf = pd.DataFrame(results)\n",
    "\n",
    "    Vcca = model.y_weights_\n",
    "\n",
    "    # For each fold, and dimensions 2-6, measure the min and average subspace angle\n",
    "    for fold in range(5):\n",
    "        for didx, dim in enumerate(np.array([2, 4, 6])):\n",
    "            try:\n",
    "                d_ = apply_df_filters(drdf, dim=dim, fold_idx=fold)\n",
    "                assert(d_.shape[0] == 1)\n",
    "            except:\n",
    "                subspace_r2[i, 0, fold, didx] = np.nan\n",
    "                continue\n",
    "\n",
    "            Vpca = d_.iloc[0]['coef']\n",
    "\n",
    "            ytrain = Y[d_.iloc[0]['train_idxs']] @ Vpca\n",
    "            ytest = Y[d_.iloc[0]['test_idxs']] @ Vpca\n",
    "\n",
    "            xtrain = X[d_.iloc[0]['train_idxs']]\n",
    "            xtest = X[d_.iloc[0]['test_idxs']]\n",
    "\n",
    "            # Apply window and lag relative to each other\n",
    "            if lag != 0:\n",
    "                xtrain = xtrain[:-lag, :]\n",
    "                ytrain = ytrain[lag:, :]\n",
    "\n",
    "                xtest = xtest[:-lag, :]\n",
    "                ytest = ytest[lag:, :]\n",
    "\n",
    "            ytrain = StandardScaler().fit_transform(ytrain)\n",
    "            xtrain = StandardScaler().fit_transform(xtrain)\n",
    "\n",
    "            ytest = StandardScaler().fit_transform(ytest)\n",
    "            xtest = StandardScaler().fit_transform(xtest)\n",
    "\n",
    "            linmodel = RidgeCV()\n",
    "            linmodel.fit(xtrain, ytrain)\n",
    "            subspace_r2[i, 0, fold, didx] = linmodel.score(xtest, ytest)\n",
    "\n",
    "    lqgdf = apply_df_filters(ref_df, data_file=dfw1.iloc[i]['fl'], dr_method='LQGCA')\n",
    "    assert(lqgdf.shape[0] == 3)\n",
    "\n",
    "    # Keep consistent ordering of dimreduc args\n",
    "    drargs = [{'T':3, 'loss_type':'trace', 'n_init':10}, {'T':1, 'loss_type':'trace', 'n_init':10},\n",
    "              {'T':6, 'loss_type':'trace', 'n_init':10}]\n",
    "\n",
    "    for j in range(3): \n",
    "        lqgdf_ = apply_df_filters(lqgdf, dr_args=drargs[j])\n",
    "        with open(lqgdf_.iloc[0]['rf'], 'rb') as f:\n",
    "            results = pickle.load(f)\n",
    "\n",
    "        drdf = pd.DataFrame(results)\n",
    "        for fold in range(5):\n",
    "            for didx, dim in enumerate(np.array([2, 4, 6])):\n",
    "                try:\n",
    "                    d_ = apply_df_filters(drdf, dim=dim, fold_idx=fold)\n",
    "                    assert(d_.shape[0] == 1)\n",
    "                except:\n",
    "                    subspace_r2[i, j + 1, fold, didx] = np.nan\n",
    "                    continue\n",
    "\n",
    "                Vlqg = d_.iloc[0]['coef']\n",
    "\n",
    "                ytrain = Y[d_.iloc[0]['train_idxs']] @ Vlqg\n",
    "                ytest = Y[d_.iloc[0]['test_idxs']] @ Vlqg\n",
    "\n",
    "                xtrain = X[d_.iloc[0]['train_idxs']]\n",
    "                xtest = X[d_.iloc[0]['test_idxs']]\n",
    "\n",
    "                # Apply window and lag relative to each other\n",
    "                if lag != 0:\n",
    "                    xtrain = xtrain[:-lag, :]\n",
    "                    ytrain = ytrain[lag:, :]\n",
    "\n",
    "                    xtest = xtest[:-lag, :]\n",
    "                    ytest = ytest[lag:, :]\n",
    "\n",
    "                ytrain = StandardScaler().fit_transform(ytrain)\n",
    "                xtrain = StandardScaler().fit_transform(xtrain)\n",
    "\n",
    "                ytest = StandardScaler().fit_transform(ytest)\n",
    "                xtest = StandardScaler().fit_transform(xtest)\n",
    "\n",
    "                linmodel = RidgeCV()\n",
    "                linmodel.fit(xtrain, ytrain)    \n",
    "                subspace_r2[i, j + 1, fold, didx] = linmodel.score(xtest, ytest)\n",
    "\n",
    "    # For dimensions 2-6, perform a cross-validated regression from S1 activity to the projected activity of each of the methods.\n",
    "    # This has no interaction with cca\n",
    "    "
   ]
  },
  {
   "cell_type": "code",
   "execution_count": 75,
   "metadata": {},
   "outputs": [],
   "source": [
    "# with open('s1_subspace_regression.pkl', 'wb') as f:\n",
    "#     f.write(pickle.dumps(subspace_r2))\n",
    "with open('s1_subspace_regression.pkl', 'rb') as f:\n",
    "    subspace_r2 = pickle.load(f)"
   ]
  },
  {
   "cell_type": "code",
   "execution_count": 103,
   "metadata": {},
   "outputs": [],
   "source": [
    "# we messed up window function so for now restrict analysis to window size 1\n",
    "w1df = apply_df_filters(dfvalid, win=1)\n",
    "sr2_act_pairs = np.zeros((2, w1df.shape[0]//2, 6))\n",
    "\n",
    "lag_cols = ['r', 'k', 'b']\n",
    "#win_markers = ['s', 't', 'o']\n",
    "#win_cols = ['r', 'g', 'b']\n",
    "\n",
    "cols1 = []\n",
    "cols2 = []\n",
    "for j in range(2):\n",
    "    cols1.append([])\n",
    "    w1dfd = apply_df_filters(w1df, didx=j, reset_index=False)\n",
    "    for i in range(w1dfd.shape[0]):\n",
    "        acf_df_ = apply_df_filters(acfdf, didx=w1dfd.iloc[i]['didx'], bin_width=w1dfd.iloc[i]['bin_width'], filter_fn=w1dfd.iloc[i]['filter_fn'], filter_kwargs=w1dfd.iloc[i]['filter_kwargs'])\n",
    "        assert(acf_df_.shape[0] == 1)\n",
    "        sr2_act_pairs[j, i, 0] = np.mean(subspace_r2[w1dfd.index[i], :, 0, 0])\n",
    "        sr2_act_pairs[j, i, 1] = np.mean(subspace_r2[w1dfd.index[i], :, 1, 0])\n",
    "        sr2_act_pairs[j, i, 2] = np.mean(subspace_r2[w1dfd.index[i], :, 2, 0])\n",
    "        sr2_act_pairs[j, i, 3] = np.mean(subspace_r2[w1dfd.index[i], :, 3, 0])\n",
    "        sr2_act_pairs[j, i, 4] = np.mean(np.concatenate([acf_df_.iloc[0]['M1act'], acf_df_.iloc[0]['S1act']]))\n",
    "        sr2_act_pairs[j, i, 5] = np.median(np.concatenate([acf_df_.iloc[0]['M1act'], acf_df_.iloc[0]['S1act']]))\n",
    "\n",
    "        cols1[j].append(lag_cols[lags.index(w1dfd.iloc[i]['lag'])])"
   ]
  },
  {
   "cell_type": "code",
   "execution_count": 107,
   "metadata": {},
   "outputs": [
    {
     "data": {
      "image/png": "[encoded data removed]",
      "text/plain": [
       "<Figure size 1000x500 with 2 Axes>"
      ]
     },
     "metadata": {},
     "output_type": "display_data"
    }
   ],
   "source": [
    "fig, ax = plt.subplots(1, 2, figsize=(10, 5))\n",
    "\n",
    "r2_act_pairs[r2_act_pairs < -1] = np.nan\n",
    "\n",
    "ax[0].scatter(sr2_act_pairs[0, :, 4], sr2_act_pairs[0, :, 0], alpha=0.5)\n",
    "ax[0].scatter(sr2_act_pairs[0, :, 4], sr2_act_pairs[0, :, 1], alpha=0.5)\n",
    "ax[1].scatter(sr2_act_pairs[1, :, 4], sr2_act_pairs[1, :, 0], alpha=0.5)\n",
    "ax[1].scatter(sr2_act_pairs[1, :, 4], sr2_act_pairs[1, :, 1], alpha=0.5)\n",
    "\n",
    "ax[0].set_ylabel('Cross-Validated' + r'$r^2$')\n",
    "ax[1].set_ylabel('Cross-Validated' + r'$r^2$')\n",
    "ax[0].set_xlabel('Mean Autocorrelation Time (ms)')\n",
    "ax[1].set_xlabel('Mean Autocorrelation Time (ms)')\n",
    "ax[0].set_title('Indy')\n",
    "ax[1].set_title('Loco')\n",
    "ax[0].legend(['S1->PCA', 'S1->FCCA'])\n",
    "\n",
    "fig.savefig('/home/akumar/nse/neural_control/figs/timescales/s1m1r2_subspaces.pdf', bbox_inches='tight',  pad_inches=0)"
   ]
  },
  {
   "cell_type": "code",
   "execution_count": null,
   "metadata": {},
   "outputs": [],
   "source": [
    "# What about bin size 50 ms?"
   ]
  },
  {
   "cell_type": "code",
   "execution_count": 77,
   "metadata": {},
   "outputs": [],
   "source": [
    "# Prediction of subspace activity from the M1 CC vector"
   ]
  },
  {
   "cell_type": "code",
   "execution_count": 111,
   "metadata": {},
   "outputs": [
    {
     "name": "stderr",
     "output_type": "stream",
     "text": [
      " 60%|██████    | 36/60 [02:31<01:41,  4.21s/it]\n"
     ]
    },
    {
     "ename": "IndexError",
     "evalue": "too many indices for array: array is 3-dimensional, but 4 were indexed",
     "output_type": "error",
     "traceback": [
      "\u001b[0;31m---------------------------------------------------------------------------\u001b[0m",
      "\u001b[0;31mKeyError\u001b[0m                                  Traceback (most recent call last)",
      "File \u001b[0;32m~/anaconda3/envs/ncontrol/lib/python3.9/site-packages/pandas/core/indexes/base.py:3621\u001b[0m, in \u001b[0;36mIndex.get_loc\u001b[0;34m(self, key, method, tolerance)\u001b[0m\n\u001b[1;32m   3620\u001b[0m \u001b[38;5;28;01mtry\u001b[39;00m:\n\u001b[0;32m-> 3621\u001b[0m     \u001b[38;5;28;01mreturn\u001b[39;00m \u001b[38;5;28;43mself\u001b[39;49m\u001b[38;5;241;43m.\u001b[39;49m\u001b[43m_engine\u001b[49m\u001b[38;5;241;43m.\u001b[39;49m\u001b[43mget_loc\u001b[49m\u001b[43m(\u001b[49m\u001b[43mcasted_key\u001b[49m\u001b[43m)\u001b[49m\n\u001b[1;32m   3622\u001b[0m \u001b[38;5;28;01mexcept\u001b[39;00m \u001b[38;5;167;01mKeyError\u001b[39;00m \u001b[38;5;28;01mas\u001b[39;00m err:\n",
      "File \u001b[0;32m~/anaconda3/envs/ncontrol/lib/python3.9/site-packages/pandas/_libs/index.pyx:136\u001b[0m, in \u001b[0;36mpandas._libs.index.IndexEngine.get_loc\u001b[0;34m()\u001b[0m\n",
      "File \u001b[0;32m~/anaconda3/envs/ncontrol/lib/python3.9/site-packages/pandas/_libs/index.pyx:163\u001b[0m, in \u001b[0;36mpandas._libs.index.IndexEngine.get_loc\u001b[0;34m()\u001b[0m\n",
      "File \u001b[0;32mpandas/_libs/hashtable_class_helper.pxi:5198\u001b[0m, in \u001b[0;36mpandas._libs.hashtable.PyObjectHashTable.get_item\u001b[0;34m()\u001b[0m\n",
      "File \u001b[0;32mpandas/_libs/hashtable_class_helper.pxi:5206\u001b[0m, in \u001b[0;36mpandas._libs.hashtable.PyObjectHashTable.get_item\u001b[0;34m()\u001b[0m\n",
      "\u001b[0;31mKeyError\u001b[0m: 'dim'",
      "\nThe above exception was the direct cause of the following exception:\n",
      "\u001b[0;31mKeyError\u001b[0m                                  Traceback (most recent call last)",
      "Input \u001b[0;32mIn [111]\u001b[0m, in \u001b[0;36m<cell line: 4>\u001b[0;34m()\u001b[0m\n\u001b[1;32m     32\u001b[0m \u001b[38;5;28;01mtry\u001b[39;00m:\n\u001b[0;32m---> 33\u001b[0m     d_ \u001b[38;5;241m=\u001b[39m \u001b[43mapply_df_filters\u001b[49m\u001b[43m(\u001b[49m\u001b[43mdrdf\u001b[49m\u001b[43m,\u001b[49m\u001b[43m \u001b[49m\u001b[43mdim\u001b[49m\u001b[38;5;241;43m=\u001b[39;49m\u001b[43mdim\u001b[49m\u001b[43m,\u001b[49m\u001b[43m \u001b[49m\u001b[43mfold_idx\u001b[49m\u001b[38;5;241;43m=\u001b[39;49m\u001b[43mfold\u001b[49m\u001b[43m)\u001b[49m\n\u001b[1;32m     34\u001b[0m     \u001b[38;5;28;01massert\u001b[39;00m(d_\u001b[38;5;241m.\u001b[39mshape[\u001b[38;5;241m0\u001b[39m] \u001b[38;5;241m==\u001b[39m \u001b[38;5;241m1\u001b[39m)\n",
      "File \u001b[0;32m~/nse/neural_control/utils.py:89\u001b[0m, in \u001b[0;36mapply_df_filters\u001b[0;34m(dtfrm, invert, reset_index, **kwargs)\u001b[0m\n\u001b[1;32m     88\u001b[0m         \u001b[38;5;28;01melse\u001b[39;00m:\n\u001b[0;32m---> 89\u001b[0m             filtered_df \u001b[38;5;241m=\u001b[39m filtered_df\u001b[38;5;241m.\u001b[39mloc[\u001b[43mfiltered_df\u001b[49m\u001b[43m[\u001b[49m\u001b[43mkey\u001b[49m\u001b[43m]\u001b[49m \u001b[38;5;241m==\u001b[39m value]\n\u001b[1;32m     91\u001b[0m \u001b[38;5;28;01mif\u001b[39;00m reset_index:\n",
      "File \u001b[0;32m~/anaconda3/envs/ncontrol/lib/python3.9/site-packages/pandas/core/frame.py:3505\u001b[0m, in \u001b[0;36mDataFrame.__getitem__\u001b[0;34m(self, key)\u001b[0m\n\u001b[1;32m   3504\u001b[0m     \u001b[38;5;28;01mreturn\u001b[39;00m \u001b[38;5;28mself\u001b[39m\u001b[38;5;241m.\u001b[39m_getitem_multilevel(key)\n\u001b[0;32m-> 3505\u001b[0m indexer \u001b[38;5;241m=\u001b[39m \u001b[38;5;28;43mself\u001b[39;49m\u001b[38;5;241;43m.\u001b[39;49m\u001b[43mcolumns\u001b[49m\u001b[38;5;241;43m.\u001b[39;49m\u001b[43mget_loc\u001b[49m\u001b[43m(\u001b[49m\u001b[43mkey\u001b[49m\u001b[43m)\u001b[49m\n\u001b[1;32m   3506\u001b[0m \u001b[38;5;28;01mif\u001b[39;00m is_integer(indexer):\n",
      "File \u001b[0;32m~/anaconda3/envs/ncontrol/lib/python3.9/site-packages/pandas/core/indexes/base.py:3623\u001b[0m, in \u001b[0;36mIndex.get_loc\u001b[0;34m(self, key, method, tolerance)\u001b[0m\n\u001b[1;32m   3622\u001b[0m \u001b[38;5;28;01mexcept\u001b[39;00m \u001b[38;5;167;01mKeyError\u001b[39;00m \u001b[38;5;28;01mas\u001b[39;00m err:\n\u001b[0;32m-> 3623\u001b[0m     \u001b[38;5;28;01mraise\u001b[39;00m \u001b[38;5;167;01mKeyError\u001b[39;00m(key) \u001b[38;5;28;01mfrom\u001b[39;00m \u001b[38;5;21;01merr\u001b[39;00m\n\u001b[1;32m   3624\u001b[0m \u001b[38;5;28;01mexcept\u001b[39;00m \u001b[38;5;167;01mTypeError\u001b[39;00m:\n\u001b[1;32m   3625\u001b[0m     \u001b[38;5;66;03m# If we have a listlike key, _check_indexing_error will raise\u001b[39;00m\n\u001b[1;32m   3626\u001b[0m     \u001b[38;5;66;03m#  InvalidIndexError. Otherwise we fall through and re-raise\u001b[39;00m\n\u001b[1;32m   3627\u001b[0m     \u001b[38;5;66;03m#  the TypeError.\u001b[39;00m\n",
      "\u001b[0;31mKeyError\u001b[0m: 'dim'",
      "\nDuring handling of the above exception, another exception occurred:\n",
      "\u001b[0;31mIndexError\u001b[0m                                Traceback (most recent call last)",
      "Input \u001b[0;32mIn [111]\u001b[0m, in \u001b[0;36m<cell line: 4>\u001b[0;34m()\u001b[0m\n\u001b[1;32m     34\u001b[0m     \u001b[38;5;28;01massert\u001b[39;00m(d_\u001b[38;5;241m.\u001b[39mshape[\u001b[38;5;241m0\u001b[39m] \u001b[38;5;241m==\u001b[39m \u001b[38;5;241m1\u001b[39m)\n\u001b[1;32m     35\u001b[0m \u001b[38;5;28;01mexcept\u001b[39;00m:\n\u001b[0;32m---> 36\u001b[0m     \u001b[43mcc2ssr2\u001b[49m\u001b[43m[\u001b[49m\u001b[43mi\u001b[49m\u001b[43m,\u001b[49m\u001b[43m \u001b[49m\u001b[38;5;241;43m0\u001b[39;49m\u001b[43m,\u001b[49m\u001b[43m \u001b[49m\u001b[43mfold\u001b[49m\u001b[43m,\u001b[49m\u001b[43m \u001b[49m\u001b[43mdidx\u001b[49m\u001b[43m]\u001b[49m \u001b[38;5;241m=\u001b[39m np\u001b[38;5;241m.\u001b[39mnan\n\u001b[1;32m     37\u001b[0m     \u001b[38;5;28;01mcontinue\u001b[39;00m\n\u001b[1;32m     39\u001b[0m Vpca \u001b[38;5;241m=\u001b[39m d_\u001b[38;5;241m.\u001b[39miloc[\u001b[38;5;241m0\u001b[39m][\u001b[38;5;124m'\u001b[39m\u001b[38;5;124mcoef\u001b[39m\u001b[38;5;124m'\u001b[39m]\n",
      "\u001b[0;31mIndexError\u001b[0m: too many indices for array: array is 3-dimensional, but 4 were indexed"
     ]
    }
   ],
   "source": [
    "w1df = apply_df_filters(dfvalid, win=1)\n",
    "cc2ssr2 = np.zeros((w1df.shape[0], 4, 5))\n",
    "DIM = 6\n",
    "for i in tqdm(range(w1df.shape[0])):\n",
    "    with open(w1df.iloc[i]['fl'], 'rb') as f:\n",
    "        datM1 = pickle.load(f)\n",
    "        datS1 = pickle.load(f)\n",
    "        lparam = pickle.load(f)\n",
    "\n",
    "    y = datM1['spike_rates'].squeeze()\n",
    "    x = datS1['spike_rates'].squeeze()\n",
    "\n",
    "    lag = w1df.iloc[i]['lag']\n",
    "    w = w1df.iloc[i]['win']\n",
    "\n",
    "    model = w1df.iloc[i]['ccamodel']\n",
    "    X_c, Y_c = model.transform(x, y)\n",
    "\n",
    "    # Get the subspaces\n",
    "    # Grab the files specific to the \n",
    "    pcadf = apply_df_filters(ref_df, data_file=w1df.iloc[i]['fl'], dr_method='PCA')\n",
    "\n",
    "    assert(pcadf.shape[0] == 1)\n",
    "\n",
    "    with open(pcadf.iloc[0]['rf'], 'rb') as f:\n",
    "        results = pickle.load(f)\n",
    "\n",
    "    drdf = pd.DataFrame(results)\n",
    "\n",
    "    # For each fold, and dimensions 2-6, measure the min and average subspace angle\n",
    "    for fold in range(5):\n",
    "        try:\n",
    "            d_ = apply_df_filters(drdf, dim=dim, fold_idx=fold)\n",
    "            assert(d_.shape[0] == 1)\n",
    "        except:\n",
    "            cc2ssr2[i, 0, fold] = np.nan\n",
    "            continue\n",
    "\n",
    "        Vpca = d_.iloc[0]['coef']\n",
    "\n",
    "        # M1 CCA\n",
    "        xtrain = Y_c[d_.iloc[0]['train_idxs']]\n",
    "        xtest = Y_c[d_.iloc[0]['test_idxs']]\n",
    "\n",
    "        # M1 PCA\n",
    "        ytrain = y[d_.iloc[0]['train_idxs']] @ Vpca\n",
    "        ytest = y[d_.iloc[0]['test_idxs']] @ Vpca\n",
    "\n",
    "\n",
    "        # Apply window and lag relative to each other\n",
    "        if lag != 0:\n",
    "            xtrain = xtrain[:-lag, :]\n",
    "            xtest = xtest[:-lag, :]\n",
    "\n",
    "            ytrain = ytrain[lag:, :]  \n",
    "            ytest = ytest[lag:, :]\n",
    "\n",
    "        ytrain = StandardScaler().fit_transform(ytrain)\n",
    "        xtrain = StandardScaler().fit_transform(xtrain)\n",
    "\n",
    "        ytest = StandardScaler().fit_transform(ytest)\n",
    "        xtest = StandardScaler().fit_transform(xtest)\n",
    "\n",
    "        linmodel = RidgeCV()\n",
    "        linmodel.fit(xtrain, ytrain)\n",
    "        cc2ssr2[i, 0, fold] = linmodel.score(xtest, ytest)\n",
    "\n",
    "    lqgdf = apply_df_filters(ref_df, data_file=w1df.iloc[i]['fl'], dr_method='LQGCA')\n",
    "    assert(lqgdf.shape[0] == 3)\n",
    "\n",
    "    # Keep consistent ordering of dimreduc args\n",
    "    drargs = [{'T':3, 'loss_type':'trace', 'n_init':10}, {'T':1, 'loss_type':'trace', 'n_init':10},\n",
    "              {'T':6, 'loss_type':'trace', 'n_init':10}]\n",
    "\n",
    "    for j in range(3): \n",
    "        lqgdf_ = apply_df_filters(lqgdf, dr_args=drargs[j])\n",
    "        with open(lqgdf_.iloc[0]['rf'], 'rb') as f:\n",
    "            results = pickle.load(f)\n",
    "\n",
    "        drdf = pd.DataFrame(results)\n",
    "        for fold in range(5):\n",
    "            try:\n",
    "                d_ = apply_df_filters(drdf, dim=dim, fold_idx=fold)\n",
    "                assert(d_.shape[0] == 1)\n",
    "            except:\n",
    "                cc2ssr2[i, j + 1, fold] = np.nan\n",
    "                continue\n",
    "\n",
    "            Vlqg = d_.iloc[0]['coef']\n",
    "\n",
    "            # M1 CCA\n",
    "            xtrain = Y_c[d_.iloc[0]['train_idxs']]\n",
    "            xtest = Y_c[d_.iloc[0]['test_idxs']]\n",
    "\n",
    "            ytrain = y[d_.iloc[0]['train_idxs']] @ Vlqg\n",
    "            ytest = y[d_.iloc[0]['test_idxs']] @ Vlqg\n",
    "\n",
    "            # Apply window and lag relative to each other\n",
    "            if lag != 0:\n",
    "                xtrain = xtrain[:-lag, :]\n",
    "                xtest = xtest[:-lag, :]\n",
    "\n",
    "                ytrain = ytrain[lag:, :]  \n",
    "                ytest = ytest[lag:, :]\n",
    "\n",
    "            ytrain = StandardScaler().fit_transform(ytrain)\n",
    "            xtrain = StandardScaler().fit_transform(xtrain)\n",
    "\n",
    "            ytest = StandardScaler().fit_transform(ytest)\n",
    "            xtest = StandardScaler().fit_transform(xtest)\n",
    "\n",
    "            linmodel = RidgeCV()\n",
    "            linmodel.fit(xtrain, ytrain)\n",
    "            cc2ssr2[i, j + 1, fold] = linmodel.score(xtest, ytest)\n"
   ]
  },
  {
   "cell_type": "code",
   "execution_count": null,
   "metadata": {},
   "outputs": [],
   "source": [
    "# Color the S1/M1 CCA neurons on the scatter plot\n"
   ]
  },
  {
   "cell_type": "code",
   "execution_count": null,
   "metadata": {},
   "outputs": [],
   "source": [
    "# Recall that we decided we would look at modulations over the timecourse of a reach. Repeat the above exercise accordingly"
   ]
  }
 ],
 "metadata": {
  "interpreter": {
   "hash": "c52494c424e88c3f855a8aeb34b231af4706f7aa247f66fb47c890a5ab8814ab"
  },
  "kernelspec": {
   "display_name": "Python 3.7.10 64-bit ('dyn': conda)",
   "language": "python",
   "name": "python3"
  },
  "language_info": {
   "codemirror_mode": {
    "name": "ipython",
    "version": 3
   },
   "file_extension": ".py",
   "mimetype": "text/x-python",
   "name": "python",
   "nbconvert_exporter": "python",
   "pygments_lexer": "ipython3",
   "version": "3.9.13"
  },
  "orig_nbformat": 4
 },
 "nbformat": 4,
 "nbformat_minor": 2
}
