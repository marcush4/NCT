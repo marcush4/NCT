{
 "cells": [
  {
   "cell_type": "code",
   "execution_count": 2,
   "metadata": {},
   "outputs": [],
   "source": [
    "%load_ext autoreload\n",
    "%autoreload 2"
   ]
  },
  {
   "cell_type": "code",
   "execution_count": 3,
   "metadata": {},
   "outputs": [],
   "source": [
    "import pdb\n",
    "import numpy as np\n",
    "import matplotlib.pyplot as plt\n",
    "import scipy \n",
    "import time\n",
    "import glob\n",
    "import pickle\n",
    "import pandas as pd\n",
    "from tqdm import tqdm\n",
    "from sklearn.linear_model import LinearRegression\n",
    "import itertools\n",
    "from sklearn.model_selection import KFold"
   ]
  },
  {
   "cell_type": "code",
   "execution_count": 4,
   "metadata": {},
   "outputs": [],
   "source": [
    "sys.path.append('/home/akumar/nse/neural_control')\n",
    "from utils import apply_df_filters, calc_loadings\n",
    "from loaders import load_sabes\n",
    "from segmentation import reach_segment_sabes\n",
    "from decoders import lr_decode_windowed"
   ]
  },
  {
   "cell_type": "code",
   "execution_count": 5,
   "metadata": {},
   "outputs": [],
   "source": [
    "start_times = {'indy_20160426_01': 0,\n",
    "               'indy_20160622_01':1700,\n",
    "               'indy_20160624_03': 500,\n",
    "               'indy_20160627_01': 0,\n",
    "               'indy_20160630_01': 0,\n",
    "               'indy_20160915_01': 0,\n",
    "               'indy_20160921_01': 0,\n",
    "               'indy_20160930_02': 0,\n",
    "               'indy_20160930_05': 300,\n",
    "               'indy_20161005_06': 0,\n",
    "               'indy_20161006_02': 350,\n",
    "               'indy_20161007_02': 950,\n",
    "               'indy_20161011_03': 0,\n",
    "               'indy_20161013_03': 0,\n",
    "               'indy_20161014_04': 0,\n",
    "               'indy_20161017_02': 0,\n",
    "               'indy_20161024_03': 0,\n",
    "               'indy_20161025_04': 0,\n",
    "               'indy_20161026_03': 0,\n",
    "               'indy_20161027_03': 500,\n",
    "               'indy_20161206_02': 5500,\n",
    "               'indy_20161207_02': 0,\n",
    "               'indy_20161212_02': 0,\n",
    "               'indy_20161220_02': 0,\n",
    "               'indy_20170123_02': 0,\n",
    "               'indy_20170124_01': 0,\n",
    "               'indy_20170127_03': 0,\n",
    "               'indy_20170131_02': 0,\n",
    "               }"
   ]
  },
  {
   "cell_type": "markdown",
   "metadata": {},
   "source": [
    "### Sabes"
   ]
  },
  {
   "cell_type": "markdown",
   "metadata": {},
   "source": [
    "Basic question: If we isolate neural activity at some lag prior to when the reach velocity is below some threshold vs the period of time when it crosses this period of time, if there any signficiant difference in \n",
    "subspace occupancies?"
   ]
  },
  {
   "cell_type": "code",
   "execution_count": 4,
   "metadata": {},
   "outputs": [],
   "source": [
    "# First, identify windows around the target transition times during which the velocity is below some threshold"
   ]
  },
  {
   "cell_type": "code",
   "execution_count": 6,
   "metadata": {},
   "outputs": [],
   "source": [
    "with open('/home/akumar/nse/neural_control/data/sabes_decoding_df.dat', 'rb') as f:\n",
    "    sabes_df1 = pickle.load(f)\n",
    "data_files = np.unique(sabes_df1['data_file'].values)\n",
    "del sabes_df1"
   ]
  },
  {
   "cell_type": "code",
   "execution_count": 7,
   "metadata": {},
   "outputs": [
    {
     "name": "stdout",
     "output_type": "stream",
     "text": [
      "Processing spikes\n"
     ]
    },
    {
     "name": "stderr",
     "output_type": "stream",
     "text": [
      "100%|██████████| 1/1 [00:14<00:00, 14.69s/it]\n",
      "/home/akumar/nse/neural_control/segmentation.py:59: RuntimeWarning: divide by zero encountered in double_scalars\n",
      "  m = straight[1]/straight[0]\n"
     ]
    }
   ],
   "source": [
    "data_file = data_files[0]\n",
    "dat = load_sabes('/mnt/Secondary/data/sabes/%s' % data_file)\n",
    "dat = reach_segment_sabes(dat, start_times[data_file.split('.mat')[0]])"
   ]
  },
  {
   "cell_type": "code",
   "execution_count": 34,
   "metadata": {},
   "outputs": [
    {
     "data": {
      "text/plain": [
       "[<matplotlib.lines.Line2D at 0x7efe6d70ed90>]"
      ]
     },
     "execution_count": 34,
     "metadata": {},
     "output_type": "execute_result"
    },
    {
     "data": {
      "image/png": "[encoded data removed]",
      "text/plain": [
       "<Figure size 432x288 with 1 Axes>"
      ]
     },
     "metadata": {
      "needs_background": "light"
     },
     "output_type": "display_data"
    }
   ],
   "source": [
    "plt.plot(np.diff(vel))"
   ]
  },
  {
   "cell_type": "code",
   "execution_count": 32,
   "metadata": {},
   "outputs": [
    {
     "data": {
      "text/plain": [
       "[<matplotlib.lines.Line2D at 0x7efe7a830b50>]"
      ]
     },
     "execution_count": 32,
     "metadata": {},
     "output_type": "execute_result"
    },
    {
     "data": {
      "image/png": "[encoded data removed]",
      "text/plain": [
       "<Figure size 432x288 with 1 Axes>"
      ]
     },
     "metadata": {
      "needs_background": "light"
     },
     "output_type": "display_data"
    }
   ],
   "source": [
    "plt.plot(vel)zz"
   ]
  },
  {
   "cell_type": "code",
   "execution_count": 11,
   "metadata": {},
   "outputs": [
    {
     "data": {
      "text/plain": [
       "(10, 50)"
      ]
     },
     "execution_count": 11,
     "metadata": {},
     "output_type": "execute_result"
    }
   ],
   "source": [
    "dat['transition_times'][0]"
   ]
  },
  {
   "cell_type": "code",
   "execution_count": 11,
   "metadata": {},
   "outputs": [],
   "source": [
    "n_transitions = len(dat['transition_times'])\n",
    "\n",
    "zero_vel_windows = []\n",
    "#lags = np.arange(4)\n",
    "shift = 15\n",
    "for i in range(1, n_transitions):\n",
    "    vel = np.linalg.norm(np.diff(dat['behavior'][dat['transition_times'][i][0] - shift:dat['transition_times'][i][1], :], axis=0), axis=1)\n",
    "    a = np.squeeze(np.argwhere(np.abs(np.diff(vel)) <= 0.1))\n",
    "\n",
    "    # Identify consecutive windows\n",
    "    windows = consecutive(a)\n",
    "\n",
    "    # Identify the window that contains the shift\n",
    "    membership = np.where([shift in w for w in windows])[0]\n",
    "\n",
    "    # If no window contains the shift, then we cannot use this transition\n",
    "    if membership.size == 0:\n",
    "        continue\n",
    "    else:\n",
    "        # Convert to indices that can be used to directly splice the data.\n",
    "        window = dat['transition_times'][i][0] - shift + windows[membership[0]] + 1\n",
    "\n",
    "        # Ensure that the timesteps following the stationary period are associated with \n",
    "        # a robust increase in hand velocity\n",
    "        if np.linalg.norm(dat['behavior'][window[-1] + 4, :] - dat['behavior'][window[-1] + 3, :]) < 3:\n",
    "            continue\n",
    "        else:\n",
    "            zero_vel_windows.append((i, window))    "
   ]
  },
  {
   "cell_type": "code",
   "execution_count": 12,
   "metadata": {},
   "outputs": [],
   "source": [
    "l = [len(z[1]) for z in zero_vel_windows]"
   ]
  },
  {
   "cell_type": "code",
   "execution_count": 13,
   "metadata": {},
   "outputs": [
    {
     "data": {
      "text/plain": [
       "(array([23., 29., 48., 50., 27., 57., 14.,  8.,  3.,  2.]),\n",
       " array([ 1. ,  2.8,  4.6,  6.4,  8.2, 10. , 11.8, 13.6, 15.4, 17.2, 19. ]),\n",
       " <BarContainer object of 10 artists>)"
      ]
     },
     "execution_count": 13,
     "metadata": {},
     "output_type": "execute_result"
    },
    {
     "data": {
      "image/png": "[encoded data removed]",
      "text/plain": [
       "<Figure size 432x288 with 1 Axes>"
      ]
     },
     "metadata": {
      "needs_background": "light"
     },
     "output_type": "display_data"
    }
   ],
   "source": [
    "plt.hist(l)"
   ]
  },
  {
   "cell_type": "code",
   "execution_count": 14,
   "metadata": {},
   "outputs": [],
   "source": [
    "# Plot the velocity in our identified windows and in the "
   ]
  },
  {
   "cell_type": "code",
   "execution_count": 15,
   "metadata": {},
   "outputs": [
    {
     "name": "stderr",
     "output_type": "stream",
     "text": [
      "/home/akumar/anaconda3/envs/dyn/lib/python3.7/site-packages/ipykernel_launcher.py:1: VisibleDeprecationWarning: Creating an ndarray from ragged nested sequences (which is a list-or-tuple of lists-or-tuples-or ndarrays with different lengths or shapes) is deprecated. If you meant to do this, you must specify 'dtype=object' when creating the ndarray.\n",
      "  \"\"\"Entry point for launching an IPython kernel.\n"
     ]
    }
   ],
   "source": [
    "valid_windows = np.array(zero_vel_windows)[np.argwhere(np.array(l) > 6)[:, 0]]"
   ]
  },
  {
   "cell_type": "code",
   "execution_count": 19,
   "metadata": {},
   "outputs": [
    {
     "data": {
      "text/plain": [
       "(9287, 9330)"
      ]
     },
     "execution_count": 19,
     "metadata": {},
     "output_type": "execute_result"
    }
   ],
   "source": [
    "dat['transition_times'][window[0]]"
   ]
  },
  {
   "cell_type": "code",
   "execution_count": 17,
   "metadata": {},
   "outputs": [
    {
     "data": {
      "text/plain": [
       "array([9281, 9282, 9283, 9284, 9285, 9286, 9287, 9288, 9289, 9290, 9291])"
      ]
     },
     "execution_count": 17,
     "metadata": {},
     "output_type": "execute_result"
    }
   ],
   "source": [
    "window[1]"
   ]
  },
  {
   "cell_type": "code",
   "execution_count": 21,
   "metadata": {},
   "outputs": [
    {
     "data": {
      "text/plain": [
       "9297"
      ]
     },
     "execution_count": 21,
     "metadata": {},
     "output_type": "execute_result"
    }
   ],
   "source": [
    "idxs[-1] - trans"
   ]
  },
  {
   "cell_type": "code",
   "execution_count": 36,
   "metadata": {},
   "outputs": [
    {
     "data": {
      "text/plain": [
       "60.0"
      ]
     },
     "execution_count": 36,
     "metadata": {},
     "output_type": "execute_result"
    }
   ],
   "source": [
    "3/.05"
   ]
  },
  {
   "cell_type": "code",
   "execution_count": 34,
   "metadata": {},
   "outputs": [
    {
     "data": {
      "image/png": "[encoded data removed]",
      "text/plain": [
       "<Figure size 432x288 with 1 Axes>"
      ]
     },
     "metadata": {
      "needs_background": "light"
     },
     "output_type": "display_data"
    }
   ],
   "source": [
    "# Also plot when the target switches\n",
    "fig, ax = plt.subplots()\n",
    "for window in valid_windows[0:50]:\n",
    "    idxs = window[1][-6:]\n",
    "    idxs = np.concatenate([idxs, idxs + 6])\n",
    "    tt = dat['transition_times'][window[0]][0] - idxs[0]\n",
    "    vel = np.linalg.norm(np.diff(dat['behavior'][idxs], axis=0), axis=1)/(1e3 * 0.05)\n",
    "    ax.plot(50 * np.arange(idxs.size - 1) , vel, color='k', alpha=0.25)\n",
    "    ax.axvline(x=tt * 50, color='r')\n",
    "\n",
    "ax.set_ylabel('Hand Velocity m/s', fontsize=12)\n",
    "ax.set_xlabel('Time (ms)', fontsize=12)\n",
    "fig.savefig('/home/akumar/nse/neural_control/figs/decodingvtsummary/prep.pdf', bbox_inches='tight', pad_inches=0)"
   ]
  },
  {
   "cell_type": "code",
   "execution_count": 10,
   "metadata": {},
   "outputs": [],
   "source": [
    "def consecutive(data, stepsize=1):\n",
    "    return np.split(data, np.where(np.diff(data) != stepsize)[0]+1)\n",
    "\n",
    "def get_windows(dat, shift=15, min_width=6, acc_thresh=0.1, vel_thresh=3):\n",
    "\n",
    "    n_transitions = len(dat['transition_times'])\n",
    "\n",
    "    zero_vel_windows = []\n",
    "    #lags = np.arange(4)\n",
    "\n",
    "    for i in range(1, n_transitions):\n",
    "        vel = np.linalg.norm(np.diff(dat['behavior'][dat['transition_times'][i][0] - shift:dat['transition_times'][i][1], :], axis=0), axis=1)\n",
    "        a = np.squeeze(np.argwhere(np.abs(np.diff(vel)) <= acc_thresh))\n",
    "\n",
    "        # Identify consecutive windows\n",
    "        try:\n",
    "            windows = consecutive(a)\n",
    "        except:\n",
    "            continue\n",
    "\n",
    "        # Identify the window that contains the shift\n",
    "        membership = np.where([shift in w for w in windows])[0]\n",
    "\n",
    "        # If no window contains the shift, then we cannot use this transition\n",
    "        if membership.size == 0:\n",
    "            continue\n",
    "        else:\n",
    "            # Convert to indices that can be used to directly splice the data.\n",
    "            window = dat['transition_times'][i][0] - shift + windows[membership[0]] + 1\n",
    "\n",
    "            # Ensure that the timesteps following the stationary period are associated with \n",
    "            # a robust increase in hand velocity\n",
    "            if np.linalg.norm(dat['behavior'][window[-1] + 4, :] - dat['behavior'][window[-1] + 3, :]) < vel_thresh:\n",
    "                continue\n",
    "            else:\n",
    "                zero_vel_windows.append((i, window))\n",
    "\n",
    "    l = [len(z[1]) for z in zero_vel_windows]\n",
    "    valid_windows = np.array(zero_vel_windows)[np.argwhere(np.array(l) > min_width)[:, 0]]\n",
    "    return valid_windows"
   ]
  },
  {
   "cell_type": "code",
   "execution_count": 126,
   "metadata": {},
   "outputs": [],
   "source": [
    "from orth_pca import OrthPCA"
   ]
  },
  {
   "cell_type": "code",
   "execution_count": 129,
   "metadata": {},
   "outputs": [
    {
     "name": "stderr",
     "output_type": "stream",
     "text": [
      "0it [00:00, ?it/s]"
     ]
    },
    {
     "name": "stdout",
     "output_type": "stream",
     "text": [
      "Processing spikes\n"
     ]
    },
    {
     "name": "stderr",
     "output_type": "stream",
     "text": [
      "100%|██████████| 1/1 [00:14<00:00, 14.85s/it]\n",
      "/home/akumar/anaconda3/envs/dyn/lib/python3.7/site-packages/ipykernel_launcher.py:39: VisibleDeprecationWarning: Creating an ndarray from ragged nested sequences (which is a list-or-tuple of lists-or-tuples-or ndarrays with different lengths or shapes) is deprecated. If you meant to do this, you must specify 'dtype=object' when creating the ndarray.\n",
      "1it [02:46, 166.43s/it]"
     ]
    },
    {
     "name": "stdout",
     "output_type": "stream",
     "text": [
      "Processing spikes\n"
     ]
    },
    {
     "name": "stderr",
     "output_type": "stream",
     "text": [
      "100%|██████████| 1/1 [00:20<00:00, 20.35s/it]\n",
      "2it [05:21, 159.53s/it]"
     ]
    },
    {
     "name": "stdout",
     "output_type": "stream",
     "text": [
      "Processing spikes\n"
     ]
    },
    {
     "name": "stderr",
     "output_type": "stream",
     "text": [
      "100%|██████████| 1/1 [00:04<00:00,  4.24s/it]\n",
      "3it [05:55, 102.27s/it]"
     ]
    },
    {
     "name": "stdout",
     "output_type": "stream",
     "text": [
      "Processing spikes\n"
     ]
    },
    {
     "name": "stderr",
     "output_type": "stream",
     "text": [
      "100%|██████████| 1/1 [00:27<00:00, 27.88s/it]\n",
      "4it [08:29, 122.77s/it]"
     ]
    },
    {
     "name": "stdout",
     "output_type": "stream",
     "text": [
      "Processing spikes\n"
     ]
    },
    {
     "name": "stderr",
     "output_type": "stream",
     "text": [
      "100%|██████████| 1/1 [00:12<00:00, 12.22s/it]\n",
      "5it [09:56, 109.86s/it]"
     ]
    },
    {
     "name": "stdout",
     "output_type": "stream",
     "text": [
      "Processing spikes\n"
     ]
    },
    {
     "name": "stderr",
     "output_type": "stream",
     "text": [
      "100%|██████████| 1/1 [00:03<00:00,  3.19s/it]\n",
      "6it [11:03, 95.19s/it] "
     ]
    },
    {
     "name": "stdout",
     "output_type": "stream",
     "text": [
      "Processing spikes\n"
     ]
    },
    {
     "name": "stderr",
     "output_type": "stream",
     "text": [
      "100%|██████████| 1/1 [00:03<00:00,  3.02s/it]\n",
      "7it [12:38, 95.25s/it]"
     ]
    },
    {
     "name": "stdout",
     "output_type": "stream",
     "text": [
      "Processing spikes\n"
     ]
    },
    {
     "name": "stderr",
     "output_type": "stream",
     "text": [
      "100%|██████████| 1/1 [00:03<00:00,  3.85s/it]\n",
      "8it [14:32, 101.12s/it]"
     ]
    },
    {
     "name": "stdout",
     "output_type": "stream",
     "text": [
      "Processing spikes\n"
     ]
    },
    {
     "name": "stderr",
     "output_type": "stream",
     "text": [
      "100%|██████████| 1/1 [00:03<00:00,  3.47s/it]\n",
      "9it [16:27, 105.50s/it]"
     ]
    },
    {
     "name": "stdout",
     "output_type": "stream",
     "text": [
      "Processing spikes\n"
     ]
    },
    {
     "name": "stderr",
     "output_type": "stream",
     "text": [
      "100%|██████████| 1/1 [00:03<00:00,  3.10s/it]\n",
      "10it [17:50, 98.64s/it]"
     ]
    },
    {
     "name": "stdout",
     "output_type": "stream",
     "text": [
      "Processing spikes\n"
     ]
    },
    {
     "name": "stderr",
     "output_type": "stream",
     "text": [
      "100%|██████████| 1/1 [00:04<00:00,  4.17s/it]\n",
      "11it [19:50, 105.12s/it]"
     ]
    },
    {
     "name": "stdout",
     "output_type": "stream",
     "text": [
      "Processing spikes\n"
     ]
    },
    {
     "name": "stderr",
     "output_type": "stream",
     "text": [
      "100%|██████████| 1/1 [00:04<00:00,  4.11s/it]\n",
      "12it [21:52, 110.33s/it]"
     ]
    },
    {
     "name": "stdout",
     "output_type": "stream",
     "text": [
      "Processing spikes\n"
     ]
    },
    {
     "name": "stderr",
     "output_type": "stream",
     "text": [
      "100%|██████████| 1/1 [00:05<00:00,  5.63s/it]\n",
      "13it [23:42, 110.04s/it]"
     ]
    },
    {
     "name": "stdout",
     "output_type": "stream",
     "text": [
      "Processing spikes\n"
     ]
    },
    {
     "name": "stderr",
     "output_type": "stream",
     "text": [
      "100%|██████████| 1/1 [00:04<00:00,  4.33s/it]\n",
      "14it [24:58, 100.02s/it]"
     ]
    },
    {
     "name": "stdout",
     "output_type": "stream",
     "text": [
      "Processing spikes\n"
     ]
    },
    {
     "name": "stderr",
     "output_type": "stream",
     "text": [
      "100%|██████████| 1/1 [00:04<00:00,  4.33s/it]\n",
      "15it [26:53, 104.41s/it]"
     ]
    },
    {
     "name": "stdout",
     "output_type": "stream",
     "text": [
      "Processing spikes\n"
     ]
    },
    {
     "name": "stderr",
     "output_type": "stream",
     "text": [
      "100%|██████████| 1/1 [00:04<00:00,  4.11s/it]\n",
      "16it [28:19, 98.74s/it] "
     ]
    },
    {
     "name": "stdout",
     "output_type": "stream",
     "text": [
      "Processing spikes\n"
     ]
    },
    {
     "name": "stderr",
     "output_type": "stream",
     "text": [
      "100%|██████████| 1/1 [00:03<00:00,  3.90s/it]\n",
      "17it [29:36, 92.28s/it]"
     ]
    },
    {
     "name": "stdout",
     "output_type": "stream",
     "text": [
      "Processing spikes\n"
     ]
    },
    {
     "name": "stderr",
     "output_type": "stream",
     "text": [
      "100%|██████████| 1/1 [00:04<00:00,  4.28s/it]\n",
      "18it [31:38, 101.37s/it]"
     ]
    },
    {
     "name": "stdout",
     "output_type": "stream",
     "text": [
      "Processing spikes\n"
     ]
    },
    {
     "name": "stderr",
     "output_type": "stream",
     "text": [
      "100%|██████████| 1/1 [00:04<00:00,  4.17s/it]\n",
      "19it [33:24, 102.60s/it]"
     ]
    },
    {
     "name": "stdout",
     "output_type": "stream",
     "text": [
      "Processing spikes\n"
     ]
    },
    {
     "name": "stderr",
     "output_type": "stream",
     "text": [
      "100%|██████████| 1/1 [00:04<00:00,  4.81s/it]\n",
      "20it [35:14, 105.01s/it]"
     ]
    },
    {
     "name": "stdout",
     "output_type": "stream",
     "text": [
      "Processing spikes\n"
     ]
    },
    {
     "name": "stderr",
     "output_type": "stream",
     "text": [
      "100%|██████████| 1/1 [00:06<00:00,  6.17s/it]\n",
      "21it [36:57, 104.37s/it]"
     ]
    },
    {
     "name": "stdout",
     "output_type": "stream",
     "text": [
      "Processing spikes\n"
     ]
    },
    {
     "name": "stderr",
     "output_type": "stream",
     "text": [
      "100%|██████████| 1/1 [00:03<00:00,  3.74s/it]\n",
      "22it [38:38, 103.15s/it]"
     ]
    },
    {
     "name": "stdout",
     "output_type": "stream",
     "text": [
      "Processing spikes\n"
     ]
    },
    {
     "name": "stderr",
     "output_type": "stream",
     "text": [
      "100%|██████████| 1/1 [00:04<00:00,  4.84s/it]\n",
      "23it [39:42, 91.36s/it] "
     ]
    },
    {
     "name": "stdout",
     "output_type": "stream",
     "text": [
      "Processing spikes\n"
     ]
    },
    {
     "name": "stderr",
     "output_type": "stream",
     "text": [
      "100%|██████████| 1/1 [00:04<00:00,  4.89s/it]\n",
      "24it [41:18, 92.84s/it]"
     ]
    },
    {
     "name": "stdout",
     "output_type": "stream",
     "text": [
      "Processing spikes\n"
     ]
    },
    {
     "name": "stderr",
     "output_type": "stream",
     "text": [
      "100%|██████████| 1/1 [00:05<00:00,  5.08s/it]\n",
      "25it [43:02, 96.35s/it]"
     ]
    },
    {
     "name": "stdout",
     "output_type": "stream",
     "text": [
      "Processing spikes\n"
     ]
    },
    {
     "name": "stderr",
     "output_type": "stream",
     "text": [
      "100%|██████████| 1/1 [00:05<00:00,  5.03s/it]\n",
      "26it [45:02, 103.36s/it]"
     ]
    },
    {
     "name": "stdout",
     "output_type": "stream",
     "text": [
      "Processing spikes\n"
     ]
    },
    {
     "name": "stderr",
     "output_type": "stream",
     "text": [
      "100%|██████████| 1/1 [00:06<00:00,  6.16s/it]\n",
      "27it [46:10, 92.77s/it] "
     ]
    },
    {
     "name": "stdout",
     "output_type": "stream",
     "text": [
      "Processing spikes\n"
     ]
    },
    {
     "name": "stderr",
     "output_type": "stream",
     "text": [
      "100%|██████████| 1/1 [00:06<00:00,  6.87s/it]\n",
      "28it [47:58, 102.82s/it]\n"
     ]
    }
   ],
   "source": [
    "widths = [6, 10]\n",
    "dims = [2, 6, 10, 15, 20]\n",
    "lags = np.arange(4)\n",
    "reps = 5\n",
    "rl = []\n",
    "\n",
    "for i, data_file in tqdm(enumerate(data_files)):\n",
    "    dat = load_sabes('/mnt/Secondary/data/sabes/%s' % data_file)    \n",
    "    dat = reach_segment_sabes(dat, start_times[data_file.split('.mat')[0]])\n",
    "\n",
    "    for width in widths:\n",
    "        for lag in lags:\n",
    "\n",
    "            valid_windows = get_windows(dat, min_width=width)\n",
    "\n",
    "            # Assemble data matrices\n",
    "            X = np.squeeze(dat['spike_rates'])\n",
    "            x1 = []\n",
    "            x2 = []\n",
    "            for window in valid_windows:\n",
    "                x1.append(X[window[1][-width:]])\n",
    "                x2.append(X[window[1][-width:] + width])     \n",
    "\n",
    "            # squash trials\n",
    "            x1 = np.concatenate(x1)\n",
    "            x2 = np.concatenate(x2)\n",
    "\n",
    "            for d in dims:    \n",
    "                for rep in range(reps:\n",
    "                    opca = OrthPCA(d1=d, d2=d)\n",
    "                    V1, V2, _, vf1, vf2 = opca.fit(x1, x2)    \n",
    "\n",
    "                    result = {}\n",
    "                    result['data_file'] = data_file\n",
    "                    result['width'] = width\n",
    "                    result['lag'] = lag\n",
    "                    result['dim'] = d\n",
    "                    result['rep'] = rep\n",
    "\n",
    "                    result['V1'] = V1\n",
    "                    result['V2'] = V2\n",
    "                    result['vf1'] = vf1\n",
    "                    result['vf2'] = vf2\n",
    "\n",
    "                    rl.append(result)"
   ]
  },
  {
   "cell_type": "code",
   "execution_count": null,
   "metadata": {},
   "outputs": [],
   "source": [
    "# Need to try multiple initializations"
   ]
  }
 ],
 "metadata": {
  "interpreter": {
   "hash": "c52494c424e88c3f855a8aeb34b231af4706f7aa247f66fb47c890a5ab8814ab"
  },
  "kernelspec": {
   "display_name": "Python 3.7.10 64-bit ('dyn': conda)",
   "language": "python",
   "name": "python3"
  },
  "language_info": {
   "codemirror_mode": {
    "name": "ipython",
    "version": 3
   },
   "file_extension": ".py",
   "mimetype": "text/x-python",
   "name": "python",
   "nbconvert_exporter": "python",
   "pygments_lexer": "ipython3",
   "version": "3.7.10"
  },
  "orig_nbformat": 4
 },
 "nbformat": 4,
 "nbformat_minor": 2
}
