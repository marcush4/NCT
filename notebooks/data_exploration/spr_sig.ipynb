{
 "cells": [
  {
   "cell_type": "code",
   "execution_count": 1,
   "metadata": {},
   "outputs": [],
   "source": [
    "%load_ext autoreload\n",
    "%autoreload 2"
   ]
  },
  {
   "cell_type": "code",
   "execution_count": 2,
   "metadata": {},
   "outputs": [],
   "source": [
    "import pdb\n",
    "import sys, os\n",
    "import numpy as np\n",
    "import matplotlib.pyplot as plt\n",
    "import scipy \n",
    "import itertools\n",
    "import time\n",
    "import glob\n",
    "import pickle\n",
    "import pandas as pd\n",
    "from tqdm import tqdm\n",
    "\n",
    "sys.path.append('/home/akumar/nse/neural_control')\n",
    "from utils import apply_df_filters, calc_loadings, calc_cascaded_loadings\n",
    "from loaders import load_sabes\n",
    "sys.path.append('/home/akumar/nse/neural_control/analysis_scripts/')\n",
    "from psth_ilmerge import get_top_neurons, get_top_neurons_alt"
   ]
  },
  {
   "cell_type": "code",
   "execution_count": 3,
   "metadata": {},
   "outputs": [
    {
     "name": "stdout",
     "output_type": "stream",
     "text": [
      "Using dframes /mnt/Secondary/data/postprocessed/indy_decoding_df2.dat, /mnt/Secondary/data/postprocessed/loco_decoding_df.dat\n"
     ]
    },
    {
     "name": "stderr",
     "output_type": "stream",
     "text": [
      "/home/akumar/anaconda3/envs/ncontrol/lib/python3.9/site-packages/sklearn/base.py:329: UserWarning: Trying to unpickle estimator LinearRegression from version 0.24.2 when using version 1.1.1. This might lead to breaking code or invalid results. Use at your own risk. For more info please refer to:\n",
      "https://scikit-learn.org/stable/model_persistence.html#security-maintainability-limitations\n",
      "  warnings.warn(\n",
      "/home/akumar/anaconda3/envs/ncontrol/lib/python3.9/site-packages/sklearn/base.py:329: UserWarning: Trying to unpickle estimator LinearRegression from version 0.24.2 when using version 1.1.1. This might lead to breaking code or invalid results. Use at your own risk. For more info please refer to:\n",
      "https://scikit-learn.org/stable/model_persistence.html#security-maintainability-limitations\n",
      "  warnings.warn(\n"
     ]
    }
   ],
   "source": [
    "# Get importance scores for M1\n",
    "#dframe = '/home/akumar/nse/neural_control/data/indy_decoding_marginal.dat'\n",
    "dframe_indy = '/mnt/Secondary/data/postprocessed/indy_decoding_df2.dat'\n",
    "dframe_loco = '/mnt/Secondary/data/postprocessed/loco_decoding_df.dat'\n",
    "\n",
    "print('Using dframes %s, %s' % (dframe_indy, dframe_loco))\n",
    "\n",
    "with open(dframe_indy, 'rb') as f:\n",
    "    rl = pickle.load(f)\n",
    "indy_df = pd.DataFrame(rl)\n",
    "\n",
    "with open(dframe_loco, 'rb') as f:\n",
    "    loco_df = pickle.load(f)\n",
    "loco_df = pd.DataFrame(loco_df)\n",
    "loco_df = apply_df_filters(loco_df,\n",
    "                        loader_args={'bin_width': 50, 'filter_fn': 'none', 'filter_kwargs': {}, 'boxcox': 0.5, 'spike_threshold': 100, 'region': 'M1'},\n",
    "                        decoder_args={'trainlag': 4, 'testlag': 4, 'decoding_window': 5})\n",
    "good_loco_files = ['loco_20170210_03.mat',\n",
    "'loco_20170213_02.mat',\n",
    "'loco_20170215_02.mat',\n",
    "'loco_20170227_04.mat',\n",
    "'loco_20170228_02.mat',\n",
    "'loco_20170301_05.mat',\n",
    "'loco_20170302_02.mat']\n",
    "\n",
    "loco_df = apply_df_filters(loco_df, data_file=good_loco_files)        \n",
    "dimreduc_df = pd.concat([indy_df, loco_df])"
   ]
  },
  {
   "cell_type": "code",
   "execution_count": 4,
   "metadata": {},
   "outputs": [
    {
     "name": "stderr",
     "output_type": "stream",
     "text": [
      "0it [00:00, ?it/s]"
     ]
    },
    {
     "name": "stderr",
     "output_type": "stream",
     "text": [
      "35it [00:00, 46.64it/s]\n"
     ]
    }
   ],
   "source": [
    "bin_width = 50\n",
    "T = 30\n",
    "data_path = '/mnt/Secondary/data/sabes'\n",
    "top_neurons_pca, top_neurons_fca, loadings_pca, loadings_fca = get_top_neurons_alt(dimreduc_df, n=10, data_path=data_path, T=T, bin_width=bin_width)"
   ]
  },
  {
   "cell_type": "code",
   "execution_count": 5,
   "metadata": {},
   "outputs": [],
   "source": [
    "x1 = np.array(loadings_fca)\n",
    "x2 = np.array(loadings_pca)"
   ]
  },
  {
   "cell_type": "code",
   "execution_count": 6,
   "metadata": {},
   "outputs": [
    {
     "name": "stdout",
     "output_type": "stream",
     "text": [
      "1000\n",
      "2000\n",
      "3000\n",
      "4000\n",
      "5000\n",
      "6000\n",
      "7000\n",
      "8000\n",
      "9000\n",
      "10000\n",
      "11000\n",
      "12000\n",
      "13000\n",
      "14000\n",
      "15000\n",
      "16000\n",
      "17000\n",
      "18000\n",
      "19000\n",
      "20000\n",
      "21000\n",
      "22000\n",
      "23000\n",
      "24000\n",
      "25000\n",
      "26000\n",
      "27000\n",
      "28000\n",
      "29000\n",
      "30000\n",
      "31000\n",
      "32000\n",
      "33000\n",
      "34000\n",
      "35000\n",
      "36000\n",
      "37000\n",
      "38000\n",
      "39000\n",
      "40000\n",
      "41000\n",
      "42000\n",
      "43000\n",
      "44000\n",
      "45000\n",
      "46000\n",
      "47000\n",
      "48000\n",
      "49000\n",
      "50000\n",
      "51000\n",
      "52000\n",
      "53000\n",
      "54000\n",
      "55000\n",
      "56000\n",
      "57000\n",
      "58000\n",
      "59000\n",
      "60000\n",
      "61000\n",
      "62000\n",
      "63000\n",
      "64000\n",
      "65000\n",
      "66000\n",
      "67000\n",
      "68000\n",
      "69000\n",
      "70000\n",
      "71000\n",
      "72000\n",
      "73000\n",
      "74000\n",
      "75000\n",
      "76000\n",
      "77000\n",
      "78000\n",
      "79000\n",
      "80000\n",
      "81000\n",
      "82000\n",
      "83000\n",
      "84000\n",
      "85000\n",
      "86000\n",
      "87000\n",
      "88000\n",
      "89000\n",
      "90000\n",
      "91000\n",
      "92000\n",
      "93000\n",
      "94000\n",
      "95000\n",
      "96000\n",
      "97000\n",
      "98000\n",
      "99000\n",
      "100000\n"
     ]
    }
   ],
   "source": [
    "rand = np.random.RandomState(100)\n",
    "#perm = itertools.permutations(np.arange(x1.size))\n",
    "# permutation test\n",
    "n = int(1e5)\n",
    "spr = []\n",
    "idx = 0\n",
    "for idx in range(n):\n",
    "    p = rand.permutation(x1.size)\n",
    "    x_ = x2[p]\n",
    "    spr.append(scipy.stats.spearmanr(x1, x_)[0])\n",
    "    idx += 1\n",
    "    if idx % 1000 == 0:\n",
    "        print(idx)"
   ]
  },
  {
   "cell_type": "code",
   "execution_count": 8,
   "metadata": {},
   "outputs": [
    {
     "name": "stdout",
     "output_type": "stream",
     "text": [
      "0.11878747205947963\n"
     ]
    }
   ],
   "source": [
    "ref_spr = scipy.stats.spearmanr(x1, x2)[0]\n",
    "print(scipy.stats.spearmanr(x1, x2)[1])"
   ]
  },
  {
   "cell_type": "code",
   "execution_count": 10,
   "metadata": {},
   "outputs": [
    {
     "name": "stdout",
     "output_type": "stream",
     "text": [
      "0.11896\n"
     ]
    }
   ],
   "source": [
    "spr = np.array(spr)\n",
    "print(spr[np.abs(spr) >= np.abs(ref_spr)].size/spr.size)"
   ]
  },
  {
   "cell_type": "code",
   "execution_count": null,
   "metadata": {},
   "outputs": [],
   "source": []
  }
 ],
 "metadata": {
  "kernelspec": {
   "display_name": "ncontrol",
   "language": "python",
   "name": "python3"
  },
  "language_info": {
   "codemirror_mode": {
    "name": "ipython",
    "version": 3
   },
   "file_extension": ".py",
   "mimetype": "text/x-python",
   "name": "python",
   "nbconvert_exporter": "python",
   "pygments_lexer": "ipython3",
   "version": "3.9.13"
  }
 },
 "nbformat": 4,
 "nbformat_minor": 2
}
