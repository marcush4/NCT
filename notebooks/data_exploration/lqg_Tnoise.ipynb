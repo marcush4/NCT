{
 "cells": [
  {
   "cell_type": "code",
   "execution_count": 1,
   "metadata": {},
   "outputs": [],
   "source": [
    "%load_ext autoreload\n",
    "%autoreload 2"
   ]
  },
  {
   "cell_type": "code",
   "execution_count": 2,
   "metadata": {},
   "outputs": [],
   "source": [
    "import pdb\n",
    "import numpy as np\n",
    "import matplotlib.pyplot as plt\n",
    "import scipy \n",
    "import time\n",
    "import glob\n",
    "import pickle\n",
    "import pandas as pd\n",
    "from tqdm import tqdm\n",
    "from sklearn.linear_model import LinearRegression"
   ]
  },
  {
   "cell_type": "code",
   "execution_count": 3,
   "metadata": {},
   "outputs": [
    {
     "name": "stderr",
     "output_type": "stream",
     "text": [
      "/home/akumar/anaconda3/envs/ncontrol/lib/python3.9/site-packages/tqdm/auto.py:22: TqdmWarning: IProgress not found. Please update jupyter and ipywidgets. See https://ipywidgets.readthedocs.io/en/stable/user_install.html\n",
      "  from .autonotebook import tqdm as notebook_tqdm\n"
     ]
    }
   ],
   "source": [
    "sys.path.append('/home/akumar/nse/neural_control')\n",
    "from utils import apply_df_filters, calc_loadings\n",
    "from loaders import load_sabes\n",
    "from segmentation import reach_segment_sabes\n",
    "from decoders import lr_decode_windowed"
   ]
  },
  {
   "cell_type": "markdown",
   "metadata": {},
   "source": [
    "### What are the subspace angles between subsequent T and noise levels in FCCA?"
   ]
  },
  {
   "cell_type": "code",
   "execution_count": 4,
   "metadata": {},
   "outputs": [
    {
     "name": "stderr",
     "output_type": "stream",
     "text": [
      "/home/akumar/anaconda3/envs/ncontrol/lib/python3.9/site-packages/sklearn/base.py:329: UserWarning: Trying to unpickle estimator LinearRegression from version 0.24.2 when using version 1.1.1. This might lead to breaking code or invalid results. Use at your own risk. For more info please refer to:\n",
      "https://scikit-learn.org/stable/model_persistence.html#security-maintainability-limitations\n",
      "  warnings.warn(\n"
     ]
    }
   ],
   "source": [
    "# Load the usual dataframe for comparison\n",
    "with open('/mnt/Secondary/data/postprocessed/indy_decoding_df2.dat', 'rb') as f:\n",
    "    rl = pickle.load(f)\n",
    "indy_df = pd.DataFrame(rl)"
   ]
  },
  {
   "cell_type": "code",
   "execution_count": 5,
   "metadata": {},
   "outputs": [],
   "source": [
    "with open('/mnt/Secondary/data/postprocessed/sabes_varyingT_dimreduc_df.dat', 'rb') as f:\n",
    "    rl = pickle.load(f)\n",
    "Tvardf = pd.DataFrame(rl)"
   ]
  },
  {
   "cell_type": "code",
   "execution_count": 6,
   "metadata": {},
   "outputs": [],
   "source": [
    "with open('/mnt/Secondary/data/postprocessed/sabes_obsnoise_dimreduc_df.dat', 'rb') as f:\n",
    "    rl = pickle.load(f)\n",
    "obsnoisedf = pd.DataFrame(rl)"
   ]
  },
  {
   "cell_type": "code",
   "execution_count": 8,
   "metadata": {},
   "outputs": [
    {
     "data": {
      "text/plain": [
       "Index(['dim', 'fold_idx', 'train_idxs', 'test_idxs', 'dimreduc_method',\n",
       "       'dimreduc_args', 'coef', 'score', 'data_file', 'loader', 'loader_args',\n",
       "       'task_args', 'data_path', 'results_file'],\n",
       "      dtype='object')"
      ]
     },
     "execution_count": 8,
     "metadata": {},
     "output_type": "execute_result"
    }
   ],
   "source": [
    "Tvardf.keys()"
   ]
  },
  {
   "cell_type": "code",
   "execution_count": 13,
   "metadata": {},
   "outputs": [
    {
     "data": {
      "text/plain": [
       "{'T': 3, 'loss_type': 'trace', 'n_init': 10}"
      ]
     },
     "execution_count": 13,
     "metadata": {},
     "output_type": "execute_result"
    }
   ],
   "source": [
    "Tvardf.iloc[4]['dimreduc_args']"
   ]
  },
  {
   "cell_type": "code",
   "execution_count": null,
   "metadata": {},
   "outputs": [],
   "source": [
    "T = np.array([3, 4, 5, 6, 10])\n"
   ]
  },
  {
   "cell_type": "code",
   "execution_count": 27,
   "metadata": {},
   "outputs": [],
   "source": [
    "# First comparing subspace angles between varying T\n",
    "dimreduc_args = [{'T': 3, 'loss_type': 'trace', 'n_init': 1}, {'T': 4, 'loss_type': 'trace', 'n_init': 1},\n",
    "                 {'T': 5, 'loss_type': 'trace', 'n_init': 1}, {'T': 6, 'loss_type': 'trace', 'n_init': 1}, {'T': 10, 'loss_type': 'trace', 'n_init': 1}]\n",
    "\n",
    "data_files = np.unique(Tvardf['data_file'].values)\n",
    "D = 6\n",
    "\n",
    "ssa = np.zeros((len(data_files), 5, 4, 400))\n",
    "for i, data_file in enumerate(data_files):\n",
    "    for fold_idx in range(5):\n",
    "        df_ref = apply_df_filters(Tvardf, data_file=data_file, fold_idx=fold_idx, dimreduc_args=dimreduc_args[0], dim=D)\n",
    "        assert(df_ref.shape[0] == 20)\n",
    "        coef_ref = []\n",
    "        for k in range(df_ref.shape[0]):\n",
    "            coef_ref.append(df_ref.iloc[k]['coef'])\n",
    "\n",
    "        for j, dimreduc_arg in enumerate(dimreduc_args[1:]):\n",
    "            df_ = apply_df_filters(Tvardf, data_file=data_file, fold_idx=fold_idx, dimreduc_args=dimreduc_arg, dim =D)\n",
    "            assert(df_.shape[0] == 20)\n",
    "            coef = []\n",
    "            for k in range(df_.shape[0]):\n",
    "                coef.append(df_.iloc[k]['coef'])\n",
    "\n",
    "            ssa_ = []\n",
    "            for k1 in range(20):\n",
    "                for k2 in range(20):\n",
    "                    ssa_.append(np.mean(scipy.linalg.subspace_angles(coef_ref[k1], coef[k2])))\n",
    "            ssa[i, fold_idx, j, :] = ssa_"
   ]
  },
  {
   "cell_type": "code",
   "execution_count": 28,
   "metadata": {},
   "outputs": [
    {
     "data": {
      "image/png": "[encoded data removed]",
      "text/plain": [
       "<Figure size 400x400 with 1 Axes>"
      ]
     },
     "metadata": {},
     "output_type": "display_data"
    }
   ],
   "source": [
    "fig, ax = plt.subplots(figsize=(4, 4))\n",
    "ax.boxplot([np.min(ssa[..., 0, :], axis=-1).ravel(), np.min(ssa[..., 1, :], axis=-1).ravel(), \n",
    "            np.min(ssa[..., 2, :], axis=-1).ravel(), np.min(ssa[..., 3, :], axis=-1).ravel()], medianprops={'linewidth':0}, showfliers=False)\n",
    "ax.set_xticklabels([4, 5, 6, 10])\n",
    "ax.set_xlabel('T')\n",
    "ax.set_ylabel('Mean subsapce angle to T=3 FCCA (rads)')\n",
    "ax.set_yticks([0, np.pi/8, np.pi/4, 3 * np.pi/8, np.pi/2])\n",
    "ax.set_yticklabels([0, r'$\\pi/8$', r'$\\pi/4$', r'$3\\pi/8$', r'$\\pi/2$'])\n",
    "fig.savefig('/home/akumar/nse/neural_control/figs/loco_indy_merge/Tvar.pdf', bbox_inches='tight', pad_inches=0)"
   ]
  },
  {
   "cell_type": "code",
   "execution_count": null,
   "metadata": {},
   "outputs": [],
   "source": [
    "Tvardf.iloc[0]"
   ]
  },
  {
   "cell_type": "code",
   "execution_count": 29,
   "metadata": {},
   "outputs": [],
   "source": [
    "# First comparing subspace angles between adding observation noise\n",
    "dimreduc_args = [{'T': 3, 'loss_type': 'trace', 'n_init': 1, 'obs_noise':0}, {'T': 3, 'loss_type': 'trace', 'n_init': 1, 'obs_noise':0.0001}, \n",
    "                 {'T': 3, 'loss_type': 'trace', 'n_init': 1, 'obs_noise':0.001},\n",
    "                 {'T': 3, 'loss_type': 'trace', 'n_init': 1, 'obs_noise':0.01}, {'T': 3, 'loss_type': 'trace', 'n_init': 1, 'obs_noise':0.1}]\n",
    "\n",
    "data_files = np.unique(obsnoisedf['data_file'].values)\n",
    "D = 6\n",
    "\n",
    "ssa_onoise = np.zeros((len(data_files), 5, 4, 400))\n",
    "for i, data_file in enumerate(data_files):\n",
    "    for fold_idx in range(5):\n",
    "        df_ref = apply_df_filters(obsnoisedf, data_file=data_file, fold_idx=fold_idx, dimreduc_args=dimreduc_args[0], dim=D)\n",
    "        assert(df_ref.shape[0] == 20)\n",
    "        coef_ref = []\n",
    "        for k in range(df_ref.shape[0]):\n",
    "            coef_ref.append(df_ref.iloc[k]['coef'])\n",
    "\n",
    "        for j, dimreduc_arg in enumerate(dimreduc_args[1:]):\n",
    "            df_ = apply_df_filters(obsnoisedf, data_file=data_file, fold_idx=fold_idx, dimreduc_args=dimreduc_arg, dim =D)\n",
    "            assert(df_.shape[0] == 20)\n",
    "            coef = []\n",
    "            for k in range(df_.shape[0]):\n",
    "                coef.append(df_.iloc[k]['coef'])\n",
    "\n",
    "            ssa_ = []\n",
    "            for k1 in range(20):\n",
    "                for k2 in range(20):\n",
    "                    ssa_.append(np.mean(scipy.linalg.subspace_angles(coef_ref[k1], coef[k2])))\n",
    "            ssa_onoise[i, fold_idx, j, :] = ssa_"
   ]
  },
  {
   "cell_type": "code",
   "execution_count": 32,
   "metadata": {},
   "outputs": [
    {
     "data": {
      "image/png": "[encoded data removed]",
      "text/plain": [
       "<Figure size 400x400 with 1 Axes>"
      ]
     },
     "metadata": {},
     "output_type": "display_data"
    }
   ],
   "source": [
    "fig, ax = plt.subplots(figsize=(4, 4))\n",
    "ax.boxplot([np.min(ssa_onoise[..., 0, :], axis=-1).ravel(), np.min(ssa_onoise[..., 1, :], axis=-1).ravel(), \n",
    "            np.min(ssa_onoise[..., 2, :], axis=-1).ravel(), np.min(ssa_onoise[..., 3, :], axis=-1).ravel()], medianprops={'linewidth':0}, showfliers=False)\n",
    "ax.set_xticklabels([1e-4, 1e-3, 1e-2, 1e-1])\n",
    "ax.set_xlabel(r'$\\sigma^2$')\n",
    "ax.set_ylabel('Mean subsapce angle to noiseless FCCA (rads)')\n",
    "ax.set_yticks([0, np.pi/8, np.pi/4, 3 * np.pi/8, np.pi/2])\n",
    "ax.set_yticklabels([0, r'$\\pi/8$', r'$\\pi/4$', r'$3\\pi/8$', r'$\\pi/2$'])\n",
    "fig.savefig('/home/akumar/nse/neural_control/figs/loco_indy_merge/onoise.pdf', bbox_inches='tight', pad_inches=0)"
   ]
  },
  {
   "cell_type": "code",
   "execution_count": null,
   "metadata": {},
   "outputs": [],
   "source": []
  }
 ],
 "metadata": {
  "interpreter": {
   "hash": "dc5b051b27ecb234d606e4819a89eae546370af4d9423bbd6e2863fa2f880f9a"
  },
  "kernelspec": {
   "display_name": "Python 3.9.13 64-bit ('ncontrol': conda)",
   "language": "python",
   "name": "python3"
  },
  "language_info": {
   "codemirror_mode": {
    "name": "ipython",
    "version": 3
   },
   "file_extension": ".py",
   "mimetype": "text/x-python",
   "name": "python",
   "nbconvert_exporter": "python",
   "pygments_lexer": "ipython3",
   "version": "3.9.13"
  },
  "orig_nbformat": 4
 },
 "nbformat": 4,
 "nbformat_minor": 2
}
