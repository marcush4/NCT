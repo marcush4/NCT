{
 "cells": [
  {
   "cell_type": "code",
   "execution_count": 3,
   "metadata": {},
   "outputs": [],
   "source": [
    "import numpy as np\n",
    "import scipy\n",
    "import sys\n",
    "from glob import glob"
   ]
  },
  {
   "cell_type": "code",
   "execution_count": 2,
   "metadata": {},
   "outputs": [],
   "source": [
    "sys.path.append('/home/akumar/nse/neural_control')"
   ]
  },
  {
   "cell_type": "code",
   "execution_count": 4,
   "metadata": {},
   "outputs": [],
   "source": [
    "from loaders import load_sabes\n",
    "from segmentation import reach_segment_sabes"
   ]
  },
  {
   "cell_type": "code",
   "execution_count": 18,
   "metadata": {},
   "outputs": [],
   "source": [
    "indy_files = glob('/mnt/Secondary/data/sabes/indy*')\n",
    "loco_files = glob('/mnt/Secondary/data/sabes/loco*')\n",
    "good_loco_files = ['loco_20170210_03.mat',\n",
    "'loco_20170213_02.mat',\n",
    "'loco_20170215_02.mat',\n",
    "'loco_20170227_04.mat',\n",
    "'loco_20170228_02.mat',\n",
    "'loco_20170301_05.mat',\n",
    "'loco_20170302_02.mat']\n",
    "\n",
    "loco_files = [f for f in loco_files if f.split('/')[-1] in good_loco_files ]"
   ]
  },
  {
   "cell_type": "code",
   "execution_count": 19,
   "metadata": {},
   "outputs": [
    {
     "data": {
      "text/plain": [
       "['/mnt/Secondary/data/sabes/loco_20170210_03.mat',\n",
       " '/mnt/Secondary/data/sabes/loco_20170213_02.mat',\n",
       " '/mnt/Secondary/data/sabes/loco_20170215_02.mat',\n",
       " '/mnt/Secondary/data/sabes/loco_20170227_04.mat',\n",
       " '/mnt/Secondary/data/sabes/loco_20170228_02.mat',\n",
       " '/mnt/Secondary/data/sabes/loco_20170301_05.mat',\n",
       " '/mnt/Secondary/data/sabes/loco_20170302_02.mat']"
      ]
     },
     "execution_count": 19,
     "metadata": {},
     "output_type": "execute_result"
    }
   ],
   "source": [
    "loco_files"
   ]
  },
  {
   "cell_type": "code",
   "execution_count": 13,
   "metadata": {},
   "outputs": [
    {
     "name": "stdout",
     "output_type": "stream",
     "text": [
      "Reminder that start times depend on the bin size\n"
     ]
    },
    {
     "name": "stderr",
     "output_type": "stream",
     "text": [
      "/home/akumar/nse/neural_control/segmentation.py:68: RuntimeWarning: divide by zero encountered in double_scalars\n",
      "  m = straight[1]/straight[0]\n"
     ]
    },
    {
     "name": "stdout",
     "output_type": "stream",
     "text": [
      "Reminder that start times depend on the bin size\n",
      "Reminder that start times depend on the bin size\n",
      "Reminder that start times depend on the bin size\n",
      "Reminder that start times depend on the bin size\n",
      "Reminder that start times depend on the bin size\n",
      "Reminder that start times depend on the bin size\n",
      "Reminder that start times depend on the bin size\n",
      "Reminder that start times depend on the bin size\n",
      "Reminder that start times depend on the bin size\n",
      "Reminder that start times depend on the bin size\n",
      "Reminder that start times depend on the bin size\n",
      "Reminder that start times depend on the bin size\n",
      "Reminder that start times depend on the bin size\n",
      "Reminder that start times depend on the bin size\n",
      "Reminder that start times depend on the bin size\n",
      "Reminder that start times depend on the bin size\n",
      "Reminder that start times depend on the bin size\n",
      "Reminder that start times depend on the bin size\n",
      "Reminder that start times depend on the bin size\n",
      "Reminder that start times depend on the bin size\n",
      "Reminder that start times depend on the bin size\n",
      "Reminder that start times depend on the bin size\n",
      "Reminder that start times depend on the bin size\n",
      "Reminder that start times depend on the bin size\n",
      "Reminder that start times depend on the bin size\n",
      "Reminder that start times depend on the bin size\n",
      "Reminder that start times depend on the bin size\n"
     ]
    }
   ],
   "source": [
    "reach_count_indy = np.zeros(len(indy_files))\n",
    "\n",
    "for i, data_file in enumerate(indy_files):\n",
    "    dat = load_sabes(data_file)\n",
    "    dat = reach_segment_sabes(dat, data_file=data_file.split('/')[-1].split('.mat')[0])\n",
    "    reach_count_indy[i] = len(dat['transition_times'])"
   ]
  },
  {
   "cell_type": "code",
   "execution_count": 15,
   "metadata": {},
   "outputs": [
    {
     "data": {
      "text/plain": [
       "13149.0"
      ]
     },
     "execution_count": 15,
     "metadata": {},
     "output_type": "execute_result"
    }
   ],
   "source": [
    "np.sum(reach_count_indy)"
   ]
  },
  {
   "cell_type": "code",
   "execution_count": 22,
   "metadata": {},
   "outputs": [
    {
     "name": "stdout",
     "output_type": "stream",
     "text": [
      "Reminder that start times depend on the bin size\n",
      "Reminder that start times depend on the bin size\n",
      "Reminder that start times depend on the bin size\n",
      "Reminder that start times depend on the bin size\n",
      "Reminder that start times depend on the bin size\n",
      "Reminder that start times depend on the bin size\n",
      "Reminder that start times depend on the bin size\n"
     ]
    }
   ],
   "source": [
    "reach_count_loco = np.zeros(len(loco_files))\n",
    "\n",
    "for i, data_file in enumerate(loco_files):\n",
    "    dat = load_sabes(data_file)\n",
    "    dat = reach_segment_sabes(dat, data_file=data_file.split('/')[-1].split('.mat')[0])\n",
    "    reach_count_loco[i] = len(dat['transition_times'])"
   ]
  },
  {
   "cell_type": "code",
   "execution_count": 23,
   "metadata": {},
   "outputs": [
    {
     "data": {
      "text/plain": [
       "4160.0"
      ]
     },
     "execution_count": 23,
     "metadata": {},
     "output_type": "execute_result"
    }
   ],
   "source": [
    "np.sum(reach_count_loco)"
   ]
  },
  {
   "cell_type": "code",
   "execution_count": 24,
   "metadata": {},
   "outputs": [
    {
     "data": {
      "text/plain": [
       "17309"
      ]
     },
     "execution_count": 24,
     "metadata": {},
     "output_type": "execute_result"
    }
   ],
   "source": [
    "13149 + 4160"
   ]
  },
  {
   "cell_type": "code",
   "execution_count": null,
   "metadata": {},
   "outputs": [],
   "source": []
  }
 ],
 "metadata": {
  "interpreter": {
   "hash": "dc5b051b27ecb234d606e4819a89eae546370af4d9423bbd6e2863fa2f880f9a"
  },
  "kernelspec": {
   "display_name": "Python 3.9.13 64-bit ('ncontrol': conda)",
   "language": "python",
   "name": "python3"
  },
  "language_info": {
   "codemirror_mode": {
    "name": "ipython",
    "version": 3
   },
   "file_extension": ".py",
   "mimetype": "text/x-python",
   "name": "python",
   "nbconvert_exporter": "python",
   "pygments_lexer": "ipython3",
   "version": "3.9.13"
  },
  "orig_nbformat": 4
 },
 "nbformat": 4,
 "nbformat_minor": 2
}
