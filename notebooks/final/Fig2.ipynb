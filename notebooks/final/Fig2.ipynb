{
 "cells": [
  {
   "cell_type": "code",
   "execution_count": 1,
   "metadata": {},
   "outputs": [],
   "source": [
    "%load_ext autoreload\n",
    "%autoreload 2"
   ]
  },
  {
   "cell_type": "code",
   "execution_count": 165,
   "metadata": {},
   "outputs": [],
   "source": [
    "import numpy as np\n",
    "import scipy\n",
    "import sys\n",
    "import pdb\n",
    "import matplotlib.pyplot as plt\n",
    "from glob import glob\n",
    "import pickle\n",
    "from pyuoi.linear_model.var import VAR\n",
    "from tqdm import tqdm\n",
    "import pandas as pd\n",
    "from neurosim.models.var import VAR as VARss\n",
    "from neurosim.models.var import form_companion\n",
    "from copy import deepcopy\n",
    "from dstableFGM import dstable_descent"
   ]
  },
  {
   "cell_type": "code",
   "execution_count": 3,
   "metadata": {},
   "outputs": [],
   "source": [
    "sys.path.append('../..')\n",
    "from loaders import load_sabes\n",
    "from subspaces import estimate_autocorrelation\n",
    "from utils import apply_df_filters"
   ]
  },
  {
   "cell_type": "markdown",
   "metadata": {},
   "source": [
    "#### plots to include for 4/6:\n",
    "#### (1) Pseudospectra/Polar Decomposition, (2) CV selection (joint vs marginal when applicable), (3) LQGCA subspace angles"
   ]
  },
  {
   "cell_type": "markdown",
   "metadata": {},
   "source": [
    "### Fitting (Sabes)"
   ]
  },
  {
   "cell_type": "code",
   "execution_count": 6,
   "metadata": {},
   "outputs": [],
   "source": [
    "data_files = glob('/mnt/Secondary/data/sabes/*.mat')"
   ]
  },
  {
   "cell_type": "code",
   "execution_count": 7,
   "metadata": {},
   "outputs": [],
   "source": [
    "from sklearn.model_selection import KFold"
   ]
  },
  {
   "cell_type": "code",
   "execution_count": 81,
   "metadata": {},
   "outputs": [],
   "source": [
    "# Consolidate\n",
    "indy_fits = glob('/mnt/Secondary/data/indy_cv_var/indy_cv_var_*.dat')"
   ]
  },
  {
   "cell_type": "code",
   "execution_count": 97,
   "metadata": {},
   "outputs": [],
   "source": [
    "rl = []\n",
    "for file_ in indy_fits:\n",
    "    with open(file_, 'rb') as f:\n",
    "        args = pickle.load(f)\n",
    "        coef = pickle.load(f)\n",
    "    rd = {}\n",
    "    for key, value in args.items():\n",
    "        if type(value) == dict:\n",
    "            for key_, value_ in value.items():\n",
    "                rd[key_] = value_\n",
    "        else:\n",
    "            rd[key] = value\n",
    "    \n",
    "    rd['coef'] = coef\n",
    "    rl.append(rd)"
   ]
  },
  {
   "cell_type": "code",
   "execution_count": 98,
   "metadata": {},
   "outputs": [],
   "source": [
    "indy_df = pd.DataFrame(rl)"
   ]
  },
  {
   "cell_type": "code",
   "execution_count": 99,
   "metadata": {},
   "outputs": [
    {
     "data": {
      "text/plain": [
       "Index(['data_file', 'loader', 'bin_width', 'filter_fn', 'filter_kwargs',\n",
       "       'boxcox', 'spike_threshold', 'region', 'estimator', 'self_regress',\n",
       "       'order', 'estimation_score', 'fold_idx', 'distributed_save',\n",
       "       'data_path', 'results_file', 'coef'],\n",
       "      dtype='object')"
      ]
     },
     "execution_count": 99,
     "metadata": {},
     "output_type": "execute_result"
    }
   ],
   "source": [
    "indy_df.keys()"
   ]
  },
  {
   "cell_type": "code",
   "execution_count": 105,
   "metadata": {},
   "outputs": [
    {
     "name": "stdout",
     "output_type": "stream",
     "text": [
      "Processing spikes\n"
     ]
    },
    {
     "name": "stderr",
     "output_type": "stream",
     "text": [
      "100%|██████████| 1/1 [00:16<00:00, 16.38s/it]\n",
      "../../cov_estimation.py:142: RuntimeWarning: invalid value encountered in double_scalars\n",
      "  ccm_sample_normalized[k, i, j] /= np.sqrt(ccm_sample[0, i, i] * ccm_sample[0, j, j])\n"
     ]
    },
    {
     "name": "stdout",
     "output_type": "stream",
     "text": [
      "Processing spikes\n"
     ]
    },
    {
     "name": "stderr",
     "output_type": "stream",
     "text": [
      "100%|██████████| 1/1 [00:22<00:00, 22.88s/it]\n"
     ]
    },
    {
     "name": "stdout",
     "output_type": "stream",
     "text": [
      "Processing spikes\n"
     ]
    },
    {
     "name": "stderr",
     "output_type": "stream",
     "text": [
      "100%|██████████| 1/1 [00:04<00:00,  4.80s/it]\n"
     ]
    }
   ],
   "source": [
    "# Estimate autocorrelations in order to select model order\n",
    "data_files = np.unique(indy_df['data_file'].values)\n",
    "loader_args = {'bin_width':50, 'filter_fn':'none', 'filter_kwargs':{}, 'boxcox':0.5, 'spike_threshold':100, 'region':'M1'}\n",
    "\n",
    "etrain = np.zeros((data_files.size, 5, 5, 5))\n",
    "etest = np.zeros((data_files.size, 5, 5, 5))\n",
    "\n",
    "for i, data_file in enumerate(data_files):\n",
    "    dat = load_sabes(data_file, **loader_args)\n",
    "    y = np.squeeze(dat['spike_rates'])\n",
    "    fold_idx = 0\n",
    "    for j, (train_idxs, test_idxs) in enumerate(KFold(5).split(y)):\n",
    "        ccm_train = estimate_autocorrelation(y[train_idxs], 5)\n",
    "        ccm_test = estimate_autocorrelation(y[test_idxs], 5)\n",
    "        \n",
    "        for k, var_order in enumerate([1, 2, 3, 4, 5]):\n",
    "            df_ = apply_df_filters(indy_df, data_file=data_file, fold_idx=fold_idx, order=var_order)\n",
    "            assert(df_.shape[0] == 1)\n",
    "            varss = VARss(df_.iloc[0]['coef'])\n",
    "            etrain[i, j, k] = [np.linalg.norm(ccm_train[idx] - varss.autocorrelation(5)[idx]) for idx in range(5)]\n",
    "            etest[i, j, k] = [np.linalg.norm(ccm_test[idx] - varss.autocorrelation(5)[idx]) for idx in range(5)]\n",
    "\n",
    "        fold_idx += 1"
   ]
  },
  {
   "cell_type": "code",
   "execution_count": 106,
   "metadata": {},
   "outputs": [
    {
     "data": {
      "text/plain": [
       "[<matplotlib.lines.Line2D at 0x7efc79e4f450>,\n",
       " <matplotlib.lines.Line2D at 0x7efc79e4f550>,\n",
       " <matplotlib.lines.Line2D at 0x7efc79e4f690>,\n",
       " <matplotlib.lines.Line2D at 0x7efc79e4f790>,\n",
       " <matplotlib.lines.Line2D at 0x7efc79e4f890>]"
      ]
     },
     "execution_count": 106,
     "metadata": {},
     "output_type": "execute_result"
    },
    {
     "data": {
      "image/png": "[encoded data removed]",
      "text/plain": [
       "<Figure size 1080x360 with 3 Axes>"
      ]
     },
     "metadata": {
      "needs_background": "light"
     },
     "output_type": "display_data"
    }
   ],
   "source": [
    "# Plot for each data file the average across var order\n",
    "fig, ax = plt.subplots(1, 3, figsize=(15, 5))\n",
    "ax[0].plot(np.mean(etest[0, ...], axis=0))\n",
    "ax[1].plot(np.mean(etest[1, ...], axis=0))\n",
    "ax[2].plot(np.mean(etest[2, ...], axis=0))"
   ]
  },
  {
   "cell_type": "code",
   "execution_count": 108,
   "metadata": {},
   "outputs": [
    {
     "data": {
      "text/plain": [
       "[<matplotlib.lines.Line2D at 0x7efc7a2a1e50>,\n",
       " <matplotlib.lines.Line2D at 0x7efc7a2a1fd0>,\n",
       " <matplotlib.lines.Line2D at 0x7efc7a290910>,\n",
       " <matplotlib.lines.Line2D at 0x7efc7a290250>,\n",
       " <matplotlib.lines.Line2D at 0x7efc7a290a50>]"
      ]
     },
     "execution_count": 108,
     "metadata": {},
     "output_type": "execute_result"
    },
    {
     "data": {
      "image/png": "[encoded data removed]",
      "text/plain": [
       "<Figure size 1080x360 with 3 Axes>"
      ]
     },
     "metadata": {
      "needs_background": "light"
     },
     "output_type": "display_data"
    }
   ],
   "source": [
    "# Plot for each data file the average across var order\n",
    "fig, ax = plt.subplots(1, 3, figsize=(15, 5))\n",
    "ax[0].plot(np.mean(etrain[0, ...], axis=0))\n",
    "ax[1].plot(np.mean(etrain[1, ...], axis=0))\n",
    "ax[2].plot(np.mean(etrain[2, ...], axis=0))"
   ]
  },
  {
   "cell_type": "code",
   "execution_count": 109,
   "metadata": {},
   "outputs": [
    {
     "data": {
      "text/plain": [
       "2"
      ]
     },
     "execution_count": 109,
     "metadata": {},
     "output_type": "execute_result"
    }
   ],
   "source": [
    "np.argmin(np.sum(etest[0, :, -1, :], axis=1))"
   ]
  },
  {
   "cell_type": "code",
   "execution_count": 113,
   "metadata": {},
   "outputs": [
    {
     "data": {
      "text/plain": [
       "2"
      ]
     },
     "execution_count": 113,
     "metadata": {},
     "output_type": "execute_result"
    }
   ],
   "source": [
    "np.argmin(np.sum(etest[2, :, -1, :], axis=1))"
   ]
  },
  {
   "cell_type": "code",
   "execution_count": 124,
   "metadata": {},
   "outputs": [],
   "source": [
    "# Setup pseuospectra calculation overnight in separate notebook"
   ]
  },
  {
   "cell_type": "code",
   "execution_count": null,
   "metadata": {},
   "outputs": [],
   "source": [
    "# Pseudospectra calculation\n",
    "levels=[10**k for k in range(-5, 1)]\n",
    "epsilons = levels\n",
    "padepsilons = [epsilons[0]*0.9] + epsilons + [epsilons[-1]*1.1]\n",
    "\n",
    "mesh = []\n",
    "for i, data_file in enumerate(data_files):\n",
    "    X = []\n",
    "    Y = []\n",
    "    Z = []\n",
    "    for epsilon in padepsilons:\n",
    "        paths = pseudo_normal.contour_paths(epsilon)\n",
    "        for path in paths:\n",
    "            X += list(np.real(path.vertices[:-1]))\n",
    "            Y += list(np.imag(path.vertices[:-1]))\n",
    "            Z += [epsilon] * (len(path.vertices) - 1)\n",
    "\n",
    "tc = ax[1].tricontour(X, Y, Z, levels=epsilons,  colors=[cmaphelper.get_rgb(np.log(l)) for l in levels])\n",
    "for i in range(len(levels)):\n",
    "    tc.collections[i].set_label(np.log10(levels[i]))"
   ]
  },
  {
   "cell_type": "code",
   "execution_count": 123,
   "metadata": {},
   "outputs": [
    {
     "data": {
      "image/png": "[encoded data removed]",
      "text/plain": [
       "<Figure size 720x1080 with 6 Axes>"
      ]
     },
     "metadata": {
      "needs_background": "light"
     },
     "output_type": "display_data"
    }
   ],
   "source": [
    "# Plot the spectra for the VAR(5) models, as well as their polar decomposition\n",
    "cmaphelper = MplColorHelper('winter', np.log(levels[0]), 10 * np.log(levels[-1]))\n",
    "\n",
    "# Eventually need to refit on the whole dataset\n",
    "fig, ax = plt.subplots(3, 2, figsize=(10, 15))\n",
    "best_folds = [2, 4, 2]\n",
    "for i, data_file in enumerate(data_files):\n",
    "    df_ = apply_df_filters(indy_df, data_file=data_file, fold_idx = best_folds[i], order=5)\n",
    "    A = form_companion(df_.iloc[0]['coef'])\n",
    "    eig, _ = np.linalg.eig(A)\n",
    "    circle1 = plt.Circle((0, 0), 1, color='k', fill=False, linestyle='--')\n",
    "    ax[i, 0].scatter(np.real(eig), np.imag(eig), alpha=0.35)\n",
    "    ax[i, 0].add_patch(circle1)\n",
    "    ax[i, 0].set_xlim([-1.02, 1.02])\n",
    "    ax[i, 0].set_ylim([-1.02, 1.02])\n",
    "\n",
    "    U, P = scipy.linalg.polar(A)\n",
    "    eig1, _ = np.linalg.eig(U)\n",
    "    eig2, _ = np.linalg.eig(P)\n",
    "    \n",
    "    ax[i, 1].scatter(np.real(eig1), np.imag(eig1), alpha=0.35)\n",
    "    ax[i, 1].scatter(np.real(eig2), np.imag(eig2), alpha=0.35)"
   ]
  },
  {
   "cell_type": "code",
   "execution_count": null,
   "metadata": {},
   "outputs": [],
   "source": [
    "# Perhaps an alternative: Plot \"gain\" and \"phase\" imparted to each right singular vector. "
   ]
  },
  {
   "cell_type": "markdown",
   "metadata": {},
   "source": []
  },
  {
   "cell_type": "code",
   "execution_count": 59,
   "metadata": {},
   "outputs": [
    {
     "name": "stderr",
     "output_type": "stream",
     "text": [
      "  0%|          | 0/38 [00:00<?, ?it/s]"
     ]
    },
    {
     "name": "stdout",
     "output_type": "stream",
     "text": [
      "Processing spikes\n"
     ]
    },
    {
     "name": "stderr",
     "output_type": "stream",
     "text": [
      "100%|██████████| 1/1 [00:04<00:00,  4.60s/it]\n"
     ]
    },
    {
     "name": "stdout",
     "output_type": "stream",
     "text": [
      "Processing spikes\n"
     ]
    },
    {
     "name": "stderr",
     "output_type": "stream",
     "text": [
      "100%|██████████| 1/1 [00:00<00:00, 36472.21it/s]\n"
     ]
    },
    {
     "name": "stdout",
     "output_type": "stream",
     "text": [
      "Processing spikes\n"
     ]
    },
    {
     "name": "stderr",
     "output_type": "stream",
     "text": [
      "100%|██████████| 1/1 [00:04<00:00,  4.63s/it]\n",
      "  3%|▎         | 1/38 [00:09<05:53,  9.56s/it]"
     ]
    },
    {
     "name": "stdout",
     "output_type": "stream",
     "text": [
      "Processing spikes\n"
     ]
    },
    {
     "name": "stderr",
     "output_type": "stream",
     "text": [
      "100%|██████████| 1/1 [00:16<00:00, 16.23s/it]\n"
     ]
    },
    {
     "name": "stdout",
     "output_type": "stream",
     "text": [
      "Processing spikes\n"
     ]
    },
    {
     "name": "stderr",
     "output_type": "stream",
     "text": [
      "100%|██████████| 1/1 [00:16<00:00, 16.31s/it]\n"
     ]
    },
    {
     "name": "stdout",
     "output_type": "stream",
     "text": [
      "Processing spikes\n"
     ]
    },
    {
     "name": "stderr",
     "output_type": "stream",
     "text": [
      "100%|██████████| 1/1 [00:32<00:00, 32.63s/it]\n",
      "  5%|▌         | 2/38 [01:15<25:40, 42.78s/it]"
     ]
    },
    {
     "name": "stdout",
     "output_type": "stream",
     "text": [
      "Processing spikes\n"
     ]
    },
    {
     "name": "stderr",
     "output_type": "stream",
     "text": [
      "100%|██████████| 1/1 [00:22<00:00, 22.46s/it]\n"
     ]
    },
    {
     "name": "stdout",
     "output_type": "stream",
     "text": [
      "Processing spikes\n"
     ]
    },
    {
     "name": "stderr",
     "output_type": "stream",
     "text": [
      "100%|██████████| 1/1 [00:00<00:00, 31300.78it/s]\n"
     ]
    },
    {
     "name": "stdout",
     "output_type": "stream",
     "text": [
      "Processing spikes\n"
     ]
    },
    {
     "name": "stderr",
     "output_type": "stream",
     "text": [
      "100%|██████████| 1/1 [00:22<00:00, 22.67s/it]\n",
      "  8%|▊         | 3/38 [02:01<25:44, 44.12s/it]"
     ]
    },
    {
     "name": "stdout",
     "output_type": "stream",
     "text": [
      "Processing spikes\n"
     ]
    },
    {
     "name": "stderr",
     "output_type": "stream",
     "text": [
      "100%|██████████| 1/1 [00:04<00:00,  4.75s/it]\n"
     ]
    },
    {
     "name": "stdout",
     "output_type": "stream",
     "text": [
      "Processing spikes\n"
     ]
    },
    {
     "name": "stderr",
     "output_type": "stream",
     "text": [
      "100%|██████████| 1/1 [00:00<00:00, 39199.10it/s]\n"
     ]
    },
    {
     "name": "stdout",
     "output_type": "stream",
     "text": [
      "Processing spikes\n"
     ]
    },
    {
     "name": "stderr",
     "output_type": "stream",
     "text": [
      "100%|██████████| 1/1 [00:04<00:00,  4.73s/it]\n",
      " 11%|█         | 4/38 [02:11<17:20, 30.59s/it]"
     ]
    },
    {
     "name": "stdout",
     "output_type": "stream",
     "text": [
      "Processing spikes\n"
     ]
    },
    {
     "name": "stderr",
     "output_type": "stream",
     "text": [
      "100%|██████████| 1/1 [00:31<00:00, 31.28s/it]\n"
     ]
    },
    {
     "name": "stdout",
     "output_type": "stream",
     "text": [
      "Processing spikes\n"
     ]
    },
    {
     "name": "stderr",
     "output_type": "stream",
     "text": [
      "100%|██████████| 1/1 [00:00<00:00, 32513.98it/s]\n"
     ]
    },
    {
     "name": "stdout",
     "output_type": "stream",
     "text": [
      "Processing spikes\n"
     ]
    },
    {
     "name": "stderr",
     "output_type": "stream",
     "text": [
      "100%|██████████| 1/1 [00:31<00:00, 31.15s/it]\n",
      " 13%|█▎        | 5/38 [03:14<23:17, 42.34s/it]"
     ]
    },
    {
     "name": "stdout",
     "output_type": "stream",
     "text": [
      "Processing spikes\n"
     ]
    },
    {
     "name": "stderr",
     "output_type": "stream",
     "text": [
      "100%|██████████| 1/1 [00:13<00:00, 13.57s/it]\n"
     ]
    },
    {
     "name": "stdout",
     "output_type": "stream",
     "text": [
      "Processing spikes\n"
     ]
    },
    {
     "name": "stderr",
     "output_type": "stream",
     "text": [
      "100%|██████████| 1/1 [00:00<00:00, 29959.31it/s]\n"
     ]
    },
    {
     "name": "stdout",
     "output_type": "stream",
     "text": [
      "Processing spikes\n"
     ]
    },
    {
     "name": "stderr",
     "output_type": "stream",
     "text": [
      "100%|██████████| 1/1 [00:13<00:00, 13.68s/it]\n",
      " 16%|█▌        | 6/38 [03:42<19:55, 37.37s/it]"
     ]
    },
    {
     "name": "stdout",
     "output_type": "stream",
     "text": [
      "Processing spikes\n"
     ]
    },
    {
     "name": "stderr",
     "output_type": "stream",
     "text": [
      "100%|██████████| 1/1 [00:03<00:00,  3.53s/it]\n"
     ]
    },
    {
     "name": "stdout",
     "output_type": "stream",
     "text": [
      "Processing spikes\n"
     ]
    },
    {
     "name": "stderr",
     "output_type": "stream",
     "text": [
      "100%|██████████| 1/1 [00:00<00:00, 35246.25it/s]\n"
     ]
    },
    {
     "name": "stdout",
     "output_type": "stream",
     "text": [
      "Processing spikes\n"
     ]
    },
    {
     "name": "stderr",
     "output_type": "stream",
     "text": [
      "100%|██████████| 1/1 [00:03<00:00,  3.57s/it]\n",
      " 18%|█▊        | 7/38 [03:49<14:15, 27.59s/it]"
     ]
    },
    {
     "name": "stdout",
     "output_type": "stream",
     "text": [
      "Processing spikes\n"
     ]
    },
    {
     "name": "stderr",
     "output_type": "stream",
     "text": [
      "100%|██████████| 1/1 [00:03<00:00,  3.37s/it]\n"
     ]
    },
    {
     "name": "stdout",
     "output_type": "stream",
     "text": [
      "Processing spikes\n"
     ]
    },
    {
     "name": "stderr",
     "output_type": "stream",
     "text": [
      "100%|██████████| 1/1 [00:00<00:00, 32768.00it/s]\n"
     ]
    },
    {
     "name": "stdout",
     "output_type": "stream",
     "text": [
      "Processing spikes\n"
     ]
    },
    {
     "name": "stderr",
     "output_type": "stream",
     "text": [
      "100%|██████████| 1/1 [00:03<00:00,  3.36s/it]\n",
      " 21%|██        | 8/38 [03:56<10:31, 21.05s/it]"
     ]
    },
    {
     "name": "stdout",
     "output_type": "stream",
     "text": [
      "Processing spikes\n"
     ]
    },
    {
     "name": "stderr",
     "output_type": "stream",
     "text": [
      "100%|██████████| 1/1 [00:04<00:00,  4.27s/it]\n"
     ]
    },
    {
     "name": "stdout",
     "output_type": "stream",
     "text": [
      "Processing spikes\n"
     ]
    },
    {
     "name": "stderr",
     "output_type": "stream",
     "text": [
      "100%|██████████| 1/1 [00:00<00:00, 26051.58it/s]\n"
     ]
    },
    {
     "name": "stdout",
     "output_type": "stream",
     "text": [
      "Processing spikes\n"
     ]
    },
    {
     "name": "stderr",
     "output_type": "stream",
     "text": [
      "100%|██████████| 1/1 [00:04<00:00,  4.35s/it]\n",
      " 24%|██▎       | 9/38 [04:05<08:21, 17.28s/it]"
     ]
    },
    {
     "name": "stdout",
     "output_type": "stream",
     "text": [
      "Processing spikes\n"
     ]
    },
    {
     "name": "stderr",
     "output_type": "stream",
     "text": [
      "100%|██████████| 1/1 [00:03<00:00,  3.77s/it]\n"
     ]
    },
    {
     "name": "stdout",
     "output_type": "stream",
     "text": [
      "Processing spikes\n"
     ]
    },
    {
     "name": "stderr",
     "output_type": "stream",
     "text": [
      "100%|██████████| 1/1 [00:00<00:00, 19599.55it/s]\n"
     ]
    },
    {
     "name": "stdout",
     "output_type": "stream",
     "text": [
      "Processing spikes\n"
     ]
    },
    {
     "name": "stderr",
     "output_type": "stream",
     "text": [
      "100%|██████████| 1/1 [00:03<00:00,  3.79s/it]\n",
      " 26%|██▋       | 10/38 [04:13<06:42, 14.38s/it]"
     ]
    },
    {
     "name": "stdout",
     "output_type": "stream",
     "text": [
      "Processing spikes\n"
     ]
    },
    {
     "name": "stderr",
     "output_type": "stream",
     "text": [
      "100%|██████████| 1/1 [00:03<00:00,  3.53s/it]\n"
     ]
    },
    {
     "name": "stdout",
     "output_type": "stream",
     "text": [
      "Processing spikes\n"
     ]
    },
    {
     "name": "stderr",
     "output_type": "stream",
     "text": [
      "100%|██████████| 1/1 [00:00<00:00, 30615.36it/s]\n"
     ]
    },
    {
     "name": "stdout",
     "output_type": "stream",
     "text": [
      "Processing spikes\n"
     ]
    },
    {
     "name": "stderr",
     "output_type": "stream",
     "text": [
      "100%|██████████| 1/1 [00:03<00:00,  3.51s/it]\n",
      " 29%|██▉       | 11/38 [04:20<05:30, 12.24s/it]"
     ]
    },
    {
     "name": "stdout",
     "output_type": "stream",
     "text": [
      "Processing spikes\n"
     ]
    },
    {
     "name": "stderr",
     "output_type": "stream",
     "text": [
      "100%|██████████| 1/1 [00:04<00:00,  4.71s/it]\n"
     ]
    },
    {
     "name": "stdout",
     "output_type": "stream",
     "text": [
      "Processing spikes\n"
     ]
    },
    {
     "name": "stderr",
     "output_type": "stream",
     "text": [
      "100%|██████████| 1/1 [00:00<00:00, 34379.54it/s]\n"
     ]
    },
    {
     "name": "stdout",
     "output_type": "stream",
     "text": [
      "Processing spikes\n"
     ]
    },
    {
     "name": "stderr",
     "output_type": "stream",
     "text": [
      "100%|██████████| 1/1 [00:04<00:00,  4.67s/it]\n",
      " 32%|███▏      | 12/38 [04:30<04:58, 11.48s/it]"
     ]
    },
    {
     "name": "stdout",
     "output_type": "stream",
     "text": [
      "Processing spikes\n"
     ]
    },
    {
     "name": "stderr",
     "output_type": "stream",
     "text": [
      "100%|██████████| 1/1 [00:04<00:00,  4.56s/it]\n"
     ]
    },
    {
     "name": "stdout",
     "output_type": "stream",
     "text": [
      "Processing spikes\n"
     ]
    },
    {
     "name": "stderr",
     "output_type": "stream",
     "text": [
      "100%|██████████| 1/1 [00:00<00:00, 33026.02it/s]\n"
     ]
    },
    {
     "name": "stdout",
     "output_type": "stream",
     "text": [
      "Processing spikes\n"
     ]
    },
    {
     "name": "stderr",
     "output_type": "stream",
     "text": [
      "100%|██████████| 1/1 [00:04<00:00,  4.65s/it]\n",
      " 34%|███▍      | 13/38 [04:40<04:32, 10.90s/it]"
     ]
    },
    {
     "name": "stdout",
     "output_type": "stream",
     "text": [
      "Processing spikes\n"
     ]
    },
    {
     "name": "stderr",
     "output_type": "stream",
     "text": [
      "100%|██████████| 1/1 [00:06<00:00,  6.37s/it]\n"
     ]
    },
    {
     "name": "stdout",
     "output_type": "stream",
     "text": [
      "Processing spikes\n"
     ]
    },
    {
     "name": "stderr",
     "output_type": "stream",
     "text": [
      "100%|██████████| 1/1 [00:00<00:00, 28926.23it/s]\n"
     ]
    },
    {
     "name": "stdout",
     "output_type": "stream",
     "text": [
      "Processing spikes\n"
     ]
    },
    {
     "name": "stderr",
     "output_type": "stream",
     "text": [
      "100%|██████████| 1/1 [00:06<00:00,  6.26s/it]\n",
      " 37%|███▋      | 14/38 [04:53<04:36, 11.54s/it]"
     ]
    },
    {
     "name": "stdout",
     "output_type": "stream",
     "text": [
      "Processing spikes\n"
     ]
    },
    {
     "name": "stderr",
     "output_type": "stream",
     "text": [
      "100%|██████████| 1/1 [00:04<00:00,  4.87s/it]\n"
     ]
    },
    {
     "name": "stdout",
     "output_type": "stream",
     "text": [
      "Processing spikes\n"
     ]
    },
    {
     "name": "stderr",
     "output_type": "stream",
     "text": [
      "100%|██████████| 1/1 [00:00<00:00, 36472.21it/s]\n"
     ]
    },
    {
     "name": "stdout",
     "output_type": "stream",
     "text": [
      "Processing spikes\n"
     ]
    },
    {
     "name": "stderr",
     "output_type": "stream",
     "text": [
      "100%|██████████| 1/1 [00:04<00:00,  4.85s/it]\n",
      " 39%|███▉      | 15/38 [05:03<04:15, 11.09s/it]"
     ]
    },
    {
     "name": "stdout",
     "output_type": "stream",
     "text": [
      "Processing spikes\n"
     ]
    },
    {
     "name": "stderr",
     "output_type": "stream",
     "text": [
      "100%|██████████| 1/1 [00:04<00:00,  4.94s/it]\n"
     ]
    },
    {
     "name": "stdout",
     "output_type": "stream",
     "text": [
      "Processing spikes\n"
     ]
    },
    {
     "name": "stderr",
     "output_type": "stream",
     "text": [
      "100%|██████████| 1/1 [00:00<00:00, 36157.79it/s]\n"
     ]
    },
    {
     "name": "stdout",
     "output_type": "stream",
     "text": [
      "Processing spikes\n"
     ]
    },
    {
     "name": "stderr",
     "output_type": "stream",
     "text": [
      "100%|██████████| 1/1 [00:04<00:00,  4.81s/it]\n",
      " 42%|████▏     | 16/38 [05:13<03:57, 10.80s/it]"
     ]
    },
    {
     "name": "stdout",
     "output_type": "stream",
     "text": [
      "Processing spikes\n"
     ]
    },
    {
     "name": "stderr",
     "output_type": "stream",
     "text": [
      "100%|██████████| 1/1 [00:04<00:00,  4.61s/it]\n"
     ]
    },
    {
     "name": "stdout",
     "output_type": "stream",
     "text": [
      "Processing spikes\n"
     ]
    },
    {
     "name": "stderr",
     "output_type": "stream",
     "text": [
      "100%|██████████| 1/1 [00:00<00:00, 36472.21it/s]\n"
     ]
    },
    {
     "name": "stdout",
     "output_type": "stream",
     "text": [
      "Processing spikes\n"
     ]
    },
    {
     "name": "stderr",
     "output_type": "stream",
     "text": [
      "100%|██████████| 1/1 [00:04<00:00,  4.47s/it]\n",
      " 45%|████▍     | 17/38 [05:22<03:38, 10.39s/it]"
     ]
    },
    {
     "name": "stdout",
     "output_type": "stream",
     "text": [
      "Processing spikes\n"
     ]
    },
    {
     "name": "stderr",
     "output_type": "stream",
     "text": [
      "100%|██████████| 1/1 [00:04<00:00,  4.69s/it]\n"
     ]
    },
    {
     "name": "stdout",
     "output_type": "stream",
     "text": [
      "Processing spikes\n"
     ]
    },
    {
     "name": "stderr",
     "output_type": "stream",
     "text": [
      "100%|██████████| 1/1 [00:00<00:00, 37786.52it/s]\n"
     ]
    },
    {
     "name": "stdout",
     "output_type": "stream",
     "text": [
      "Processing spikes\n"
     ]
    },
    {
     "name": "stderr",
     "output_type": "stream",
     "text": [
      "100%|██████████| 1/1 [00:05<00:00,  5.22s/it]\n",
      " 47%|████▋     | 18/38 [05:33<03:27, 10.35s/it]"
     ]
    },
    {
     "name": "stdout",
     "output_type": "stream",
     "text": [
      "Processing spikes\n"
     ]
    },
    {
     "name": "stderr",
     "output_type": "stream",
     "text": [
      "100%|██████████| 1/1 [00:04<00:00,  4.90s/it]\n"
     ]
    },
    {
     "name": "stdout",
     "output_type": "stream",
     "text": [
      "Processing spikes\n"
     ]
    },
    {
     "name": "stderr",
     "output_type": "stream",
     "text": [
      "100%|██████████| 1/1 [00:00<00:00, 34379.54it/s]\n"
     ]
    },
    {
     "name": "stdout",
     "output_type": "stream",
     "text": [
      "Processing spikes\n"
     ]
    },
    {
     "name": "stderr",
     "output_type": "stream",
     "text": [
      "100%|██████████| 1/1 [00:04<00:00,  4.69s/it]\n",
      " 50%|█████     | 19/38 [05:43<03:14, 10.24s/it]"
     ]
    },
    {
     "name": "stdout",
     "output_type": "stream",
     "text": [
      "Processing spikes\n"
     ]
    },
    {
     "name": "stderr",
     "output_type": "stream",
     "text": [
      "100%|██████████| 1/1 [00:05<00:00,  5.46s/it]\n"
     ]
    },
    {
     "name": "stdout",
     "output_type": "stream",
     "text": [
      "Processing spikes\n"
     ]
    },
    {
     "name": "stderr",
     "output_type": "stream",
     "text": [
      "100%|██████████| 1/1 [00:00<00:00, 34379.54it/s]\n"
     ]
    },
    {
     "name": "stdout",
     "output_type": "stream",
     "text": [
      "Processing spikes\n"
     ]
    },
    {
     "name": "stderr",
     "output_type": "stream",
     "text": [
      "100%|██████████| 1/1 [00:05<00:00,  5.46s/it]\n",
      " 53%|█████▎    | 20/38 [05:54<03:09, 10.55s/it]"
     ]
    },
    {
     "name": "stdout",
     "output_type": "stream",
     "text": [
      "Processing spikes\n"
     ]
    },
    {
     "name": "stderr",
     "output_type": "stream",
     "text": [
      "100%|██████████| 1/1 [00:06<00:00,  6.98s/it]\n"
     ]
    },
    {
     "name": "stdout",
     "output_type": "stream",
     "text": [
      "Processing spikes\n"
     ]
    },
    {
     "name": "stderr",
     "output_type": "stream",
     "text": [
      "100%|██████████| 1/1 [00:00<00:00, 19972.88it/s]\n"
     ]
    },
    {
     "name": "stdout",
     "output_type": "stream",
     "text": [
      "Processing spikes\n"
     ]
    },
    {
     "name": "stderr",
     "output_type": "stream",
     "text": [
      "100%|██████████| 1/1 [00:06<00:00,  6.85s/it]\n",
      " 55%|█████▌    | 21/38 [06:08<03:18, 11.65s/it]"
     ]
    },
    {
     "name": "stdout",
     "output_type": "stream",
     "text": [
      "Processing spikes\n"
     ]
    },
    {
     "name": "stderr",
     "output_type": "stream",
     "text": [
      "100%|██████████| 1/1 [00:04<00:00,  4.22s/it]\n"
     ]
    },
    {
     "name": "stdout",
     "output_type": "stream",
     "text": [
      "Processing spikes\n"
     ]
    },
    {
     "name": "stderr",
     "output_type": "stream",
     "text": [
      "100%|██████████| 1/1 [00:00<00:00, 35848.75it/s]\n"
     ]
    },
    {
     "name": "stdout",
     "output_type": "stream",
     "text": [
      "Processing spikes\n"
     ]
    },
    {
     "name": "stderr",
     "output_type": "stream",
     "text": [
      "100%|██████████| 1/1 [00:04<00:00,  4.25s/it]\n",
      " 58%|█████▊    | 22/38 [06:17<02:52, 10.80s/it]"
     ]
    },
    {
     "name": "stdout",
     "output_type": "stream",
     "text": [
      "Processing spikes\n"
     ]
    },
    {
     "name": "stderr",
     "output_type": "stream",
     "text": [
      "100%|██████████| 1/1 [00:05<00:00,  5.24s/it]\n"
     ]
    },
    {
     "name": "stdout",
     "output_type": "stream",
     "text": [
      "Processing spikes\n"
     ]
    },
    {
     "name": "stderr",
     "output_type": "stream",
     "text": [
      "100%|██████████| 1/1 [00:00<00:00, 27776.85it/s]\n"
     ]
    },
    {
     "name": "stdout",
     "output_type": "stream",
     "text": [
      "Processing spikes\n"
     ]
    },
    {
     "name": "stderr",
     "output_type": "stream",
     "text": [
      "100%|██████████| 1/1 [00:05<00:00,  5.21s/it]\n",
      " 61%|██████    | 23/38 [06:28<02:42, 10.80s/it]"
     ]
    },
    {
     "name": "stdout",
     "output_type": "stream",
     "text": [
      "Processing spikes\n"
     ]
    },
    {
     "name": "stderr",
     "output_type": "stream",
     "text": [
      "100%|██████████| 1/1 [00:05<00:00,  5.34s/it]\n"
     ]
    },
    {
     "name": "stdout",
     "output_type": "stream",
     "text": [
      "Processing spikes\n"
     ]
    },
    {
     "name": "stderr",
     "output_type": "stream",
     "text": [
      "100%|██████████| 1/1 [00:00<00:00, 31300.78it/s]\n"
     ]
    },
    {
     "name": "stdout",
     "output_type": "stream",
     "text": [
      "Processing spikes\n"
     ]
    },
    {
     "name": "stderr",
     "output_type": "stream",
     "text": [
      "100%|██████████| 1/1 [00:05<00:00,  5.37s/it]\n",
      " 63%|██████▎   | 24/38 [06:39<02:32, 10.88s/it]"
     ]
    },
    {
     "name": "stdout",
     "output_type": "stream",
     "text": [
      "Processing spikes\n"
     ]
    },
    {
     "name": "stderr",
     "output_type": "stream",
     "text": [
      "100%|██████████| 1/1 [00:05<00:00,  5.65s/it]\n"
     ]
    },
    {
     "name": "stdout",
     "output_type": "stream",
     "text": [
      "Processing spikes\n"
     ]
    },
    {
     "name": "stderr",
     "output_type": "stream",
     "text": [
      "100%|██████████| 1/1 [00:00<00:00, 35544.95it/s]\n"
     ]
    },
    {
     "name": "stdout",
     "output_type": "stream",
     "text": [
      "Processing spikes\n"
     ]
    },
    {
     "name": "stderr",
     "output_type": "stream",
     "text": [
      "100%|██████████| 1/1 [00:05<00:00,  5.62s/it]\n",
      " 66%|██████▌   | 25/38 [06:50<02:24, 11.11s/it]"
     ]
    },
    {
     "name": "stdout",
     "output_type": "stream",
     "text": [
      "Processing spikes\n"
     ]
    },
    {
     "name": "stderr",
     "output_type": "stream",
     "text": [
      "100%|██████████| 1/1 [00:05<00:00,  5.44s/it]\n"
     ]
    },
    {
     "name": "stdout",
     "output_type": "stream",
     "text": [
      "Processing spikes\n"
     ]
    },
    {
     "name": "stderr",
     "output_type": "stream",
     "text": [
      "100%|██████████| 1/1 [00:00<00:00, 34952.53it/s]\n"
     ]
    },
    {
     "name": "stdout",
     "output_type": "stream",
     "text": [
      "Processing spikes\n"
     ]
    },
    {
     "name": "stderr",
     "output_type": "stream",
     "text": [
      "100%|██████████| 1/1 [00:05<00:00,  5.55s/it]\n",
      " 68%|██████▊   | 26/38 [07:02<02:14, 11.18s/it]"
     ]
    },
    {
     "name": "stdout",
     "output_type": "stream",
     "text": [
      "Processing spikes\n"
     ]
    },
    {
     "name": "stderr",
     "output_type": "stream",
     "text": [
      "100%|██████████| 1/1 [00:06<00:00,  6.77s/it]\n"
     ]
    },
    {
     "name": "stdout",
     "output_type": "stream",
     "text": [
      "Processing spikes\n"
     ]
    },
    {
     "name": "stderr",
     "output_type": "stream",
     "text": [
      "100%|██████████| 1/1 [00:00<00:00, 35544.95it/s]\n"
     ]
    },
    {
     "name": "stdout",
     "output_type": "stream",
     "text": [
      "Processing spikes\n"
     ]
    },
    {
     "name": "stderr",
     "output_type": "stream",
     "text": [
      "100%|██████████| 1/1 [00:06<00:00,  6.94s/it]\n",
      " 71%|███████   | 27/38 [07:16<02:12, 12.06s/it]"
     ]
    },
    {
     "name": "stdout",
     "output_type": "stream",
     "text": [
      "Processing spikes\n"
     ]
    },
    {
     "name": "stderr",
     "output_type": "stream",
     "text": [
      "100%|██████████| 1/1 [00:07<00:00,  7.59s/it]\n"
     ]
    },
    {
     "name": "stdout",
     "output_type": "stream",
     "text": [
      "Processing spikes\n"
     ]
    },
    {
     "name": "stderr",
     "output_type": "stream",
     "text": [
      "100%|██████████| 1/1 [00:00<00:00, 19972.88it/s]\n"
     ]
    },
    {
     "name": "stdout",
     "output_type": "stream",
     "text": [
      "Processing spikes\n"
     ]
    },
    {
     "name": "stderr",
     "output_type": "stream",
     "text": [
      "100%|██████████| 1/1 [00:07<00:00,  7.66s/it]\n",
      " 74%|███████▎  | 28/38 [07:31<02:11, 13.14s/it]"
     ]
    },
    {
     "name": "stdout",
     "output_type": "stream",
     "text": [
      "Processing spikes\n"
     ]
    },
    {
     "name": "stderr",
     "output_type": "stream",
     "text": [
      "100%|██████████| 1/1 [00:16<00:00, 16.58s/it]\n"
     ]
    },
    {
     "name": "stdout",
     "output_type": "stream",
     "text": [
      "Processing spikes\n"
     ]
    },
    {
     "name": "stderr",
     "output_type": "stream",
     "text": [
      "100%|██████████| 1/1 [00:16<00:00, 16.44s/it]\n"
     ]
    },
    {
     "name": "stdout",
     "output_type": "stream",
     "text": [
      "Processing spikes\n"
     ]
    },
    {
     "name": "stderr",
     "output_type": "stream",
     "text": [
      "100%|██████████| 1/1 [00:32<00:00, 32.79s/it]\n",
      " 76%|███████▋  | 29/38 [08:38<04:22, 29.19s/it]"
     ]
    },
    {
     "name": "stdout",
     "output_type": "stream",
     "text": [
      "Processing spikes\n"
     ]
    },
    {
     "name": "stderr",
     "output_type": "stream",
     "text": [
      "100%|██████████| 1/1 [00:22<00:00, 22.50s/it]\n"
     ]
    },
    {
     "name": "stdout",
     "output_type": "stream",
     "text": [
      "Processing spikes\n"
     ]
    },
    {
     "name": "stderr",
     "output_type": "stream",
     "text": [
      "100%|██████████| 1/1 [00:22<00:00, 22.90s/it]\n"
     ]
    },
    {
     "name": "stdout",
     "output_type": "stream",
     "text": [
      "Processing spikes\n"
     ]
    },
    {
     "name": "stderr",
     "output_type": "stream",
     "text": [
      "100%|██████████| 1/1 [00:45<00:00, 45.48s/it]\n",
      " 79%|███████▉  | 30/38 [10:10<06:23, 47.99s/it]"
     ]
    },
    {
     "name": "stdout",
     "output_type": "stream",
     "text": [
      "Processing spikes\n"
     ]
    },
    {
     "name": "stderr",
     "output_type": "stream",
     "text": [
      "100%|██████████| 1/1 [00:30<00:00, 30.22s/it]\n"
     ]
    },
    {
     "name": "stdout",
     "output_type": "stream",
     "text": [
      "Processing spikes\n"
     ]
    },
    {
     "name": "stderr",
     "output_type": "stream",
     "text": [
      "100%|██████████| 1/1 [00:30<00:00, 30.15s/it]\n"
     ]
    },
    {
     "name": "stdout",
     "output_type": "stream",
     "text": [
      "Processing spikes\n"
     ]
    },
    {
     "name": "stderr",
     "output_type": "stream",
     "text": [
      "100%|██████████| 1/1 [00:59<00:00, 59.99s/it]\n",
      " 82%|████████▏ | 31/38 [12:11<08:10, 70.03s/it]"
     ]
    },
    {
     "name": "stdout",
     "output_type": "stream",
     "text": [
      "Processing spikes\n"
     ]
    },
    {
     "name": "stderr",
     "output_type": "stream",
     "text": [
      "100%|██████████| 1/1 [00:10<00:00, 10.42s/it]\n"
     ]
    },
    {
     "name": "stdout",
     "output_type": "stream",
     "text": [
      "Processing spikes\n"
     ]
    },
    {
     "name": "stderr",
     "output_type": "stream",
     "text": [
      "100%|██████████| 1/1 [00:10<00:00, 10.44s/it]\n"
     ]
    },
    {
     "name": "stdout",
     "output_type": "stream",
     "text": [
      "Processing spikes\n"
     ]
    },
    {
     "name": "stderr",
     "output_type": "stream",
     "text": [
      "100%|██████████| 1/1 [00:20<00:00, 20.93s/it]\n",
      " 84%|████████▍ | 32/38 [12:54<06:10, 61.77s/it]"
     ]
    },
    {
     "name": "stdout",
     "output_type": "stream",
     "text": [
      "Processing spikes\n"
     ]
    },
    {
     "name": "stderr",
     "output_type": "stream",
     "text": [
      "100%|██████████| 1/1 [00:24<00:00, 24.96s/it]\n"
     ]
    },
    {
     "name": "stdout",
     "output_type": "stream",
     "text": [
      "Processing spikes\n"
     ]
    },
    {
     "name": "stderr",
     "output_type": "stream",
     "text": [
      "100%|██████████| 1/1 [00:25<00:00, 25.03s/it]\n"
     ]
    },
    {
     "name": "stdout",
     "output_type": "stream",
     "text": [
      "Processing spikes\n"
     ]
    },
    {
     "name": "stderr",
     "output_type": "stream",
     "text": [
      "100%|██████████| 1/1 [00:49<00:00, 49.94s/it]\n",
      " 87%|████████▋ | 33/38 [14:35<06:07, 73.52s/it]"
     ]
    },
    {
     "name": "stdout",
     "output_type": "stream",
     "text": [
      "Processing spikes\n"
     ]
    },
    {
     "name": "stderr",
     "output_type": "stream",
     "text": [
      "100%|██████████| 1/1 [00:17<00:00, 17.13s/it]\n"
     ]
    },
    {
     "name": "stdout",
     "output_type": "stream",
     "text": [
      "Processing spikes\n"
     ]
    },
    {
     "name": "stderr",
     "output_type": "stream",
     "text": [
      "100%|██████████| 1/1 [00:17<00:00, 17.18s/it]\n"
     ]
    },
    {
     "name": "stdout",
     "output_type": "stream",
     "text": [
      "Processing spikes\n"
     ]
    },
    {
     "name": "stderr",
     "output_type": "stream",
     "text": [
      "100%|██████████| 1/1 [00:34<00:00, 34.52s/it]\n",
      " 89%|████████▉ | 34/38 [15:45<04:49, 72.38s/it]"
     ]
    },
    {
     "name": "stdout",
     "output_type": "stream",
     "text": [
      "Processing spikes\n"
     ]
    },
    {
     "name": "stderr",
     "output_type": "stream",
     "text": [
      "100%|██████████| 1/1 [00:18<00:00, 18.75s/it]\n"
     ]
    },
    {
     "name": "stdout",
     "output_type": "stream",
     "text": [
      "Processing spikes\n"
     ]
    },
    {
     "name": "stderr",
     "output_type": "stream",
     "text": [
      "100%|██████████| 1/1 [00:18<00:00, 18.98s/it]\n"
     ]
    },
    {
     "name": "stdout",
     "output_type": "stream",
     "text": [
      "Processing spikes\n"
     ]
    },
    {
     "name": "stderr",
     "output_type": "stream",
     "text": [
      "100%|██████████| 1/1 [00:37<00:00, 37.08s/it]\n",
      " 92%|█████████▏| 35/38 [17:00<03:40, 73.40s/it]"
     ]
    },
    {
     "name": "stdout",
     "output_type": "stream",
     "text": [
      "Processing spikes\n"
     ]
    },
    {
     "name": "stderr",
     "output_type": "stream",
     "text": [
      "100%|██████████| 1/1 [00:16<00:00, 16.40s/it]\n"
     ]
    },
    {
     "name": "stdout",
     "output_type": "stream",
     "text": [
      "Processing spikes\n"
     ]
    },
    {
     "name": "stderr",
     "output_type": "stream",
     "text": [
      "100%|██████████| 1/1 [00:16<00:00, 16.41s/it]\n"
     ]
    },
    {
     "name": "stdout",
     "output_type": "stream",
     "text": [
      "Processing spikes\n"
     ]
    },
    {
     "name": "stderr",
     "output_type": "stream",
     "text": [
      "100%|██████████| 1/1 [00:32<00:00, 32.36s/it]\n",
      " 95%|█████████▍| 36/38 [18:06<02:22, 71.20s/it]"
     ]
    },
    {
     "name": "stdout",
     "output_type": "stream",
     "text": [
      "Processing spikes\n"
     ]
    },
    {
     "name": "stderr",
     "output_type": "stream",
     "text": [
      "100%|██████████| 1/1 [00:10<00:00, 10.86s/it]\n"
     ]
    },
    {
     "name": "stdout",
     "output_type": "stream",
     "text": [
      "Processing spikes\n"
     ]
    },
    {
     "name": "stderr",
     "output_type": "stream",
     "text": [
      "100%|██████████| 1/1 [00:10<00:00, 10.74s/it]\n"
     ]
    },
    {
     "name": "stdout",
     "output_type": "stream",
     "text": [
      "Processing spikes\n"
     ]
    },
    {
     "name": "stderr",
     "output_type": "stream",
     "text": [
      "100%|██████████| 1/1 [00:21<00:00, 21.19s/it]\n",
      " 97%|█████████▋| 37/38 [18:50<01:02, 62.90s/it]"
     ]
    },
    {
     "name": "stdout",
     "output_type": "stream",
     "text": [
      "Processing spikes\n"
     ]
    },
    {
     "name": "stderr",
     "output_type": "stream",
     "text": [
      "100%|██████████| 1/1 [00:20<00:00, 20.68s/it]\n"
     ]
    },
    {
     "name": "stdout",
     "output_type": "stream",
     "text": [
      "Processing spikes\n"
     ]
    },
    {
     "name": "stderr",
     "output_type": "stream",
     "text": [
      "100%|██████████| 1/1 [00:21<00:00, 21.07s/it]\n"
     ]
    },
    {
     "name": "stdout",
     "output_type": "stream",
     "text": [
      "Processing spikes\n"
     ]
    },
    {
     "name": "stderr",
     "output_type": "stream",
     "text": [
      "100%|██████████| 1/1 [00:41<00:00, 41.64s/it]\n",
      "100%|██████████| 38/38 [20:14<00:00, 31.97s/it]\n"
     ]
    }
   ],
   "source": [
    "# Create a dof lookup table for sabes. This should be structured as a dataframe with keys for loader args and data file.\n",
    "sabes_data_files = glob('/mnt/Secnondary/data/sabes/*.mat')\n",
    "dof_list = []\n",
    "loader_args = [{'bin_width':50, 'filter_fn':'none', 'filter_kwargs':{}, 'boxcox':0.5, 'spike_threshold':100, 'region':'M1'},\n",
    "               {'bin_width':50, 'filter_fn':'none', 'filter_kwargs':{}, 'boxcox':0.5, 'spike_threshold':100, 'region':'S1'},\n",
    "               {'bin_width':50, 'filter_fn':'none', 'filter_kwargs':{}, 'boxcox':0.5, 'spike_threshold':100, 'region':'both'}]\n",
    "\n",
    "for data_file in tqdm(data_files):\n",
    "    for loader_arg in loader_args:\n",
    "        dat = load_sabes(data_file, **loader_arg)\n",
    "        dof_dict = {}\n",
    "        dof_dict['data_file'] = data_file\n",
    "        dof_dict['dof'] = dat['spike_rates'].shape[-1]\n",
    "        for key, val in loader_arg.items():\n",
    "            dof_dict[key] = val\n",
    "        dof_list.append(dof_dict)"
   ]
  },
  {
   "cell_type": "markdown",
   "metadata": {},
   "source": [
    "### Loco"
   ]
  },
  {
   "cell_type": "code",
   "execution_count": 154,
   "metadata": {},
   "outputs": [],
   "source": [
    "loco_files = glob('/mnt/Secondary/data/loco_var_ols/loco_var_ols_*.dat')\n",
    "argfiles = glob('/mnt/Secondary/data/loco_var_ols/arg*.dat')"
   ]
  },
  {
   "cell_type": "code",
   "execution_count": 153,
   "metadata": {},
   "outputs": [
    {
     "data": {
      "text/plain": [
       "'/mnt/Secondary/data/loco_var_ols/loco_var_ols_297.dat'"
      ]
     },
     "execution_count": 153,
     "metadata": {},
     "output_type": "execute_result"
    }
   ],
   "source": [
    "file_"
   ]
  },
  {
   "cell_type": "code",
   "execution_count": 159,
   "metadata": {},
   "outputs": [],
   "source": [
    "rl = []\n",
    "for file_ in loco_files:\n",
    "    try:\n",
    "        with open(file_, 'rb') as f:\n",
    "            args = pickle.load(f)\n",
    "            coef = pickle.load(f)\n",
    "    except:\n",
    "        with open(file_, 'rb') as f:\n",
    "            coef = pickle.load(f)\n",
    "\n",
    "        argno = file_.split('_')[-1].split('.dat')[0]\n",
    "        argfile = '/'.join(file_.split('/')[:-1]) + '/arg%s.dat' % argno\n",
    "        with open(argfile, 'rb') as f:\n",
    "            args = pickle.load(f)\n",
    "\n",
    "    rd = {}\n",
    "    for key, value in args.items():\n",
    "        if type(value) == dict:\n",
    "            for key_, value_ in value.items():\n",
    "                rd[key_] = value_\n",
    "        else:\n",
    "            rd[key] = value\n",
    "    \n",
    "    rd['coef'] = coef\n",
    "    rl.append(rd)"
   ]
  },
  {
   "cell_type": "code",
   "execution_count": 161,
   "metadata": {},
   "outputs": [],
   "source": [
    "with open('loco_df.dat', 'wb') as f:\n",
    "    f.write(pickle.dumps(rl))"
   ]
  },
  {
   "cell_type": "code",
   "execution_count": 162,
   "metadata": {},
   "outputs": [],
   "source": [
    "loco_df = pd.DataFrame(rl)"
   ]
  },
  {
   "cell_type": "code",
   "execution_count": 178,
   "metadata": {},
   "outputs": [
    {
     "ename": "FileNotFoundError",
     "evalue": "[Errno 2] No such file or directory: '/global/cscratch1/sd/akumar25/sabes/indy_20160426_01.mat'",
     "output_type": "error",
     "traceback": [
      "\u001b[0;31m---------------------------------------------------------------------------\u001b[0m",
      "\u001b[0;31mFileNotFoundError\u001b[0m                         Traceback (most recent call last)",
      "\u001b[0;32m/tmp/ipykernel_9416/2989603033.py\u001b[0m in \u001b[0;36m<module>\u001b[0;34m\u001b[0m\n\u001b[1;32m     15\u001b[0m \u001b[0;34m\u001b[0m\u001b[0m\n\u001b[1;32m     16\u001b[0m \u001b[0;32mfor\u001b[0m \u001b[0mi\u001b[0m\u001b[0;34m,\u001b[0m \u001b[0mdata_file\u001b[0m \u001b[0;32min\u001b[0m \u001b[0menumerate\u001b[0m\u001b[0;34m(\u001b[0m\u001b[0mdata_files\u001b[0m\u001b[0;34m)\u001b[0m\u001b[0;34m:\u001b[0m\u001b[0;34m\u001b[0m\u001b[0;34m\u001b[0m\u001b[0m\n\u001b[0;32m---> 17\u001b[0;31m     \u001b[0mdat\u001b[0m \u001b[0;34m=\u001b[0m \u001b[0mload_peanut\u001b[0m\u001b[0;34m(\u001b[0m\u001b[0mdata_file\u001b[0m\u001b[0;34m,\u001b[0m \u001b[0;34m**\u001b[0m\u001b[0mloader_arg\u001b[0m\u001b[0;34m)\u001b[0m\u001b[0;34m\u001b[0m\u001b[0;34m\u001b[0m\u001b[0m\n\u001b[0m\u001b[1;32m     18\u001b[0m     \u001b[0mtmp\u001b[0m \u001b[0;34m=\u001b[0m \u001b[0mdeepcopy\u001b[0m\u001b[0;34m(\u001b[0m\u001b[0mloader_arg\u001b[0m\u001b[0;34m)\u001b[0m\u001b[0;34m\u001b[0m\u001b[0;34m\u001b[0m\u001b[0m\n\u001b[1;32m     19\u001b[0m     \u001b[0mtmp\u001b[0m\u001b[0;34m[\u001b[0m\u001b[0;34m'region'\u001b[0m\u001b[0;34m]\u001b[0m \u001b[0;34m=\u001b[0m \u001b[0;34m'HPc'\u001b[0m\u001b[0;34m\u001b[0m\u001b[0;34m\u001b[0m\u001b[0m\n",
      "\u001b[0;32m~/nse/neural_control/loaders.py\u001b[0m in \u001b[0;36mload_peanut\u001b[0;34m(fpath, epoch, spike_threshold, bin_width, boxcox, filter_fn, speed_threshold, region, **filter_kwargs)\u001b[0m\n\u001b[1;32m    389\u001b[0m     '''\n\u001b[1;32m    390\u001b[0m \u001b[0;34m\u001b[0m\u001b[0m\n\u001b[0;32m--> 391\u001b[0;31m     \u001b[0mdata\u001b[0m \u001b[0;34m=\u001b[0m \u001b[0mpickle\u001b[0m\u001b[0;34m.\u001b[0m\u001b[0mload\u001b[0m\u001b[0;34m(\u001b[0m\u001b[0mopen\u001b[0m\u001b[0;34m(\u001b[0m\u001b[0mfpath\u001b[0m\u001b[0;34m,\u001b[0m \u001b[0;34m'rb'\u001b[0m\u001b[0;34m)\u001b[0m\u001b[0;34m)\u001b[0m\u001b[0;34m\u001b[0m\u001b[0;34m\u001b[0m\u001b[0m\n\u001b[0m\u001b[1;32m    392\u001b[0m     \u001b[0mdict_\u001b[0m \u001b[0;34m=\u001b[0m \u001b[0mdata\u001b[0m\u001b[0;34m[\u001b[0m\u001b[0;34m'peanut_day14_epoch%d'\u001b[0m \u001b[0;34m%\u001b[0m \u001b[0mepoch\u001b[0m\u001b[0;34m]\u001b[0m\u001b[0;34m\u001b[0m\u001b[0;34m\u001b[0m\u001b[0m\n\u001b[1;32m    393\u001b[0m \u001b[0;34m\u001b[0m\u001b[0m\n",
      "\u001b[0;31mFileNotFoundError\u001b[0m: [Errno 2] No such file or directory: '/global/cscratch1/sd/akumar25/sabes/indy_20160426_01.mat'"
     ]
    }
   ],
   "source": [
    "etrainM1 = np.zeros((len(data_files), 5, 5, 5))\n",
    "etestM1 = np.zeros((len(data_files), 5, 5, 5))\n",
    "\n",
    "etrainS1 = np.zeros((len(data_files), 5, 5, 5))\n",
    "etestS1 = np.zeros((len(data_files), 5, 5, 5))\n",
    "\n",
    "etrainjoint = np.zeros((len(data_files), 5, 5, 5))\n",
    "etestjoint = np.zeros((len(data_files), 5, 5, 5))\n",
    "\n",
    "etrainjointM1 = np.zeros((len(data_files), 5, 5, 5))\n",
    "etestjointM1 = np.zeros((len(data_files), 5, 5, 5))\n",
    "\n",
    "etrainjointS1 = np.zeros((len(data_files), 5, 5, 5))\n",
    "etestjointS1 = np.zeros((len(data_files), 5, 5, 5))\n",
    "\n",
    "for i, data_file in enumerate(data_files):\n",
    "    dat = load_peanut(data_file, **loader_arg)\n",
    "    tmp = deepcopy(loader_arg)\n",
    "    tmp['region'] = 'HPc'\n",
    "    datHPc = load_peanut(data_file, **tmp)\n",
    "    HPc_size = datHPc['spike_rates'].shape[-1]\n",
    "\n",
    "    y = np.squeeze(dat['spike_rates'])\n",
    "    fold_idx = 0\n",
    "    for j, (train_idxs, test_idxs) in enumerate(KFold(5).split(y)):\n",
    "        ccm_train = estimate_autocorrelation(y[train_idxs], 5)\n",
    "        ccm_test = estimate_autocorrelation(y[test_idxs], 5)\n",
    "\n",
    "        ccm_train_HPc = [c[0:HPc_size, 0:HPc_size] for c in ccm_train]\n",
    "        ccm_test_HPc = [c[0:HPc_size, 0:HPc_size] for c in ccm_test]\n",
    "\n",
    "        ccm_train_OFC = [c[HPc_size:, HPc_size:] for c in ccm_train]\n",
    "        ccm_test_OFC = [c[HPc_size:, HPc_size:] for c in ccm_test]\n",
    "\n",
    "        for k, var_order in enumerate([1, 2, 3, 4, 5]):\n",
    "            df_ = apply_df_filters(peanut_df, epoch=loader_arg['epoch'], fold_idx=fold_idx, order=var_order, region='both')\n",
    "            try:\n",
    "                assert(df_.shape[0] == 1)\n",
    "            except:\n",
    "                print('Missing stuff!')\n",
    "                etrainjoint[i, j, k] = np.nan\n",
    "                etestjoint[i, j, k] = np.nan\n",
    "                etrainjointHPc[i, j, k] = np.nan\n",
    "                etestjointHPc[i, j, k] = np.nan\n",
    "                etrainjointOFC[i, j, k] = np.nan\n",
    "                etestjointOFC[i, j, k] = np.nan\n",
    "                continue\n",
    "                \n",
    "            varss = VARss(df_.iloc[0]['coef'])\n",
    "            \n",
    "            varccm = varss.autocorrelation(5)\n",
    "                       \n",
    "            etrainjoint[i, j, k] = [np.linalg.norm(ccm_train[idx] - varccm[idx]) for idx in range(5)]\n",
    "            etestjoint[i, j, k] = [np.linalg.norm(ccm_test[idx] - varccm[idx]) for idx in range(5)]\n",
    "\n",
    "            etrainjointHPc[i, j, k] = [np.linalg.norm(ccm_train_HPc[idx] - varccm[idx][0:HPc_size, 0:HPc_size]) for idx in range(5)]\n",
    "            etestjointHPc[i, j, k] = [np.linalg.norm(ccm_test_HPc[idx] - varccm[idx][0:HPc_size, 0:HPc_size]) for idx in range(5)]\n",
    "\n",
    "            etrainjointOFC[i, j, k] = [np.linalg.norm(ccm_train_OFC[idx] - varccm[idx][HPc_size:, HPc_size:]) for idx in range(5)]\n",
    "            etestjointOFC[i, j, k] = [np.linalg.norm(ccm_test_OFC[idx] - varccm[idx][HPc_size:, HPc_size:]) for idx in range(5)]\n",
    "\n",
    "\n",
    "        fold_idx += 1   "
   ]
  },
  {
   "cell_type": "markdown",
   "metadata": {},
   "source": [
    "### Fitting (peanut)"
   ]
  },
  {
   "cell_type": "code",
   "execution_count": 138,
   "metadata": {},
   "outputs": [],
   "source": [
    "from loaders import load_peanut"
   ]
  },
  {
   "cell_type": "code",
   "execution_count": 180,
   "metadata": {},
   "outputs": [],
   "source": [
    "#data_file = '/home/akumar/nse/neural_control/data/data_dict_peanut_day14.obj'\n",
    "data_file = '/mnt/Secondary/data/peanut/data_dict_peanut_day14.obj'"
   ]
  },
  {
   "cell_type": "code",
   "execution_count": 64,
   "metadata": {},
   "outputs": [],
   "source": [
    "# Create a dof lookup table for sabes. This should be structured as a dataframe with keys for loader args and data file.\n",
    "data_file = '/mnt/Secondary/data/peanut/data_dict_peanut_day14.obj'\n",
    "dof_list = []\n",
    "loader_args = [{'bin_width':25, 'epoch': epoch, 'filter_fn':'none', 'filter_kwargs':{}, 'boxcox':0.5, 'spike_threshold':100, 'region':r}\n",
    "               for epoch in np.arange(2, 18, 2) for r in ['HPc', 'OFC', 'both']]\n",
    "for loader_arg in loader_args:\n",
    "    dat = load_peanut(data_file, **loader_arg)\n",
    "    dof_dict = {}\n",
    "    dof_dict['data_file'] = data_file\n",
    "    dof_dict['dof'] = dat['spike_rates'].shape[-1]\n",
    "    for key, val in loader_arg.items():\n",
    "        dof_dict[key] = val\n",
    "    dof_list.append(dof_dict)\n"
   ]
  },
  {
   "cell_type": "code",
   "execution_count": 70,
   "metadata": {},
   "outputs": [],
   "source": [
    "dof_df = pd.DataFrame(dof_list)"
   ]
  },
  {
   "cell_type": "code",
   "execution_count": 74,
   "metadata": {},
   "outputs": [],
   "source": [
    "with open('/mnt/Secondary/data/peanut/dof_list.dat', 'wb') as f:\n",
    "    f.write(pickle.dumps(dof_list))"
   ]
  },
  {
   "cell_type": "code",
   "execution_count": 166,
   "metadata": {},
   "outputs": [],
   "source": [
    "peanut_fits = glob('/mnt/Secondary/data/peanut_cv_var/peanut_cv_var*.dat')"
   ]
  },
  {
   "cell_type": "code",
   "execution_count": 169,
   "metadata": {},
   "outputs": [],
   "source": [
    "rl = []\n",
    "for file_ in peanut_fits:\n",
    "    try:\n",
    "        with open(file_, 'rb') as f:\n",
    "            args = pickle.load(f)\n",
    "            coef = pickle.load(f)\n",
    "    except:\n",
    "        with open(file_, 'rb') as f:\n",
    "            coef = pickle.load(f)\n",
    "\n",
    "        argno = file_.split('_')[-1].split('.dat')[0]\n",
    "        argfile = '/'.join(file_.split('/')[:-1]) + '/arg%s.dat' % argno\n",
    "        with open(argfile, 'rb') as f:\n",
    "            args = pickle.load(f)\n",
    "    rd = {}\n",
    "    for key, value in args.items():\n",
    "        if type(value) == dict:\n",
    "            for key_, value_ in value.items():\n",
    "                rd[key_] = value_\n",
    "        else:\n",
    "            rd[key] = value\n",
    "    \n",
    "    rd['coef'] = coef\n",
    "    rl.append(rd)"
   ]
  },
  {
   "cell_type": "code",
   "execution_count": 140,
   "metadata": {},
   "outputs": [],
   "source": [
    "# with open('peanut_df.dat', 'wb') as f:\n",
    "#     f.write(pickle.dumps(rl))\n",
    "\n",
    "with open('peanut_df.dat', 'rb') as f:\n",
    "    peanut_df = pickle.load(f)"
   ]
  },
  {
   "cell_type": "code",
   "execution_count": 171,
   "metadata": {},
   "outputs": [],
   "source": [
    "peanut_df = pd.DataFrame(rl)"
   ]
  },
  {
   "cell_type": "code",
   "execution_count": 185,
   "metadata": {},
   "outputs": [
    {
     "name": "stderr",
     "output_type": "stream",
     "text": [
      "0it [00:00, ?it/s]../../cov_estimation.py:142: RuntimeWarning: invalid value encountered in double_scalars\n",
      "  ccm_sample_normalized[k, i, j] /= np.sqrt(ccm_sample[0, i, i] * ccm_sample[0, j, j])\n"
     ]
    },
    {
     "name": "stdout",
     "output_type": "stream",
     "text": [
      "Stability correcting HPC\n",
      "61.815597391335196\n",
      "59.39723908784945\n",
      "58.98973903394632\n",
      "57.93390802802627\n",
      "57.37711327264375\n",
      "57.2255430021228\n",
      "56.63000899721371\n",
      "56.384770434867015\n",
      "55.49672146191395\n",
      "55.079841308577876\n",
      "53.97532487559012\n",
      "53.88423512549516\n",
      "52.6110469297551\n",
      "52.395430950497826\n",
      "51.50212029712653\n",
      "51.32931247023568\n",
      "50.07920124905268\n",
      "49.93451829934976\n",
      "49.15656530384091\n",
      "48.75594434317389\n",
      "47.434901001356316\n",
      "47.11691324956385\n",
      "46.232984673655395\n",
      "45.946044074568114\n",
      "45.914162397396815\n",
      "45.83616816947326\n",
      "44.52057889531423\n",
      "43.465933545241015\n",
      "42.38049642599621\n",
      "41.93706708314112\n",
      "38.78418204977793\n",
      "37.480688590945434\n",
      "37.218948004647984\n",
      "36.649374961285375\n",
      "36.6245355102082\n",
      "36.29833263086601\n",
      "36.00113112343674\n",
      "33.39740617318126\n",
      "33.286701981865825\n",
      "33.230721216249165\n",
      "32.57935701588076\n",
      "30.848111127067924\n",
      "30.76916528860251\n",
      "30.608280394382934\n",
      "29.7444128869859\n",
      "28.82060250415948\n",
      "28.777386333282514\n",
      "28.362853666865323\n",
      "27.466202583508057\n",
      "26.87214002920429\n",
      "26.628233732626626\n",
      "26.30133924363373\n",
      "25.97878328784663\n",
      "25.11929332830549\n",
      "24.81520876525694\n",
      "24.456936080491896\n",
      "24.054562991000136\n",
      "23.988482901538287\n",
      "23.93356596123562\n",
      "22.95578188943549\n",
      "22.52517571514379\n",
      "22.343395245200718\n",
      "22.074970097045604\n",
      "21.517149361405096\n",
      "21.350158746868708\n",
      "21.13821634240459\n",
      "20.8186287766584\n",
      "20.19567956169614\n",
      "19.959311295913512\n",
      "19.700305719130764\n",
      "19.35739788189421\n",
      "19.2834729526765\n",
      "19.11705615957821\n",
      "18.64219569581971\n",
      "18.259261760285128\n",
      "18.121209275158144\n",
      "17.85951524959359\n",
      "17.507578729780725\n",
      "17.335264509223162\n",
      "17.176461466070812\n",
      "16.865795473327577\n",
      "16.525950797533202\n",
      "16.501356808155943\n",
      "16.227206885697065\n",
      "15.885324062185143\n",
      "15.841500834836648\n",
      "15.63622449304906\n",
      "15.309662178607907\n",
      "15.227945556066423\n",
      "15.179284319516027\n",
      "14.910978836999913\n",
      "14.492580382363837\n",
      "14.346777209674723\n",
      "14.217828547420309\n",
      "13.946189435579107\n",
      "13.722734998881329\n",
      "13.643724750922761\n",
      "13.473360258232834\n",
      "13.426154458992675\n",
      "13.047841716443237\n",
      "12.968628415063316\n",
      "12.779659646387294\n",
      "12.664425647133198\n",
      "12.598645830590236\n",
      "12.37140463822187\n",
      "12.18671718509546\n",
      "12.055895957656883\n",
      "11.938245678811388\n",
      "11.85975091242746\n",
      "11.657643444018449\n",
      "11.60185107353248\n",
      "11.465531233166015\n",
      "11.391827525951395\n",
      "11.158797332875462\n",
      "11.076522169040732\n",
      "10.946874493444037\n",
      "10.843293553026466\n",
      "10.7598202224329\n",
      "10.719702669160418\n",
      "10.535771738014272\n",
      "10.428727303885502\n",
      "10.337537352403249\n",
      "10.26300307889987\n",
      "10.255577984807532\n",
      "10.107642542080566\n",
      "9.997004539359258\n",
      "9.92080020616203\n",
      "9.894011622423138\n",
      "9.732197777198266\n",
      "9.627081362889875\n",
      "9.624342817227186\n",
      "9.569144264912463\n",
      "9.390453857428856\n",
      "9.38567109081223\n",
      "9.27248817387722\n",
      "9.195441464288136\n",
      "9.14243739364373\n",
      "9.005094860250013\n",
      "8.955993167089558\n",
      "8.877967297213008\n",
      "8.811250285001064\n",
      "8.760862102444772\n",
      "8.72774367232206\n",
      "8.626574689462648\n",
      "8.557652098394161\n",
      "8.50168535205111\n",
      "8.4507515409386\n",
      "8.435581241109839\n",
      "8.341990924124435\n",
      "8.282430993809353\n",
      "8.228954814443972\n",
      "8.200226601022866\n",
      "8.199395787749912\n",
      "8.093368292519004\n",
      "8.03068078061593\n",
      "7.995635713314856\n",
      "7.973101284935508\n",
      "7.8742511017579755\n",
      "7.870951900425892\n",
      "7.819089830910313\n",
      "7.784495077402745\n",
      "7.679549811546121\n",
      "7.652497096624437\n",
      "7.600227956453516\n",
      "7.554439862614838\n",
      "7.524555969949905\n",
      "7.503004060912939\n",
      "7.436233089891608\n",
      "7.38867356329663\n",
      "7.352595299292317\n",
      "7.3179429346546945\n",
      "7.306375310967045\n",
      "7.24316226340374\n",
      "7.205369749388817\n",
      "7.168791542508659\n",
      "7.14542527971837\n",
      "7.132153147507582\n",
      "7.076826576480096\n",
      "7.034656535956887\n",
      "7.008838887476879\n",
      "6.985359330549862\n",
      "6.933469263824598\n",
      "6.920687833608871\n",
      "6.88963088894302\n",
      "6.860444602874293\n",
      "6.804704954048178\n",
      "6.782152009557446\n",
      "6.748916980373868\n",
      "6.71753480627668\n",
      "6.693973563399945\n",
      "6.673272386750628\n",
      "6.634819065638779\n",
      "6.626388446146238\n",
      "6.605080973558069\n",
      "6.585466057235977\n",
      "6.5276793202158245\n",
      "6.517417235733575\n",
      "6.4872929994289965\n",
      "6.458501780242543\n",
      "6.452726499973608\n",
      "6.3968931460307\n",
      "Stability correcting OFC\n",
      "30.24880544261663\n",
      "30.17925616480533\n",
      "30.079265714662817\n",
      "30.07898006951471\n",
      "29.976795969193006\n",
      "29.895902870999375\n",
      "29.86411282378814\n",
      "29.795767635236416\n",
      "29.720678381131908\n",
      "29.66289326772269\n",
      "29.650726481753548\n",
      "29.628183181789016\n",
      "29.548136000762682\n",
      "29.463761129798247\n",
      "29.45662710383405\n",
      "29.32949045423126\n",
      "29.26899402071709\n",
      "29.252560965833876\n",
      "29.122240189733784\n",
      "28.92077085535039\n",
      "28.811756371479422\n",
      "28.695847869577847\n",
      "28.561777860463785\n",
      "28.50042263561465\n",
      "28.496951286458177\n",
      "28.335985333588233\n",
      "28.194892299951437\n",
      "28.095397714718704\n",
      "27.917791651782156\n",
      "27.796476840985818\n",
      "27.767254898400772\n",
      "27.561607621074582\n",
      "27.495215181803932\n",
      "27.403557729330995\n",
      "27.30047693714637\n",
      "27.168250857316803\n",
      "26.973804974365542\n",
      "26.943803413459875\n",
      "26.825067122246953\n",
      "26.769539154920757\n",
      "26.47361399744508\n",
      "26.059529440221286\n",
      "25.559212515294174\n",
      "25.3140635249505\n",
      "24.98647259335102\n",
      "24.858991974593916\n",
      "24.570275277704997\n",
      "24.54523582386695\n",
      "24.315514973207684\n",
      "24.115685070340028\n",
      "23.77077701827358\n",
      "23.574009082193673\n",
      "23.352568422905946\n",
      "23.242202374550175\n",
      "22.9211660950527\n",
      "22.822680425127366\n",
      "22.675245678121758\n",
      "22.3756019264171\n",
      "22.22628743780439\n",
      "22.08130041750869\n",
      "22.07817423085757\n",
      "21.99606125794716\n",
      "21.80267265210891\n",
      "21.401619949671982\n",
      "21.309523675361294\n",
      "21.190217290511065\n",
      "20.862168669490117\n",
      "20.806038276089584\n",
      "20.55430048253832\n",
      "20.27391429230249\n",
      "20.161519836777774\n",
      "20.054411316570256\n",
      "19.98348152518388\n",
      "19.685563256607782\n",
      "19.60318014185562\n",
      "19.517953291288954\n",
      "19.3818141923472\n",
      "19.36126171006263\n",
      "19.04045090486018\n",
      "18.860168227101994\n",
      "18.741837853880636\n",
      "18.715478496371578\n",
      "18.530552752232296\n",
      "18.408427367014735\n",
      "18.2887060194688\n",
      "18.226763372940333\n",
      "18.194272598806922\n",
      "18.041167135896448\n",
      "17.86400017664541\n",
      "17.753538254325697\n",
      "17.651174328824002\n",
      "17.62364077930759\n",
      "17.455913772189767\n",
      "17.36194200362634\n",
      "17.26240541891065\n",
      "17.241846594005057\n",
      "17.082372719999277\n",
      "17.02460228467902\n",
      "16.9665801005412\n",
      "16.894986925385343\n",
      "16.778882644758646\n",
      "16.73084463118552\n",
      "16.663536380592607\n",
      "16.580700273646734\n",
      "16.54672967281621\n",
      "16.5175193860202\n",
      "16.400715782340935\n",
      "16.293202301297345\n",
      "16.224634202592124\n",
      "16.158083083669418\n",
      "16.131843178043216\n",
      "16.024779477992805\n",
      "15.960935406589751\n",
      "15.895147139776823\n",
      "15.854835760396877\n",
      "15.831030672080482\n",
      "15.754530638089538\n",
      "15.662978535379336\n",
      "15.615662071532283\n",
      "15.563673523719697\n",
      "15.475906452231637\n",
      "15.44430719064583\n",
      "15.396643038947266\n",
      "15.325909056298483\n",
      "15.228546890789566\n",
      "15.175009930522462\n",
      "15.115077085241756\n",
      "15.101097723078087\n",
      "14.993744170120683\n",
      "14.94162768068036\n",
      "14.937939570854565\n",
      "14.844159365161763\n",
      "14.80117462538703\n",
      "14.745759682458406\n",
      "14.66513857808775\n",
      "14.623529720514638\n",
      "14.572475806222451\n",
      "14.512052168867289\n",
      "14.484159726632988\n",
      "14.460489784143368\n",
      "14.388005700123658\n",
      "14.307621643413913\n",
      "14.265723337104511\n",
      "14.219774224221888\n",
      "14.156714451699813\n",
      "14.135209396975597\n",
      "14.11547715405827\n",
      "14.066617425573568\n",
      "13.98447531234065\n",
      "13.968207881898318\n",
      "13.939647417640915\n",
      "13.866069515635832\n",
      "13.788348430625257\n",
      "13.747967007446167\n",
      "13.703056493200343\n",
      "13.695306656071752\n",
      "13.609777266610955\n",
      "13.56677195988711\n",
      "13.561892860086235\n",
      "13.47751533792497\n",
      "13.440307904887003\n",
      "13.39269700964984\n",
      "13.375139376260435\n",
      "13.357507324796567\n",
      "13.314997318775891\n",
      "13.232903842279521\n",
      "13.206009607595563\n",
      "13.160776094117105\n",
      "13.103457261907298\n",
      "13.079008248025298\n",
      "13.050514903883817\n",
      "12.98901525858895\n",
      "12.928067331614525\n",
      "12.889961147480777\n",
      "12.849672597205915\n",
      "12.839193651684065\n",
      "12.766917485087674\n",
      "12.730664681074282\n",
      "12.68977872857714\n",
      "12.67339964641032\n",
      "12.667120346812428\n",
      "12.629761333118614\n",
      "12.560589827091032\n",
      "12.5513858772673\n",
      "12.523030904005592\n",
      "12.457398580958886\n",
      "12.388619895893472\n",
      "12.353786090699101\n",
      "12.314896199830581\n",
      "12.301131799990683\n",
      "12.298158597864406\n",
      "12.270852090069008\n",
      "12.195900506169313\n",
      "12.192526954551603\n",
      "12.161209271323553\n",
      "12.094536333051114\n",
      "12.021858116280132\n",
      "11.986432275544058\n",
      "11.94752143351842\n",
      "11.929003168607384\n",
      "11.918932851759209\n",
      "Stability correcting joint\n",
      "424.844587843008\n",
      "417.04355593246135\n",
      "415.64956633833174\n",
      "414.3266795529923\n",
      "413.0682798962394\n",
      "412.8049222676865\n",
      "412.4604394696906\n",
      "412.4262981786139\n",
      "412.32324685399436\n",
      "412.17125892744946\n",
      "410.90120198188947\n",
      "410.74464456313103\n",
      "410.6996201415884\n",
      "410.32758745350964\n",
      "409.6358259114368\n",
      "409.5489548320625\n",
      "409.289974727873\n",
      "408.8416566911163\n",
      "408.43466268960356\n",
      "408.2563143237216\n",
      "407.95848669579277\n",
      "407.7511910288981\n",
      "407.1648919303095\n",
      "407.00176838771364\n",
      "406.5404041088835\n",
      "406.25301725482086\n",
      "406.07321300016\n",
      "406.01818825127106\n",
      "405.0765742741472\n",
      "405.0230640095473\n",
      "404.4809537985726\n",
      "404.2886996671026\n",
      "403.50194915298897\n",
      "403.327699977137\n",
      "402.82902106482277\n",
      "402.5166031448993\n",
      "402.39338934201885\n",
      "401.8387955606713\n",
      "401.3317096732058\n",
      "401.20864959651095\n",
      "400.8420002124638\n",
      "400.73483247279563\n",
      "399.6197841128968\n",
      "399.4236723278043\n",
      "398.95312261980513\n",
      "398.65252490349536\n",
      "397.9336731779639\n",
      "397.73837477002917\n",
      "397.174231683506\n",
      "396.79432788863465\n",
      "396.58727473965575\n",
      "396.48206182062296\n",
      "395.4198861394508\n",
      "395.18283183474705\n",
      "394.86347441442064\n",
      "394.62213961267753\n",
      "393.7051670561612\n",
      "393.6641739352961\n",
      "392.9622110850486\n",
      "392.59808344774655\n",
      "391.87878259103826\n",
      "391.6674168684996\n",
      "391.08633730022007\n",
      "391.08604154433937\n",
      "390.6868896990785\n",
      "389.86602730827434\n",
      "389.2789929606897\n",
      "389.0583142398774\n",
      "388.7107885420503\n",
      "388.42354578647524\n",
      "387.48548951582404\n",
      "387.4750028402992\n",
      "386.7502200975246\n",
      "386.3405237174028\n",
      "385.61766793027414\n",
      "385.4072768714693\n",
      "384.8265685891298\n",
      "384.80847997066684\n",
      "384.48205851117274\n",
      "383.5723028774234\n",
      "383.00016672298983\n",
      "382.7627460984927\n",
      "382.43910160033147\n",
      "382.1098296810123\n",
      "381.23136710573925\n",
      "380.9114797951042\n",
      "380.518253330872\n",
      "380.0906934816029\n",
      "380.007067893588\n",
      "379.99046776711737\n",
      "378.76269432489795\n",
      "378.6958831417801\n",
      "378.3948898933713\n",
      "378.2520736032869\n",
      "376.7950592915845\n",
      "376.47276219768077\n",
      "376.124493367445\n",
      "375.70603438489775\n",
      "375.1060098378418\n",
      "375.03759910601485\n",
      "374.4376673514289\n",
      "373.94937495351707\n",
      "373.927633019896\n",
      "373.8907379263179\n",
      "372.5442440814325\n",
      "372.43810139686707\n",
      "372.2177286262159\n",
      "372.0117783262669\n",
      "370.70204690564753\n",
      "370.42303303434517\n",
      "370.09808245976797\n",
      "369.65367783284273\n",
      "369.01043398634727\n",
      "368.95650767019214\n",
      "368.36593200381066\n",
      "367.8481676238467\n",
      "367.77229770863744\n",
      "367.5822073229031\n",
      "366.5876256363299\n",
      "366.48699110224953\n",
      "366.24135818406216\n",
      "365.94043164142244\n",
      "364.78952033903056\n",
      "364.5034193944867\n",
      "364.1701347804074\n",
      "363.69859118033577\n",
      "363.12586638127\n",
      "362.9906598809915\n",
      "362.4849895241681\n",
      "361.96625313020485\n",
      "361.81659014209714\n",
      "361.53261992101756\n",
      "360.8644008479288\n",
      "360.8330644071757\n",
      "359.8426200492994\n",
      "359.650044239556\n",
      "359.30569537963515\n",
      "359.105203271697\n",
      "358.37344214995477\n",
      "358.0462682930392\n",
      "357.6322984055736\n",
      "357.4289593260903\n",
      "357.21148963781985\n",
      "356.55056813874904\n",
      "356.29777860844393\n",
      "355.83290653941395\n",
      "355.71991017370254\n",
      "354.72884334202865\n",
      "354.0973617278986\n",
      "353.64376014491364\n",
      "353.1814321162439\n",
      "353.0471209124793\n",
      "352.6446511248267\n",
      "352.11254272354597\n",
      "352.0761437909729\n",
      "351.8271299028848\n",
      "351.0578813658179\n",
      "351.0223761762815\n",
      "350.88056371363047\n",
      "350.559437895999\n",
      "349.3552488184975\n",
      "349.1034504659775\n",
      "348.8253196157429\n",
      "348.3213005836341\n",
      "347.75295051609004\n",
      "347.6873332663735\n",
      "347.21575498339183\n",
      "346.66065951361713\n",
      "346.5365856875547\n",
      "346.1847755166963\n",
      "345.60286135769843\n",
      "345.4312028764994\n",
      "345.27223077001383\n",
      "344.814075481533\n",
      "344.0335488591488\n",
      "343.7391370193678\n",
      "343.43366551110057\n",
      "342.9402489749931\n",
      "342.87822907939886\n",
      "342.6084016186433\n",
      "342.02315258492916\n",
      "341.4482570325269\n",
      "341.25528775694676\n",
      "340.85357228761916\n",
      "340.37158030316726\n",
      "340.1057247726885\n",
      "339.881263476728\n",
      "339.3937967446055\n",
      "338.8761859956159\n",
      "338.8657830903855\n",
      "338.43676309053063\n",
      "337.85702793074563\n",
      "337.84819426117775\n",
      "337.5401379099413\n",
      "336.8733191445698\n",
      "336.79910882757355\n",
      "336.71506170879627\n",
      "336.2886048395788\n",
      "335.2971919804499\n",
      "335.04016791234443\n",
      "334.7794223492925\n"
     ]
    },
    {
     "name": "stderr",
     "output_type": "stream",
     "text": [
      "/home/akumar/anaconda3/envs/dyn/lib/python3.7/site-packages/scipy/linalg/_solvers.py:196: RuntimeWarning: Input \"a\" has an eigenvalue pair whose sum is very close to or exactly zero. The solution is obtained via perturbing the coefficients.\n",
      "  RuntimeWarning)\n"
     ]
    },
    {
     "name": "stdout",
     "output_type": "stream",
     "text": [
      "Stability correcting HPC\n",
      "1.7398523085936694e+22\n",
      "Descent failed\n",
      "Stability correcting OFC\n",
      "81.06887895292475\n",
      "81.00313349384884\n",
      "80.94666557787721\n",
      "80.91909614065405\n",
      "80.9007364087012\n",
      "80.87333221573186\n",
      "80.85154761408474\n",
      "80.83900323895217\n",
      "80.82999090188802\n",
      "80.81375097533423\n",
      "80.79694176882848\n",
      "80.79128957183843\n",
      "80.78706720209799\n",
      "80.77135436530129\n",
      "80.754577655089\n",
      "80.74914930262186\n",
      "80.7425260713135\n",
      "80.72773065017076\n",
      "80.71439075532359\n",
      "80.70668784092582\n",
      "80.69845112751769\n",
      "80.69734870219517\n",
      "80.68158973029537\n",
      "80.67421755784025\n",
      "80.6658635966527\n",
      "80.6620938291372\n",
      "80.65961949506406\n",
      "80.65023796466261\n",
      "80.6383640844572\n",
      "80.63479444226552\n",
      "80.62939141832383\n",
      "80.61730759741918\n",
      "80.61717436143492\n",
      "80.61276111502418\n",
      "80.60256555439611\n",
      "80.58692104897798\n",
      "80.58176088741494\n",
      "80.57381574959814\n",
      "80.56485323915177\n",
      "80.55959079977497\n",
      "80.55372155716258\n",
      "80.5449842889083\n",
      "80.54202478490386\n",
      "80.53758326184692\n",
      "80.52970021497792\n",
      "80.5181331174369\n",
      "80.51332741875702\n",
      "80.5064405644912\n",
      "80.49830886030863\n",
      "80.49381216182381\n",
      "80.48877878110179\n",
      "80.48024314512737\n",
      "80.47908851413064\n",
      "80.47602497203441\n",
      "80.46830423320877\n",
      "80.45494605311585\n",
      "80.45122216223844\n",
      "80.44431344480545\n",
      "80.43555341736577\n",
      "80.43209384168232\n",
      "80.42761747203247\n",
      "80.41826686641588\n",
      "80.40921288037259\n",
      "80.40354498031051\n",
      "80.39732282406328\n",
      "80.3944833590214\n",
      "80.39352653476395\n",
      "80.38698060934067\n",
      "80.37684503789384\n",
      "80.37615085551758\n",
      "80.37328788300984\n",
      "80.36088405776154\n",
      "80.3492842400207\n",
      "80.34393201665878\n",
      "80.33745002504605\n",
      "80.33618199124841\n",
      "80.32387388352058\n",
      "80.3178654311024\n",
      "80.31550915987387\n",
      "80.31544560696105\n",
      "80.31325803978469\n",
      "80.30095809435018\n",
      "80.28910369985083\n",
      "80.28404367179535\n",
      "80.27764878023143\n",
      "80.27725903311723\n",
      "80.26415383046934\n",
      "80.25822136464494\n",
      "80.25662424052906\n",
      "80.24566070496844\n",
      "80.24034982152544\n",
      "80.24020570154887\n",
      "80.22950951204358\n",
      "80.22527516841612\n",
      "80.21934896721933\n",
      "80.2110876202288\n",
      "80.20698780526484\n",
      "80.20151896458452\n",
      "80.19463326556512\n",
      "80.19161220256724\n",
      "80.18823395790494\n",
      "80.18033390100389\n",
      "80.17179057079686\n",
      "80.16716029622353\n",
      "80.1616139892116\n",
      "80.15454409495484\n",
      "80.15020655613444\n",
      "80.14505382156895\n",
      "80.13867094971387\n",
      "80.13582635003628\n",
      "80.13297867847372\n",
      "80.12550667926268\n",
      "80.1168708317685\n",
      "80.11280344207798\n",
      "80.10756140917712\n",
      "80.10000285498305\n",
      "80.09661752196094\n",
      "80.09187308994434\n",
      "80.08509927628984\n",
      "80.0842383510021\n",
      "80.08321459175379\n",
      "80.07433035511349\n",
      "80.06361716671968\n",
      "80.06027770557967\n",
      "80.05495280528847\n",
      "80.04600594297956\n",
      "80.04344107184924\n",
      "80.03862137094247\n",
      "80.03113399268159\n",
      "80.03108634830936\n",
      "80.03034674490632\n",
      "80.02019185560205\n",
      "80.00859694524924\n",
      "80.00493704597898\n",
      "79.99924567663209\n",
      "79.99033286089447\n",
      "79.98716515283542\n",
      "79.98202674658546\n",
      "79.9747255702669\n",
      "79.97339836855714\n",
      "79.9714742989212\n",
      "79.96234217458735\n",
      "79.95207898235167\n",
      "79.94805655591122\n",
      "79.94245725875844\n",
      "79.93432390328839\n",
      "79.93073953592473\n",
      "79.92563980198064\n",
      "79.91868629864538\n",
      "79.91690251381355\n",
      "79.9147503363949\n",
      "79.90618128862046\n",
      "79.89637129574665\n",
      "79.89238120041183\n",
      "79.88688695894744\n",
      "79.87882300623605\n",
      "79.87534674323835\n",
      "79.87032854695146\n",
      "79.86333358192176\n",
      "79.8618764737733\n",
      "79.8600531498862\n",
      "79.85122198596444\n",
      "79.84100286676684\n",
      "79.83712683346323\n",
      "79.83159030759361\n",
      "79.82321951761395\n",
      "79.81988137437568\n",
      "79.81482013571124\n",
      "79.807641979434\n",
      "79.80634753978745\n",
      "79.80458521327499\n",
      "79.79543620061506\n",
      "79.78495429577082\n",
      "79.78099155695593\n",
      "79.7753378029091\n",
      "79.76688999778958\n",
      "79.7634010830672\n",
      "79.75821908046682\n",
      "79.75101236850304\n",
      "79.74939971530357\n",
      "79.74731782545068\n",
      "79.73828506200476\n",
      "79.72803689981095\n",
      "79.72389908597926\n",
      "79.71819069191648\n",
      "79.70990203651466\n",
      "79.7061930830841\n",
      "79.7009371805883\n",
      "79.69379168595523\n",
      "79.69186790943976\n",
      "79.68954527281551\n",
      "79.68069618864033\n",
      "79.67066183634394\n",
      "79.66641764090501\n",
      "79.66068418507436\n",
      "79.6524643178483\n",
      "79.6486441039138\n",
      "79.64334219807147\n",
      "79.63618881629685\n",
      "79.63415963536536\n",
      "79.63176812596787\n",
      "Stability correcting joint\n",
      "6.464386148342829e+22\n",
      "4.683251222363701e+22\n",
      "Descent failed\n",
      "Stability correcting HPC\n",
      "9.709110655254882e+21\n",
      "9.155903690186744e+21\n",
      "Descent failed\n",
      "Stability correcting OFC\n",
      "181.82570193550836\n",
      "181.4727431262496\n",
      "180.94217918636556\n",
      "180.89044897380612\n",
      "180.83766083712507\n",
      "180.72878995672642\n",
      "180.71478561642647\n",
      "180.66401297776144\n",
      "180.54100601010043\n",
      "180.51280530221953\n",
      "180.45329299640588\n",
      "180.34070796429216\n",
      "180.31320565601965\n",
      "180.26425219042417\n",
      "180.1549598228866\n",
      "180.14003979594827\n",
      "180.0936420475313\n",
      "179.97097199649394\n",
      "179.950443107681\n",
      "179.89225538292612\n",
      "179.76100513235596\n",
      "179.72847591110275\n",
      "179.66756582487864\n",
      "179.55089001107416\n",
      "179.5252961937356\n",
      "179.4768806478803\n",
      "179.35617900082784\n",
      "179.3388974706528\n",
      "179.28373371997958\n",
      "179.1493030157992\n",
      "179.1175235662674\n",
      "179.05260714714836\n",
      "178.92191810577407\n",
      "178.88665496769835\n",
      "178.82718169276637\n",
      "178.70851559171354\n",
      "178.68485061745017\n",
      "178.63423474313933\n",
      "178.5010792977932\n",
      "178.47418085335755\n",
      "178.40750278564022\n",
      "178.26966717442767\n",
      "178.2286058120959\n",
      "178.1622784746621\n",
      "178.0355969049434\n",
      "178.00180319802067\n",
      "177.94424327800226\n",
      "177.81944379021346\n",
      "177.79304867789102\n",
      "177.73360550272378\n",
      "177.59028875752028\n",
      "177.54985191647052\n",
      "177.47581798272225\n",
      "177.34290101672647\n",
      "177.29903799598725\n",
      "177.23567605084565\n",
      "177.10979911338012\n",
      "177.07829105761544\n",
      "177.01804434596468\n",
      "176.88264969981387\n",
      "176.84536042897346\n",
      "176.77439165248398\n",
      "176.63080991434842\n",
      "176.5817071058094\n",
      "176.5077879748738\n",
      "176.38071331252794\n",
      "176.33903296235593\n",
      "176.27797800810995\n",
      "176.14630798617324\n",
      "176.11095413339152\n",
      "176.0414353357159\n",
      "175.89912474593828\n",
      "175.8495497560977\n",
      "175.77326329518604\n",
      "175.63670610215743\n",
      "175.58655432193854\n",
      "175.5160985811386\n",
      "175.3896416868753\n",
      "175.34922115386394\n",
      "175.28480008061743\n",
      "175.14442703392115\n",
      "175.09839051674803\n",
      "175.02005967939897\n",
      "174.88051107757684\n",
      "174.8253763226233\n",
      "174.7507353166629\n",
      "174.61967442087627\n",
      "174.57198606371713\n",
      "174.50269104526433\n",
      "174.3712296407757\n",
      "174.32587339474807\n",
      "174.25357707505916\n",
      "174.11053860750457\n",
      "174.05557428265269\n",
      "173.97534337861066\n",
      "173.8425680969955\n",
      "173.78804085869112\n",
      "173.7165712192924\n",
      "173.58558838231903\n",
      "173.53794889762852\n",
      "173.46521736760687\n",
      "173.32893150053727\n",
      "173.2756804502716\n",
      "173.19834811593384\n",
      "173.0598587827718\n",
      "173.00244385522822\n",
      "172.92477271610193\n",
      "172.79586632181756\n",
      "172.74317038685652\n",
      "172.67216050921775\n",
      "172.53814248896646\n",
      "172.48636214404453\n",
      "172.40920884007593\n",
      "172.2736369410999\n",
      "172.21598445052678\n",
      "172.1389462963755\n",
      "172.00602737984178\n",
      "171.95000317448634\n",
      "171.87480333489773\n",
      "171.7460897494545\n",
      "171.69289950929831\n",
      "171.6198901798208\n",
      "171.48494206785088\n",
      "171.42903688556194\n",
      "171.35082895175216\n",
      "171.21961734613797\n",
      "171.16200956400155\n",
      "171.08756095567148\n",
      "170.95765092520256\n",
      "170.90307136362753\n",
      "170.82860461311287\n",
      "170.69942485910687\n",
      "170.64434413064876\n",
      "170.57016959442527\n",
      "170.4379335945736\n",
      "170.38112692956852\n",
      "170.30495699748573\n",
      "170.17768040332913\n",
      "170.121959719613\n",
      "170.04972786862362\n",
      "169.921041336166\n",
      "169.86679463177427\n",
      "169.79269704844157\n",
      "169.66491939939831\n",
      "169.6093474413128\n",
      "169.53644817201496\n",
      "169.40809460343246\n",
      "169.35296208235832\n",
      "169.27973611959234\n",
      "169.15478523013277\n",
      "169.10090809932976\n",
      "169.03028809499622\n",
      "168.90310912424667\n",
      "168.84943453550324\n",
      "168.7769953955912\n",
      "168.65202967251574\n",
      "168.59813133118885\n",
      "168.5280125569553\n",
      "168.4027486568737\n",
      "168.35016785195674\n",
      "168.27976830803553\n",
      "168.15643696778335\n",
      "168.10440028739214\n",
      "168.03578067371294\n",
      "167.9109998590906\n",
      "167.85927104858524\n",
      "167.78984278435172\n",
      "167.66755830154761\n",
      "167.61658324752935\n",
      "167.54956893539787\n",
      "167.42648634150729\n",
      "167.37660509706137\n",
      "167.30909892270228\n",
      "167.1875142156809\n",
      "167.13800734894008\n",
      "167.07223127853933\n",
      "166.95002173557364\n",
      "166.90138137345005\n",
      "166.83551622689725\n",
      "166.71515397428863\n",
      "166.66745327649676\n",
      "166.60350609963552\n",
      "166.48228087784813\n",
      "166.43538713593668\n",
      "166.37116087694514\n",
      "166.25140791146097\n",
      "166.20521258878307\n",
      "166.14280647151023\n",
      "166.02264104353893\n",
      "165.97761275615844\n",
      "165.91542036799245\n",
      "165.7967168483004\n",
      "165.75370037994406\n",
      "165.6964080232272\n",
      "165.5801792353033\n",
      "165.56625982276455\n",
      "165.41073932050537\n",
      "165.37285224176034\n",
      "165.34449491004816\n",
      "165.27035113546955\n",
      "165.1709681600122\n",
      "Stability correcting joint\n",
      "7.507921862441744e+22\n",
      "6.80168793426153e+22\n",
      "Descent failed\n",
      "Stability correcting HPC\n",
      "3.042285406940329e+22\n",
      "2.58534701125923e+22\n",
      "Descent failed\n",
      "Stability correcting OFC\n",
      "239.987253384768\n",
      "239.0267521770598\n",
      "237.94144033401508\n",
      "237.77294215662485\n",
      "237.63726315475463\n",
      "237.3931734840229\n",
      "237.2267658283101\n",
      "237.0240359067658\n",
      "236.9082244381796\n",
      "236.71611377921286\n",
      "236.59271584735592\n",
      "236.3089425552141\n",
      "236.0858186506139\n",
      "236.0703605851118\n",
      "235.8689580440893\n",
      "235.47444525768987\n",
      "235.09598139650436\n",
      "234.8746359884639\n",
      "234.44779040766926\n",
      "234.33114698694257\n",
      "233.7141724789223\n",
      "233.0524390034552\n",
      "233.0000312990701\n",
      "232.8227464786822\n",
      "232.2187697007856\n",
      "231.92084019831364\n",
      "231.65658736160051\n",
      "231.27456078733965\n",
      "231.1845775794958\n",
      "230.87960598017898\n",
      "230.8716048029402\n",
      "230.70478606539228\n",
      "230.5756002872944\n",
      "230.36578915927456\n",
      "230.36031687037027\n",
      "230.3401419290116\n",
      "230.24946090652267\n",
      "229.98533390901454\n",
      "229.94143001726255\n",
      "229.81722543741395\n",
      "229.80816309383587\n",
      "229.70922350181917\n",
      "229.6723427700273\n",
      "229.5279588285126\n",
      "229.51419131512856\n",
      "229.44066967551845\n",
      "229.40406576301532\n",
      "229.2776006220686\n",
      "229.26465290208347\n",
      "229.19570715524853\n",
      "229.15253523627118\n",
      "229.05583208941533\n",
      "229.03991411115837\n",
      "228.97508825374595\n",
      "228.92764280362704\n",
      "228.92284997364354\n",
      "228.83835549147386\n",
      "228.78070870957467\n",
      "228.77046634558855\n",
      "228.74530719669355\n",
      "228.73841535244702\n",
      "228.583093396506\n",
      "228.5779838174586\n",
      "228.52968787588398\n",
      "228.4955803908402\n",
      "228.39886496040003\n",
      "228.39185758873018\n",
      "228.33390838990226\n",
      "228.28995832338458\n",
      "228.28688623251398\n",
      "228.20792072936564\n",
      "228.1604219298969\n",
      "228.14574878163145\n",
      "228.12577484146982\n",
      "228.10723565321467\n",
      "227.99529223124912\n",
      "227.96684354466962\n",
      "227.93525812813286\n",
      "227.89773743828255\n",
      "227.8451378675091\n",
      "227.8343628835912\n",
      "227.7852757453177\n",
      "227.74289409080302\n",
      "227.73028644294448\n",
      "227.71316808684162\n",
      "227.62964538375354\n",
      "227.61314557679378\n",
      "227.58684784770233\n",
      "227.5563999456168\n",
      "227.47861389781693\n",
      "227.45065136394598\n",
      "227.4181614407399\n",
      "227.4178081469759\n",
      "227.33073260053013\n",
      "227.31141656202766\n",
      "227.26904683725525\n",
      "227.25973853501165\n",
      "227.2411069265112\n",
      "227.22117402389333\n",
      "227.1204322904882\n",
      "227.09437359591038\n",
      "227.0651559822232\n",
      "227.02935648642844\n",
      "227.0271729901195\n",
      "227.02533612815182\n",
      "226.92874487378444\n",
      "226.9251859883057\n",
      "226.9048294868588\n",
      "226.8904522278921\n",
      "226.77535147236406\n",
      "226.74937128645868\n",
      "226.72179628749578\n",
      "226.68709134371588\n",
      "226.64317694636378\n",
      "226.6315695849994\n",
      "226.59073816488737\n",
      "226.55151217678775\n",
      "226.53809622959187\n",
      "226.5170522333998\n",
      "226.45460335627135\n",
      "226.43940286616885\n",
      "226.41571614534453\n",
      "226.384692777725\n",
      "226.3192423701888\n",
      "226.29333354935184\n",
      "226.26344255471002\n",
      "226.2580234982239\n",
      "226.18691498795536\n",
      "226.1693448853207\n",
      "226.13008544376038\n",
      "226.11765038398207\n",
      "226.10030689351885\n",
      "226.07495579958376\n",
      "225.99831028467105\n",
      "225.9743148289223\n",
      "225.94648448035986\n",
      "225.91207863611157\n",
      "225.90421107952406\n",
      "225.89176411376954\n",
      "225.82461557330154\n",
      "225.82074895336442\n",
      "225.79977509791783\n",
      "225.77981643059482\n",
      "225.68425547892127\n",
      "225.66008828330644\n",
      "225.63334124722076\n",
      "225.59954931911116\n",
      "225.5953458973958\n",
      "225.58793398256765\n",
      "225.51254236582676\n",
      "225.51198076065418\n",
      "225.4917610489606\n",
      "225.47633868948154\n",
      "225.36998891469594\n",
      "225.34605137852512\n",
      "225.3204246531981\n",
      "225.28710522205014\n",
      "225.2470730142541\n",
      "225.2344568337312\n",
      "225.19785878178885\n",
      "225.16075202487409\n",
      "225.1455797276691\n",
      "225.12214358517429\n",
      "225.0724362555315\n",
      "225.05652035590703\n",
      "225.03485564975193\n",
      "225.00350901515097\n",
      "224.94752342001476\n",
      "224.92278007574748\n",
      "224.89446110158715\n",
      "224.88606461636704\n",
      "224.82443289253447\n",
      "224.80736698388571\n",
      "224.77043458769307\n",
      "224.7563301752938\n",
      "224.73945229418675\n",
      "224.7118879318514\n",
      "224.64805979978075\n",
      "224.6248878437546\n",
      "224.5980291648435\n",
      "224.56493140824878\n",
      "224.55343982148068\n",
      "224.53602520878388\n",
      "224.4836985705832\n",
      "224.47753893918357\n",
      "224.45866578303486\n",
      "224.43582846760245\n",
      "224.35295942335296\n",
      "224.3298902723035\n",
      "224.30380952049327\n",
      "224.270767755401\n",
      "224.26346752784096\n",
      "224.25078569454774\n",
      "224.18940241011467\n",
      "224.18707227502685\n",
      "224.16776289114728\n",
      "224.14883797805257\n",
      "224.05484872604492\n",
      "224.03191112466993\n",
      "224.00662231079636\n",
      "223.97372887312264\n",
      "Stability correcting joint\n",
      "9.253976885756571e+22\n",
      "9.250703794656358e+22\n",
      "Descent failed\n",
      "Stability correcting HPC\n",
      "5.674413402297775e+22\n",
      "5.557138050096844e+22\n",
      "Descent failed\n",
      "Stability correcting OFC\n",
      "325.6022201537351\n",
      "325.598914825615\n",
      "Descent failed\n",
      "Stability correcting joint\n",
      "1.2341387652586725e+23\n",
      "1.1560905756479682e+23\n",
      "Descent failed\n",
      "Stability correcting HPC\n",
      "11.372069526474785\n",
      "11.22053237462389\n",
      "11.205917589753808\n",
      "11.002653021428818\n",
      "10.959083904787594\n",
      "10.928875707996637\n",
      "10.786377930278594\n",
      "10.641613369287228\n",
      "10.56299971676927\n",
      "10.415926373189892\n",
      "10.41424581388727\n",
      "10.163654041109123\n",
      "10.106498412335359\n",
      "10.06679320439359\n",
      "9.991960077618469\n",
      "9.62225594258087\n",
      "9.594000160839636\n",
      "9.375757863400198\n",
      "9.332911386152247\n",
      "9.32767978983286\n",
      "9.016483299984323\n",
      "8.741095580137006\n",
      "8.667893182740201\n",
      "8.656099257292258\n",
      "8.655791194640294\n",
      "8.4957851201987\n",
      "8.27875349092943\n",
      "8.155113692469724\n",
      "8.098974659769304\n",
      "8.087210134970963\n",
      "7.7475610074527825\n",
      "7.6630191717400065\n",
      "7.553497587294557\n",
      "7.532806607136339\n",
      "7.394263725212813\n",
      "7.302050972731132\n",
      "7.293174453688171\n",
      "7.152878777803476\n",
      "7.069377817362173\n",
      "6.998748580872574\n",
      "6.976089705032726\n",
      "6.870109018659007\n",
      "6.79379138017604\n",
      "6.731100773362242\n",
      "6.695451252388589\n",
      "6.604953867302431\n",
      "6.593096215864487\n",
      "6.536229789214575\n",
      "6.493623268335367\n",
      "6.467169653967426\n",
      "6.325164454401777\n",
      "6.280076677037251\n",
      "6.224868606658491\n",
      "6.167297376162951\n",
      "6.1490389214385255\n",
      "6.054437904809588\n",
      "6.048480279972288\n",
      "5.987885743239534\n",
      "5.955497042204846\n",
      "5.925954247595464\n",
      "5.8184323755273155\n",
      "5.787454556854804\n",
      "5.7402536106167625\n",
      "5.690225628499131\n",
      "5.6822616075012204\n",
      "5.59768075869538\n",
      "5.547997515933998\n",
      "5.509018498368239\n",
      "5.488361342921026\n",
      "5.430515214473622\n",
      "5.391163324348932\n",
      "5.379089232126014\n",
      "5.368281084592514\n",
      "5.287281029193436\n",
      "5.274728895914202\n",
      "5.222742161930621\n",
      "5.18609895076958\n",
      "5.152815592962135\n",
      "5.135527387779031\n",
      "5.079043878951432\n",
      "5.071770064584929\n",
      "5.0310548870805425\n",
      "5.005670683357816\n",
      "4.989959430055638\n",
      "4.918010381652542\n",
      "4.905810362208268\n",
      "4.874365743012079\n",
      "4.851033368110054\n",
      "4.796153523538309\n",
      "4.78512940206\n",
      "4.7652201767729645\n",
      "4.736938536130912\n",
      "4.688180038063265\n",
      "4.668686434929081\n",
      "4.642661930139057\n",
      "4.610408461955031\n",
      "4.594025703104519\n",
      "4.5755264907866335\n",
      "4.54289654118595\n",
      "4.540221839517516\n",
      "4.531453132802227\n",
      "4.494960134363331\n",
      "4.442345403099695\n",
      "4.421983316645229\n",
      "4.395765403144351\n",
      "4.3658114664451295\n",
      "4.34786352026182\n",
      "4.329582411375292\n",
      "4.301458259597384\n",
      "4.296314705208387\n",
      "4.286991504912917\n",
      "4.266377926888356\n",
      "4.217673562739226\n",
      "4.209017993913748\n",
      "4.1874529915940775\n",
      "4.164555697619784\n",
      "4.1282388156944805\n",
      "4.114347598126887\n",
      "4.094932542535393\n",
      "4.075758032502237\n",
      "4.06803602600577\n",
      "4.036127428571119\n",
      "4.033784012538946\n",
      "4.010372556403584\n",
      "4.001957539637561\n",
      "3.9953766458876525\n",
      "3.9564069979177074\n",
      "3.9320303730237054\n",
      "3.91530688109226\n",
      "3.9148168418658376\n",
      "3.880417853060785\n",
      "3.8692543871511007\n",
      "3.8505480618146604\n",
      "3.832493636953568\n",
      "3.8206182254635843\n",
      "3.8103951189673553\n",
      "3.787723130442597\n",
      "3.78610154636139\n",
      "3.775398190174623\n",
      "3.764082666435961\n",
      "3.72684375857502\n",
      "3.7194548180365907\n",
      "3.7012945346546204\n",
      "3.683665493858444\n",
      "3.6762266159446013\n",
      "3.671900027509862\n",
      "3.6443456216227963\n",
      "3.623760739760987\n",
      "3.611446975392309\n",
      "3.598975208789965\n",
      "3.5792371090489334\n",
      "3.5696723259541727\n",
      "3.5564277234060095\n",
      "3.542368334673559\n",
      "3.5380900313166714\n",
      "3.5124573581413765\n",
      "3.4985681096517958\n",
      "3.4924499331001084\n",
      "3.4877461951314324\n",
      "3.484106763224302\n",
      "3.455765870102053\n",
      "3.4361329881917366\n",
      "3.4244757880223697\n",
      "3.412311974595309\n",
      "3.4090209283822865\n",
      "3.386303609917268\n",
      "3.3738953601046684\n",
      "3.373200123023378\n",
      "3.347838114560579\n",
      "3.3379892830274907\n",
      "3.3248364132103476\n",
      "3.3201804038317935\n",
      "3.3146453524070982\n",
      "3.3078398434697167\n",
      "3.283602318920468\n",
      "3.2829870457538353\n",
      "3.271739719082422\n",
      "3.2582977248295326\n",
      "3.2344776549223027\n",
      "3.2258089681090287\n",
      "3.213364756419997\n",
      "3.2128076511713033\n",
      "3.2118791690147184\n",
      "3.2106702740757513\n",
      "3.179499399852058\n",
      "3.1599911841589083\n",
      "3.149827369232272\n",
      "3.138975065490088\n",
      "3.1356086949603235\n",
      "3.116212170433\n",
      "3.1056503128445616\n",
      "3.1024991804667446\n",
      "3.102191058746449\n",
      "3.075266328167624\n",
      "3.0640075157604865\n",
      "3.0580351733658167\n",
      "3.051462970629147\n",
      "3.0438595783344082\n",
      "3.0269583428901257\n",
      "3.0233227998503036\n",
      "3.0141159105420847\n",
      "Stability correcting OFC\n",
      "26.812469934312336\n",
      "26.533071946640263\n",
      "26.30764853536723\n",
      "26.243882062931515\n",
      "26.029302010220285\n",
      "25.95476997136366\n",
      "25.764544601517976\n",
      "25.622956141290615\n",
      "25.51279944017251\n",
      "25.343267558827947\n",
      "25.24308755506419\n",
      "25.048012116854895\n",
      "24.870364344194677\n",
      "24.674287883971395\n",
      "24.654227093894207\n",
      "24.268332653809935\n",
      "23.87115482919279\n",
      "23.69161570763997\n",
      "23.48924664722299\n",
      "23.322428936286602\n",
      "23.31769297557704\n",
      "23.130446071955433\n",
      "22.87040790401445\n",
      "22.69611664760049\n",
      "22.37554415084256\n",
      "22.246853746338072\n",
      "22.174081439264477\n",
      "21.59851836007052\n",
      "21.266506731102673\n",
      "20.90564170118585\n",
      "20.823987571645635\n",
      "20.479092871531854\n",
      "19.674589347973136\n",
      "19.33181866524978\n",
      "19.230954218529437\n",
      "18.89887480311859\n",
      "18.305253090499733\n",
      "17.832515958810646\n",
      "17.633460610602953\n",
      "17.365085086089827\n",
      "17.33659547510408\n",
      "16.79742037284912\n",
      "15.501131545183544\n",
      "15.29792133800197\n",
      "14.75366619654048\n",
      "14.151845847479233\n",
      "13.931750956443427\n",
      "13.285972444790291\n",
      "12.998559940654014\n",
      "12.679834854596402\n",
      "12.568128458230362\n",
      "12.260366275063946\n",
      "12.167924196990862\n",
      "11.981783206426922\n",
      "11.848678060234146\n",
      "11.61089382252512\n",
      "11.564377677358044\n",
      "11.377256298007826\n",
      "11.215553165936356\n",
      "11.07358132387235\n",
      "10.80791270916757\n",
      "10.520751762827675\n",
      "10.450964726006875\n",
      "10.34389838599779\n",
      "10.314608187679386\n",
      "10.312322416470622\n",
      "10.079815751875316\n",
      "9.59371710139981\n",
      "9.512964045535886\n",
      "9.499765234011003\n",
      "9.261710145334774\n",
      "9.089626036507177\n",
      "9.02154104065942\n",
      "8.92877102475636\n",
      "8.808644523971358\n",
      "8.597681544165214\n",
      "8.54719890406005\n",
      "8.443466909787805\n",
      "8.30650212006454\n",
      "8.176738042313866\n",
      "8.095749669053035\n",
      "8.054781758338915\n",
      "7.924039798553149\n",
      "7.914003091868255\n",
      "7.8120119786593465\n",
      "7.71912761832621\n",
      "7.619126646330184\n",
      "7.563039220975095\n",
      "7.506085194394376\n",
      "7.312010925091478\n",
      "7.232204567891606\n",
      "7.169044669953887\n",
      "7.084997735564628\n",
      "6.989820969501511\n",
      "6.967940179436862\n",
      "6.928374257506583\n",
      "6.789586055949699\n",
      "6.71874601388\n",
      "6.6501246071912865\n",
      "6.626897211198058\n",
      "6.505045795284868\n",
      "6.392568208798384\n",
      "6.311016406236919\n",
      "6.244153261846833\n",
      "6.19325620544494\n",
      "6.155811704440823\n",
      "6.142912572358699\n",
      "6.063471724555519\n",
      "5.984090991295218\n",
      "5.9403820859209\n",
      "5.894316239325557\n",
      "5.83019493729219\n",
      "5.798241268715796\n",
      "5.7730681215436235\n",
      "5.692794759361721\n",
      "5.683861132882697\n",
      "5.6377471081881\n",
      "5.57107773703258\n",
      "5.541623235088227\n",
      "5.437827405482518\n",
      "5.421678634944532\n",
      "5.371389786906174\n",
      "5.300998247096102\n",
      "5.277754626961233\n",
      "5.2626564427071285\n",
      "5.1955402748330375\n",
      "5.097636390024331\n",
      "5.058273077951317\n",
      "5.021579614132118\n",
      "4.963320786643159\n",
      "4.962344177154338\n",
      "4.942472235569047\n",
      "4.906838688687665\n",
      "4.82889015649333\n",
      "4.764530942667393\n",
      "4.726682545706411\n",
      "4.700270365127325\n",
      "4.684647618641009\n",
      "4.626939108745156\n",
      "4.626346855748589\n",
      "4.602439281303753\n",
      "4.556722114460473\n",
      "4.475561487143618\n",
      "4.442035638863855\n",
      "4.404343711559203\n",
      "4.386095272624502\n",
      "4.371847791939918\n",
      "4.3439287559222315\n",
      "4.276473678932944\n",
      "4.258889866682931\n",
      "4.228871510092549\n",
      "4.183988258393637\n",
      "4.179644399357686\n",
      "4.107073668195662\n",
      "4.0715745497582665\n",
      "4.067172246142691\n",
      "4.009837355530304\n",
      "3.987373274275035\n",
      "3.961045745687228\n",
      "3.927278498121764\n",
      "3.9101135441605743\n",
      "3.889835702981096\n",
      "3.857658635671267\n",
      "3.8541668250894023\n",
      "3.851759374269616\n",
      "3.7954806375535894\n",
      "3.7452570606819267\n",
      "3.7188868349415927\n",
      "3.692338155559684\n",
      "3.6806579819776943\n",
      "3.6373888135643466\n",
      "3.6095763743024167\n",
      "3.6047163921254612\n",
      "3.600190535206885\n",
      "3.542881544390046\n",
      "3.509775440814829\n",
      "3.5068765829930624\n",
      "3.4926468698005593\n",
      "3.441725701574069\n",
      "3.413764736512423\n",
      "3.4029496337828133\n",
      "3.3894798448089976\n",
      "3.384771090573395\n",
      "3.3407537163977055\n",
      "3.3127912747812207\n",
      "3.2961303758290397\n",
      "3.2794592703081555\n",
      "3.25421461700349\n",
      "3.242616054511524\n",
      "3.228227490618881\n",
      "3.2069696312495535\n",
      "3.1803466793173385\n",
      "3.1649457313023426\n",
      "3.147363725366624\n",
      "3.1456900548092386\n",
      "3.110266579830621\n",
      "3.0936787361099185\n",
      "3.075026595725367\n",
      "3.0645817351893583\n",
      "3.0553687547588457\n",
      "3.0364514744399655\n",
      "Stability correcting joint\n",
      "51.01135633535555\n",
      "51.00506546180962\n",
      "50.99154972310341\n",
      "50.98170314212964\n",
      "50.98056380105842\n",
      "50.97838633615661\n",
      "50.97595740639303\n",
      "50.975916144255635\n",
      "50.97549663417305\n",
      "50.97407320348345\n",
      "50.97262982735841\n",
      "50.9724313109339\n",
      "Stability correcting HPC\n",
      "34.6675845472606\n",
      "33.258639430197945\n",
      "33.07393152914938\n",
      "32.49145344257213\n",
      "32.15772477173715\n",
      "32.01560092065386\n",
      "31.36224651236619\n",
      "30.974611309033968\n",
      "30.845340848756294\n",
      "30.214488075205363\n",
      "29.884605610753944\n",
      "29.331632378472523\n",
      "28.90928323815609\n",
      "28.838489868565265\n",
      "28.76092389726332\n",
      "28.408691859388988\n",
      "28.209236537008863\n",
      "27.97134336381207\n",
      "27.788525577531697\n",
      "27.506156901220155\n",
      "27.395605507022882\n",
      "27.323703112867115\n",
      "27.158636583460364\n",
      "27.009210982317423\n",
      "26.929597577174935\n",
      "26.786075045070493\n",
      "26.642218162021976\n",
      "26.56781380428897\n",
      "26.45707938358109\n",
      "26.376881720846274\n",
      "26.30989366840122\n",
      "26.221048384101238\n",
      "26.167285185536088\n",
      "26.116241965842523\n",
      "26.036579712269393\n",
      "25.99817845919563\n",
      "25.962815423500118\n",
      "25.82603533167175\n",
      "25.75524702495847\n",
      "25.689413986060718\n",
      "25.595063213912077\n",
      "25.553255893342087\n",
      "25.523335200901734\n",
      "25.38012966627473\n",
      "25.30504464994295\n",
      "25.232392613617844\n",
      "25.12496048666484\n",
      "25.07573015357154\n",
      "25.0433364234161\n",
      "24.89840947122914\n",
      "24.820728554507706\n",
      "24.742927672253966\n",
      "24.622889196506655\n",
      "24.563153632564415\n",
      "24.523598933933425\n",
      "24.38099274677476\n",
      "24.304394966980297\n",
      "24.224187549776325\n",
      "24.08977076737441\n",
      "24.01527743492572\n",
      "23.962641361421824\n",
      "23.825072610828226\n",
      "23.753478945733352\n",
      "23.6766193366181\n",
      "23.526809400344735\n",
      "23.435118035849808\n",
      "23.36401209706969\n",
      "23.22928116911895\n",
      "23.160526759162714\n",
      "23.092363804347972\n",
      "22.93275109900055\n",
      "22.82881568895184\n",
      "22.739182713303144\n",
      "22.598519652928427\n",
      "22.52042317900397\n",
      "22.455467897278975\n",
      "22.29998154959542\n",
      "22.19958724529793\n",
      "22.100877585284\n",
      "21.942488353649335\n",
      "21.84154694344202\n",
      "21.76239838479164\n",
      "21.618005054970517\n",
      "21.53334461639257\n",
      "21.44379592203315\n",
      "21.265742662843742\n",
      "21.141148337883486\n",
      "21.03753043725495\n",
      "20.892809784565475\n",
      "20.807608038338053\n",
      "20.731564932995642\n",
      "20.558288021574228\n",
      "20.43371577569517\n",
      "20.314918455576308\n",
      "20.14817194928666\n",
      "20.03590322818741\n",
      "19.94593938714327\n",
      "19.795322438843655\n",
      "19.69798647762855\n",
      "19.593938616809524\n",
      "19.39508390900198\n",
      "19.251578481344612\n",
      "19.131226885942407\n",
      "18.985099630250673\n",
      "18.892587842484048\n",
      "18.816752252305857\n",
      "18.62426704058446\n",
      "18.493002133060667\n",
      "18.374888237448896\n",
      "18.222378149586216\n",
      "18.21527468378248\n",
      "17.967214901056078\n",
      "17.815033925164013\n",
      "17.80535163273747\n",
      "17.58471037917258\n",
      "17.560706204899013\n",
      "17.34225433675281\n",
      "17.15102925787973\n",
      "17.096936949613905\n",
      "16.871007351739284\n",
      "16.704585074248072\n",
      "16.561526011958\n",
      "16.548242757144642\n",
      "16.327570358195047\n",
      "16.16933569324435\n",
      "16.129049084300963\n",
      "15.925238812099455\n",
      "15.769329850986912\n",
      "15.712232298508535\n",
      "15.509341017220581\n",
      "15.478446435765004\n",
      "15.291439184445949\n",
      "15.126145587572049\n",
      "14.948916972368519\n",
      "14.932535167130967\n",
      "14.737829669494383\n",
      "14.616879542322074\n",
      "14.464765722308682\n",
      "14.403580010946003\n",
      "14.322346759665011\n",
      "14.062155732748659\n",
      "13.879405620500041\n",
      "13.737702180648984\n",
      "13.603774782973787\n",
      "13.536202343428196\n",
      "13.520871312612597\n",
      "13.331339922523796\n",
      "13.191431742362923\n",
      "13.014969954383778\n",
      "12.99288455678489\n",
      "12.725832515094702\n",
      "12.599563072593764\n",
      "12.524017160728116\n",
      "12.368240908848133\n",
      "12.29360451768196\n",
      "12.169190407001846\n",
      "11.967500877344415\n",
      "11.834193639392252\n",
      "11.726698842647556\n",
      "11.603395869893653\n",
      "11.553084074306657\n",
      "11.529747349015881\n",
      "11.373970609310565\n",
      "11.163404698648959\n",
      "11.043479655767921\n",
      "10.938931981447695\n",
      "10.924301598872967\n",
      "10.734577893265064\n",
      "10.627194874081054\n",
      "10.518528034035093\n",
      "10.467483347031061\n",
      "10.438854897768701\n",
      "10.313878283500033\n",
      "10.139023341459039\n",
      "10.050040732711407\n",
      "9.978603082579843\n",
      "9.88852541897895\n",
      "9.77953532612304\n",
      "9.73248406368213\n",
      "9.68321473548293\n",
      "9.578672022523248\n",
      "9.542012793432598\n",
      "9.474599015350691\n",
      "9.316994512342495\n",
      "9.234605158965865\n",
      "9.15099925380029\n",
      "9.047866979802755\n",
      "8.999425357055557\n",
      "8.956741396015365\n",
      "8.860423651490754\n",
      "8.729620887787556\n",
      "8.661370703454834\n",
      "8.589137541034763\n",
      "8.504239114024811\n",
      "8.457560171422877\n",
      "8.417075416394509\n",
      "8.324443057053603\n",
      "8.221385007623516\n",
      "8.160117692142725\n",
      "8.09972659835253\n",
      "8.022263918720787\n",
      "Stability correcting OFC\n",
      "71.26025499605512\n",
      "71.22564349309546\n",
      "71.21691766131998\n",
      "71.17995484105657\n",
      "71.16744510955093\n",
      "71.153799318489\n",
      "71.15205667705506\n",
      "71.1265991686008\n",
      "71.11489515775916\n",
      "71.11192555590078\n",
      "71.09177553758275\n",
      "71.08186596355755\n",
      "71.07032766474433\n",
      "71.06608871947623\n",
      "71.06298991456791\n",
      "71.05102470027181\n",
      "71.03213436094181\n",
      "71.02768426486098\n",
      "71.02002039788775\n",
      "71.0044501221831\n",
      "70.98870303863734\n",
      "70.98011767845372\n",
      "70.97072954686274\n",
      "70.96686807067127\n",
      "70.96493257751244\n",
      "70.95601595779188\n",
      "70.93979637197833\n",
      "70.93824485763854\n",
      "70.93329134382323\n",
      "70.91829833772714\n",
      "70.90169522812856\n",
      "70.8948625008685\n",
      "70.88648641681966\n",
      "70.87631082074485\n",
      "70.87021080239761\n",
      "70.86325593885174\n",
      "70.85401245013216\n",
      "70.85020762209591\n",
      "70.84583921302168\n",
      "70.83625971293667\n",
      "70.8242442005588\n",
      "70.81889450387635\n",
      "70.81202372108888\n",
      "70.802704116175\n",
      "70.79864457255567\n",
      "70.7935021667771\n",
      "70.78445661523004\n",
      "70.77428450444964\n",
      "70.76844474173008\n",
      "70.76176307395826\n",
      "70.76060845793755\n",
      "70.74750174501\n",
      "70.74130125883227\n",
      "70.74075435226409\n",
      "70.72858276681787\n",
      "70.72341620364321\n",
      "70.71667975735316\n",
      "70.71653256652664\n",
      "70.70262679285428\n",
      "70.69660904279286\n",
      "70.69517578929366\n",
      "70.68420240060318\n",
      "70.6788970806145\n",
      "70.67260860691441\n",
      "70.66989208105444\n",
      "70.66766064743676\n",
      "70.66146250246285\n",
      "70.65157961070014\n",
      "70.64949461362153\n",
      "70.64533619730973\n",
      "70.63666878245304\n",
      "70.62730006152758\n",
      "70.62255470099598\n",
      "70.61696160018748\n",
      "70.61564614187488\n",
      "70.60517824169008\n",
      "70.60003945713154\n",
      "70.59823769650323\n",
      "70.58932246338223\n",
      "70.58472566793908\n",
      "70.57931297968614\n",
      "70.5770882294798\n",
      "70.57554548797884\n",
      "70.57029796138397\n",
      "70.56142239833038\n",
      "70.56035613467014\n",
      "70.5572771928121\n",
      "70.54907387417305\n",
      "70.53984680304941\n",
      "70.53595026686818\n",
      "70.53094636549106\n",
      "70.52489300594887\n",
      "70.52118693103992\n",
      "70.51692818426876\n",
      "70.51136388443163\n",
      "70.50890966279378\n",
      "70.50612566000702\n",
      "70.50040221147526\n",
      "70.49316367778806\n",
      "70.48992814528026\n",
      "70.48565292515919\n",
      "70.47978334410894\n",
      "70.47738247852006\n",
      "70.47424600412322\n",
      "70.46847223228579\n",
      "70.461758464117\n",
      "70.45816259272809\n",
      "70.45383353097569\n",
      "70.44870190226895\n",
      "70.44533099827481\n",
      "70.44161242586048\n",
      "70.43664988580173\n",
      "70.43481449837005\n",
      "70.43278626204598\n",
      "70.42772419753786\n",
      "70.42056834411703\n",
      "70.41826518708896\n",
      "70.41460745754529\n",
      "70.40872687871135\n",
      "70.40785760843747\n",
      "70.40598970023134\n",
      "70.39997746043247\n",
      "70.39222663565903\n",
      "70.38964079680169\n",
      "70.38571923526818\n",
      "70.38008023328871\n",
      "70.37814270448112\n",
      "70.37528222029913\n",
      "70.36990738564666\n",
      "70.36383554624705\n",
      "70.36056481855007\n",
      "70.35666292335846\n",
      "70.35614766863337\n",
      "70.34830962534377\n",
      "70.34470469905862\n",
      "70.34439774959492\n",
      "70.3371605817157\n",
      "70.3341214170901\n",
      "70.33009744257312\n",
      "70.32997477666383\n",
      "70.32166265200097\n",
      "70.31806447566048\n",
      "70.31720921153666\n",
      "70.31049453730112\n",
      "70.30727390477213\n",
      "70.30339221940618\n",
      "70.30177799883275\n",
      "70.30049241475508\n",
      "70.296745603202\n",
      "70.29052939988668\n",
      "70.28962280833751\n",
      "70.28724550707062\n",
      "70.2816122741941\n",
      "70.27521303552511\n",
      "70.27238871985188\n",
      "70.26875598711808\n",
      "70.26446263597327\n",
      "70.26168130580055\n",
      "70.25854493021157\n",
      "70.25454377641611\n",
      "70.25255982732574\n",
      "70.25035103929763\n",
      "70.246284122529\n",
      "70.2411699545958\n",
      "70.238708218228\n",
      "70.23552138911312\n",
      "70.2312926534961\n",
      "70.22938284814926\n",
      "70.22701229888574\n",
      "70.22278582267452\n",
      "70.21791226753277\n",
      "70.215203529885\n",
      "70.21196363090962\n",
      "70.20810878600439\n",
      "70.20556209839064\n",
      "70.20274327426027\n",
      "70.19900050713859\n",
      "70.19765580430398\n",
      "70.19621785339847\n",
      "70.19237282718879\n",
      "70.18686543931624\n",
      "70.18527692493964\n",
      "70.18257385091496\n",
      "70.17790453132511\n",
      "70.17766568988816\n",
      "70.17651801581539\n",
      "70.17179861189915\n",
      "70.16526394682863\n",
      "70.16359073491878\n",
      "70.16056376812004\n",
      "70.15585331320803\n",
      "70.15486331387174\n",
      "70.15294978418535\n",
      "70.14837572471761\n",
      "70.14299814961964\n",
      "70.14065167629784\n",
      "70.13754999975468\n",
      "70.13368433059603\n",
      "70.13147881301566\n",
      "70.12886500232138\n",
      "70.12521375019048\n",
      "Stability correcting joint\n",
      "224.17517078490852\n",
      "176.4059755822149\n",
      "176.0574920411925\n",
      "175.86955066698994\n",
      "175.8645851967256\n",
      "175.81725713913514\n",
      "175.65825598746306\n",
      "175.59699434682722\n",
      "175.51027939572106\n",
      "175.40018830660736\n",
      "175.34249225787335\n",
      "175.2821677773538\n",
      "175.19774794657002\n",
      "175.1630533051549\n",
      "175.11764009679686\n",
      "175.01801800779742\n",
      "174.98912702555103\n",
      "174.92894345506653\n",
      "174.809214630527\n",
      "174.75949574106215\n",
      "174.69052182212445\n",
      "174.58653384093412\n",
      "174.53712772296234\n",
      "174.4764590794002\n",
      "174.38200882905258\n",
      "174.34073617735044\n",
      "174.28469897462392\n",
      "174.18324518882716\n",
      "174.14233052882358\n",
      "174.0808795984108\n",
      "173.9748859789054\n",
      "173.92801019223185\n",
      "173.8644989479752\n",
      "173.76211829974042\n",
      "173.71469631140073\n",
      "173.65276412539552\n",
      "173.5541645138776\n",
      "173.5086670017874\n",
      "173.448494668361\n",
      "173.347427101544\n",
      "173.30183043235235\n",
      "173.2395491650192\n",
      "173.13799171688376\n",
      "173.09042515039184\n",
      "173.0279562289649\n",
      "172.92648574445664\n",
      "172.87834002424583\n",
      "172.81533042369358\n",
      "172.71571736725957\n",
      "172.6674736083974\n",
      "172.605366820879\n",
      "172.50440239204315\n",
      "172.4558265136884\n",
      "172.3922651520533\n",
      "172.2919460404367\n",
      "172.24227513719913\n",
      "172.17905986936955\n",
      "172.07773302302442\n",
      "172.02746064389\n",
      "171.96297196419414\n",
      "171.8629002192336\n",
      "171.81186356244982\n",
      "171.74800382451332\n",
      "171.64653896870507\n",
      "171.59496224356204\n",
      "171.52955631101287\n",
      "171.4290384280277\n",
      "171.37643636664538\n",
      "171.31153278130046\n",
      "171.20950643887844\n",
      "171.15625011992864\n",
      "171.0897010477796\n",
      "170.98880162376017\n",
      "170.934537009651\n",
      "170.8686473529144\n",
      "170.76597942626523\n",
      "170.7111598241896\n",
      "170.64346262290292\n",
      "170.5420920765522\n",
      "170.4865929637184\n",
      "170.420736552814\n",
      "170.31729481270807\n",
      "170.26570778772268\n",
      "170.2050335622279\n",
      "170.11102111378446\n",
      "170.10808000895116\n",
      "169.95816002784665\n",
      "169.9003655502427\n",
      "169.83775430232473\n",
      "169.75411075381078\n",
      "169.70560161934281\n",
      "169.6504308070732\n",
      "169.57673368939217\n",
      "169.5362271175736\n",
      "169.49032509703474\n",
      "169.40514849611662\n",
      "169.37176890786375\n",
      "169.31974838129315\n",
      "169.22713072377746\n",
      "169.18777566343798\n",
      "169.13537859328684\n",
      "169.03208907614672\n",
      "168.98950445102724\n",
      "168.9310609530436\n",
      "168.83821391635644\n",
      "168.79742703657902\n",
      "168.74747747031057\n",
      "168.64321778235345\n",
      "168.6030800340377\n",
      "168.54384250853818\n",
      "168.4441586900307\n",
      "168.40082086985933\n",
      "168.34811479963474\n",
      "168.23865257522812\n",
      "168.19812146983054\n",
      "168.1426491402734\n",
      "168.045409242823\n",
      "168.03057370323143\n",
      "168.02784139759225\n",
      "167.91864085399823\n",
      "167.78165862792292\n",
      "167.7553833608864\n",
      "167.72101457291217\n",
      "167.602738180235\n",
      "167.55988493460114\n",
      "167.4889205802867\n",
      "167.3680029093919\n",
      "167.3091196874047\n",
      "167.24617634062332\n",
      "167.1599998435053\n",
      "167.11647089770497\n",
      "167.0668906637499\n",
      "166.97049804662362\n",
      "166.92972490800466\n",
      "166.87000051704607\n",
      "166.7652616212203\n",
      "166.713136701394\n",
      "166.65080306544567\n",
      "166.54728443278125\n",
      "166.4958667916861\n",
      "166.4356031486793\n",
      "166.34469608017304\n",
      "166.32535214356045\n",
      "166.20010458379852\n",
      "166.1551547377321\n",
      "166.1149851140524\n",
      "166.03625063284554\n",
      "166.01548860591484\n",
      "165.97222839098393\n",
      "165.87698256577494\n",
      "165.8392012221924\n",
      "165.78816311899993\n",
      "165.68427937208006\n",
      "165.6412550644926\n",
      "165.5863525123264\n",
      "165.50161874734715\n",
      "165.46477900045429\n",
      "165.421698190138\n",
      "165.32047017002049\n",
      "165.28280218352592\n",
      "165.22579640184756\n",
      "165.1304983216007\n",
      "165.0872738532991\n",
      "165.03829108745697\n",
      "164.93176293995668\n",
      "164.8900286883587\n",
      "164.83292451106618\n",
      "164.73923155122364\n",
      "164.70341538575434\n",
      "164.6684290158371\n",
      "164.55434775890137\n",
      "164.54961865642127\n",
      "164.54102027763133\n",
      "164.4337800080245\n",
      "164.27351662118681\n",
      "164.2185164506756\n",
      "164.17391699890993\n",
      "164.07830587583894\n",
      "164.04688354510503\n",
      "163.99126435097048\n",
      "163.88000981028284\n",
      "163.82563314168672\n",
      "163.7641976181914\n",
      "163.66395318751455\n",
      "163.61320634190483\n",
      "163.55552967091893\n",
      "163.46271735555806\n",
      "163.41594712083796\n",
      "163.3607655987072\n",
      "163.25728643850152\n",
      "163.20719082258012\n",
      "163.15075925235564\n",
      "163.0500211611896\n",
      "163.02786114102082\n",
      "162.8934792141054\n",
      "162.8422876154021\n",
      "162.79235536849131\n",
      "162.72719301512208\n",
      "162.70072295739976\n",
      "162.67354998306075\n",
      "162.5690800483419\n",
      "Stability correcting HPC\n",
      "78.06678971427827\n",
      "40.71992232388131\n",
      "40.61123133013573\n",
      "40.120496055215746\n",
      "39.993235638044766\n",
      "39.94709413429447\n",
      "39.856084187889834\n",
      "39.82590436345075\n",
      "39.797804336659674\n",
      "39.76823900834981\n",
      "39.70700539764327\n",
      "39.68469313074288\n",
      "39.66174765594621\n",
      "39.63168797064806\n",
      "39.595241675524264\n",
      "39.592085303895445\n",
      "39.56440962331806\n",
      "39.532837098206194\n",
      "39.49946867086684\n",
      "39.48902659977824\n",
      "39.46598998434259\n",
      "39.46178900807759\n",
      "39.41562287702732\n",
      "39.403513611534365\n",
      "39.38233467491368\n",
      "39.3701813806194\n",
      "39.36190153888215\n",
      "39.340183850066495\n",
      "39.31537869013059\n",
      "39.30154587650386\n",
      "39.28872806640476\n",
      "39.28788705722944\n",
      "39.25227533768887\n",
      "39.237932544463135\n",
      "39.22373495357163\n",
      "39.214082465528264\n",
      "39.21261770681947\n",
      "39.19638867109356\n",
      "39.17368075780938\n",
      "39.165219107464694\n",
      "39.15941647964243\n",
      "39.13823413136608\n",
      "39.11662776722789\n",
      "39.10451161785472\n",
      "39.093301162392144\n",
      "39.08814348981583\n",
      "39.064872274459255\n",
      "39.06121075143364\n",
      "39.04648810550316\n",
      "39.04162883917238\n",
      "39.01395993637621\n",
      "39.00582745730963\n",
      "38.992093945077414\n",
      "38.98198162456937\n",
      "38.97385128600708\n",
      "38.958552947778735\n",
      "38.95572810633296\n",
      "38.94552469625991\n",
      "38.93461838961914\n",
      "38.91525026350738\n",
      "38.910774053578045\n",
      "38.897627391441574\n",
      "38.885301018736726\n",
      "38.87750802722853\n",
      "38.874112260215085\n",
      "38.857328532470675\n",
      "38.84273059541303\n",
      "38.833008725271895\n",
      "38.82466826407208\n",
      "38.82104943390364\n",
      "38.80187251097115\n",
      "38.80077246380694\n",
      "38.78872904960559\n",
      "38.78582909923251\n",
      "38.7598300716552\n",
      "38.7539179871835\n",
      "38.742014255990355\n",
      "38.73339422780452\n",
      "38.72710151961475\n",
      "38.71307687413144\n",
      "38.71130641988855\n",
      "38.70173216530087\n",
      "38.6927260371154\n",
      "38.6923808715606\n",
      "38.66532915927125\n",
      "38.66230276986593\n",
      "38.650138702083225\n",
      "38.64328924055893\n",
      "38.64064761555024\n",
      "38.62410920785177\n",
      "38.611002621034615\n",
      "38.602061425860214\n",
      "38.594267459946025\n",
      "38.58930659561743\n",
      "38.574562321963384\n",
      "38.571302653075186\n",
      "38.56143898530739\n",
      "38.5564005996324\n",
      "38.53794513047938\n",
      "38.53180556682521\n",
      "38.52166056923965\n",
      "38.51354775292175\n",
      "38.50698832551905\n",
      "38.50446119025685\n",
      "38.48837411299431\n",
      "38.47937140564135\n",
      "38.47148660880657\n",
      "38.46535519444058\n",
      "38.45293856187914\n",
      "38.44713465594013\n",
      "38.43808449953869\n",
      "38.430892369103354\n",
      "38.42672421023971\n",
      "38.41382386824753\n",
      "38.40417907421779\n",
      "38.40195833176536\n",
      "38.39609451032617\n",
      "38.380346591256014\n",
      "38.378557867152836\n",
      "38.3679079663437\n",
      "38.358958711044494\n",
      "38.35354900317888\n",
      "38.33799726304985\n",
      "38.331973450075736\n",
      "38.322812526691386\n",
      "38.31518108894576\n",
      "38.308726416852636\n",
      "38.30512081205984\n",
      "38.29186216568627\n",
      "38.28353220613093\n",
      "38.27607315586156\n",
      "38.26980360504094\n",
      "38.26812799351153\n",
      "38.256412970869036\n",
      "38.24703812138898\n",
      "38.2402219799045\n",
      "38.23660678119716\n",
      "38.22345813999224\n",
      "38.214095085695625\n",
      "38.21170262438232\n",
      "38.205728816093846\n",
      "38.19101713177589\n",
      "38.187870976164746\n",
      "38.177767863188066\n",
      "38.16964954582082\n",
      "38.163484004387286\n",
      "38.16151993849373\n",
      "38.1482587665073\n",
      "38.13843230176814\n",
      "38.13091755866705\n",
      "38.12480573726303\n",
      "38.12130943052007\n",
      "38.10809180310437\n",
      "38.10725108562536\n",
      "38.09888379956261\n",
      "38.096030576331636\n",
      "38.07632725425608\n",
      "38.072165561691705\n",
      "38.06275763692304\n",
      "38.0556472935366\n",
      "38.05096788581444\n",
      "38.039096356783816\n",
      "38.037102865368695\n",
      "38.02843815277265\n",
      "38.02180209522905\n",
      "38.01930561897655\n",
      "38.00139738361569\n",
      "37.998602571252874\n",
      "37.98921426249224\n",
      "37.982984598755664\n",
      "37.98077923217891\n",
      "37.96664124808165\n",
      "37.95681671238293\n",
      "37.956614426642496\n",
      "37.950942133192775\n",
      "37.93476408462762\n",
      "37.93347595107127\n",
      "37.922955742545525\n",
      "37.91460038368987\n",
      "37.90900134998038\n",
      "37.90836646031284\n",
      "37.89407617535365\n",
      "37.88353193956058\n",
      "37.876060427622214\n",
      "37.87035679722744\n",
      "37.8675463012125\n",
      "37.853472124614015\n",
      "37.85325167642882\n",
      "37.84477406567668\n",
      "37.84196987612037\n",
      "37.82211884909255\n",
      "37.81803251675028\n",
      "37.808801195138116\n",
      "37.801702943266946\n",
      "37.797069599746756\n",
      "37.79684782552521\n",
      "37.7801389118763\n",
      "37.77170957673337\n",
      "37.76507995324781\n",
      "37.760065953540995\n",
      "37.748060887489686\n",
      "Stability correcting OFC\n",
      "138.6675658257164\n",
      "138.5166567254453\n",
      "138.46542087915054\n",
      "138.44732965769555\n",
      "138.33461150107627\n",
      "138.28541100477597\n",
      "138.23908421583502\n",
      "138.15035111596663\n",
      "138.1215704316815\n",
      "138.09085508207463\n",
      "138.0213057178945\n",
      "138.003446379251\n",
      "137.9804414379865\n",
      "137.8957103297403\n",
      "137.87451953146422\n",
      "137.84677290993997\n",
      "137.77786827133713\n",
      "137.7642661514537\n",
      "137.74677417698462\n",
      "137.66875383593094\n",
      "137.6563688092436\n",
      "137.63562890916967\n",
      "137.5645136101182\n",
      "137.5549092489179\n",
      "137.5389482153857\n",
      "137.4608884597178\n",
      "137.44987475791416\n",
      "137.43071347122498\n",
      "137.35916097198754\n",
      "137.3501865716025\n",
      "137.33359756662705\n",
      "137.2594481536129\n",
      "137.24953188022428\n",
      "137.23120507467178\n",
      "137.16082438011588\n",
      "137.15189763465978\n",
      "137.13486999316575\n",
      "137.064067404874\n",
      "137.05502001521847\n",
      "137.03739841993615\n",
      "136.9680857910851\n",
      "136.9593321518669\n",
      "136.9421682382682\n",
      "136.8727727258487\n",
      "136.86396560130493\n",
      "136.8465857383461\n",
      "136.77765210773157\n",
      "136.7688662948524\n",
      "136.75156116925658\n",
      "136.68244569523628\n",
      "136.67348877490028\n",
      "136.65601848779585\n",
      "136.5868088018761\n",
      "136.5776787832545\n",
      "136.56005216741337\n",
      "136.49058478114918\n",
      "136.48118193894572\n",
      "136.46339072385817\n",
      "136.39345897211712\n",
      "136.38373013275324\n",
      "136.36560584245464\n",
      "136.29535989793752\n",
      "136.28527129735855\n",
      "136.26698300951793\n",
      "136.19597883971358\n",
      "136.1854445600262\n",
      "136.166676331917\n",
      "136.09532445287198\n",
      "136.08436337448188\n",
      "136.06544388739604\n",
      "135.99306950592805\n",
      "135.98156509249105\n",
      "135.96205293943024\n",
      "135.88930362241805\n",
      "135.87734910621427\n",
      "135.8577330400233\n",
      "135.7837316760823\n",
      "135.77122836656088\n",
      "135.75109338514778\n",
      "135.67662605458983\n",
      "135.66401976001364\n",
      "135.64433395927574\n",
      "135.5686252848357\n",
      "135.55737160901862\n",
      "135.54104570622317\n",
      "135.46542441889693\n",
      "135.3895174690737\n",
      "135.36025129166495\n",
      "135.34543949112359\n",
      "135.31486762048553\n",
      "135.26629695677312\n",
      "135.25334335933204\n",
      "135.23993985551255\n",
      "135.19336858907624\n",
      "135.13897522058116\n",
      "135.11207881450312\n",
      "135.08694530799102\n",
      "135.05364341231672\n",
      "135.0382479474342\n",
      "135.02181359505795\n",
      "134.98587363865303\n",
      "134.94230433215486\n",
      "134.91803858136737\n",
      "134.89325448919382\n",
      "134.86262992447783\n",
      "134.84437469196493\n",
      "134.82568542756775\n",
      "134.79341067372224\n",
      "134.78969425781324\n",
      "134.78359396496154\n",
      "134.740748541516\n",
      "134.68387652264656\n",
      "134.65981764037457\n",
      "134.63733652248135\n",
      "134.6057909106106\n",
      "134.59565751404585\n",
      "134.58469707447793\n",
      "134.54789416792835\n",
      "134.5027861218757\n",
      "134.48091018651007\n",
      "134.45886229766776\n",
      "134.42887169670195\n",
      "134.41526564351656\n",
      "134.4001697445709\n",
      "134.3686406883051\n",
      "134.33088604281124\n",
      "134.3097425264824\n",
      "134.28763510547932\n",
      "134.26057985880513\n",
      "134.24389648278083\n",
      "134.22668096759188\n",
      "134.19853189344113\n",
      "134.19435532209366\n",
      "134.18858723379086\n",
      "134.15284166949485\n",
      "134.10345654241553\n",
      "134.0836742286755\n",
      "134.06369627307362\n",
      "134.03429886508448\n",
      "134.02590243044696\n",
      "134.01611846807967\n",
      "133.98233218178135\n",
      "133.94111783368\n",
      "133.92174273770001\n",
      "133.90172335465513\n",
      "133.87429079496133\n",
      "133.86204921233286\n",
      "133.84818078203796\n",
      "133.81968723664994\n",
      "133.7855921637366\n",
      "133.76661796218005\n",
      "133.7464223650095\n",
      "133.72172315862994\n",
      "133.70643274939565\n",
      "133.69052674983737\n",
      "133.66497347688644\n",
      "133.661011079307\n",
      "133.65573792877203\n",
      "133.6240895554745\n",
      "133.57927463721478\n",
      "133.56217273866557\n",
      "133.54395425821195\n",
      "133.51628293415925\n",
      "133.5092199285015\n",
      "133.50047828535787\n",
      "133.46889291099637\n",
      "133.43032691285114\n",
      "133.4127805398651\n",
      "133.39427153632386\n",
      "133.36862312133525\n",
      "133.35755076288868\n",
      "133.3447289920181\n",
      "133.3182973462387\n",
      "133.28660427191366\n",
      "133.26921199827362\n",
      "133.25043932744703\n",
      "133.2274218150773\n",
      "133.2132800559339\n",
      "133.1984519494198\n",
      "133.17471682344095\n",
      "133.17116136861117\n",
      "133.1664091530646\n",
      "133.13746241233466\n",
      "133.0957169920654\n",
      "133.08048355326463\n",
      "133.06358107865609\n",
      "133.03726579148224\n",
      "133.0312701865459\n",
      "133.02341163177633\n",
      "132.9934712538517\n",
      "132.9568041013695\n",
      "132.94066467388743\n",
      "132.92331956493675\n",
      "132.89899241196622\n",
      "132.88889838581935\n",
      "132.87695136819246\n",
      "132.8520218957425\n",
      "132.82202758310396\n",
      "132.80585132250008\n",
      "132.78817947625953\n",
      "132.76641847611228\n",
      "Stability correcting joint\n",
      "261.63466176218554\n",
      "261.54567095919197\n",
      "261.45211796409797\n",
      "261.39761950238795\n",
      "261.37457918539207\n",
      "261.343687049165\n",
      "261.3375355714488\n",
      "261.32537067841116\n",
      "261.30488165582034\n",
      "261.284756234424\n",
      "261.273208092118\n",
      "261.2604668452539\n",
      "261.25391981273367\n",
      "261.25015404641084\n",
      "261.23954767842963\n",
      "261.2191263668751\n",
      "261.21910530212836\n",
      "261.21314999545183\n",
      "261.19230909865973\n",
      "261.1664680953425\n",
      "261.1573860119063\n",
      "261.1441253877089\n",
      "261.12759035425665\n",
      "261.11899140594716\n",
      "261.1084584263078\n",
      "261.0933639105241\n",
      "261.0893964070228\n",
      "261.08393004516216\n",
      "261.06828218811785\n",
      "261.04632080776855\n",
      "261.0389576407292\n",
      "261.02719137033984\n",
      "261.01005333206723\n",
      "261.00484405354456\n",
      "260.996690138705\n",
      "260.97982798652964\n",
      "260.9602356322854\n",
      "260.9503420535199\n",
      "260.93806732288596\n",
      "260.93795243082087\n",
      "260.91183010004545\n",
      "260.9006180935937\n",
      "260.8874262313683\n",
      "260.8793231520991\n",
      "260.87116986563325\n",
      "260.8577166521494\n",
      "260.84100108528605\n",
      "260.8319745212287\n",
      "260.82076844937177\n",
      "260.8062374305292\n",
      "260.79898681978744\n",
      "260.79024557193\n",
      "260.7756103948476\n",
      "260.7587312967037\n",
      "260.74868053135594\n",
      "260.73692107571975\n",
      "260.7349998756049\n",
      "260.711625294003\n",
      "260.70065738430833\n",
      "260.70018924400625\n",
      "260.67742646603864\n",
      "260.6682090204743\n",
      "260.6554595342638\n",
      "260.64054238916844\n",
      "260.6307994958482\n",
      "260.6197390207873\n",
      "260.6064054979067\n",
      "260.5981405681573\n",
      "260.5891411434808\n",
      "260.57553665910274\n",
      "260.57510449077535\n",
      "260.57441283874346\n",
      "260.5600251812199\n",
      "260.53408825355064\n",
      "260.5312722081512\n",
      "260.5207969652709\n",
      "260.49986556507184\n",
      "260.4790397657392\n",
      "260.4681846379297\n",
      "260.45580843392304\n",
      "260.44951402826837\n",
      "260.4450027934202\n",
      "260.43374565772103\n",
      "260.41446129850857\n",
      "260.4116470026266\n",
      "260.4038325597479\n",
      "260.38528057740484\n",
      "260.36408692873323\n",
      "260.35436777579235\n",
      "260.3420439093909\n",
      "260.3411781830424\n",
      "260.31616395965415\n",
      "260.30508335649284\n",
      "260.3033738525091\n",
      "260.28155904202094\n",
      "260.2718296037647\n",
      "260.2593304875748\n",
      "260.2563890405935\n",
      "260.254936941029\n",
      "260.24285363803153\n",
      "260.21996274785164\n",
      "260.2187374957141\n",
      "260.21045452185416\n",
      "260.1893849357418\n",
      "260.16679105362516\n",
      "260.1567164657847\n",
      "260.1441884144188\n",
      "260.1418602001374\n",
      "260.1183385251948\n",
      "260.1071680072603\n",
      "260.103198213884\n",
      "260.0834586630365\n",
      "260.0732992682413\n",
      "260.06118541929123\n",
      "260.0557198112356\n",
      "260.0515121916694\n",
      "260.039801448599\n",
      "260.0201775516081\n",
      "260.0165357359625\n",
      "260.00780692432414\n",
      "259.98966712141095\n",
      "259.97005338885816\n",
      "259.95993101622304\n",
      "259.94790491931644\n",
      "259.9440054075949\n",
      "259.94264366767845\n",
      "259.93240818530444\n",
      "259.91053875530537\n",
      "259.889695218051\n",
      "259.87888449586933\n",
      "259.87849817111214\n",
      "259.85699144289663\n",
      "259.8492403864379\n",
      "259.8373455439624\n",
      "259.8217012946786\n",
      "259.81433058267424\n",
      "259.8047259879617\n",
      "259.79004990601874\n",
      "259.7874433599654\n",
      "259.78287175574593\n",
      "259.7673724376502\n",
      "259.74542618727924\n",
      "259.7385976579516\n",
      "259.7272442865058\n",
      "259.7107126228364\n",
      "259.7057217529667\n",
      "259.69780872931545\n",
      "259.68174368735737\n",
      "259.66335158958594\n",
      "259.65384222610504\n",
      "259.6422233805749\n",
      "259.6412947892012\n",
      "259.6174380824795\n",
      "259.6067581860691\n",
      "259.6062901569716\n",
      "259.58407621602174\n",
      "259.5749744900075\n",
      "259.5626105810915\n",
      "259.56162004992507\n",
      "259.53686119172534\n",
      "259.5258480459418\n",
      "259.521546967293\n",
      "259.5023991928015\n",
      "259.49213460033593\n",
      "259.4803460871953\n",
      "259.47331596502715\n",
      "259.4671133794878\n",
      "259.4552527608495\n",
      "259.43837010441644\n",
      "259.43209333143267\n",
      "259.4226146564302\n",
      "259.4070881928485\n",
      "259.40526372855317\n",
      "259.4005464633392\n",
      "259.3841826068169\n",
      "259.36191433076885\n",
      "259.35463186968906\n",
      "259.34307275237717\n",
      "259.3271143868976\n",
      "259.32109094647706\n",
      "259.3125444316227\n",
      "259.2973518649129\n",
      "259.28063472341137\n",
      "259.2708184437389\n",
      "259.2594982731247\n",
      "259.2560071407278\n",
      "259.25598981180104\n",
      "259.2470530933533\n",
      "259.2253773144639\n",
      "259.20344005184677\n",
      "259.19317837739726\n",
      "259.1810606152927\n",
      "259.1755349965926\n",
      "259.1712337506098\n",
      "259.1598231624387\n",
      "259.14087169713434\n",
      "259.13730065361364\n",
      "259.1289428986418\n",
      "259.1114109275491\n",
      "259.09226098774616\n",
      "259.08249363676333\n",
      "Stability correcting HPC\n",
      "62.61603862752597\n",
      "62.60510295219984\n",
      "62.568829734147805\n",
      "62.56501732611342\n",
      "62.5565168467103\n",
      "62.535144715411455\n",
      "62.511657969623165\n",
      "62.50633882087152\n",
      "62.50187536237117\n",
      "62.49142026243593\n",
      "62.475726663115225\n",
      "62.460083780882265\n",
      "62.454787900618626\n",
      "62.4502041659298\n",
      "62.443617947942776\n",
      "62.43400725094553\n",
      "62.42453615647683\n",
      "62.42125561823403\n",
      "62.41865536733358\n",
      "62.414181548961615\n",
      "62.407707047272254\n",
      "62.40125320370802\n",
      "62.398893838343504\n",
      "62.39640786668577\n",
      "62.39293211558053\n",
      "62.3889643662975\n",
      "62.38769803776893\n",
      "62.38634686246648\n",
      "62.38386566269448\n",
      "62.38056834172902\n",
      "62.38006501717782\n",
      "62.37917456866129\n",
      "62.376905001434515\n",
      "62.373856887296974\n",
      "62.37332190421975\n",
      "62.37221542877975\n",
      "62.37008631679676\n",
      "62.36773369164633\n",
      "62.36673408416597\n",
      "62.36544654160788\n",
      "62.363874549024274\n",
      "62.36308428051857\n",
      "62.362178669044944\n",
      "62.3607414610967\n",
      "62.35910941225625\n",
      "62.358176841690224\n",
      "62.35708034313234\n",
      "62.35575291840788\n",
      "62.354978198238655\n",
      "62.35412297925833\n",
      "Stability correcting OFC\n",
      "193.83153027867183\n",
      "193.80154541367816\n",
      "193.79159534627323\n",
      "193.78071520360177\n",
      "193.7682352183641\n",
      "193.76251473063934\n",
      "193.756047442868\n",
      "193.74230043399015\n",
      "193.72670367242975\n",
      "193.71822432418685\n",
      "193.7081269082409\n",
      "193.7070928541587\n",
      "193.6861966762641\n",
      "193.67650131268616\n",
      "193.67428994919223\n",
      "193.65612167032967\n",
      "193.64730694677573\n",
      "193.6369501310394\n",
      "193.63129271562502\n",
      "193.62563195789966\n",
      "193.61488471631938\n",
      "193.60026013869475\n",
      "193.59359529617436\n",
      "193.58455878481487\n",
      "193.5726254917895\n",
      "193.56681346130983\n",
      "193.55951701388804\n",
      "193.5474223126583\n",
      "193.54554928711374\n",
      "193.54126039838388\n",
      "193.52801724870935\n",
      "193.51035764846017\n",
      "193.5035867317499\n",
      "193.49399744852693\n",
      "193.48224826980888\n",
      "193.47535619295374\n",
      "193.46722138861014\n",
      "193.45640519431763\n",
      "193.45097034601417\n",
      "193.44425371782472\n",
      "193.4333730861476\n",
      "193.43303561688148\n",
      "193.43146870076862\n",
      "193.41765629564685\n",
      "193.39897407829847\n",
      "193.39339799686113\n",
      "193.38430887321212\n",
      "193.3710630210704\n",
      "193.3656848965327\n",
      "193.35782826038647\n",
      "193.346250472945\n",
      "193.34265923416368\n",
      "193.33718697829673\n",
      "193.32457458937338\n",
      "193.31071048726116\n",
      "193.30336918436416\n",
      "193.29465400655266\n",
      "193.29221780712408\n",
      "193.2914291621909\n",
      "193.28204632779497\n",
      "193.26552348011862\n",
      "193.26343349905397\n",
      "193.2567659519887\n",
      "193.24099879420254\n",
      "193.22624252249173\n",
      "193.21828388025583\n",
      "193.21756767973548\n",
      "193.20177247793268\n",
      "193.19529683282872\n",
      "193.18624936768003\n",
      "193.17559311230454\n",
      "193.16875208806778\n",
      "193.16096768578552\n",
      "193.15128119579919\n",
      "193.14533024420717\n",
      "193.1385384877259\n",
      "193.12889225752247\n",
      "193.12662030490318\n",
      "193.1237582994864\n",
      "193.11233374595267\n",
      "193.09709124985326\n",
      "193.09175590973516\n",
      "193.08362279499585\n",
      "193.07179110631245\n",
      "193.0669116377189\n",
      "193.05983897617256\n",
      "193.04898446019635\n",
      "193.04648921825978\n",
      "193.0422073047451\n",
      "193.0297997856015\n",
      "193.01544593726862\n",
      "193.00887035913712\n",
      "193.0004557924722\n",
      "193.0003519928361\n",
      "192.98220855934116\n",
      "192.9742088406935\n",
      "192.9721705466781\n",
      "192.95726623011984\n",
      "192.9498731682741\n",
      "192.94130759851666\n",
      "192.93601916410677\n",
      "192.9307236599944\n",
      "192.92187437153484\n",
      "192.91030752010386\n",
      "192.90434314095273\n",
      "192.89669164023852\n",
      "192.88695362471063\n",
      "192.88167115008446\n",
      "192.87538890310887\n",
      "192.86534337282316\n",
      "192.86364297169712\n",
      "192.8602266555118\n",
      "192.8493110862498\n",
      "192.83382640839403\n",
      "192.82841290063467\n",
      "192.82007674282883\n",
      "192.80924160047576\n",
      "192.80381790270482\n",
      "192.79690063311017\n",
      "192.78655115391123\n",
      "192.78305908627598\n",
      "192.77775342189904\n",
      "192.76711696043296\n",
      "192.75422491653916\n",
      "192.7476324262837\n",
      "192.73947110851628\n",
      "192.73800716124444\n",
      "192.73789075484163\n",
      "192.73033097116127\n",
      "192.71303343386853\n",
      "192.7125171619316\n",
      "192.7058939245741\n",
      "192.6906283560841\n",
      "192.67487806383556\n",
      "192.66740177880064\n",
      "192.65874140501478\n",
      "192.65370056018457\n",
      "192.64871298672693\n",
      "192.63977978108284\n",
      "192.62754895453853\n",
      "192.62187358866777\n",
      "192.6141363467109\n",
      "192.60383044190408\n",
      "192.59899897205628\n",
      "192.59286695505602\n",
      "192.58206366245253\n",
      "192.58132834482848\n",
      "192.57821328045054\n",
      "192.56625597197393\n",
      "192.54915409872433\n",
      "192.54351157586328\n",
      "192.53466153732145\n",
      "192.52334067982528\n",
      "192.51747976880566\n",
      "192.51010280417512\n",
      "192.49952095605047\n",
      "192.49516056565963\n",
      "192.48908713248696\n",
      "192.4783936869662\n",
      "192.4660022126178\n",
      "192.4588181241213\n",
      "192.45044261241608\n",
      "192.44721158174303\n",
      "192.44524017166037\n",
      "192.4374230881482\n",
      "192.42179854618942\n",
      "192.41992414268643\n",
      "192.41312094474986\n",
      "192.39899680762008\n",
      "192.3841327499839\n",
      "192.3764203254142\n",
      "192.37641428621612\n",
      "192.36061061269638\n",
      "192.35439802735965\n",
      "192.34549296319076\n",
      "192.333923806768\n",
      "192.327464587029\n",
      "192.3194522311483\n",
      "192.30937596101177\n",
      "192.30373381772492\n",
      "192.29718188084027\n",
      "192.2865419221126\n",
      "192.2849673377443\n",
      "192.28150242924718\n",
      "192.26982522425743\n",
      "192.2528290273534\n",
      "192.2470150371498\n",
      "192.2379407847327\n",
      "192.22621273167096\n",
      "192.22024090172002\n",
      "192.212671300078\n",
      "192.20145844737596\n",
      "192.19726888682118\n",
      "192.1910945254628\n",
      "192.1796704035962\n",
      "192.1661778691088\n",
      "192.15870367653764\n",
      "192.14981979964182\n",
      "192.14675439421566\n",
      "192.14485143083922\n",
      "192.13641097248507\n",
      "Stability correcting joint\n",
      "382.81780860007393\n",
      "380.4524823631954\n",
      "379.4578400215913\n",
      "378.9649771292467\n",
      "377.6430378637673\n",
      "376.741149757405\n",
      "376.249392337247\n",
      "375.8585777417868\n",
      "375.5613108067527\n",
      "375.52430936428186\n",
      "375.5167364300391\n",
      "374.3984430522309\n",
      "373.31091176252926\n",
      "371.9334288118812\n",
      "370.5611415839545\n",
      "369.7487549463734\n",
      "368.9508593492447\n",
      "368.1210839243499\n",
      "367.4712356705483\n",
      "366.5392292561917\n",
      "366.32152633051174\n",
      "365.0189357894036\n",
      "363.7929422748285\n",
      "363.4415529751142\n",
      "363.27872105016235\n",
      "361.946317643639\n",
      "361.4491882439733\n",
      "361.10366422798813\n",
      "359.80787514121903\n",
      "359.4686860470536\n",
      "358.1994238619551\n",
      "358.153875671924\n",
      "358.0429453007361\n",
      "357.028222862639\n",
      "355.5642262789823\n",
      "354.0882485561168\n",
      "353.5630176965715\n",
      "353.2215336286145\n",
      "352.97391037884717\n",
      "352.32154785224014\n",
      "351.34687886034226\n",
      "350.93488659268974\n",
      "349.57382516035506\n",
      "348.9161064094161\n",
      "346.84823853861303\n",
      "345.09739456706404\n",
      "344.0532928341048\n",
      "343.07059631096274\n",
      "342.09614371994456\n",
      "340.8859249098973\n",
      "340.07027783082196\n",
      "339.2011325564253\n",
      "339.0814345796604\n",
      "338.2744690373901\n",
      "336.51625800984755\n",
      "335.70852503850483\n",
      "334.3001273194865\n",
      "333.46400001895046\n",
      "332.75754737226475\n",
      "331.5360104637994\n",
      "330.57802073120604\n",
      "330.0174941012964\n",
      "329.47332899602617\n",
      "328.50891874596726\n",
      "327.8651004017376\n",
      "327.4248446099625\n",
      "327.08049239259117\n",
      "325.7062835079875\n",
      "324.7690142034408\n",
      "323.7028981615362\n",
      "323.2171430218815\n",
      "321.86192859707285\n",
      "320.3547784895957\n",
      "319.11922263377295\n",
      "318.6940486061206\n",
      "318.00094098098447\n",
      "317.7293969190362\n",
      "317.62911835171445\n",
      "317.21475978585426\n",
      "316.3547492132748\n",
      "314.3940202673849\n",
      "314.0762784289297\n",
      "312.460765653571\n",
      "312.22412112304744\n",
      "311.8080121972818\n",
      "310.8165196442924\n",
      "308.2185238195421\n",
      "306.72072732941314\n",
      "304.579782730105\n",
      "303.16366606014776\n",
      "302.4955510461712\n",
      "300.74538516442584\n",
      "298.9071781872254\n",
      "298.6682722417905\n",
      "298.64738531165403\n",
      "297.2331337164268\n",
      "294.5719450150423\n",
      "293.47079164616264\n",
      "291.24217821215814\n",
      "289.9146301399022\n",
      "287.5207656663826\n",
      "286.7346521124178\n",
      "285.7851754958994\n",
      "283.00197538072774\n",
      "281.55335459220476\n",
      "278.7827452315968\n",
      "278.49312401524327\n",
      "278.0800382559418\n",
      "277.13728472270844\n",
      "273.96581491900696\n",
      "272.94125806933886\n",
      "271.77122760260903\n",
      "270.61869738426975\n",
      "269.4190474847622\n",
      "268.6536951094083\n",
      "266.90686404397314\n",
      "266.10843671857907\n",
      "265.3008722681864\n",
      "264.80780695140015\n",
      "264.4241594035848\n",
      "263.0995013447285\n",
      "262.17068176416694\n",
      "261.23590536885797\n",
      "259.2577430374792\n",
      "259.02528673698305\n",
      "257.7263677855987\n",
      "256.7955159684796\n",
      "256.23491781938355\n",
      "255.45483266518937\n",
      "255.17377752667647\n",
      "253.87084901599667\n",
      "253.15284804008007\n",
      "252.49544397941204\n",
      "250.38516957754604\n",
      "250.26212575266516\n",
      "249.98525040920052\n",
      "249.55500793721194\n",
      "247.92883230345538\n",
      "246.74979579403686\n",
      "246.3667880784534\n",
      "245.9059707937991\n",
      "244.25787876585468\n",
      "243.60557074694347\n",
      "242.92025549640675\n",
      "242.72247525969155\n",
      "241.73151704405777\n",
      "240.38726056328875\n",
      "240.14818060426308\n",
      "239.01285259810425\n",
      "238.59811617406623\n",
      "238.12993985702764\n",
      "237.68134190573426\n",
      "236.08957944562889\n",
      "235.94082795185602\n",
      "234.02709147472584\n",
      "233.62582164095608\n",
      "232.334920520183\n",
      "231.37865800149996\n",
      "230.99243182662568\n",
      "230.25048534842637\n",
      "229.54481703179638\n",
      "229.2178778747567\n",
      "228.26420940046765\n",
      "226.68303902083576\n",
      "226.39620703696934\n",
      "225.5869928082354\n",
      "225.0772839404052\n",
      "224.60908176068307\n",
      "224.0836694042279\n",
      "223.31035874251702\n",
      "222.77128886997616\n",
      "222.2752805978715\n",
      "Stability correcting HPC\n",
      "76.37716712425096\n",
      "76.36926553285106\n",
      "76.36908960420925\n",
      "76.366150848294\n",
      "76.36363580111913\n",
      "76.36232242147837\n",
      "76.36084546566042\n",
      "76.36003819236669\n",
      "76.35935485412827\n",
      "76.35797596624158\n",
      "76.35592875924144\n",
      "76.35543076451076\n",
      "76.35449173090659\n",
      "76.35264882548948\n",
      "76.35061054839588\n",
      "76.34959199871336\n",
      "76.3483321548957\n",
      "76.34813174004115\n",
      "76.34568323926084\n",
      "76.3445565342912\n",
      "76.34428118905512\n",
      "76.34215742376145\n",
      "76.34116769642893\n",
      "76.33992997740864\n",
      "76.33956885151669\n",
      "Stability correcting OFC\n",
      "258.7116717942778\n",
      "251.7849772611751\n",
      "Stability correcting joint\n",
      "538.3430742787006\n",
      "534.8957970234126\n",
      "534.1463802559565\n",
      "532.8983778775823\n",
      "Stability correcting HPC\n",
      "17.76638727131741\n",
      "17.558654385794327\n",
      "17.54176070726795\n",
      "17.349216850692354\n",
      "17.345166508902192\n",
      "17.163470426957147\n",
      "17.159677132214675\n",
      "16.953048718136223\n",
      "16.94006537176509\n",
      "16.70121447642927\n",
      "16.681955388583898\n",
      "16.37566425103919\n",
      "16.306415842413593\n",
      "16.017628192715694\n",
      "15.991023697896678\n",
      "15.779571082125456\n",
      "15.692918393580614\n",
      "15.07869568963452\n",
      "14.772405253448722\n",
      "14.746273722693665\n",
      "13.986635487164609\n",
      "13.457596178695649\n",
      "13.433050206460791\n",
      "12.940500368994924\n",
      "12.584641105562458\n",
      "11.523930657308586\n",
      "11.171423634197767\n",
      "10.866487429141502\n",
      "10.25727366538991\n",
      "10.225423402490167\n",
      "10.12866895011263\n",
      "10.019999087888957\n",
      "9.54432754908705\n",
      "8.92118566557316\n",
      "8.78209671608097\n",
      "8.51439421839514\n",
      "8.459695731333333\n",
      "7.991284638437526\n",
      "7.887378128908209\n",
      "7.819645087333838\n",
      "7.694907080877919\n",
      "7.351312084175217\n",
      "7.349497345754493\n",
      "7.255781988920453\n",
      "6.963853757643326\n",
      "6.850841662288184\n",
      "6.732726385488283\n",
      "6.5122846298100265\n",
      "6.427102790185079\n",
      "6.395416940122041\n",
      "6.227979448696141\n",
      "6.046460048862731\n",
      "5.94152718965847\n",
      "5.870194190366627\n",
      "5.864866221254322\n",
      "5.708648479807493\n",
      "5.583026996586696\n",
      "5.508539933143819\n",
      "5.458624493798533\n",
      "5.338883622976526\n",
      "5.320263966791374\n",
      "5.284859899729605\n",
      "5.21225166839948\n",
      "5.050189336794167\n",
      "4.992047772358392\n",
      "4.927979436463654\n",
      "4.857676725444546\n",
      "4.828280265956739\n",
      "4.820680732354373\n",
      "4.732961700493252\n",
      "4.64290906732489\n",
      "4.6020148263795955\n",
      "4.5662507207029215\n",
      "4.487204782784714\n",
      "4.476953222989372\n",
      "4.452718036150814\n",
      "4.399847801162543\n",
      "4.297863474454039\n",
      "4.265197269472537\n",
      "4.22179030870192\n",
      "4.170671511616182\n",
      "4.1531774025190416\n",
      "4.144440116896253\n",
      "4.083010037652885\n",
      "4.019224786200772\n",
      "3.9924082775547105\n",
      "3.9649170477380236\n",
      "3.9105892519503396\n",
      "3.9026761892186497\n",
      "3.8843624248620316\n",
      "3.846785374257925\n",
      "3.777375447748384\n",
      "3.7570057518322537\n",
      "3.7258100372972147\n",
      "3.687403340381172\n",
      "3.677216818144478\n",
      "3.6715082355085182\n",
      "3.6248959473221563\n",
      "3.575783987292113\n",
      "3.5574326341569886\n",
      "3.536643253763516\n",
      "3.4946546578450697\n",
      "3.490235287694166\n",
      "3.476399126252396\n",
      "3.447512229624261\n",
      "3.3939948594670097\n",
      "3.380012488014997\n",
      "3.356052377468348\n",
      "3.325839194941911\n",
      "3.3196291997459153\n",
      "3.3160625899250213\n",
      "3.27938662351155\n",
      "3.2401102002402573\n",
      "3.227317533314769\n",
      "3.211501599871712\n",
      "3.1773212645957942\n",
      "3.176334603674394\n",
      "3.1664630135003393\n",
      "3.1434628649957665\n",
      "3.0984206378921195\n",
      "3.089089127891246\n",
      "3.069943617642093\n",
      "3.0448240295195017\n",
      "3.0422694094315603\n",
      "3.041487891910999\n",
      "3.010325581677161\n",
      "2.976518375172487\n",
      "2.9676589138454696\n",
      "2.955397478386988\n",
      "2.925806802973315\n",
      "2.9007954894860535\n",
      "2.885985252639438\n",
      "2.870374646833704\n",
      "2.8648409653890092\n",
      "2.8384267401013608\n",
      "2.8242315141959278\n",
      "2.8090639724003457\n",
      "2.799891107715483\n",
      "2.7938706118482792\n",
      "2.778744542177033\n",
      "2.7591233228811847\n",
      "2.7552090715242574\n",
      "2.7505028116675474\n",
      "2.7284013228120663\n",
      "2.7053146639619117\n",
      "2.696737863980388\n",
      "2.6856617616030927\n",
      "2.6668000293307568\n",
      "2.663114248880427\n",
      "2.6556044361902083\n",
      "2.641579299644713\n",
      "2.6186738062631743\n",
      "2.6122374214353137\n",
      "2.6009734601255294\n",
      "2.586002214448585\n",
      "2.584013065972257\n",
      "2.5827166098483487\n",
      "2.5654161910859785\n",
      "2.544688184471629\n",
      "2.540757700657725\n",
      "2.5338478027860787\n",
      "2.5145684948858253\n",
      "2.497078073681774\n",
      "2.488186572681962\n",
      "2.478010214737649\n",
      "2.4776564807254084\n",
      "2.4569892595882226\n",
      "2.447935291216994\n",
      "2.4374571495658603\n",
      "2.433214822320778\n",
      "2.431018065965163\n",
      "2.4204479077556953\n",
      "2.40555765821741\n",
      "2.404973983688263\n",
      "2.402850560835694\n",
      "2.386205083124324\n",
      "2.3684661027555527\n",
      "2.3633630916063786\n",
      "2.355669493732562\n",
      "2.3418106988830454\n",
      "2.340180563435765\n",
      "2.3352670546514003\n",
      "2.3249619262321026\n",
      "2.3083580485301853\n",
      "2.304193398235282\n",
      "2.2963137744665287\n",
      "2.2855041480387968\n",
      "2.2843579835153807\n",
      "2.2831666501136665\n",
      "2.271179416793255\n",
      "2.2564276429888244\n",
      "2.2538869943500015\n",
      "2.2488492164758878\n",
      "2.235510881105665\n",
      "2.2230513574244304\n",
      "2.216875950305212\n",
      "2.2096158767094867\n",
      "2.2094814228681994\n",
      "2.194551399223168\n",
      "2.188129530562057\n",
      "2.1806126100638115\n",
      "Stability correcting OFC\n",
      "23.19994939685519\n",
      "22.788822028921462\n",
      "22.45071162865533\n",
      "22.326892940861253\n",
      "22.185457125552198\n",
      "21.457623958783913\n",
      "21.20464055113998\n",
      "21.1020640314753\n",
      "20.66678779335501\n",
      "20.35175488941233\n",
      "20.047751677643483\n",
      "19.526007514058282\n",
      "18.99443660495975\n",
      "18.576234639474123\n",
      "18.355620012867934\n",
      "17.606712761515052\n",
      "16.701999061577045\n",
      "16.69217253858622\n",
      "15.453173575890174\n",
      "14.731717183524971\n",
      "13.332500335874661\n",
      "11.68132359407011\n",
      "10.268757354575405\n",
      "9.077661852012065\n",
      "8.893055224116154\n",
      "7.796121026282587\n",
      "7.666534162826441\n",
      "6.706095676363138\n",
      "6.352456534669607\n",
      "5.501299978171012\n",
      "5.264178854332049\n",
      "4.807235970610791\n",
      "3.8604389528989693\n",
      "3.798980231225831\n",
      "3.574669486573929\n",
      "3.479523430542185\n",
      "3.211182769389905\n",
      "3.1951533133001218\n",
      "3.057992530300028\n",
      "2.9695208217772695\n",
      "2.8233648095631336\n",
      "2.80387628585508\n",
      "2.702612738983089\n",
      "2.617673617574929\n",
      "2.5953381678265086\n",
      "2.5543823020487384\n",
      "2.4367954833127676\n",
      "2.41592624373348\n",
      "2.3841938715085553\n",
      "2.326212593225938\n",
      "2.211924646515199\n",
      "2.174612114024569\n",
      "2.1401931490607655\n",
      "2.08256906548581\n",
      "2.0301841417346624\n",
      "2.025487102633825\n",
      "2.0037980764137693\n",
      "1.932901789436374\n",
      "1.8826583737849212\n",
      "1.87397713023555\n",
      "1.8565643624516492\n",
      "1.85260729588219\n",
      "1.7735834147173237\n",
      "1.772547495983608\n",
      "1.7577496529372603\n",
      "1.7101570812702012\n",
      "1.6536219743578642\n",
      "1.6342160293950674\n",
      "1.61682728134552\n",
      "1.5836222577253645\n",
      "1.5548643487872564\n",
      "1.539082529630432\n",
      "1.5255576195417302\n",
      "1.4985927929986618\n",
      "1.4745882011642366\n",
      "1.4584499315878932\n",
      "1.4428208658241024\n",
      "1.4214747873349387\n",
      "1.4104668359919519\n",
      "1.3974828806662094\n",
      "1.3816734692980999\n",
      "1.3576693077420392\n",
      "1.3465710233197195\n",
      "1.3320417985178874\n",
      "1.316060807584425\n",
      "1.3093812691822426\n",
      "1.306942939634734\n",
      "1.2854246258352149\n",
      "1.2657705860790749\n",
      "1.25837826803841\n",
      "1.252337404430388\n",
      "1.2289237948085312\n",
      "1.2118836727492197\n",
      "1.2014217320361773\n",
      "1.1912999891628733\n",
      "1.1771451286670007\n",
      "1.1702365135318866\n",
      "1.162259651860328\n",
      "1.1534447350254704\n",
      "1.138245988942171\n",
      "1.134814296814335\n",
      "1.1292666353408276\n",
      "1.1205886117969899\n",
      "1.1041458165949773\n",
      "1.101879515106946\n",
      "1.0962053153604967\n",
      "1.0850440603001827\n",
      "1.0699746646960386\n",
      "1.064592528199883\n",
      "1.0570669281668081\n",
      "1.0470999861877137\n",
      "1.0437767077113942\n",
      "1.0398496477451293\n",
      "1.0305827627463127\n",
      "1.0187164167347127\n",
      "1.0144034072318973\n",
      "1.0083434131576188\n",
      "0.9991160786194623\n",
      "0.9977440140257416\n",
      "0.9956266051796491\n",
      "0.987138530872239\n",
      "0.9745689348270268\n",
      "0.972033626646827\n",
      "0.9669404836396585\n",
      "0.9573297313557665\n",
      "0.9475629758736872\n",
      "0.9423645465880793\n",
      "0.9364536853126101\n",
      "0.9349318079342299\n",
      "0.9244228299341533\n",
      "0.9193148344153051\n",
      "0.9136021930274107\n",
      "0.9102815612732094\n",
      "0.9077229604413422\n",
      "0.902809951514385\n",
      "0.8950963779851447\n",
      "0.8940745240108836\n",
      "0.8917811521998823\n",
      "0.8848243251114142\n",
      "0.8754954565226734\n",
      "0.8728394198785139\n",
      "0.8684511060271727\n",
      "0.8618215800073584\n",
      "0.8608862610759695\n",
      "0.859268756852972\n",
      "0.8530486646062643\n",
      "0.8446105861391022\n",
      "0.8427142948869897\n",
      "0.8392543256009368\n",
      "0.832611143635584\n",
      "0.8260833924633115\n",
      "0.8224865828097749\n",
      "0.8184343159541874\n",
      "0.8174402089872866\n",
      "0.8101187630763047\n",
      "0.8065536895697037\n",
      "0.8025578512632793\n",
      "0.8003962951054296\n",
      "0.7989289244436029\n",
      "0.7951820104958409\n",
      "0.789787253057762\n",
      "0.7893172760996037\n",
      "0.7883523072201561\n",
      "0.7826076730074996\n",
      "0.775970682735191\n",
      "0.7742766078908425\n",
      "0.7715180304643344\n",
      "0.7660567883255618\n",
      "0.7611896203993195\n",
      "0.7582191372963377\n",
      "0.7550160740206482\n",
      "0.7534326223178239\n",
      "0.7530097749776851\n",
      "0.7502987643322587\n",
      "0.745710613013178\n",
      "0.7398959356238516\n",
      "0.737543924056786\n",
      "0.734377996135009\n",
      "0.7309263709450673\n",
      "Stability correcting joint\n",
      "63.44562282549017\n",
      "63.33964867325139\n",
      "63.24708702416554\n",
      "63.17645550791292\n",
      "63.16300537326072\n",
      "63.09281247246729\n",
      "63.015955714771124\n",
      "63.00733348967422\n",
      "62.92402294160897\n",
      "62.86215697787599\n",
      "62.83785950666001\n",
      "62.814699688806996\n",
      "62.72507826712437\n",
      "62.6818017230966\n",
      "62.65180107668612\n",
      "62.621767054387405\n",
      "62.61186320556711\n",
      "62.55303249619638\n",
      "62.54830225031797\n",
      "62.49970478311591\n",
      "62.46897038591717\n",
      "62.432703936643584\n",
      "62.42090184683488\n",
      "62.40865119441331\n",
      "62.323566292810945\n",
      "62.29531995611515\n",
      "62.24427286870217\n",
      "62.24121232578909\n",
      "62.21003280912517\n",
      "62.14657728129589\n",
      "62.10829995798483\n",
      "62.05630187948278\n",
      "62.03641541938982\n",
      "62.00040237957261\n",
      "61.995858549511766\n",
      "61.92144219988966\n",
      "61.826251637981706\n",
      "61.69763209318506\n",
      "61.65329228472522\n",
      "61.56087878529577\n",
      "61.50707808616835\n",
      "61.47200977829418\n",
      "61.40802047518447\n",
      "61.33546391766206\n",
      "61.242852992121215\n",
      "61.15295511759586\n",
      "61.13719311879078\n",
      "61.04772635222132\n",
      "61.0136642267724\n",
      "60.96495872058455\n",
      "60.85542088207571\n",
      "60.781719185361034\n",
      "60.62048709297602\n",
      "60.51970955948259\n",
      "60.49044625403617\n",
      "60.48662409459361\n",
      "60.35905360615242\n",
      "60.26532697025027\n",
      "60.14925466044646\n",
      "60.00607979195716\n",
      "59.89171085626979\n",
      "59.79720505023294\n",
      "59.729788507089054\n",
      "59.67940398464321\n",
      "59.67387642311037\n"
     ]
    }
   ],
   "source": [
    "# PFC only\n",
    "loader_args = [{'bin_width':25, 'epoch': epoch, 'filter_fn':'none', 'filter_kwargs':{}, 'boxcox':0.5, 'spike_threshold':100}\n",
    "               for epoch in np.arange(2, 18, 2)]\n",
    "\n",
    "etrainHPc = np.zeros((len(loader_args), 5, 5, 5))\n",
    "etestHPc = np.zeros((len(loader_args), 5, 5, 5))\n",
    "\n",
    "etrainOFC = np.zeros((len(loader_args), 5, 5, 5))\n",
    "etestOFC = np.zeros((len(loader_args), 5, 5, 5))\n",
    "\n",
    "etrainjoint = np.zeros((len(loader_args), 5, 5, 5))\n",
    "etestjoint = np.zeros((len(loader_args), 5, 5, 5))\n",
    "\n",
    "etrainjointHPc = np.zeros((len(loader_args), 5, 5, 5))\n",
    "etestjointHPc = np.zeros((len(loader_args), 5, 5, 5))\n",
    "\n",
    "etrainjointOFC = np.zeros((len(loader_args), 5, 5, 5))\n",
    "etestjointOFC = np.zeros((len(loader_args), 5, 5, 5))\n",
    "\n",
    "for i, loader_arg in tqdm(enumerate(loader_args)):\n",
    "    dat = load_peanut(data_file, **loader_arg, region='both')\n",
    "    tmp = deepcopy(loader_arg)\n",
    "    tmp['region'] = 'HPc'\n",
    "    datHPc = load_peanut(data_file, **tmp)\n",
    "    HPc_size = datHPc['spike_rates'].shape[-1]\n",
    "    y = np.squeeze(dat['spike_rates'])\n",
    "    fold_idx = 0\n",
    "    for j, (train_idxs, test_idxs) in enumerate(KFold(5).split(y)):\n",
    "        ccm_train = estimate_autocorrelation(y[train_idxs], 5)\n",
    "        ccm_test = estimate_autocorrelation(y[test_idxs], 5)\n",
    "\n",
    "        ccm_train_HPc = [c[0:HPc_size, 0:HPc_size] for c in ccm_train]\n",
    "        ccm_test_HPc = [c[0:HPc_size, 0:HPc_size] for c in ccm_test]\n",
    "\n",
    "        ccm_train_OFC = [c[HPc_size:, HPc_size:] for c in ccm_train]\n",
    "        ccm_test_OFC = [c[HPc_size:, HPc_size:] for c in ccm_test]\n",
    "\n",
    "        for k, var_order in enumerate([1, 2, 3, 4, 5]):\n",
    "            df_hpc = apply_df_filters(peanut_df, epoch=loader_arg['epoch'], fold_idx=fold_idx, order=var_order, region='HPc')\n",
    "            df_ofc = apply_df_filters(peanut_df, epoch=loader_arg['epoch'], fold_idx=fold_idx, order=var_order, region='OFC')\n",
    "            df_both = apply_df_filters(peanut_df, epoch=loader_arg['epoch'], fold_idx=fold_idx, order=var_order, region='both')\n",
    "\n",
    "            assert(df_hpc.shape[0] == 1)\n",
    "            assert(df_ofc.shape[0] == 1)\n",
    "            assert(df_both.shape[0] == 1)\n",
    "\n",
    "            var_hpc = VARss(df_hpc.iloc[0]['coef'])            \n",
    "            var_ofc = VARss(df_ofc.iloc[0]['coef'])            \n",
    "            var_both = VARss(df_both.iloc[0]['coef'])            \n",
    "\n",
    "            # Stability correction\n",
    "            if max(np.abs(np.linalg.eigvals(var_hpc.A))) > 0.999:\n",
    "                print('Stability correcting HPC')\n",
    "                try:\n",
    "                    A = dstable_descent(var_hpc.A, init='random', maxiter=200)\n",
    "                    var_hpc.A = A\n",
    "                except:\n",
    "                    pass\n",
    "            if max(np.abs(np.linalg.eigvals(var_ofc.A))) > 0.999:\n",
    "                print('Stability correcting OFC')\n",
    "                try:\n",
    "                    A = dstable_descent(var_ofc.A, init='random', maxiter=200)\n",
    "                    var_ofc.A = A\n",
    "                except:\n",
    "                    pass\n",
    "            if max(np.abs(np.linalg.eigvals(var_both.A))) > 0.999:\n",
    "                print('Stability correcting joint')\n",
    "                try:\n",
    "                    A = dstable_descent(var_both.A, init='random', maxiter=200)\n",
    "                    var_both.A = A\n",
    "                except:\n",
    "                    pass\n",
    "\n",
    "            hpcccm = var_hpc.autocorrelation(5)\n",
    "            ofcccm = var_ofc.autocorrelation(5)\n",
    "            jointccm = var_both.autocorrelation(5)\n",
    "\n",
    "            etrainHPc[i, j, k] = [np.linalg.norm(ccm_train_HPc[idx] - hpcccm[idx]) for idx in range(5)]\n",
    "            etestHPc[i, j, k] = [np.linalg.norm(ccm_test_HPc[idx] - hpcccm[idx]) for idx in range(5)]\n",
    "            \n",
    "            etrainOFC[i, j, k] = [np.linalg.norm(ccm_train_OFC[idx] - ofcccm[idx]) for idx in range(5)]\n",
    "            etestOFC[i, j, k] = [np.linalg.norm(ccm_test_OFC[idx] - ofcccm[idx]) for idx in range(5)]\n",
    "            \n",
    "            etrainjoint[i, j, k] = [np.linalg.norm(ccm_train[idx] - jointccm[idx]) for idx in range(5)]\n",
    "            etestjoint[i, j, k] = [np.linalg.norm(ccm_test[idx] - jointccm[idx]) for idx in range(5)]\n",
    "\n",
    "            etrainjointHPc[i, j, k] = [np.linalg.norm(ccm_train_HPc[idx] - jointccm[idx][0:HPc_size, 0:HPc_size]) for idx in range(5)]\n",
    "            etestjointHPc[i, j, k] = [np.linalg.norm(ccm_test_HPc[idx] - jointccm[idx][0:HPc_size, 0:HPc_size]) for idx in range(5)]\n",
    "\n",
    "            etrainjointOFC[i, j, k] = [np.linalg.norm(ccm_train_OFC[idx] - jointccm[idx][HPc_size:, HPc_size:]) for idx in range(5)]\n",
    "            etestjointOFC[i, j, k] = [np.linalg.norm(ccm_test_OFC[idx] - jointccm[idx][HPc_size:, HPc_size:]) for idx in range(5)]\n",
    "\n",
    "        fold_idx += 1   "
   ]
  },
  {
   "cell_type": "code",
   "execution_count": 148,
   "metadata": {},
   "outputs": [],
   "source": [
    "# Peanut requires stability regularization"
   ]
  },
  {
   "cell_type": "code",
   "execution_count": 147,
   "metadata": {},
   "outputs": [
    {
     "data": {
      "image/png": "[encoded data removed]",
      "text/plain": [
       "<Figure size 2880x720 with 16 Axes>"
      ]
     },
     "metadata": {
      "needs_background": "light"
     },
     "output_type": "display_data"
    }
   ],
   "source": [
    "# Plot\n",
    "# Plot for each data file the average across var order\n",
    "fig, ax = plt.subplots(2, 8, figsize=(40, 10))\n",
    "for i in range(etestHPc.shape[0]):\n",
    "    ax[0, i].plot(np.mean(etestHPc[i, ...], axis=0))\n",
    "    ax[1, i].plot(np.mean(etestjointHPc[i, ...], axis=0))"
   ]
  },
  {
   "cell_type": "markdown",
   "metadata": {},
   "source": [
    "### Fitting (CV)"
   ]
  },
  {
   "cell_type": "code",
   "execution_count": 7,
   "metadata": {},
   "outputs": [],
   "source": [
    "import pickle\n",
    "import h5py\n",
    "from sklearn.model_selection import KFold"
   ]
  },
  {
   "cell_type": "code",
   "execution_count": 8,
   "metadata": {},
   "outputs": [],
   "source": [
    "f = h5py.File('/home/akumar/nse/neural_control/data/EC2_hg.h5', 'r')"
   ]
  },
  {
   "cell_type": "code",
   "execution_count": 9,
   "metadata": {},
   "outputs": [],
   "source": [
    "X = np.squeeze(f['X'])\n",
    "y = np.array(f['y'])"
   ]
  },
  {
   "cell_type": "code",
   "execution_count": 10,
   "metadata": {},
   "outputs": [],
   "source": [
    "# Remove 'thee'\n",
    "theeless = np.where(y != b'thee')[0]\n",
    "X = X[theeless, ...]\n",
    "y = y[theeless]"
   ]
  },
  {
   "cell_type": "code",
   "execution_count": 11,
   "metadata": {},
   "outputs": [
    {
     "data": {
      "text/plain": [
       "(2566, 258, 86)"
      ]
     },
     "execution_count": 11,
     "metadata": {},
     "output_type": "execute_result"
    }
   ],
   "source": [
    "X.shape"
   ]
  },
  {
   "cell_type": "code",
   "execution_count": 57,
   "metadata": {},
   "outputs": [
    {
     "name": "stderr",
     "output_type": "stream",
     "text": [
      "Rows of VAR matrix processed: 86it [01:22,  1.04it/s]\n",
      "Rows of VAR matrix processed: 86it [02:50,  1.99s/it]\n",
      "Rows of VAR matrix processed: 86it [05:10,  3.61s/it]\n",
      "Rows of VAR matrix processed: 86it [07:24,  5.17s/it]\n",
      "Rows of VAR matrix processed: 86it [09:36,  6.71s/it]\n",
      "Rows of VAR matrix processed: 86it [01:21,  1.06it/s]\n",
      "Rows of VAR matrix processed: 86it [02:38,  1.84s/it]\n",
      "Rows of VAR matrix processed: 86it [04:52,  3.40s/it]\n",
      "Rows of VAR matrix processed: 86it [07:02,  4.92s/it]\n",
      "Rows of VAR matrix processed: 86it [09:43,  6.78s/it]\n",
      "Rows of VAR matrix processed: 86it [01:21,  1.06it/s]\n",
      "Rows of VAR matrix processed: 86it [02:42,  1.89s/it]\n",
      "Rows of VAR matrix processed: 86it [04:40,  3.27s/it]\n",
      "Rows of VAR matrix processed: 86it [06:51,  4.79s/it]\n",
      "Rows of VAR matrix processed: 86it [09:25,  6.58s/it]\n",
      "Rows of VAR matrix processed: 86it [01:20,  1.06it/s]\n",
      "Rows of VAR matrix processed: 86it [02:40,  1.86s/it]\n",
      "Rows of VAR matrix processed: 86it [04:39,  3.25s/it]\n",
      "Rows of VAR matrix processed: 86it [06:50,  4.78s/it]\n",
      "Rows of VAR matrix processed: 86it [09:24,  6.56s/it]\n",
      "Rows of VAR matrix processed: 86it [01:20,  1.06it/s]\n",
      "Rows of VAR matrix processed: 86it [02:40,  1.86s/it]\n",
      "Rows of VAR matrix processed: 86it [04:39,  3.26s/it]\n",
      "Rows of VAR matrix processed: 86it [06:51,  4.78s/it]\n",
      "Rows of VAR matrix processed: 86it [09:24,  6.57s/it]\n"
     ]
    }
   ],
   "source": [
    "cv_result_list = []\n",
    "fold_idx = 0 \n",
    "\n",
    "# Cross-validated marginal models\n",
    "for train_idxs, test_idxs in KFold(5).split(X):\n",
    "\n",
    "    ccm_train = estimate_autocorrelation(X[train_idxs], 5)\n",
    "    ccm_test = estimate_autocorrelation(X[test_idxs], 5)\n",
    "\n",
    "    for var_order in [1, 2, 3, 4, 5]:\n",
    "        \n",
    "        results = {}\n",
    "        results['fold_idx'] = fold_idx\n",
    "        results['var_order'] = var_order\n",
    "        results['ccm_train'] = ccm_train\n",
    "        results['ccm_test'] = ccm_test\n",
    "\n",
    "        varmodel = VAR(estimator='ols', order=var_order)\n",
    "        varmodel.fit(X[train_idxs])\n",
    "        results['coef'] = varmodel.coef_\n",
    "        cv_result_list.append(results)\n",
    "\n",
    "    fold_idx += 1   "
   ]
  },
  {
   "cell_type": "code",
   "execution_count": 12,
   "metadata": {},
   "outputs": [],
   "source": [
    "# with open('cv_result_list.dat', 'wb') as f:\n",
    "#     f.write(pickle.dumps(cv_result_list))\n",
    "with open('cv_result_list.dat', 'rb') as f:\n",
    "    cv_result_list = pickle.load(f)"
   ]
  },
  {
   "cell_type": "code",
   "execution_count": 13,
   "metadata": {},
   "outputs": [],
   "source": [
    "cv_df = pd.DataFrame(cv_result_list)"
   ]
  },
  {
   "cell_type": "code",
   "execution_count": 14,
   "metadata": {},
   "outputs": [],
   "source": [
    "etrain = np.zeros((5, 5, 5))\n",
    "etest = np.zeros((5, 5, 5))\n",
    "\n",
    "fold_idx = 0\n",
    "for j, (train_idxs, test_idxs) in enumerate(KFold(5).split(X)):\n",
    "    ccm_train = estimate_autocorrelation(X[train_idxs], 5)\n",
    "    ccm_test = estimate_autocorrelation(X[test_idxs], 5)\n",
    "    \n",
    "    for k, var_order in enumerate([1, 2, 3, 4, 5]):\n",
    "        df_ = apply_df_filters(cv_df, fold_idx=fold_idx, var_order=var_order)\n",
    "        assert(df_.shape[0] == 1)\n",
    "        varss = VARss(df_.iloc[0]['coef'])\n",
    "        etrain[j, k] = [np.linalg.norm(ccm_train[idx] - varss.autocorrelation(5)[idx]) for idx in range(5)]\n",
    "        etest[j, k] = [np.linalg.norm(ccm_test[idx] - varss.autocorrelation(5)[idx]) for idx in range(5)]\n",
    "\n",
    "    fold_idx += 1"
   ]
  },
  {
   "cell_type": "code",
   "execution_count": 17,
   "metadata": {},
   "outputs": [],
   "source": [
    "with open('CV_ccm_errors.dat', 'wb') as f:\n",
    "    f.write(pickle.dumps(etest))\n",
    "    f.write(pickle.dumps(etrain))"
   ]
  },
  {
   "cell_type": "code",
   "execution_count": 15,
   "metadata": {},
   "outputs": [
    {
     "data": {
      "text/plain": [
       "[<matplotlib.lines.Line2D at 0x7ff7a23f5990>,\n",
       " <matplotlib.lines.Line2D at 0x7ff7972e94d0>,\n",
       " <matplotlib.lines.Line2D at 0x7ff7972e9690>,\n",
       " <matplotlib.lines.Line2D at 0x7ff7972e9850>,\n",
       " <matplotlib.lines.Line2D at 0x7ff7972e9a10>]"
      ]
     },
     "execution_count": 15,
     "metadata": {},
     "output_type": "execute_result"
    },
    {
     "data": {
      "image/png": "[encoded data removed]",
      "text/plain": [
       "<Figure size 432x288 with 1 Axes>"
      ]
     },
     "metadata": {
      "needs_background": "light"
     },
     "output_type": "display_data"
    }
   ],
   "source": [
    "plt.plot(np.mean(etest, axis=0))"
   ]
  },
  {
   "cell_type": "code",
   "execution_count": 32,
   "metadata": {},
   "outputs": [
    {
     "data": {
      "text/plain": [
       "0"
      ]
     },
     "execution_count": 32,
     "metadata": {},
     "output_type": "execute_result"
    }
   ],
   "source": [
    "np.argmin(np.sum(etest[:, 1, :], axis=-1))"
   ]
  },
  {
   "cell_type": "code",
   "execution_count": 34,
   "metadata": {},
   "outputs": [
    {
     "data": {
      "text/plain": [
       "(-1.02, 1.02)"
      ]
     },
     "execution_count": 34,
     "metadata": {},
     "output_type": "execute_result"
    },
    {
     "data": {
      "image/png": "[encoded data removed]",
      "text/plain": [
       "<Figure size 360x360 with 1 Axes>"
      ]
     },
     "metadata": {
      "needs_background": "light"
     },
     "output_type": "display_data"
    }
   ],
   "source": [
    "fig, ax = plt.subplots(1, 1, figsize=(5,5))\n",
    "best_fold = 0\n",
    "df_ = apply_df_filters(cv_df, fold_idx = best_fold, var_order=2)\n",
    "A = form_companion(df_.iloc[0]['coef'])\n",
    "eig, _ = np.linalg.eig(A)\n",
    "circle1 = plt.Circle((0, 0), 1, color='k', fill=False, linestyle='--')\n",
    "ax.scatter(np.real(eig), np.imag(eig), alpha=0.35)\n",
    "ax.add_patch(circle1)\n",
    "ax.set_xlim([-1.02, 1.02])\n",
    "ax.set_ylim([-1.02, 1.02])\n"
   ]
  },
  {
   "cell_type": "code",
   "execution_count": 4,
   "metadata": {},
   "outputs": [],
   "source": [
    "from pseudopy import NonnormalAuto, Normal"
   ]
  },
  {
   "cell_type": "code",
   "execution_count": 39,
   "metadata": {},
   "outputs": [],
   "source": [
    "pseudo_normal = Normal(A)"
   ]
  },
  {
   "cell_type": "code",
   "execution_count": 42,
   "metadata": {},
   "outputs": [
    {
     "ename": "KeyboardInterrupt",
     "evalue": "",
     "output_type": "error",
     "traceback": [
      "\u001b[0;31m---------------------------------------------------------------------------\u001b[0m",
      "\u001b[0;31mKeyboardInterrupt\u001b[0m                         Traceback (most recent call last)",
      "\u001b[0;32m<ipython-input-42-3afded1e34ef>\u001b[0m in \u001b[0;36m<module>\u001b[0;34m\u001b[0m\n\u001b[0;32m----> 1\u001b[0;31m \u001b[0mpseudo\u001b[0m \u001b[0;34m=\u001b[0m \u001b[0mNonnormalAuto\u001b[0m\u001b[0;34m(\u001b[0m\u001b[0mA\u001b[0m\u001b[0;34m,\u001b[0m \u001b[0;36m1e-5\u001b[0m\u001b[0;34m,\u001b[0m \u001b[0;36m1\u001b[0m\u001b[0;34m)\u001b[0m\u001b[0;34m\u001b[0m\u001b[0;34m\u001b[0m\u001b[0m\n\u001b[0m",
      "\u001b[0;32m~/anaconda3/envs/dyn/lib/python3.7/site-packages/pseudopy/nonnormal.py\u001b[0m in \u001b[0;36m__init__\u001b[0;34m(self, A, eps_min, eps_max, n_circles, n_points, randomize, **kwargs)\u001b[0m\n\u001b[1;32m    263\u001b[0m                                          \u001b[0mtrans\u001b[0m\u001b[0;34m=\u001b[0m\u001b[0;34m'T'\u001b[0m\u001b[0;34m\u001b[0m\u001b[0;34m\u001b[0m\u001b[0m\n\u001b[1;32m    264\u001b[0m                                          )\n\u001b[0;32m--> 265\u001b[0;31m                     \u001b[0msep_min\u001b[0m \u001b[0;34m=\u001b[0m \u001b[0mnumpy\u001b[0m\u001b[0;34m.\u001b[0m\u001b[0mmin\u001b[0m\u001b[0;34m(\u001b[0m\u001b[0msvdvals\u001b[0m\u001b[0;34m(\u001b[0m\u001b[0mM_tmp\u001b[0m \u001b[0;34m-\u001b[0m \u001b[0mT\u001b[0m\u001b[0;34m[\u001b[0m\u001b[0;36m0\u001b[0m\u001b[0;34m,\u001b[0m \u001b[0;36m0\u001b[0m\u001b[0;34m]\u001b[0m\u001b[0;34m*\u001b[0m\u001b[0mnumpy\u001b[0m\u001b[0;34m.\u001b[0m\u001b[0meye\u001b[0m\u001b[0;34m(\u001b[0m\u001b[0;34m*\u001b[0m\u001b[0mM_tmp\u001b[0m\u001b[0;34m.\u001b[0m\u001b[0mshape\u001b[0m\u001b[0;34m)\u001b[0m\u001b[0;34m)\u001b[0m\u001b[0;34m)\u001b[0m\u001b[0;34m\u001b[0m\u001b[0;34m\u001b[0m\u001b[0m\n\u001b[0m\u001b[1;32m    266\u001b[0m                     \u001b[0msep_max\u001b[0m \u001b[0;34m=\u001b[0m \u001b[0mnumpy\u001b[0m\u001b[0;34m.\u001b[0m\u001b[0mmin\u001b[0m\u001b[0;34m(\u001b[0m\u001b[0mnumpy\u001b[0m\u001b[0;34m.\u001b[0m\u001b[0mabs\u001b[0m\u001b[0;34m(\u001b[0m\u001b[0mT\u001b[0m\u001b[0;34m[\u001b[0m\u001b[0;36m0\u001b[0m\u001b[0;34m,\u001b[0m \u001b[0;36m0\u001b[0m\u001b[0;34m]\u001b[0m \u001b[0;34m-\u001b[0m \u001b[0mnumpy\u001b[0m\u001b[0;34m.\u001b[0m\u001b[0mdiag\u001b[0m\u001b[0;34m(\u001b[0m\u001b[0mM_tmp\u001b[0m\u001b[0;34m)\u001b[0m\u001b[0;34m)\u001b[0m\u001b[0;34m)\u001b[0m\u001b[0;34m\u001b[0m\u001b[0;34m\u001b[0m\u001b[0m\n\u001b[1;32m    267\u001b[0m                     \u001b[0mr_norm\u001b[0m \u001b[0;34m=\u001b[0m \u001b[0mnumpy\u001b[0m\u001b[0;34m.\u001b[0m\u001b[0mlinalg\u001b[0m\u001b[0;34m.\u001b[0m\u001b[0mnorm\u001b[0m\u001b[0;34m(\u001b[0m\u001b[0mr\u001b[0m\u001b[0;34m,\u001b[0m \u001b[0;36m2\u001b[0m\u001b[0;34m)\u001b[0m\u001b[0;34m\u001b[0m\u001b[0;34m\u001b[0m\u001b[0m\n",
      "\u001b[0;32m~/anaconda3/envs/dyn/lib/python3.7/site-packages/scipy/linalg/decomp_svd.py\u001b[0m in \u001b[0;36msvdvals\u001b[0;34m(a, overwrite_a, check_finite)\u001b[0m\n\u001b[1;32m    223\u001b[0m     \u001b[0;32mif\u001b[0m \u001b[0ma\u001b[0m\u001b[0;34m.\u001b[0m\u001b[0msize\u001b[0m\u001b[0;34m:\u001b[0m\u001b[0;34m\u001b[0m\u001b[0;34m\u001b[0m\u001b[0m\n\u001b[1;32m    224\u001b[0m         return svd(a, compute_uv=0, overwrite_a=overwrite_a,\n\u001b[0;32m--> 225\u001b[0;31m                    check_finite=False)\n\u001b[0m\u001b[1;32m    226\u001b[0m     \u001b[0;32melif\u001b[0m \u001b[0mlen\u001b[0m\u001b[0;34m(\u001b[0m\u001b[0ma\u001b[0m\u001b[0;34m.\u001b[0m\u001b[0mshape\u001b[0m\u001b[0;34m)\u001b[0m \u001b[0;34m!=\u001b[0m \u001b[0;36m2\u001b[0m\u001b[0;34m:\u001b[0m\u001b[0;34m\u001b[0m\u001b[0;34m\u001b[0m\u001b[0m\n\u001b[1;32m    227\u001b[0m         \u001b[0;32mraise\u001b[0m \u001b[0mValueError\u001b[0m\u001b[0;34m(\u001b[0m\u001b[0;34m'expected matrix'\u001b[0m\u001b[0;34m)\u001b[0m\u001b[0;34m\u001b[0m\u001b[0;34m\u001b[0m\u001b[0m\n",
      "\u001b[0;32m~/anaconda3/envs/dyn/lib/python3.7/site-packages/scipy/linalg/decomp_svd.py\u001b[0m in \u001b[0;36msvd\u001b[0;34m(a, full_matrices, compute_uv, overwrite_a, check_finite, lapack_driver)\u001b[0m\n\u001b[1;32m    124\u001b[0m     \u001b[0;31m# perform decomposition\u001b[0m\u001b[0;34m\u001b[0m\u001b[0;34m\u001b[0m\u001b[0;34m\u001b[0m\u001b[0m\n\u001b[1;32m    125\u001b[0m     u, s, v, info = gesXd(a1, compute_uv=compute_uv, lwork=lwork,\n\u001b[0;32m--> 126\u001b[0;31m                           full_matrices=full_matrices, overwrite_a=overwrite_a)\n\u001b[0m\u001b[1;32m    127\u001b[0m \u001b[0;34m\u001b[0m\u001b[0m\n\u001b[1;32m    128\u001b[0m     \u001b[0;32mif\u001b[0m \u001b[0minfo\u001b[0m \u001b[0;34m>\u001b[0m \u001b[0;36m0\u001b[0m\u001b[0;34m:\u001b[0m\u001b[0;34m\u001b[0m\u001b[0;34m\u001b[0m\u001b[0m\n",
      "\u001b[0;31mKeyboardInterrupt\u001b[0m: "
     ]
    }
   ],
   "source": [
    "pseudo = NonnormalAuto(A, 1e-5, 1)"
   ]
  },
  {
   "cell_type": "code",
   "execution_count": 5,
   "metadata": {},
   "outputs": [],
   "source": [
    "Atest = np.random.normal(size=(10, 10))"
   ]
  },
  {
   "cell_type": "code",
   "execution_count": 6,
   "metadata": {},
   "outputs": [
    {
     "name": "stdout",
     "output_type": "stream",
     "text": [
      "0.022140026092529297\n",
      "0.3082287311553955\n"
     ]
    }
   ],
   "source": [
    "pseudo = NonnormalAuto(Atest, 1e-5, 1)"
   ]
  },
  {
   "cell_type": "markdown",
   "metadata": {},
   "source": [
    "### Fitting (PVC)"
   ]
  },
  {
   "cell_type": "code",
   "execution_count": 60,
   "metadata": {},
   "outputs": [],
   "source": [
    "from scipy import io"
   ]
  },
  {
   "cell_type": "code",
   "execution_count": null,
   "metadata": {},
   "outputs": [],
   "source": [
    "# Subspace angles/Spearman correlation"
   ]
  },
  {
   "cell_type": "markdown",
   "metadata": {},
   "source": [
    "### LQGCA subspace angles"
   ]
  },
  {
   "cell_type": "code",
   "execution_count": 12,
   "metadata": {},
   "outputs": [],
   "source": [
    "# Should already exist for indy, extend for LOCO here\n",
    "loco_files = glob('/mnt/Secondary/data/sabes/loco*')"
   ]
  },
  {
   "cell_type": "code",
   "execution_count": null,
   "metadata": {},
   "outputs": [],
   "source": []
  }
 ],
 "metadata": {
  "interpreter": {
   "hash": "c52494c424e88c3f855a8aeb34b231af4706f7aa247f66fb47c890a5ab8814ab"
  },
  "kernelspec": {
   "display_name": "Python 3.7.10 64-bit ('dyn': conda)",
   "language": "python",
   "name": "python3"
  },
  "language_info": {
   "codemirror_mode": {
    "name": "ipython",
    "version": 3
   },
   "file_extension": ".py",
   "mimetype": "text/x-python",
   "name": "python",
   "nbconvert_exporter": "python",
   "pygments_lexer": "ipython3",
   "version": "3.7.10"
  },
  "orig_nbformat": 4
 },
 "nbformat": 4,
 "nbformat_minor": 2
}
