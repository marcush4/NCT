{
 "cells": [
  {
   "cell_type": "code",
   "execution_count": 1,
   "metadata": {},
   "outputs": [],
   "source": [
    "import os\n",
    "import pickle"
   ]
  },
  {
   "cell_type": "code",
   "execution_count": 2,
   "metadata": {},
   "outputs": [],
   "source": [
    "# Define the path\n",
    "data_path = \"/clusterfs/NSDS_data/FCCA/data/AllenData\"\n",
    "preload_dict_path = data_path + '/preloaded/preloadDict.pickle'"
   ]
  },
  {
   "cell_type": "markdown",
   "metadata": {},
   "source": [
    "## Creating the preloaded object\n"
   ]
  },
  {
   "cell_type": "code",
   "execution_count": 3,
   "metadata": {},
   "outputs": [],
   "source": [
    "# Create the directory if it doesn't exist\n",
    "os.makedirs(os.path.dirname(preload_dict_path), exist_ok=True)\n",
    "\n",
    "preload_dict = {}\n",
    "\n",
    "# Save the object as a pickle file\n",
    "with open(preload_dict_path, 'wb') as f:\n",
    "    pickle.dump(preload_dict, f)"
   ]
  },
  {
   "cell_type": "markdown",
   "metadata": {},
   "source": [
    "## Evaluating the preloaded object\n"
   ]
  },
  {
   "cell_type": "code",
   "execution_count": 4,
   "metadata": {},
   "outputs": [],
   "source": [
    "with open(preload_dict_path, 'rb') as f:\n",
    "    preload_dict = pickle.load(f)\n",
    "\n",
    "for key, value in preload_dict.items():\n",
    "    print(f\"{key}: {value}\")"
   ]
  },
  {
   "cell_type": "markdown",
   "metadata": {},
   "source": [
    "## Deleting the preload object\n"
   ]
  },
  {
   "cell_type": "code",
   "execution_count": null,
   "metadata": {},
   "outputs": [],
   "source": [
    "# Check if the file exists, then delete it\n",
    "\"\"\"\" \n",
    "if os.path.exists(preload_dict_path):\n",
    "    os.remove(preload_dict_path)\n",
    "    print(f\"Deleted the pickle file: {preload_dict_path}\")\n",
    "\n",
    "else:\n",
    "    print(f\"File does not exist: {preload_dict_path}\")\n",
    "    \n",
    "\"\"\""
   ]
  },
  {
   "cell_type": "markdown",
   "metadata": {},
   "source": []
  }
 ],
 "metadata": {
  "kernelspec": {
   "display_name": "ncontrol",
   "language": "python",
   "name": "python3"
  },
  "language_info": {
   "codemirror_mode": {
    "name": "ipython",
    "version": 3
   },
   "file_extension": ".py",
   "mimetype": "text/x-python",
   "name": "python",
   "nbconvert_exporter": "python",
   "pygments_lexer": "ipython3",
   "version": "3.9.19"
  }
 },
 "nbformat": 4,
 "nbformat_minor": 2
}
