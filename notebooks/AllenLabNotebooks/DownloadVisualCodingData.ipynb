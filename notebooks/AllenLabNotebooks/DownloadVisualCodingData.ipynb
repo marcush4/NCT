{
 "cells": [
  {
   "cell_type": "markdown",
   "metadata": {},
   "source": [
    "# Make sure to have installed the Allen specific packages:\n",
    "\n",
    " - see here: https://allensdk.readthedocs.io/en/latest/install.html\n",
    " - or just: pip install allensdk\n"
   ]
  },
  {
   "cell_type": "markdown",
   "metadata": {
    "vscode": {
     "languageId": "plaintext"
    }
   },
   "source": [
    "# Begin loading data:"
   ]
  },
  {
   "cell_type": "code",
   "execution_count": 1,
   "metadata": {},
   "outputs": [
    {
     "name": "stderr",
     "output_type": "stream",
     "text": [
      "/home/marcush/Data/anaconda3/envs/ncontrol/lib/python3.9/site-packages/tqdm/auto.py:21: TqdmWarning: IProgress not found. Please update jupyter and ipywidgets. See https://ipywidgets.readthedocs.io/en/stable/user_install.html\n",
      "  from .autonotebook import tqdm as notebook_tqdm\n"
     ]
    }
   ],
   "source": [
    "import os\n",
    "\n",
    "import numpy as np\n",
    "import pandas as pd\n",
    "import matplotlib.pyplot as plt\n",
    "\n",
    "from allensdk.brain_observatory.ecephys.ecephys_project_cache import EcephysProjectCache"
   ]
  },
  {
   "cell_type": "markdown",
   "metadata": {},
   "source": [
    "### Set download path"
   ]
  },
  {
   "cell_type": "code",
   "execution_count": 2,
   "metadata": {},
   "outputs": [],
   "source": [
    "# Example cache directory path, it determines where downloaded data will be stored\n",
    "output_dir = '/home/marcush/Data/AllenData'\n",
    "\n",
    "# this path determines where downloaded data will be stored\n",
    "manifest_path = os.path.join(output_dir, \"manifest.json\")"
   ]
  },
  {
   "cell_type": "markdown",
   "metadata": {},
   "source": [
    "### Pull list of available datasets"
   ]
  },
  {
   "cell_type": "code",
   "execution_count": 3,
   "metadata": {},
   "outputs": [
    {
     "data": {
      "text/html": [
       "<div>\n",
       "<style scoped>\n",
       "    .dataframe tbody tr th:only-of-type {\n",
       "        vertical-align: middle;\n",
       "    }\n",
       "\n",
       "    .dataframe tbody tr th {\n",
       "        vertical-align: top;\n",
       "    }\n",
       "\n",
       "    .dataframe thead th {\n",
       "        text-align: right;\n",
       "    }\n",
       "</style>\n",
       "<table border=\"1\" class=\"dataframe\">\n",
       "  <thead>\n",
       "    <tr style=\"text-align: right;\">\n",
       "      <th></th>\n",
       "      <th>published_at</th>\n",
       "      <th>specimen_id</th>\n",
       "      <th>session_type</th>\n",
       "      <th>age_in_days</th>\n",
       "      <th>sex</th>\n",
       "      <th>full_genotype</th>\n",
       "      <th>unit_count</th>\n",
       "      <th>channel_count</th>\n",
       "      <th>probe_count</th>\n",
       "      <th>ecephys_structure_acronyms</th>\n",
       "    </tr>\n",
       "    <tr>\n",
       "      <th>id</th>\n",
       "      <th></th>\n",
       "      <th></th>\n",
       "      <th></th>\n",
       "      <th></th>\n",
       "      <th></th>\n",
       "      <th></th>\n",
       "      <th></th>\n",
       "      <th></th>\n",
       "      <th></th>\n",
       "      <th></th>\n",
       "    </tr>\n",
       "  </thead>\n",
       "  <tbody>\n",
       "    <tr>\n",
       "      <th>773418906</th>\n",
       "      <td>2019-10-03T00:00:00Z</td>\n",
       "      <td>757329624</td>\n",
       "      <td>brain_observatory_1.1</td>\n",
       "      <td>124.0</td>\n",
       "      <td>F</td>\n",
       "      <td>Pvalb-IRES-Cre/wt;Ai32(RCL-ChR2(H134R)_EYFP)/wt</td>\n",
       "      <td>546</td>\n",
       "      <td>2232</td>\n",
       "      <td>6</td>\n",
       "      <td>[PPT, NOT, SUB, ProS, CA1, VISam, nan, APN, DG...</td>\n",
       "    </tr>\n",
       "    <tr>\n",
       "      <th>791319847</th>\n",
       "      <td>2019-10-03T00:00:00Z</td>\n",
       "      <td>769360779</td>\n",
       "      <td>brain_observatory_1.1</td>\n",
       "      <td>116.0</td>\n",
       "      <td>M</td>\n",
       "      <td>Vip-IRES-Cre/wt;Ai32(RCL-ChR2(H134R)_EYFP)/wt</td>\n",
       "      <td>555</td>\n",
       "      <td>2229</td>\n",
       "      <td>6</td>\n",
       "      <td>[APN, DG, CA1, VISam, nan, LP, TH, VISpm, POL,...</td>\n",
       "    </tr>\n",
       "    <tr>\n",
       "      <th>797828357</th>\n",
       "      <td>2019-10-03T00:00:00Z</td>\n",
       "      <td>776061251</td>\n",
       "      <td>brain_observatory_1.1</td>\n",
       "      <td>107.0</td>\n",
       "      <td>M</td>\n",
       "      <td>Pvalb-IRES-Cre/wt;Ai32(RCL-ChR2(H134R)_EYFP)/wt</td>\n",
       "      <td>611</td>\n",
       "      <td>2232</td>\n",
       "      <td>6</td>\n",
       "      <td>[PPT, MB, APN, NOT, HPF, ProS, CA1, VISam, nan...</td>\n",
       "    </tr>\n",
       "    <tr>\n",
       "      <th>798911424</th>\n",
       "      <td>2019-10-03T00:00:00Z</td>\n",
       "      <td>775876828</td>\n",
       "      <td>brain_observatory_1.1</td>\n",
       "      <td>110.0</td>\n",
       "      <td>F</td>\n",
       "      <td>Vip-IRES-Cre/wt;Ai32(RCL-ChR2(H134R)_EYFP)/wt</td>\n",
       "      <td>825</td>\n",
       "      <td>2233</td>\n",
       "      <td>6</td>\n",
       "      <td>[APN, TH, Eth, LP, DG, HPF, CA3, CA1, VISrl, n...</td>\n",
       "    </tr>\n",
       "    <tr>\n",
       "      <th>799864342</th>\n",
       "      <td>2019-10-03T00:00:00Z</td>\n",
       "      <td>772616823</td>\n",
       "      <td>brain_observatory_1.1</td>\n",
       "      <td>129.0</td>\n",
       "      <td>M</td>\n",
       "      <td>wt/wt</td>\n",
       "      <td>604</td>\n",
       "      <td>2233</td>\n",
       "      <td>6</td>\n",
       "      <td>[APN, POL, LP, DG, CA1, VISrl, nan, LGd, CA3, ...</td>\n",
       "    </tr>\n",
       "  </tbody>\n",
       "</table>\n",
       "</div>"
      ],
      "text/plain": [
       "                   published_at  specimen_id           session_type  \\\n",
       "id                                                                    \n",
       "773418906  2019-10-03T00:00:00Z    757329624  brain_observatory_1.1   \n",
       "791319847  2019-10-03T00:00:00Z    769360779  brain_observatory_1.1   \n",
       "797828357  2019-10-03T00:00:00Z    776061251  brain_observatory_1.1   \n",
       "798911424  2019-10-03T00:00:00Z    775876828  brain_observatory_1.1   \n",
       "799864342  2019-10-03T00:00:00Z    772616823  brain_observatory_1.1   \n",
       "\n",
       "           age_in_days sex                                    full_genotype  \\\n",
       "id                                                                            \n",
       "773418906        124.0   F  Pvalb-IRES-Cre/wt;Ai32(RCL-ChR2(H134R)_EYFP)/wt   \n",
       "791319847        116.0   M    Vip-IRES-Cre/wt;Ai32(RCL-ChR2(H134R)_EYFP)/wt   \n",
       "797828357        107.0   M  Pvalb-IRES-Cre/wt;Ai32(RCL-ChR2(H134R)_EYFP)/wt   \n",
       "798911424        110.0   F    Vip-IRES-Cre/wt;Ai32(RCL-ChR2(H134R)_EYFP)/wt   \n",
       "799864342        129.0   M                                            wt/wt   \n",
       "\n",
       "           unit_count  channel_count  probe_count  \\\n",
       "id                                                  \n",
       "773418906         546           2232            6   \n",
       "791319847         555           2229            6   \n",
       "797828357         611           2232            6   \n",
       "798911424         825           2233            6   \n",
       "799864342         604           2233            6   \n",
       "\n",
       "                                  ecephys_structure_acronyms  \n",
       "id                                                            \n",
       "773418906  [PPT, NOT, SUB, ProS, CA1, VISam, nan, APN, DG...  \n",
       "791319847  [APN, DG, CA1, VISam, nan, LP, TH, VISpm, POL,...  \n",
       "797828357  [PPT, MB, APN, NOT, HPF, ProS, CA1, VISam, nan...  \n",
       "798911424  [APN, TH, Eth, LP, DG, HPF, CA3, CA1, VISrl, n...  \n",
       "799864342  [APN, POL, LP, DG, CA1, VISrl, nan, LGd, CA3, ...  "
      ]
     },
     "execution_count": 3,
     "metadata": {},
     "output_type": "execute_result"
    }
   ],
   "source": [
    "cache = EcephysProjectCache.from_warehouse(manifest=manifest_path)\n",
    "\n",
    "#print(cache.get_all_session_types()) # This has types 'brain_observatory_1.1' and 'functional_connectivity'. We're interested in the first.\n",
    "\n",
    "sessions = cache.get_session_table()\n",
    "brain_observatory_type_sessions = sessions[sessions[\"session_type\"] == \"brain_observatory_1.1\"]\n",
    "all_session_IDs = brain_observatory_type_sessions.index.tolist()\n",
    "\n",
    "brain_observatory_type_sessions.tail()"
   ]
  },
  {
   "cell_type": "markdown",
   "metadata": {},
   "source": [
    "## The first time this is called it will download the session data from the Allen websitre and create a folder for that session. After that it will load from the downloaded folder. "
   ]
  },
  {
   "cell_type": "markdown",
   "metadata": {},
   "source": [
    "### NOTE: these loaders require a particular file structure, so best to not move things around."
   ]
  },
  {
   "cell_type": "code",
   "execution_count": null,
   "metadata": {},
   "outputs": [
    {
     "name": "stderr",
     "output_type": "stream",
     "text": [
      "/home/marcush/Data/anaconda3/envs/ncontrol/lib/python3.9/site-packages/hdmf/utils.py:668: UserWarning: Ignoring cached namespace 'hdmf-common' version 1.1.3 because version 1.8.0 is already loaded.\n",
      "  return func(args[0], **pargs)\n",
      "/home/marcush/Data/anaconda3/envs/ncontrol/lib/python3.9/site-packages/hdmf/utils.py:668: UserWarning: Ignoring cached namespace 'core' version 2.2.2 because version 2.7.0 is already loaded.\n",
      "  return func(args[0], **pargs)\n"
     ]
    },
    {
     "name": "stdout",
     "output_type": "stream",
     "text": [
      "Done with 1 out of 32\n"
     ]
    },
    {
     "name": "stderr",
     "output_type": "stream",
     "text": [
      "/home/marcush/Data/anaconda3/envs/ncontrol/lib/python3.9/site-packages/hdmf/utils.py:668: UserWarning: Ignoring cached namespace 'hdmf-common' version 1.1.3 because version 1.8.0 is already loaded.\n",
      "  return func(args[0], **pargs)\n",
      "/home/marcush/Data/anaconda3/envs/ncontrol/lib/python3.9/site-packages/hdmf/utils.py:668: UserWarning: Ignoring cached namespace 'core' version 2.2.2 because version 2.7.0 is already loaded.\n",
      "  return func(args[0], **pargs)\n"
     ]
    },
    {
     "name": "stdout",
     "output_type": "stream",
     "text": [
      "Done with 2 out of 32\n"
     ]
    },
    {
     "name": "stderr",
     "output_type": "stream",
     "text": [
      "/home/marcush/Data/anaconda3/envs/ncontrol/lib/python3.9/site-packages/hdmf/utils.py:668: UserWarning: Ignoring cached namespace 'hdmf-common' version 1.1.3 because version 1.8.0 is already loaded.\n",
      "  return func(args[0], **pargs)\n",
      "/home/marcush/Data/anaconda3/envs/ncontrol/lib/python3.9/site-packages/hdmf/utils.py:668: UserWarning: Ignoring cached namespace 'core' version 2.2.2 because version 2.7.0 is already loaded.\n",
      "  return func(args[0], **pargs)\n"
     ]
    },
    {
     "name": "stdout",
     "output_type": "stream",
     "text": [
      "Done with 3 out of 32\n"
     ]
    },
    {
     "name": "stderr",
     "output_type": "stream",
     "text": [
      "/home/marcush/Data/anaconda3/envs/ncontrol/lib/python3.9/site-packages/hdmf/utils.py:668: UserWarning: Ignoring cached namespace 'hdmf-common' version 1.1.3 because version 1.8.0 is already loaded.\n",
      "  return func(args[0], **pargs)\n",
      "/home/marcush/Data/anaconda3/envs/ncontrol/lib/python3.9/site-packages/hdmf/utils.py:668: UserWarning: Ignoring cached namespace 'core' version 2.2.2 because version 2.7.0 is already loaded.\n",
      "  return func(args[0], **pargs)\n"
     ]
    }
   ],
   "source": [
    "for idx, session_id in enumerate(all_session_IDs):\n",
    "    \n",
    "    session = cache.get_session_data(session_id)\n",
    "        \n",
    "    print(f\"Done with {idx+1} out of {len(all_session_IDs)}\")\n",
    "    "
   ]
  },
  {
   "cell_type": "code",
   "execution_count": 6,
   "metadata": {},
   "outputs": [
    {
     "name": "stderr",
     "output_type": "stream",
     "text": [
      "/home/marcush/Data/anaconda3/envs/ncontrol/lib/python3.9/site-packages/hdmf/utils.py:668: UserWarning: Ignoring cached namespace 'hdmf-common' version 1.1.3 because version 1.8.0 is already loaded.\n",
      "  return func(args[0], **pargs)\n",
      "/home/marcush/Data/anaconda3/envs/ncontrol/lib/python3.9/site-packages/hdmf/utils.py:668: UserWarning: Ignoring cached namespace 'core' version 2.2.2 because version 2.7.0 is already loaded.\n",
      "  return func(args[0], **pargs)\n",
      "/home/marcush/Data/anaconda3/envs/ncontrol/lib/python3.9/site-packages/hdmf/utils.py:668: UserWarning: Ignoring cached namespace 'hdmf-common' version 1.1.3 because version 1.8.0 is already loaded.\n",
      "  return func(args[0], **pargs)\n",
      "/home/marcush/Data/anaconda3/envs/ncontrol/lib/python3.9/site-packages/hdmf/utils.py:668: UserWarning: Ignoring cached namespace 'core' version 2.2.2 because version 2.7.0 is already loaded.\n",
      "  return func(args[0], **pargs)\n",
      "/home/marcush/Data/anaconda3/envs/ncontrol/lib/python3.9/site-packages/hdmf/utils.py:668: UserWarning: Ignoring cached namespace 'hdmf-common' version 1.1.3 because version 1.8.0 is already loaded.\n",
      "  return func(args[0], **pargs)\n",
      "/home/marcush/Data/anaconda3/envs/ncontrol/lib/python3.9/site-packages/hdmf/utils.py:668: UserWarning: Ignoring cached namespace 'core' version 2.2.2 because version 2.7.0 is already loaded.\n",
      "  return func(args[0], **pargs)\n",
      "/home/marcush/Data/anaconda3/envs/ncontrol/lib/python3.9/site-packages/hdmf/utils.py:668: UserWarning: Ignoring cached namespace 'hdmf-common' version 1.1.3 because version 1.8.0 is already loaded.\n",
      "  return func(args[0], **pargs)\n",
      "/home/marcush/Data/anaconda3/envs/ncontrol/lib/python3.9/site-packages/hdmf/utils.py:668: UserWarning: Ignoring cached namespace 'core' version 2.2.2 because version 2.7.0 is already loaded.\n",
      "  return func(args[0], **pargs)\n"
     ]
    },
    {
     "data": {
      "text/plain": [
       "{'specimen_name': 'C57BL/6J-404553',\n",
       " 'session_type': 'brain_observatory_1.1',\n",
       " 'full_genotype': 'wt/wt',\n",
       " 'sex': 'M',\n",
       " 'age_in_days': 100.0,\n",
       " 'rig_equipment_name': 'NP.1',\n",
       " 'num_units': 824,\n",
       " 'num_channels': 1847,\n",
       " 'num_probes': 5,\n",
       " 'num_stimulus_presentations': 70388,\n",
       " 'session_start_time': datetime.datetime(2019, 1, 8, 16, 26, 20, tzinfo=tzoffset(None, -28800)),\n",
       " 'ecephys_session_id': 732592105,\n",
       " 'structure_acronyms': ['VISpm',\n",
       "  'grey',\n",
       "  nan,\n",
       "  'VISp',\n",
       "  'VISl',\n",
       "  'VISal',\n",
       "  'VISrl'],\n",
       " 'stimulus_names': ['spontaneous',\n",
       "  'gabors',\n",
       "  'flashes',\n",
       "  'drifting_gratings',\n",
       "  'natural_movie_three',\n",
       "  'natural_movie_one',\n",
       "  'static_gratings',\n",
       "  'natural_scenes']}"
      ]
     },
     "execution_count": 6,
     "metadata": {},
     "output_type": "execute_result"
    }
   ],
   "source": [
    "session.metadata\n"
   ]
  },
  {
   "cell_type": "code",
   "execution_count": null,
   "metadata": {},
   "outputs": [],
   "source": []
  }
 ],
 "metadata": {
  "kernelspec": {
   "display_name": "ncontrol",
   "language": "python",
   "name": "python3"
  },
  "language_info": {
   "codemirror_mode": {
    "name": "ipython",
    "version": 3
   },
   "file_extension": ".py",
   "mimetype": "text/x-python",
   "name": "python",
   "nbconvert_exporter": "python",
   "pygments_lexer": "ipython3",
   "version": "3.9.19"
  }
 },
 "nbformat": 4,
 "nbformat_minor": 2
}
